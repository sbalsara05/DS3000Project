{
 "cells": [
  {
   "cell_type": "markdown",
   "metadata": {},
   "source": [
    "This is the template for DS3000 Final data analysis project. Once you finish, please remove all my instructions. You do not need to exactly follow the structure in the template but please make sure you have all the components. Write your report in paragraphs. Only use bullet points when list something (eg: functions) "
   ]
  },
  {
   "cell_type": "markdown",
   "metadata": {},
   "source": [
    "# Investigating Palworld Through Data Analysis\n",
    "#### Team 11\n",
    "- Ansh Aggarwal\n",
    "- Sohum Balsara\n",
    "- Bear Smith"
   ]
  },
  {
   "cell_type": "code",
   "execution_count": 11,
   "metadata": {},
   "outputs": [],
   "source": [
    "# imports\n",
    "import requests\n",
    "from bs4 import BeautifulSoup\n",
    "import pandas as pd\n",
    "import seaborn as sns\n",
    "import plotly.express as px\n",
    "from sklearn.linear_model import LinearRegression\n",
    "from sklearn.model_selection import train_test_split\n",
    "from sklearn.metrics import r2_score\n",
    "from sklearn import tree\n",
    "import matplotlib.pyplot as plt\n",
    "from sklearn import tree"
   ]
  },
  {
   "cell_type": "markdown",
   "metadata": {},
   "source": [
    "## Introduction\n",
    "\n",
    "In this project we study Palworld, a survival and monster-taming video game in which players collect characters called Pals to battle each other and help build their bases. Each Pal has a different set of skills and qualifications, a combination of such features as their element type, their HP in battle, and their \"work suitability\" for various tasks like farming or electricity production. We want to learn about how those factors combine and influence each other, and what relationships that may not be stated outwardly can be found between them. This may help players better understand their game and be more successful at it, or at least increase their knowledge of the logic behind Palworld.\n",
    "\n",
    "Our primary research questions are:\n",
    "- How are a Pal's work suitability scores correlated to its other statistics, such as its element type or battle skills?\n",
    "- What relationship does Pal rarity have with their other statistics?"
   ]
  },
  {
   "cell_type": "markdown",
   "metadata": {},
   "source": [
    "## Data \n",
    "\n",
    "### Data Source\n",
    "- All data was taken from the [palworld.gg](\"https://palworld.gg\") database.\n",
    "- We scraped each Pal's name, ID number, rarity, element(s), work suitability type(s) and level(s), HP, and defense scores.\n",
    "- To make the data frame more easily filtered, the Pals' elements were listed using multiple boolean columns, each representing one element.\n",
    "- For that same reason, their work suitabilities were also listed by column, but instead of True or False, each value was the Pal's level in that suitability or Nan if they did not have it. That way, dropna can be used to filter the data frame by element type.\n",
    "- Finally, the Pals' HP and defense stats were converted to numbers in the data frame, so that mathematical operations can be done on those columns.\n",
    "\n",
    "### Webscraping and cleaning functions overview\n",
    "- `scrape_pal_ids()`\n",
    "    - Creates a data frame with all the Pals' names as its index and one column of data containing their IDs.\n",
    "- `scrape_pal_rarity()`\n",
    "    - Adds a column containing the rarity of each Pal to the given data frame.\n",
    "- `scrape_pal_elements()`\n",
    "    - Adds the element or elements of each Pal to the given data frame using one-hot columns.\n",
    "- `scrape_pal_work()`\n",
    "    - Adds the work suitability or suitabilities of each Pal to the given data frame, along with its level.\n",
    "- `scrape_pal_hp()`\n",
    "    - Adds a column containing the HP of each Pal to the given data frame.\n",
    "- `scrape_pal_defense()`\n",
    "    - Adds a column containing the defense score of each Pal to the given data frame.\n",
    "\n",
    "### Data overview\n",
    "You can see a couple rows of our data below. We store the Pals' rarity, their element or elements, their work suitabilities with levels, and their HP and defense scores, all of which are measured and modeled against each other in our analysis. Our target feature is always one of them. The data set is not perfect: For the purposes of analysis, it could stand to be larger, as 225 Pals is relatively few when they are split up among various permutations of 9 elements and 9 work suitabilities. However, that's out of our control. We could have scraped more of the Pals' battle statistics, since some interesting analysis could probably be done on that, but none of our present ideas required them."
   ]
  },
  {
   "cell_type": "code",
   "execution_count": null,
   "metadata": {},
   "outputs": [
    {
     "data": {
      "text/plain": [
       "Index(['ID', 'Rarity', 'Earth', 'Fire', 'Dragon', 'Dark', 'Electricity',\n",
       "       'Water', 'Ice', 'Leaf', 'Normal', 'Handiwork', 'Mining', 'Transporting',\n",
       "       'Number of work suitabilities', 'Deforesting', 'Kindling', 'Gathering',\n",
       "       'Generating Electricity', 'Watering', 'Cooling', 'Farming',\n",
       "       'Medicine Production', 'Planting', 'HP', 'Defense'],\n",
       "      dtype='object')"
      ]
     },
     "execution_count": 13,
     "metadata": {},
     "output_type": "execute_result"
    }
   ],
   "source": [
    "pal_frame = pd.read_excel(\"pal_frame_for_project.xlsx\")\n",
    "# Reset the index back to the Pal names after reading in the spreadsheet file.\n",
    "pal_frame.set_index(\"Unnamed: 0\", inplace = True)\n",
    "pal_frame.rename_axis(None, axis = 0, inplace = True)\n",
    "pal_frame.head()"
   ]
  },
  {
   "cell_type": "markdown",
   "metadata": {},
   "source": [
    "## Webscraping and cleaning"
   ]
  },
  {
   "cell_type": "code",
   "execution_count": null,
   "metadata": {},
   "outputs": [],
   "source": [
    "# list all the functions you have for webscraping and cleaning. Make sure write full \n",
    "# docstrings for each function\n",
    "\n",
    "def scrape_pal_ids(url = \"https://palworld.gg/pals\"):\n",
    "    \"\"\"\n",
    "    Scrape Pal IDs from the given URL.\n",
    "\n",
    "    Args:\n",
    "        url (str): The URL of the Palworld database page, assumed to be the current link unless otherwise specified.\n",
    "\n",
    "    Returns:\n",
    "        DataFrame: A dataFrame of Pal names and IDs.\n",
    "    \"\"\"\n",
    "    response = requests.get(url).text\n",
    "    soup = BeautifulSoup(response)\n",
    "\n",
    "    # Find all Pal ID elements\n",
    "    pal_dict = {}\n",
    "    for pal in soup.find_all(\"div\", class_ = \"pal\"):\n",
    "\n",
    "        # Remove empty Pal entries.\n",
    "        if pal.attrs[\"style\"] == \"display:none;\":\n",
    "            continue\n",
    "\n",
    "        # Get the ID and name of the Pal and add them to the dictionary.\n",
    "        pal_id_element = pal.find('span', class_='index').text.strip()\n",
    "        pal_dict[pal.find(\"div\", class_ = \"name\").next_element.strip()] = pal_id_element\n",
    "\n",
    "    # Convert the dictionary to a DataFrame before returning it.\n",
    "    return pd.DataFrame().from_dict(pal_dict, orient = \"index\", columns = [\"ID\"])"
   ]
  },
  {
   "cell_type": "code",
   "execution_count": null,
   "metadata": {},
   "outputs": [],
   "source": [
    "def scrape_pal_rarity(pal_df, url = \"https://palworld.gg/pals\"):\n",
    "    \"\"\"\n",
    "    Scrape the rarity of each Pal listed in the database.\n",
    "\n",
    "    Args:\n",
    "        url (str): The URL of the database page, assumed to be the current link unless otherwise specified.\n",
    "        pal_df (DataFrame): The DataFrame of Pal data to update.\n",
    "\n",
    "    Returns:\n",
    "        pal_df (DataFrame): The DataFrame given, with the rarity of each Pal added under a new column.\n",
    "    \"\"\"\n",
    "    soup = BeautifulSoup(requests.get(url).text)\n",
    "\n",
    "    # Find all Pals, then find each of their rarities.\n",
    "    pal_tag = soup.find_all(\"div\", class_ = \"pal\")\n",
    "    for pal in pal_tag:\n",
    "\n",
    "        # Remove empty Pal entries.\n",
    "        if pal.attrs[\"style\"] == \"display:none;\":\n",
    "            continue\n",
    "\n",
    "        # The \"name\" class is used twice in each Pal entry, first for their name, then for their rarity.\n",
    "        name_class = pal.find_all(\"div\", class_ = \"name\")\n",
    "        # (Using next_element here rather than .text to avoid also getting the text from the nested children.)\n",
    "        # Add the rarity of the Pal to the DataFrame under its name.\n",
    "        pal_df.loc[name_class[0].next_element.strip(), \"Rarity\"] = name_class[1].next_element\n",
    "\n",
    "    return pal_df\n"
   ]
  },
  {
   "cell_type": "code",
   "execution_count": null,
   "metadata": {},
   "outputs": [],
   "source": [
    "def scrape_pal_elements(pal_df, url = \"https://palworld.gg/pals\"):\n",
    "    \"\"\"\n",
    "    Scrape the element or elements of each Pal listed in the database.\n",
    "\n",
    "    Args:\n",
    "        url (str): The URL of the database page, assumed to be the current link unless otherwise specified.\n",
    "        pal_df (DataFrame): The DataFrame of Pal data to update.\n",
    "\n",
    "    Returns:\n",
    "        pal_df (DataFrame): The DataFrame given, with a dummy variable added for each element,\n",
    "        True meaning that a Pal does belong to them and False for not.\n",
    "    \"\"\"\n",
    "    soup = BeautifulSoup(requests.get(url).text)\n",
    "\n",
    "    # Find each Pal entry.\n",
    "    pal_tag = soup.find_all(\"div\", class_ = \"pal\")\n",
    "    for pal in pal_tag:\n",
    "        # Remove empty Pal entries.\n",
    "        if pal.attrs[\"style\"] == \"display:none;\":\n",
    "            continue\n",
    "\n",
    "        # Load the individual entry page for the Pal.\n",
    "        pal_page = requests.get(\"https://palworld.gg\" + pal.a.attrs[\"href\"]).text\n",
    "        pal_soup = BeautifulSoup(pal_page)\n",
    "\n",
    "        # Scrape the Pal's name.\n",
    "        pal_name = pal_soup.find(\"h1\", class_ = \"name\").text.strip()\n",
    "\n",
    "        # Initialize all the element column values for this Pal to False, as none have been found yet.\n",
    "        pal_df.loc[pal_name, [\"Earth\", \"Fire\", \"Dragon\", \"Dark\", \"Electricity\", \"Water\", \"Ice\", \"Leaf\", \"Normal\"]] = False\n",
    "\n",
    "        # Scrape the elements of the Pal.\n",
    "        pal_elems_tags = pal_soup.find(\"div\", class_ = \"elements\").find_all(\"div\", class_ = \"name\")\n",
    "        for tag in pal_elems_tags:\n",
    "            # For each found element, change the Pal's value in the corresponding column to True.\n",
    "            pal_df.loc[pal_name, tag.text] = True\n",
    "        \n",
    "    return pal_df\n"
   ]
  },
  {
   "cell_type": "code",
   "execution_count": null,
   "metadata": {},
   "outputs": [],
   "source": [
    "def scrape_pal_work(pal_df, url = \"https://palworld.gg/pals\"):\n",
    "    \"\"\"\n",
    "    Scrape the work suitabilities of each Pal listed in the database, including the level of each work type.\n",
    "\n",
    "    Args:\n",
    "        url (str): The URL of the database page, assumed to be the current link unless otherwise specified.\n",
    "        pal_df (DataFrame): The DataFrame of Pal data to update.\n",
    "\n",
    "    Returns:\n",
    "        pal_df (DataFrame): The DataFrame given, with 13 new columns added: 12 representing the work suitabilities\n",
    "        of Pals, each filled with NaN or the Pal's skill level for that task, and one column counting the number of suitabilities\n",
    "        the Pal has in total.\n",
    "    \"\"\"\n",
    "    soup = BeautifulSoup(requests.get(url).text)\n",
    "\n",
    "    # Find each Pal entry.\n",
    "    pal_tag = soup.find_all(\"div\", class_ = \"pal\")\n",
    "    for pal in pal_tag:\n",
    "        # Remove empty Pal entries.\n",
    "        if pal.attrs[\"style\"] == \"display:none;\":\n",
    "            continue\n",
    "\n",
    "        # Load the individual entry page for the Pal.\n",
    "        pal_page = requests.get(\"https://palworld.gg\" + pal.a.attrs[\"href\"]).text\n",
    "        pal_soup = BeautifulSoup(pal_page)\n",
    "\n",
    "        # Scrape the name of the Pal.\n",
    "        pal_name = pal_soup.find(\"h1\", class_ = \"name\").text.strip()\n",
    "\n",
    "        # Scrape the suitabilities of the Pal, and for each one that is found add its level to the column with the suitability's name.\n",
    "        pal_work_tags = pal_soup.find(\"div\", class_ = \"works\").find_all(\"div\", class_ = \"active item\")\n",
    "        for tag in pal_work_tags:\n",
    "            pal_df.loc[pal_name, tag.find(\"div\", class_ = \"name\").text] = tag.find(\"span\", class_ = \"value\").text\n",
    "        # Add the pal's total number of suitabilities as a new column.\n",
    "        pal_df.loc[pal_name, \"Number of work suitabilities\"] = len(pal_work_tags)\n",
    "        \n",
    "    return pal_df\n"
   ]
  },
  {
   "cell_type": "code",
   "execution_count": null,
   "metadata": {},
   "outputs": [],
   "source": [
    "def scrape_pal_hp(pal_df, url = \"https://palworld.gg/pals\"):\n",
    "    \"\"\"\n",
    "    Scrape the HP of each Pal listed in the database.\n",
    "\n",
    "    Args:\n",
    "        url (str): The URL of the database page, assumed to be the current link unless otherwise specified.\n",
    "        pal_df (DataFrame): The DataFrame of Pal data to update.\n",
    "\n",
    "    Returns:\n",
    "        pal_df (DataFrame): The DataFrame given, with a new column representing the Pals' HPs.\n",
    "    \"\"\"\n",
    "    soup = BeautifulSoup(requests.get(url).text)\n",
    "\n",
    "    # Find each Pal entry.\n",
    "    pal_tag = soup.find_all(\"div\", class_ = \"pal\")\n",
    "    for pal in pal_tag:\n",
    "        # Remove empty Pal entries.\n",
    "        if pal.attrs[\"style\"] == \"display:none;\":\n",
    "            continue\n",
    "\n",
    "        # Load the individual entry page for the Pal.\n",
    "        pal_page = requests.get(\"https://palworld.gg\" + pal.a.attrs[\"href\"]).text\n",
    "        pal_soup = BeautifulSoup(pal_page)\n",
    "\n",
    "        # Scrape the name of the Pal.\n",
    "        pal_name = pal_soup.find(\"h1\", class_ = \"name\").text.strip()\n",
    "\n",
    "        # Scrape the HP of the pal (the first entry in the stats section) and add it to the HP column.\n",
    "        pal_hp = int(pal_soup.find(\"div\", class_ = \"stats\").find_all(\"div\", class_ = \"value\")[0].text)\n",
    "        pal_df.loc[pal_name, \"HP\"] = pal_hp\n",
    "        \n",
    "    return pal_df\n"
   ]
  },
  {
   "cell_type": "code",
   "execution_count": null,
   "metadata": {},
   "outputs": [],
   "source": [
    "def scrape_pal_defense(pal_df, url = \"https://palworld.gg/pals\"):\n",
    "    \"\"\"\n",
    "    Scrape the defense score of each Pal listed in the database.\n",
    "\n",
    "    Args:\n",
    "        url (str): The URL of the database page, assumed to be the current link unless otherwise specified.\n",
    "        pal_df (DataFrame): The DataFrame of Pal data to update.\n",
    "\n",
    "    Returns:\n",
    "        pal_df (DataFrame): The DataFrame given, with a new column representing the Pals' defense scores.\n",
    "    \"\"\"\n",
    "    soup = BeautifulSoup(requests.get(url).text)\n",
    "\n",
    "    # Find each Pal entry.\n",
    "    pal_tag = soup.find_all(\"div\", class_ = \"pal\")\n",
    "    for pal in pal_tag:\n",
    "        # Remove empty Pal entries.\n",
    "        if pal.attrs[\"style\"] == \"display:none;\":\n",
    "            continue\n",
    "\n",
    "        # Load the individual entry page for the Pal.\n",
    "        pal_page = requests.get(\"https://palworld.gg\" + pal.a.attrs[\"href\"]).text\n",
    "        pal_soup = BeautifulSoup(pal_page)\n",
    "\n",
    "        # Scrape the name of the Pal.\n",
    "        pal_name = pal_soup.find(\"h1\", class_ = \"name\").text.strip()\n",
    "\n",
    "        # Scrape the defense of the pal (the second entry in the stats section) and add it to the defense column.\n",
    "        pal_hp = int(pal_soup.find(\"div\", class_ = \"stats\").find_all(\"div\", class_ = \"value\")[1].text)\n",
    "        pal_df.loc[pal_name, \"Defense\"] = pal_hp\n",
    "        \n",
    "    return pal_df\n"
   ]
  },
  {
   "cell_type": "code",
   "execution_count": null,
   "metadata": {},
   "outputs": [],
   "source": [
    "pal_df = scrape_pal_defense(scrape_pal_hp(scrape_pal_work(scrape_pal_elements(scrape_pal_rarity(scrape_pal_ids())))))\n",
    "pal_df"
   ]
  },
  {
   "cell_type": "markdown",
   "metadata": {},
   "source": [
    "## Visualizations\n",
    "# TODO all these\n",
    "### Visualization functions overview\n",
    "List all the functions you have written for visualization. For each one, write one sentence to describe it. \n",
    "- `make_hist()`\n",
    "    - Generate a histogram with given data and feature\n",
    " \n",
    "### Visualization results\n",
    "- Present 3-4 data visualizations.\n",
    "- For each visualization, you need to include title, xlabel, ylabel, legend (if necessary)\n",
    "- For each visualization, explain why you make this data visualization (how it related to your research question) and explain what you have learned from this visualization"
   ]
  },
  {
   "cell_type": "code",
   "execution_count": 32,
   "metadata": {},
   "outputs": [],
   "source": [
    "# TODO docstrings for 2nd\n",
    "\n",
    "def build_work_features(df, work_list):\n",
    "    \"\"\" Creates a data frame based on the given frame of Pal data with three new features added: \n",
    "    Each Pal's highest work suitability level, a list of all its suitabilities, and its total number of suitabilities.\n",
    "\n",
    "    Args:\n",
    "        df (DataFrame): The data frame to draw Pal data from and base the return frame off of.\n",
    "        work_list (list(str)): The titles of the columns containing Pal work data in the given frame.\n",
    "\n",
    "    Returns:\n",
    "        out (DataFrame): A copy of the given data frame with the three new columns added to it.\n",
    "    \"\"\"\n",
    "    \n",
    "    # Initialize the return data frame as a copy of the given one.\n",
    "    out = df.copy()\n",
    "\n",
    "    # Grab the subset of the data frame representing the work columns.\n",
    "    work_cols = df[work_list]\n",
    "\n",
    "    # For every row of the data frame:\n",
    "    for idx in range(len(work_cols)):\n",
    "        # Declare a series variable for the work stats of the Pal at this row and drop all NaN values, \n",
    "        # which would be the work suitabilities it doesn't have.\n",
    "        pal = work_cols.iloc[idx, :]\n",
    "        pal = pal.dropna()\n",
    "\n",
    "        # Get the Pal's highest work suitability level by sorting the series and place it into the data frame.\n",
    "        out.loc[pal.name, \"Highest Work Suitability Level\"] = pal.sort_values(ascending = False).iloc[0]\n",
    "\n",
    "        # Get a string of the Pal's work types by joining all of its non-NaN work labels and place it into the data frame.\n",
    "        out.loc[pal.name, \"Work Types\"] = \", \".join(pal.index)\n",
    "\n",
    "        # Get the number of work types the Pal has as the length of the index and place it into the data frame.\n",
    "        out.loc[pal.name, \"Work Skill Count\"] = len(pal.index)\n",
    "\n",
    "    return out\n",
    "\n",
    "\n",
    "def group_work_by_element(df, work_list):\n",
    "    \"\"\" Makes a data frame representing each the Pals' average scores in each work suitability by element.\n",
    "    (Note that many Pals have multiple elements and thus have to be counted for each of them.)\n",
    "\n",
    "    Args:\n",
    "        df (DataFrame): The data frame to draw Pal data from and base the return frame off of.\n",
    "        work_list (list(str)): The titles of the columns containing Pal work data in the given frame.\n",
    "    \n",
    "    Returns:\n",
    "        work_elem_stats (DataFrame): A data frame with elements for its index and work suitabilities for its columns,\n",
    "        populated in each cell with the average score of all the Pals in that element at that work skill.\n",
    "    \"\"\"\n",
    "\n",
    "    # Declare a list of the elements.\n",
    "    element_list = [\"Earth\", \"Fire\", \"Dragon\", \"Dark\", \"Electricity\", \"Water\", \"Ice\", \"Leaf\", \"Normal\"]\n",
    "\n",
    "    # Initialize an empty data frame to hold the return values.\n",
    "    work_elem_stats = pd.DataFrame(index = element_list, columns = work_list, dtype = float)\n",
    "    \n",
    "    # For every element:\n",
    "    for elem in element_list:\n",
    "        # Get all the pals who have that element == True.\n",
    "        current_pals = df.loc[df[elem], :]\n",
    "\n",
    "        # For all the work suitabilities:\n",
    "        for work in work_list:\n",
    "            # Take the mean of all the current Pals' stats in that job, filling NaNs with 0, and place it into the data frame.\n",
    "            work_elem_stats.loc[elem, work] = current_pals[work].fillna(value = 0, inplace = False).mean()\n",
    "\n",
    "    return work_elem_stats\n",
    "\n",
    "\n",
    "# Declare the names of work-type columns\n",
    "work_list = ['Handiwork', 'Mining',\n",
    "       'Transporting', 'Deforesting',\n",
    "       'Kindling', 'Gathering', 'Generating Electricity', 'Watering',\n",
    "       'Cooling', 'Farming', 'Medicine Production', 'Planting']\n",
    "\n",
    "# Define fixed colors for each element\n",
    "element_colors = {\n",
    "    \"Earth\": \"#8B4513\",\n",
    "    \"Fire\": \"#FF4500\",\n",
    "    \"Dragon\": \"#800080\",\n",
    "    \"Dark\": \"#2F4F4F\",\n",
    "    \"Electricity\": \"#FFD700\",\n",
    "    \"Water\": \"#1E90FF\",\n",
    "    \"Ice\": \"#00CED1\",\n",
    "    \"Leaf\": \"#228B22\", \n",
    "    \"Normal\": \"#A9A9A9\"\n",
    "}\n",
    "\n",
    "# Prepare the data frame for visualizations\n",
    "pal_frame_vis = build_work_features(pal_frame, work_list)"
   ]
  },
  {
   "cell_type": "markdown",
   "metadata": {},
   "source": [
    "#### visualization 1"
   ]
  },
  {
   "cell_type": "code",
   "execution_count": 33,
   "metadata": {},
   "outputs": [
    {
     "data": {
      "application/vnd.plotly.v1+json": {
       "config": {
        "plotlyServerURL": "https://plot.ly"
       },
       "data": [
        {
         "customdata": [
          [
           "#-1",
           "Common",
           "Transporting"
          ],
          [
           "#25",
           "Common",
           "Transporting, Watering"
          ],
          [
           "#114",
           "Common",
           "Handiwork, Transporting, Gathering, Watering"
          ],
          [
           "#81",
           "Common",
           "Watering, Farming"
          ],
          [
           "#6",
           "Common",
           "Handiwork, Transporting, Watering"
          ],
          [
           "#16",
           "Common",
           "Watering"
          ],
          [
           "#10",
           "Common",
           "Handiwork, Transporting, Watering, Cooling"
          ],
          [
           "#150",
           "Common",
           "Handiwork, Transporting, Watering"
          ],
          [
           "#31",
           "Common",
           "Handiwork, Transporting, Watering"
          ],
          [
           "#152",
           "Common",
           "Transporting, Watering"
          ],
          [
           "#11",
           "Rare",
           "Handiwork, Mining, Transporting, Watering, Cooling"
          ],
          [
           "#146",
           "Common",
           "Transporting, Watering, Cooling"
          ],
          [
           "#148",
           "Common",
           "Mining, Transporting, Watering"
          ],
          [
           "#23",
           "Common",
           "Transporting, Gathering, Watering"
          ],
          [
           "#65",
           "Common",
           "Watering"
          ],
          [
           "#86",
           "Epic",
           "Watering"
          ],
          [
           "#147",
           "Rare",
           "Watering, Cooling"
          ],
          [
           "#102",
           "Epic",
           "Watering"
          ],
          [
           "#105",
           "Epic",
           "Transporting, Watering"
          ],
          [
           "#155",
           "Legendary",
           "Watering"
          ],
          [
           "#154",
           "Rare",
           "Watering, Cooling"
          ]
         ],
         "hovertemplate": "Element Type=Water<br>Highest Work Suitability Level=%{x}<br>HP=%{y}<br>ID=%{customdata[0]}<br>Rarity=%{customdata[1]}<br>Work Types=%{customdata[2]}<extra></extra>",
         "legendgroup": "Water",
         "marker": {
          "color": "#636efa",
          "symbol": "circle"
         },
         "mode": "markers",
         "name": "Water",
         "orientation": "v",
         "showlegend": true,
         "type": "scatter",
         "x": {
          "bdata": "AAAAAAAA8D8AAAAAAADwPwAAAAAAAPA/AAAAAAAA8D8AAAAAAADwPwAAAAAAAPA/AAAAAAAA8D8AAAAAAAAAQAAAAAAAAABAAAAAAAAAAEAAAAAAAAAAQAAAAAAAAABAAAAAAAAAAEAAAAAAAAAAQAAAAAAAAABAAAAAAAAACEAAAAAAAAAIQAAAAAAAAAhAAAAAAAAAEEAAAAAAAAAQQAAAAAAAABBA",
          "dtype": "f8"
         },
         "xaxis": "x",
         "y": {
          "bdata": "RlBQRjxGRktaS19LS0ZaeF99ZGlp",
          "dtype": "i1"
         },
         "yaxis": "y"
        },
        {
         "customdata": [
          [
           "#2",
           "Common",
           "Handiwork, Mining, Transporting, Gathering"
          ],
          [
           "#-1",
           "Common",
           "Gathering"
          ],
          [
           "#3",
           "Common",
           "Gathering, Farming"
          ],
          [
           "#18",
           "Common",
           "Gathering, Farming"
          ],
          [
           "#26",
           "Common",
           "Gathering"
          ],
          [
           "#-1",
           "Common",
           "Deforesting"
          ],
          [
           "#-1",
           "Common",
           "Gathering"
          ],
          [
           "#-1",
           "Common",
           "Transporting"
          ],
          [
           "#1",
           "Common",
           "Handiwork, Transporting, Farming"
          ],
          [
           "#89",
           "Epic",
           "Gathering"
          ],
          [
           "#27",
           "Common",
           "Gathering"
          ],
          [
           "#34",
           "Common",
           "Farming"
          ],
          [
           "#-1",
           "Common",
           "Transporting"
          ],
          [
           "#39",
           "Common",
           "Handiwork, Transporting, Gathering"
          ],
          [
           "#29",
           "Common",
           "Farming"
          ],
          [
           "#36",
           "Common",
           "Farming"
          ],
          [
           "#124",
           "Rare",
           "Transporting, Gathering"
          ],
          [
           "#14",
           "Common",
           "Gathering, Farming"
          ],
          [
           "#69",
           "Rare",
           "Handiwork, Mining, Transporting, Medicine Production"
          ],
          [
           "#52",
           "Rare",
           "Gathering"
          ],
          [
           "#108",
           "Legendary",
           "Mining, Deforesting"
          ],
          [
           "#38",
           "Common",
           "Gathering"
          ],
          [
           "#37",
           "Common",
           "Deforesting"
          ],
          [
           "#47",
           "Common",
           "Gathering"
          ],
          [
           "#93",
           "Common",
           "Deforesting"
          ],
          [
           "#121",
           "Common",
           "Gathering"
          ],
          [
           "#49",
           "Rare",
           "Handiwork, Transporting, Deforesting"
          ],
          [
           "#122",
           "Rare",
           "Handiwork, Transporting, Deforesting, Gathering, Medicine Production"
          ],
          [
           "#63",
           "Rare",
           "Handiwork, Transporting, Gathering"
          ],
          [
           "#132",
           "Rare",
           "Deforesting, Gathering"
          ]
         ],
         "hovertemplate": "Element Type=Normal<br>Highest Work Suitability Level=%{x}<br>HP=%{y}<br>ID=%{customdata[0]}<br>Rarity=%{customdata[1]}<br>Work Types=%{customdata[2]}<extra></extra>",
         "legendgroup": "Normal",
         "marker": {
          "color": "#EF553B",
          "symbol": "circle"
         },
         "mode": "markers",
         "name": "Normal",
         "orientation": "v",
         "showlegend": true,
         "type": "scatter",
         "x": {
          "bdata": "AAAAAAAA8D8AAAAAAADwPwAAAAAAAPA/AAAAAAAA8D8AAAAAAADwPwAAAAAAAPA/AAAAAAAA8D8AAAAAAADwPwAAAAAAAPA/AAAAAAAA8D8AAAAAAADwPwAAAAAAAPA/AAAAAAAA8D8AAAAAAADwPwAAAAAAAPA/AAAAAAAA8D8AAAAAAADwPwAAAAAAAPA/AAAAAAAAAEAAAAAAAAAAQAAAAAAAAABAAAAAAAAAAEAAAAAAAAAAQAAAAAAAAABAAAAAAAAAAEAAAAAAAAAAQAAAAAAAAAhAAAAAAAAACEAAAAAAAAAIQAAAAAAAABBA",
          "dtype": "f8"
         },
         "xaxis": "x",
         "y": {
          "bdata": "RgBBADwARgBQAF8AUABQAEYAeAA8AEYAaQBLAFoAWgA8AEYAeABuAIIAZABfAEsAbgBVAFoAWgBaAHgA",
          "dtype": "i2"
         },
         "yaxis": "y"
        },
        {
         "customdata": [
          [
           "#44",
           "Common",
           "Deforesting"
          ],
          [
           "#62",
           "Common",
           "Handiwork, Transporting, Generating Electricity, Medicine Production"
          ],
          [
           "#-1",
           "Common",
           "Transporting"
          ],
          [
           "#17",
           "Common",
           "Handiwork, Mining, Transporting"
          ],
          [
           "#114",
           "Rare",
           "Handiwork, Transporting, Gathering, Watering"
          ],
          [
           "#19",
           "Common",
           "Handiwork, Transporting, Gathering"
          ],
          [
           "#15",
           "Common",
           "Gathering"
          ],
          [
           "#45",
           "Common",
           "Handiwork, Transporting, Gathering"
          ],
          [
           "#-1",
           "Common",
           "Transporting"
          ],
          [
           "#107",
           "Epic",
           "Gathering"
          ],
          [
           "#133",
           "Common",
           "Gathering"
          ],
          [
           "#21",
           "Rare",
           "Gathering"
          ],
          [
           "#24",
           "Common",
           "Farming"
          ],
          [
           "#46",
           "Common",
           "Handiwork"
          ],
          [
           "#61",
           "Rare",
           "Kindling"
          ],
          [
           "#149",
           "Common",
           "Handiwork, Transporting, Watering, Medicine Production"
          ],
          [
           "#23",
           "Common",
           "Transporting, Gathering, Watering"
          ],
          [
           "#75",
           "Rare",
           "Handiwork, Transporting, Medicine Production"
          ],
          [
           "#40",
           "Rare",
           "Handiwork, Mining, Transporting"
          ],
          [
           "#116",
           "Rare",
           "Handiwork, Deforesting, Gathering, Planting"
          ],
          [
           "#131",
           "Common",
           "Gathering"
          ],
          [
           "#151",
           "Rare",
           "Handiwork, Transporting, Watering"
          ],
          [
           "#35",
           "Common",
           "Farming, Planting"
          ],
          [
           "#129",
           "Rare",
           "Gathering"
          ],
          [
           "#68",
           "Rare",
           "Mining, Transporting, Gathering"
          ],
          [
           "#135",
           "Common",
           "Handiwork, Transporting, Gathering, Medicine Production"
          ],
          [
           "#66",
           "Rare",
           "Mining, Gathering"
          ],
          [
           "#109",
           "Legendary",
           "Mining, Deforesting"
          ],
          [
           "#125",
           "Rare",
           "Transporting, Deforesting"
          ],
          [
           "#138",
           "Rare",
           "Handiwork, Transporting, Gathering, Medicine Production, Planting"
          ],
          [
           "#97",
           "Epic",
           "Transporting, Generating Electricity"
          ],
          [
           "#97",
           "Rare",
           "Transporting"
          ],
          [
           "#94",
           "Rare",
           "Medicine Production"
          ],
          [
           "#104",
           "Epic",
           "Handiwork, Gathering, Medicine Production"
          ],
          [
           "#139",
           "Common",
           "Handiwork, Transporting, Deforesting, Gathering"
          ],
          [
           "#128",
           "Rare",
           "Handiwork, Transporting"
          ],
          [
           "#71",
           "Rare",
           "Transporting, Cooling"
          ],
          [
           "#112",
           "Legendary",
           "Handiwork, Transporting, Medicine Production"
          ],
          [
           "#-1",
           "Rare",
           "Transporting"
          ],
          [
           "#112",
           "Legendary",
           "Handiwork, Transporting, Medicine Production"
          ],
          [
           "#153",
           "Rare",
           "Transporting, Watering"
          ],
          [
           "#110",
           "Legendary",
           "Gathering"
          ],
          [
           "#134",
           "Common",
           "Handiwork, Transporting, Deforesting, Medicine Production"
          ],
          [
           "#113",
           "Epic",
           "Handiwork, Transporting, Medicine Production"
          ]
         ],
         "hovertemplate": "Element Type=Dark<br>Highest Work Suitability Level=%{x}<br>HP=%{y}<br>ID=%{customdata[0]}<br>Rarity=%{customdata[1]}<br>Work Types=%{customdata[2]}<extra></extra>",
         "legendgroup": "Dark",
         "marker": {
          "color": "#00cc96",
          "symbol": "circle"
         },
         "mode": "markers",
         "name": "Dark",
         "orientation": "v",
         "showlegend": true,
         "type": "scatter",
         "x": {
          "bdata": "AAAAAAAA8D8AAAAAAADwPwAAAAAAAPA/AAAAAAAA8D8AAAAAAADwPwAAAAAAAPA/AAAAAAAA8D8AAAAAAADwPwAAAAAAAPA/AAAAAAAA8D8AAAAAAADwPwAAAAAAAPA/AAAAAAAA8D8AAAAAAAAAQAAAAAAAAABAAAAAAAAAAEAAAAAAAAAAQAAAAAAAAABAAAAAAAAAAEAAAAAAAAAAQAAAAAAAAABAAAAAAAAAAEAAAAAAAAAAQAAAAAAAAABAAAAAAAAAAEAAAAAAAAAAQAAAAAAAAABAAAAAAAAAAEAAAAAAAAAAQAAAAAAAAAhAAAAAAAAACEAAAAAAAAAIQAAAAAAAAAhAAAAAAAAACEAAAAAAAAAIQAAAAAAAAAhAAAAAAAAACEAAAAAAAAAQQAAAAAAAABBAAAAAAAAAEEAAAAAAAAAQQAAAAAAAABBAAAAAAAAAEEAAAAAAAAAQQA==",
          "dtype": "f8"
         },
         "xaxis": "x",
         "y": {
          "bdata": "SwBGAGkARgBVAEYARgBQAEsAeABfAEsARgBQAGQAWgA8AFoAXwBuAFUARgBkAG4AXwBuAEsAggBaAGkAaQBkAGQAbgBuAGkAWgB4AG4AeABaAIwAXwCCAA==",
          "dtype": "i2"
         },
         "yaxis": "y"
        },
        {
         "customdata": [
          [
           "#25",
           "Common",
           "Transporting, Generating Electricity, Watering"
          ],
          [
           "#62",
           "Common",
           "Handiwork, Transporting, Generating Electricity"
          ],
          [
           "#12",
           "Common",
           "Generating Electricity"
          ],
          [
           "#7",
           "Common",
           "Handiwork, Transporting, Generating Electricity"
          ],
          [
           "#10",
           "Common",
           "Handiwork, Transporting, Generating Electricity, Watering"
          ],
          [
           "#60",
           "Rare",
           "Generating Electricity"
          ],
          [
           "#11",
           "Rare",
           "Handiwork, Mining, Transporting, Generating Electricity, Watering"
          ],
          [
           "#93",
           "Common",
           "Deforesting, Generating Electricity"
          ],
          [
           "#56",
           "Rare",
           "Deforesting, Generating Electricity"
          ],
          [
           "#103",
           "Epic",
           "Handiwork, Transporting, Deforesting, Generating Electricity"
          ],
          [
           "#73",
           "Rare",
           "Transporting, Gathering, Generating Electricity"
          ],
          [
           "#33",
           "Rare",
           "Handiwork, Transporting, Deforesting, Generating Electricity"
          ],
          [
           "#136",
           "Rare",
           "Gathering, Generating Electricity"
          ]
         ],
         "hovertemplate": "Element Type=Electricity<br>Highest Work Suitability Level=%{x}<br>HP=%{y}<br>ID=%{customdata[0]}<br>Rarity=%{customdata[1]}<br>Work Types=%{customdata[2]}<extra></extra>",
         "legendgroup": "Electricity",
         "marker": {
          "color": "#ab63fa",
          "symbol": "circle"
         },
         "mode": "markers",
         "name": "Electricity",
         "orientation": "v",
         "showlegend": true,
         "type": "scatter",
         "x": {
          "bdata": "AAAAAAAA8D8AAAAAAADwPwAAAAAAAPA/AAAAAAAA8D8AAAAAAAAAQAAAAAAAAABAAAAAAAAAAEAAAAAAAAAAQAAAAAAAAABAAAAAAAAACEAAAAAAAAAIQAAAAAAAAAhAAAAAAAAAEEA=",
          "dtype": "f8"
         },
         "xaxis": "x",
         "y": {
          "bdata": "UABGAEYAPABGAFoAZABuAFAAaQBpAGQAggA=",
          "dtype": "i2"
         },
         "yaxis": "y"
        },
        {
         "customdata": [
          [
           "#55",
           "Common",
           "Gathering, Cooling"
          ],
          [
           "#127",
           "Epic",
           "Gathering"
          ],
          [
           "#85",
           "Epic",
           "Transporting, Watering"
          ],
          [
           "#64",
           "Rare",
           "Deforesting, Planting"
          ],
          [
           "#64",
           "Rare",
           "Deforesting, Generating Electricity"
          ],
          [
           "#80",
           "Rare",
           "Deforesting"
          ],
          [
           "#95",
           "Epic",
           "Handiwork, Mining, Transporting, Gathering, Planting"
          ],
          [
           "#95",
           "Rare",
           "Handiwork, Mining, Transporting, Gathering"
          ],
          [
           "#130",
           "Epic",
           "Deforesting"
          ],
          [
           "#111",
           "Legendary",
           "Gathering"
          ],
          [
           "#82",
           "Epic",
           "Cooling"
          ],
          [
           "#82",
           "Rare",
           "Watering"
          ],
          [
           "#85",
           "Epic",
           "Transporting, Generating Electricity"
          ],
          [
           "#126",
           "Epic",
           "Mining"
          ],
          [
           "#80",
           "Epic",
           "Deforesting, Watering"
          ],
          [
           "#101",
           "Epic",
           "Watering"
          ],
          [
           "#98",
           "Epic",
           "Handiwork, Mining"
          ],
          [
           "#106",
           "Epic",
           "Handiwork, Transporting, Generating Electricity"
          ]
         ],
         "hovertemplate": "Element Type=Dragon<br>Highest Work Suitability Level=%{x}<br>HP=%{y}<br>ID=%{customdata[0]}<br>Rarity=%{customdata[1]}<br>Work Types=%{customdata[2]}<extra></extra>",
         "legendgroup": "Dragon",
         "marker": {
          "color": "#FFA15A",
          "symbol": "circle"
         },
         "mode": "markers",
         "name": "Dragon",
         "orientation": "v",
         "showlegend": true,
         "type": "scatter",
         "x": {
          "bdata": "AAAAAAAA8D8AAAAAAADwPwAAAAAAAABAAAAAAAAAAEAAAAAAAAAAQAAAAAAAAABAAAAAAAAACEAAAAAAAAAIQAAAAAAAAAhAAAAAAAAACEAAAAAAAAAIQAAAAAAAAAhAAAAAAAAACEAAAAAAAAAIQAAAAAAAAAhAAAAAAAAAEEAAAAAAAAAQQAAAAAAAABBA",
          "dtype": "f8"
         },
         "xaxis": "x",
         "y": {
          "bdata": "WgCCAG4AbgBuAG4AaQBpAHgAbgBzAG4AbgBuAHMAggBkAGQA",
          "dtype": "i2"
         },
         "yaxis": "y"
        },
        {
         "customdata": [
          [
           "#12",
           "Common",
           "Cooling"
          ],
          [
           "#5",
           "Common",
           "Cooling"
          ],
          [
           "#53",
           "Common",
           "Gathering, Cooling"
          ],
          [
           "#24",
           "Common",
           "Cooling, Farming"
          ],
          [
           "#57",
           "Rare",
           "Cooling"
          ],
          [
           "#79",
           "Rare",
           "Cooling, Farming, Medicine Production"
          ],
          [
           "#59",
           "Common",
           "Deforesting, Cooling"
          ],
          [
           "#32",
           "Common",
           "Handiwork, Transporting, Gathering, Cooling"
          ],
          [
           "#143",
           "Common",
           "Gathering, Cooling"
          ],
          [
           "#54",
           "Rare",
           "Gathering, Cooling"
          ],
          [
           "#142",
           "Common",
           "Handiwork, Transporting, Cooling, Medicine Production"
          ],
          [
           "#89",
           "Epic",
           "Gathering, Cooling"
          ],
          [
           "#83",
           "Rare",
           "Handiwork, Transporting, Deforesting, Cooling"
          ],
          [
           "#46",
           "Common",
           "Handiwork, Cooling"
          ],
          [
           "#137",
           "Epic",
           "Mining, Deforesting, Cooling"
          ],
          [
           "#110",
           "Legendary",
           "Cooling"
          ],
          [
           "#91",
           "Rare",
           "Handiwork, Transporting, Deforesting, Cooling"
          ]
         ],
         "hovertemplate": "Element Type=Ice<br>Highest Work Suitability Level=%{x}<br>HP=%{y}<br>ID=%{customdata[0]}<br>Rarity=%{customdata[1]}<br>Work Types=%{customdata[2]}<extra></extra>",
         "legendgroup": "Ice",
         "marker": {
          "color": "#19d3f3",
          "symbol": "circle"
         },
         "mode": "markers",
         "name": "Ice",
         "orientation": "v",
         "showlegend": true,
         "type": "scatter",
         "x": {
          "bdata": "AAAAAAAA8D8AAAAAAADwPwAAAAAAAPA/AAAAAAAA8D8AAAAAAAAAQAAAAAAAAABAAAAAAAAAAEAAAAAAAAAAQAAAAAAAAABAAAAAAAAAAEAAAAAAAAAIQAAAAAAAAAhAAAAAAAAACEAAAAAAAAAIQAAAAAAAABBAAAAAAAAAEEAAAAAAAAAQQA==",
          "dtype": "f8"
         },
         "xaxis": "x",
         "y": {
          "bdata": "RgBBADwARgBaAG4AZABQAG4AZABfAHgAZABQAIwAjACMAA==",
          "dtype": "i2"
         },
         "yaxis": "y"
        },
        {
         "customdata": [
          [
           "#81",
           "Common",
           "Kindling, Farming"
          ],
          [
           "#6",
           "Common",
           "Handiwork, Transporting, Kindling, Watering"
          ],
          [
           "#5",
           "Common",
           "Kindling"
          ],
          [
           "#70",
           "Common",
           "Handiwork, Transporting, Kindling, Farming"
          ],
          [
           "#45",
           "Common",
           "Handiwork, Transporting, Kindling, Gathering"
          ],
          [
           "#-1",
           "Common",
           "Transporting"
          ],
          [
           "#9",
           "Common",
           "Kindling"
          ],
          [
           "#61",
           "Rare",
           "Kindling"
          ],
          [
           "#31",
           "Common",
           "Handiwork, Transporting, Kindling"
          ],
          [
           "#75",
           "Rare",
           "Handiwork, Transporting, Kindling, Medicine Production"
          ],
          [
           "#40",
           "Common",
           "Handiwork, Mining, Transporting, Kindling"
          ],
          [
           "#152",
           "Common",
           "Transporting, Kindling, Watering"
          ],
          [
           "#58",
           "Rare",
           "Deforesting, Kindling"
          ],
          [
           "#58",
           "Rare",
           "Deforesting, Kindling"
          ],
          [
           "#55",
           "Rare",
           "Kindling, Gathering"
          ],
          [
           "#42",
           "Common",
           "Deforesting, Kindling"
          ],
          [
           "#74",
           "Rare",
           "Transporting, Kindling"
          ],
          [
           "#102",
           "Epic",
           "Kindling"
          ],
          [
           "#118",
           "Rare",
           "Handiwork, Mining, Kindling, Gathering, Farming"
          ],
          [
           "#72",
           "Rare",
           "Handiwork, Transporting, Deforesting, Kindling, Gathering"
          ],
          [
           "#84",
           "Epic",
           "Deforesting, Kindling"
          ],
          [
           "#84",
           "Rare",
           "Deforesting, Kindling"
          ],
          [
           "#72",
           "Rare",
           "Handiwork, Transporting, Deforesting, Kindling, Gathering"
          ],
          [
           "#76",
           "Rare",
           "Handiwork, Transporting, Kindling"
          ],
          [
           "#105",
           "Epic",
           "Transporting, Kindling"
          ],
          [
           "#71",
           "Common",
           "Transporting, Kindling"
          ],
          [
           "#76",
           "Rare",
           "Handiwork, Transporting, Kindling"
          ],
          [
           "#101",
           "Epic",
           "Kindling"
          ],
          [
           "#96",
           "Epic",
           "Mining, Kindling"
          ],
          [
           "#153",
           "Rare",
           "Transporting, Kindling, Watering"
          ],
          [
           "#96",
           "Epic",
           "Mining, Kindling"
          ],
          [
           "#154",
           "Epic",
           "Kindling, Cooling"
          ]
         ],
         "hovertemplate": "Element Type=Fire<br>Highest Work Suitability Level=%{x}<br>HP=%{y}<br>ID=%{customdata[0]}<br>Rarity=%{customdata[1]}<br>Work Types=%{customdata[2]}<extra></extra>",
         "legendgroup": "Fire",
         "marker": {
          "color": "#FF6692",
          "symbol": "circle"
         },
         "mode": "markers",
         "name": "Fire",
         "orientation": "v",
         "showlegend": true,
         "type": "scatter",
         "x": {
          "bdata": "AAAAAAAA8D8AAAAAAADwPwAAAAAAAPA/AAAAAAAA8D8AAAAAAADwPwAAAAAAAPA/AAAAAAAA8D8AAAAAAAAAQAAAAAAAAABAAAAAAAAAAEAAAAAAAAAAQAAAAAAAAABAAAAAAAAAAEAAAAAAAAAAQAAAAAAAAABAAAAAAAAAAEAAAAAAAAAIQAAAAAAAAAhAAAAAAAAACEAAAAAAAAAIQAAAAAAAAAhAAAAAAAAACEAAAAAAAAAIQAAAAAAAAAhAAAAAAAAACEAAAAAAAAAIQAAAAAAAAAhAAAAAAAAAEEAAAAAAAAAQQAAAAAAAABBAAAAAAAAAEEAAAAAAAAAQQA==",
          "dtype": "f8"
         },
         "xaxis": "x",
         "y": {
          "bdata": "RgA8AEEAPABQAEYASwBkAFoAXwBfAEsAZABkAFoAVQBfAHgAaQBQAGkAaQBQAFoAZABaAFoAggBkAFoAaQBpAA==",
          "dtype": "i2"
         },
         "yaxis": "y"
        },
        {
         "customdata": [
          [
           "#13",
           "Common",
           "Planting"
          ],
          [
           "#22",
           "Common",
           "Handiwork, Mining, Transporting"
          ],
          [
           "#117",
           "Common",
           "Mining"
          ],
          [
           "#65",
           "Rare",
           "Gathering"
          ],
          [
           "#20",
           "Common",
           "Mining"
          ],
          [
           "#140",
           "Epic",
           "Gathering"
          ],
          [
           "#148",
           "Common",
           "Mining, Transporting, Watering"
          ],
          [
           "#48",
           "Rare",
           "Handiwork, Transporting, Deforesting, Gathering, Medicine Production"
          ],
          [
           "#43",
           "Common",
           "Mining, Transporting, Watering, Farming"
          ],
          [
           "#32",
           "Common",
           "Handiwork, Transporting, Gathering"
          ],
          [
           "#37",
           "Rare",
           "Deforesting"
          ],
          [
           "#123",
           "Rare",
           "Gathering"
          ],
          [
           "#43",
           "Rare",
           "Mining, Transporting, Watering, Farming"
          ],
          [
           "#90",
           "Epic",
           "Mining, Deforesting, Planting"
          ],
          [
           "#90",
           "Epic",
           "Mining, Deforesting, Cooling"
          ],
          [
           "#119",
           "Rare",
           "Deforesting, Gathering, Medicine Production"
          ],
          [
           "#92",
           "Epic",
           "Handiwork, Transporting, Deforesting, Planting"
          ],
          [
           "#49",
           "Rare",
           "Handiwork, Mining, Transporting"
          ],
          [
           "#67",
           "Rare",
           "Mining"
          ],
          [
           "#83",
           "Rare",
           "Handiwork, Mining, Transporting, Deforesting"
          ],
          [
           "#88",
           "Rare",
           "Mining, Kindling"
          ],
          [
           "#88",
           "Rare",
           "Mining, Cooling"
          ],
          [
           "#92",
           "Epic",
           "Handiwork, Mining, Transporting"
          ],
          [
           "#99",
           "Epic",
           "Mining, Deforesting"
          ],
          [
           "#99",
           "Epic",
           "Mining, Deforesting"
          ],
          [
           "#120",
           "Epic",
           "Mining, Transporting, Gathering"
          ],
          [
           "#100",
           "Epic",
           "Handiwork, Mining, Transporting"
          ],
          [
           "#145",
           "Rare",
           "Mining, Gathering, Planting"
          ]
         ],
         "hovertemplate": "Element Type=Earth<br>Highest Work Suitability Level=%{x}<br>HP=%{y}<br>ID=%{customdata[0]}<br>Rarity=%{customdata[1]}<br>Work Types=%{customdata[2]}<extra></extra>",
         "legendgroup": "Earth",
         "marker": {
          "color": "#B6E880",
          "symbol": "circle"
         },
         "mode": "markers",
         "name": "Earth",
         "orientation": "v",
         "showlegend": true,
         "type": "scatter",
         "x": {
          "bdata": "AAAAAAAA8D8AAAAAAADwPwAAAAAAAPA/AAAAAAAA8D8AAAAAAADwPwAAAAAAAABAAAAAAAAAAEAAAAAAAAAAQAAAAAAAAABAAAAAAAAAAEAAAAAAAAAAQAAAAAAAAABAAAAAAAAAAEAAAAAAAAAAQAAAAAAAAABAAAAAAAAACEAAAAAAAAAIQAAAAAAAAAhAAAAAAAAACEAAAAAAAAAIQAAAAAAAAAhAAAAAAAAACEAAAAAAAAAIQAAAAAAAAAhAAAAAAAAACEAAAAAAAAAQQAAAAAAAABBAAAAAAAAAEEA=",
          "dtype": "f8"
         },
         "xaxis": "x",
         "y": {
          "bdata": "RgBBAEsAWgBQAHgAVQBaAGQAUABfAF8AaQCWAJYAWgB4AFoAUABkAG4AbgB4AGQAZABpAHgAggA=",
          "dtype": "i2"
         },
         "yaxis": "y"
        },
        {
         "customdata": [
          [
           "#-1",
           "Common",
           "Transporting"
          ],
          [
           "#28",
           "Common",
           "Handiwork, Transporting, Gathering, Medicine Production, Planting"
          ],
          [
           "#4",
           "Common",
           "Handiwork, Deforesting, Gathering, Medicine Production, Planting"
          ],
          [
           "#8",
           "Common",
           "Handiwork, Transporting, Deforesting, Gathering, Planting"
          ],
          [
           "#39",
           "Common",
           "Handiwork, Transporting, Gathering, Planting"
          ],
          [
           "#115",
           "Common",
           "Handiwork, Gathering, Medicine Production, Planting"
          ],
          [
           "#116",
           "Common",
           "Handiwork, Deforesting, Gathering, Planting"
          ],
          [
           "#48",
           "Rare",
           "Handiwork, Transporting, Deforesting, Gathering, Medicine Production, Planting"
          ],
          [
           "#141",
           "Common",
           "Transporting, Gathering, Planting"
          ],
          [
           "#51",
           "Epic",
           "Handiwork, Deforesting, Gathering, Medicine Production, Planting"
          ],
          [
           "#41",
           "Common",
           "Medicine Production, Planting"
          ],
          [
           "#30",
           "Common",
           "Handiwork, Transporting, Gathering, Medicine Production, Planting"
          ],
          [
           "#50",
           "Common",
           "Handiwork, Transporting, Deforesting, Gathering, Farming, Medicine Production, Planting"
          ],
          [
           "#35",
           "Common",
           "Farming, Planting"
          ],
          [
           "#87",
           "Epic",
           "Handiwork, Transporting, Gathering, Medicine Production, Planting"
          ],
          [
           "#144",
           "Common",
           "Mining, Gathering, Planting"
          ],
          [
           "#78",
           "Epic",
           "Handiwork, Transporting, Gathering, Medicine Production, Planting"
          ],
          [
           "#86",
           "Rare",
           "Planting"
          ],
          [
           "#33",
           "Rare",
           "Handiwork, Transporting, Deforesting, Planting"
          ],
          [
           "#77",
           "Epic",
           "Handiwork, Transporting, Deforesting, Gathering, Planting"
          ],
          [
           "#104",
           "Epic",
           "Handiwork, Gathering, Medicine Production, Planting"
          ],
          [
           "#91",
           "Epic",
           "Handiwork, Transporting, Deforesting, Planting"
          ]
         ],
         "hovertemplate": "Element Type=Leaf<br>Highest Work Suitability Level=%{x}<br>HP=%{y}<br>ID=%{customdata[0]}<br>Rarity=%{customdata[1]}<br>Work Types=%{customdata[2]}<extra></extra>",
         "legendgroup": "Leaf",
         "marker": {
          "color": "#FF97FF",
          "symbol": "circle"
         },
         "mode": "markers",
         "name": "Leaf",
         "orientation": "v",
         "showlegend": true,
         "type": "scatter",
         "x": {
          "bdata": "AAAAAAAA8D8AAAAAAADwPwAAAAAAAPA/AAAAAAAA8D8AAAAAAADwPwAAAAAAAABAAAAAAAAAAEAAAAAAAAAAQAAAAAAAAABAAAAAAAAAAEAAAAAAAAAAQAAAAAAAAABAAAAAAAAAAEAAAAAAAAAAQAAAAAAAAAhAAAAAAAAACEAAAAAAAAAIQAAAAAAAAAhAAAAAAAAACEAAAAAAAAAIQAAAAAAAABBAAAAAAAAAEEA=",
          "dtype": "f8"
         },
         "xaxis": "x",
         "y": {
          "bdata": "QQBLAEsAUABQAFoAbgBaAFAAWgBGAFAAUABkAGQAaQBkAHgAZABaAG4AjAA=",
          "dtype": "i2"
         },
         "yaxis": "y"
        }
       ],
       "layout": {
        "legend": {
         "title": {
          "text": "Element Type"
         },
         "tracegroupgap": 0
        },
        "template": {
         "data": {
          "bar": [
           {
            "error_x": {
             "color": "#2a3f5f"
            },
            "error_y": {
             "color": "#2a3f5f"
            },
            "marker": {
             "line": {
              "color": "#E5ECF6",
              "width": 0.5
             },
             "pattern": {
              "fillmode": "overlay",
              "size": 10,
              "solidity": 0.2
             }
            },
            "type": "bar"
           }
          ],
          "barpolar": [
           {
            "marker": {
             "line": {
              "color": "#E5ECF6",
              "width": 0.5
             },
             "pattern": {
              "fillmode": "overlay",
              "size": 10,
              "solidity": 0.2
             }
            },
            "type": "barpolar"
           }
          ],
          "carpet": [
           {
            "aaxis": {
             "endlinecolor": "#2a3f5f",
             "gridcolor": "white",
             "linecolor": "white",
             "minorgridcolor": "white",
             "startlinecolor": "#2a3f5f"
            },
            "baxis": {
             "endlinecolor": "#2a3f5f",
             "gridcolor": "white",
             "linecolor": "white",
             "minorgridcolor": "white",
             "startlinecolor": "#2a3f5f"
            },
            "type": "carpet"
           }
          ],
          "choropleth": [
           {
            "colorbar": {
             "outlinewidth": 0,
             "ticks": ""
            },
            "type": "choropleth"
           }
          ],
          "contour": [
           {
            "colorbar": {
             "outlinewidth": 0,
             "ticks": ""
            },
            "colorscale": [
             [
              0,
              "#0d0887"
             ],
             [
              0.1111111111111111,
              "#46039f"
             ],
             [
              0.2222222222222222,
              "#7201a8"
             ],
             [
              0.3333333333333333,
              "#9c179e"
             ],
             [
              0.4444444444444444,
              "#bd3786"
             ],
             [
              0.5555555555555556,
              "#d8576b"
             ],
             [
              0.6666666666666666,
              "#ed7953"
             ],
             [
              0.7777777777777778,
              "#fb9f3a"
             ],
             [
              0.8888888888888888,
              "#fdca26"
             ],
             [
              1,
              "#f0f921"
             ]
            ],
            "type": "contour"
           }
          ],
          "contourcarpet": [
           {
            "colorbar": {
             "outlinewidth": 0,
             "ticks": ""
            },
            "type": "contourcarpet"
           }
          ],
          "heatmap": [
           {
            "colorbar": {
             "outlinewidth": 0,
             "ticks": ""
            },
            "colorscale": [
             [
              0,
              "#0d0887"
             ],
             [
              0.1111111111111111,
              "#46039f"
             ],
             [
              0.2222222222222222,
              "#7201a8"
             ],
             [
              0.3333333333333333,
              "#9c179e"
             ],
             [
              0.4444444444444444,
              "#bd3786"
             ],
             [
              0.5555555555555556,
              "#d8576b"
             ],
             [
              0.6666666666666666,
              "#ed7953"
             ],
             [
              0.7777777777777778,
              "#fb9f3a"
             ],
             [
              0.8888888888888888,
              "#fdca26"
             ],
             [
              1,
              "#f0f921"
             ]
            ],
            "type": "heatmap"
           }
          ],
          "histogram": [
           {
            "marker": {
             "pattern": {
              "fillmode": "overlay",
              "size": 10,
              "solidity": 0.2
             }
            },
            "type": "histogram"
           }
          ],
          "histogram2d": [
           {
            "colorbar": {
             "outlinewidth": 0,
             "ticks": ""
            },
            "colorscale": [
             [
              0,
              "#0d0887"
             ],
             [
              0.1111111111111111,
              "#46039f"
             ],
             [
              0.2222222222222222,
              "#7201a8"
             ],
             [
              0.3333333333333333,
              "#9c179e"
             ],
             [
              0.4444444444444444,
              "#bd3786"
             ],
             [
              0.5555555555555556,
              "#d8576b"
             ],
             [
              0.6666666666666666,
              "#ed7953"
             ],
             [
              0.7777777777777778,
              "#fb9f3a"
             ],
             [
              0.8888888888888888,
              "#fdca26"
             ],
             [
              1,
              "#f0f921"
             ]
            ],
            "type": "histogram2d"
           }
          ],
          "histogram2dcontour": [
           {
            "colorbar": {
             "outlinewidth": 0,
             "ticks": ""
            },
            "colorscale": [
             [
              0,
              "#0d0887"
             ],
             [
              0.1111111111111111,
              "#46039f"
             ],
             [
              0.2222222222222222,
              "#7201a8"
             ],
             [
              0.3333333333333333,
              "#9c179e"
             ],
             [
              0.4444444444444444,
              "#bd3786"
             ],
             [
              0.5555555555555556,
              "#d8576b"
             ],
             [
              0.6666666666666666,
              "#ed7953"
             ],
             [
              0.7777777777777778,
              "#fb9f3a"
             ],
             [
              0.8888888888888888,
              "#fdca26"
             ],
             [
              1,
              "#f0f921"
             ]
            ],
            "type": "histogram2dcontour"
           }
          ],
          "mesh3d": [
           {
            "colorbar": {
             "outlinewidth": 0,
             "ticks": ""
            },
            "type": "mesh3d"
           }
          ],
          "parcoords": [
           {
            "line": {
             "colorbar": {
              "outlinewidth": 0,
              "ticks": ""
             }
            },
            "type": "parcoords"
           }
          ],
          "pie": [
           {
            "automargin": true,
            "type": "pie"
           }
          ],
          "scatter": [
           {
            "fillpattern": {
             "fillmode": "overlay",
             "size": 10,
             "solidity": 0.2
            },
            "type": "scatter"
           }
          ],
          "scatter3d": [
           {
            "line": {
             "colorbar": {
              "outlinewidth": 0,
              "ticks": ""
             }
            },
            "marker": {
             "colorbar": {
              "outlinewidth": 0,
              "ticks": ""
             }
            },
            "type": "scatter3d"
           }
          ],
          "scattercarpet": [
           {
            "marker": {
             "colorbar": {
              "outlinewidth": 0,
              "ticks": ""
             }
            },
            "type": "scattercarpet"
           }
          ],
          "scattergeo": [
           {
            "marker": {
             "colorbar": {
              "outlinewidth": 0,
              "ticks": ""
             }
            },
            "type": "scattergeo"
           }
          ],
          "scattergl": [
           {
            "marker": {
             "colorbar": {
              "outlinewidth": 0,
              "ticks": ""
             }
            },
            "type": "scattergl"
           }
          ],
          "scattermap": [
           {
            "marker": {
             "colorbar": {
              "outlinewidth": 0,
              "ticks": ""
             }
            },
            "type": "scattermap"
           }
          ],
          "scattermapbox": [
           {
            "marker": {
             "colorbar": {
              "outlinewidth": 0,
              "ticks": ""
             }
            },
            "type": "scattermapbox"
           }
          ],
          "scatterpolar": [
           {
            "marker": {
             "colorbar": {
              "outlinewidth": 0,
              "ticks": ""
             }
            },
            "type": "scatterpolar"
           }
          ],
          "scatterpolargl": [
           {
            "marker": {
             "colorbar": {
              "outlinewidth": 0,
              "ticks": ""
             }
            },
            "type": "scatterpolargl"
           }
          ],
          "scatterternary": [
           {
            "marker": {
             "colorbar": {
              "outlinewidth": 0,
              "ticks": ""
             }
            },
            "type": "scatterternary"
           }
          ],
          "surface": [
           {
            "colorbar": {
             "outlinewidth": 0,
             "ticks": ""
            },
            "colorscale": [
             [
              0,
              "#0d0887"
             ],
             [
              0.1111111111111111,
              "#46039f"
             ],
             [
              0.2222222222222222,
              "#7201a8"
             ],
             [
              0.3333333333333333,
              "#9c179e"
             ],
             [
              0.4444444444444444,
              "#bd3786"
             ],
             [
              0.5555555555555556,
              "#d8576b"
             ],
             [
              0.6666666666666666,
              "#ed7953"
             ],
             [
              0.7777777777777778,
              "#fb9f3a"
             ],
             [
              0.8888888888888888,
              "#fdca26"
             ],
             [
              1,
              "#f0f921"
             ]
            ],
            "type": "surface"
           }
          ],
          "table": [
           {
            "cells": {
             "fill": {
              "color": "#EBF0F8"
             },
             "line": {
              "color": "white"
             }
            },
            "header": {
             "fill": {
              "color": "#C8D4E3"
             },
             "line": {
              "color": "white"
             }
            },
            "type": "table"
           }
          ]
         },
         "layout": {
          "annotationdefaults": {
           "arrowcolor": "#2a3f5f",
           "arrowhead": 0,
           "arrowwidth": 1
          },
          "autotypenumbers": "strict",
          "coloraxis": {
           "colorbar": {
            "outlinewidth": 0,
            "ticks": ""
           }
          },
          "colorscale": {
           "diverging": [
            [
             0,
             "#8e0152"
            ],
            [
             0.1,
             "#c51b7d"
            ],
            [
             0.2,
             "#de77ae"
            ],
            [
             0.3,
             "#f1b6da"
            ],
            [
             0.4,
             "#fde0ef"
            ],
            [
             0.5,
             "#f7f7f7"
            ],
            [
             0.6,
             "#e6f5d0"
            ],
            [
             0.7,
             "#b8e186"
            ],
            [
             0.8,
             "#7fbc41"
            ],
            [
             0.9,
             "#4d9221"
            ],
            [
             1,
             "#276419"
            ]
           ],
           "sequential": [
            [
             0,
             "#0d0887"
            ],
            [
             0.1111111111111111,
             "#46039f"
            ],
            [
             0.2222222222222222,
             "#7201a8"
            ],
            [
             0.3333333333333333,
             "#9c179e"
            ],
            [
             0.4444444444444444,
             "#bd3786"
            ],
            [
             0.5555555555555556,
             "#d8576b"
            ],
            [
             0.6666666666666666,
             "#ed7953"
            ],
            [
             0.7777777777777778,
             "#fb9f3a"
            ],
            [
             0.8888888888888888,
             "#fdca26"
            ],
            [
             1,
             "#f0f921"
            ]
           ],
           "sequentialminus": [
            [
             0,
             "#0d0887"
            ],
            [
             0.1111111111111111,
             "#46039f"
            ],
            [
             0.2222222222222222,
             "#7201a8"
            ],
            [
             0.3333333333333333,
             "#9c179e"
            ],
            [
             0.4444444444444444,
             "#bd3786"
            ],
            [
             0.5555555555555556,
             "#d8576b"
            ],
            [
             0.6666666666666666,
             "#ed7953"
            ],
            [
             0.7777777777777778,
             "#fb9f3a"
            ],
            [
             0.8888888888888888,
             "#fdca26"
            ],
            [
             1,
             "#f0f921"
            ]
           ]
          },
          "colorway": [
           "#636efa",
           "#EF553B",
           "#00cc96",
           "#ab63fa",
           "#FFA15A",
           "#19d3f3",
           "#FF6692",
           "#B6E880",
           "#FF97FF",
           "#FECB52"
          ],
          "font": {
           "color": "#2a3f5f"
          },
          "geo": {
           "bgcolor": "white",
           "lakecolor": "white",
           "landcolor": "#E5ECF6",
           "showlakes": true,
           "showland": true,
           "subunitcolor": "white"
          },
          "hoverlabel": {
           "align": "left"
          },
          "hovermode": "closest",
          "mapbox": {
           "style": "light"
          },
          "paper_bgcolor": "white",
          "plot_bgcolor": "#E5ECF6",
          "polar": {
           "angularaxis": {
            "gridcolor": "white",
            "linecolor": "white",
            "ticks": ""
           },
           "bgcolor": "#E5ECF6",
           "radialaxis": {
            "gridcolor": "white",
            "linecolor": "white",
            "ticks": ""
           }
          },
          "scene": {
           "xaxis": {
            "backgroundcolor": "#E5ECF6",
            "gridcolor": "white",
            "gridwidth": 2,
            "linecolor": "white",
            "showbackground": true,
            "ticks": "",
            "zerolinecolor": "white"
           },
           "yaxis": {
            "backgroundcolor": "#E5ECF6",
            "gridcolor": "white",
            "gridwidth": 2,
            "linecolor": "white",
            "showbackground": true,
            "ticks": "",
            "zerolinecolor": "white"
           },
           "zaxis": {
            "backgroundcolor": "#E5ECF6",
            "gridcolor": "white",
            "gridwidth": 2,
            "linecolor": "white",
            "showbackground": true,
            "ticks": "",
            "zerolinecolor": "white"
           }
          },
          "shapedefaults": {
           "line": {
            "color": "#2a3f5f"
           }
          },
          "ternary": {
           "aaxis": {
            "gridcolor": "white",
            "linecolor": "white",
            "ticks": ""
           },
           "baxis": {
            "gridcolor": "white",
            "linecolor": "white",
            "ticks": ""
           },
           "bgcolor": "#E5ECF6",
           "caxis": {
            "gridcolor": "white",
            "linecolor": "white",
            "ticks": ""
           }
          },
          "title": {
           "x": 0.05
          },
          "xaxis": {
           "automargin": true,
           "gridcolor": "white",
           "linecolor": "white",
           "ticks": "",
           "title": {
            "standoff": 15
           },
           "zerolinecolor": "white",
           "zerolinewidth": 2
          },
          "yaxis": {
           "automargin": true,
           "gridcolor": "white",
           "linecolor": "white",
           "ticks": "",
           "title": {
            "standoff": 15
           },
           "zerolinecolor": "white",
           "zerolinewidth": 2
          }
         }
        },
        "title": {
         "text": "Work Suitability vs HP by Element Type"
        },
        "xaxis": {
         "anchor": "y",
         "domain": [
          0,
          1
         ],
         "title": {
          "text": "Highest Work Suitability Level"
         }
        },
        "yaxis": {
         "anchor": "x",
         "domain": [
          0,
          1
         ],
         "title": {
          "text": "HP"
         }
        }
       }
      }
     },
     "metadata": {},
     "output_type": "display_data"
    }
   ],
   "source": [
    "# 1. Scatter plot\n",
    "fig1 = px.scatter(\n",
    "    pal_frame_vis.sort_values(by = \"Highest Work Suitability Level\", ascending = True),\n",
    "    x=\"Highest Work Suitability Level\",\n",
    "    y=\"HP\",\n",
    "    color=\"Element Type\",\n",
    "    hover_data={\"ID\":True, \"Rarity\":True, \"Work Types\":True},\n",
    "    title=\"Work Suitability vs HP by Element Type\"\n",
    ")\n",
    "fig1.show()"
   ]
  },
  {
   "cell_type": "markdown",
   "metadata": {},
   "source": [
    "#### visualization 2"
   ]
  },
  {
   "cell_type": "code",
   "execution_count": 34,
   "metadata": {},
   "outputs": [
    {
     "data": {
      "application/vnd.plotly.v1+json": {
       "config": {
        "plotlyServerURL": "https://plot.ly"
       },
       "data": [
        {
         "alignmentgroup": "True",
         "hovertemplate": "Work skill=Handiwork<br>Element Type=%{x}<br>Average skill level=%{y}<extra></extra>",
         "legendgroup": "Handiwork",
         "marker": {
          "color": "#636efa",
          "pattern": {
           "shape": ""
          }
         },
         "name": "Handiwork",
         "offsetgroup": "Handiwork",
         "orientation": "v",
         "showlegend": true,
         "textposition": "auto",
         "type": "bar",
         "x": [
          "Earth",
          "Fire",
          "Dragon",
          "Dark",
          "Electricity",
          "Water",
          "Ice",
          "Leaf",
          "Normal"
         ],
         "xaxis": "x",
         "y": {
          "bdata": "27Zt27Zt2z900UUXXXThP57neZ7nec4/JUmSJEmS7D9VVVVVVVXlP9mJndiJndg/SZIkSZIk2T8AAAAAAIDwPwgffPDBB98/",
          "dtype": "f8"
         },
         "yaxis": "y"
        },
        {
         "alignmentgroup": "True",
         "hovertemplate": "Work skill=Mining<br>Element Type=%{x}<br>Average skill level=%{y}<extra></extra>",
         "legendgroup": "Mining",
         "marker": {
          "color": "#EF553B",
          "pattern": {
           "shape": ""
          }
         },
         "name": "Mining",
         "offsetgroup": "Mining",
         "orientation": "v",
         "showlegend": true,
         "textposition": "auto",
         "type": "bar",
         "x": [
          "Earth",
          "Fire",
          "Dragon",
          "Dark",
          "Electricity",
          "Water",
          "Ice",
          "Leaf",
          "Normal"
         ],
         "xaxis": "x",
         "y": {
          "bdata": "SZIkSZIk+T8nm2yyySbbP7dt27Zt2+Y/27Zt27Zt0z8cx3Ecx3G8P5AGaZAGadA/t23btm3b1j8AAAAAAADSPwgffPDBB78/",
          "dtype": "f8"
         },
         "yaxis": "y"
        },
        {
         "alignmentgroup": "True",
         "hovertemplate": "Work skill=Transporting<br>Element Type=%{x}<br>Average skill level=%{y}<extra></extra>",
         "legendgroup": "Transporting",
         "marker": {
          "color": "#00cc96",
          "pattern": {
           "shape": ""
          }
         },
         "name": "Transporting",
         "offsetgroup": "Transporting",
         "orientation": "v",
         "showlegend": true,
         "textposition": "auto",
         "type": "bar",
         "x": [
          "Earth",
          "Fire",
          "Dragon",
          "Dark",
          "Electricity",
          "Water",
          "Ice",
          "Leaf",
          "Normal"
         ],
         "xaxis": "x",
         "y": {
          "bdata": "btu2bdu27T8ffPDBBx/sPzEMwzAMw+A/btu2bdu28T8cx3Ecx3H0P77lW77lW+4/27Zt27Zt4z8AAAAAAADuP2WTTTbZZOM/",
          "dtype": "f8"
         },
         "yaxis": "y"
        },
        {
         "alignmentgroup": "True",
         "hovertemplate": "Work skill=Deforesting<br>Element Type=%{x}<br>Average skill level=%{y}<extra></extra>",
         "legendgroup": "Deforesting",
         "marker": {
          "color": "#ab63fa",
          "pattern": {
           "shape": ""
          }
         },
         "name": "Deforesting",
         "offsetgroup": "Deforesting",
         "orientation": "v",
         "showlegend": true,
         "textposition": "auto",
         "type": "bar",
         "x": [
          "Earth",
          "Fire",
          "Dragon",
          "Dark",
          "Electricity",
          "Water",
          "Ice",
          "Leaf",
          "Normal"
         ],
         "xaxis": "x",
         "y": {
          "bdata": "btu2bdu25T822WSTTTbZPzEMwzAMw+A/AAAAAAAA2D8AAAAAAADgPxqkQRqkQao/27Zt27Zt2z8AAAAAAADoPxdddNFFF90/",
          "dtype": "f8"
         },
         "yaxis": "y"
        },
        {
         "alignmentgroup": "True",
         "hovertemplate": "Work skill=Kindling<br>Element Type=%{x}<br>Average skill level=%{y}<extra></extra>",
         "legendgroup": "Kindling",
         "marker": {
          "color": "#FFA15A",
          "pattern": {
           "shape": ""
          }
         },
         "name": "Kindling",
         "offsetgroup": "Kindling",
         "orientation": "v",
         "showlegend": true,
         "textposition": "auto",
         "type": "bar",
         "x": [
          "Earth",
          "Fire",
          "Dragon",
          "Dark",
          "Electricity",
          "Water",
          "Ice",
          "Leaf",
          "Normal"
         ],
         "xaxis": "x",
         "y": {
          "bdata": "27Zt27Ztuz/44IMPPvgAQJ7neZ7ned4/JUmSJEmS1D8AAAAAAAAAABQ7sRM7scM/27Zt27Ztuz8AAAAAAAAAAAAAAAAAAAAA",
          "dtype": "f8"
         },
         "yaxis": "y"
        },
        {
         "alignmentgroup": "True",
         "hovertemplate": "Work skill=Gathering<br>Element Type=%{x}<br>Average skill level=%{y}<extra></extra>",
         "legendgroup": "Gathering",
         "marker": {
          "color": "#19d3f3",
          "pattern": {
           "shape": ""
          }
         },
         "name": "Gathering",
         "offsetgroup": "Gathering",
         "orientation": "v",
         "showlegend": true,
         "textposition": "auto",
         "type": "bar",
         "x": [
          "Earth",
          "Fire",
          "Dragon",
          "Dark",
          "Electricity",
          "Water",
          "Ice",
          "Leaf",
          "Normal"
         ],
         "xaxis": "x",
         "y": {
          "bdata": "kiRJkiRJ4j9lk0022WTDP57neZ7ned4/27Zt27Zt4z8cx3Ecx3G8PxqkQRqkQbo/AAAAAAAA0D8AAAAAAIDyPz744IMPPug/",
          "dtype": "f8"
         },
         "yaxis": "y"
        },
        {
         "alignmentgroup": "True",
         "hovertemplate": "Work skill=Generating Electricity<br>Element Type=%{x}<br>Average skill level=%{y}<extra></extra>",
         "legendgroup": "Generating Electricity",
         "marker": {
          "color": "#FF6692",
          "pattern": {
           "shape": ""
          }
         },
         "name": "Generating Electricity",
         "offsetgroup": "Generating Electricity",
         "orientation": "v",
         "showlegend": true,
         "textposition": "auto",
         "type": "bar",
         "x": [
          "Earth",
          "Fire",
          "Dragon",
          "Dark",
          "Electricity",
          "Water",
          "Ice",
          "Leaf",
          "Normal"
         ],
         "xaxis": "x",
         "y": {
          "bdata": "AAAAAAAAAAAAAAAAAAAAANu2bdu2bds/kiRJkiRJsj85juM4juMAQJAGaZAGacA/AAAAAAAAAAAAAAAAAAAAAAAAAAAAAAAA",
          "dtype": "f8"
         },
         "yaxis": "y"
        },
        {
         "alignmentgroup": "True",
         "hovertemplate": "Work skill=Watering<br>Element Type=%{x}<br>Average skill level=%{y}<extra></extra>",
         "legendgroup": "Watering",
         "marker": {
          "color": "#B6E880",
          "pattern": {
           "shape": ""
          }
         },
         "name": "Watering",
         "offsetgroup": "Watering",
         "orientation": "v",
         "showlegend": true,
         "textposition": "auto",
         "type": "bar",
         "x": [
          "Earth",
          "Fire",
          "Dragon",
          "Dark",
          "Electricity",
          "Water",
          "Ice",
          "Leaf",
          "Normal"
         ],
         "xaxis": "x",
         "y": {
          "bdata": "kiRJkiRJwj8nm2yyySbLP5IkSZIkSeI/t23btm3bxj8cx3Ecx3HMP9/yLd/yLf8/JUmSJEmS1D8AAAAAAAC4PwgffPDBB58/",
          "dtype": "f8"
         },
         "yaxis": "y"
        },
        {
         "alignmentgroup": "True",
         "hovertemplate": "Work skill=Cooling<br>Element Type=%{x}<br>Average skill level=%{y}<extra></extra>",
         "legendgroup": "Cooling",
         "marker": {
          "color": "#FF97FF",
          "pattern": {
           "shape": ""
          }
         },
         "name": "Cooling",
         "offsetgroup": "Cooling",
         "orientation": "v",
         "showlegend": true,
         "textposition": "auto",
         "type": "bar",
         "x": [
          "Earth",
          "Fire",
          "Dragon",
          "Dark",
          "Electricity",
          "Water",
          "Ice",
          "Leaf",
          "Normal"
         ],
         "xaxis": "x",
         "y": {
          "bdata": "t23btm3bxj8IH3zwwQe/PxiGYRiGYcg/kiRJkiRJoj8AAAAAAAAAABQ7sRM7sdM/kiRJkiRJAkAAAAAAAAAAAAAAAAAAAAAA",
          "dtype": "f8"
         },
         "yaxis": "y"
        },
        {
         "alignmentgroup": "True",
         "hovertemplate": "Work skill=Farming<br>Element Type=%{x}<br>Average skill level=%{y}<extra></extra>",
         "legendgroup": "Farming",
         "marker": {
          "color": "#FECB52",
          "pattern": {
           "shape": ""
          }
         },
         "name": "Farming",
         "offsetgroup": "Farming",
         "orientation": "v",
         "showlegend": true,
         "textposition": "auto",
         "type": "bar",
         "x": [
          "Earth",
          "Fire",
          "Dragon",
          "Dark",
          "Electricity",
          "Water",
          "Ice",
          "Leaf",
          "Normal"
         ],
         "xaxis": "x",
         "y": {
          "bdata": "kiRJkiRJsj9GF1100UW3PwAAAAAAAAAA27Zt27Ztqz8AAAAAAAAAABQ7sRM7sbM/kiRJkiRJsj8AAAAAAACwPyebbLLJJss/",
          "dtype": "f8"
         },
         "yaxis": "y"
        },
        {
         "alignmentgroup": "True",
         "hovertemplate": "Work skill=Medicine Production<br>Element Type=%{x}<br>Average skill level=%{y}<extra></extra>",
         "legendgroup": "Medicine Production",
         "marker": {
          "color": "#636efa",
          "pattern": {
           "shape": ""
          }
         },
         "name": "Medicine Production",
         "offsetgroup": "Medicine Production",
         "orientation": "v",
         "showlegend": true,
         "textposition": "auto",
         "type": "bar",
         "x": [
          "Earth",
          "Fire",
          "Dragon",
          "Dark",
          "Electricity",
          "Water",
          "Ice",
          "Leaf",
          "Normal"
         ],
         "xaxis": "x",
         "y": {
          "bdata": "kiRJkiRJsj8IH3zwwQevPwAAAAAAAAAAkiRJkiRJ4j8cx3Ecx3GsPxqkQRqkQZo/kiRJkiRJwj8AAAAAAADnP0YXXXTRRcc/",
          "dtype": "f8"
         },
         "yaxis": "y"
        },
        {
         "alignmentgroup": "True",
         "hovertemplate": "Work skill=Planting<br>Element Type=%{x}<br>Average skill level=%{y}<extra></extra>",
         "legendgroup": "Planting",
         "marker": {
          "color": "#EF553B",
          "pattern": {
           "shape": ""
          }
         },
         "name": "Planting",
         "offsetgroup": "Planting",
         "orientation": "v",
         "showlegend": true,
         "textposition": "auto",
         "type": "bar",
         "x": [
          "Earth",
          "Fire",
          "Dragon",
          "Dark",
          "Electricity",
          "Water",
          "Ice",
          "Leaf",
          "Normal"
         ],
         "xaxis": "x",
         "y": {
          "bdata": "kiRJkiRJ0j8AAAAAAAAAABiGYRiGYcg/AAAAAAAAwD8AAAAAAAAAAAAAAAAAAAAAAAAAAAAAAAAAAAAAAID7PwgffPDBB68/",
          "dtype": "f8"
         },
         "yaxis": "y"
        }
       ],
       "layout": {
        "barmode": "group",
        "legend": {
         "title": {
          "text": "Work skill"
         },
         "tracegroupgap": 0
        },
        "template": {
         "data": {
          "bar": [
           {
            "error_x": {
             "color": "#2a3f5f"
            },
            "error_y": {
             "color": "#2a3f5f"
            },
            "marker": {
             "line": {
              "color": "#E5ECF6",
              "width": 0.5
             },
             "pattern": {
              "fillmode": "overlay",
              "size": 10,
              "solidity": 0.2
             }
            },
            "type": "bar"
           }
          ],
          "barpolar": [
           {
            "marker": {
             "line": {
              "color": "#E5ECF6",
              "width": 0.5
             },
             "pattern": {
              "fillmode": "overlay",
              "size": 10,
              "solidity": 0.2
             }
            },
            "type": "barpolar"
           }
          ],
          "carpet": [
           {
            "aaxis": {
             "endlinecolor": "#2a3f5f",
             "gridcolor": "white",
             "linecolor": "white",
             "minorgridcolor": "white",
             "startlinecolor": "#2a3f5f"
            },
            "baxis": {
             "endlinecolor": "#2a3f5f",
             "gridcolor": "white",
             "linecolor": "white",
             "minorgridcolor": "white",
             "startlinecolor": "#2a3f5f"
            },
            "type": "carpet"
           }
          ],
          "choropleth": [
           {
            "colorbar": {
             "outlinewidth": 0,
             "ticks": ""
            },
            "type": "choropleth"
           }
          ],
          "contour": [
           {
            "colorbar": {
             "outlinewidth": 0,
             "ticks": ""
            },
            "colorscale": [
             [
              0,
              "#0d0887"
             ],
             [
              0.1111111111111111,
              "#46039f"
             ],
             [
              0.2222222222222222,
              "#7201a8"
             ],
             [
              0.3333333333333333,
              "#9c179e"
             ],
             [
              0.4444444444444444,
              "#bd3786"
             ],
             [
              0.5555555555555556,
              "#d8576b"
             ],
             [
              0.6666666666666666,
              "#ed7953"
             ],
             [
              0.7777777777777778,
              "#fb9f3a"
             ],
             [
              0.8888888888888888,
              "#fdca26"
             ],
             [
              1,
              "#f0f921"
             ]
            ],
            "type": "contour"
           }
          ],
          "contourcarpet": [
           {
            "colorbar": {
             "outlinewidth": 0,
             "ticks": ""
            },
            "type": "contourcarpet"
           }
          ],
          "heatmap": [
           {
            "colorbar": {
             "outlinewidth": 0,
             "ticks": ""
            },
            "colorscale": [
             [
              0,
              "#0d0887"
             ],
             [
              0.1111111111111111,
              "#46039f"
             ],
             [
              0.2222222222222222,
              "#7201a8"
             ],
             [
              0.3333333333333333,
              "#9c179e"
             ],
             [
              0.4444444444444444,
              "#bd3786"
             ],
             [
              0.5555555555555556,
              "#d8576b"
             ],
             [
              0.6666666666666666,
              "#ed7953"
             ],
             [
              0.7777777777777778,
              "#fb9f3a"
             ],
             [
              0.8888888888888888,
              "#fdca26"
             ],
             [
              1,
              "#f0f921"
             ]
            ],
            "type": "heatmap"
           }
          ],
          "histogram": [
           {
            "marker": {
             "pattern": {
              "fillmode": "overlay",
              "size": 10,
              "solidity": 0.2
             }
            },
            "type": "histogram"
           }
          ],
          "histogram2d": [
           {
            "colorbar": {
             "outlinewidth": 0,
             "ticks": ""
            },
            "colorscale": [
             [
              0,
              "#0d0887"
             ],
             [
              0.1111111111111111,
              "#46039f"
             ],
             [
              0.2222222222222222,
              "#7201a8"
             ],
             [
              0.3333333333333333,
              "#9c179e"
             ],
             [
              0.4444444444444444,
              "#bd3786"
             ],
             [
              0.5555555555555556,
              "#d8576b"
             ],
             [
              0.6666666666666666,
              "#ed7953"
             ],
             [
              0.7777777777777778,
              "#fb9f3a"
             ],
             [
              0.8888888888888888,
              "#fdca26"
             ],
             [
              1,
              "#f0f921"
             ]
            ],
            "type": "histogram2d"
           }
          ],
          "histogram2dcontour": [
           {
            "colorbar": {
             "outlinewidth": 0,
             "ticks": ""
            },
            "colorscale": [
             [
              0,
              "#0d0887"
             ],
             [
              0.1111111111111111,
              "#46039f"
             ],
             [
              0.2222222222222222,
              "#7201a8"
             ],
             [
              0.3333333333333333,
              "#9c179e"
             ],
             [
              0.4444444444444444,
              "#bd3786"
             ],
             [
              0.5555555555555556,
              "#d8576b"
             ],
             [
              0.6666666666666666,
              "#ed7953"
             ],
             [
              0.7777777777777778,
              "#fb9f3a"
             ],
             [
              0.8888888888888888,
              "#fdca26"
             ],
             [
              1,
              "#f0f921"
             ]
            ],
            "type": "histogram2dcontour"
           }
          ],
          "mesh3d": [
           {
            "colorbar": {
             "outlinewidth": 0,
             "ticks": ""
            },
            "type": "mesh3d"
           }
          ],
          "parcoords": [
           {
            "line": {
             "colorbar": {
              "outlinewidth": 0,
              "ticks": ""
             }
            },
            "type": "parcoords"
           }
          ],
          "pie": [
           {
            "automargin": true,
            "type": "pie"
           }
          ],
          "scatter": [
           {
            "fillpattern": {
             "fillmode": "overlay",
             "size": 10,
             "solidity": 0.2
            },
            "type": "scatter"
           }
          ],
          "scatter3d": [
           {
            "line": {
             "colorbar": {
              "outlinewidth": 0,
              "ticks": ""
             }
            },
            "marker": {
             "colorbar": {
              "outlinewidth": 0,
              "ticks": ""
             }
            },
            "type": "scatter3d"
           }
          ],
          "scattercarpet": [
           {
            "marker": {
             "colorbar": {
              "outlinewidth": 0,
              "ticks": ""
             }
            },
            "type": "scattercarpet"
           }
          ],
          "scattergeo": [
           {
            "marker": {
             "colorbar": {
              "outlinewidth": 0,
              "ticks": ""
             }
            },
            "type": "scattergeo"
           }
          ],
          "scattergl": [
           {
            "marker": {
             "colorbar": {
              "outlinewidth": 0,
              "ticks": ""
             }
            },
            "type": "scattergl"
           }
          ],
          "scattermap": [
           {
            "marker": {
             "colorbar": {
              "outlinewidth": 0,
              "ticks": ""
             }
            },
            "type": "scattermap"
           }
          ],
          "scattermapbox": [
           {
            "marker": {
             "colorbar": {
              "outlinewidth": 0,
              "ticks": ""
             }
            },
            "type": "scattermapbox"
           }
          ],
          "scatterpolar": [
           {
            "marker": {
             "colorbar": {
              "outlinewidth": 0,
              "ticks": ""
             }
            },
            "type": "scatterpolar"
           }
          ],
          "scatterpolargl": [
           {
            "marker": {
             "colorbar": {
              "outlinewidth": 0,
              "ticks": ""
             }
            },
            "type": "scatterpolargl"
           }
          ],
          "scatterternary": [
           {
            "marker": {
             "colorbar": {
              "outlinewidth": 0,
              "ticks": ""
             }
            },
            "type": "scatterternary"
           }
          ],
          "surface": [
           {
            "colorbar": {
             "outlinewidth": 0,
             "ticks": ""
            },
            "colorscale": [
             [
              0,
              "#0d0887"
             ],
             [
              0.1111111111111111,
              "#46039f"
             ],
             [
              0.2222222222222222,
              "#7201a8"
             ],
             [
              0.3333333333333333,
              "#9c179e"
             ],
             [
              0.4444444444444444,
              "#bd3786"
             ],
             [
              0.5555555555555556,
              "#d8576b"
             ],
             [
              0.6666666666666666,
              "#ed7953"
             ],
             [
              0.7777777777777778,
              "#fb9f3a"
             ],
             [
              0.8888888888888888,
              "#fdca26"
             ],
             [
              1,
              "#f0f921"
             ]
            ],
            "type": "surface"
           }
          ],
          "table": [
           {
            "cells": {
             "fill": {
              "color": "#EBF0F8"
             },
             "line": {
              "color": "white"
             }
            },
            "header": {
             "fill": {
              "color": "#C8D4E3"
             },
             "line": {
              "color": "white"
             }
            },
            "type": "table"
           }
          ]
         },
         "layout": {
          "annotationdefaults": {
           "arrowcolor": "#2a3f5f",
           "arrowhead": 0,
           "arrowwidth": 1
          },
          "autotypenumbers": "strict",
          "coloraxis": {
           "colorbar": {
            "outlinewidth": 0,
            "ticks": ""
           }
          },
          "colorscale": {
           "diverging": [
            [
             0,
             "#8e0152"
            ],
            [
             0.1,
             "#c51b7d"
            ],
            [
             0.2,
             "#de77ae"
            ],
            [
             0.3,
             "#f1b6da"
            ],
            [
             0.4,
             "#fde0ef"
            ],
            [
             0.5,
             "#f7f7f7"
            ],
            [
             0.6,
             "#e6f5d0"
            ],
            [
             0.7,
             "#b8e186"
            ],
            [
             0.8,
             "#7fbc41"
            ],
            [
             0.9,
             "#4d9221"
            ],
            [
             1,
             "#276419"
            ]
           ],
           "sequential": [
            [
             0,
             "#0d0887"
            ],
            [
             0.1111111111111111,
             "#46039f"
            ],
            [
             0.2222222222222222,
             "#7201a8"
            ],
            [
             0.3333333333333333,
             "#9c179e"
            ],
            [
             0.4444444444444444,
             "#bd3786"
            ],
            [
             0.5555555555555556,
             "#d8576b"
            ],
            [
             0.6666666666666666,
             "#ed7953"
            ],
            [
             0.7777777777777778,
             "#fb9f3a"
            ],
            [
             0.8888888888888888,
             "#fdca26"
            ],
            [
             1,
             "#f0f921"
            ]
           ],
           "sequentialminus": [
            [
             0,
             "#0d0887"
            ],
            [
             0.1111111111111111,
             "#46039f"
            ],
            [
             0.2222222222222222,
             "#7201a8"
            ],
            [
             0.3333333333333333,
             "#9c179e"
            ],
            [
             0.4444444444444444,
             "#bd3786"
            ],
            [
             0.5555555555555556,
             "#d8576b"
            ],
            [
             0.6666666666666666,
             "#ed7953"
            ],
            [
             0.7777777777777778,
             "#fb9f3a"
            ],
            [
             0.8888888888888888,
             "#fdca26"
            ],
            [
             1,
             "#f0f921"
            ]
           ]
          },
          "colorway": [
           "#636efa",
           "#EF553B",
           "#00cc96",
           "#ab63fa",
           "#FFA15A",
           "#19d3f3",
           "#FF6692",
           "#B6E880",
           "#FF97FF",
           "#FECB52"
          ],
          "font": {
           "color": "#2a3f5f"
          },
          "geo": {
           "bgcolor": "white",
           "lakecolor": "white",
           "landcolor": "#E5ECF6",
           "showlakes": true,
           "showland": true,
           "subunitcolor": "white"
          },
          "hoverlabel": {
           "align": "left"
          },
          "hovermode": "closest",
          "mapbox": {
           "style": "light"
          },
          "paper_bgcolor": "white",
          "plot_bgcolor": "#E5ECF6",
          "polar": {
           "angularaxis": {
            "gridcolor": "white",
            "linecolor": "white",
            "ticks": ""
           },
           "bgcolor": "#E5ECF6",
           "radialaxis": {
            "gridcolor": "white",
            "linecolor": "white",
            "ticks": ""
           }
          },
          "scene": {
           "xaxis": {
            "backgroundcolor": "#E5ECF6",
            "gridcolor": "white",
            "gridwidth": 2,
            "linecolor": "white",
            "showbackground": true,
            "ticks": "",
            "zerolinecolor": "white"
           },
           "yaxis": {
            "backgroundcolor": "#E5ECF6",
            "gridcolor": "white",
            "gridwidth": 2,
            "linecolor": "white",
            "showbackground": true,
            "ticks": "",
            "zerolinecolor": "white"
           },
           "zaxis": {
            "backgroundcolor": "#E5ECF6",
            "gridcolor": "white",
            "gridwidth": 2,
            "linecolor": "white",
            "showbackground": true,
            "ticks": "",
            "zerolinecolor": "white"
           }
          },
          "shapedefaults": {
           "line": {
            "color": "#2a3f5f"
           }
          },
          "ternary": {
           "aaxis": {
            "gridcolor": "white",
            "linecolor": "white",
            "ticks": ""
           },
           "baxis": {
            "gridcolor": "white",
            "linecolor": "white",
            "ticks": ""
           },
           "bgcolor": "#E5ECF6",
           "caxis": {
            "gridcolor": "white",
            "linecolor": "white",
            "ticks": ""
           }
          },
          "title": {
           "x": 0.05
          },
          "xaxis": {
           "automargin": true,
           "gridcolor": "white",
           "linecolor": "white",
           "ticks": "",
           "title": {
            "standoff": 15
           },
           "zerolinecolor": "white",
           "zerolinewidth": 2
          },
          "yaxis": {
           "automargin": true,
           "gridcolor": "white",
           "linecolor": "white",
           "ticks": "",
           "title": {
            "standoff": 15
           },
           "zerolinecolor": "white",
           "zerolinewidth": 2
          }
         }
        },
        "title": {
         "text": "Average Work Suitability Level by Element Type & Work Type"
        },
        "xaxis": {
         "anchor": "y",
         "domain": [
          0,
          1
         ],
         "title": {
          "text": "Element Type"
         }
        },
        "yaxis": {
         "anchor": "x",
         "domain": [
          0,
          1
         ],
         "title": {
          "text": "Average skill level"
         }
        }
       }
      }
     },
     "metadata": {},
     "output_type": "display_data"
    }
   ],
   "source": [
    "# 2. Grouped Bar Chart\n",
    "work_elem_stats = group_work_by_element(pal_frame_vis, work_list)\n",
    "\n",
    "fig2 = px.bar(\n",
    "    work_elem_stats,\n",
    "    barmode=\"group\",\n",
    "    title=\"Average Work Suitability Level by Element Type & Work Type\",\n",
    "    labels = {\"value\" : \"Average skill level\", \"index\" : \"Element Type\", \"variable\" : \"Work skill\" }\n",
    ")\n",
    "fig2.show()"
   ]
  },
  {
   "cell_type": "markdown",
   "metadata": {},
   "source": [
    "#### visualization 3"
   ]
  },
  {
   "cell_type": "code",
   "execution_count": null,
   "metadata": {},
   "outputs": [
    {
     "name": "stdout",
     "output_type": "stream",
     "text": [
      "       Rarity  Work Skill Count  Count\n",
      "0      Common               1.0     36\n",
      "1      Common               2.0     19\n",
      "2      Common               3.0     22\n",
      "3      Common               4.0     19\n",
      "4      Common               5.0      4\n",
      "5      Common               7.0      1\n",
      "6        Epic               1.0     12\n",
      "7        Epic               2.0     14\n",
      "8        Epic               3.0      9\n",
      "9        Epic               4.0      4\n",
      "10       Epic               5.0      5\n",
      "11  Legendary               1.0      4\n",
      "12  Legendary               2.0      2\n",
      "13  Legendary               3.0      2\n",
      "14       Rare               1.0     17\n",
      "15       Rare               2.0     21\n",
      "16       Rare               3.0     14\n",
      "17       Rare               4.0     11\n",
      "18       Rare               5.0      8\n",
      "19       Rare               6.0      1\n"
     ]
    },
    {
     "data": {
      "application/vnd.plotly.v1+json": {
       "config": {
        "plotlyServerURL": "https://plot.ly"
       },
       "data": [
        {
         "coloraxis": "coloraxis",
         "histfunc": "sum",
         "hovertemplate": "Work Skill Count=%{x}<br>Rarity=%{y}<br>sum of Count=%{z}<extra></extra>",
         "name": "",
         "type": "histogram2d",
         "x": {
          "bdata": "AAAAAAAA8D8AAAAAAAAAQAAAAAAAAAhAAAAAAAAAEEAAAAAAAAAUQAAAAAAAABxAAAAAAAAA8D8AAAAAAAAAQAAAAAAAAAhAAAAAAAAAEEAAAAAAAAAUQAAAAAAAAPA/AAAAAAAAAEAAAAAAAAAIQAAAAAAAAPA/AAAAAAAAAEAAAAAAAAAIQAAAAAAAABBAAAAAAAAAFEAAAAAAAAAYQA==",
          "dtype": "f8"
         },
         "xaxis": "x",
         "xbingroup": "x",
         "y": [
          "Common",
          "Common",
          "Common",
          "Common",
          "Common",
          "Common",
          "Epic",
          "Epic",
          "Epic",
          "Epic",
          "Epic",
          "Legendary",
          "Legendary",
          "Legendary",
          "Rare",
          "Rare",
          "Rare",
          "Rare",
          "Rare",
          "Rare"
         ],
         "yaxis": "y",
         "ybingroup": "y",
         "z": {
          "bdata": "JBMWEwQBDA4JBAUEAgIRFQ4LCAE=",
          "dtype": "i1"
         }
        }
       ],
       "layout": {
        "coloraxis": {
         "colorbar": {
          "title": {
           "text": "sum of Count"
          }
         },
         "colorscale": [
          [
           0,
           "#440154"
          ],
          [
           0.1111111111111111,
           "#482878"
          ],
          [
           0.2222222222222222,
           "#3e4989"
          ],
          [
           0.3333333333333333,
           "#31688e"
          ],
          [
           0.4444444444444444,
           "#26828e"
          ],
          [
           0.5555555555555556,
           "#1f9e89"
          ],
          [
           0.6666666666666666,
           "#35b779"
          ],
          [
           0.7777777777777778,
           "#6ece58"
          ],
          [
           0.8888888888888888,
           "#b5de2b"
          ],
          [
           1,
           "#fde725"
          ]
         ]
        },
        "legend": {
         "tracegroupgap": 0
        },
        "template": {
         "data": {
          "bar": [
           {
            "error_x": {
             "color": "#2a3f5f"
            },
            "error_y": {
             "color": "#2a3f5f"
            },
            "marker": {
             "line": {
              "color": "#E5ECF6",
              "width": 0.5
             },
             "pattern": {
              "fillmode": "overlay",
              "size": 10,
              "solidity": 0.2
             }
            },
            "type": "bar"
           }
          ],
          "barpolar": [
           {
            "marker": {
             "line": {
              "color": "#E5ECF6",
              "width": 0.5
             },
             "pattern": {
              "fillmode": "overlay",
              "size": 10,
              "solidity": 0.2
             }
            },
            "type": "barpolar"
           }
          ],
          "carpet": [
           {
            "aaxis": {
             "endlinecolor": "#2a3f5f",
             "gridcolor": "white",
             "linecolor": "white",
             "minorgridcolor": "white",
             "startlinecolor": "#2a3f5f"
            },
            "baxis": {
             "endlinecolor": "#2a3f5f",
             "gridcolor": "white",
             "linecolor": "white",
             "minorgridcolor": "white",
             "startlinecolor": "#2a3f5f"
            },
            "type": "carpet"
           }
          ],
          "choropleth": [
           {
            "colorbar": {
             "outlinewidth": 0,
             "ticks": ""
            },
            "type": "choropleth"
           }
          ],
          "contour": [
           {
            "colorbar": {
             "outlinewidth": 0,
             "ticks": ""
            },
            "colorscale": [
             [
              0,
              "#0d0887"
             ],
             [
              0.1111111111111111,
              "#46039f"
             ],
             [
              0.2222222222222222,
              "#7201a8"
             ],
             [
              0.3333333333333333,
              "#9c179e"
             ],
             [
              0.4444444444444444,
              "#bd3786"
             ],
             [
              0.5555555555555556,
              "#d8576b"
             ],
             [
              0.6666666666666666,
              "#ed7953"
             ],
             [
              0.7777777777777778,
              "#fb9f3a"
             ],
             [
              0.8888888888888888,
              "#fdca26"
             ],
             [
              1,
              "#f0f921"
             ]
            ],
            "type": "contour"
           }
          ],
          "contourcarpet": [
           {
            "colorbar": {
             "outlinewidth": 0,
             "ticks": ""
            },
            "type": "contourcarpet"
           }
          ],
          "heatmap": [
           {
            "colorbar": {
             "outlinewidth": 0,
             "ticks": ""
            },
            "colorscale": [
             [
              0,
              "#0d0887"
             ],
             [
              0.1111111111111111,
              "#46039f"
             ],
             [
              0.2222222222222222,
              "#7201a8"
             ],
             [
              0.3333333333333333,
              "#9c179e"
             ],
             [
              0.4444444444444444,
              "#bd3786"
             ],
             [
              0.5555555555555556,
              "#d8576b"
             ],
             [
              0.6666666666666666,
              "#ed7953"
             ],
             [
              0.7777777777777778,
              "#fb9f3a"
             ],
             [
              0.8888888888888888,
              "#fdca26"
             ],
             [
              1,
              "#f0f921"
             ]
            ],
            "type": "heatmap"
           }
          ],
          "histogram": [
           {
            "marker": {
             "pattern": {
              "fillmode": "overlay",
              "size": 10,
              "solidity": 0.2
             }
            },
            "type": "histogram"
           }
          ],
          "histogram2d": [
           {
            "colorbar": {
             "outlinewidth": 0,
             "ticks": ""
            },
            "colorscale": [
             [
              0,
              "#0d0887"
             ],
             [
              0.1111111111111111,
              "#46039f"
             ],
             [
              0.2222222222222222,
              "#7201a8"
             ],
             [
              0.3333333333333333,
              "#9c179e"
             ],
             [
              0.4444444444444444,
              "#bd3786"
             ],
             [
              0.5555555555555556,
              "#d8576b"
             ],
             [
              0.6666666666666666,
              "#ed7953"
             ],
             [
              0.7777777777777778,
              "#fb9f3a"
             ],
             [
              0.8888888888888888,
              "#fdca26"
             ],
             [
              1,
              "#f0f921"
             ]
            ],
            "type": "histogram2d"
           }
          ],
          "histogram2dcontour": [
           {
            "colorbar": {
             "outlinewidth": 0,
             "ticks": ""
            },
            "colorscale": [
             [
              0,
              "#0d0887"
             ],
             [
              0.1111111111111111,
              "#46039f"
             ],
             [
              0.2222222222222222,
              "#7201a8"
             ],
             [
              0.3333333333333333,
              "#9c179e"
             ],
             [
              0.4444444444444444,
              "#bd3786"
             ],
             [
              0.5555555555555556,
              "#d8576b"
             ],
             [
              0.6666666666666666,
              "#ed7953"
             ],
             [
              0.7777777777777778,
              "#fb9f3a"
             ],
             [
              0.8888888888888888,
              "#fdca26"
             ],
             [
              1,
              "#f0f921"
             ]
            ],
            "type": "histogram2dcontour"
           }
          ],
          "mesh3d": [
           {
            "colorbar": {
             "outlinewidth": 0,
             "ticks": ""
            },
            "type": "mesh3d"
           }
          ],
          "parcoords": [
           {
            "line": {
             "colorbar": {
              "outlinewidth": 0,
              "ticks": ""
             }
            },
            "type": "parcoords"
           }
          ],
          "pie": [
           {
            "automargin": true,
            "type": "pie"
           }
          ],
          "scatter": [
           {
            "fillpattern": {
             "fillmode": "overlay",
             "size": 10,
             "solidity": 0.2
            },
            "type": "scatter"
           }
          ],
          "scatter3d": [
           {
            "line": {
             "colorbar": {
              "outlinewidth": 0,
              "ticks": ""
             }
            },
            "marker": {
             "colorbar": {
              "outlinewidth": 0,
              "ticks": ""
             }
            },
            "type": "scatter3d"
           }
          ],
          "scattercarpet": [
           {
            "marker": {
             "colorbar": {
              "outlinewidth": 0,
              "ticks": ""
             }
            },
            "type": "scattercarpet"
           }
          ],
          "scattergeo": [
           {
            "marker": {
             "colorbar": {
              "outlinewidth": 0,
              "ticks": ""
             }
            },
            "type": "scattergeo"
           }
          ],
          "scattergl": [
           {
            "marker": {
             "colorbar": {
              "outlinewidth": 0,
              "ticks": ""
             }
            },
            "type": "scattergl"
           }
          ],
          "scattermap": [
           {
            "marker": {
             "colorbar": {
              "outlinewidth": 0,
              "ticks": ""
             }
            },
            "type": "scattermap"
           }
          ],
          "scattermapbox": [
           {
            "marker": {
             "colorbar": {
              "outlinewidth": 0,
              "ticks": ""
             }
            },
            "type": "scattermapbox"
           }
          ],
          "scatterpolar": [
           {
            "marker": {
             "colorbar": {
              "outlinewidth": 0,
              "ticks": ""
             }
            },
            "type": "scatterpolar"
           }
          ],
          "scatterpolargl": [
           {
            "marker": {
             "colorbar": {
              "outlinewidth": 0,
              "ticks": ""
             }
            },
            "type": "scatterpolargl"
           }
          ],
          "scatterternary": [
           {
            "marker": {
             "colorbar": {
              "outlinewidth": 0,
              "ticks": ""
             }
            },
            "type": "scatterternary"
           }
          ],
          "surface": [
           {
            "colorbar": {
             "outlinewidth": 0,
             "ticks": ""
            },
            "colorscale": [
             [
              0,
              "#0d0887"
             ],
             [
              0.1111111111111111,
              "#46039f"
             ],
             [
              0.2222222222222222,
              "#7201a8"
             ],
             [
              0.3333333333333333,
              "#9c179e"
             ],
             [
              0.4444444444444444,
              "#bd3786"
             ],
             [
              0.5555555555555556,
              "#d8576b"
             ],
             [
              0.6666666666666666,
              "#ed7953"
             ],
             [
              0.7777777777777778,
              "#fb9f3a"
             ],
             [
              0.8888888888888888,
              "#fdca26"
             ],
             [
              1,
              "#f0f921"
             ]
            ],
            "type": "surface"
           }
          ],
          "table": [
           {
            "cells": {
             "fill": {
              "color": "#EBF0F8"
             },
             "line": {
              "color": "white"
             }
            },
            "header": {
             "fill": {
              "color": "#C8D4E3"
             },
             "line": {
              "color": "white"
             }
            },
            "type": "table"
           }
          ]
         },
         "layout": {
          "annotationdefaults": {
           "arrowcolor": "#2a3f5f",
           "arrowhead": 0,
           "arrowwidth": 1
          },
          "autotypenumbers": "strict",
          "coloraxis": {
           "colorbar": {
            "outlinewidth": 0,
            "ticks": ""
           }
          },
          "colorscale": {
           "diverging": [
            [
             0,
             "#8e0152"
            ],
            [
             0.1,
             "#c51b7d"
            ],
            [
             0.2,
             "#de77ae"
            ],
            [
             0.3,
             "#f1b6da"
            ],
            [
             0.4,
             "#fde0ef"
            ],
            [
             0.5,
             "#f7f7f7"
            ],
            [
             0.6,
             "#e6f5d0"
            ],
            [
             0.7,
             "#b8e186"
            ],
            [
             0.8,
             "#7fbc41"
            ],
            [
             0.9,
             "#4d9221"
            ],
            [
             1,
             "#276419"
            ]
           ],
           "sequential": [
            [
             0,
             "#0d0887"
            ],
            [
             0.1111111111111111,
             "#46039f"
            ],
            [
             0.2222222222222222,
             "#7201a8"
            ],
            [
             0.3333333333333333,
             "#9c179e"
            ],
            [
             0.4444444444444444,
             "#bd3786"
            ],
            [
             0.5555555555555556,
             "#d8576b"
            ],
            [
             0.6666666666666666,
             "#ed7953"
            ],
            [
             0.7777777777777778,
             "#fb9f3a"
            ],
            [
             0.8888888888888888,
             "#fdca26"
            ],
            [
             1,
             "#f0f921"
            ]
           ],
           "sequentialminus": [
            [
             0,
             "#0d0887"
            ],
            [
             0.1111111111111111,
             "#46039f"
            ],
            [
             0.2222222222222222,
             "#7201a8"
            ],
            [
             0.3333333333333333,
             "#9c179e"
            ],
            [
             0.4444444444444444,
             "#bd3786"
            ],
            [
             0.5555555555555556,
             "#d8576b"
            ],
            [
             0.6666666666666666,
             "#ed7953"
            ],
            [
             0.7777777777777778,
             "#fb9f3a"
            ],
            [
             0.8888888888888888,
             "#fdca26"
            ],
            [
             1,
             "#f0f921"
            ]
           ]
          },
          "colorway": [
           "#636efa",
           "#EF553B",
           "#00cc96",
           "#ab63fa",
           "#FFA15A",
           "#19d3f3",
           "#FF6692",
           "#B6E880",
           "#FF97FF",
           "#FECB52"
          ],
          "font": {
           "color": "#2a3f5f"
          },
          "geo": {
           "bgcolor": "white",
           "lakecolor": "white",
           "landcolor": "#E5ECF6",
           "showlakes": true,
           "showland": true,
           "subunitcolor": "white"
          },
          "hoverlabel": {
           "align": "left"
          },
          "hovermode": "closest",
          "mapbox": {
           "style": "light"
          },
          "paper_bgcolor": "white",
          "plot_bgcolor": "#E5ECF6",
          "polar": {
           "angularaxis": {
            "gridcolor": "white",
            "linecolor": "white",
            "ticks": ""
           },
           "bgcolor": "#E5ECF6",
           "radialaxis": {
            "gridcolor": "white",
            "linecolor": "white",
            "ticks": ""
           }
          },
          "scene": {
           "xaxis": {
            "backgroundcolor": "#E5ECF6",
            "gridcolor": "white",
            "gridwidth": 2,
            "linecolor": "white",
            "showbackground": true,
            "ticks": "",
            "zerolinecolor": "white"
           },
           "yaxis": {
            "backgroundcolor": "#E5ECF6",
            "gridcolor": "white",
            "gridwidth": 2,
            "linecolor": "white",
            "showbackground": true,
            "ticks": "",
            "zerolinecolor": "white"
           },
           "zaxis": {
            "backgroundcolor": "#E5ECF6",
            "gridcolor": "white",
            "gridwidth": 2,
            "linecolor": "white",
            "showbackground": true,
            "ticks": "",
            "zerolinecolor": "white"
           }
          },
          "shapedefaults": {
           "line": {
            "color": "#2a3f5f"
           }
          },
          "ternary": {
           "aaxis": {
            "gridcolor": "white",
            "linecolor": "white",
            "ticks": ""
           },
           "baxis": {
            "gridcolor": "white",
            "linecolor": "white",
            "ticks": ""
           },
           "bgcolor": "#E5ECF6",
           "caxis": {
            "gridcolor": "white",
            "linecolor": "white",
            "ticks": ""
           }
          },
          "title": {
           "x": 0.05
          },
          "xaxis": {
           "automargin": true,
           "gridcolor": "white",
           "linecolor": "white",
           "ticks": "",
           "title": {
            "standoff": 15
           },
           "zerolinecolor": "white",
           "zerolinewidth": 2
          },
          "yaxis": {
           "automargin": true,
           "gridcolor": "white",
           "linecolor": "white",
           "ticks": "",
           "title": {
            "standoff": 15
           },
           "zerolinecolor": "white",
           "zerolinewidth": 2
          }
         }
        },
        "title": {
         "text": "Rarity vs. Number of Work Suitabilities (Frequency)"
        },
        "xaxis": {
         "anchor": "y",
         "domain": [
          0,
          1
         ],
         "title": {
          "text": "Work Skill Count"
         }
        },
        "yaxis": {
         "anchor": "x",
         "domain": [
          0,
          1
         ],
         "title": {
          "text": "Rarity"
         }
        }
       }
      }
     },
     "metadata": {},
     "output_type": "display_data"
    }
   ],
   "source": [
    "# 3. Heatmap\n",
    "heat_df = pal_frame_vis.groupby([\"Rarity\",\"Work Skill Count\"]).size().reset_index(name=\"Count\")\n",
    "print(heat_df)\n",
    "fig3 = px.density_heatmap(\n",
    "    heat_df,\n",
    "    x=\"Work Skill Count\", y=\"Rarity\", z=\"Count\", color_continuous_scale=\"Viridis\",\n",
    "    title=\"Rarity vs. Number of Work Suitabilities (Frequency)\"\n",
    ")\n",
    "fig3.\n",
    "fig3.show()"
   ]
  },
  {
   "cell_type": "code",
   "execution_count": null,
   "metadata": {},
   "outputs": [],
   "source": [
    "# 4. Boxplots\n",
    "fig4 = px.box(pal_frame_vis, x=\"Rarity\", y=\"HP\", color=\"Element Type\",\n",
    "              title=\"HP Distribution by Rarity\")\n",
    "fig4.show()\n",
    "\n",
    "fig5 = px.box(pal_frame_vis, x=\"Rarity\", y=\"Defense\", color=\"Element Type\",\n",
    "              title=\"Defense Distribution by Rarity\")\n",
    "fig5.show()"
   ]
  },
  {
   "cell_type": "markdown",
   "metadata": {},
   "source": [
    "## Models\n",
    "\n",
    "### Modeling functions overview\n",
    "List all the functions you have written for modeling. For each one, write one sentence to describe it. \n",
    "- `fit_linear()`\n",
    "    - fit a linear model to the data and output the r2, slope and intercept\n",
    "\n",
    "### Model results\n",
    "\n",
    "- Present 2-3 models for the analysis.\n",
    "- Explain any pre-processing steps you have done (eg: scaling, polynomial, dummy features)\n",
    "- For each model, explain why you think this model is suitable and what metrics you want to use to evaluate the model\n",
    "    - If it is a classification model, you need to present the confusion matrix, calculate the accuracy, sensitivity and specificity with cross-validation\n",
    "    - If it is a regression model, you need to present the r2 and MSE with cross-validation\n",
    "    - If it is a linear regression model/multiple linear regression model, you need to interpret the meaning of the coefficient with the full data\n",
    "    - If it is a decision tree model, you need to plot the tree with the full data\n",
    "    - If it is a random forest model, you need to present the feature importance plot with the full data\n",
    "    - If it is a PCA, you need to explain how to select the number of components and interpret the key features in the first two components\n",
    "    - If it is a clustering, you need explain how to select the number of clustering and summarize the clustering. "
   ]
  },
  {
   "cell_type": "code",
   "execution_count": null,
   "metadata": {},
   "outputs": [],
   "source": [
    "# list all the functions you have for modeling. Make sure write full \n",
    "# docstrings for each function\n",
    "def fit_linear(df, y_feat, x_feat):\n",
    "    \"\"\"\n",
    "    Fit a linear model to the data and output the r2, slope and intercept.\n",
    "   Args:\n",
    "        df (DataFrame): The DataFrame of Pal data to use.\n",
    "        y_feat (str): The name of the feature to use as the dependent variable.\n",
    "        x_feat (str): The name of the feature to use as the independent variable.\n",
    "    Returns:\n",
    "        r2 (float): The r-squared value of the fitted model.\n",
    "        slope (float): The slope of the fitted model.\n",
    "        intercept (float): The intercept of the fitted model.\n",
    "    \"\"\"\n",
    "    \n",
    "    # Drop rows with NaN values in the specified columns.\n",
    "    clean_df = df[[y_feat, x_feat]].dropna()\n",
    "    X = clean_df[[x_feat]].to_numpy().reshape(-1, 1)\n",
    "    y = clean_df[y_feat].to_numpy()\n",
    "    # Split the data into training and testing sets.\n",
    "    X_train, X_test, y_train, y_test = train_test_split(X, y, test_size=0.2, random_state=42)\n",
    "    # Fit the linear regression model.\n",
    "    model = LinearRegression()\n",
    "    model.fit(X_train, y_train)\n",
    "    # Make predictions on the test set.\n",
    "    y_pred = model.predict(X_test)\n",
    "    # Calculate the r-squared value, slope, and intercept.\n",
    "    r2 = r2_score(y_test, y_pred)\n",
    "    slope = model.coef_[0]\n",
    "    intercept = model.intercept_\n",
    "    return r2, slope, intercept"
   ]
  },
  {
   "cell_type": "markdown",
   "metadata": {},
   "source": [
    "#### Model 1"
   ]
  },
  {
   "cell_type": "code",
   "execution_count": 8,
   "metadata": {},
   "outputs": [
    {
     "name": "stdout",
     "output_type": "stream",
     "text": [
      "Model 1: R2 = 0.3991006793555303, Slope = 12.481549523296692, Intercept = 66.27680466250673\n"
     ]
    }
   ],
   "source": [
    "# Write the code to run functions to fit each model in separate code chunks.\n",
    "r2, slope, intercept = fit_linear(pal_frame_vis, \"HP\", \"Highest Work Suitability Level\")\n",
    "print(f\"Model 1: R2 = {r2}, Slope = {slope}, Intercept = {intercept}\")"
   ]
  },
  {
   "cell_type": "code",
   "execution_count": 9,
   "metadata": {},
   "outputs": [
    {
     "data": {
      "application/vnd.plotly.v1+json": {
       "config": {
        "plotlyServerURL": "https://plot.ly"
       },
       "data": [
        {
         "customdata": [
          [
           "#-1",
           "Common",
           "Transporting"
          ],
          [
           "#25",
           "Common",
           "Transporting, Watering"
          ],
          [
           "#114",
           "Common",
           "Handiwork, Transporting, Gathering, Watering"
          ],
          [
           "#81",
           "Common",
           "Watering, Farming"
          ],
          [
           "#6",
           "Common",
           "Handiwork, Transporting, Watering"
          ],
          [
           "#16",
           "Common",
           "Watering"
          ],
          [
           "#10",
           "Common",
           "Handiwork, Transporting, Watering, Cooling"
          ],
          [
           "#150",
           "Common",
           "Handiwork, Transporting, Watering"
          ],
          [
           "#31",
           "Common",
           "Handiwork, Transporting, Watering"
          ],
          [
           "#152",
           "Common",
           "Transporting, Watering"
          ],
          [
           "#11",
           "Rare",
           "Handiwork, Mining, Transporting, Watering, Cooling"
          ],
          [
           "#146",
           "Common",
           "Transporting, Watering, Cooling"
          ],
          [
           "#148",
           "Common",
           "Mining, Transporting, Watering"
          ],
          [
           "#23",
           "Common",
           "Transporting, Gathering, Watering"
          ],
          [
           "#65",
           "Common",
           "Watering"
          ],
          [
           "#86",
           "Epic",
           "Watering"
          ],
          [
           "#147",
           "Rare",
           "Watering, Cooling"
          ],
          [
           "#102",
           "Epic",
           "Watering"
          ],
          [
           "#105",
           "Epic",
           "Transporting, Watering"
          ],
          [
           "#155",
           "Legendary",
           "Watering"
          ],
          [
           "#154",
           "Rare",
           "Watering, Cooling"
          ]
         ],
         "hovertemplate": "Element Type=Water<br>Highest Work Suitability Level=%{x}<br>HP=%{y}<br>ID=%{customdata[0]}<br>Rarity=%{customdata[1]}<br>Work Types=%{customdata[2]}<extra></extra>",
         "legendgroup": "Water",
         "marker": {
          "color": "#636efa",
          "symbol": "circle"
         },
         "mode": "markers",
         "name": "Water",
         "orientation": "v",
         "showlegend": true,
         "type": "scatter",
         "x": {
          "bdata": "AAAAAAAA8D8AAAAAAADwPwAAAAAAAPA/AAAAAAAA8D8AAAAAAADwPwAAAAAAAPA/AAAAAAAA8D8AAAAAAAAAQAAAAAAAAABAAAAAAAAAAEAAAAAAAAAAQAAAAAAAAABAAAAAAAAAAEAAAAAAAAAAQAAAAAAAAABAAAAAAAAACEAAAAAAAAAIQAAAAAAAAAhAAAAAAAAAEEAAAAAAAAAQQAAAAAAAABBA",
          "dtype": "f8"
         },
         "xaxis": "x",
         "y": {
          "bdata": "RlBQRjxGRktaS19LS0ZaeF99ZGlp",
          "dtype": "i1"
         },
         "yaxis": "y"
        },
        {
         "customdata": [
          [
           "#2",
           "Common",
           "Handiwork, Mining, Transporting, Gathering"
          ],
          [
           "#-1",
           "Common",
           "Gathering"
          ],
          [
           "#3",
           "Common",
           "Gathering, Farming"
          ],
          [
           "#18",
           "Common",
           "Gathering, Farming"
          ],
          [
           "#26",
           "Common",
           "Gathering"
          ],
          [
           "#-1",
           "Common",
           "Deforesting"
          ],
          [
           "#-1",
           "Common",
           "Gathering"
          ],
          [
           "#-1",
           "Common",
           "Transporting"
          ],
          [
           "#1",
           "Common",
           "Handiwork, Transporting, Farming"
          ],
          [
           "#89",
           "Epic",
           "Gathering"
          ],
          [
           "#27",
           "Common",
           "Gathering"
          ],
          [
           "#34",
           "Common",
           "Farming"
          ],
          [
           "#-1",
           "Common",
           "Transporting"
          ],
          [
           "#39",
           "Common",
           "Handiwork, Transporting, Gathering"
          ],
          [
           "#29",
           "Common",
           "Farming"
          ],
          [
           "#36",
           "Common",
           "Farming"
          ],
          [
           "#124",
           "Rare",
           "Transporting, Gathering"
          ],
          [
           "#14",
           "Common",
           "Gathering, Farming"
          ],
          [
           "#69",
           "Rare",
           "Handiwork, Mining, Transporting, Medicine Production"
          ],
          [
           "#52",
           "Rare",
           "Gathering"
          ],
          [
           "#108",
           "Legendary",
           "Mining, Deforesting"
          ],
          [
           "#38",
           "Common",
           "Gathering"
          ],
          [
           "#37",
           "Common",
           "Deforesting"
          ],
          [
           "#47",
           "Common",
           "Gathering"
          ],
          [
           "#93",
           "Common",
           "Deforesting"
          ],
          [
           "#121",
           "Common",
           "Gathering"
          ],
          [
           "#49",
           "Rare",
           "Handiwork, Transporting, Deforesting"
          ],
          [
           "#122",
           "Rare",
           "Handiwork, Transporting, Deforesting, Gathering, Medicine Production"
          ],
          [
           "#63",
           "Rare",
           "Handiwork, Transporting, Gathering"
          ],
          [
           "#132",
           "Rare",
           "Deforesting, Gathering"
          ]
         ],
         "hovertemplate": "Element Type=Normal<br>Highest Work Suitability Level=%{x}<br>HP=%{y}<br>ID=%{customdata[0]}<br>Rarity=%{customdata[1]}<br>Work Types=%{customdata[2]}<extra></extra>",
         "legendgroup": "Normal",
         "marker": {
          "color": "#EF553B",
          "symbol": "circle"
         },
         "mode": "markers",
         "name": "Normal",
         "orientation": "v",
         "showlegend": true,
         "type": "scatter",
         "x": {
          "bdata": "AAAAAAAA8D8AAAAAAADwPwAAAAAAAPA/AAAAAAAA8D8AAAAAAADwPwAAAAAAAPA/AAAAAAAA8D8AAAAAAADwPwAAAAAAAPA/AAAAAAAA8D8AAAAAAADwPwAAAAAAAPA/AAAAAAAA8D8AAAAAAADwPwAAAAAAAPA/AAAAAAAA8D8AAAAAAADwPwAAAAAAAPA/AAAAAAAAAEAAAAAAAAAAQAAAAAAAAABAAAAAAAAAAEAAAAAAAAAAQAAAAAAAAABAAAAAAAAAAEAAAAAAAAAAQAAAAAAAAAhAAAAAAAAACEAAAAAAAAAIQAAAAAAAABBA",
          "dtype": "f8"
         },
         "xaxis": "x",
         "y": {
          "bdata": "RgBBADwARgBQAF8AUABQAEYAeAA8AEYAaQBLAFoAWgA8AEYAeABuAIIAZABfAEsAbgBVAFoAWgBaAHgA",
          "dtype": "i2"
         },
         "yaxis": "y"
        },
        {
         "customdata": [
          [
           "#44",
           "Common",
           "Deforesting"
          ],
          [
           "#62",
           "Common",
           "Handiwork, Transporting, Generating Electricity, Medicine Production"
          ],
          [
           "#-1",
           "Common",
           "Transporting"
          ],
          [
           "#17",
           "Common",
           "Handiwork, Mining, Transporting"
          ],
          [
           "#114",
           "Rare",
           "Handiwork, Transporting, Gathering, Watering"
          ],
          [
           "#19",
           "Common",
           "Handiwork, Transporting, Gathering"
          ],
          [
           "#15",
           "Common",
           "Gathering"
          ],
          [
           "#45",
           "Common",
           "Handiwork, Transporting, Gathering"
          ],
          [
           "#-1",
           "Common",
           "Transporting"
          ],
          [
           "#107",
           "Epic",
           "Gathering"
          ],
          [
           "#133",
           "Common",
           "Gathering"
          ],
          [
           "#21",
           "Rare",
           "Gathering"
          ],
          [
           "#24",
           "Common",
           "Farming"
          ],
          [
           "#46",
           "Common",
           "Handiwork"
          ],
          [
           "#61",
           "Rare",
           "Kindling"
          ],
          [
           "#149",
           "Common",
           "Handiwork, Transporting, Watering, Medicine Production"
          ],
          [
           "#23",
           "Common",
           "Transporting, Gathering, Watering"
          ],
          [
           "#75",
           "Rare",
           "Handiwork, Transporting, Medicine Production"
          ],
          [
           "#40",
           "Rare",
           "Handiwork, Mining, Transporting"
          ],
          [
           "#116",
           "Rare",
           "Handiwork, Deforesting, Gathering, Planting"
          ],
          [
           "#131",
           "Common",
           "Gathering"
          ],
          [
           "#151",
           "Rare",
           "Handiwork, Transporting, Watering"
          ],
          [
           "#35",
           "Common",
           "Farming, Planting"
          ],
          [
           "#129",
           "Rare",
           "Gathering"
          ],
          [
           "#68",
           "Rare",
           "Mining, Transporting, Gathering"
          ],
          [
           "#135",
           "Common",
           "Handiwork, Transporting, Gathering, Medicine Production"
          ],
          [
           "#66",
           "Rare",
           "Mining, Gathering"
          ],
          [
           "#109",
           "Legendary",
           "Mining, Deforesting"
          ],
          [
           "#125",
           "Rare",
           "Transporting, Deforesting"
          ],
          [
           "#138",
           "Rare",
           "Handiwork, Transporting, Gathering, Medicine Production, Planting"
          ],
          [
           "#97",
           "Epic",
           "Transporting, Generating Electricity"
          ],
          [
           "#97",
           "Rare",
           "Transporting"
          ],
          [
           "#94",
           "Rare",
           "Medicine Production"
          ],
          [
           "#104",
           "Epic",
           "Handiwork, Gathering, Medicine Production"
          ],
          [
           "#139",
           "Common",
           "Handiwork, Transporting, Deforesting, Gathering"
          ],
          [
           "#128",
           "Rare",
           "Handiwork, Transporting"
          ],
          [
           "#71",
           "Rare",
           "Transporting, Cooling"
          ],
          [
           "#112",
           "Legendary",
           "Handiwork, Transporting, Medicine Production"
          ],
          [
           "#-1",
           "Rare",
           "Transporting"
          ],
          [
           "#112",
           "Legendary",
           "Handiwork, Transporting, Medicine Production"
          ],
          [
           "#153",
           "Rare",
           "Transporting, Watering"
          ],
          [
           "#110",
           "Legendary",
           "Gathering"
          ],
          [
           "#134",
           "Common",
           "Handiwork, Transporting, Deforesting, Medicine Production"
          ],
          [
           "#113",
           "Epic",
           "Handiwork, Transporting, Medicine Production"
          ]
         ],
         "hovertemplate": "Element Type=Dark<br>Highest Work Suitability Level=%{x}<br>HP=%{y}<br>ID=%{customdata[0]}<br>Rarity=%{customdata[1]}<br>Work Types=%{customdata[2]}<extra></extra>",
         "legendgroup": "Dark",
         "marker": {
          "color": "#00cc96",
          "symbol": "circle"
         },
         "mode": "markers",
         "name": "Dark",
         "orientation": "v",
         "showlegend": true,
         "type": "scatter",
         "x": {
          "bdata": "AAAAAAAA8D8AAAAAAADwPwAAAAAAAPA/AAAAAAAA8D8AAAAAAADwPwAAAAAAAPA/AAAAAAAA8D8AAAAAAADwPwAAAAAAAPA/AAAAAAAA8D8AAAAAAADwPwAAAAAAAPA/AAAAAAAA8D8AAAAAAAAAQAAAAAAAAABAAAAAAAAAAEAAAAAAAAAAQAAAAAAAAABAAAAAAAAAAEAAAAAAAAAAQAAAAAAAAABAAAAAAAAAAEAAAAAAAAAAQAAAAAAAAABAAAAAAAAAAEAAAAAAAAAAQAAAAAAAAABAAAAAAAAAAEAAAAAAAAAAQAAAAAAAAAhAAAAAAAAACEAAAAAAAAAIQAAAAAAAAAhAAAAAAAAACEAAAAAAAAAIQAAAAAAAAAhAAAAAAAAACEAAAAAAAAAQQAAAAAAAABBAAAAAAAAAEEAAAAAAAAAQQAAAAAAAABBAAAAAAAAAEEAAAAAAAAAQQA==",
          "dtype": "f8"
         },
         "xaxis": "x",
         "y": {
          "bdata": "SwBGAGkARgBVAEYARgBQAEsAeABfAEsARgBQAGQAWgA8AFoAXwBuAFUARgBkAG4AXwBuAEsAggBaAGkAaQBkAGQAbgBuAGkAWgB4AG4AeABaAIwAXwCCAA==",
          "dtype": "i2"
         },
         "yaxis": "y"
        },
        {
         "customdata": [
          [
           "#25",
           "Common",
           "Transporting, Generating Electricity, Watering"
          ],
          [
           "#62",
           "Common",
           "Handiwork, Transporting, Generating Electricity"
          ],
          [
           "#12",
           "Common",
           "Generating Electricity"
          ],
          [
           "#7",
           "Common",
           "Handiwork, Transporting, Generating Electricity"
          ],
          [
           "#10",
           "Common",
           "Handiwork, Transporting, Generating Electricity, Watering"
          ],
          [
           "#60",
           "Rare",
           "Generating Electricity"
          ],
          [
           "#11",
           "Rare",
           "Handiwork, Mining, Transporting, Generating Electricity, Watering"
          ],
          [
           "#93",
           "Common",
           "Deforesting, Generating Electricity"
          ],
          [
           "#56",
           "Rare",
           "Deforesting, Generating Electricity"
          ],
          [
           "#103",
           "Epic",
           "Handiwork, Transporting, Deforesting, Generating Electricity"
          ],
          [
           "#73",
           "Rare",
           "Transporting, Gathering, Generating Electricity"
          ],
          [
           "#33",
           "Rare",
           "Handiwork, Transporting, Deforesting, Generating Electricity"
          ],
          [
           "#136",
           "Rare",
           "Gathering, Generating Electricity"
          ]
         ],
         "hovertemplate": "Element Type=Electricity<br>Highest Work Suitability Level=%{x}<br>HP=%{y}<br>ID=%{customdata[0]}<br>Rarity=%{customdata[1]}<br>Work Types=%{customdata[2]}<extra></extra>",
         "legendgroup": "Electricity",
         "marker": {
          "color": "#ab63fa",
          "symbol": "circle"
         },
         "mode": "markers",
         "name": "Electricity",
         "orientation": "v",
         "showlegend": true,
         "type": "scatter",
         "x": {
          "bdata": "AAAAAAAA8D8AAAAAAADwPwAAAAAAAPA/AAAAAAAA8D8AAAAAAAAAQAAAAAAAAABAAAAAAAAAAEAAAAAAAAAAQAAAAAAAAABAAAAAAAAACEAAAAAAAAAIQAAAAAAAAAhAAAAAAAAAEEA=",
          "dtype": "f8"
         },
         "xaxis": "x",
         "y": {
          "bdata": "UABGAEYAPABGAFoAZABuAFAAaQBpAGQAggA=",
          "dtype": "i2"
         },
         "yaxis": "y"
        },
        {
         "customdata": [
          [
           "#55",
           "Common",
           "Gathering, Cooling"
          ],
          [
           "#127",
           "Epic",
           "Gathering"
          ],
          [
           "#85",
           "Epic",
           "Transporting, Watering"
          ],
          [
           "#64",
           "Rare",
           "Deforesting, Planting"
          ],
          [
           "#64",
           "Rare",
           "Deforesting, Generating Electricity"
          ],
          [
           "#80",
           "Rare",
           "Deforesting"
          ],
          [
           "#95",
           "Epic",
           "Handiwork, Mining, Transporting, Gathering, Planting"
          ],
          [
           "#95",
           "Rare",
           "Handiwork, Mining, Transporting, Gathering"
          ],
          [
           "#130",
           "Epic",
           "Deforesting"
          ],
          [
           "#111",
           "Legendary",
           "Gathering"
          ],
          [
           "#82",
           "Epic",
           "Cooling"
          ],
          [
           "#82",
           "Rare",
           "Watering"
          ],
          [
           "#85",
           "Epic",
           "Transporting, Generating Electricity"
          ],
          [
           "#126",
           "Epic",
           "Mining"
          ],
          [
           "#80",
           "Epic",
           "Deforesting, Watering"
          ],
          [
           "#101",
           "Epic",
           "Watering"
          ],
          [
           "#98",
           "Epic",
           "Handiwork, Mining"
          ],
          [
           "#106",
           "Epic",
           "Handiwork, Transporting, Generating Electricity"
          ]
         ],
         "hovertemplate": "Element Type=Dragon<br>Highest Work Suitability Level=%{x}<br>HP=%{y}<br>ID=%{customdata[0]}<br>Rarity=%{customdata[1]}<br>Work Types=%{customdata[2]}<extra></extra>",
         "legendgroup": "Dragon",
         "marker": {
          "color": "#FFA15A",
          "symbol": "circle"
         },
         "mode": "markers",
         "name": "Dragon",
         "orientation": "v",
         "showlegend": true,
         "type": "scatter",
         "x": {
          "bdata": "AAAAAAAA8D8AAAAAAADwPwAAAAAAAABAAAAAAAAAAEAAAAAAAAAAQAAAAAAAAABAAAAAAAAACEAAAAAAAAAIQAAAAAAAAAhAAAAAAAAACEAAAAAAAAAIQAAAAAAAAAhAAAAAAAAACEAAAAAAAAAIQAAAAAAAAAhAAAAAAAAAEEAAAAAAAAAQQAAAAAAAABBA",
          "dtype": "f8"
         },
         "xaxis": "x",
         "y": {
          "bdata": "WgCCAG4AbgBuAG4AaQBpAHgAbgBzAG4AbgBuAHMAggBkAGQA",
          "dtype": "i2"
         },
         "yaxis": "y"
        },
        {
         "customdata": [
          [
           "#12",
           "Common",
           "Cooling"
          ],
          [
           "#5",
           "Common",
           "Cooling"
          ],
          [
           "#53",
           "Common",
           "Gathering, Cooling"
          ],
          [
           "#24",
           "Common",
           "Cooling, Farming"
          ],
          [
           "#57",
           "Rare",
           "Cooling"
          ],
          [
           "#79",
           "Rare",
           "Cooling, Farming, Medicine Production"
          ],
          [
           "#59",
           "Common",
           "Deforesting, Cooling"
          ],
          [
           "#32",
           "Common",
           "Handiwork, Transporting, Gathering, Cooling"
          ],
          [
           "#143",
           "Common",
           "Gathering, Cooling"
          ],
          [
           "#54",
           "Rare",
           "Gathering, Cooling"
          ],
          [
           "#142",
           "Common",
           "Handiwork, Transporting, Cooling, Medicine Production"
          ],
          [
           "#89",
           "Epic",
           "Gathering, Cooling"
          ],
          [
           "#83",
           "Rare",
           "Handiwork, Transporting, Deforesting, Cooling"
          ],
          [
           "#46",
           "Common",
           "Handiwork, Cooling"
          ],
          [
           "#137",
           "Epic",
           "Mining, Deforesting, Cooling"
          ],
          [
           "#110",
           "Legendary",
           "Cooling"
          ],
          [
           "#91",
           "Rare",
           "Handiwork, Transporting, Deforesting, Cooling"
          ]
         ],
         "hovertemplate": "Element Type=Ice<br>Highest Work Suitability Level=%{x}<br>HP=%{y}<br>ID=%{customdata[0]}<br>Rarity=%{customdata[1]}<br>Work Types=%{customdata[2]}<extra></extra>",
         "legendgroup": "Ice",
         "marker": {
          "color": "#19d3f3",
          "symbol": "circle"
         },
         "mode": "markers",
         "name": "Ice",
         "orientation": "v",
         "showlegend": true,
         "type": "scatter",
         "x": {
          "bdata": "AAAAAAAA8D8AAAAAAADwPwAAAAAAAPA/AAAAAAAA8D8AAAAAAAAAQAAAAAAAAABAAAAAAAAAAEAAAAAAAAAAQAAAAAAAAABAAAAAAAAAAEAAAAAAAAAIQAAAAAAAAAhAAAAAAAAACEAAAAAAAAAIQAAAAAAAABBAAAAAAAAAEEAAAAAAAAAQQA==",
          "dtype": "f8"
         },
         "xaxis": "x",
         "y": {
          "bdata": "RgBBADwARgBaAG4AZABQAG4AZABfAHgAZABQAIwAjACMAA==",
          "dtype": "i2"
         },
         "yaxis": "y"
        },
        {
         "customdata": [
          [
           "#81",
           "Common",
           "Kindling, Farming"
          ],
          [
           "#6",
           "Common",
           "Handiwork, Transporting, Kindling, Watering"
          ],
          [
           "#5",
           "Common",
           "Kindling"
          ],
          [
           "#70",
           "Common",
           "Handiwork, Transporting, Kindling, Farming"
          ],
          [
           "#45",
           "Common",
           "Handiwork, Transporting, Kindling, Gathering"
          ],
          [
           "#-1",
           "Common",
           "Transporting"
          ],
          [
           "#9",
           "Common",
           "Kindling"
          ],
          [
           "#61",
           "Rare",
           "Kindling"
          ],
          [
           "#31",
           "Common",
           "Handiwork, Transporting, Kindling"
          ],
          [
           "#75",
           "Rare",
           "Handiwork, Transporting, Kindling, Medicine Production"
          ],
          [
           "#40",
           "Common",
           "Handiwork, Mining, Transporting, Kindling"
          ],
          [
           "#152",
           "Common",
           "Transporting, Kindling, Watering"
          ],
          [
           "#58",
           "Rare",
           "Deforesting, Kindling"
          ],
          [
           "#58",
           "Rare",
           "Deforesting, Kindling"
          ],
          [
           "#55",
           "Rare",
           "Kindling, Gathering"
          ],
          [
           "#42",
           "Common",
           "Deforesting, Kindling"
          ],
          [
           "#74",
           "Rare",
           "Transporting, Kindling"
          ],
          [
           "#102",
           "Epic",
           "Kindling"
          ],
          [
           "#118",
           "Rare",
           "Handiwork, Mining, Kindling, Gathering, Farming"
          ],
          [
           "#72",
           "Rare",
           "Handiwork, Transporting, Deforesting, Kindling, Gathering"
          ],
          [
           "#84",
           "Epic",
           "Deforesting, Kindling"
          ],
          [
           "#84",
           "Rare",
           "Deforesting, Kindling"
          ],
          [
           "#72",
           "Rare",
           "Handiwork, Transporting, Deforesting, Kindling, Gathering"
          ],
          [
           "#76",
           "Rare",
           "Handiwork, Transporting, Kindling"
          ],
          [
           "#105",
           "Epic",
           "Transporting, Kindling"
          ],
          [
           "#71",
           "Common",
           "Transporting, Kindling"
          ],
          [
           "#76",
           "Rare",
           "Handiwork, Transporting, Kindling"
          ],
          [
           "#101",
           "Epic",
           "Kindling"
          ],
          [
           "#96",
           "Epic",
           "Mining, Kindling"
          ],
          [
           "#153",
           "Rare",
           "Transporting, Kindling, Watering"
          ],
          [
           "#96",
           "Epic",
           "Mining, Kindling"
          ],
          [
           "#154",
           "Epic",
           "Kindling, Cooling"
          ]
         ],
         "hovertemplate": "Element Type=Fire<br>Highest Work Suitability Level=%{x}<br>HP=%{y}<br>ID=%{customdata[0]}<br>Rarity=%{customdata[1]}<br>Work Types=%{customdata[2]}<extra></extra>",
         "legendgroup": "Fire",
         "marker": {
          "color": "#FF6692",
          "symbol": "circle"
         },
         "mode": "markers",
         "name": "Fire",
         "orientation": "v",
         "showlegend": true,
         "type": "scatter",
         "x": {
          "bdata": "AAAAAAAA8D8AAAAAAADwPwAAAAAAAPA/AAAAAAAA8D8AAAAAAADwPwAAAAAAAPA/AAAAAAAA8D8AAAAAAAAAQAAAAAAAAABAAAAAAAAAAEAAAAAAAAAAQAAAAAAAAABAAAAAAAAAAEAAAAAAAAAAQAAAAAAAAABAAAAAAAAAAEAAAAAAAAAIQAAAAAAAAAhAAAAAAAAACEAAAAAAAAAIQAAAAAAAAAhAAAAAAAAACEAAAAAAAAAIQAAAAAAAAAhAAAAAAAAACEAAAAAAAAAIQAAAAAAAAAhAAAAAAAAAEEAAAAAAAAAQQAAAAAAAABBAAAAAAAAAEEAAAAAAAAAQQA==",
          "dtype": "f8"
         },
         "xaxis": "x",
         "y": {
          "bdata": "RgA8AEEAPABQAEYASwBkAFoAXwBfAEsAZABkAFoAVQBfAHgAaQBQAGkAaQBQAFoAZABaAFoAggBkAFoAaQBpAA==",
          "dtype": "i2"
         },
         "yaxis": "y"
        },
        {
         "customdata": [
          [
           "#13",
           "Common",
           "Planting"
          ],
          [
           "#22",
           "Common",
           "Handiwork, Mining, Transporting"
          ],
          [
           "#117",
           "Common",
           "Mining"
          ],
          [
           "#65",
           "Rare",
           "Gathering"
          ],
          [
           "#20",
           "Common",
           "Mining"
          ],
          [
           "#140",
           "Epic",
           "Gathering"
          ],
          [
           "#148",
           "Common",
           "Mining, Transporting, Watering"
          ],
          [
           "#48",
           "Rare",
           "Handiwork, Transporting, Deforesting, Gathering, Medicine Production"
          ],
          [
           "#43",
           "Common",
           "Mining, Transporting, Watering, Farming"
          ],
          [
           "#32",
           "Common",
           "Handiwork, Transporting, Gathering"
          ],
          [
           "#37",
           "Rare",
           "Deforesting"
          ],
          [
           "#123",
           "Rare",
           "Gathering"
          ],
          [
           "#43",
           "Rare",
           "Mining, Transporting, Watering, Farming"
          ],
          [
           "#90",
           "Epic",
           "Mining, Deforesting, Planting"
          ],
          [
           "#90",
           "Epic",
           "Mining, Deforesting, Cooling"
          ],
          [
           "#119",
           "Rare",
           "Deforesting, Gathering, Medicine Production"
          ],
          [
           "#92",
           "Epic",
           "Handiwork, Transporting, Deforesting, Planting"
          ],
          [
           "#49",
           "Rare",
           "Handiwork, Mining, Transporting"
          ],
          [
           "#67",
           "Rare",
           "Mining"
          ],
          [
           "#83",
           "Rare",
           "Handiwork, Mining, Transporting, Deforesting"
          ],
          [
           "#88",
           "Rare",
           "Mining, Kindling"
          ],
          [
           "#88",
           "Rare",
           "Mining, Cooling"
          ],
          [
           "#92",
           "Epic",
           "Handiwork, Mining, Transporting"
          ],
          [
           "#99",
           "Epic",
           "Mining, Deforesting"
          ],
          [
           "#99",
           "Epic",
           "Mining, Deforesting"
          ],
          [
           "#120",
           "Epic",
           "Mining, Transporting, Gathering"
          ],
          [
           "#100",
           "Epic",
           "Handiwork, Mining, Transporting"
          ],
          [
           "#145",
           "Rare",
           "Mining, Gathering, Planting"
          ]
         ],
         "hovertemplate": "Element Type=Earth<br>Highest Work Suitability Level=%{x}<br>HP=%{y}<br>ID=%{customdata[0]}<br>Rarity=%{customdata[1]}<br>Work Types=%{customdata[2]}<extra></extra>",
         "legendgroup": "Earth",
         "marker": {
          "color": "#B6E880",
          "symbol": "circle"
         },
         "mode": "markers",
         "name": "Earth",
         "orientation": "v",
         "showlegend": true,
         "type": "scatter",
         "x": {
          "bdata": "AAAAAAAA8D8AAAAAAADwPwAAAAAAAPA/AAAAAAAA8D8AAAAAAADwPwAAAAAAAABAAAAAAAAAAEAAAAAAAAAAQAAAAAAAAABAAAAAAAAAAEAAAAAAAAAAQAAAAAAAAABAAAAAAAAAAEAAAAAAAAAAQAAAAAAAAABAAAAAAAAACEAAAAAAAAAIQAAAAAAAAAhAAAAAAAAACEAAAAAAAAAIQAAAAAAAAAhAAAAAAAAACEAAAAAAAAAIQAAAAAAAAAhAAAAAAAAACEAAAAAAAAAQQAAAAAAAABBAAAAAAAAAEEA=",
          "dtype": "f8"
         },
         "xaxis": "x",
         "y": {
          "bdata": "RgBBAEsAWgBQAHgAVQBaAGQAUABfAF8AaQCWAJYAWgB4AFoAUABkAG4AbgB4AGQAZABpAHgAggA=",
          "dtype": "i2"
         },
         "yaxis": "y"
        },
        {
         "customdata": [
          [
           "#-1",
           "Common",
           "Transporting"
          ],
          [
           "#28",
           "Common",
           "Handiwork, Transporting, Gathering, Medicine Production, Planting"
          ],
          [
           "#4",
           "Common",
           "Handiwork, Deforesting, Gathering, Medicine Production, Planting"
          ],
          [
           "#8",
           "Common",
           "Handiwork, Transporting, Deforesting, Gathering, Planting"
          ],
          [
           "#39",
           "Common",
           "Handiwork, Transporting, Gathering, Planting"
          ],
          [
           "#115",
           "Common",
           "Handiwork, Gathering, Medicine Production, Planting"
          ],
          [
           "#116",
           "Common",
           "Handiwork, Deforesting, Gathering, Planting"
          ],
          [
           "#48",
           "Rare",
           "Handiwork, Transporting, Deforesting, Gathering, Medicine Production, Planting"
          ],
          [
           "#141",
           "Common",
           "Transporting, Gathering, Planting"
          ],
          [
           "#51",
           "Epic",
           "Handiwork, Deforesting, Gathering, Medicine Production, Planting"
          ],
          [
           "#41",
           "Common",
           "Medicine Production, Planting"
          ],
          [
           "#30",
           "Common",
           "Handiwork, Transporting, Gathering, Medicine Production, Planting"
          ],
          [
           "#50",
           "Common",
           "Handiwork, Transporting, Deforesting, Gathering, Farming, Medicine Production, Planting"
          ],
          [
           "#35",
           "Common",
           "Farming, Planting"
          ],
          [
           "#87",
           "Epic",
           "Handiwork, Transporting, Gathering, Medicine Production, Planting"
          ],
          [
           "#144",
           "Common",
           "Mining, Gathering, Planting"
          ],
          [
           "#78",
           "Epic",
           "Handiwork, Transporting, Gathering, Medicine Production, Planting"
          ],
          [
           "#86",
           "Rare",
           "Planting"
          ],
          [
           "#33",
           "Rare",
           "Handiwork, Transporting, Deforesting, Planting"
          ],
          [
           "#77",
           "Epic",
           "Handiwork, Transporting, Deforesting, Gathering, Planting"
          ],
          [
           "#104",
           "Epic",
           "Handiwork, Gathering, Medicine Production, Planting"
          ],
          [
           "#91",
           "Epic",
           "Handiwork, Transporting, Deforesting, Planting"
          ]
         ],
         "hovertemplate": "Element Type=Leaf<br>Highest Work Suitability Level=%{x}<br>HP=%{y}<br>ID=%{customdata[0]}<br>Rarity=%{customdata[1]}<br>Work Types=%{customdata[2]}<extra></extra>",
         "legendgroup": "Leaf",
         "marker": {
          "color": "#FF97FF",
          "symbol": "circle"
         },
         "mode": "markers",
         "name": "Leaf",
         "orientation": "v",
         "showlegend": true,
         "type": "scatter",
         "x": {
          "bdata": "AAAAAAAA8D8AAAAAAADwPwAAAAAAAPA/AAAAAAAA8D8AAAAAAADwPwAAAAAAAABAAAAAAAAAAEAAAAAAAAAAQAAAAAAAAABAAAAAAAAAAEAAAAAAAAAAQAAAAAAAAABAAAAAAAAAAEAAAAAAAAAAQAAAAAAAAAhAAAAAAAAACEAAAAAAAAAIQAAAAAAAAAhAAAAAAAAACEAAAAAAAAAIQAAAAAAAABBAAAAAAAAAEEA=",
          "dtype": "f8"
         },
         "xaxis": "x",
         "y": {
          "bdata": "QQBLAEsAUABQAFoAbgBaAFAAWgBGAFAAUABkAGQAaQBkAHgAZABaAG4AjAA=",
          "dtype": "i2"
         },
         "yaxis": "y"
        },
        {
         "line": {
          "color": "red",
          "width": 2
         },
         "mode": "lines",
         "name": "Fitted Line",
         "type": "scatter",
         "x": {
          "bdata": "AAAAAAAAEEAAAAAAAAAAQAAAAAAAABBAAAAAAAAAEEAAAAAAAAAIQAAAAAAAAAhAAAAAAAAAEEAAAAAAAAAIQAAAAAAAAABAAAAAAAAAEEAAAAAAAAAQQAAAAAAAABBAAAAAAAAAEEAAAAAAAAAIQAAAAAAAAAhAAAAAAAAA8D8AAAAAAAAQQAAAAAAAAABAAAAAAAAACEAAAAAAAAAIQAAAAAAAAAhAAAAAAAAACEAAAAAAAAAAQAAAAAAAAABAAAAAAAAA8D8AAAAAAADwPwAAAAAAAPA/AAAAAAAA8D8AAAAAAADwPwAAAAAAABBAAAAAAAAA8D8AAAAAAADwPwAAAAAAAABAAAAAAAAAAEAAAAAAAADwPwAAAAAAAPA/AAAAAAAA8D8AAAAAAAAIQAAAAAAAAAhAAAAAAAAA8D8AAAAAAAAAQAAAAAAAAPA/AAAAAAAA8D8AAAAAAADwPwAAAAAAAPA/AAAAAAAACEAAAAAAAAAAQAAAAAAAAABAAAAAAAAA8D8AAAAAAAAIQAAAAAAAAABAAAAAAAAAAEAAAAAAAAAAQAAAAAAAAABAAAAAAAAAAEAAAAAAAAAAQAAAAAAAAAhAAAAAAAAA8D8AAAAAAAAQQAAAAAAAAAhAAAAAAAAAEEAAAAAAAAAIQAAAAAAAAABAAAAAAAAAAEAAAAAAAAAAQAAAAAAAAABAAAAAAAAA8D8AAAAAAADwPwAAAAAAAABAAAAAAAAA8D8AAAAAAADwPwAAAAAAABBAAAAAAAAAEEAAAAAAAAAAQAAAAAAAAPA/AAAAAAAA8D8AAAAAAADwPwAAAAAAAABAAAAAAAAAEEAAAAAAAAAQQAAAAAAAAABAAAAAAAAAAEAAAAAAAAAAQAAAAAAAAABAAAAAAAAACEAAAAAAAAAIQAAAAAAAAPA/AAAAAAAAAEAAAAAAAAAIQAAAAAAAAPA/AAAAAAAAAEAAAAAAAAAAQAAAAAAAAAhAAAAAAAAACEAAAAAAAAAAQAAAAAAAAPA/AAAAAAAACEAAAAAAAADwPwAAAAAAAPA/AAAAAAAAAEAAAAAAAAAAQAAAAAAAAABAAAAAAAAAAEAAAAAAAAAIQAAAAAAAAPA/AAAAAAAA8D8AAAAAAAAQQAAAAAAAABBAAAAAAAAAAEAAAAAAAAAAQAAAAAAAAPA/AAAAAAAA8D8AAAAAAADwPwAAAAAAAABAAAAAAAAAAEAAAAAAAADwPwAAAAAAAAhAAAAAAAAAAEAAAAAAAAAAQAAAAAAAABBAAAAAAAAA8D8AAAAAAADwPwAAAAAAAPA/AAAAAAAA8D8AAAAAAAAAQAAAAAAAAAhAAAAAAAAAAEAAAAAAAAAAQAAAAAAAAAhAAAAAAAAAEEAAAAAAAAAIQAAAAAAAAABAAAAAAAAAAEAAAAAAAAAAQAAAAAAAAPA/AAAAAAAA8D8AAAAAAADwPwAAAAAAAAhAAAAAAAAACEAAAAAAAADwPwAAAAAAAAhAAAAAAAAACEAAAAAAAADwPwAAAAAAAABAAAAAAAAAAEAAAAAAAAAQQAAAAAAAAAhAAAAAAAAAAEAAAAAAAADwPwAAAAAAAAhAAAAAAAAA8D8AAAAAAAAQQAAAAAAAAABAAAAAAAAACEAAAAAAAADwPwAAAAAAAABAAAAAAAAAAEAAAAAAAAAAQAAAAAAAAAhAAAAAAAAACEAAAAAAAAAIQAAAAAAAAAhAAAAAAAAA8D8AAAAAAAAAQAAAAAAAAABAAAAAAAAACEAAAAAAAAAIQAAAAAAAAAhAAAAAAAAA8D8AAAAAAAAAQAAAAAAAAPA/AAAAAAAAAEAAAAAAAAAAQAAAAAAAAAhAAAAAAAAACEAAAAAAAAAIQAAAAAAAAPA/AAAAAAAA8D8AAAAAAAAAQAAAAAAAAABAAAAAAAAA8D8AAAAAAADwPwAAAAAAABBAAAAAAAAA8D8AAAAAAAAAQAAAAAAAAABAAAAAAAAAAEAAAAAAAAAIQAAAAAAAAABAAAAAAAAACEAAAAAAAADwPwAAAAAAABBAAAAAAAAAAEAAAAAAAAAAQAAAAAAAAPA/AAAAAAAACEAAAAAAAAAIQAAAAAAAAPA/AAAAAAAAAEAAAAAAAADwPwAAAAAAAABAAAAAAAAA8D8AAAAAAADwPwAAAAAAAABAAAAAAAAAAEAAAAAAAAAAQAAAAAAAAABAAAAAAAAACEAAAAAAAAAIQAAAAAAAAAhAAAAAAAAACEAAAAAAAADwPwAAAAAAAAhAAAAAAAAACEAAAAAAAAAQQAAAAAAAABBAAAAAAAAACEAAAAAAAAAIQAAAAAAAAPA/AAAAAAAAEEAAAAAAAAAQQAAAAAAAAAhAAAAAAAAA8D8AAAAAAAAAQAAAAAAAAABA",
          "dtype": "f8"
         },
         "y": {
          "bdata": "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",
          "dtype": "f8"
         }
        }
       ],
       "layout": {
        "legend": {
         "title": {
          "text": "Element Type"
         },
         "tracegroupgap": 0
        },
        "template": {
         "data": {
          "bar": [
           {
            "error_x": {
             "color": "#2a3f5f"
            },
            "error_y": {
             "color": "#2a3f5f"
            },
            "marker": {
             "line": {
              "color": "#E5ECF6",
              "width": 0.5
             },
             "pattern": {
              "fillmode": "overlay",
              "size": 10,
              "solidity": 0.2
             }
            },
            "type": "bar"
           }
          ],
          "barpolar": [
           {
            "marker": {
             "line": {
              "color": "#E5ECF6",
              "width": 0.5
             },
             "pattern": {
              "fillmode": "overlay",
              "size": 10,
              "solidity": 0.2
             }
            },
            "type": "barpolar"
           }
          ],
          "carpet": [
           {
            "aaxis": {
             "endlinecolor": "#2a3f5f",
             "gridcolor": "white",
             "linecolor": "white",
             "minorgridcolor": "white",
             "startlinecolor": "#2a3f5f"
            },
            "baxis": {
             "endlinecolor": "#2a3f5f",
             "gridcolor": "white",
             "linecolor": "white",
             "minorgridcolor": "white",
             "startlinecolor": "#2a3f5f"
            },
            "type": "carpet"
           }
          ],
          "choropleth": [
           {
            "colorbar": {
             "outlinewidth": 0,
             "ticks": ""
            },
            "type": "choropleth"
           }
          ],
          "contour": [
           {
            "colorbar": {
             "outlinewidth": 0,
             "ticks": ""
            },
            "colorscale": [
             [
              0,
              "#0d0887"
             ],
             [
              0.1111111111111111,
              "#46039f"
             ],
             [
              0.2222222222222222,
              "#7201a8"
             ],
             [
              0.3333333333333333,
              "#9c179e"
             ],
             [
              0.4444444444444444,
              "#bd3786"
             ],
             [
              0.5555555555555556,
              "#d8576b"
             ],
             [
              0.6666666666666666,
              "#ed7953"
             ],
             [
              0.7777777777777778,
              "#fb9f3a"
             ],
             [
              0.8888888888888888,
              "#fdca26"
             ],
             [
              1,
              "#f0f921"
             ]
            ],
            "type": "contour"
           }
          ],
          "contourcarpet": [
           {
            "colorbar": {
             "outlinewidth": 0,
             "ticks": ""
            },
            "type": "contourcarpet"
           }
          ],
          "heatmap": [
           {
            "colorbar": {
             "outlinewidth": 0,
             "ticks": ""
            },
            "colorscale": [
             [
              0,
              "#0d0887"
             ],
             [
              0.1111111111111111,
              "#46039f"
             ],
             [
              0.2222222222222222,
              "#7201a8"
             ],
             [
              0.3333333333333333,
              "#9c179e"
             ],
             [
              0.4444444444444444,
              "#bd3786"
             ],
             [
              0.5555555555555556,
              "#d8576b"
             ],
             [
              0.6666666666666666,
              "#ed7953"
             ],
             [
              0.7777777777777778,
              "#fb9f3a"
             ],
             [
              0.8888888888888888,
              "#fdca26"
             ],
             [
              1,
              "#f0f921"
             ]
            ],
            "type": "heatmap"
           }
          ],
          "histogram": [
           {
            "marker": {
             "pattern": {
              "fillmode": "overlay",
              "size": 10,
              "solidity": 0.2
             }
            },
            "type": "histogram"
           }
          ],
          "histogram2d": [
           {
            "colorbar": {
             "outlinewidth": 0,
             "ticks": ""
            },
            "colorscale": [
             [
              0,
              "#0d0887"
             ],
             [
              0.1111111111111111,
              "#46039f"
             ],
             [
              0.2222222222222222,
              "#7201a8"
             ],
             [
              0.3333333333333333,
              "#9c179e"
             ],
             [
              0.4444444444444444,
              "#bd3786"
             ],
             [
              0.5555555555555556,
              "#d8576b"
             ],
             [
              0.6666666666666666,
              "#ed7953"
             ],
             [
              0.7777777777777778,
              "#fb9f3a"
             ],
             [
              0.8888888888888888,
              "#fdca26"
             ],
             [
              1,
              "#f0f921"
             ]
            ],
            "type": "histogram2d"
           }
          ],
          "histogram2dcontour": [
           {
            "colorbar": {
             "outlinewidth": 0,
             "ticks": ""
            },
            "colorscale": [
             [
              0,
              "#0d0887"
             ],
             [
              0.1111111111111111,
              "#46039f"
             ],
             [
              0.2222222222222222,
              "#7201a8"
             ],
             [
              0.3333333333333333,
              "#9c179e"
             ],
             [
              0.4444444444444444,
              "#bd3786"
             ],
             [
              0.5555555555555556,
              "#d8576b"
             ],
             [
              0.6666666666666666,
              "#ed7953"
             ],
             [
              0.7777777777777778,
              "#fb9f3a"
             ],
             [
              0.8888888888888888,
              "#fdca26"
             ],
             [
              1,
              "#f0f921"
             ]
            ],
            "type": "histogram2dcontour"
           }
          ],
          "mesh3d": [
           {
            "colorbar": {
             "outlinewidth": 0,
             "ticks": ""
            },
            "type": "mesh3d"
           }
          ],
          "parcoords": [
           {
            "line": {
             "colorbar": {
              "outlinewidth": 0,
              "ticks": ""
             }
            },
            "type": "parcoords"
           }
          ],
          "pie": [
           {
            "automargin": true,
            "type": "pie"
           }
          ],
          "scatter": [
           {
            "fillpattern": {
             "fillmode": "overlay",
             "size": 10,
             "solidity": 0.2
            },
            "type": "scatter"
           }
          ],
          "scatter3d": [
           {
            "line": {
             "colorbar": {
              "outlinewidth": 0,
              "ticks": ""
             }
            },
            "marker": {
             "colorbar": {
              "outlinewidth": 0,
              "ticks": ""
             }
            },
            "type": "scatter3d"
           }
          ],
          "scattercarpet": [
           {
            "marker": {
             "colorbar": {
              "outlinewidth": 0,
              "ticks": ""
             }
            },
            "type": "scattercarpet"
           }
          ],
          "scattergeo": [
           {
            "marker": {
             "colorbar": {
              "outlinewidth": 0,
              "ticks": ""
             }
            },
            "type": "scattergeo"
           }
          ],
          "scattergl": [
           {
            "marker": {
             "colorbar": {
              "outlinewidth": 0,
              "ticks": ""
             }
            },
            "type": "scattergl"
           }
          ],
          "scattermap": [
           {
            "marker": {
             "colorbar": {
              "outlinewidth": 0,
              "ticks": ""
             }
            },
            "type": "scattermap"
           }
          ],
          "scattermapbox": [
           {
            "marker": {
             "colorbar": {
              "outlinewidth": 0,
              "ticks": ""
             }
            },
            "type": "scattermapbox"
           }
          ],
          "scatterpolar": [
           {
            "marker": {
             "colorbar": {
              "outlinewidth": 0,
              "ticks": ""
             }
            },
            "type": "scatterpolar"
           }
          ],
          "scatterpolargl": [
           {
            "marker": {
             "colorbar": {
              "outlinewidth": 0,
              "ticks": ""
             }
            },
            "type": "scatterpolargl"
           }
          ],
          "scatterternary": [
           {
            "marker": {
             "colorbar": {
              "outlinewidth": 0,
              "ticks": ""
             }
            },
            "type": "scatterternary"
           }
          ],
          "surface": [
           {
            "colorbar": {
             "outlinewidth": 0,
             "ticks": ""
            },
            "colorscale": [
             [
              0,
              "#0d0887"
             ],
             [
              0.1111111111111111,
              "#46039f"
             ],
             [
              0.2222222222222222,
              "#7201a8"
             ],
             [
              0.3333333333333333,
              "#9c179e"
             ],
             [
              0.4444444444444444,
              "#bd3786"
             ],
             [
              0.5555555555555556,
              "#d8576b"
             ],
             [
              0.6666666666666666,
              "#ed7953"
             ],
             [
              0.7777777777777778,
              "#fb9f3a"
             ],
             [
              0.8888888888888888,
              "#fdca26"
             ],
             [
              1,
              "#f0f921"
             ]
            ],
            "type": "surface"
           }
          ],
          "table": [
           {
            "cells": {
             "fill": {
              "color": "#EBF0F8"
             },
             "line": {
              "color": "white"
             }
            },
            "header": {
             "fill": {
              "color": "#C8D4E3"
             },
             "line": {
              "color": "white"
             }
            },
            "type": "table"
           }
          ]
         },
         "layout": {
          "annotationdefaults": {
           "arrowcolor": "#2a3f5f",
           "arrowhead": 0,
           "arrowwidth": 1
          },
          "autotypenumbers": "strict",
          "coloraxis": {
           "colorbar": {
            "outlinewidth": 0,
            "ticks": ""
           }
          },
          "colorscale": {
           "diverging": [
            [
             0,
             "#8e0152"
            ],
            [
             0.1,
             "#c51b7d"
            ],
            [
             0.2,
             "#de77ae"
            ],
            [
             0.3,
             "#f1b6da"
            ],
            [
             0.4,
             "#fde0ef"
            ],
            [
             0.5,
             "#f7f7f7"
            ],
            [
             0.6,
             "#e6f5d0"
            ],
            [
             0.7,
             "#b8e186"
            ],
            [
             0.8,
             "#7fbc41"
            ],
            [
             0.9,
             "#4d9221"
            ],
            [
             1,
             "#276419"
            ]
           ],
           "sequential": [
            [
             0,
             "#0d0887"
            ],
            [
             0.1111111111111111,
             "#46039f"
            ],
            [
             0.2222222222222222,
             "#7201a8"
            ],
            [
             0.3333333333333333,
             "#9c179e"
            ],
            [
             0.4444444444444444,
             "#bd3786"
            ],
            [
             0.5555555555555556,
             "#d8576b"
            ],
            [
             0.6666666666666666,
             "#ed7953"
            ],
            [
             0.7777777777777778,
             "#fb9f3a"
            ],
            [
             0.8888888888888888,
             "#fdca26"
            ],
            [
             1,
             "#f0f921"
            ]
           ],
           "sequentialminus": [
            [
             0,
             "#0d0887"
            ],
            [
             0.1111111111111111,
             "#46039f"
            ],
            [
             0.2222222222222222,
             "#7201a8"
            ],
            [
             0.3333333333333333,
             "#9c179e"
            ],
            [
             0.4444444444444444,
             "#bd3786"
            ],
            [
             0.5555555555555556,
             "#d8576b"
            ],
            [
             0.6666666666666666,
             "#ed7953"
            ],
            [
             0.7777777777777778,
             "#fb9f3a"
            ],
            [
             0.8888888888888888,
             "#fdca26"
            ],
            [
             1,
             "#f0f921"
            ]
           ]
          },
          "colorway": [
           "#636efa",
           "#EF553B",
           "#00cc96",
           "#ab63fa",
           "#FFA15A",
           "#19d3f3",
           "#FF6692",
           "#B6E880",
           "#FF97FF",
           "#FECB52"
          ],
          "font": {
           "color": "#2a3f5f"
          },
          "geo": {
           "bgcolor": "white",
           "lakecolor": "white",
           "landcolor": "#E5ECF6",
           "showlakes": true,
           "showland": true,
           "subunitcolor": "white"
          },
          "hoverlabel": {
           "align": "left"
          },
          "hovermode": "closest",
          "mapbox": {
           "style": "light"
          },
          "paper_bgcolor": "white",
          "plot_bgcolor": "#E5ECF6",
          "polar": {
           "angularaxis": {
            "gridcolor": "white",
            "linecolor": "white",
            "ticks": ""
           },
           "bgcolor": "#E5ECF6",
           "radialaxis": {
            "gridcolor": "white",
            "linecolor": "white",
            "ticks": ""
           }
          },
          "scene": {
           "xaxis": {
            "backgroundcolor": "#E5ECF6",
            "gridcolor": "white",
            "gridwidth": 2,
            "linecolor": "white",
            "showbackground": true,
            "ticks": "",
            "zerolinecolor": "white"
           },
           "yaxis": {
            "backgroundcolor": "#E5ECF6",
            "gridcolor": "white",
            "gridwidth": 2,
            "linecolor": "white",
            "showbackground": true,
            "ticks": "",
            "zerolinecolor": "white"
           },
           "zaxis": {
            "backgroundcolor": "#E5ECF6",
            "gridcolor": "white",
            "gridwidth": 2,
            "linecolor": "white",
            "showbackground": true,
            "ticks": "",
            "zerolinecolor": "white"
           }
          },
          "shapedefaults": {
           "line": {
            "color": "#2a3f5f"
           }
          },
          "ternary": {
           "aaxis": {
            "gridcolor": "white",
            "linecolor": "white",
            "ticks": ""
           },
           "baxis": {
            "gridcolor": "white",
            "linecolor": "white",
            "ticks": ""
           },
           "bgcolor": "#E5ECF6",
           "caxis": {
            "gridcolor": "white",
            "linecolor": "white",
            "ticks": ""
           }
          },
          "title": {
           "x": 0.05
          },
          "xaxis": {
           "automargin": true,
           "gridcolor": "white",
           "linecolor": "white",
           "ticks": "",
           "title": {
            "standoff": 15
           },
           "zerolinecolor": "white",
           "zerolinewidth": 2
          },
          "yaxis": {
           "automargin": true,
           "gridcolor": "white",
           "linecolor": "white",
           "ticks": "",
           "title": {
            "standoff": 15
           },
           "zerolinecolor": "white",
           "zerolinewidth": 2
          }
         }
        },
        "title": {
         "text": "Work Suitability vs HP by Element Type"
        },
        "xaxis": {
         "anchor": "y",
         "domain": [
          0,
          1
         ],
         "title": {
          "text": "Highest Work Suitability Level"
         }
        },
        "yaxis": {
         "anchor": "x",
         "domain": [
          0,
          1
         ],
         "title": {
          "text": "HP"
         }
        }
       }
      }
     },
     "metadata": {},
     "output_type": "display_data"
    }
   ],
   "source": [
    "# Write the code to run functions to fit each model in separate code chunks. \n",
    "# Interpret the model results.\n",
    "\n",
    "# Replot the scatter plot with the fitted line\n",
    "fig1 = px.scatter(\n",
    "    pal_frame_vis.sort_values(by = \"Highest Work Suitability Level\", ascending = True),\n",
    "    x=\"Highest Work Suitability Level\",\n",
    "    y=\"HP\",\n",
    "    color=\"Element Type\",\n",
    "    hover_data={\"ID\":True, \"Rarity\":True, \"Work Types\":True},\n",
    "    title=\"Work Suitability vs HP by Element Type\"\n",
    ")\n",
    "fig1.add_scatter(\n",
    "    x=pal_frame_vis[\"Highest Work Suitability Level\"],\n",
    "    y=intercept + slope * pal_frame_vis[\"Highest Work Suitability Level\"],\n",
    "    mode=\"lines\",\n",
    "    name=\"Fitted Line\",\n",
    "    line=dict(color=\"red\", width=2)\n",
    ")\n",
    "fig1.show()\n",
    "#Tthe fitted line shows a positive correlation between work suitability level and HP, indicating that Pals with higher work suitability levels tend to have higher HP. The slope of the line suggests that for each unit increase in work suitability level, the HP increases by approximately `slope` units. The R2 value indicates how well the model explains the variance in HP based on work suitability level."
   ]
  },
  {
   "cell_type": "markdown",
   "metadata": {},
   "source": [
    "#### Model 2"
   ]
  },
  {
   "cell_type": "code",
   "execution_count": 12,
   "metadata": {},
   "outputs": [
    {
     "data": {
      "text/plain": [
       "[Text(0.5, 0.875, 'HP <= 87.5\\ngini = 0.657\\nsamples = 225\\nvalue = [101, 44, 8, 72]\\nclass = Common'),\n",
       " Text(0.25, 0.625, 'Defense <= 100.0\\ngini = 0.198\\nsamples = 81\\nvalue = [72, 0, 0, 9]\\nclass = Common'),\n",
       " Text(0.375, 0.75, 'True  '),\n",
       " Text(0.125, 0.375, 'HP <= 72.5\\ngini = 0.145\\nsamples = 76\\nvalue = [70, 0, 0, 6]\\nclass = Common'),\n",
       " Text(0.0625, 0.125, 'gini = 0.051\\nsamples = 38\\nvalue = [37, 0, 0, 1]\\nclass = Common'),\n",
       " Text(0.1875, 0.125, 'gini = 0.229\\nsamples = 38\\nvalue = [33, 0, 0, 5]\\nclass = Common'),\n",
       " Text(0.375, 0.375, 'HP <= 82.5\\ngini = 0.48\\nsamples = 5\\nvalue = [2, 0, 0, 3]\\nclass = Rare'),\n",
       " Text(0.3125, 0.125, 'gini = 0.375\\nsamples = 4\\nvalue = [1, 0, 0, 3]\\nclass = Rare'),\n",
       " Text(0.4375, 0.125, 'gini = 0.0\\nsamples = 1\\nvalue = [1, 0, 0, 0]\\nclass = Common'),\n",
       " Text(0.75, 0.625, 'HP <= 112.5\\ngini = 0.672\\nsamples = 144\\nvalue = [29, 44, 8, 63]\\nclass = Rare'),\n",
       " Text(0.625, 0.75, '  False'),\n",
       " Text(0.625, 0.375, 'Defense <= 107.5\\ngini = 0.625\\nsamples = 111\\nvalue = [29, 23, 2, 57]\\nclass = Rare'),\n",
       " Text(0.5625, 0.125, 'gini = 0.567\\nsamples = 88\\nvalue = [27.0, 11.0, 0.0, 50.0]\\nclass = Rare'),\n",
       " Text(0.6875, 0.125, 'gini = 0.62\\nsamples = 23\\nvalue = [2, 12, 2, 7]\\nclass = Epic'),\n",
       " Text(0.875, 0.375, 'Defense <= 127.5\\ngini = 0.529\\nsamples = 33\\nvalue = [0, 21, 6, 6]\\nclass = Epic'),\n",
       " Text(0.8125, 0.125, 'gini = 0.498\\nsamples = 30\\nvalue = [0, 20, 4, 6]\\nclass = Epic'),\n",
       " Text(0.9375, 0.125, 'gini = 0.444\\nsamples = 3\\nvalue = [0, 1, 2, 0]\\nclass = Legendary')]"
      ]
     },
     "execution_count": 12,
     "metadata": {},
     "output_type": "execute_result"
    },
    {
     "data": {
      "image/png": "[encoded data removed]",
      "text/plain": [
       "<Figure size 1800x1000 with 1 Axes>"
      ]
     },
     "metadata": {},
     "output_type": "display_data"
    }
   ],
   "source": [
    "x = pal_frame[[\"HP\", \"Defense\"]]\n",
    "y = pal_frame[\"Rarity\"]\n",
    "\n",
    "pal_dec_tree = tree.DecisionTreeClassifier(max_depth = 3)\n",
    "pal_dec_tree.fit(x, y)\n",
    "plt.figure()\n",
    "plt.gcf().set_size_inches(18, 10)\n",
    "tree.plot_tree(pal_dec_tree, feature_names = [\"HP\", \"Defense\"], class_names = pal_dec_tree.classes_)"
   ]
  },
  {
   "cell_type": "markdown",
   "metadata": {},
   "source": [
    "#### Model 3"
   ]
  },
  {
   "cell_type": "code",
   "execution_count": null,
   "metadata": {},
   "outputs": [],
   "source": [
    "# Write the code to run functions to fit each model in separate code chunks. \n",
    "# Interpret the model results. "
   ]
  },
  {
   "cell_type": "markdown",
   "metadata": {},
   "source": [
    "## Discussion\n",
    "\n",
    "- One or two paragraphs to summarize your findings in the modeling sections and do the models answer your research question?\n",
    "- Any other potential thing you can do with the analysis (eg: include more features, get more data, try some other models etc.)\n",
    "- List the contribution for each group member.\n",
    "\n",
    "### Contributions\n",
    "- Sohum came up with the majority of our research questions and visualization ideas.\n",
    "- Bear wrote the web scraping functions.\n",
    "- Ansh wrote the data visualizations.\n",
    "- "
   ]
  }
 ],
 "metadata": {
  "kernelspec": {
   "display_name": "base",
   "language": "python",
   "name": "python3"
  },
  "language_info": {
   "codemirror_mode": {
    "name": "ipython",
    "version": 3
   },
   "file_extension": ".py",
   "mimetype": "text/x-python",
   "name": "python",
   "nbconvert_exporter": "python",
   "pygments_lexer": "ipython3",
   "version": "3.13.5"
  }
 },
 "nbformat": 4,
 "nbformat_minor": 4
}
