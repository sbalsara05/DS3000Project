{
 "cells": [
  {
   "cell_type": "markdown",
   "metadata": {},
   "source": [
    "# Investigating Palworld Through Data Analysis\n",
    "#### Team 11\n",
    "- Ansh Aggarwal\n",
    "- Sohum Balsara\n",
    "- Bear Smith"
   ]
  },
  {
   "cell_type": "code",
   "execution_count": 1,
   "metadata": {},
   "outputs": [],
   "source": [
    "# imports\n",
    "import requests\n",
    "from bs4 import BeautifulSoup\n",
    "import pandas as pd\n",
    "import seaborn as sns\n",
    "import plotly.express as px\n",
    "from sklearn.linear_model import LinearRegression\n",
    "from sklearn.model_selection import train_test_split\n",
    "from sklearn.metrics import r2_score\n",
    "from sklearn import tree\n",
    "import matplotlib.pyplot as plt\n",
    "from sklearn import tree\n",
    "from sklearn.model_selection import StratifiedKFold\n",
    "import numpy as np\n",
    "from sklearn.metrics import confusion_matrix\n",
    "from sklearn.metrics import ConfusionMatrixDisplay\n",
    "from sklearn.metrics import accuracy_score\n",
    "from sklearn.ensemble import RandomForestClassifier"
   ]
  },
  {
   "cell_type": "markdown",
   "metadata": {},
   "source": [
    "## Introduction\n",
    "\n",
    "In this project we study Palworld, a survival and monster-taming video game in which players collect characters called Pals to battle each other and help build their bases. Each Pal has a different set of skills and qualifications, a combination of such features as their element type, their HP in battle, and their \"work suitability\" for various tasks like farming or electricity production. We want to learn about how those factors combine and influence each other, and what relationships that may not be stated outwardly can be found between them. This may help players better understand their game and be more successful at it, or at least increase their knowledge of the logic behind Palworld.\n",
    "\n",
    "Our primary research questions are:\n",
    "- How are a Pal's work suitability scores correlated to its other statistics, such as its element type or battle skills?\n",
    "- What relationship does Pal rarity have with their other statistics?"
   ]
  },
  {
   "cell_type": "markdown",
   "metadata": {},
   "source": [
    "## Data \n",
    "\n",
    "### Data Source\n",
    "- All data was taken from the [palworld.gg](\"https://palworld.gg\") database.\n",
    "- We scraped each Pal's name, ID number, rarity, element(s), work suitability type(s) and level(s), HP, and defense scores.\n",
    "- To make the data frame more easily filtered, the Pals' elements were listed using multiple boolean columns, each representing one element.\n",
    "- For that same reason, their work suitabilities were also listed by column, but instead of True or False, each value was the Pal's level in that suitability or Nan if they did not have it. That way, dropna can be used to filter the data frame by element type.\n",
    "- Finally, the Pals' HP and defense stats were converted to numbers in the data frame, so that mathematical operations can be done on those columns.\n",
    "\n",
    "### Webscraping and cleaning functions overview\n",
    "- `scrape_pal_ids()`\n",
    "    - Creates a data frame with all the Pals' names as its index and one column of data containing their IDs.\n",
    "- `scrape_pal_rarity()`\n",
    "    - Adds a column containing the rarity of each Pal to the given data frame.\n",
    "- `scrape_pal_elements()`\n",
    "    - Adds the element or elements of each Pal to the given data frame using one-hot columns.\n",
    "- `scrape_pal_work()`\n",
    "    - Adds the work suitability or suitabilities of each Pal to the given data frame, along with its level.\n",
    "- `scrape_pal_hp()`\n",
    "    - Adds a column containing the HP of each Pal to the given data frame.\n",
    "- `scrape_pal_defense()`\n",
    "    - Adds a column containing the defense score of each Pal to the given data frame.\n",
    "\n",
    "### Data overview\n",
    "You can see a couple rows of our data below. We store the Pals' rarity, their element or elements, their work suitabilities with levels, and their HP and defense scores, all of which are measured and modeled against each other in our analysis. Our target feature is always one of them. The data set is not perfect: For the purposes of analysis, it could stand to be larger, as 225 Pals is relatively few when they are split up among various permutations of 9 elements and 12 work suitabilities. However, that's out of our control. We could have scraped more of the Pals' battle statistics, since some interesting analysis could probably be done on that, but none of our present ideas required them."
   ]
  },
  {
   "cell_type": "markdown",
   "metadata": {},
   "source": [
    "## Webscraping and cleaning"
   ]
  },
  {
   "cell_type": "code",
   "execution_count": 2,
   "metadata": {},
   "outputs": [],
   "source": [
    "# list all the functions you have for webscraping and cleaning. Make sure write full \n",
    "# docstrings for each function\n",
    "\n",
    "def scrape_pal_ids(url = \"https://palworld.gg/pals\"):\n",
    "    \"\"\"\n",
    "    Scrape Pal IDs from the given URL.\n",
    "\n",
    "    Args:\n",
    "        url (str): The URL of the Palworld database page, assumed to be the current link unless otherwise specified.\n",
    "\n",
    "    Returns:\n",
    "        DataFrame: A dataFrame of Pal names and IDs.\n",
    "    \"\"\"\n",
    "    response = requests.get(url).text\n",
    "    soup = BeautifulSoup(response)\n",
    "\n",
    "    # Find all Pal ID elements\n",
    "    pal_dict = {}\n",
    "    for pal in soup.find_all(\"div\", class_ = \"pal\"):\n",
    "\n",
    "        # Remove empty Pal entries.\n",
    "        if pal.attrs[\"style\"] == \"display:none;\":\n",
    "            continue\n",
    "\n",
    "        # Get the ID and name of the Pal and add them to the dictionary.\n",
    "        pal_id_element = pal.find('span', class_='index').text.strip()\n",
    "        pal_dict[pal.find(\"div\", class_ = \"name\").next_element.strip()] = pal_id_element\n",
    "\n",
    "    # Convert the dictionary to a DataFrame before returning it.\n",
    "    return pd.DataFrame().from_dict(pal_dict, orient = \"index\", columns = [\"ID\"])"
   ]
  },
  {
   "cell_type": "code",
   "execution_count": 3,
   "metadata": {},
   "outputs": [],
   "source": [
    "def scrape_pal_rarity(pal_df, url = \"https://palworld.gg/pals\"):\n",
    "    \"\"\"\n",
    "    Scrape the rarity of each Pal listed in the database.\n",
    "\n",
    "    Args:\n",
    "        url (str): The URL of the database page, assumed to be the current link unless otherwise specified.\n",
    "        pal_df (DataFrame): The DataFrame of Pal data to update.\n",
    "\n",
    "    Returns:\n",
    "        pal_df (DataFrame): The DataFrame given, with the rarity of each Pal added under a new column.\n",
    "    \"\"\"\n",
    "    soup = BeautifulSoup(requests.get(url).text)\n",
    "\n",
    "    # Find all Pals, then find each of their rarities.\n",
    "    pal_tag = soup.find_all(\"div\", class_ = \"pal\")\n",
    "    for pal in pal_tag:\n",
    "\n",
    "        # Remove empty Pal entries.\n",
    "        if pal.attrs[\"style\"] == \"display:none;\":\n",
    "            continue\n",
    "\n",
    "        # The \"name\" class is used twice in each Pal entry, first for their name, then for their rarity.\n",
    "        name_class = pal.find_all(\"div\", class_ = \"name\")\n",
    "        # (Using next_element here rather than .text to avoid also getting the text from the nested children.)\n",
    "        # Add the rarity of the Pal to the DataFrame under its name.\n",
    "        pal_df.loc[name_class[0].next_element.strip(), \"Rarity\"] = name_class[1].next_element\n",
    "\n",
    "    return pal_df\n"
   ]
  },
  {
   "cell_type": "code",
   "execution_count": 4,
   "metadata": {},
   "outputs": [],
   "source": [
    "def scrape_pal_elements(pal_df, url = \"https://palworld.gg/pals\"):\n",
    "    \"\"\"\n",
    "    Scrape the element or elements of each Pal listed in the database.\n",
    "\n",
    "    Args:\n",
    "        url (str): The URL of the database page, assumed to be the current link unless otherwise specified.\n",
    "        pal_df (DataFrame): The DataFrame of Pal data to update.\n",
    "\n",
    "    Returns:\n",
    "        pal_df (DataFrame): The DataFrame given, with a dummy variable added for each element,\n",
    "        True meaning that a Pal does belong to them and False for not.\n",
    "    \"\"\"\n",
    "    soup = BeautifulSoup(requests.get(url).text)\n",
    "\n",
    "    # Find each Pal entry.\n",
    "    pal_tag = soup.find_all(\"div\", class_ = \"pal\")\n",
    "    for pal in pal_tag:\n",
    "        # Remove empty Pal entries.\n",
    "        if pal.attrs[\"style\"] == \"display:none;\":\n",
    "            continue\n",
    "\n",
    "        # Load the individual entry page for the Pal.\n",
    "        pal_page = requests.get(\"https://palworld.gg\" + pal.a.attrs[\"href\"]).text\n",
    "        pal_soup = BeautifulSoup(pal_page)\n",
    "\n",
    "        # Scrape the Pal's name.\n",
    "        pal_name = pal_soup.find(\"h1\", class_ = \"name\").text.strip()\n",
    "\n",
    "        # Initialize all the element column values for this Pal to False, as none have been found yet.\n",
    "        pal_df.loc[pal_name, [\"Earth\", \"Fire\", \"Dragon\", \"Dark\", \"Electricity\", \"Water\", \"Ice\", \"Leaf\", \"Normal\"]] = False\n",
    "\n",
    "        # Scrape the elements of the Pal.\n",
    "        pal_elems_tags = pal_soup.find(\"div\", class_ = \"elements\").find_all(\"div\", class_ = \"name\")\n",
    "        for tag in pal_elems_tags:\n",
    "            # For each found element, change the Pal's value in the corresponding column to True.\n",
    "            pal_df.loc[pal_name, tag.text] = True\n",
    "        \n",
    "    return pal_df\n"
   ]
  },
  {
   "cell_type": "code",
   "execution_count": 5,
   "metadata": {},
   "outputs": [],
   "source": [
    "def scrape_pal_work(pal_df, url = \"https://palworld.gg/pals\"):\n",
    "    \"\"\"\n",
    "    Scrape the work suitabilities of each Pal listed in the database, including the level of each work type.\n",
    "\n",
    "    Args:\n",
    "        url (str): The URL of the database page, assumed to be the current link unless otherwise specified.\n",
    "        pal_df (DataFrame): The DataFrame of Pal data to update.\n",
    "\n",
    "    Returns:\n",
    "        pal_df (DataFrame): The DataFrame given, with 13 new columns added: 12 representing the work suitabilities\n",
    "        of Pals, each filled with NaN or the Pal's skill level for that task, and one column counting the number of suitabilities\n",
    "        the Pal has in total.\n",
    "    \"\"\"\n",
    "    soup = BeautifulSoup(requests.get(url).text)\n",
    "\n",
    "    # Find each Pal entry.\n",
    "    pal_tag = soup.find_all(\"div\", class_ = \"pal\")\n",
    "    for pal in pal_tag:\n",
    "        # Remove empty Pal entries.\n",
    "        if pal.attrs[\"style\"] == \"display:none;\":\n",
    "            continue\n",
    "\n",
    "        # Load the individual entry page for the Pal.\n",
    "        pal_page = requests.get(\"https://palworld.gg\" + pal.a.attrs[\"href\"]).text\n",
    "        pal_soup = BeautifulSoup(pal_page)\n",
    "\n",
    "        # Scrape the name of the Pal.\n",
    "        pal_name = pal_soup.find(\"h1\", class_ = \"name\").text.strip()\n",
    "\n",
    "        # Scrape the suitabilities of the Pal, and for each one that is found add its level to the column with the suitability's name.\n",
    "        pal_work_tags = pal_soup.find(\"div\", class_ = \"works\").find_all(\"div\", class_ = \"active item\")\n",
    "        for tag in pal_work_tags:\n",
    "            pal_df.loc[pal_name, tag.find(\"div\", class_ = \"name\").text] = int(tag.find(\"span\", class_ = \"value\").text)\n",
    "        # Add the pal's total number of suitabilities as a new column.\n",
    "        pal_df.loc[pal_name, \"Number of work suitabilities\"] = len(pal_work_tags)\n",
    "        \n",
    "    return pal_df\n"
   ]
  },
  {
   "cell_type": "code",
   "execution_count": 6,
   "metadata": {},
   "outputs": [],
   "source": [
    "def scrape_pal_hp(pal_df, url = \"https://palworld.gg/pals\"):\n",
    "    \"\"\"\n",
    "    Scrape the HP of each Pal listed in the database.\n",
    "\n",
    "    Args:\n",
    "        url (str): The URL of the database page, assumed to be the current link unless otherwise specified.\n",
    "        pal_df (DataFrame): The DataFrame of Pal data to update.\n",
    "\n",
    "    Returns:\n",
    "        pal_df (DataFrame): The DataFrame given, with a new column representing the Pals' HPs.\n",
    "    \"\"\"\n",
    "    soup = BeautifulSoup(requests.get(url).text)\n",
    "\n",
    "    # Find each Pal entry.\n",
    "    pal_tag = soup.find_all(\"div\", class_ = \"pal\")\n",
    "    for pal in pal_tag:\n",
    "        # Remove empty Pal entries.\n",
    "        if pal.attrs[\"style\"] == \"display:none;\":\n",
    "            continue\n",
    "\n",
    "        # Load the individual entry page for the Pal.\n",
    "        pal_page = requests.get(\"https://palworld.gg\" + pal.a.attrs[\"href\"]).text\n",
    "        pal_soup = BeautifulSoup(pal_page)\n",
    "\n",
    "        # Scrape the name of the Pal.\n",
    "        pal_name = pal_soup.find(\"h1\", class_ = \"name\").text.strip()\n",
    "\n",
    "        # Scrape the HP of the pal (the first entry in the stats section) and add it to the HP column.\n",
    "        pal_hp = int(pal_soup.find(\"div\", class_ = \"stats\").find_all(\"div\", class_ = \"value\")[0].text)\n",
    "        pal_df.loc[pal_name, \"HP\"] = pal_hp\n",
    "        \n",
    "    return pal_df\n"
   ]
  },
  {
   "cell_type": "code",
   "execution_count": 7,
   "metadata": {},
   "outputs": [],
   "source": [
    "def scrape_pal_defense(pal_df, url = \"https://palworld.gg/pals\"):\n",
    "    \"\"\"\n",
    "    Scrape the defense score of each Pal listed in the database.\n",
    "\n",
    "    Args:\n",
    "        url (str): The URL of the database page, assumed to be the current link unless otherwise specified.\n",
    "        pal_df (DataFrame): The DataFrame of Pal data to update.\n",
    "\n",
    "    Returns:\n",
    "        pal_df (DataFrame): The DataFrame given, with a new column representing the Pals' defense scores.\n",
    "    \"\"\"\n",
    "    soup = BeautifulSoup(requests.get(url).text)\n",
    "\n",
    "    # Find each Pal entry.\n",
    "    pal_tag = soup.find_all(\"div\", class_ = \"pal\")\n",
    "    for pal in pal_tag:\n",
    "        # Remove empty Pal entries.\n",
    "        if pal.attrs[\"style\"] == \"display:none;\":\n",
    "            continue\n",
    "\n",
    "        # Load the individual entry page for the Pal.\n",
    "        pal_page = requests.get(\"https://palworld.gg\" + pal.a.attrs[\"href\"]).text\n",
    "        pal_soup = BeautifulSoup(pal_page)\n",
    "\n",
    "        # Scrape the name of the Pal.\n",
    "        pal_name = pal_soup.find(\"h1\", class_ = \"name\").text.strip()\n",
    "\n",
    "        # Scrape the defense of the pal (the second entry in the stats section) and add it to the defense column.\n",
    "        pal_hp = int(pal_soup.find(\"div\", class_ = \"stats\").find_all(\"div\", class_ = \"value\")[1].text)\n",
    "        pal_df.loc[pal_name, \"Defense\"] = pal_hp\n",
    "        \n",
    "    return pal_df\n"
   ]
  },
  {
   "cell_type": "code",
   "execution_count": 8,
   "metadata": {},
   "outputs": [
    {
     "data": {
      "text/html": [
       "<div>\n",
       "<style scoped>\n",
       "    .dataframe tbody tr th:only-of-type {\n",
       "        vertical-align: middle;\n",
       "    }\n",
       "\n",
       "    .dataframe tbody tr th {\n",
       "        vertical-align: top;\n",
       "    }\n",
       "\n",
       "    .dataframe thead th {\n",
       "        text-align: right;\n",
       "    }\n",
       "</style>\n",
       "<table border=\"1\" class=\"dataframe\">\n",
       "  <thead>\n",
       "    <tr style=\"text-align: right;\">\n",
       "      <th></th>\n",
       "      <th>ID</th>\n",
       "      <th>Rarity</th>\n",
       "      <th>Earth</th>\n",
       "      <th>Fire</th>\n",
       "      <th>Dragon</th>\n",
       "      <th>Dark</th>\n",
       "      <th>Electricity</th>\n",
       "      <th>Water</th>\n",
       "      <th>Ice</th>\n",
       "      <th>Leaf</th>\n",
       "      <th>...</th>\n",
       "      <th>Kindling</th>\n",
       "      <th>Gathering</th>\n",
       "      <th>Generating Electricity</th>\n",
       "      <th>Watering</th>\n",
       "      <th>Cooling</th>\n",
       "      <th>Farming</th>\n",
       "      <th>Medicine Production</th>\n",
       "      <th>Planting</th>\n",
       "      <th>HP</th>\n",
       "      <th>Defense</th>\n",
       "    </tr>\n",
       "  </thead>\n",
       "  <tbody>\n",
       "    <tr>\n",
       "      <th>Anubis</th>\n",
       "      <td>#100</td>\n",
       "      <td>Epic</td>\n",
       "      <td>True</td>\n",
       "      <td>False</td>\n",
       "      <td>False</td>\n",
       "      <td>False</td>\n",
       "      <td>False</td>\n",
       "      <td>False</td>\n",
       "      <td>False</td>\n",
       "      <td>False</td>\n",
       "      <td>...</td>\n",
       "      <td>NaN</td>\n",
       "      <td>NaN</td>\n",
       "      <td>NaN</td>\n",
       "      <td>NaN</td>\n",
       "      <td>NaN</td>\n",
       "      <td>NaN</td>\n",
       "      <td>NaN</td>\n",
       "      <td>NaN</td>\n",
       "      <td>120.0</td>\n",
       "      <td>100.0</td>\n",
       "    </tr>\n",
       "    <tr>\n",
       "      <th>Arsox</th>\n",
       "      <td>#42</td>\n",
       "      <td>Common</td>\n",
       "      <td>False</td>\n",
       "      <td>True</td>\n",
       "      <td>False</td>\n",
       "      <td>False</td>\n",
       "      <td>False</td>\n",
       "      <td>False</td>\n",
       "      <td>False</td>\n",
       "      <td>False</td>\n",
       "      <td>...</td>\n",
       "      <td>2.0</td>\n",
       "      <td>NaN</td>\n",
       "      <td>NaN</td>\n",
       "      <td>NaN</td>\n",
       "      <td>NaN</td>\n",
       "      <td>NaN</td>\n",
       "      <td>NaN</td>\n",
       "      <td>NaN</td>\n",
       "      <td>85.0</td>\n",
       "      <td>95.0</td>\n",
       "    </tr>\n",
       "    <tr>\n",
       "      <th>Astegon</th>\n",
       "      <td>#98</td>\n",
       "      <td>Epic</td>\n",
       "      <td>False</td>\n",
       "      <td>False</td>\n",
       "      <td>True</td>\n",
       "      <td>True</td>\n",
       "      <td>False</td>\n",
       "      <td>False</td>\n",
       "      <td>False</td>\n",
       "      <td>False</td>\n",
       "      <td>...</td>\n",
       "      <td>NaN</td>\n",
       "      <td>NaN</td>\n",
       "      <td>NaN</td>\n",
       "      <td>NaN</td>\n",
       "      <td>NaN</td>\n",
       "      <td>NaN</td>\n",
       "      <td>NaN</td>\n",
       "      <td>NaN</td>\n",
       "      <td>100.0</td>\n",
       "      <td>125.0</td>\n",
       "    </tr>\n",
       "    <tr>\n",
       "      <th>Azurmane</th>\n",
       "      <td>#136</td>\n",
       "      <td>Rare</td>\n",
       "      <td>False</td>\n",
       "      <td>False</td>\n",
       "      <td>False</td>\n",
       "      <td>False</td>\n",
       "      <td>True</td>\n",
       "      <td>False</td>\n",
       "      <td>False</td>\n",
       "      <td>False</td>\n",
       "      <td>...</td>\n",
       "      <td>NaN</td>\n",
       "      <td>1.0</td>\n",
       "      <td>4.0</td>\n",
       "      <td>NaN</td>\n",
       "      <td>NaN</td>\n",
       "      <td>NaN</td>\n",
       "      <td>NaN</td>\n",
       "      <td>NaN</td>\n",
       "      <td>130.0</td>\n",
       "      <td>110.0</td>\n",
       "    </tr>\n",
       "    <tr>\n",
       "      <th>Azurobe</th>\n",
       "      <td>#82</td>\n",
       "      <td>Rare</td>\n",
       "      <td>False</td>\n",
       "      <td>False</td>\n",
       "      <td>True</td>\n",
       "      <td>False</td>\n",
       "      <td>False</td>\n",
       "      <td>True</td>\n",
       "      <td>False</td>\n",
       "      <td>False</td>\n",
       "      <td>...</td>\n",
       "      <td>NaN</td>\n",
       "      <td>NaN</td>\n",
       "      <td>NaN</td>\n",
       "      <td>3.0</td>\n",
       "      <td>NaN</td>\n",
       "      <td>NaN</td>\n",
       "      <td>NaN</td>\n",
       "      <td>NaN</td>\n",
       "      <td>110.0</td>\n",
       "      <td>100.0</td>\n",
       "    </tr>\n",
       "    <tr>\n",
       "      <th>...</th>\n",
       "      <td>...</td>\n",
       "      <td>...</td>\n",
       "      <td>...</td>\n",
       "      <td>...</td>\n",
       "      <td>...</td>\n",
       "      <td>...</td>\n",
       "      <td>...</td>\n",
       "      <td>...</td>\n",
       "      <td>...</td>\n",
       "      <td>...</td>\n",
       "      <td>...</td>\n",
       "      <td>...</td>\n",
       "      <td>...</td>\n",
       "      <td>...</td>\n",
       "      <td>...</td>\n",
       "      <td>...</td>\n",
       "      <td>...</td>\n",
       "      <td>...</td>\n",
       "      <td>...</td>\n",
       "      <td>...</td>\n",
       "      <td>...</td>\n",
       "    </tr>\n",
       "    <tr>\n",
       "      <th>Wumpo Botan</th>\n",
       "      <td>#91</td>\n",
       "      <td>Epic</td>\n",
       "      <td>False</td>\n",
       "      <td>False</td>\n",
       "      <td>False</td>\n",
       "      <td>False</td>\n",
       "      <td>False</td>\n",
       "      <td>False</td>\n",
       "      <td>False</td>\n",
       "      <td>True</td>\n",
       "      <td>...</td>\n",
       "      <td>NaN</td>\n",
       "      <td>NaN</td>\n",
       "      <td>NaN</td>\n",
       "      <td>NaN</td>\n",
       "      <td>NaN</td>\n",
       "      <td>NaN</td>\n",
       "      <td>NaN</td>\n",
       "      <td>1.0</td>\n",
       "      <td>140.0</td>\n",
       "      <td>110.0</td>\n",
       "    </tr>\n",
       "    <tr>\n",
       "      <th>Xenogard</th>\n",
       "      <td>#126</td>\n",
       "      <td>Epic</td>\n",
       "      <td>False</td>\n",
       "      <td>False</td>\n",
       "      <td>True</td>\n",
       "      <td>False</td>\n",
       "      <td>False</td>\n",
       "      <td>False</td>\n",
       "      <td>False</td>\n",
       "      <td>False</td>\n",
       "      <td>...</td>\n",
       "      <td>NaN</td>\n",
       "      <td>NaN</td>\n",
       "      <td>NaN</td>\n",
       "      <td>NaN</td>\n",
       "      <td>NaN</td>\n",
       "      <td>NaN</td>\n",
       "      <td>NaN</td>\n",
       "      <td>NaN</td>\n",
       "      <td>110.0</td>\n",
       "      <td>130.0</td>\n",
       "    </tr>\n",
       "    <tr>\n",
       "      <th>Xenolord</th>\n",
       "      <td>#127</td>\n",
       "      <td>Epic</td>\n",
       "      <td>False</td>\n",
       "      <td>False</td>\n",
       "      <td>True</td>\n",
       "      <td>True</td>\n",
       "      <td>False</td>\n",
       "      <td>False</td>\n",
       "      <td>False</td>\n",
       "      <td>False</td>\n",
       "      <td>...</td>\n",
       "      <td>NaN</td>\n",
       "      <td>1.0</td>\n",
       "      <td>NaN</td>\n",
       "      <td>NaN</td>\n",
       "      <td>NaN</td>\n",
       "      <td>NaN</td>\n",
       "      <td>NaN</td>\n",
       "      <td>NaN</td>\n",
       "      <td>130.0</td>\n",
       "      <td>120.0</td>\n",
       "    </tr>\n",
       "    <tr>\n",
       "      <th>Xenovader</th>\n",
       "      <td>#125</td>\n",
       "      <td>Rare</td>\n",
       "      <td>False</td>\n",
       "      <td>False</td>\n",
       "      <td>False</td>\n",
       "      <td>True</td>\n",
       "      <td>False</td>\n",
       "      <td>False</td>\n",
       "      <td>False</td>\n",
       "      <td>False</td>\n",
       "      <td>...</td>\n",
       "      <td>NaN</td>\n",
       "      <td>NaN</td>\n",
       "      <td>NaN</td>\n",
       "      <td>NaN</td>\n",
       "      <td>NaN</td>\n",
       "      <td>NaN</td>\n",
       "      <td>NaN</td>\n",
       "      <td>NaN</td>\n",
       "      <td>90.0</td>\n",
       "      <td>85.0</td>\n",
       "    </tr>\n",
       "    <tr>\n",
       "      <th>Yakumo</th>\n",
       "      <td>#121</td>\n",
       "      <td>Common</td>\n",
       "      <td>False</td>\n",
       "      <td>False</td>\n",
       "      <td>False</td>\n",
       "      <td>False</td>\n",
       "      <td>False</td>\n",
       "      <td>False</td>\n",
       "      <td>False</td>\n",
       "      <td>False</td>\n",
       "      <td>...</td>\n",
       "      <td>NaN</td>\n",
       "      <td>2.0</td>\n",
       "      <td>NaN</td>\n",
       "      <td>NaN</td>\n",
       "      <td>NaN</td>\n",
       "      <td>NaN</td>\n",
       "      <td>NaN</td>\n",
       "      <td>NaN</td>\n",
       "      <td>85.0</td>\n",
       "      <td>85.0</td>\n",
       "    </tr>\n",
       "  </tbody>\n",
       "</table>\n",
       "<p>225 rows × 26 columns</p>\n",
       "</div>"
      ],
      "text/plain": [
       "               ID  Rarity  Earth   Fire Dragon   Dark Electricity  Water  \\\n",
       "Anubis       #100    Epic   True  False  False  False       False  False   \n",
       "Arsox         #42  Common  False   True  False  False       False  False   \n",
       "Astegon       #98    Epic  False  False   True   True       False  False   \n",
       "Azurmane     #136    Rare  False  False  False  False        True  False   \n",
       "Azurobe       #82    Rare  False  False   True  False       False   True   \n",
       "...           ...     ...    ...    ...    ...    ...         ...    ...   \n",
       "Wumpo Botan   #91    Epic  False  False  False  False       False  False   \n",
       "Xenogard     #126    Epic  False  False   True  False       False  False   \n",
       "Xenolord     #127    Epic  False  False   True   True       False  False   \n",
       "Xenovader    #125    Rare  False  False  False   True       False  False   \n",
       "Yakumo       #121  Common  False  False  False  False       False  False   \n",
       "\n",
       "               Ice   Leaf  ... Kindling  Gathering  Generating Electricity  \\\n",
       "Anubis       False  False  ...      NaN        NaN                     NaN   \n",
       "Arsox        False  False  ...      2.0        NaN                     NaN   \n",
       "Astegon      False  False  ...      NaN        NaN                     NaN   \n",
       "Azurmane     False  False  ...      NaN        1.0                     4.0   \n",
       "Azurobe      False  False  ...      NaN        NaN                     NaN   \n",
       "...            ...    ...  ...      ...        ...                     ...   \n",
       "Wumpo Botan  False   True  ...      NaN        NaN                     NaN   \n",
       "Xenogard     False  False  ...      NaN        NaN                     NaN   \n",
       "Xenolord     False  False  ...      NaN        1.0                     NaN   \n",
       "Xenovader    False  False  ...      NaN        NaN                     NaN   \n",
       "Yakumo       False  False  ...      NaN        2.0                     NaN   \n",
       "\n",
       "             Watering  Cooling  Farming  Medicine Production  Planting     HP  \\\n",
       "Anubis            NaN      NaN      NaN                  NaN       NaN  120.0   \n",
       "Arsox             NaN      NaN      NaN                  NaN       NaN   85.0   \n",
       "Astegon           NaN      NaN      NaN                  NaN       NaN  100.0   \n",
       "Azurmane          NaN      NaN      NaN                  NaN       NaN  130.0   \n",
       "Azurobe           3.0      NaN      NaN                  NaN       NaN  110.0   \n",
       "...               ...      ...      ...                  ...       ...    ...   \n",
       "Wumpo Botan       NaN      NaN      NaN                  NaN       1.0  140.0   \n",
       "Xenogard          NaN      NaN      NaN                  NaN       NaN  110.0   \n",
       "Xenolord          NaN      NaN      NaN                  NaN       NaN  130.0   \n",
       "Xenovader         NaN      NaN      NaN                  NaN       NaN   90.0   \n",
       "Yakumo            NaN      NaN      NaN                  NaN       NaN   85.0   \n",
       "\n",
       "             Defense  \n",
       "Anubis         100.0  \n",
       "Arsox           95.0  \n",
       "Astegon        125.0  \n",
       "Azurmane       110.0  \n",
       "Azurobe        100.0  \n",
       "...              ...  \n",
       "Wumpo Botan    110.0  \n",
       "Xenogard       130.0  \n",
       "Xenolord       120.0  \n",
       "Xenovader       85.0  \n",
       "Yakumo          85.0  \n",
       "\n",
       "[225 rows x 26 columns]"
      ]
     },
     "execution_count": 8,
     "metadata": {},
     "output_type": "execute_result"
    }
   ],
   "source": [
    "pal_df = scrape_pal_defense(scrape_pal_hp(scrape_pal_work(scrape_pal_elements(scrape_pal_rarity(scrape_pal_ids())))))\n",
    "pal_df"
   ]
  },
  {
   "cell_type": "markdown",
   "metadata": {},
   "source": [
    "## Visualizations\n",
    "\n",
    "### Visualization functions overview\n",
    "List all the functions you have written for visualization. For each one, write one sentence to describe it. \n",
    "- `build_work_features()`\n",
    "    - Add new columns to the dataframe containing each Pal's highest work suitability level, a list of all its suitabilities, and its total number of suitabilities.\n",
    "- `group_work_by_element()`\n",
    "    - Make a data frame representing each of the elements' average scores in each work suitability.\n"
   ]
  },
  {
   "cell_type": "code",
   "execution_count": 9,
   "metadata": {},
   "outputs": [],
   "source": [
    "def build_work_features(df, work_list):\n",
    "    \"\"\" Creates a data frame based on the given frame of Pal data with three new features added: \n",
    "    Each Pal's highest work suitability level, a list of all its suitabilities, and its total number of suitabilities.\n",
    "\n",
    "    Args:\n",
    "        df (DataFrame): The data frame to draw Pal data from and base the return frame off of.\n",
    "        work_list (list(str)): The titles of the columns containing Pal work data in the given frame.\n",
    "\n",
    "    Returns:\n",
    "        out (DataFrame): A copy of the given data frame with the three new columns added to it.\n",
    "    \"\"\"\n",
    "    \n",
    "    # Initialize the return data frame as a copy of the given one.\n",
    "    out = df.copy()\n",
    "\n",
    "    # Grab the subset of the data frame representing the work columns.\n",
    "    work_cols = df[work_list]\n",
    "\n",
    "    # For every row of the data frame:\n",
    "    for idx in range(len(work_cols)):\n",
    "        # Declare a series variable for the work stats of the Pal at this row and drop all NaN values, \n",
    "        # which would be the work suitabilities it doesn't have.\n",
    "        pal = work_cols.iloc[idx, :]\n",
    "        pal = pal.dropna()\n",
    "\n",
    "        # Get the Pal's highest work suitability level by sorting the series and place it into the data frame.\n",
    "        out.loc[pal.name, \"Highest Work Suitability Level\"] = pal.sort_values(ascending = False).iloc[0]\n",
    "\n",
    "        # Get a string of the Pal's work types by joining all of its non-NaN work labels and place it into the data frame.\n",
    "        out.loc[pal.name, \"Work Types\"] = \", \".join(pal.index)\n",
    "\n",
    "        # Get the number of work types the Pal has as the length of the index and place it into the data frame.\n",
    "        out.loc[pal.name, \"Work Skill Count\"] = len(pal.index)\n",
    "\n",
    "    return out\n",
    "\n",
    "\n",
    "def group_work_by_element(df, work_list):\n",
    "    \"\"\" Makes a data frame representing the Pals' average scores in each work suitability by element.\n",
    "    (Note that many Pals have multiple elements and thus have to be counted for each of them.)\n",
    "\n",
    "    Args:\n",
    "        df (DataFrame): The data frame to draw Pal data from and base the return frame off of.\n",
    "        work_list (list(str)): The titles of the columns containing Pal work data in the given frame.\n",
    "    \n",
    "    Returns:\n",
    "        work_elem_stats (DataFrame): A data frame with elements for its index and work suitabilities for its columns,\n",
    "        populated in each cell with the average score of all the Pals in that element at that work skill.\n",
    "    \"\"\"\n",
    "\n",
    "    # Declare a list of the elements.\n",
    "    element_list = [\"Earth\", \"Fire\", \"Dragon\", \"Dark\", \"Electricity\", \"Water\", \"Ice\", \"Leaf\", \"Normal\"]\n",
    "\n",
    "    # Initialize an empty data frame to hold the return values.\n",
    "    work_elem_stats = pd.DataFrame(index = element_list, columns = work_list, dtype = float)\n",
    "    \n",
    "    # For every element:\n",
    "    for elem in element_list:\n",
    "        # Get all the pals who have that element == True.\n",
    "        current_pals = df.loc[df[elem], :]\n",
    "\n",
    "        # For all the work suitabilities:\n",
    "        for work in work_list:\n",
    "            # Take the mean of all the current Pals' stats in that job, filling NaNs with 0, and place it into the data frame.\n",
    "            work_elem_stats.loc[elem, work] = current_pals[work].fillna(value = 0, inplace = False).mean()\n",
    "    \n",
    "    return work_elem_stats\n",
    "\n",
    "\n",
    "# Declare the names of work-type columns\n",
    "work_list = ['Handiwork', 'Mining',\n",
    "       'Transporting', 'Deforesting',\n",
    "       'Kindling', 'Gathering', 'Generating Electricity', 'Watering',\n",
    "       'Cooling', 'Farming', 'Medicine Production', 'Planting']\n",
    "\n",
    "# Define fixed colors for each element\n",
    "element_colors = {\n",
    "    \"Earth\": \"#8B4513\",\n",
    "    \"Fire\": \"#FF4500\",\n",
    "    \"Dragon\": \"#800080\",\n",
    "    \"Dark\": \"#2F4F4F\",\n",
    "    \"Electricity\": \"#FFD700\",\n",
    "    \"Water\": \"#1E90FF\",\n",
    "    \"Ice\": \"#00CED1\",\n",
    "    \"Leaf\": \"#228B22\", \n",
    "    \"Normal\": \"#A9A9A9\"\n",
    "}\n"
   ]
  },
  {
   "cell_type": "markdown",
   "metadata": {},
   "source": [
    "### Visualization 1"
   ]
  },
  {
   "cell_type": "code",
   "execution_count": 10,
   "metadata": {},
   "outputs": [
    {
     "data": {
      "application/vnd.plotly.v1+json": {
       "config": {
        "plotlyServerURL": "https://plot.ly"
       },
       "data": [
        {
         "customdata": [
          [
           "#-1",
           "Common",
           "Transporting"
          ],
          [
           "#2",
           "Common",
           "Handiwork, Mining, Transporting, Gathering"
          ],
          [
           "#44",
           "Common",
           "Deforesting"
          ],
          [
           "#-1",
           "Common",
           "Gathering"
          ],
          [
           "#25",
           "Common",
           "Transporting, Generating Electricity, Watering"
          ],
          [
           "#3",
           "Common",
           "Gathering, Farming"
          ],
          [
           "#55",
           "Common",
           "Gathering, Cooling"
          ],
          [
           "#25",
           "Common",
           "Transporting, Watering"
          ],
          [
           "#62",
           "Common",
           "Handiwork, Transporting, Generating Electricity"
          ],
          [
           "#62",
           "Common",
           "Handiwork, Transporting, Generating Electricity, Medicine Production"
          ],
          [
           "#-1",
           "Common",
           "Transporting"
          ],
          [
           "#17",
           "Common",
           "Handiwork, Mining, Transporting"
          ],
          [
           "#114",
           "Rare",
           "Handiwork, Transporting, Gathering, Watering"
          ],
          [
           "#19",
           "Common",
           "Handiwork, Transporting, Gathering"
          ],
          [
           "#18",
           "Common",
           "Gathering, Farming"
          ],
          [
           "#114",
           "Common",
           "Handiwork, Transporting, Gathering, Watering"
          ],
          [
           "#26",
           "Common",
           "Gathering"
          ],
          [
           "#-1",
           "Common",
           "Deforesting"
          ],
          [
           "#12",
           "Common",
           "Cooling"
          ],
          [
           "#12",
           "Common",
           "Generating Electricity"
          ],
          [
           "#81",
           "Common",
           "Kindling, Farming"
          ],
          [
           "#81",
           "Common",
           "Watering, Farming"
          ],
          [
           "#15",
           "Common",
           "Gathering"
          ],
          [
           "#13",
           "Common",
           "Planting"
          ],
          [
           "#-1",
           "Common",
           "Transporting"
          ],
          [
           "#6",
           "Common",
           "Handiwork, Transporting, Kindling, Watering"
          ],
          [
           "#22",
           "Common",
           "Handiwork, Mining, Transporting"
          ],
          [
           "#6",
           "Common",
           "Handiwork, Transporting, Watering"
          ],
          [
           "#5",
           "Common",
           "Kindling"
          ],
          [
           "#5",
           "Common",
           "Cooling"
          ],
          [
           "#70",
           "Common",
           "Handiwork, Transporting, Kindling, Farming"
          ],
          [
           "#28",
           "Common",
           "Handiwork, Transporting, Gathering, Medicine Production, Planting"
          ],
          [
           "#-1",
           "Common",
           "Gathering"
          ],
          [
           "#-1",
           "Common",
           "Transporting"
          ],
          [
           "#45",
           "Common",
           "Handiwork, Transporting, Kindling, Gathering"
          ],
          [
           "#4",
           "Common",
           "Handiwork, Deforesting, Gathering, Medicine Production, Planting"
          ],
          [
           "#1",
           "Common",
           "Handiwork, Transporting, Farming"
          ],
          [
           "#45",
           "Common",
           "Handiwork, Transporting, Gathering"
          ],
          [
           "#89",
           "Epic",
           "Gathering"
          ],
          [
           "#117",
           "Common",
           "Mining"
          ],
          [
           "#65",
           "Rare",
           "Gathering"
          ],
          [
           "#53",
           "Common",
           "Gathering, Cooling"
          ],
          [
           "#8",
           "Common",
           "Handiwork, Transporting, Deforesting, Gathering, Planting"
          ],
          [
           "#16",
           "Common",
           "Watering"
          ],
          [
           "#27",
           "Common",
           "Gathering"
          ],
          [
           "#127",
           "Epic",
           "Gathering"
          ],
          [
           "#34",
           "Common",
           "Farming"
          ],
          [
           "#7",
           "Common",
           "Handiwork, Transporting, Generating Electricity"
          ],
          [
           "#-1",
           "Common",
           "Transporting"
          ],
          [
           "#-1",
           "Common",
           "Transporting"
          ],
          [
           "#-1",
           "Common",
           "Transporting"
          ],
          [
           "#107",
           "Epic",
           "Gathering"
          ],
          [
           "#9",
           "Common",
           "Kindling"
          ],
          [
           "#20",
           "Common",
           "Mining"
          ],
          [
           "#39",
           "Common",
           "Handiwork, Transporting, Gathering, Planting"
          ],
          [
           "#39",
           "Common",
           "Handiwork, Transporting, Gathering"
          ],
          [
           "#133",
           "Common",
           "Gathering"
          ],
          [
           "#21",
           "Rare",
           "Gathering"
          ],
          [
           "#10",
           "Common",
           "Handiwork, Transporting, Watering, Cooling"
          ],
          [
           "#29",
           "Common",
           "Farming"
          ],
          [
           "#36",
           "Common",
           "Farming"
          ],
          [
           "#124",
           "Rare",
           "Transporting, Gathering"
          ],
          [
           "#24",
           "Common",
           "Cooling, Farming"
          ],
          [
           "#24",
           "Common",
           "Farming"
          ],
          [
           "#14",
           "Common",
           "Gathering, Farming"
          ],
          [
           "#46",
           "Common",
           "Handiwork"
          ],
          [
           "#61",
           "Rare",
           "Kindling"
          ],
          [
           "#69",
           "Rare",
           "Handiwork, Mining, Transporting, Medicine Production"
          ],
          [
           "#149",
           "Common",
           "Handiwork, Transporting, Watering, Medicine Production"
          ],
          [
           "#150",
           "Common",
           "Handiwork, Transporting, Watering"
          ],
          [
           "#23",
           "Common",
           "Transporting, Gathering, Watering"
          ],
          [
           "#61",
           "Rare",
           "Kindling"
          ],
          [
           "#115",
           "Common",
           "Handiwork, Gathering, Medicine Production, Planting"
          ],
          [
           "#31",
           "Common",
           "Handiwork, Transporting, Watering"
          ],
          [
           "#52",
           "Rare",
           "Gathering"
          ],
          [
           "#31",
           "Common",
           "Handiwork, Transporting, Kindling"
          ],
          [
           "#75",
           "Rare",
           "Handiwork, Transporting, Kindling, Medicine Production"
          ],
          [
           "#75",
           "Rare",
           "Handiwork, Transporting, Medicine Production"
          ],
          [
           "#40",
           "Common",
           "Handiwork, Mining, Transporting, Kindling"
          ],
          [
           "#40",
           "Rare",
           "Handiwork, Mining, Transporting"
          ],
          [
           "#140",
           "Epic",
           "Gathering"
          ],
          [
           "#57",
           "Rare",
           "Cooling"
          ],
          [
           "#152",
           "Common",
           "Transporting, Kindling, Watering"
          ],
          [
           "#152",
           "Common",
           "Transporting, Watering"
          ],
          [
           "#11",
           "Rare",
           "Handiwork, Mining, Transporting, Watering, Cooling"
          ],
          [
           "#10",
           "Common",
           "Handiwork, Transporting, Generating Electricity, Watering"
          ],
          [
           "#108",
           "Legendary",
           "Mining, Deforesting"
          ],
          [
           "#146",
           "Common",
           "Transporting, Watering, Cooling"
          ],
          [
           "#148",
           "Common",
           "Mining, Transporting, Watering"
          ],
          [
           "#148",
           "Common",
           "Mining, Transporting, Watering"
          ],
          [
           "#85",
           "Epic",
           "Transporting, Watering"
          ],
          [
           "#58",
           "Rare",
           "Deforesting, Kindling"
          ],
          [
           "#116",
           "Rare",
           "Handiwork, Deforesting, Gathering, Planting"
          ],
          [
           "#79",
           "Rare",
           "Cooling, Farming, Medicine Production"
          ],
          [
           "#116",
           "Common",
           "Handiwork, Deforesting, Gathering, Planting"
          ],
          [
           "#131",
           "Common",
           "Gathering"
          ],
          [
           "#59",
           "Common",
           "Deforesting, Cooling"
          ],
          [
           "#48",
           "Rare",
           "Handiwork, Transporting, Deforesting, Gathering, Medicine Production"
          ],
          [
           "#48",
           "Rare",
           "Handiwork, Transporting, Deforesting, Gathering, Medicine Production, Planting"
          ],
          [
           "#58",
           "Rare",
           "Deforesting, Kindling"
          ],
          [
           "#38",
           "Common",
           "Gathering"
          ],
          [
           "#60",
           "Rare",
           "Generating Electricity"
          ],
          [
           "#11",
           "Rare",
           "Handiwork, Mining, Transporting, Generating Electricity, Watering"
          ],
          [
           "#23",
           "Common",
           "Transporting, Gathering, Watering"
          ],
          [
           "#151",
           "Rare",
           "Handiwork, Transporting, Watering"
          ],
          [
           "#32",
           "Common",
           "Handiwork, Transporting, Gathering, Cooling"
          ],
          [
           "#37",
           "Common",
           "Deforesting"
          ],
          [
           "#43",
           "Common",
           "Mining, Transporting, Watering, Farming"
          ],
          [
           "#143",
           "Common",
           "Gathering, Cooling"
          ],
          [
           "#47",
           "Common",
           "Gathering"
          ],
          [
           "#32",
           "Common",
           "Handiwork, Transporting, Gathering"
          ],
          [
           "#141",
           "Common",
           "Transporting, Gathering, Planting"
          ],
          [
           "#51",
           "Epic",
           "Handiwork, Deforesting, Gathering, Medicine Production, Planting"
          ],
          [
           "#37",
           "Rare",
           "Deforesting"
          ],
          [
           "#55",
           "Rare",
           "Kindling, Gathering"
          ],
          [
           "#41",
           "Common",
           "Medicine Production, Planting"
          ],
          [
           "#64",
           "Rare",
           "Deforesting, Planting"
          ],
          [
           "#123",
           "Rare",
           "Gathering"
          ],
          [
           "#43",
           "Rare",
           "Mining, Transporting, Watering, Farming"
          ],
          [
           "#64",
           "Rare",
           "Deforesting, Generating Electricity"
          ],
          [
           "#30",
           "Common",
           "Handiwork, Transporting, Gathering, Medicine Production, Planting"
          ],
          [
           "#42",
           "Common",
           "Deforesting, Kindling"
          ],
          [
           "#50",
           "Common",
           "Handiwork, Transporting, Deforesting, Gathering, Farming, Medicine Production, Planting"
          ],
          [
           "#35",
           "Common",
           "Farming, Planting"
          ],
          [
           "#35",
           "Common",
           "Farming, Planting"
          ],
          [
           "#80",
           "Rare",
           "Deforesting"
          ],
          [
           "#93",
           "Common",
           "Deforesting, Generating Electricity"
          ],
          [
           "#93",
           "Common",
           "Deforesting"
          ],
          [
           "#129",
           "Rare",
           "Gathering"
          ],
          [
           "#54",
           "Rare",
           "Gathering, Cooling"
          ],
          [
           "#65",
           "Common",
           "Watering"
          ],
          [
           "#56",
           "Rare",
           "Deforesting, Generating Electricity"
          ],
          [
           "#68",
           "Rare",
           "Mining, Transporting, Gathering"
          ],
          [
           "#135",
           "Common",
           "Handiwork, Transporting, Gathering, Medicine Production"
          ],
          [
           "#90",
           "Epic",
           "Mining, Deforesting, Planting"
          ],
          [
           "#66",
           "Rare",
           "Mining, Gathering"
          ],
          [
           "#109",
           "Legendary",
           "Mining, Deforesting"
          ],
          [
           "#90",
           "Epic",
           "Mining, Deforesting, Cooling"
          ],
          [
           "#121",
           "Common",
           "Gathering"
          ],
          [
           "#125",
           "Rare",
           "Transporting, Deforesting"
          ],
          [
           "#74",
           "Rare",
           "Transporting, Kindling"
          ],
          [
           "#95",
           "Epic",
           "Handiwork, Mining, Transporting, Gathering, Planting"
          ],
          [
           "#95",
           "Rare",
           "Handiwork, Mining, Transporting, Gathering"
          ],
          [
           "#119",
           "Rare",
           "Deforesting, Gathering, Medicine Production"
          ],
          [
           "#87",
           "Epic",
           "Handiwork, Transporting, Gathering, Medicine Production, Planting"
          ],
          [
           "#144",
           "Common",
           "Mining, Gathering, Planting"
          ],
          [
           "#102",
           "Epic",
           "Kindling"
          ],
          [
           "#78",
           "Epic",
           "Handiwork, Transporting, Gathering, Medicine Production, Planting"
          ],
          [
           "#92",
           "Epic",
           "Handiwork, Transporting, Deforesting, Planting"
          ],
          [
           "#138",
           "Rare",
           "Handiwork, Transporting, Gathering, Medicine Production, Planting"
          ],
          [
           "#130",
           "Epic",
           "Deforesting"
          ],
          [
           "#118",
           "Rare",
           "Handiwork, Mining, Kindling, Gathering, Farming"
          ],
          [
           "#49",
           "Rare",
           "Handiwork, Transporting, Deforesting"
          ],
          [
           "#103",
           "Epic",
           "Handiwork, Transporting, Deforesting, Generating Electricity"
          ],
          [
           "#97",
           "Epic",
           "Transporting, Generating Electricity"
          ],
          [
           "#97",
           "Rare",
           "Transporting"
          ],
          [
           "#111",
           "Legendary",
           "Gathering"
          ],
          [
           "#142",
           "Common",
           "Handiwork, Transporting, Cooling, Medicine Production"
          ],
          [
           "#89",
           "Epic",
           "Gathering, Cooling"
          ],
          [
           "#49",
           "Rare",
           "Handiwork, Mining, Transporting"
          ],
          [
           "#67",
           "Rare",
           "Mining"
          ],
          [
           "#83",
           "Rare",
           "Handiwork, Mining, Transporting, Deforesting"
          ],
          [
           "#72",
           "Rare",
           "Handiwork, Transporting, Deforesting, Kindling, Gathering"
          ],
          [
           "#86",
           "Epic",
           "Watering"
          ],
          [
           "#73",
           "Rare",
           "Transporting, Gathering, Generating Electricity"
          ],
          [
           "#84",
           "Epic",
           "Deforesting, Kindling"
          ],
          [
           "#84",
           "Rare",
           "Deforesting, Kindling"
          ],
          [
           "#83",
           "Rare",
           "Handiwork, Transporting, Deforesting, Cooling"
          ],
          [
           "#72",
           "Rare",
           "Handiwork, Transporting, Deforesting, Kindling, Gathering"
          ],
          [
           "#86",
           "Rare",
           "Planting"
          ],
          [
           "#82",
           "Epic",
           "Cooling"
          ],
          [
           "#82",
           "Rare",
           "Watering"
          ],
          [
           "#147",
           "Rare",
           "Watering, Cooling"
          ],
          [
           "#85",
           "Epic",
           "Transporting, Generating Electricity"
          ],
          [
           "#88",
           "Rare",
           "Mining, Kindling"
          ],
          [
           "#88",
           "Rare",
           "Mining, Cooling"
          ],
          [
           "#126",
           "Epic",
           "Mining"
          ],
          [
           "#76",
           "Rare",
           "Handiwork, Transporting, Kindling"
          ],
          [
           "#92",
           "Epic",
           "Handiwork, Mining, Transporting"
          ],
          [
           "#80",
           "Epic",
           "Deforesting, Watering"
          ],
          [
           "#94",
           "Rare",
           "Medicine Production"
          ],
          [
           "#105",
           "Epic",
           "Transporting, Kindling"
          ],
          [
           "#122",
           "Rare",
           "Handiwork, Transporting, Deforesting, Gathering, Medicine Production"
          ],
          [
           "#46",
           "Common",
           "Handiwork, Cooling"
          ],
          [
           "#33",
           "Rare",
           "Handiwork, Transporting, Deforesting, Generating Electricity"
          ],
          [
           "#99",
           "Epic",
           "Mining, Deforesting"
          ],
          [
           "#63",
           "Rare",
           "Handiwork, Transporting, Gathering"
          ],
          [
           "#104",
           "Epic",
           "Handiwork, Gathering, Medicine Production"
          ],
          [
           "#33",
           "Rare",
           "Handiwork, Transporting, Deforesting, Planting"
          ],
          [
           "#99",
           "Epic",
           "Mining, Deforesting"
          ],
          [
           "#139",
           "Common",
           "Handiwork, Transporting, Deforesting, Gathering"
          ],
          [
           "#128",
           "Rare",
           "Handiwork, Transporting"
          ],
          [
           "#77",
           "Epic",
           "Handiwork, Transporting, Deforesting, Gathering, Planting"
          ],
          [
           "#71",
           "Common",
           "Transporting, Kindling"
          ],
          [
           "#71",
           "Rare",
           "Transporting, Cooling"
          ],
          [
           "#76",
           "Rare",
           "Handiwork, Transporting, Kindling"
          ],
          [
           "#102",
           "Epic",
           "Watering"
          ],
          [
           "#120",
           "Epic",
           "Mining, Transporting, Gathering"
          ],
          [
           "#101",
           "Epic",
           "Kindling"
          ],
          [
           "#101",
           "Epic",
           "Watering"
          ],
          [
           "#137",
           "Epic",
           "Mining, Deforesting, Cooling"
          ],
          [
           "#100",
           "Epic",
           "Handiwork, Mining, Transporting"
          ],
          [
           "#98",
           "Epic",
           "Handiwork, Mining"
          ],
          [
           "#136",
           "Rare",
           "Gathering, Generating Electricity"
          ],
          [
           "#96",
           "Epic",
           "Mining, Kindling"
          ],
          [
           "#112",
           "Legendary",
           "Handiwork, Transporting, Medicine Production"
          ],
          [
           "#-1",
           "Rare",
           "Transporting"
          ],
          [
           "#105",
           "Epic",
           "Transporting, Watering"
          ],
          [
           "#132",
           "Rare",
           "Deforesting, Gathering"
          ],
          [
           "#145",
           "Rare",
           "Mining, Gathering, Planting"
          ],
          [
           "#112",
           "Legendary",
           "Handiwork, Transporting, Medicine Production"
          ],
          [
           "#110",
           "Legendary",
           "Cooling"
          ],
          [
           "#153",
           "Rare",
           "Transporting, Kindling, Watering"
          ],
          [
           "#153",
           "Rare",
           "Transporting, Watering"
          ],
          [
           "#110",
           "Legendary",
           "Gathering"
          ],
          [
           "#96",
           "Epic",
           "Mining, Kindling"
          ],
          [
           "#134",
           "Common",
           "Handiwork, Transporting, Deforesting, Medicine Production"
          ],
          [
           "#113",
           "Epic",
           "Handiwork, Transporting, Medicine Production"
          ],
          [
           "#106",
           "Epic",
           "Handiwork, Transporting, Generating Electricity"
          ],
          [
           "#155",
           "Legendary",
           "Watering"
          ],
          [
           "#104",
           "Epic",
           "Handiwork, Gathering, Medicine Production, Planting"
          ],
          [
           "#154",
           "Epic",
           "Kindling, Cooling"
          ],
          [
           "#91",
           "Rare",
           "Handiwork, Transporting, Deforesting, Cooling"
          ],
          [
           "#154",
           "Rare",
           "Watering, Cooling"
          ],
          [
           "#91",
           "Epic",
           "Handiwork, Transporting, Deforesting, Planting"
          ]
         ],
         "hovertemplate": "Highest Work Suitability Level=%{x}<br>HP=%{y}<br>ID=%{customdata[0]}<br>Rarity=%{customdata[1]}<br>Work Types=%{customdata[2]}<extra></extra>",
         "legendgroup": "",
         "marker": {
          "color": "#636efa",
          "opacity": 0.3,
          "symbol": "circle"
         },
         "mode": "markers",
         "name": "",
         "orientation": "v",
         "showlegend": false,
         "type": "scatter",
         "x": {
          "bdata": "AAAAAAAA8D8AAAAAAADwPwAAAAAAAPA/AAAAAAAA8D8AAAAAAADwPwAAAAAAAPA/AAAAAAAA8D8AAAAAAADwPwAAAAAAAPA/AAAAAAAA8D8AAAAAAADwPwAAAAAAAPA/AAAAAAAA8D8AAAAAAADwPwAAAAAAAPA/AAAAAAAA8D8AAAAAAADwPwAAAAAAAPA/AAAAAAAA8D8AAAAAAADwPwAAAAAAAPA/AAAAAAAA8D8AAAAAAADwPwAAAAAAAPA/AAAAAAAA8D8AAAAAAADwPwAAAAAAAPA/AAAAAAAA8D8AAAAAAADwPwAAAAAAAPA/AAAAAAAA8D8AAAAAAADwPwAAAAAAAPA/AAAAAAAA8D8AAAAAAADwPwAAAAAAAPA/AAAAAAAA8D8AAAAAAADwPwAAAAAAAPA/AAAAAAAA8D8AAAAAAADwPwAAAAAAAPA/AAAAAAAA8D8AAAAAAADwPwAAAAAAAPA/AAAAAAAA8D8AAAAAAADwPwAAAAAAAPA/AAAAAAAA8D8AAAAAAADwPwAAAAAAAPA/AAAAAAAA8D8AAAAAAADwPwAAAAAAAPA/AAAAAAAA8D8AAAAAAADwPwAAAAAAAPA/AAAAAAAA8D8AAAAAAADwPwAAAAAAAPA/AAAAAAAA8D8AAAAAAADwPwAAAAAAAPA/AAAAAAAA8D8AAAAAAADwPwAAAAAAAABAAAAAAAAAAEAAAAAAAAAAQAAAAAAAAABAAAAAAAAAAEAAAAAAAAAAQAAAAAAAAABAAAAAAAAAAEAAAAAAAAAAQAAAAAAAAABAAAAAAAAAAEAAAAAAAAAAQAAAAAAAAABAAAAAAAAAAEAAAAAAAAAAQAAAAAAAAABAAAAAAAAAAEAAAAAAAAAAQAAAAAAAAABAAAAAAAAAAEAAAAAAAAAAQAAAAAAAAABAAAAAAAAAAEAAAAAAAAAAQAAAAAAAAABAAAAAAAAAAEAAAAAAAAAAQAAAAAAAAABAAAAAAAAAAEAAAAAAAAAAQAAAAAAAAABAAAAAAAAAAEAAAAAAAAAAQAAAAAAAAABAAAAAAAAAAEAAAAAAAAAAQAAAAAAAAABAAAAAAAAAAEAAAAAAAAAAQAAAAAAAAABAAAAAAAAAAEAAAAAAAAAAQAAAAAAAAABAAAAAAAAAAEAAAAAAAAAAQAAAAAAAAABAAAAAAAAAAEAAAAAAAAAAQAAAAAAAAABAAAAAAAAAAEAAAAAAAAAAQAAAAAAAAABAAAAAAAAAAEAAAAAAAAAAQAAAAAAAAABAAAAAAAAAAEAAAAAAAAAAQAAAAAAAAABAAAAAAAAAAEAAAAAAAAAAQAAAAAAAAABAAAAAAAAAAEAAAAAAAAAAQAAAAAAAAABAAAAAAAAAAEAAAAAAAAAAQAAAAAAAAABAAAAAAAAAAEAAAAAAAAAAQAAAAAAAAABAAAAAAAAAAEAAAAAAAAAAQAAAAAAAAABAAAAAAAAAAEAAAAAAAAAAQAAAAAAAAAhAAAAAAAAACEAAAAAAAAAIQAAAAAAAAAhAAAAAAAAACEAAAAAAAAAIQAAAAAAAAAhAAAAAAAAACEAAAAAAAAAIQAAAAAAAAAhAAAAAAAAACEAAAAAAAAAIQAAAAAAAAAhAAAAAAAAACEAAAAAAAAAIQAAAAAAAAAhAAAAAAAAACEAAAAAAAAAIQAAAAAAAAAhAAAAAAAAACEAAAAAAAAAIQAAAAAAAAAhAAAAAAAAACEAAAAAAAAAIQAAAAAAAAAhAAAAAAAAACEAAAAAAAAAIQAAAAAAAAAhAAAAAAAAACEAAAAAAAAAIQAAAAAAAAAhAAAAAAAAACEAAAAAAAAAIQAAAAAAAAAhAAAAAAAAACEAAAAAAAAAIQAAAAAAAAAhAAAAAAAAACEAAAAAAAAAIQAAAAAAAAAhAAAAAAAAACEAAAAAAAAAIQAAAAAAAAAhAAAAAAAAACEAAAAAAAAAIQAAAAAAAAAhAAAAAAAAACEAAAAAAAAAIQAAAAAAAAAhAAAAAAAAACEAAAAAAAAAIQAAAAAAAAAhAAAAAAAAACEAAAAAAAAAIQAAAAAAAAAhAAAAAAAAACEAAAAAAAAAIQAAAAAAAABBAAAAAAAAAEEAAAAAAAAAQQAAAAAAAABBAAAAAAAAAEEAAAAAAAAAQQAAAAAAAABBAAAAAAAAAEEAAAAAAAAAQQAAAAAAAABBAAAAAAAAAEEAAAAAAAAAQQAAAAAAAABBAAAAAAAAAEEAAAAAAAAAQQAAAAAAAABBAAAAAAAAAEEAAAAAAAAAQQAAAAAAAABBAAAAAAAAAEEAAAAAAAAAQQAAAAAAAABBAAAAAAAAAEEAAAAAAAAAQQAAAAAAAABBAAAAAAAAAEEAAAAAAAAAQQAAAAAAAABBA",
          "dtype": "f8"
         },
         "xaxis": "x",
         "y": {
          "bdata": "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",
          "dtype": "f8"
         },
         "yaxis": "y"
        }
       ],
       "layout": {
        "legend": {
         "tracegroupgap": 0
        },
        "template": {
         "data": {
          "bar": [
           {
            "error_x": {
             "color": "#2a3f5f"
            },
            "error_y": {
             "color": "#2a3f5f"
            },
            "marker": {
             "line": {
              "color": "#E5ECF6",
              "width": 0.5
             },
             "pattern": {
              "fillmode": "overlay",
              "size": 10,
              "solidity": 0.2
             }
            },
            "type": "bar"
           }
          ],
          "barpolar": [
           {
            "marker": {
             "line": {
              "color": "#E5ECF6",
              "width": 0.5
             },
             "pattern": {
              "fillmode": "overlay",
              "size": 10,
              "solidity": 0.2
             }
            },
            "type": "barpolar"
           }
          ],
          "carpet": [
           {
            "aaxis": {
             "endlinecolor": "#2a3f5f",
             "gridcolor": "white",
             "linecolor": "white",
             "minorgridcolor": "white",
             "startlinecolor": "#2a3f5f"
            },
            "baxis": {
             "endlinecolor": "#2a3f5f",
             "gridcolor": "white",
             "linecolor": "white",
             "minorgridcolor": "white",
             "startlinecolor": "#2a3f5f"
            },
            "type": "carpet"
           }
          ],
          "choropleth": [
           {
            "colorbar": {
             "outlinewidth": 0,
             "ticks": ""
            },
            "type": "choropleth"
           }
          ],
          "contour": [
           {
            "colorbar": {
             "outlinewidth": 0,
             "ticks": ""
            },
            "colorscale": [
             [
              0,
              "#0d0887"
             ],
             [
              0.1111111111111111,
              "#46039f"
             ],
             [
              0.2222222222222222,
              "#7201a8"
             ],
             [
              0.3333333333333333,
              "#9c179e"
             ],
             [
              0.4444444444444444,
              "#bd3786"
             ],
             [
              0.5555555555555556,
              "#d8576b"
             ],
             [
              0.6666666666666666,
              "#ed7953"
             ],
             [
              0.7777777777777778,
              "#fb9f3a"
             ],
             [
              0.8888888888888888,
              "#fdca26"
             ],
             [
              1,
              "#f0f921"
             ]
            ],
            "type": "contour"
           }
          ],
          "contourcarpet": [
           {
            "colorbar": {
             "outlinewidth": 0,
             "ticks": ""
            },
            "type": "contourcarpet"
           }
          ],
          "heatmap": [
           {
            "colorbar": {
             "outlinewidth": 0,
             "ticks": ""
            },
            "colorscale": [
             [
              0,
              "#0d0887"
             ],
             [
              0.1111111111111111,
              "#46039f"
             ],
             [
              0.2222222222222222,
              "#7201a8"
             ],
             [
              0.3333333333333333,
              "#9c179e"
             ],
             [
              0.4444444444444444,
              "#bd3786"
             ],
             [
              0.5555555555555556,
              "#d8576b"
             ],
             [
              0.6666666666666666,
              "#ed7953"
             ],
             [
              0.7777777777777778,
              "#fb9f3a"
             ],
             [
              0.8888888888888888,
              "#fdca26"
             ],
             [
              1,
              "#f0f921"
             ]
            ],
            "type": "heatmap"
           }
          ],
          "histogram": [
           {
            "marker": {
             "pattern": {
              "fillmode": "overlay",
              "size": 10,
              "solidity": 0.2
             }
            },
            "type": "histogram"
           }
          ],
          "histogram2d": [
           {
            "colorbar": {
             "outlinewidth": 0,
             "ticks": ""
            },
            "colorscale": [
             [
              0,
              "#0d0887"
             ],
             [
              0.1111111111111111,
              "#46039f"
             ],
             [
              0.2222222222222222,
              "#7201a8"
             ],
             [
              0.3333333333333333,
              "#9c179e"
             ],
             [
              0.4444444444444444,
              "#bd3786"
             ],
             [
              0.5555555555555556,
              "#d8576b"
             ],
             [
              0.6666666666666666,
              "#ed7953"
             ],
             [
              0.7777777777777778,
              "#fb9f3a"
             ],
             [
              0.8888888888888888,
              "#fdca26"
             ],
             [
              1,
              "#f0f921"
             ]
            ],
            "type": "histogram2d"
           }
          ],
          "histogram2dcontour": [
           {
            "colorbar": {
             "outlinewidth": 0,
             "ticks": ""
            },
            "colorscale": [
             [
              0,
              "#0d0887"
             ],
             [
              0.1111111111111111,
              "#46039f"
             ],
             [
              0.2222222222222222,
              "#7201a8"
             ],
             [
              0.3333333333333333,
              "#9c179e"
             ],
             [
              0.4444444444444444,
              "#bd3786"
             ],
             [
              0.5555555555555556,
              "#d8576b"
             ],
             [
              0.6666666666666666,
              "#ed7953"
             ],
             [
              0.7777777777777778,
              "#fb9f3a"
             ],
             [
              0.8888888888888888,
              "#fdca26"
             ],
             [
              1,
              "#f0f921"
             ]
            ],
            "type": "histogram2dcontour"
           }
          ],
          "mesh3d": [
           {
            "colorbar": {
             "outlinewidth": 0,
             "ticks": ""
            },
            "type": "mesh3d"
           }
          ],
          "parcoords": [
           {
            "line": {
             "colorbar": {
              "outlinewidth": 0,
              "ticks": ""
             }
            },
            "type": "parcoords"
           }
          ],
          "pie": [
           {
            "automargin": true,
            "type": "pie"
           }
          ],
          "scatter": [
           {
            "fillpattern": {
             "fillmode": "overlay",
             "size": 10,
             "solidity": 0.2
            },
            "type": "scatter"
           }
          ],
          "scatter3d": [
           {
            "line": {
             "colorbar": {
              "outlinewidth": 0,
              "ticks": ""
             }
            },
            "marker": {
             "colorbar": {
              "outlinewidth": 0,
              "ticks": ""
             }
            },
            "type": "scatter3d"
           }
          ],
          "scattercarpet": [
           {
            "marker": {
             "colorbar": {
              "outlinewidth": 0,
              "ticks": ""
             }
            },
            "type": "scattercarpet"
           }
          ],
          "scattergeo": [
           {
            "marker": {
             "colorbar": {
              "outlinewidth": 0,
              "ticks": ""
             }
            },
            "type": "scattergeo"
           }
          ],
          "scattergl": [
           {
            "marker": {
             "colorbar": {
              "outlinewidth": 0,
              "ticks": ""
             }
            },
            "type": "scattergl"
           }
          ],
          "scattermap": [
           {
            "marker": {
             "colorbar": {
              "outlinewidth": 0,
              "ticks": ""
             }
            },
            "type": "scattermap"
           }
          ],
          "scattermapbox": [
           {
            "marker": {
             "colorbar": {
              "outlinewidth": 0,
              "ticks": ""
             }
            },
            "type": "scattermapbox"
           }
          ],
          "scatterpolar": [
           {
            "marker": {
             "colorbar": {
              "outlinewidth": 0,
              "ticks": ""
             }
            },
            "type": "scatterpolar"
           }
          ],
          "scatterpolargl": [
           {
            "marker": {
             "colorbar": {
              "outlinewidth": 0,
              "ticks": ""
             }
            },
            "type": "scatterpolargl"
           }
          ],
          "scatterternary": [
           {
            "marker": {
             "colorbar": {
              "outlinewidth": 0,
              "ticks": ""
             }
            },
            "type": "scatterternary"
           }
          ],
          "surface": [
           {
            "colorbar": {
             "outlinewidth": 0,
             "ticks": ""
            },
            "colorscale": [
             [
              0,
              "#0d0887"
             ],
             [
              0.1111111111111111,
              "#46039f"
             ],
             [
              0.2222222222222222,
              "#7201a8"
             ],
             [
              0.3333333333333333,
              "#9c179e"
             ],
             [
              0.4444444444444444,
              "#bd3786"
             ],
             [
              0.5555555555555556,
              "#d8576b"
             ],
             [
              0.6666666666666666,
              "#ed7953"
             ],
             [
              0.7777777777777778,
              "#fb9f3a"
             ],
             [
              0.8888888888888888,
              "#fdca26"
             ],
             [
              1,
              "#f0f921"
             ]
            ],
            "type": "surface"
           }
          ],
          "table": [
           {
            "cells": {
             "fill": {
              "color": "#EBF0F8"
             },
             "line": {
              "color": "white"
             }
            },
            "header": {
             "fill": {
              "color": "#C8D4E3"
             },
             "line": {
              "color": "white"
             }
            },
            "type": "table"
           }
          ]
         },
         "layout": {
          "annotationdefaults": {
           "arrowcolor": "#2a3f5f",
           "arrowhead": 0,
           "arrowwidth": 1
          },
          "autotypenumbers": "strict",
          "coloraxis": {
           "colorbar": {
            "outlinewidth": 0,
            "ticks": ""
           }
          },
          "colorscale": {
           "diverging": [
            [
             0,
             "#8e0152"
            ],
            [
             0.1,
             "#c51b7d"
            ],
            [
             0.2,
             "#de77ae"
            ],
            [
             0.3,
             "#f1b6da"
            ],
            [
             0.4,
             "#fde0ef"
            ],
            [
             0.5,
             "#f7f7f7"
            ],
            [
             0.6,
             "#e6f5d0"
            ],
            [
             0.7,
             "#b8e186"
            ],
            [
             0.8,
             "#7fbc41"
            ],
            [
             0.9,
             "#4d9221"
            ],
            [
             1,
             "#276419"
            ]
           ],
           "sequential": [
            [
             0,
             "#0d0887"
            ],
            [
             0.1111111111111111,
             "#46039f"
            ],
            [
             0.2222222222222222,
             "#7201a8"
            ],
            [
             0.3333333333333333,
             "#9c179e"
            ],
            [
             0.4444444444444444,
             "#bd3786"
            ],
            [
             0.5555555555555556,
             "#d8576b"
            ],
            [
             0.6666666666666666,
             "#ed7953"
            ],
            [
             0.7777777777777778,
             "#fb9f3a"
            ],
            [
             0.8888888888888888,
             "#fdca26"
            ],
            [
             1,
             "#f0f921"
            ]
           ],
           "sequentialminus": [
            [
             0,
             "#0d0887"
            ],
            [
             0.1111111111111111,
             "#46039f"
            ],
            [
             0.2222222222222222,
             "#7201a8"
            ],
            [
             0.3333333333333333,
             "#9c179e"
            ],
            [
             0.4444444444444444,
             "#bd3786"
            ],
            [
             0.5555555555555556,
             "#d8576b"
            ],
            [
             0.6666666666666666,
             "#ed7953"
            ],
            [
             0.7777777777777778,
             "#fb9f3a"
            ],
            [
             0.8888888888888888,
             "#fdca26"
            ],
            [
             1,
             "#f0f921"
            ]
           ]
          },
          "colorway": [
           "#636efa",
           "#EF553B",
           "#00cc96",
           "#ab63fa",
           "#FFA15A",
           "#19d3f3",
           "#FF6692",
           "#B6E880",
           "#FF97FF",
           "#FECB52"
          ],
          "font": {
           "color": "#2a3f5f"
          },
          "geo": {
           "bgcolor": "white",
           "lakecolor": "white",
           "landcolor": "#E5ECF6",
           "showlakes": true,
           "showland": true,
           "subunitcolor": "white"
          },
          "hoverlabel": {
           "align": "left"
          },
          "hovermode": "closest",
          "mapbox": {
           "style": "light"
          },
          "paper_bgcolor": "white",
          "plot_bgcolor": "#E5ECF6",
          "polar": {
           "angularaxis": {
            "gridcolor": "white",
            "linecolor": "white",
            "ticks": ""
           },
           "bgcolor": "#E5ECF6",
           "radialaxis": {
            "gridcolor": "white",
            "linecolor": "white",
            "ticks": ""
           }
          },
          "scene": {
           "xaxis": {
            "backgroundcolor": "#E5ECF6",
            "gridcolor": "white",
            "gridwidth": 2,
            "linecolor": "white",
            "showbackground": true,
            "ticks": "",
            "zerolinecolor": "white"
           },
           "yaxis": {
            "backgroundcolor": "#E5ECF6",
            "gridcolor": "white",
            "gridwidth": 2,
            "linecolor": "white",
            "showbackground": true,
            "ticks": "",
            "zerolinecolor": "white"
           },
           "zaxis": {
            "backgroundcolor": "#E5ECF6",
            "gridcolor": "white",
            "gridwidth": 2,
            "linecolor": "white",
            "showbackground": true,
            "ticks": "",
            "zerolinecolor": "white"
           }
          },
          "shapedefaults": {
           "line": {
            "color": "#2a3f5f"
           }
          },
          "ternary": {
           "aaxis": {
            "gridcolor": "white",
            "linecolor": "white",
            "ticks": ""
           },
           "baxis": {
            "gridcolor": "white",
            "linecolor": "white",
            "ticks": ""
           },
           "bgcolor": "#E5ECF6",
           "caxis": {
            "gridcolor": "white",
            "linecolor": "white",
            "ticks": ""
           }
          },
          "title": {
           "x": 0.05
          },
          "xaxis": {
           "automargin": true,
           "gridcolor": "white",
           "linecolor": "white",
           "ticks": "",
           "title": {
            "standoff": 15
           },
           "zerolinecolor": "white",
           "zerolinewidth": 2
          },
          "yaxis": {
           "automargin": true,
           "gridcolor": "white",
           "linecolor": "white",
           "ticks": "",
           "title": {
            "standoff": 15
           },
           "zerolinecolor": "white",
           "zerolinewidth": 2
          }
         }
        },
        "title": {
         "text": "Work Suitability vs HP"
        },
        "xaxis": {
         "anchor": "y",
         "domain": [
          0,
          1
         ],
         "title": {
          "text": "Highest Work Suitability Level"
         }
        },
        "yaxis": {
         "anchor": "x",
         "domain": [
          0,
          1
         ],
         "title": {
          "text": "HP"
         }
        }
       }
      }
     },
     "metadata": {},
     "output_type": "display_data"
    }
   ],
   "source": [
    "# 1. Scatter plot\n",
    "\n",
    "# Prepare the data frame for visualizations\n",
    "pal_frame_vis = build_work_features(pal_df, work_list)\n",
    "\n",
    "fig1 = px.scatter(\n",
    "    pal_frame_vis.sort_values(by = \"Highest Work Suitability Level\", ascending = True),\n",
    "    x=\"Highest Work Suitability Level\",\n",
    "    y=\"HP\",\n",
    "    opacity = 0.3,\n",
    "    hover_data={\"ID\":True, \"Rarity\":True, \"Work Types\":True},\n",
    "    title=\"Work Suitability vs HP\"\n",
    ")\n",
    "fig1.show()"
   ]
  },
  {
   "cell_type": "markdown",
   "metadata": {},
   "source": [
    "#### Visualization 1 discussion\n",
    "We made this scatterplot in order to determine if there is a correlation between a Pal's strength at work, determined as the highest level it has achieved in any of its skills, and its hit points in battle. We did find a positive correlation, suggesting that Pals are generally \"powerful\" across all their metrics or none of them."
   ]
  },
  {
   "cell_type": "markdown",
   "metadata": {},
   "source": [
    "### Visualization 2"
   ]
  },
  {
   "cell_type": "code",
   "execution_count": 11,
   "metadata": {},
   "outputs": [
    {
     "data": {
      "application/vnd.plotly.v1+json": {
       "config": {
        "plotlyServerURL": "https://plot.ly"
       },
       "data": [
        {
         "alignmentgroup": "True",
         "hovertemplate": "Work skill=Handiwork<br>Element Type=%{x}<br>Average skill level=%{y}<extra></extra>",
         "legendgroup": "Handiwork",
         "marker": {
          "color": "#636efa",
          "pattern": {
           "shape": ""
          }
         },
         "name": "Handiwork",
         "offsetgroup": "Handiwork",
         "orientation": "v",
         "showlegend": true,
         "textposition": "auto",
         "type": "bar",
         "x": [
          "Earth",
          "Fire",
          "Dragon",
          "Dark",
          "Electricity",
          "Water",
          "Ice",
          "Leaf",
          "Normal"
         ],
         "xaxis": "x",
         "y": {
          "bdata": "27Zt27Zt2z900UUXXXThP57neZ7nec4/JUmSJEmS7D9VVVVVVVXlP9mJndiJndg/SZIkSZIk2T8AAAAAAIDwPwgffPDBB98/",
          "dtype": "f8"
         },
         "yaxis": "y"
        },
        {
         "alignmentgroup": "True",
         "hovertemplate": "Work skill=Mining<br>Element Type=%{x}<br>Average skill level=%{y}<extra></extra>",
         "legendgroup": "Mining",
         "marker": {
          "color": "#EF553B",
          "pattern": {
           "shape": ""
          }
         },
         "name": "Mining",
         "offsetgroup": "Mining",
         "orientation": "v",
         "showlegend": true,
         "textposition": "auto",
         "type": "bar",
         "x": [
          "Earth",
          "Fire",
          "Dragon",
          "Dark",
          "Electricity",
          "Water",
          "Ice",
          "Leaf",
          "Normal"
         ],
         "xaxis": "x",
         "y": {
          "bdata": "SZIkSZIk+T8nm2yyySbbP7dt27Zt2+Y/27Zt27Zt0z8cx3Ecx3G8P5AGaZAGadA/t23btm3b1j8AAAAAAADSPwgffPDBB78/",
          "dtype": "f8"
         },
         "yaxis": "y"
        },
        {
         "alignmentgroup": "True",
         "hovertemplate": "Work skill=Transporting<br>Element Type=%{x}<br>Average skill level=%{y}<extra></extra>",
         "legendgroup": "Transporting",
         "marker": {
          "color": "#00cc96",
          "pattern": {
           "shape": ""
          }
         },
         "name": "Transporting",
         "offsetgroup": "Transporting",
         "orientation": "v",
         "showlegend": true,
         "textposition": "auto",
         "type": "bar",
         "x": [
          "Earth",
          "Fire",
          "Dragon",
          "Dark",
          "Electricity",
          "Water",
          "Ice",
          "Leaf",
          "Normal"
         ],
         "xaxis": "x",
         "y": {
          "bdata": "btu2bdu27T8ffPDBBx/sPzEMwzAMw+A/btu2bdu28T8cx3Ecx3H0P77lW77lW+4/27Zt27Zt4z8AAAAAAADuP2WTTTbZZOM/",
          "dtype": "f8"
         },
         "yaxis": "y"
        },
        {
         "alignmentgroup": "True",
         "hovertemplate": "Work skill=Deforesting<br>Element Type=%{x}<br>Average skill level=%{y}<extra></extra>",
         "legendgroup": "Deforesting",
         "marker": {
          "color": "#ab63fa",
          "pattern": {
           "shape": ""
          }
         },
         "name": "Deforesting",
         "offsetgroup": "Deforesting",
         "orientation": "v",
         "showlegend": true,
         "textposition": "auto",
         "type": "bar",
         "x": [
          "Earth",
          "Fire",
          "Dragon",
          "Dark",
          "Electricity",
          "Water",
          "Ice",
          "Leaf",
          "Normal"
         ],
         "xaxis": "x",
         "y": {
          "bdata": "btu2bdu25T822WSTTTbZPzEMwzAMw+A/AAAAAAAA2D8AAAAAAADgPxqkQRqkQao/27Zt27Zt2z8AAAAAAADoPxdddNFFF90/",
          "dtype": "f8"
         },
         "yaxis": "y"
        },
        {
         "alignmentgroup": "True",
         "hovertemplate": "Work skill=Kindling<br>Element Type=%{x}<br>Average skill level=%{y}<extra></extra>",
         "legendgroup": "Kindling",
         "marker": {
          "color": "#FFA15A",
          "pattern": {
           "shape": ""
          }
         },
         "name": "Kindling",
         "offsetgroup": "Kindling",
         "orientation": "v",
         "showlegend": true,
         "textposition": "auto",
         "type": "bar",
         "x": [
          "Earth",
          "Fire",
          "Dragon",
          "Dark",
          "Electricity",
          "Water",
          "Ice",
          "Leaf",
          "Normal"
         ],
         "xaxis": "x",
         "y": {
          "bdata": "27Zt27Ztuz/44IMPPvgAQJ7neZ7ned4/JUmSJEmS1D8AAAAAAAAAABQ7sRM7scM/27Zt27Ztuz8AAAAAAAAAAAAAAAAAAAAA",
          "dtype": "f8"
         },
         "yaxis": "y"
        },
        {
         "alignmentgroup": "True",
         "hovertemplate": "Work skill=Gathering<br>Element Type=%{x}<br>Average skill level=%{y}<extra></extra>",
         "legendgroup": "Gathering",
         "marker": {
          "color": "#19d3f3",
          "pattern": {
           "shape": ""
          }
         },
         "name": "Gathering",
         "offsetgroup": "Gathering",
         "orientation": "v",
         "showlegend": true,
         "textposition": "auto",
         "type": "bar",
         "x": [
          "Earth",
          "Fire",
          "Dragon",
          "Dark",
          "Electricity",
          "Water",
          "Ice",
          "Leaf",
          "Normal"
         ],
         "xaxis": "x",
         "y": {
          "bdata": "kiRJkiRJ4j9lk0022WTDP57neZ7ned4/27Zt27Zt4z8cx3Ecx3G8PxqkQRqkQbo/AAAAAAAA0D8AAAAAAIDyPz744IMPPug/",
          "dtype": "f8"
         },
         "yaxis": "y"
        },
        {
         "alignmentgroup": "True",
         "hovertemplate": "Work skill=Generating Electricity<br>Element Type=%{x}<br>Average skill level=%{y}<extra></extra>",
         "legendgroup": "Generating Electricity",
         "marker": {
          "color": "#FF6692",
          "pattern": {
           "shape": ""
          }
         },
         "name": "Generating Electricity",
         "offsetgroup": "Generating Electricity",
         "orientation": "v",
         "showlegend": true,
         "textposition": "auto",
         "type": "bar",
         "x": [
          "Earth",
          "Fire",
          "Dragon",
          "Dark",
          "Electricity",
          "Water",
          "Ice",
          "Leaf",
          "Normal"
         ],
         "xaxis": "x",
         "y": {
          "bdata": "AAAAAAAAAAAAAAAAAAAAANu2bdu2bds/kiRJkiRJsj85juM4juMAQJAGaZAGacA/AAAAAAAAAAAAAAAAAAAAAAAAAAAAAAAA",
          "dtype": "f8"
         },
         "yaxis": "y"
        },
        {
         "alignmentgroup": "True",
         "hovertemplate": "Work skill=Watering<br>Element Type=%{x}<br>Average skill level=%{y}<extra></extra>",
         "legendgroup": "Watering",
         "marker": {
          "color": "#B6E880",
          "pattern": {
           "shape": ""
          }
         },
         "name": "Watering",
         "offsetgroup": "Watering",
         "orientation": "v",
         "showlegend": true,
         "textposition": "auto",
         "type": "bar",
         "x": [
          "Earth",
          "Fire",
          "Dragon",
          "Dark",
          "Electricity",
          "Water",
          "Ice",
          "Leaf",
          "Normal"
         ],
         "xaxis": "x",
         "y": {
          "bdata": "kiRJkiRJwj8nm2yyySbLP5IkSZIkSeI/t23btm3bxj8cx3Ecx3HMP9/yLd/yLf8/JUmSJEmS1D8AAAAAAAC4PwgffPDBB58/",
          "dtype": "f8"
         },
         "yaxis": "y"
        },
        {
         "alignmentgroup": "True",
         "hovertemplate": "Work skill=Cooling<br>Element Type=%{x}<br>Average skill level=%{y}<extra></extra>",
         "legendgroup": "Cooling",
         "marker": {
          "color": "#FF97FF",
          "pattern": {
           "shape": ""
          }
         },
         "name": "Cooling",
         "offsetgroup": "Cooling",
         "orientation": "v",
         "showlegend": true,
         "textposition": "auto",
         "type": "bar",
         "x": [
          "Earth",
          "Fire",
          "Dragon",
          "Dark",
          "Electricity",
          "Water",
          "Ice",
          "Leaf",
          "Normal"
         ],
         "xaxis": "x",
         "y": {
          "bdata": "t23btm3bxj8IH3zwwQe/PxiGYRiGYcg/kiRJkiRJoj8AAAAAAAAAABQ7sRM7sdM/kiRJkiRJAkAAAAAAAAAAAAAAAAAAAAAA",
          "dtype": "f8"
         },
         "yaxis": "y"
        },
        {
         "alignmentgroup": "True",
         "hovertemplate": "Work skill=Farming<br>Element Type=%{x}<br>Average skill level=%{y}<extra></extra>",
         "legendgroup": "Farming",
         "marker": {
          "color": "#FECB52",
          "pattern": {
           "shape": ""
          }
         },
         "name": "Farming",
         "offsetgroup": "Farming",
         "orientation": "v",
         "showlegend": true,
         "textposition": "auto",
         "type": "bar",
         "x": [
          "Earth",
          "Fire",
          "Dragon",
          "Dark",
          "Electricity",
          "Water",
          "Ice",
          "Leaf",
          "Normal"
         ],
         "xaxis": "x",
         "y": {
          "bdata": "kiRJkiRJsj9GF1100UW3PwAAAAAAAAAA27Zt27Ztqz8AAAAAAAAAABQ7sRM7sbM/kiRJkiRJsj8AAAAAAACwPyebbLLJJss/",
          "dtype": "f8"
         },
         "yaxis": "y"
        },
        {
         "alignmentgroup": "True",
         "hovertemplate": "Work skill=Medicine Production<br>Element Type=%{x}<br>Average skill level=%{y}<extra></extra>",
         "legendgroup": "Medicine Production",
         "marker": {
          "color": "#636efa",
          "pattern": {
           "shape": ""
          }
         },
         "name": "Medicine Production",
         "offsetgroup": "Medicine Production",
         "orientation": "v",
         "showlegend": true,
         "textposition": "auto",
         "type": "bar",
         "x": [
          "Earth",
          "Fire",
          "Dragon",
          "Dark",
          "Electricity",
          "Water",
          "Ice",
          "Leaf",
          "Normal"
         ],
         "xaxis": "x",
         "y": {
          "bdata": "kiRJkiRJsj8IH3zwwQevPwAAAAAAAAAAkiRJkiRJ4j8cx3Ecx3GsPxqkQRqkQZo/kiRJkiRJwj8AAAAAAADnP0YXXXTRRcc/",
          "dtype": "f8"
         },
         "yaxis": "y"
        },
        {
         "alignmentgroup": "True",
         "hovertemplate": "Work skill=Planting<br>Element Type=%{x}<br>Average skill level=%{y}<extra></extra>",
         "legendgroup": "Planting",
         "marker": {
          "color": "#EF553B",
          "pattern": {
           "shape": ""
          }
         },
         "name": "Planting",
         "offsetgroup": "Planting",
         "orientation": "v",
         "showlegend": true,
         "textposition": "auto",
         "type": "bar",
         "x": [
          "Earth",
          "Fire",
          "Dragon",
          "Dark",
          "Electricity",
          "Water",
          "Ice",
          "Leaf",
          "Normal"
         ],
         "xaxis": "x",
         "y": {
          "bdata": "kiRJkiRJ0j8AAAAAAAAAABiGYRiGYcg/AAAAAAAAwD8AAAAAAAAAAAAAAAAAAAAAAAAAAAAAAAAAAAAAAID7PwgffPDBB68/",
          "dtype": "f8"
         },
         "yaxis": "y"
        }
       ],
       "layout": {
        "barmode": "group",
        "legend": {
         "title": {
          "text": "Work skill"
         },
         "tracegroupgap": 0
        },
        "template": {
         "data": {
          "bar": [
           {
            "error_x": {
             "color": "#2a3f5f"
            },
            "error_y": {
             "color": "#2a3f5f"
            },
            "marker": {
             "line": {
              "color": "#E5ECF6",
              "width": 0.5
             },
             "pattern": {
              "fillmode": "overlay",
              "size": 10,
              "solidity": 0.2
             }
            },
            "type": "bar"
           }
          ],
          "barpolar": [
           {
            "marker": {
             "line": {
              "color": "#E5ECF6",
              "width": 0.5
             },
             "pattern": {
              "fillmode": "overlay",
              "size": 10,
              "solidity": 0.2
             }
            },
            "type": "barpolar"
           }
          ],
          "carpet": [
           {
            "aaxis": {
             "endlinecolor": "#2a3f5f",
             "gridcolor": "white",
             "linecolor": "white",
             "minorgridcolor": "white",
             "startlinecolor": "#2a3f5f"
            },
            "baxis": {
             "endlinecolor": "#2a3f5f",
             "gridcolor": "white",
             "linecolor": "white",
             "minorgridcolor": "white",
             "startlinecolor": "#2a3f5f"
            },
            "type": "carpet"
           }
          ],
          "choropleth": [
           {
            "colorbar": {
             "outlinewidth": 0,
             "ticks": ""
            },
            "type": "choropleth"
           }
          ],
          "contour": [
           {
            "colorbar": {
             "outlinewidth": 0,
             "ticks": ""
            },
            "colorscale": [
             [
              0,
              "#0d0887"
             ],
             [
              0.1111111111111111,
              "#46039f"
             ],
             [
              0.2222222222222222,
              "#7201a8"
             ],
             [
              0.3333333333333333,
              "#9c179e"
             ],
             [
              0.4444444444444444,
              "#bd3786"
             ],
             [
              0.5555555555555556,
              "#d8576b"
             ],
             [
              0.6666666666666666,
              "#ed7953"
             ],
             [
              0.7777777777777778,
              "#fb9f3a"
             ],
             [
              0.8888888888888888,
              "#fdca26"
             ],
             [
              1,
              "#f0f921"
             ]
            ],
            "type": "contour"
           }
          ],
          "contourcarpet": [
           {
            "colorbar": {
             "outlinewidth": 0,
             "ticks": ""
            },
            "type": "contourcarpet"
           }
          ],
          "heatmap": [
           {
            "colorbar": {
             "outlinewidth": 0,
             "ticks": ""
            },
            "colorscale": [
             [
              0,
              "#0d0887"
             ],
             [
              0.1111111111111111,
              "#46039f"
             ],
             [
              0.2222222222222222,
              "#7201a8"
             ],
             [
              0.3333333333333333,
              "#9c179e"
             ],
             [
              0.4444444444444444,
              "#bd3786"
             ],
             [
              0.5555555555555556,
              "#d8576b"
             ],
             [
              0.6666666666666666,
              "#ed7953"
             ],
             [
              0.7777777777777778,
              "#fb9f3a"
             ],
             [
              0.8888888888888888,
              "#fdca26"
             ],
             [
              1,
              "#f0f921"
             ]
            ],
            "type": "heatmap"
           }
          ],
          "histogram": [
           {
            "marker": {
             "pattern": {
              "fillmode": "overlay",
              "size": 10,
              "solidity": 0.2
             }
            },
            "type": "histogram"
           }
          ],
          "histogram2d": [
           {
            "colorbar": {
             "outlinewidth": 0,
             "ticks": ""
            },
            "colorscale": [
             [
              0,
              "#0d0887"
             ],
             [
              0.1111111111111111,
              "#46039f"
             ],
             [
              0.2222222222222222,
              "#7201a8"
             ],
             [
              0.3333333333333333,
              "#9c179e"
             ],
             [
              0.4444444444444444,
              "#bd3786"
             ],
             [
              0.5555555555555556,
              "#d8576b"
             ],
             [
              0.6666666666666666,
              "#ed7953"
             ],
             [
              0.7777777777777778,
              "#fb9f3a"
             ],
             [
              0.8888888888888888,
              "#fdca26"
             ],
             [
              1,
              "#f0f921"
             ]
            ],
            "type": "histogram2d"
           }
          ],
          "histogram2dcontour": [
           {
            "colorbar": {
             "outlinewidth": 0,
             "ticks": ""
            },
            "colorscale": [
             [
              0,
              "#0d0887"
             ],
             [
              0.1111111111111111,
              "#46039f"
             ],
             [
              0.2222222222222222,
              "#7201a8"
             ],
             [
              0.3333333333333333,
              "#9c179e"
             ],
             [
              0.4444444444444444,
              "#bd3786"
             ],
             [
              0.5555555555555556,
              "#d8576b"
             ],
             [
              0.6666666666666666,
              "#ed7953"
             ],
             [
              0.7777777777777778,
              "#fb9f3a"
             ],
             [
              0.8888888888888888,
              "#fdca26"
             ],
             [
              1,
              "#f0f921"
             ]
            ],
            "type": "histogram2dcontour"
           }
          ],
          "mesh3d": [
           {
            "colorbar": {
             "outlinewidth": 0,
             "ticks": ""
            },
            "type": "mesh3d"
           }
          ],
          "parcoords": [
           {
            "line": {
             "colorbar": {
              "outlinewidth": 0,
              "ticks": ""
             }
            },
            "type": "parcoords"
           }
          ],
          "pie": [
           {
            "automargin": true,
            "type": "pie"
           }
          ],
          "scatter": [
           {
            "fillpattern": {
             "fillmode": "overlay",
             "size": 10,
             "solidity": 0.2
            },
            "type": "scatter"
           }
          ],
          "scatter3d": [
           {
            "line": {
             "colorbar": {
              "outlinewidth": 0,
              "ticks": ""
             }
            },
            "marker": {
             "colorbar": {
              "outlinewidth": 0,
              "ticks": ""
             }
            },
            "type": "scatter3d"
           }
          ],
          "scattercarpet": [
           {
            "marker": {
             "colorbar": {
              "outlinewidth": 0,
              "ticks": ""
             }
            },
            "type": "scattercarpet"
           }
          ],
          "scattergeo": [
           {
            "marker": {
             "colorbar": {
              "outlinewidth": 0,
              "ticks": ""
             }
            },
            "type": "scattergeo"
           }
          ],
          "scattergl": [
           {
            "marker": {
             "colorbar": {
              "outlinewidth": 0,
              "ticks": ""
             }
            },
            "type": "scattergl"
           }
          ],
          "scattermap": [
           {
            "marker": {
             "colorbar": {
              "outlinewidth": 0,
              "ticks": ""
             }
            },
            "type": "scattermap"
           }
          ],
          "scattermapbox": [
           {
            "marker": {
             "colorbar": {
              "outlinewidth": 0,
              "ticks": ""
             }
            },
            "type": "scattermapbox"
           }
          ],
          "scatterpolar": [
           {
            "marker": {
             "colorbar": {
              "outlinewidth": 0,
              "ticks": ""
             }
            },
            "type": "scatterpolar"
           }
          ],
          "scatterpolargl": [
           {
            "marker": {
             "colorbar": {
              "outlinewidth": 0,
              "ticks": ""
             }
            },
            "type": "scatterpolargl"
           }
          ],
          "scatterternary": [
           {
            "marker": {
             "colorbar": {
              "outlinewidth": 0,
              "ticks": ""
             }
            },
            "type": "scatterternary"
           }
          ],
          "surface": [
           {
            "colorbar": {
             "outlinewidth": 0,
             "ticks": ""
            },
            "colorscale": [
             [
              0,
              "#0d0887"
             ],
             [
              0.1111111111111111,
              "#46039f"
             ],
             [
              0.2222222222222222,
              "#7201a8"
             ],
             [
              0.3333333333333333,
              "#9c179e"
             ],
             [
              0.4444444444444444,
              "#bd3786"
             ],
             [
              0.5555555555555556,
              "#d8576b"
             ],
             [
              0.6666666666666666,
              "#ed7953"
             ],
             [
              0.7777777777777778,
              "#fb9f3a"
             ],
             [
              0.8888888888888888,
              "#fdca26"
             ],
             [
              1,
              "#f0f921"
             ]
            ],
            "type": "surface"
           }
          ],
          "table": [
           {
            "cells": {
             "fill": {
              "color": "#EBF0F8"
             },
             "line": {
              "color": "white"
             }
            },
            "header": {
             "fill": {
              "color": "#C8D4E3"
             },
             "line": {
              "color": "white"
             }
            },
            "type": "table"
           }
          ]
         },
         "layout": {
          "annotationdefaults": {
           "arrowcolor": "#2a3f5f",
           "arrowhead": 0,
           "arrowwidth": 1
          },
          "autotypenumbers": "strict",
          "coloraxis": {
           "colorbar": {
            "outlinewidth": 0,
            "ticks": ""
           }
          },
          "colorscale": {
           "diverging": [
            [
             0,
             "#8e0152"
            ],
            [
             0.1,
             "#c51b7d"
            ],
            [
             0.2,
             "#de77ae"
            ],
            [
             0.3,
             "#f1b6da"
            ],
            [
             0.4,
             "#fde0ef"
            ],
            [
             0.5,
             "#f7f7f7"
            ],
            [
             0.6,
             "#e6f5d0"
            ],
            [
             0.7,
             "#b8e186"
            ],
            [
             0.8,
             "#7fbc41"
            ],
            [
             0.9,
             "#4d9221"
            ],
            [
             1,
             "#276419"
            ]
           ],
           "sequential": [
            [
             0,
             "#0d0887"
            ],
            [
             0.1111111111111111,
             "#46039f"
            ],
            [
             0.2222222222222222,
             "#7201a8"
            ],
            [
             0.3333333333333333,
             "#9c179e"
            ],
            [
             0.4444444444444444,
             "#bd3786"
            ],
            [
             0.5555555555555556,
             "#d8576b"
            ],
            [
             0.6666666666666666,
             "#ed7953"
            ],
            [
             0.7777777777777778,
             "#fb9f3a"
            ],
            [
             0.8888888888888888,
             "#fdca26"
            ],
            [
             1,
             "#f0f921"
            ]
           ],
           "sequentialminus": [
            [
             0,
             "#0d0887"
            ],
            [
             0.1111111111111111,
             "#46039f"
            ],
            [
             0.2222222222222222,
             "#7201a8"
            ],
            [
             0.3333333333333333,
             "#9c179e"
            ],
            [
             0.4444444444444444,
             "#bd3786"
            ],
            [
             0.5555555555555556,
             "#d8576b"
            ],
            [
             0.6666666666666666,
             "#ed7953"
            ],
            [
             0.7777777777777778,
             "#fb9f3a"
            ],
            [
             0.8888888888888888,
             "#fdca26"
            ],
            [
             1,
             "#f0f921"
            ]
           ]
          },
          "colorway": [
           "#636efa",
           "#EF553B",
           "#00cc96",
           "#ab63fa",
           "#FFA15A",
           "#19d3f3",
           "#FF6692",
           "#B6E880",
           "#FF97FF",
           "#FECB52"
          ],
          "font": {
           "color": "#2a3f5f"
          },
          "geo": {
           "bgcolor": "white",
           "lakecolor": "white",
           "landcolor": "#E5ECF6",
           "showlakes": true,
           "showland": true,
           "subunitcolor": "white"
          },
          "hoverlabel": {
           "align": "left"
          },
          "hovermode": "closest",
          "mapbox": {
           "style": "light"
          },
          "paper_bgcolor": "white",
          "plot_bgcolor": "#E5ECF6",
          "polar": {
           "angularaxis": {
            "gridcolor": "white",
            "linecolor": "white",
            "ticks": ""
           },
           "bgcolor": "#E5ECF6",
           "radialaxis": {
            "gridcolor": "white",
            "linecolor": "white",
            "ticks": ""
           }
          },
          "scene": {
           "xaxis": {
            "backgroundcolor": "#E5ECF6",
            "gridcolor": "white",
            "gridwidth": 2,
            "linecolor": "white",
            "showbackground": true,
            "ticks": "",
            "zerolinecolor": "white"
           },
           "yaxis": {
            "backgroundcolor": "#E5ECF6",
            "gridcolor": "white",
            "gridwidth": 2,
            "linecolor": "white",
            "showbackground": true,
            "ticks": "",
            "zerolinecolor": "white"
           },
           "zaxis": {
            "backgroundcolor": "#E5ECF6",
            "gridcolor": "white",
            "gridwidth": 2,
            "linecolor": "white",
            "showbackground": true,
            "ticks": "",
            "zerolinecolor": "white"
           }
          },
          "shapedefaults": {
           "line": {
            "color": "#2a3f5f"
           }
          },
          "ternary": {
           "aaxis": {
            "gridcolor": "white",
            "linecolor": "white",
            "ticks": ""
           },
           "baxis": {
            "gridcolor": "white",
            "linecolor": "white",
            "ticks": ""
           },
           "bgcolor": "#E5ECF6",
           "caxis": {
            "gridcolor": "white",
            "linecolor": "white",
            "ticks": ""
           }
          },
          "title": {
           "x": 0.05
          },
          "xaxis": {
           "automargin": true,
           "gridcolor": "white",
           "linecolor": "white",
           "ticks": "",
           "title": {
            "standoff": 15
           },
           "zerolinecolor": "white",
           "zerolinewidth": 2
          },
          "yaxis": {
           "automargin": true,
           "gridcolor": "white",
           "linecolor": "white",
           "ticks": "",
           "title": {
            "standoff": 15
           },
           "zerolinecolor": "white",
           "zerolinewidth": 2
          }
         }
        },
        "title": {
         "text": "Average Work Suitability Level by Element Type & Work Type"
        },
        "xaxis": {
         "anchor": "y",
         "domain": [
          0,
          1
         ],
         "title": {
          "text": "Element Type"
         }
        },
        "yaxis": {
         "anchor": "x",
         "domain": [
          0,
          1
         ],
         "title": {
          "text": "Average skill level"
         }
        }
       }
      }
     },
     "metadata": {},
     "output_type": "display_data"
    }
   ],
   "source": [
    "# 2. Grouped Bar Chart\n",
    "work_elem_stats = group_work_by_element(pal_frame_vis, work_list)\n",
    "\n",
    "fig2 = px.bar(\n",
    "    work_elem_stats,\n",
    "    barmode=\"group\",\n",
    "    title=\"Average Work Suitability Level by Element Type & Work Type\",\n",
    "    labels = {\"value\" : \"Average skill level\", \"index\" : \"Element Type\", \"variable\" : \"Work skill\" }\n",
    ")\n",
    "fig2.show()"
   ]
  },
  {
   "cell_type": "markdown",
   "metadata": {},
   "source": [
    "#### Visualization 2 discussion\n",
    "We made this graph to determine if a Pal's element type influenced its work suitabilities in a way that lined up with real-world associations, such as how you'd expect fire types to be good at kindling. The results were entirely in line with our predictions, as you can see that water types are good at watering, leaf types at planting, ice types at cooling, etc. This shows that an individual Pal's work suitabilities, and particularly its levels in them, are likely to be based in part on its elements."
   ]
  },
  {
   "cell_type": "markdown",
   "metadata": {},
   "source": [
    "### Visualization 3"
   ]
  },
  {
   "cell_type": "code",
   "execution_count": 12,
   "metadata": {},
   "outputs": [
    {
     "data": {
      "application/vnd.plotly.v1+json": {
       "config": {
        "plotlyServerURL": "https://plot.ly"
       },
       "data": [
        {
         "coloraxis": "coloraxis",
         "histfunc": "sum",
         "hovertemplate": "Work Skill Count=%{x}<br>Rarity=%{y}<br>sum of Count=%{z}<extra></extra>",
         "name": "",
         "type": "histogram2d",
         "x": {
          "bdata": "AAAAAAAA8D8AAAAAAAAAQAAAAAAAAAhAAAAAAAAAEEAAAAAAAAAUQAAAAAAAABxAAAAAAAAA8D8AAAAAAAAAQAAAAAAAAAhAAAAAAAAAEEAAAAAAAAAUQAAAAAAAAPA/AAAAAAAAAEAAAAAAAAAIQAAAAAAAAPA/AAAAAAAAAEAAAAAAAAAIQAAAAAAAABBAAAAAAAAAFEAAAAAAAAAYQA==",
          "dtype": "f8"
         },
         "xaxis": "x",
         "xbingroup": "x",
         "y": [
          "Common",
          "Common",
          "Common",
          "Common",
          "Common",
          "Common",
          "Epic",
          "Epic",
          "Epic",
          "Epic",
          "Epic",
          "Legendary",
          "Legendary",
          "Legendary",
          "Rare",
          "Rare",
          "Rare",
          "Rare",
          "Rare",
          "Rare"
         ],
         "yaxis": "y",
         "ybingroup": "y",
         "z": {
          "bdata": "JBMWEwQBDA4JBAUEAgIRFQ4LCAE=",
          "dtype": "i1"
         }
        }
       ],
       "layout": {
        "coloraxis": {
         "colorbar": {
          "title": {
           "text": "sum of Count"
          }
         },
         "colorscale": [
          [
           0,
           "#440154"
          ],
          [
           0.1111111111111111,
           "#482878"
          ],
          [
           0.2222222222222222,
           "#3e4989"
          ],
          [
           0.3333333333333333,
           "#31688e"
          ],
          [
           0.4444444444444444,
           "#26828e"
          ],
          [
           0.5555555555555556,
           "#1f9e89"
          ],
          [
           0.6666666666666666,
           "#35b779"
          ],
          [
           0.7777777777777778,
           "#6ece58"
          ],
          [
           0.8888888888888888,
           "#b5de2b"
          ],
          [
           1,
           "#fde725"
          ]
         ]
        },
        "legend": {
         "tracegroupgap": 0
        },
        "template": {
         "data": {
          "bar": [
           {
            "error_x": {
             "color": "#2a3f5f"
            },
            "error_y": {
             "color": "#2a3f5f"
            },
            "marker": {
             "line": {
              "color": "#E5ECF6",
              "width": 0.5
             },
             "pattern": {
              "fillmode": "overlay",
              "size": 10,
              "solidity": 0.2
             }
            },
            "type": "bar"
           }
          ],
          "barpolar": [
           {
            "marker": {
             "line": {
              "color": "#E5ECF6",
              "width": 0.5
             },
             "pattern": {
              "fillmode": "overlay",
              "size": 10,
              "solidity": 0.2
             }
            },
            "type": "barpolar"
           }
          ],
          "carpet": [
           {
            "aaxis": {
             "endlinecolor": "#2a3f5f",
             "gridcolor": "white",
             "linecolor": "white",
             "minorgridcolor": "white",
             "startlinecolor": "#2a3f5f"
            },
            "baxis": {
             "endlinecolor": "#2a3f5f",
             "gridcolor": "white",
             "linecolor": "white",
             "minorgridcolor": "white",
             "startlinecolor": "#2a3f5f"
            },
            "type": "carpet"
           }
          ],
          "choropleth": [
           {
            "colorbar": {
             "outlinewidth": 0,
             "ticks": ""
            },
            "type": "choropleth"
           }
          ],
          "contour": [
           {
            "colorbar": {
             "outlinewidth": 0,
             "ticks": ""
            },
            "colorscale": [
             [
              0,
              "#0d0887"
             ],
             [
              0.1111111111111111,
              "#46039f"
             ],
             [
              0.2222222222222222,
              "#7201a8"
             ],
             [
              0.3333333333333333,
              "#9c179e"
             ],
             [
              0.4444444444444444,
              "#bd3786"
             ],
             [
              0.5555555555555556,
              "#d8576b"
             ],
             [
              0.6666666666666666,
              "#ed7953"
             ],
             [
              0.7777777777777778,
              "#fb9f3a"
             ],
             [
              0.8888888888888888,
              "#fdca26"
             ],
             [
              1,
              "#f0f921"
             ]
            ],
            "type": "contour"
           }
          ],
          "contourcarpet": [
           {
            "colorbar": {
             "outlinewidth": 0,
             "ticks": ""
            },
            "type": "contourcarpet"
           }
          ],
          "heatmap": [
           {
            "colorbar": {
             "outlinewidth": 0,
             "ticks": ""
            },
            "colorscale": [
             [
              0,
              "#0d0887"
             ],
             [
              0.1111111111111111,
              "#46039f"
             ],
             [
              0.2222222222222222,
              "#7201a8"
             ],
             [
              0.3333333333333333,
              "#9c179e"
             ],
             [
              0.4444444444444444,
              "#bd3786"
             ],
             [
              0.5555555555555556,
              "#d8576b"
             ],
             [
              0.6666666666666666,
              "#ed7953"
             ],
             [
              0.7777777777777778,
              "#fb9f3a"
             ],
             [
              0.8888888888888888,
              "#fdca26"
             ],
             [
              1,
              "#f0f921"
             ]
            ],
            "type": "heatmap"
           }
          ],
          "histogram": [
           {
            "marker": {
             "pattern": {
              "fillmode": "overlay",
              "size": 10,
              "solidity": 0.2
             }
            },
            "type": "histogram"
           }
          ],
          "histogram2d": [
           {
            "colorbar": {
             "outlinewidth": 0,
             "ticks": ""
            },
            "colorscale": [
             [
              0,
              "#0d0887"
             ],
             [
              0.1111111111111111,
              "#46039f"
             ],
             [
              0.2222222222222222,
              "#7201a8"
             ],
             [
              0.3333333333333333,
              "#9c179e"
             ],
             [
              0.4444444444444444,
              "#bd3786"
             ],
             [
              0.5555555555555556,
              "#d8576b"
             ],
             [
              0.6666666666666666,
              "#ed7953"
             ],
             [
              0.7777777777777778,
              "#fb9f3a"
             ],
             [
              0.8888888888888888,
              "#fdca26"
             ],
             [
              1,
              "#f0f921"
             ]
            ],
            "type": "histogram2d"
           }
          ],
          "histogram2dcontour": [
           {
            "colorbar": {
             "outlinewidth": 0,
             "ticks": ""
            },
            "colorscale": [
             [
              0,
              "#0d0887"
             ],
             [
              0.1111111111111111,
              "#46039f"
             ],
             [
              0.2222222222222222,
              "#7201a8"
             ],
             [
              0.3333333333333333,
              "#9c179e"
             ],
             [
              0.4444444444444444,
              "#bd3786"
             ],
             [
              0.5555555555555556,
              "#d8576b"
             ],
             [
              0.6666666666666666,
              "#ed7953"
             ],
             [
              0.7777777777777778,
              "#fb9f3a"
             ],
             [
              0.8888888888888888,
              "#fdca26"
             ],
             [
              1,
              "#f0f921"
             ]
            ],
            "type": "histogram2dcontour"
           }
          ],
          "mesh3d": [
           {
            "colorbar": {
             "outlinewidth": 0,
             "ticks": ""
            },
            "type": "mesh3d"
           }
          ],
          "parcoords": [
           {
            "line": {
             "colorbar": {
              "outlinewidth": 0,
              "ticks": ""
             }
            },
            "type": "parcoords"
           }
          ],
          "pie": [
           {
            "automargin": true,
            "type": "pie"
           }
          ],
          "scatter": [
           {
            "fillpattern": {
             "fillmode": "overlay",
             "size": 10,
             "solidity": 0.2
            },
            "type": "scatter"
           }
          ],
          "scatter3d": [
           {
            "line": {
             "colorbar": {
              "outlinewidth": 0,
              "ticks": ""
             }
            },
            "marker": {
             "colorbar": {
              "outlinewidth": 0,
              "ticks": ""
             }
            },
            "type": "scatter3d"
           }
          ],
          "scattercarpet": [
           {
            "marker": {
             "colorbar": {
              "outlinewidth": 0,
              "ticks": ""
             }
            },
            "type": "scattercarpet"
           }
          ],
          "scattergeo": [
           {
            "marker": {
             "colorbar": {
              "outlinewidth": 0,
              "ticks": ""
             }
            },
            "type": "scattergeo"
           }
          ],
          "scattergl": [
           {
            "marker": {
             "colorbar": {
              "outlinewidth": 0,
              "ticks": ""
             }
            },
            "type": "scattergl"
           }
          ],
          "scattermap": [
           {
            "marker": {
             "colorbar": {
              "outlinewidth": 0,
              "ticks": ""
             }
            },
            "type": "scattermap"
           }
          ],
          "scattermapbox": [
           {
            "marker": {
             "colorbar": {
              "outlinewidth": 0,
              "ticks": ""
             }
            },
            "type": "scattermapbox"
           }
          ],
          "scatterpolar": [
           {
            "marker": {
             "colorbar": {
              "outlinewidth": 0,
              "ticks": ""
             }
            },
            "type": "scatterpolar"
           }
          ],
          "scatterpolargl": [
           {
            "marker": {
             "colorbar": {
              "outlinewidth": 0,
              "ticks": ""
             }
            },
            "type": "scatterpolargl"
           }
          ],
          "scatterternary": [
           {
            "marker": {
             "colorbar": {
              "outlinewidth": 0,
              "ticks": ""
             }
            },
            "type": "scatterternary"
           }
          ],
          "surface": [
           {
            "colorbar": {
             "outlinewidth": 0,
             "ticks": ""
            },
            "colorscale": [
             [
              0,
              "#0d0887"
             ],
             [
              0.1111111111111111,
              "#46039f"
             ],
             [
              0.2222222222222222,
              "#7201a8"
             ],
             [
              0.3333333333333333,
              "#9c179e"
             ],
             [
              0.4444444444444444,
              "#bd3786"
             ],
             [
              0.5555555555555556,
              "#d8576b"
             ],
             [
              0.6666666666666666,
              "#ed7953"
             ],
             [
              0.7777777777777778,
              "#fb9f3a"
             ],
             [
              0.8888888888888888,
              "#fdca26"
             ],
             [
              1,
              "#f0f921"
             ]
            ],
            "type": "surface"
           }
          ],
          "table": [
           {
            "cells": {
             "fill": {
              "color": "#EBF0F8"
             },
             "line": {
              "color": "white"
             }
            },
            "header": {
             "fill": {
              "color": "#C8D4E3"
             },
             "line": {
              "color": "white"
             }
            },
            "type": "table"
           }
          ]
         },
         "layout": {
          "annotationdefaults": {
           "arrowcolor": "#2a3f5f",
           "arrowhead": 0,
           "arrowwidth": 1
          },
          "autotypenumbers": "strict",
          "coloraxis": {
           "colorbar": {
            "outlinewidth": 0,
            "ticks": ""
           }
          },
          "colorscale": {
           "diverging": [
            [
             0,
             "#8e0152"
            ],
            [
             0.1,
             "#c51b7d"
            ],
            [
             0.2,
             "#de77ae"
            ],
            [
             0.3,
             "#f1b6da"
            ],
            [
             0.4,
             "#fde0ef"
            ],
            [
             0.5,
             "#f7f7f7"
            ],
            [
             0.6,
             "#e6f5d0"
            ],
            [
             0.7,
             "#b8e186"
            ],
            [
             0.8,
             "#7fbc41"
            ],
            [
             0.9,
             "#4d9221"
            ],
            [
             1,
             "#276419"
            ]
           ],
           "sequential": [
            [
             0,
             "#0d0887"
            ],
            [
             0.1111111111111111,
             "#46039f"
            ],
            [
             0.2222222222222222,
             "#7201a8"
            ],
            [
             0.3333333333333333,
             "#9c179e"
            ],
            [
             0.4444444444444444,
             "#bd3786"
            ],
            [
             0.5555555555555556,
             "#d8576b"
            ],
            [
             0.6666666666666666,
             "#ed7953"
            ],
            [
             0.7777777777777778,
             "#fb9f3a"
            ],
            [
             0.8888888888888888,
             "#fdca26"
            ],
            [
             1,
             "#f0f921"
            ]
           ],
           "sequentialminus": [
            [
             0,
             "#0d0887"
            ],
            [
             0.1111111111111111,
             "#46039f"
            ],
            [
             0.2222222222222222,
             "#7201a8"
            ],
            [
             0.3333333333333333,
             "#9c179e"
            ],
            [
             0.4444444444444444,
             "#bd3786"
            ],
            [
             0.5555555555555556,
             "#d8576b"
            ],
            [
             0.6666666666666666,
             "#ed7953"
            ],
            [
             0.7777777777777778,
             "#fb9f3a"
            ],
            [
             0.8888888888888888,
             "#fdca26"
            ],
            [
             1,
             "#f0f921"
            ]
           ]
          },
          "colorway": [
           "#636efa",
           "#EF553B",
           "#00cc96",
           "#ab63fa",
           "#FFA15A",
           "#19d3f3",
           "#FF6692",
           "#B6E880",
           "#FF97FF",
           "#FECB52"
          ],
          "font": {
           "color": "#2a3f5f"
          },
          "geo": {
           "bgcolor": "white",
           "lakecolor": "white",
           "landcolor": "#E5ECF6",
           "showlakes": true,
           "showland": true,
           "subunitcolor": "white"
          },
          "hoverlabel": {
           "align": "left"
          },
          "hovermode": "closest",
          "mapbox": {
           "style": "light"
          },
          "paper_bgcolor": "white",
          "plot_bgcolor": "#E5ECF6",
          "polar": {
           "angularaxis": {
            "gridcolor": "white",
            "linecolor": "white",
            "ticks": ""
           },
           "bgcolor": "#E5ECF6",
           "radialaxis": {
            "gridcolor": "white",
            "linecolor": "white",
            "ticks": ""
           }
          },
          "scene": {
           "xaxis": {
            "backgroundcolor": "#E5ECF6",
            "gridcolor": "white",
            "gridwidth": 2,
            "linecolor": "white",
            "showbackground": true,
            "ticks": "",
            "zerolinecolor": "white"
           },
           "yaxis": {
            "backgroundcolor": "#E5ECF6",
            "gridcolor": "white",
            "gridwidth": 2,
            "linecolor": "white",
            "showbackground": true,
            "ticks": "",
            "zerolinecolor": "white"
           },
           "zaxis": {
            "backgroundcolor": "#E5ECF6",
            "gridcolor": "white",
            "gridwidth": 2,
            "linecolor": "white",
            "showbackground": true,
            "ticks": "",
            "zerolinecolor": "white"
           }
          },
          "shapedefaults": {
           "line": {
            "color": "#2a3f5f"
           }
          },
          "ternary": {
           "aaxis": {
            "gridcolor": "white",
            "linecolor": "white",
            "ticks": ""
           },
           "baxis": {
            "gridcolor": "white",
            "linecolor": "white",
            "ticks": ""
           },
           "bgcolor": "#E5ECF6",
           "caxis": {
            "gridcolor": "white",
            "linecolor": "white",
            "ticks": ""
           }
          },
          "title": {
           "x": 0.05
          },
          "xaxis": {
           "automargin": true,
           "gridcolor": "white",
           "linecolor": "white",
           "ticks": "",
           "title": {
            "standoff": 15
           },
           "zerolinecolor": "white",
           "zerolinewidth": 2
          },
          "yaxis": {
           "automargin": true,
           "gridcolor": "white",
           "linecolor": "white",
           "ticks": "",
           "title": {
            "standoff": 15
           },
           "zerolinecolor": "white",
           "zerolinewidth": 2
          }
         }
        },
        "title": {
         "text": "Rarity vs. Number of Work Suitabilities (Frequency)"
        },
        "xaxis": {
         "anchor": "y",
         "domain": [
          0,
          1
         ],
         "title": {
          "text": "Work Skill Count"
         }
        },
        "yaxis": {
         "anchor": "x",
         "domain": [
          0,
          1
         ],
         "title": {
          "text": "Rarity"
         }
        }
       }
      }
     },
     "metadata": {},
     "output_type": "display_data"
    }
   ],
   "source": [
    "# 3. Heatmap\n",
    "heat_df = pal_frame_vis.groupby([\"Rarity\",\"Work Skill Count\"]).size().reset_index(name=\"Count\")\n",
    "fig3 = px.density_heatmap(\n",
    "    heat_df,\n",
    "    x=\"Work Skill Count\", y=\"Rarity\", z=\"Count\", color_continuous_scale=\"Viridis\",\n",
    "    title=\"Rarity vs. Number of Work Suitabilities (Frequency)\"\n",
    ")\n",
    "fig3.show()"
   ]
  },
  {
   "cell_type": "markdown",
   "metadata": {},
   "source": [
    "#### Visualization 3 discussion\n",
    "We made this graph to determine if rarer Pals are likely to have more work skills than more common Pals. We found that they do not, as all rarities of Pal are most likely to have 2-3 work skills. There are only two Pals that have 6-7 work skills at all, and they are a Common and a Rare. "
   ]
  },
  {
   "cell_type": "markdown",
   "metadata": {},
   "source": [
    "## Models\n",
    "\n",
    "### Modeling functions overview\n",
    "- `fit_linear()`\n",
    "    - Fit a linear model to the data and output the r2, slope and intercept\n",
    "- `fit_dec_tree()`\n",
    "    - Fit a decision tree to a given data frame and some x and y features, and output a confusion matrix of the cross-validated model and the tree plot and accuracy score of the whole-dataset model. \n",
    "    - Note that sensitivity and specificity cannot be calculated because the data is categorical, not binary."
   ]
  },
  {
   "cell_type": "code",
   "execution_count": 13,
   "metadata": {},
   "outputs": [],
   "source": [
    "def fit_linear(df, y_feat, x_feat):\n",
    "    \"\"\"\n",
    "    Fit a linear model to the data and output the r2, slope and intercept.\n",
    "   Args:\n",
    "        df (DataFrame): The DataFrame of Pal data to use.\n",
    "        y_feat (str): The name of the feature to use as the dependent variable.\n",
    "        x_feat (str): The name of the feature to use as the independent variable.\n",
    "    Returns:\n",
    "        r2 (float): The r-squared value of the fitted model.\n",
    "        slope (float): The slope of the fitted model.\n",
    "        intercept (float): The intercept of the fitted model.\n",
    "    \"\"\"\n",
    "    \n",
    "    # Drop rows with NaN values in the specified columns.\n",
    "    clean_df = df[[y_feat, x_feat]].dropna()\n",
    "    X = clean_df[[x_feat]].to_numpy().reshape(-1, 1)\n",
    "    y = clean_df[y_feat].to_numpy()\n",
    "    # Split the data into training and testing sets.\n",
    "    X_train, X_test, y_train, y_test = train_test_split(X, y, test_size=0.2, random_state=42)\n",
    "    # Fit the linear regression model.\n",
    "    model = LinearRegression()\n",
    "    model.fit(X_train, y_train)\n",
    "    # Make predictions on the test set.\n",
    "    y_pred = model.predict(X_test)\n",
    "    # Calculate the r-squared value, slope, and intercept.\n",
    "    r2 = r2_score(y_test, y_pred)\n",
    "    slope = model.coef_[0]\n",
    "    intercept = model.intercept_\n",
    "    return r2, slope, intercept\n",
    "\n",
    "\n",
    "\n",
    "def fit_dec_tree(df, x_feats, y_feat):\n",
    "    \"\"\" Fit a decision tree with the given x and y features of the given data frame. \n",
    "    Plot it, cross-validate it, and plot a confusion matrix, then return its accuracy.\n",
    "    Note: We cannot compute its sensitivity or specificity because the feature being predicted may be categorical or continuous, not binary.\n",
    "    (In our actual use of the function on the Palworld data, it is categorical.)\n",
    "\n",
    "    Args:\n",
    "        df (DataFrame): The dataframe to get the features from.\n",
    "        x_feats (list): A list of column names to select from the data frame.\n",
    "        y_feat (strs): The name of the y feature to select from the data frame.\n",
    "\n",
    "    Returns:\n",
    "        acc (float): The accuracy of the decision tree model.\n",
    "    \"\"\"\n",
    "\n",
    "    # Declare the x and y features using the given feature names and data frame.\n",
    "    x = np.array(df[x_feats]).reshape(-1, len(x_feats))\n",
    "    y = np.array(df[y_feat])\n",
    "\n",
    "    # Initialize an 8-fold stratified K-fold for the data, as well as a decision tree classifier.\n",
    "    # We're using 8 because the Pal dataset does not have enough samples to use 10 (it produced a warning message).\n",
    "    skfold = StratifiedKFold(n_splits = 8)\n",
    "    pal_dec_tree = tree.DecisionTreeClassifier(max_depth = 3)\n",
    "\n",
    "    # Declare an empty array to hold the predicted values.\n",
    "    y_pred = np.empty_like(y)\n",
    "\n",
    "    # For each split:\n",
    "    for train_idx, test_idx in skfold.split(x, y):\n",
    "        # Make the current testing and training folds from the data.\n",
    "        x_train = x[train_idx, :]\n",
    "        y_train = y[train_idx]\n",
    "        x_test = x[test_idx, :]\n",
    "\n",
    "        # Fit the tree on the current training fols.\n",
    "        pal_dec_tree.fit(x_train, y_train)\n",
    "\n",
    "        # Make predictions on the current test fold and add it to the array in the according place.\n",
    "        y_pred[test_idx] = pal_dec_tree.predict(x_test)\n",
    "\n",
    "    # Create a confusion matrix with the predicted values.\n",
    "    conf_mat = confusion_matrix(y_true = y, y_pred = y_pred)\n",
    "    conf_mat_disp = ConfusionMatrixDisplay(conf_mat, display_labels = np.unique(y))\n",
    "    conf_mat_disp.plot()\n",
    "    plt.suptitle(f\"Confusion matrix for decision tree using {\", \".join(x_feats)} to predict {y_feat}\")\n",
    "    plt.grid(False)\n",
    "\n",
    "    # Fit the tree on the whole dataset and plot it.\n",
    "    pal_dec_tree.fit(x, y)\n",
    "    plt.figure()\n",
    "    plt.gcf().set_size_inches(18, 8)\n",
    "    tree.plot_tree(pal_dec_tree, feature_names = x_feats, class_names = pal_dec_tree.classes_)\n",
    "    plt.suptitle(f\"Decision tree using {\", \".join(x_feats)} to predict {y_feat}\")\n",
    "    \n",
    "\n",
    "    # Calculate the accuracy of the model.\n",
    "    acc = accuracy_score(y, y_pred)\n",
    "\n",
    "    return acc\n",
    "\n",
    "\n",
    "def fit_random_forest(df, x_feats, y_feat):\n",
    "    \"\"\" Fit a random forest classifier with the given x and y features of the given data frame. \n",
    "    Cross-validate it, plot a confusion matrix, and plot the importance of the features, then return its accuracy.\n",
    "    Note: We cannot compute its sensitivity or specificity because the feature being predicted may be categorical or continuous, not binary.\n",
    "    (In our actual use of the function on the Palworld data, it is categorical.)\n",
    "\n",
    "    Args:\n",
    "        df (DataFrame): The dataframe to get the features from.\n",
    "        x_feats (list): A list of column names to select from the data frame.\n",
    "        y_feat (strs): The name of the y feature to select from the data frame.\n",
    "\n",
    "    Returns:\n",
    "        acc (float): The accuracy of the random forest classifier.\n",
    "    \"\"\"\n",
    "\n",
    "    # Declare the x and y features using the given feature names and data frame.\n",
    "    x = np.array(df[x_feats]).reshape(-1, len(x_feats))\n",
    "    y = np.array(df[y_feat])\n",
    "\n",
    "    # Initialize an 8-fold stratified K-fold for the data, as well as a random forest classifier.\n",
    "    # We're using 8 because the Pal dataset does not have enough samples to use 10 (it produced a warning message).\n",
    "    skfold = StratifiedKFold(n_splits = 8)\n",
    "    pal_ran_for = RandomForestClassifier(max_depth = 5)\n",
    "\n",
    "    # Declare an empty array to hold the predicted values.\n",
    "    y_pred = np.empty_like(y)\n",
    "\n",
    "    # For each split:\n",
    "    for train_idx, test_idx in skfold.split(x, y):\n",
    "        # Make the current testing and training folds from the data.\n",
    "        x_train = x[train_idx, :]\n",
    "        y_train = y[train_idx]\n",
    "        x_test = x[test_idx, :]\n",
    "\n",
    "        # Fit the forest on the current training fols.\n",
    "        pal_ran_for.fit(x_train, y_train)\n",
    "\n",
    "        # Make predictions on the current test fold and add it to the array in the according place.\n",
    "        y_pred[test_idx] = pal_ran_for.predict(x_test)\n",
    "\n",
    "    # Create a confusion matrix with the predicted values.\n",
    "    conf_mat = confusion_matrix(y_true = y, y_pred = y_pred)\n",
    "    conf_mat_disp = ConfusionMatrixDisplay(conf_mat, display_labels = np.unique(y))\n",
    "    conf_mat_disp.plot()\n",
    "    plt.suptitle(f\"Confusion matrix for random forest predicting {y_feat}\")\n",
    "    plt.grid(False)\n",
    "\n",
    "    # Declare a series of the importance of each feature in the forest model, and sort it.\n",
    "    feats = pd.Series(data = pal_ran_for.feature_importances_, index = x_feats)\n",
    "    feats.sort_values(ascending = True, inplace = True)\n",
    "    \n",
    "    # Plot the ranked importance of all features in the model.\n",
    "    plt.figure()\n",
    "    plt.barh(feats.index, feats.values)\n",
    "    plt.gcf().set_size_inches(5, 10)\n",
    "    plt.xlabel(\"Feature importance, or mean decrease in Gini across all decision trees\")\n",
    "    plt.suptitle(f\"Importance of all features in determining {y_feat} using random forest classifier\")\n",
    "\n",
    "    # Calculate the accuracy of the model.\n",
    "    acc = accuracy_score(y, y_pred)\n",
    "\n",
    "    return acc"
   ]
  },
  {
   "cell_type": "markdown",
   "metadata": {},
   "source": [
    "### Model 1"
   ]
  },
  {
   "cell_type": "markdown",
   "metadata": {},
   "source": [
    "#### Model 1 discussion\n",
    "We wanted to see if Pals that are better workers also fare better in battle. So, we plotted each Pal's highest work suitability score (out of all of its personal suitabilities) against HP in a scatterplot that you see in the above data visualizations. This lets us see if the Pals that are most specialized to a task are also \"high-value\" in combat. Then, noticing a positive correlation in the variables' relationship, we thought that a linear regression model would fit it. No preprocessing had to be done before the modeling."
   ]
  },
  {
   "cell_type": "code",
   "execution_count": 14,
   "metadata": {},
   "outputs": [
    {
     "name": "stdout",
     "output_type": "stream",
     "text": [
      "Model 1: R2 = 0.3991006793555303, Slope = 12.481549523296692, Intercept = 66.27680466250673\n"
     ]
    }
   ],
   "source": [
    "r2, slope, intercept = fit_linear(pal_frame_vis, \"HP\", \"Highest Work Suitability Level\")\n",
    "print(f\"Model 1: R2 = {r2}, Slope = {slope}, Intercept = {intercept}\")"
   ]
  },
  {
   "cell_type": "code",
   "execution_count": 15,
   "metadata": {},
   "outputs": [
    {
     "data": {
      "application/vnd.plotly.v1+json": {
       "config": {
        "plotlyServerURL": "https://plot.ly"
       },
       "data": [
        {
         "customdata": [
          [
           "#-1",
           "Common",
           "Transporting"
          ],
          [
           "#2",
           "Common",
           "Handiwork, Mining, Transporting, Gathering"
          ],
          [
           "#44",
           "Common",
           "Deforesting"
          ],
          [
           "#-1",
           "Common",
           "Gathering"
          ],
          [
           "#25",
           "Common",
           "Transporting, Generating Electricity, Watering"
          ],
          [
           "#3",
           "Common",
           "Gathering, Farming"
          ],
          [
           "#55",
           "Common",
           "Gathering, Cooling"
          ],
          [
           "#25",
           "Common",
           "Transporting, Watering"
          ],
          [
           "#62",
           "Common",
           "Handiwork, Transporting, Generating Electricity"
          ],
          [
           "#62",
           "Common",
           "Handiwork, Transporting, Generating Electricity, Medicine Production"
          ],
          [
           "#-1",
           "Common",
           "Transporting"
          ],
          [
           "#17",
           "Common",
           "Handiwork, Mining, Transporting"
          ],
          [
           "#114",
           "Rare",
           "Handiwork, Transporting, Gathering, Watering"
          ],
          [
           "#19",
           "Common",
           "Handiwork, Transporting, Gathering"
          ],
          [
           "#18",
           "Common",
           "Gathering, Farming"
          ],
          [
           "#114",
           "Common",
           "Handiwork, Transporting, Gathering, Watering"
          ],
          [
           "#26",
           "Common",
           "Gathering"
          ],
          [
           "#-1",
           "Common",
           "Deforesting"
          ],
          [
           "#12",
           "Common",
           "Cooling"
          ],
          [
           "#12",
           "Common",
           "Generating Electricity"
          ],
          [
           "#81",
           "Common",
           "Kindling, Farming"
          ],
          [
           "#81",
           "Common",
           "Watering, Farming"
          ],
          [
           "#15",
           "Common",
           "Gathering"
          ],
          [
           "#13",
           "Common",
           "Planting"
          ],
          [
           "#-1",
           "Common",
           "Transporting"
          ],
          [
           "#6",
           "Common",
           "Handiwork, Transporting, Kindling, Watering"
          ],
          [
           "#22",
           "Common",
           "Handiwork, Mining, Transporting"
          ],
          [
           "#6",
           "Common",
           "Handiwork, Transporting, Watering"
          ],
          [
           "#5",
           "Common",
           "Kindling"
          ],
          [
           "#5",
           "Common",
           "Cooling"
          ],
          [
           "#70",
           "Common",
           "Handiwork, Transporting, Kindling, Farming"
          ],
          [
           "#28",
           "Common",
           "Handiwork, Transporting, Gathering, Medicine Production, Planting"
          ],
          [
           "#-1",
           "Common",
           "Gathering"
          ],
          [
           "#-1",
           "Common",
           "Transporting"
          ],
          [
           "#45",
           "Common",
           "Handiwork, Transporting, Kindling, Gathering"
          ],
          [
           "#4",
           "Common",
           "Handiwork, Deforesting, Gathering, Medicine Production, Planting"
          ],
          [
           "#1",
           "Common",
           "Handiwork, Transporting, Farming"
          ],
          [
           "#45",
           "Common",
           "Handiwork, Transporting, Gathering"
          ],
          [
           "#89",
           "Epic",
           "Gathering"
          ],
          [
           "#117",
           "Common",
           "Mining"
          ],
          [
           "#65",
           "Rare",
           "Gathering"
          ],
          [
           "#53",
           "Common",
           "Gathering, Cooling"
          ],
          [
           "#8",
           "Common",
           "Handiwork, Transporting, Deforesting, Gathering, Planting"
          ],
          [
           "#16",
           "Common",
           "Watering"
          ],
          [
           "#27",
           "Common",
           "Gathering"
          ],
          [
           "#127",
           "Epic",
           "Gathering"
          ],
          [
           "#34",
           "Common",
           "Farming"
          ],
          [
           "#7",
           "Common",
           "Handiwork, Transporting, Generating Electricity"
          ],
          [
           "#-1",
           "Common",
           "Transporting"
          ],
          [
           "#-1",
           "Common",
           "Transporting"
          ],
          [
           "#-1",
           "Common",
           "Transporting"
          ],
          [
           "#107",
           "Epic",
           "Gathering"
          ],
          [
           "#9",
           "Common",
           "Kindling"
          ],
          [
           "#20",
           "Common",
           "Mining"
          ],
          [
           "#39",
           "Common",
           "Handiwork, Transporting, Gathering, Planting"
          ],
          [
           "#39",
           "Common",
           "Handiwork, Transporting, Gathering"
          ],
          [
           "#133",
           "Common",
           "Gathering"
          ],
          [
           "#21",
           "Rare",
           "Gathering"
          ],
          [
           "#10",
           "Common",
           "Handiwork, Transporting, Watering, Cooling"
          ],
          [
           "#29",
           "Common",
           "Farming"
          ],
          [
           "#36",
           "Common",
           "Farming"
          ],
          [
           "#124",
           "Rare",
           "Transporting, Gathering"
          ],
          [
           "#24",
           "Common",
           "Cooling, Farming"
          ],
          [
           "#24",
           "Common",
           "Farming"
          ],
          [
           "#14",
           "Common",
           "Gathering, Farming"
          ],
          [
           "#46",
           "Common",
           "Handiwork"
          ],
          [
           "#61",
           "Rare",
           "Kindling"
          ],
          [
           "#69",
           "Rare",
           "Handiwork, Mining, Transporting, Medicine Production"
          ],
          [
           "#149",
           "Common",
           "Handiwork, Transporting, Watering, Medicine Production"
          ],
          [
           "#150",
           "Common",
           "Handiwork, Transporting, Watering"
          ],
          [
           "#23",
           "Common",
           "Transporting, Gathering, Watering"
          ],
          [
           "#61",
           "Rare",
           "Kindling"
          ],
          [
           "#115",
           "Common",
           "Handiwork, Gathering, Medicine Production, Planting"
          ],
          [
           "#31",
           "Common",
           "Handiwork, Transporting, Watering"
          ],
          [
           "#52",
           "Rare",
           "Gathering"
          ],
          [
           "#31",
           "Common",
           "Handiwork, Transporting, Kindling"
          ],
          [
           "#75",
           "Rare",
           "Handiwork, Transporting, Kindling, Medicine Production"
          ],
          [
           "#75",
           "Rare",
           "Handiwork, Transporting, Medicine Production"
          ],
          [
           "#40",
           "Common",
           "Handiwork, Mining, Transporting, Kindling"
          ],
          [
           "#40",
           "Rare",
           "Handiwork, Mining, Transporting"
          ],
          [
           "#140",
           "Epic",
           "Gathering"
          ],
          [
           "#57",
           "Rare",
           "Cooling"
          ],
          [
           "#152",
           "Common",
           "Transporting, Kindling, Watering"
          ],
          [
           "#152",
           "Common",
           "Transporting, Watering"
          ],
          [
           "#11",
           "Rare",
           "Handiwork, Mining, Transporting, Watering, Cooling"
          ],
          [
           "#10",
           "Common",
           "Handiwork, Transporting, Generating Electricity, Watering"
          ],
          [
           "#108",
           "Legendary",
           "Mining, Deforesting"
          ],
          [
           "#146",
           "Common",
           "Transporting, Watering, Cooling"
          ],
          [
           "#148",
           "Common",
           "Mining, Transporting, Watering"
          ],
          [
           "#148",
           "Common",
           "Mining, Transporting, Watering"
          ],
          [
           "#85",
           "Epic",
           "Transporting, Watering"
          ],
          [
           "#58",
           "Rare",
           "Deforesting, Kindling"
          ],
          [
           "#116",
           "Rare",
           "Handiwork, Deforesting, Gathering, Planting"
          ],
          [
           "#79",
           "Rare",
           "Cooling, Farming, Medicine Production"
          ],
          [
           "#116",
           "Common",
           "Handiwork, Deforesting, Gathering, Planting"
          ],
          [
           "#131",
           "Common",
           "Gathering"
          ],
          [
           "#59",
           "Common",
           "Deforesting, Cooling"
          ],
          [
           "#48",
           "Rare",
           "Handiwork, Transporting, Deforesting, Gathering, Medicine Production"
          ],
          [
           "#48",
           "Rare",
           "Handiwork, Transporting, Deforesting, Gathering, Medicine Production, Planting"
          ],
          [
           "#58",
           "Rare",
           "Deforesting, Kindling"
          ],
          [
           "#38",
           "Common",
           "Gathering"
          ],
          [
           "#60",
           "Rare",
           "Generating Electricity"
          ],
          [
           "#11",
           "Rare",
           "Handiwork, Mining, Transporting, Generating Electricity, Watering"
          ],
          [
           "#23",
           "Common",
           "Transporting, Gathering, Watering"
          ],
          [
           "#151",
           "Rare",
           "Handiwork, Transporting, Watering"
          ],
          [
           "#32",
           "Common",
           "Handiwork, Transporting, Gathering, Cooling"
          ],
          [
           "#37",
           "Common",
           "Deforesting"
          ],
          [
           "#43",
           "Common",
           "Mining, Transporting, Watering, Farming"
          ],
          [
           "#143",
           "Common",
           "Gathering, Cooling"
          ],
          [
           "#47",
           "Common",
           "Gathering"
          ],
          [
           "#32",
           "Common",
           "Handiwork, Transporting, Gathering"
          ],
          [
           "#141",
           "Common",
           "Transporting, Gathering, Planting"
          ],
          [
           "#51",
           "Epic",
           "Handiwork, Deforesting, Gathering, Medicine Production, Planting"
          ],
          [
           "#37",
           "Rare",
           "Deforesting"
          ],
          [
           "#55",
           "Rare",
           "Kindling, Gathering"
          ],
          [
           "#41",
           "Common",
           "Medicine Production, Planting"
          ],
          [
           "#64",
           "Rare",
           "Deforesting, Planting"
          ],
          [
           "#123",
           "Rare",
           "Gathering"
          ],
          [
           "#43",
           "Rare",
           "Mining, Transporting, Watering, Farming"
          ],
          [
           "#64",
           "Rare",
           "Deforesting, Generating Electricity"
          ],
          [
           "#30",
           "Common",
           "Handiwork, Transporting, Gathering, Medicine Production, Planting"
          ],
          [
           "#42",
           "Common",
           "Deforesting, Kindling"
          ],
          [
           "#50",
           "Common",
           "Handiwork, Transporting, Deforesting, Gathering, Farming, Medicine Production, Planting"
          ],
          [
           "#35",
           "Common",
           "Farming, Planting"
          ],
          [
           "#35",
           "Common",
           "Farming, Planting"
          ],
          [
           "#80",
           "Rare",
           "Deforesting"
          ],
          [
           "#93",
           "Common",
           "Deforesting, Generating Electricity"
          ],
          [
           "#93",
           "Common",
           "Deforesting"
          ],
          [
           "#129",
           "Rare",
           "Gathering"
          ],
          [
           "#54",
           "Rare",
           "Gathering, Cooling"
          ],
          [
           "#65",
           "Common",
           "Watering"
          ],
          [
           "#56",
           "Rare",
           "Deforesting, Generating Electricity"
          ],
          [
           "#68",
           "Rare",
           "Mining, Transporting, Gathering"
          ],
          [
           "#135",
           "Common",
           "Handiwork, Transporting, Gathering, Medicine Production"
          ],
          [
           "#90",
           "Epic",
           "Mining, Deforesting, Planting"
          ],
          [
           "#66",
           "Rare",
           "Mining, Gathering"
          ],
          [
           "#109",
           "Legendary",
           "Mining, Deforesting"
          ],
          [
           "#90",
           "Epic",
           "Mining, Deforesting, Cooling"
          ],
          [
           "#121",
           "Common",
           "Gathering"
          ],
          [
           "#125",
           "Rare",
           "Transporting, Deforesting"
          ],
          [
           "#74",
           "Rare",
           "Transporting, Kindling"
          ],
          [
           "#95",
           "Epic",
           "Handiwork, Mining, Transporting, Gathering, Planting"
          ],
          [
           "#95",
           "Rare",
           "Handiwork, Mining, Transporting, Gathering"
          ],
          [
           "#119",
           "Rare",
           "Deforesting, Gathering, Medicine Production"
          ],
          [
           "#87",
           "Epic",
           "Handiwork, Transporting, Gathering, Medicine Production, Planting"
          ],
          [
           "#144",
           "Common",
           "Mining, Gathering, Planting"
          ],
          [
           "#102",
           "Epic",
           "Kindling"
          ],
          [
           "#78",
           "Epic",
           "Handiwork, Transporting, Gathering, Medicine Production, Planting"
          ],
          [
           "#92",
           "Epic",
           "Handiwork, Transporting, Deforesting, Planting"
          ],
          [
           "#138",
           "Rare",
           "Handiwork, Transporting, Gathering, Medicine Production, Planting"
          ],
          [
           "#130",
           "Epic",
           "Deforesting"
          ],
          [
           "#118",
           "Rare",
           "Handiwork, Mining, Kindling, Gathering, Farming"
          ],
          [
           "#49",
           "Rare",
           "Handiwork, Transporting, Deforesting"
          ],
          [
           "#103",
           "Epic",
           "Handiwork, Transporting, Deforesting, Generating Electricity"
          ],
          [
           "#97",
           "Epic",
           "Transporting, Generating Electricity"
          ],
          [
           "#97",
           "Rare",
           "Transporting"
          ],
          [
           "#111",
           "Legendary",
           "Gathering"
          ],
          [
           "#142",
           "Common",
           "Handiwork, Transporting, Cooling, Medicine Production"
          ],
          [
           "#89",
           "Epic",
           "Gathering, Cooling"
          ],
          [
           "#49",
           "Rare",
           "Handiwork, Mining, Transporting"
          ],
          [
           "#67",
           "Rare",
           "Mining"
          ],
          [
           "#83",
           "Rare",
           "Handiwork, Mining, Transporting, Deforesting"
          ],
          [
           "#72",
           "Rare",
           "Handiwork, Transporting, Deforesting, Kindling, Gathering"
          ],
          [
           "#86",
           "Epic",
           "Watering"
          ],
          [
           "#73",
           "Rare",
           "Transporting, Gathering, Generating Electricity"
          ],
          [
           "#84",
           "Epic",
           "Deforesting, Kindling"
          ],
          [
           "#84",
           "Rare",
           "Deforesting, Kindling"
          ],
          [
           "#83",
           "Rare",
           "Handiwork, Transporting, Deforesting, Cooling"
          ],
          [
           "#72",
           "Rare",
           "Handiwork, Transporting, Deforesting, Kindling, Gathering"
          ],
          [
           "#86",
           "Rare",
           "Planting"
          ],
          [
           "#82",
           "Epic",
           "Cooling"
          ],
          [
           "#82",
           "Rare",
           "Watering"
          ],
          [
           "#147",
           "Rare",
           "Watering, Cooling"
          ],
          [
           "#85",
           "Epic",
           "Transporting, Generating Electricity"
          ],
          [
           "#88",
           "Rare",
           "Mining, Kindling"
          ],
          [
           "#88",
           "Rare",
           "Mining, Cooling"
          ],
          [
           "#126",
           "Epic",
           "Mining"
          ],
          [
           "#76",
           "Rare",
           "Handiwork, Transporting, Kindling"
          ],
          [
           "#92",
           "Epic",
           "Handiwork, Mining, Transporting"
          ],
          [
           "#80",
           "Epic",
           "Deforesting, Watering"
          ],
          [
           "#94",
           "Rare",
           "Medicine Production"
          ],
          [
           "#105",
           "Epic",
           "Transporting, Kindling"
          ],
          [
           "#122",
           "Rare",
           "Handiwork, Transporting, Deforesting, Gathering, Medicine Production"
          ],
          [
           "#46",
           "Common",
           "Handiwork, Cooling"
          ],
          [
           "#33",
           "Rare",
           "Handiwork, Transporting, Deforesting, Generating Electricity"
          ],
          [
           "#99",
           "Epic",
           "Mining, Deforesting"
          ],
          [
           "#63",
           "Rare",
           "Handiwork, Transporting, Gathering"
          ],
          [
           "#104",
           "Epic",
           "Handiwork, Gathering, Medicine Production"
          ],
          [
           "#33",
           "Rare",
           "Handiwork, Transporting, Deforesting, Planting"
          ],
          [
           "#99",
           "Epic",
           "Mining, Deforesting"
          ],
          [
           "#139",
           "Common",
           "Handiwork, Transporting, Deforesting, Gathering"
          ],
          [
           "#128",
           "Rare",
           "Handiwork, Transporting"
          ],
          [
           "#77",
           "Epic",
           "Handiwork, Transporting, Deforesting, Gathering, Planting"
          ],
          [
           "#71",
           "Common",
           "Transporting, Kindling"
          ],
          [
           "#71",
           "Rare",
           "Transporting, Cooling"
          ],
          [
           "#76",
           "Rare",
           "Handiwork, Transporting, Kindling"
          ],
          [
           "#102",
           "Epic",
           "Watering"
          ],
          [
           "#120",
           "Epic",
           "Mining, Transporting, Gathering"
          ],
          [
           "#101",
           "Epic",
           "Kindling"
          ],
          [
           "#101",
           "Epic",
           "Watering"
          ],
          [
           "#137",
           "Epic",
           "Mining, Deforesting, Cooling"
          ],
          [
           "#100",
           "Epic",
           "Handiwork, Mining, Transporting"
          ],
          [
           "#98",
           "Epic",
           "Handiwork, Mining"
          ],
          [
           "#136",
           "Rare",
           "Gathering, Generating Electricity"
          ],
          [
           "#96",
           "Epic",
           "Mining, Kindling"
          ],
          [
           "#112",
           "Legendary",
           "Handiwork, Transporting, Medicine Production"
          ],
          [
           "#-1",
           "Rare",
           "Transporting"
          ],
          [
           "#105",
           "Epic",
           "Transporting, Watering"
          ],
          [
           "#132",
           "Rare",
           "Deforesting, Gathering"
          ],
          [
           "#145",
           "Rare",
           "Mining, Gathering, Planting"
          ],
          [
           "#112",
           "Legendary",
           "Handiwork, Transporting, Medicine Production"
          ],
          [
           "#110",
           "Legendary",
           "Cooling"
          ],
          [
           "#153",
           "Rare",
           "Transporting, Kindling, Watering"
          ],
          [
           "#153",
           "Rare",
           "Transporting, Watering"
          ],
          [
           "#110",
           "Legendary",
           "Gathering"
          ],
          [
           "#96",
           "Epic",
           "Mining, Kindling"
          ],
          [
           "#134",
           "Common",
           "Handiwork, Transporting, Deforesting, Medicine Production"
          ],
          [
           "#113",
           "Epic",
           "Handiwork, Transporting, Medicine Production"
          ],
          [
           "#106",
           "Epic",
           "Handiwork, Transporting, Generating Electricity"
          ],
          [
           "#155",
           "Legendary",
           "Watering"
          ],
          [
           "#104",
           "Epic",
           "Handiwork, Gathering, Medicine Production, Planting"
          ],
          [
           "#154",
           "Epic",
           "Kindling, Cooling"
          ],
          [
           "#91",
           "Rare",
           "Handiwork, Transporting, Deforesting, Cooling"
          ],
          [
           "#154",
           "Rare",
           "Watering, Cooling"
          ],
          [
           "#91",
           "Epic",
           "Handiwork, Transporting, Deforesting, Planting"
          ]
         ],
         "hovertemplate": "Highest Work Suitability Level=%{x}<br>HP=%{y}<br>ID=%{customdata[0]}<br>Rarity=%{customdata[1]}<br>Work Types=%{customdata[2]}<extra></extra>",
         "legendgroup": "",
         "marker": {
          "color": "#636efa",
          "opacity": 0.3,
          "symbol": "circle"
         },
         "mode": "markers",
         "name": "",
         "orientation": "v",
         "showlegend": false,
         "type": "scatter",
         "x": {
          "bdata": "AAAAAAAA8D8AAAAAAADwPwAAAAAAAPA/AAAAAAAA8D8AAAAAAADwPwAAAAAAAPA/AAAAAAAA8D8AAAAAAADwPwAAAAAAAPA/AAAAAAAA8D8AAAAAAADwPwAAAAAAAPA/AAAAAAAA8D8AAAAAAADwPwAAAAAAAPA/AAAAAAAA8D8AAAAAAADwPwAAAAAAAPA/AAAAAAAA8D8AAAAAAADwPwAAAAAAAPA/AAAAAAAA8D8AAAAAAADwPwAAAAAAAPA/AAAAAAAA8D8AAAAAAADwPwAAAAAAAPA/AAAAAAAA8D8AAAAAAADwPwAAAAAAAPA/AAAAAAAA8D8AAAAAAADwPwAAAAAAAPA/AAAAAAAA8D8AAAAAAADwPwAAAAAAAPA/AAAAAAAA8D8AAAAAAADwPwAAAAAAAPA/AAAAAAAA8D8AAAAAAADwPwAAAAAAAPA/AAAAAAAA8D8AAAAAAADwPwAAAAAAAPA/AAAAAAAA8D8AAAAAAADwPwAAAAAAAPA/AAAAAAAA8D8AAAAAAADwPwAAAAAAAPA/AAAAAAAA8D8AAAAAAADwPwAAAAAAAPA/AAAAAAAA8D8AAAAAAADwPwAAAAAAAPA/AAAAAAAA8D8AAAAAAADwPwAAAAAAAPA/AAAAAAAA8D8AAAAAAADwPwAAAAAAAPA/AAAAAAAA8D8AAAAAAADwPwAAAAAAAABAAAAAAAAAAEAAAAAAAAAAQAAAAAAAAABAAAAAAAAAAEAAAAAAAAAAQAAAAAAAAABAAAAAAAAAAEAAAAAAAAAAQAAAAAAAAABAAAAAAAAAAEAAAAAAAAAAQAAAAAAAAABAAAAAAAAAAEAAAAAAAAAAQAAAAAAAAABAAAAAAAAAAEAAAAAAAAAAQAAAAAAAAABAAAAAAAAAAEAAAAAAAAAAQAAAAAAAAABAAAAAAAAAAEAAAAAAAAAAQAAAAAAAAABAAAAAAAAAAEAAAAAAAAAAQAAAAAAAAABAAAAAAAAAAEAAAAAAAAAAQAAAAAAAAABAAAAAAAAAAEAAAAAAAAAAQAAAAAAAAABAAAAAAAAAAEAAAAAAAAAAQAAAAAAAAABAAAAAAAAAAEAAAAAAAAAAQAAAAAAAAABAAAAAAAAAAEAAAAAAAAAAQAAAAAAAAABAAAAAAAAAAEAAAAAAAAAAQAAAAAAAAABAAAAAAAAAAEAAAAAAAAAAQAAAAAAAAABAAAAAAAAAAEAAAAAAAAAAQAAAAAAAAABAAAAAAAAAAEAAAAAAAAAAQAAAAAAAAABAAAAAAAAAAEAAAAAAAAAAQAAAAAAAAABAAAAAAAAAAEAAAAAAAAAAQAAAAAAAAABAAAAAAAAAAEAAAAAAAAAAQAAAAAAAAABAAAAAAAAAAEAAAAAAAAAAQAAAAAAAAABAAAAAAAAAAEAAAAAAAAAAQAAAAAAAAABAAAAAAAAAAEAAAAAAAAAAQAAAAAAAAABAAAAAAAAAAEAAAAAAAAAAQAAAAAAAAAhAAAAAAAAACEAAAAAAAAAIQAAAAAAAAAhAAAAAAAAACEAAAAAAAAAIQAAAAAAAAAhAAAAAAAAACEAAAAAAAAAIQAAAAAAAAAhAAAAAAAAACEAAAAAAAAAIQAAAAAAAAAhAAAAAAAAACEAAAAAAAAAIQAAAAAAAAAhAAAAAAAAACEAAAAAAAAAIQAAAAAAAAAhAAAAAAAAACEAAAAAAAAAIQAAAAAAAAAhAAAAAAAAACEAAAAAAAAAIQAAAAAAAAAhAAAAAAAAACEAAAAAAAAAIQAAAAAAAAAhAAAAAAAAACEAAAAAAAAAIQAAAAAAAAAhAAAAAAAAACEAAAAAAAAAIQAAAAAAAAAhAAAAAAAAACEAAAAAAAAAIQAAAAAAAAAhAAAAAAAAACEAAAAAAAAAIQAAAAAAAAAhAAAAAAAAACEAAAAAAAAAIQAAAAAAAAAhAAAAAAAAACEAAAAAAAAAIQAAAAAAAAAhAAAAAAAAACEAAAAAAAAAIQAAAAAAAAAhAAAAAAAAACEAAAAAAAAAIQAAAAAAAAAhAAAAAAAAACEAAAAAAAAAIQAAAAAAAAAhAAAAAAAAACEAAAAAAAAAIQAAAAAAAABBAAAAAAAAAEEAAAAAAAAAQQAAAAAAAABBAAAAAAAAAEEAAAAAAAAAQQAAAAAAAABBAAAAAAAAAEEAAAAAAAAAQQAAAAAAAABBAAAAAAAAAEEAAAAAAAAAQQAAAAAAAABBAAAAAAAAAEEAAAAAAAAAQQAAAAAAAABBAAAAAAAAAEEAAAAAAAAAQQAAAAAAAABBAAAAAAAAAEEAAAAAAAAAQQAAAAAAAABBAAAAAAAAAEEAAAAAAAAAQQAAAAAAAABBAAAAAAAAAEEAAAAAAAAAQQAAAAAAAABBA",
          "dtype": "f8"
         },
         "xaxis": "x",
         "y": {
          "bdata": "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",
          "dtype": "f8"
         },
         "yaxis": "y"
        },
        {
         "line": {
          "color": "red",
          "width": 2
         },
         "mode": "lines",
         "name": "Fitted Line",
         "type": "scatter",
         "x": {
          "bdata": "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",
          "dtype": "f8"
         },
         "y": {
          "bdata": "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",
          "dtype": "f8"
         }
        }
       ],
       "layout": {
        "legend": {
         "tracegroupgap": 0
        },
        "template": {
         "data": {
          "bar": [
           {
            "error_x": {
             "color": "#2a3f5f"
            },
            "error_y": {
             "color": "#2a3f5f"
            },
            "marker": {
             "line": {
              "color": "#E5ECF6",
              "width": 0.5
             },
             "pattern": {
              "fillmode": "overlay",
              "size": 10,
              "solidity": 0.2
             }
            },
            "type": "bar"
           }
          ],
          "barpolar": [
           {
            "marker": {
             "line": {
              "color": "#E5ECF6",
              "width": 0.5
             },
             "pattern": {
              "fillmode": "overlay",
              "size": 10,
              "solidity": 0.2
             }
            },
            "type": "barpolar"
           }
          ],
          "carpet": [
           {
            "aaxis": {
             "endlinecolor": "#2a3f5f",
             "gridcolor": "white",
             "linecolor": "white",
             "minorgridcolor": "white",
             "startlinecolor": "#2a3f5f"
            },
            "baxis": {
             "endlinecolor": "#2a3f5f",
             "gridcolor": "white",
             "linecolor": "white",
             "minorgridcolor": "white",
             "startlinecolor": "#2a3f5f"
            },
            "type": "carpet"
           }
          ],
          "choropleth": [
           {
            "colorbar": {
             "outlinewidth": 0,
             "ticks": ""
            },
            "type": "choropleth"
           }
          ],
          "contour": [
           {
            "colorbar": {
             "outlinewidth": 0,
             "ticks": ""
            },
            "colorscale": [
             [
              0,
              "#0d0887"
             ],
             [
              0.1111111111111111,
              "#46039f"
             ],
             [
              0.2222222222222222,
              "#7201a8"
             ],
             [
              0.3333333333333333,
              "#9c179e"
             ],
             [
              0.4444444444444444,
              "#bd3786"
             ],
             [
              0.5555555555555556,
              "#d8576b"
             ],
             [
              0.6666666666666666,
              "#ed7953"
             ],
             [
              0.7777777777777778,
              "#fb9f3a"
             ],
             [
              0.8888888888888888,
              "#fdca26"
             ],
             [
              1,
              "#f0f921"
             ]
            ],
            "type": "contour"
           }
          ],
          "contourcarpet": [
           {
            "colorbar": {
             "outlinewidth": 0,
             "ticks": ""
            },
            "type": "contourcarpet"
           }
          ],
          "heatmap": [
           {
            "colorbar": {
             "outlinewidth": 0,
             "ticks": ""
            },
            "colorscale": [
             [
              0,
              "#0d0887"
             ],
             [
              0.1111111111111111,
              "#46039f"
             ],
             [
              0.2222222222222222,
              "#7201a8"
             ],
             [
              0.3333333333333333,
              "#9c179e"
             ],
             [
              0.4444444444444444,
              "#bd3786"
             ],
             [
              0.5555555555555556,
              "#d8576b"
             ],
             [
              0.6666666666666666,
              "#ed7953"
             ],
             [
              0.7777777777777778,
              "#fb9f3a"
             ],
             [
              0.8888888888888888,
              "#fdca26"
             ],
             [
              1,
              "#f0f921"
             ]
            ],
            "type": "heatmap"
           }
          ],
          "histogram": [
           {
            "marker": {
             "pattern": {
              "fillmode": "overlay",
              "size": 10,
              "solidity": 0.2
             }
            },
            "type": "histogram"
           }
          ],
          "histogram2d": [
           {
            "colorbar": {
             "outlinewidth": 0,
             "ticks": ""
            },
            "colorscale": [
             [
              0,
              "#0d0887"
             ],
             [
              0.1111111111111111,
              "#46039f"
             ],
             [
              0.2222222222222222,
              "#7201a8"
             ],
             [
              0.3333333333333333,
              "#9c179e"
             ],
             [
              0.4444444444444444,
              "#bd3786"
             ],
             [
              0.5555555555555556,
              "#d8576b"
             ],
             [
              0.6666666666666666,
              "#ed7953"
             ],
             [
              0.7777777777777778,
              "#fb9f3a"
             ],
             [
              0.8888888888888888,
              "#fdca26"
             ],
             [
              1,
              "#f0f921"
             ]
            ],
            "type": "histogram2d"
           }
          ],
          "histogram2dcontour": [
           {
            "colorbar": {
             "outlinewidth": 0,
             "ticks": ""
            },
            "colorscale": [
             [
              0,
              "#0d0887"
             ],
             [
              0.1111111111111111,
              "#46039f"
             ],
             [
              0.2222222222222222,
              "#7201a8"
             ],
             [
              0.3333333333333333,
              "#9c179e"
             ],
             [
              0.4444444444444444,
              "#bd3786"
             ],
             [
              0.5555555555555556,
              "#d8576b"
             ],
             [
              0.6666666666666666,
              "#ed7953"
             ],
             [
              0.7777777777777778,
              "#fb9f3a"
             ],
             [
              0.8888888888888888,
              "#fdca26"
             ],
             [
              1,
              "#f0f921"
             ]
            ],
            "type": "histogram2dcontour"
           }
          ],
          "mesh3d": [
           {
            "colorbar": {
             "outlinewidth": 0,
             "ticks": ""
            },
            "type": "mesh3d"
           }
          ],
          "parcoords": [
           {
            "line": {
             "colorbar": {
              "outlinewidth": 0,
              "ticks": ""
             }
            },
            "type": "parcoords"
           }
          ],
          "pie": [
           {
            "automargin": true,
            "type": "pie"
           }
          ],
          "scatter": [
           {
            "fillpattern": {
             "fillmode": "overlay",
             "size": 10,
             "solidity": 0.2
            },
            "type": "scatter"
           }
          ],
          "scatter3d": [
           {
            "line": {
             "colorbar": {
              "outlinewidth": 0,
              "ticks": ""
             }
            },
            "marker": {
             "colorbar": {
              "outlinewidth": 0,
              "ticks": ""
             }
            },
            "type": "scatter3d"
           }
          ],
          "scattercarpet": [
           {
            "marker": {
             "colorbar": {
              "outlinewidth": 0,
              "ticks": ""
             }
            },
            "type": "scattercarpet"
           }
          ],
          "scattergeo": [
           {
            "marker": {
             "colorbar": {
              "outlinewidth": 0,
              "ticks": ""
             }
            },
            "type": "scattergeo"
           }
          ],
          "scattergl": [
           {
            "marker": {
             "colorbar": {
              "outlinewidth": 0,
              "ticks": ""
             }
            },
            "type": "scattergl"
           }
          ],
          "scattermap": [
           {
            "marker": {
             "colorbar": {
              "outlinewidth": 0,
              "ticks": ""
             }
            },
            "type": "scattermap"
           }
          ],
          "scattermapbox": [
           {
            "marker": {
             "colorbar": {
              "outlinewidth": 0,
              "ticks": ""
             }
            },
            "type": "scattermapbox"
           }
          ],
          "scatterpolar": [
           {
            "marker": {
             "colorbar": {
              "outlinewidth": 0,
              "ticks": ""
             }
            },
            "type": "scatterpolar"
           }
          ],
          "scatterpolargl": [
           {
            "marker": {
             "colorbar": {
              "outlinewidth": 0,
              "ticks": ""
             }
            },
            "type": "scatterpolargl"
           }
          ],
          "scatterternary": [
           {
            "marker": {
             "colorbar": {
              "outlinewidth": 0,
              "ticks": ""
             }
            },
            "type": "scatterternary"
           }
          ],
          "surface": [
           {
            "colorbar": {
             "outlinewidth": 0,
             "ticks": ""
            },
            "colorscale": [
             [
              0,
              "#0d0887"
             ],
             [
              0.1111111111111111,
              "#46039f"
             ],
             [
              0.2222222222222222,
              "#7201a8"
             ],
             [
              0.3333333333333333,
              "#9c179e"
             ],
             [
              0.4444444444444444,
              "#bd3786"
             ],
             [
              0.5555555555555556,
              "#d8576b"
             ],
             [
              0.6666666666666666,
              "#ed7953"
             ],
             [
              0.7777777777777778,
              "#fb9f3a"
             ],
             [
              0.8888888888888888,
              "#fdca26"
             ],
             [
              1,
              "#f0f921"
             ]
            ],
            "type": "surface"
           }
          ],
          "table": [
           {
            "cells": {
             "fill": {
              "color": "#EBF0F8"
             },
             "line": {
              "color": "white"
             }
            },
            "header": {
             "fill": {
              "color": "#C8D4E3"
             },
             "line": {
              "color": "white"
             }
            },
            "type": "table"
           }
          ]
         },
         "layout": {
          "annotationdefaults": {
           "arrowcolor": "#2a3f5f",
           "arrowhead": 0,
           "arrowwidth": 1
          },
          "autotypenumbers": "strict",
          "coloraxis": {
           "colorbar": {
            "outlinewidth": 0,
            "ticks": ""
           }
          },
          "colorscale": {
           "diverging": [
            [
             0,
             "#8e0152"
            ],
            [
             0.1,
             "#c51b7d"
            ],
            [
             0.2,
             "#de77ae"
            ],
            [
             0.3,
             "#f1b6da"
            ],
            [
             0.4,
             "#fde0ef"
            ],
            [
             0.5,
             "#f7f7f7"
            ],
            [
             0.6,
             "#e6f5d0"
            ],
            [
             0.7,
             "#b8e186"
            ],
            [
             0.8,
             "#7fbc41"
            ],
            [
             0.9,
             "#4d9221"
            ],
            [
             1,
             "#276419"
            ]
           ],
           "sequential": [
            [
             0,
             "#0d0887"
            ],
            [
             0.1111111111111111,
             "#46039f"
            ],
            [
             0.2222222222222222,
             "#7201a8"
            ],
            [
             0.3333333333333333,
             "#9c179e"
            ],
            [
             0.4444444444444444,
             "#bd3786"
            ],
            [
             0.5555555555555556,
             "#d8576b"
            ],
            [
             0.6666666666666666,
             "#ed7953"
            ],
            [
             0.7777777777777778,
             "#fb9f3a"
            ],
            [
             0.8888888888888888,
             "#fdca26"
            ],
            [
             1,
             "#f0f921"
            ]
           ],
           "sequentialminus": [
            [
             0,
             "#0d0887"
            ],
            [
             0.1111111111111111,
             "#46039f"
            ],
            [
             0.2222222222222222,
             "#7201a8"
            ],
            [
             0.3333333333333333,
             "#9c179e"
            ],
            [
             0.4444444444444444,
             "#bd3786"
            ],
            [
             0.5555555555555556,
             "#d8576b"
            ],
            [
             0.6666666666666666,
             "#ed7953"
            ],
            [
             0.7777777777777778,
             "#fb9f3a"
            ],
            [
             0.8888888888888888,
             "#fdca26"
            ],
            [
             1,
             "#f0f921"
            ]
           ]
          },
          "colorway": [
           "#636efa",
           "#EF553B",
           "#00cc96",
           "#ab63fa",
           "#FFA15A",
           "#19d3f3",
           "#FF6692",
           "#B6E880",
           "#FF97FF",
           "#FECB52"
          ],
          "font": {
           "color": "#2a3f5f"
          },
          "geo": {
           "bgcolor": "white",
           "lakecolor": "white",
           "landcolor": "#E5ECF6",
           "showlakes": true,
           "showland": true,
           "subunitcolor": "white"
          },
          "hoverlabel": {
           "align": "left"
          },
          "hovermode": "closest",
          "mapbox": {
           "style": "light"
          },
          "paper_bgcolor": "white",
          "plot_bgcolor": "#E5ECF6",
          "polar": {
           "angularaxis": {
            "gridcolor": "white",
            "linecolor": "white",
            "ticks": ""
           },
           "bgcolor": "#E5ECF6",
           "radialaxis": {
            "gridcolor": "white",
            "linecolor": "white",
            "ticks": ""
           }
          },
          "scene": {
           "xaxis": {
            "backgroundcolor": "#E5ECF6",
            "gridcolor": "white",
            "gridwidth": 2,
            "linecolor": "white",
            "showbackground": true,
            "ticks": "",
            "zerolinecolor": "white"
           },
           "yaxis": {
            "backgroundcolor": "#E5ECF6",
            "gridcolor": "white",
            "gridwidth": 2,
            "linecolor": "white",
            "showbackground": true,
            "ticks": "",
            "zerolinecolor": "white"
           },
           "zaxis": {
            "backgroundcolor": "#E5ECF6",
            "gridcolor": "white",
            "gridwidth": 2,
            "linecolor": "white",
            "showbackground": true,
            "ticks": "",
            "zerolinecolor": "white"
           }
          },
          "shapedefaults": {
           "line": {
            "color": "#2a3f5f"
           }
          },
          "ternary": {
           "aaxis": {
            "gridcolor": "white",
            "linecolor": "white",
            "ticks": ""
           },
           "baxis": {
            "gridcolor": "white",
            "linecolor": "white",
            "ticks": ""
           },
           "bgcolor": "#E5ECF6",
           "caxis": {
            "gridcolor": "white",
            "linecolor": "white",
            "ticks": ""
           }
          },
          "title": {
           "x": 0.05
          },
          "xaxis": {
           "automargin": true,
           "gridcolor": "white",
           "linecolor": "white",
           "ticks": "",
           "title": {
            "standoff": 15
           },
           "zerolinecolor": "white",
           "zerolinewidth": 2
          },
          "yaxis": {
           "automargin": true,
           "gridcolor": "white",
           "linecolor": "white",
           "ticks": "",
           "title": {
            "standoff": 15
           },
           "zerolinecolor": "white",
           "zerolinewidth": 2
          }
         }
        },
        "title": {
         "text": "Work Suitability vs HP"
        },
        "xaxis": {
         "anchor": "y",
         "domain": [
          0,
          1
         ],
         "title": {
          "text": "Highest Work Suitability Level"
         }
        },
        "yaxis": {
         "anchor": "x",
         "domain": [
          0,
          1
         ],
         "title": {
          "text": "HP"
         }
        }
       }
      }
     },
     "metadata": {},
     "output_type": "display_data"
    }
   ],
   "source": [
    "# Replot the scatter plot with the fitted line\n",
    "fig1 = px.scatter(\n",
    "    pal_frame_vis.sort_values(by = \"Highest Work Suitability Level\", ascending = True),\n",
    "    x=\"Highest Work Suitability Level\",\n",
    "    y=\"HP\",\n",
    "    opacity = 0.3,\n",
    "    hover_data={\"ID\":True, \"Rarity\":True, \"Work Types\":True},\n",
    "    title=\"Work Suitability vs HP\"\n",
    ")\n",
    "\n",
    "fig1.add_scatter(\n",
    "    x=pal_frame_vis[\"Highest Work Suitability Level\"],\n",
    "    y=intercept + slope * pal_frame_vis[\"Highest Work Suitability Level\"],\n",
    "    mode=\"lines\",\n",
    "    name=\"Fitted Line\",\n",
    "    line=dict(color=\"red\", width=2)\n",
    ")\n",
    "fig1.show()"
   ]
  },
  {
   "cell_type": "markdown",
   "metadata": {},
   "source": [
    "#### Model 1 interpretation\n",
    "\n",
    "The fitted line shows a positive correlation between highest work suitability level and HP, indicating that Pals with a greater highest work suitability levels tend to also have higher HP. The slope of the line suggests that for each increase by 1 level of a Pal's best work skill, their HP increases by approximately 12 points.  The R2 value indicates how well the model explains the variance in HP based on work suitability level. Ours is low, being only about 0.4, or 40%. This is because there is a high variance in HP across all work levels, so although the correlation exists, it is not particularly strong."
   ]
  },
  {
   "cell_type": "markdown",
   "metadata": {},
   "source": [
    "### Model 2"
   ]
  },
  {
   "cell_type": "markdown",
   "metadata": {},
   "source": [
    "#### Model 2 discussion\n",
    "We wanted to see if HP and Defense can predict a Pal's rarity, to see if rarer Pals are generally more capable in battle. We chose to use a decision tree classifier. This lets us not only attempt to classify the Pals, but also creates a clean visual output of a tree plot. No preprocessing had to be done to the data beforehand."
   ]
  },
  {
   "cell_type": "code",
   "execution_count": 16,
   "metadata": {},
   "outputs": [
    {
     "name": "stdout",
     "output_type": "stream",
     "text": [
      "0.6622222222222223\n"
     ]
    },
    {
     "data": {
      "image/png": "[encoded data removed]",
      "text/plain": [
       "<Figure size 640x480 with 2 Axes>"
      ]
     },
     "metadata": {},
     "output_type": "display_data"
    },
    {
     "data": {
      "image/png": "[encoded data removed]",
      "text/plain": [
       "<Figure size 1800x800 with 1 Axes>"
      ]
     },
     "metadata": {},
     "output_type": "display_data"
    }
   ],
   "source": [
    "print(fit_dec_tree(pal_df, [\"HP\", \"Defense\"], \"Rarity\"))"
   ]
  },
  {
   "cell_type": "markdown",
   "metadata": {},
   "source": [
    "#### Model 2 interpretation\n",
    "The decision tree has an accuracy score of 66%, which is again only somewhat significant. This suggests that HP and defense alone are not correlated enough with rarity to accurately predict it. As the confusion matrix shows, the model tends to overpredict Rare and Epic pals, and out of the scarce 8 Legendary Pals, all of them were mispredicted. This likely means that the benefits offered by owning rarer Pals lies in their other statistics, potentially such as work capability."
   ]
  },
  {
   "cell_type": "markdown",
   "metadata": {},
   "source": [
    "### Model 3"
   ]
  },
  {
   "cell_type": "markdown",
   "metadata": {},
   "source": [
    "#### Model 3 discussion\n",
    "Considering that the other two models were shots in the dark based on what we guessed would be related values, we wanted to find out which of our scraped features were actually the best predictor of rarity. So, we decided to throw the entire data set into a random forest classifier so that we can see the feature importance in its output."
   ]
  },
  {
   "cell_type": "code",
   "execution_count": 17,
   "metadata": {},
   "outputs": [
    {
     "name": "stdout",
     "output_type": "stream",
     "text": [
      "0.6444444444444445\n"
     ]
    },
    {
     "data": {
      "image/png": "[encoded data removed]",
      "text/plain": [
       "<Figure size 640x480 with 2 Axes>"
      ]
     },
     "metadata": {},
     "output_type": "display_data"
    },
    {
     "data": {
      "image/png": "[encoded data removed]",
      "text/plain": [
       "<Figure size 500x1000 with 1 Axes>"
      ]
     },
     "metadata": {},
     "output_type": "display_data"
    }
   ],
   "source": [
    "x_feats = pal_df.columns[1:].drop(\"Rarity\")\n",
    "print(fit_random_forest(pal_df, x_feats, \"Rarity\"))"
   ]
  },
  {
   "cell_type": "markdown",
   "metadata": {},
   "source": [
    "#### Model 3 interpretation\n",
    "This model performed roughly the same as or worse than the single decision tree. It has the same misprediction tendencies as the tree, and its accuracy score hovers in the range of 60-65%, although this model is somewhat unstable and the score changes slightly every time the code is rerun. From the feature importance graph, we can see that HP and defense are actually the two most important predictors of rarity, meaning that our previous intuition was correct. There may still be other features more important than those two, but out of the ones we scraped, HP and defense are the most relevant."
   ]
  },
  {
   "cell_type": "markdown",
   "metadata": {},
   "source": [
    "## Discussion\n",
    "\n",
    "### Results and further work\n",
    "To conclude our research questions, we learned that the rarity of Pals is correlated more with their HP and defense statistics than with any of the other features we studied. Additionally, their work suitabilies are determined in large part by their element types, and the breadth of their suitabilities is largely unrelated to their rarity. None of the relationships we found between features were textbook-perfect, though, as is often the case for real-life data. In the future, it could be useful to scrape the rest of the Pals' battle statistics and analyze those with regards to rarity, in order to truly determine if HP is the best predictor of Pal rarity. Or, since our work generally focused on studying individual Pals and finding trends in their statistics, one could start trying to analyze the Pals in teams: For example, how can one build the team with the most diverse skillset and most power for the \"cheapest\" rarity.\n",
    "\n",
    "### Contributions\n",
    "- Sohum came up with the majority of our research questions and visualization ideas.\n",
    "- Bear wrote the web scraping functions.\n",
    "- Ansh and Bear wrote the data visualizations.\n",
    "- Sohum wrote the linear regression, and Bear wrote the decision tree and random forest.\n",
    "- Bear filled out the template.\n",
    "- Ansh put together the slideshow."
   ]
  }
 ],
 "metadata": {
  "kernelspec": {
   "display_name": "base",
   "language": "python",
   "name": "python3"
  },
  "language_info": {
   "codemirror_mode": {
    "name": "ipython",
    "version": 3
   },
   "file_extension": ".py",
   "mimetype": "text/x-python",
   "name": "python",
   "nbconvert_exporter": "python",
   "pygments_lexer": "ipython3",
   "version": "3.13.5"
  }
 },
 "nbformat": 4,
 "nbformat_minor": 4
}
