{
 "cells": [
  {
   "cell_type": "markdown",
   "metadata": {},
   "source": [
    "# DS 3000 HW 5 \n",
    "\n",
    "Due: Sunday July 20th @ 11:59 PM EST\n",
    "\n",
    "### Submission Instructions\n",
    "Submit this `ipynb` file and the a `PDF` file included with the coding results to Gradescope (this can also be done via the assignment on Canvas).  To ensure that your submitted files represent your latest code, make sure to give a fresh `Kernel > Restart & Run All` just before uploading the files to gradescope. \n",
    "\n",
    "**Notice that this is a group assignment. Each group only need to submit one copy and when you submit the work, please include everyone in your group.**\n",
    "\n",
    "### Tips for success\n",
    "- Start early\n",
    "- Make use of Piazza\n",
    "- Make use of Office hour\n",
    "- Remember to use cells and headings to make the notebook easy to read (if a grader cannot find the answer to a problem, you will receive no points for it)\n",
    "- Under no circumstances may one student view or share their ungraded homework or quiz with another student [(see also)](http://www.northeastern.edu/osccr/academic-integrity), though you are welcome to **talk about** (not show each other) the problems."
   ]
  },
  {
   "cell_type": "markdown",
   "metadata": {},
   "source": [
    "## Project proposal\n",
    "\n",
    "For this course, we aim to complete a data analysis project about the the game [Palworld](https://en.wikipedia.org/wiki/Palworld). To help you start with the project, here are a couple of things you need to consider and work on to get a clean data for later analysis. \n",
    "\n",
    "To start with the project, please take some time to get familiar with the game. You don't need to play it but please at least know the basic terminologies, like what is a Pal. (And also, if you do play it, please do not spend too much time on it.)\n",
    "\n",
    "The two recommended database is [https://palworld.gg/](https://palworld.gg/) and [https://paldb.cc/en/](https://paldb.cc/en/). You can use either, or both, or some other database about the Palworld. "
   ]
  },
  {
   "cell_type": "markdown",
   "metadata": {},
   "source": [
    "### Part 1.1 (10 points)\n",
    "\n",
    "1. Are a Pal's work suitability scores (like Kindling, Planting, etc.) related to their elemental type? For example, do Fire-type Pals tend to have higher Kindling scores?\n",
    "\n",
    "2. Which features (like element type, size, rarity) may affect a Pal's base power level and stats (HP, Attack, etc.)?\n",
    "\n",
    "3. Based on work suitability scores and element types, which Pals are most similar in terms of their utility for base building and resource gathering?\n"
   ]
  },
  {
   "cell_type": "markdown",
   "metadata": {},
   "source": []
  },
  {
   "cell_type": "markdown",
   "metadata": {},
   "source": [
    "### Part 1.2 (20 points)\n",
    "\n",
    "Based on the questions we proposed in the part 1.1, what features we may need to include in the analysis? Check the websites, which website has those information? **You need to pick at least 8 features for analysis.** We recommend a mix of numerical (numbers etc.) and categorical (level etc.) features. Is there any other features that you think it may be important but hard to extract or find on the website (can be something in or not in the game)?"
   ]
  },
  {
   "cell_type": "markdown",
   "metadata": {},
   "source": [
    "1. Number of Work Suitabilities: The number of different work types a Pal can perform (e.g., 1, 2, 3). This measures versatility and can be correlated with rarity or element type to determine if more versatile Pals are also rarer or stronger.\n",
    "2. Pal ID Number: A numerical identifier for each Pal (e.g., #100). Useful for indexing and dataset integrity, though not for direct analysis.\n",
    "3. Element Type: The elemental type(s) of the Pal (e.g., Fire, Earth, Dark, etc.). This is crucial for understanding how elemental types relate to work suitability and combat stats.\n",
    "4. Rarity: The rarity tier of the Pal (e.g., Common, Rare, Epic, Legendary). Can be used to analyze trends in strength, utility, or drop rates.\n",
    "5. Work Suitability Types: The kinds of work the Pal is suitable for (e.g., Handiwork, Mining, Transporting). These can help us study which work categories are most associated with certain elements or rarities.\n",
    "6. Work Suitability Levels: Numerical levels indicating how effective a Pal is at a certain task (e.g., Lv 4 Handiwork). Useful for quantitative comparisons.\n",
    "7. HP: The base health points of the Pal. Important for combat-related analysis and can be compared against element types and rarity.\n",
    "8. Defense: The Pal’s defensive stat. Like HP, this can be used to explore if stronger defensive Pals trend toward certain types or rarities."
   ]
  },
  {
   "cell_type": "markdown",
   "metadata": {},
   "source": [
    "### Part 1.3 (20 points)\n",
    "\n",
    "Suppose you do have all the features you mentioned in part 1.2. List 3-4 data visulizations you can make with those features. You do not need to make those visulizations here. Just describe the type of the visualizations (histogram, scatter plot etc. ), which features are involved, will there any hover data or color being added, and **discuss how these data visualizations may be related (or even answer) to your questions in part 1.1**. "
   ]
  },
  {
   "cell_type": "markdown",
   "metadata": {},
   "source": [
    "1. Scatter Plot – Work Suitability Level vs. HP\n",
    "- X-axis: Highest Work Suitability Level\n",
    "- Y-axis: HP\n",
    "- Color: Element Type\n",
    "- Hover Info: Pal ID, Rarity, Work Types\n",
    "- Why: To see if there’s a tradeoff between combat readiness (HP) and labor value (work level). Helps address question 1: Do elemental types affect work suitability scores?\n",
    "2. Grouped Bar Chart – Average Work Suitability Level by Element Type\n",
    "- X-axis: Element Types\n",
    "- Y-axis: Avg Work Level (split by work type: Mining, Transport, etc.)\n",
    "- Color: Work Type\n",
    "- Why: This directly addresses question 1 and 3 — seeing if, say, Fire-types are better at Kindling or if Water-types are better at Cooling.\n",
    "3. Heatmap – Rarity vs. Number of Work Suitabilities\n",
    "- Axes: Rarity (Y) × Number of Work Suitabilities (X)\n",
    "- Color: Frequency (how many Pals fall into each combination)\n",
    "- Why: Helps answer: Are rarer Pals more versatile? This addresses the updated feature 1 and part of question 2.\n",
    "4. Boxplot – HP and Defense Distribution by Rarity\n",
    "- X-axis: Rarity\n",
    "- Y-axis: HP or Defense\n",
    "- Color: Element Type (optional)\n",
    "- Why: To examine the relationship between rarity and battle strength. This supports question 2 — How do different features (like rarity or element) affect base stats?"
   ]
  },
  {
   "cell_type": "markdown",
   "metadata": {},
   "source": [
    "### Part 1.4  (50 points)\n",
    "\n",
    "Now, go ahead and try to scrape the features you need. \n",
    "\n",
    "Please show all the codes you have for web scrapping. Your current output data frame should include at least 4 features. (You do not need to scrape all features at this moment, although it is recommend to start earlier. Also, you can choose to not to use the ones you have scraped in the later analysis. No need to worry if you need to change anything later). **Please design your code in pipeline and clearly document each function.** See the Python Style Guide in Week 1 for proper documentation. It is also recommended to save the data you have scrapped."
   ]
  },
  {
   "cell_type": "code",
   "execution_count": null,
   "metadata": {},
   "outputs": [],
   "source": []
  },
  {
   "cell_type": "markdown",
   "metadata": {},
   "source": [
    "Note: The above code is a template and you'll need to adjust the class names and HTML structure according to the actual website you're scraping (palworld.gg or paldb.cc). The key is to get data for all Pals at once to enable meaningful analysis later.\n"
   ]
  },
  {
   "cell_type": "code",
   "execution_count": 11,
   "metadata": {
    "ExecuteTime": {
     "end_time": "2025-07-17T17:25:48.117012Z",
     "start_time": "2025-07-17T17:25:47.603263Z"
    }
   },
   "outputs": [
    {
     "data": {
      "text/html": [
       "<div>\n",
       "<style scoped>\n",
       "    .dataframe tbody tr th:only-of-type {\n",
       "        vertical-align: middle;\n",
       "    }\n",
       "\n",
       "    .dataframe tbody tr th {\n",
       "        vertical-align: top;\n",
       "    }\n",
       "\n",
       "    .dataframe thead th {\n",
       "        text-align: right;\n",
       "    }\n",
       "</style>\n",
       "<table border=\"1\" class=\"dataframe\">\n",
       "  <thead>\n",
       "    <tr style=\"text-align: right;\">\n",
       "      <th></th>\n",
       "      <th>ID</th>\n",
       "    </tr>\n",
       "  </thead>\n",
       "  <tbody>\n",
       "    <tr>\n",
       "      <th>Anubis</th>\n",
       "      <td>#100</td>\n",
       "    </tr>\n",
       "    <tr>\n",
       "      <th>Arsox</th>\n",
       "      <td>#42</td>\n",
       "    </tr>\n",
       "    <tr>\n",
       "      <th>Astegon</th>\n",
       "      <td>#98</td>\n",
       "    </tr>\n",
       "    <tr>\n",
       "      <th>Azurmane</th>\n",
       "      <td>#136</td>\n",
       "    </tr>\n",
       "    <tr>\n",
       "      <th>Azurobe</th>\n",
       "      <td>#82</td>\n",
       "    </tr>\n",
       "    <tr>\n",
       "      <th>...</th>\n",
       "      <td>...</td>\n",
       "    </tr>\n",
       "    <tr>\n",
       "      <th>Wumpo Botan</th>\n",
       "      <td>#91</td>\n",
       "    </tr>\n",
       "    <tr>\n",
       "      <th>Xenogard</th>\n",
       "      <td>#126</td>\n",
       "    </tr>\n",
       "    <tr>\n",
       "      <th>Xenolord</th>\n",
       "      <td>#127</td>\n",
       "    </tr>\n",
       "    <tr>\n",
       "      <th>Xenovader</th>\n",
       "      <td>#125</td>\n",
       "    </tr>\n",
       "    <tr>\n",
       "      <th>Yakumo</th>\n",
       "      <td>#121</td>\n",
       "    </tr>\n",
       "  </tbody>\n",
       "</table>\n",
       "<p>225 rows × 1 columns</p>\n",
       "</div>"
      ],
      "text/plain": [
       "               ID\n",
       "Anubis       #100\n",
       "Arsox         #42\n",
       "Astegon       #98\n",
       "Azurmane     #136\n",
       "Azurobe       #82\n",
       "...           ...\n",
       "Wumpo Botan   #91\n",
       "Xenogard     #126\n",
       "Xenolord     #127\n",
       "Xenovader    #125\n",
       "Yakumo       #121\n",
       "\n",
       "[225 rows x 1 columns]"
      ]
     },
     "execution_count": 11,
     "metadata": {},
     "output_type": "execute_result"
    }
   ],
   "source": [
    "# scrape palID\n",
    "import requests\n",
    "from bs4 import BeautifulSoup\n",
    "import pandas as pd\n",
    "import seaborn as sns\n",
    "import plotly.express as px\n",
    "\n",
    "def scrape_pal_ids(url):\n",
    "    \"\"\"\n",
    "    Scrape Pal IDs from the given URL.\n",
    "\n",
    "    Args:\n",
    "        url (str): The URL of the Palworld database page.\n",
    "\n",
    "    Returns:\n",
    "        DataFrame: A dataFrame of Pal names and IDs.\n",
    "    \"\"\"\n",
    "    response = requests.get(url).text\n",
    "    soup = BeautifulSoup(response)\n",
    "\n",
    "    # Find all Pal ID elements\n",
    "    pal_dict = {}\n",
    "    for pal in soup.find_all(\"div\", class_ = \"pal\"):\n",
    "\n",
    "        # Remove empty Pal entries.\n",
    "        if pal.attrs[\"style\"] == \"display:none;\":\n",
    "            continue\n",
    "\n",
    "        # Get the ID and name of the Pal and add them to the dictionary.\n",
    "        pal_id_element = pal.find('span', class_='index').text.strip()\n",
    "        pal_dict[pal.find(\"div\", class_ = \"name\").next_element.strip()] = pal_id_element\n",
    "\n",
    "    # Convert the dictionary to a DataFrame before returning it.\n",
    "    return pd.DataFrame().from_dict(pal_dict, orient = \"index\", columns = [\"ID\"])\n",
    "\n",
    "pal_frame = scrape_pal_ids(\"https://palworld.gg/pals\")\n",
    "pal_frame"
   ]
  },
  {
   "cell_type": "code",
   "execution_count": 12,
   "metadata": {},
   "outputs": [
    {
     "data": {
      "text/html": [
       "<div>\n",
       "<style scoped>\n",
       "    .dataframe tbody tr th:only-of-type {\n",
       "        vertical-align: middle;\n",
       "    }\n",
       "\n",
       "    .dataframe tbody tr th {\n",
       "        vertical-align: top;\n",
       "    }\n",
       "\n",
       "    .dataframe thead th {\n",
       "        text-align: right;\n",
       "    }\n",
       "</style>\n",
       "<table border=\"1\" class=\"dataframe\">\n",
       "  <thead>\n",
       "    <tr style=\"text-align: right;\">\n",
       "      <th></th>\n",
       "      <th>ID</th>\n",
       "      <th>Rarity</th>\n",
       "    </tr>\n",
       "  </thead>\n",
       "  <tbody>\n",
       "    <tr>\n",
       "      <th>Anubis</th>\n",
       "      <td>#100</td>\n",
       "      <td>Epic</td>\n",
       "    </tr>\n",
       "    <tr>\n",
       "      <th>Arsox</th>\n",
       "      <td>#42</td>\n",
       "      <td>Common</td>\n",
       "    </tr>\n",
       "    <tr>\n",
       "      <th>Astegon</th>\n",
       "      <td>#98</td>\n",
       "      <td>Epic</td>\n",
       "    </tr>\n",
       "    <tr>\n",
       "      <th>Azurmane</th>\n",
       "      <td>#136</td>\n",
       "      <td>Rare</td>\n",
       "    </tr>\n",
       "    <tr>\n",
       "      <th>Azurobe</th>\n",
       "      <td>#82</td>\n",
       "      <td>Rare</td>\n",
       "    </tr>\n",
       "    <tr>\n",
       "      <th>...</th>\n",
       "      <td>...</td>\n",
       "      <td>...</td>\n",
       "    </tr>\n",
       "    <tr>\n",
       "      <th>Wumpo Botan</th>\n",
       "      <td>#91</td>\n",
       "      <td>Epic</td>\n",
       "    </tr>\n",
       "    <tr>\n",
       "      <th>Xenogard</th>\n",
       "      <td>#126</td>\n",
       "      <td>Epic</td>\n",
       "    </tr>\n",
       "    <tr>\n",
       "      <th>Xenolord</th>\n",
       "      <td>#127</td>\n",
       "      <td>Epic</td>\n",
       "    </tr>\n",
       "    <tr>\n",
       "      <th>Xenovader</th>\n",
       "      <td>#125</td>\n",
       "      <td>Rare</td>\n",
       "    </tr>\n",
       "    <tr>\n",
       "      <th>Yakumo</th>\n",
       "      <td>#121</td>\n",
       "      <td>Common</td>\n",
       "    </tr>\n",
       "  </tbody>\n",
       "</table>\n",
       "<p>225 rows × 2 columns</p>\n",
       "</div>"
      ],
      "text/plain": [
       "               ID  Rarity\n",
       "Anubis       #100    Epic\n",
       "Arsox         #42  Common\n",
       "Astegon       #98    Epic\n",
       "Azurmane     #136    Rare\n",
       "Azurobe       #82    Rare\n",
       "...           ...     ...\n",
       "Wumpo Botan   #91    Epic\n",
       "Xenogard     #126    Epic\n",
       "Xenolord     #127    Epic\n",
       "Xenovader    #125    Rare\n",
       "Yakumo       #121  Common\n",
       "\n",
       "[225 rows x 2 columns]"
      ]
     },
     "execution_count": 12,
     "metadata": {},
     "output_type": "execute_result"
    }
   ],
   "source": [
    "# Scrape the rarity of all the Pals\n",
    "def scrape_pal_rarity(pal_df, url = \"https://palworld.gg/pals\"):\n",
    "    \"\"\"\n",
    "    Scrape the rarity of each Pal listed in the database.\n",
    "\n",
    "    Args:\n",
    "        url (str): The URL of the database page, assumed to be the current link unless otherwise specified.\n",
    "        pal_df (DataFrame): The DataFrame of Pal data to update.\n",
    "\n",
    "    Returns:\n",
    "        pal_df (DataFrame): The DataFrame given, with the rarity of each Pal added under a new column.\n",
    "    \"\"\"\n",
    "    soup = BeautifulSoup(requests.get(url).text)\n",
    "\n",
    "    # Find all Pals, then find each of their rarities.\n",
    "    pal_tag = soup.find_all(\"div\", class_ = \"pal\")\n",
    "    for pal in pal_tag:\n",
    "\n",
    "        # Remove empty Pal entries.\n",
    "        if pal.attrs[\"style\"] == \"display:none;\":\n",
    "            continue\n",
    "\n",
    "        # The \"name\" class is used twice in each Pal entry, first for their name, then for their rarity.\n",
    "        name_class = pal.find_all(\"div\", class_ = \"name\")\n",
    "        # (Using next_element here rather than .text to avoid also getting the text from the nested children.)\n",
    "        # Add the rarity of the Pal to the DataFrame under its name.\n",
    "        pal_df.loc[name_class[0].next_element.strip(), \"Rarity\"] = name_class[1].next_element\n",
    "\n",
    "    return pal_df\n",
    "\n",
    "\n",
    "pal_frame = scrape_pal_rarity(pal_frame)\n",
    "pal_frame"
   ]
  },
  {
   "cell_type": "code",
   "execution_count": 13,
   "metadata": {},
   "outputs": [
    {
     "data": {
      "text/html": [
       "<div>\n",
       "<style scoped>\n",
       "    .dataframe tbody tr th:only-of-type {\n",
       "        vertical-align: middle;\n",
       "    }\n",
       "\n",
       "    .dataframe tbody tr th {\n",
       "        vertical-align: top;\n",
       "    }\n",
       "\n",
       "    .dataframe thead th {\n",
       "        text-align: right;\n",
       "    }\n",
       "</style>\n",
       "<table border=\"1\" class=\"dataframe\">\n",
       "  <thead>\n",
       "    <tr style=\"text-align: right;\">\n",
       "      <th></th>\n",
       "      <th>ID</th>\n",
       "      <th>Rarity</th>\n",
       "      <th>Earth</th>\n",
       "      <th>Fire</th>\n",
       "      <th>Dragon</th>\n",
       "      <th>Dark</th>\n",
       "      <th>Electricity</th>\n",
       "      <th>Water</th>\n",
       "      <th>Ice</th>\n",
       "      <th>Leaf</th>\n",
       "      <th>Normal</th>\n",
       "    </tr>\n",
       "  </thead>\n",
       "  <tbody>\n",
       "    <tr>\n",
       "      <th>Anubis</th>\n",
       "      <td>#100</td>\n",
       "      <td>Epic</td>\n",
       "      <td>True</td>\n",
       "      <td>False</td>\n",
       "      <td>False</td>\n",
       "      <td>False</td>\n",
       "      <td>False</td>\n",
       "      <td>False</td>\n",
       "      <td>False</td>\n",
       "      <td>False</td>\n",
       "      <td>False</td>\n",
       "    </tr>\n",
       "    <tr>\n",
       "      <th>Arsox</th>\n",
       "      <td>#42</td>\n",
       "      <td>Common</td>\n",
       "      <td>False</td>\n",
       "      <td>True</td>\n",
       "      <td>False</td>\n",
       "      <td>False</td>\n",
       "      <td>False</td>\n",
       "      <td>False</td>\n",
       "      <td>False</td>\n",
       "      <td>False</td>\n",
       "      <td>False</td>\n",
       "    </tr>\n",
       "    <tr>\n",
       "      <th>Astegon</th>\n",
       "      <td>#98</td>\n",
       "      <td>Epic</td>\n",
       "      <td>False</td>\n",
       "      <td>False</td>\n",
       "      <td>True</td>\n",
       "      <td>True</td>\n",
       "      <td>False</td>\n",
       "      <td>False</td>\n",
       "      <td>False</td>\n",
       "      <td>False</td>\n",
       "      <td>False</td>\n",
       "    </tr>\n",
       "    <tr>\n",
       "      <th>Azurmane</th>\n",
       "      <td>#136</td>\n",
       "      <td>Rare</td>\n",
       "      <td>False</td>\n",
       "      <td>False</td>\n",
       "      <td>False</td>\n",
       "      <td>False</td>\n",
       "      <td>True</td>\n",
       "      <td>False</td>\n",
       "      <td>False</td>\n",
       "      <td>False</td>\n",
       "      <td>False</td>\n",
       "    </tr>\n",
       "    <tr>\n",
       "      <th>Azurobe</th>\n",
       "      <td>#82</td>\n",
       "      <td>Rare</td>\n",
       "      <td>False</td>\n",
       "      <td>False</td>\n",
       "      <td>True</td>\n",
       "      <td>False</td>\n",
       "      <td>False</td>\n",
       "      <td>True</td>\n",
       "      <td>False</td>\n",
       "      <td>False</td>\n",
       "      <td>False</td>\n",
       "    </tr>\n",
       "    <tr>\n",
       "      <th>...</th>\n",
       "      <td>...</td>\n",
       "      <td>...</td>\n",
       "      <td>...</td>\n",
       "      <td>...</td>\n",
       "      <td>...</td>\n",
       "      <td>...</td>\n",
       "      <td>...</td>\n",
       "      <td>...</td>\n",
       "      <td>...</td>\n",
       "      <td>...</td>\n",
       "      <td>...</td>\n",
       "    </tr>\n",
       "    <tr>\n",
       "      <th>Wumpo Botan</th>\n",
       "      <td>#91</td>\n",
       "      <td>Epic</td>\n",
       "      <td>False</td>\n",
       "      <td>False</td>\n",
       "      <td>False</td>\n",
       "      <td>False</td>\n",
       "      <td>False</td>\n",
       "      <td>False</td>\n",
       "      <td>False</td>\n",
       "      <td>True</td>\n",
       "      <td>False</td>\n",
       "    </tr>\n",
       "    <tr>\n",
       "      <th>Xenogard</th>\n",
       "      <td>#126</td>\n",
       "      <td>Epic</td>\n",
       "      <td>False</td>\n",
       "      <td>False</td>\n",
       "      <td>True</td>\n",
       "      <td>False</td>\n",
       "      <td>False</td>\n",
       "      <td>False</td>\n",
       "      <td>False</td>\n",
       "      <td>False</td>\n",
       "      <td>False</td>\n",
       "    </tr>\n",
       "    <tr>\n",
       "      <th>Xenolord</th>\n",
       "      <td>#127</td>\n",
       "      <td>Epic</td>\n",
       "      <td>False</td>\n",
       "      <td>False</td>\n",
       "      <td>True</td>\n",
       "      <td>True</td>\n",
       "      <td>False</td>\n",
       "      <td>False</td>\n",
       "      <td>False</td>\n",
       "      <td>False</td>\n",
       "      <td>False</td>\n",
       "    </tr>\n",
       "    <tr>\n",
       "      <th>Xenovader</th>\n",
       "      <td>#125</td>\n",
       "      <td>Rare</td>\n",
       "      <td>False</td>\n",
       "      <td>False</td>\n",
       "      <td>False</td>\n",
       "      <td>True</td>\n",
       "      <td>False</td>\n",
       "      <td>False</td>\n",
       "      <td>False</td>\n",
       "      <td>False</td>\n",
       "      <td>False</td>\n",
       "    </tr>\n",
       "    <tr>\n",
       "      <th>Yakumo</th>\n",
       "      <td>#121</td>\n",
       "      <td>Common</td>\n",
       "      <td>False</td>\n",
       "      <td>False</td>\n",
       "      <td>False</td>\n",
       "      <td>False</td>\n",
       "      <td>False</td>\n",
       "      <td>False</td>\n",
       "      <td>False</td>\n",
       "      <td>False</td>\n",
       "      <td>True</td>\n",
       "    </tr>\n",
       "  </tbody>\n",
       "</table>\n",
       "<p>225 rows × 11 columns</p>\n",
       "</div>"
      ],
      "text/plain": [
       "               ID  Rarity  Earth   Fire Dragon   Dark Electricity  Water  \\\n",
       "Anubis       #100    Epic   True  False  False  False       False  False   \n",
       "Arsox         #42  Common  False   True  False  False       False  False   \n",
       "Astegon       #98    Epic  False  False   True   True       False  False   \n",
       "Azurmane     #136    Rare  False  False  False  False        True  False   \n",
       "Azurobe       #82    Rare  False  False   True  False       False   True   \n",
       "...           ...     ...    ...    ...    ...    ...         ...    ...   \n",
       "Wumpo Botan   #91    Epic  False  False  False  False       False  False   \n",
       "Xenogard     #126    Epic  False  False   True  False       False  False   \n",
       "Xenolord     #127    Epic  False  False   True   True       False  False   \n",
       "Xenovader    #125    Rare  False  False  False   True       False  False   \n",
       "Yakumo       #121  Common  False  False  False  False       False  False   \n",
       "\n",
       "               Ice   Leaf Normal  \n",
       "Anubis       False  False  False  \n",
       "Arsox        False  False  False  \n",
       "Astegon      False  False  False  \n",
       "Azurmane     False  False  False  \n",
       "Azurobe      False  False  False  \n",
       "...            ...    ...    ...  \n",
       "Wumpo Botan  False   True  False  \n",
       "Xenogard     False  False  False  \n",
       "Xenolord     False  False  False  \n",
       "Xenovader    False  False  False  \n",
       "Yakumo       False  False   True  \n",
       "\n",
       "[225 rows x 11 columns]"
      ]
     },
     "execution_count": 13,
     "metadata": {},
     "output_type": "execute_result"
    }
   ],
   "source": [
    "# Scrape the elements of the Pals\n",
    "def scrape_pal_elements(pal_df, url = \"https://palworld.gg/pals\"):\n",
    "    \"\"\"\n",
    "    Scrape the element or elements of each Pal listed in the database.\n",
    "\n",
    "    Args:\n",
    "        url (str): The URL of the database page, assumed to be the current link unless otherwise specified.\n",
    "        pal_df (DataFrame): The DataFrame of Pal data to update.\n",
    "\n",
    "    Returns:\n",
    "        pal_df (DataFrame): The DataFrame given, with a dummy variable added for each element,\n",
    "        True meaning that a Pal does belong to them and False for not.\n",
    "    \"\"\"\n",
    "    soup = BeautifulSoup(requests.get(url).text)\n",
    "\n",
    "    # Find each Pal entry.\n",
    "    pal_tag = soup.find_all(\"div\", class_ = \"pal\")\n",
    "    for pal in pal_tag:\n",
    "        # Remove empty Pal entries.\n",
    "        if pal.attrs[\"style\"] == \"display:none;\":\n",
    "            continue\n",
    "\n",
    "        # Load the individual entry page for the Pal.\n",
    "        pal_page = requests.get(\"https://palworld.gg\" + pal.a.attrs[\"href\"]).text\n",
    "        pal_soup = BeautifulSoup(pal_page)\n",
    "\n",
    "        # Scrape the Pal's name.\n",
    "        pal_name = pal_soup.find(\"h1\", class_ = \"name\").text.strip()\n",
    "\n",
    "        # Initialize all the element column values for this Pal to False, as none have been found yet.\n",
    "        pal_df.loc[pal_name, [\"Earth\", \"Fire\", \"Dragon\", \"Dark\", \"Electricity\", \"Water\", \"Ice\", \"Leaf\", \"Normal\"]] = False\n",
    "\n",
    "        # Scrape the elements of the Pal.\n",
    "        pal_elems_tags = pal_soup.find(\"div\", class_ = \"elements\").find_all(\"div\", class_ = \"name\")\n",
    "        for tag in pal_elems_tags:\n",
    "            # For each found element, change the Pal's value in the corresponding column to True.\n",
    "            pal_df.loc[pal_name, tag.text] = True\n",
    "        \n",
    "    return pal_df\n",
    "\n",
    "pal_frame = scrape_pal_elements(pal_frame)\n",
    "pal_frame"
   ]
  },
  {
   "cell_type": "code",
   "execution_count": 14,
   "metadata": {},
   "outputs": [],
   "source": [
    "# Create Element Type column from one-hot element columns\n",
    "element_cols = [\"Earth\", \"Fire\", \"Dragon\", \"Dark\", \"Electricity\", \"Water\", \"Ice\", \"Leaf\", \"Normal\"]\n",
    "\n",
    "def get_element_type(row):\n",
    "    for col in element_cols:\n",
    "        if col in row.index and row[col] > 0:\n",
    "            return col\n",
    "    return \"Unknown\"\n",
    "\n",
    "pal_frame[\"Element Type\"] = pal_frame.apply(get_element_type, axis=1)\n",
    "\n",
    "# Define fixed colors for each element\n",
    "element_colors = {\n",
    "    \"Earth\": \"#8B4513\",        # SaddleBrown\n",
    "    \"Fire\": \"#FF4500\",         # OrangeRed\n",
    "    \"Dragon\": \"#800080\",       # Purple\n",
    "    \"Dark\": \"#2F4F4F\",         # DarkSlateGray\n",
    "    \"Electricity\": \"#FFD700\",  # Gold\n",
    "    \"Water\": \"#1E90FF\",        # DodgerBlue\n",
    "    \"Ice\": \"#00CED1\",          # DarkTurquoise\n",
    "    \"Leaf\": \"#228B22\",         # ForestGreen\n",
    "    \"Normal\": \"#A9A9A9\",       # DarkGray\n",
    "    \"Unknown\": \"#808080\"       # Gray\n",
    "}\n",
    "p"
   ]
  },
  {
   "cell_type": "code",
   "execution_count": 15,
   "metadata": {},
   "outputs": [
    {
     "data": {
      "text/html": [
       "<div>\n",
       "<style scoped>\n",
       "    .dataframe tbody tr th:only-of-type {\n",
       "        vertical-align: middle;\n",
       "    }\n",
       "\n",
       "    .dataframe tbody tr th {\n",
       "        vertical-align: top;\n",
       "    }\n",
       "\n",
       "    .dataframe thead th {\n",
       "        text-align: right;\n",
       "    }\n",
       "</style>\n",
       "<table border=\"1\" class=\"dataframe\">\n",
       "  <thead>\n",
       "    <tr style=\"text-align: right;\">\n",
       "      <th></th>\n",
       "      <th>ID</th>\n",
       "      <th>Rarity</th>\n",
       "      <th>Earth</th>\n",
       "      <th>Fire</th>\n",
       "      <th>Dragon</th>\n",
       "      <th>Dark</th>\n",
       "      <th>Electricity</th>\n",
       "      <th>Water</th>\n",
       "      <th>Ice</th>\n",
       "      <th>Leaf</th>\n",
       "      <th>...</th>\n",
       "      <th>Number of work suitabilities</th>\n",
       "      <th>Deforesting</th>\n",
       "      <th>Kindling</th>\n",
       "      <th>Gathering</th>\n",
       "      <th>Generating Electricity</th>\n",
       "      <th>Watering</th>\n",
       "      <th>Cooling</th>\n",
       "      <th>Farming</th>\n",
       "      <th>Medicine Production</th>\n",
       "      <th>Planting</th>\n",
       "    </tr>\n",
       "  </thead>\n",
       "  <tbody>\n",
       "    <tr>\n",
       "      <th>Anubis</th>\n",
       "      <td>#100</td>\n",
       "      <td>Epic</td>\n",
       "      <td>True</td>\n",
       "      <td>False</td>\n",
       "      <td>False</td>\n",
       "      <td>False</td>\n",
       "      <td>False</td>\n",
       "      <td>False</td>\n",
       "      <td>False</td>\n",
       "      <td>False</td>\n",
       "      <td>...</td>\n",
       "      <td>3.0</td>\n",
       "      <td>NaN</td>\n",
       "      <td>NaN</td>\n",
       "      <td>NaN</td>\n",
       "      <td>NaN</td>\n",
       "      <td>NaN</td>\n",
       "      <td>NaN</td>\n",
       "      <td>NaN</td>\n",
       "      <td>NaN</td>\n",
       "      <td>NaN</td>\n",
       "    </tr>\n",
       "    <tr>\n",
       "      <th>Arsox</th>\n",
       "      <td>#42</td>\n",
       "      <td>Common</td>\n",
       "      <td>False</td>\n",
       "      <td>True</td>\n",
       "      <td>False</td>\n",
       "      <td>False</td>\n",
       "      <td>False</td>\n",
       "      <td>False</td>\n",
       "      <td>False</td>\n",
       "      <td>False</td>\n",
       "      <td>...</td>\n",
       "      <td>2.0</td>\n",
       "      <td>1</td>\n",
       "      <td>2</td>\n",
       "      <td>NaN</td>\n",
       "      <td>NaN</td>\n",
       "      <td>NaN</td>\n",
       "      <td>NaN</td>\n",
       "      <td>NaN</td>\n",
       "      <td>NaN</td>\n",
       "      <td>NaN</td>\n",
       "    </tr>\n",
       "    <tr>\n",
       "      <th>Astegon</th>\n",
       "      <td>#98</td>\n",
       "      <td>Epic</td>\n",
       "      <td>False</td>\n",
       "      <td>False</td>\n",
       "      <td>True</td>\n",
       "      <td>True</td>\n",
       "      <td>False</td>\n",
       "      <td>False</td>\n",
       "      <td>False</td>\n",
       "      <td>False</td>\n",
       "      <td>...</td>\n",
       "      <td>2.0</td>\n",
       "      <td>NaN</td>\n",
       "      <td>NaN</td>\n",
       "      <td>NaN</td>\n",
       "      <td>NaN</td>\n",
       "      <td>NaN</td>\n",
       "      <td>NaN</td>\n",
       "      <td>NaN</td>\n",
       "      <td>NaN</td>\n",
       "      <td>NaN</td>\n",
       "    </tr>\n",
       "    <tr>\n",
       "      <th>Azurmane</th>\n",
       "      <td>#136</td>\n",
       "      <td>Rare</td>\n",
       "      <td>False</td>\n",
       "      <td>False</td>\n",
       "      <td>False</td>\n",
       "      <td>False</td>\n",
       "      <td>True</td>\n",
       "      <td>False</td>\n",
       "      <td>False</td>\n",
       "      <td>False</td>\n",
       "      <td>...</td>\n",
       "      <td>2.0</td>\n",
       "      <td>NaN</td>\n",
       "      <td>NaN</td>\n",
       "      <td>1</td>\n",
       "      <td>4</td>\n",
       "      <td>NaN</td>\n",
       "      <td>NaN</td>\n",
       "      <td>NaN</td>\n",
       "      <td>NaN</td>\n",
       "      <td>NaN</td>\n",
       "    </tr>\n",
       "    <tr>\n",
       "      <th>Azurobe</th>\n",
       "      <td>#82</td>\n",
       "      <td>Rare</td>\n",
       "      <td>False</td>\n",
       "      <td>False</td>\n",
       "      <td>True</td>\n",
       "      <td>False</td>\n",
       "      <td>False</td>\n",
       "      <td>True</td>\n",
       "      <td>False</td>\n",
       "      <td>False</td>\n",
       "      <td>...</td>\n",
       "      <td>1.0</td>\n",
       "      <td>NaN</td>\n",
       "      <td>NaN</td>\n",
       "      <td>NaN</td>\n",
       "      <td>NaN</td>\n",
       "      <td>3</td>\n",
       "      <td>NaN</td>\n",
       "      <td>NaN</td>\n",
       "      <td>NaN</td>\n",
       "      <td>NaN</td>\n",
       "    </tr>\n",
       "    <tr>\n",
       "      <th>...</th>\n",
       "      <td>...</td>\n",
       "      <td>...</td>\n",
       "      <td>...</td>\n",
       "      <td>...</td>\n",
       "      <td>...</td>\n",
       "      <td>...</td>\n",
       "      <td>...</td>\n",
       "      <td>...</td>\n",
       "      <td>...</td>\n",
       "      <td>...</td>\n",
       "      <td>...</td>\n",
       "      <td>...</td>\n",
       "      <td>...</td>\n",
       "      <td>...</td>\n",
       "      <td>...</td>\n",
       "      <td>...</td>\n",
       "      <td>...</td>\n",
       "      <td>...</td>\n",
       "      <td>...</td>\n",
       "      <td>...</td>\n",
       "      <td>...</td>\n",
       "    </tr>\n",
       "    <tr>\n",
       "      <th>Wumpo Botan</th>\n",
       "      <td>#91</td>\n",
       "      <td>Epic</td>\n",
       "      <td>False</td>\n",
       "      <td>False</td>\n",
       "      <td>False</td>\n",
       "      <td>False</td>\n",
       "      <td>False</td>\n",
       "      <td>False</td>\n",
       "      <td>False</td>\n",
       "      <td>True</td>\n",
       "      <td>...</td>\n",
       "      <td>4.0</td>\n",
       "      <td>3</td>\n",
       "      <td>NaN</td>\n",
       "      <td>NaN</td>\n",
       "      <td>NaN</td>\n",
       "      <td>NaN</td>\n",
       "      <td>NaN</td>\n",
       "      <td>NaN</td>\n",
       "      <td>NaN</td>\n",
       "      <td>1</td>\n",
       "    </tr>\n",
       "    <tr>\n",
       "      <th>Xenogard</th>\n",
       "      <td>#126</td>\n",
       "      <td>Epic</td>\n",
       "      <td>False</td>\n",
       "      <td>False</td>\n",
       "      <td>True</td>\n",
       "      <td>False</td>\n",
       "      <td>False</td>\n",
       "      <td>False</td>\n",
       "      <td>False</td>\n",
       "      <td>False</td>\n",
       "      <td>...</td>\n",
       "      <td>1.0</td>\n",
       "      <td>NaN</td>\n",
       "      <td>NaN</td>\n",
       "      <td>NaN</td>\n",
       "      <td>NaN</td>\n",
       "      <td>NaN</td>\n",
       "      <td>NaN</td>\n",
       "      <td>NaN</td>\n",
       "      <td>NaN</td>\n",
       "      <td>NaN</td>\n",
       "    </tr>\n",
       "    <tr>\n",
       "      <th>Xenolord</th>\n",
       "      <td>#127</td>\n",
       "      <td>Epic</td>\n",
       "      <td>False</td>\n",
       "      <td>False</td>\n",
       "      <td>True</td>\n",
       "      <td>True</td>\n",
       "      <td>False</td>\n",
       "      <td>False</td>\n",
       "      <td>False</td>\n",
       "      <td>False</td>\n",
       "      <td>...</td>\n",
       "      <td>1.0</td>\n",
       "      <td>NaN</td>\n",
       "      <td>NaN</td>\n",
       "      <td>1</td>\n",
       "      <td>NaN</td>\n",
       "      <td>NaN</td>\n",
       "      <td>NaN</td>\n",
       "      <td>NaN</td>\n",
       "      <td>NaN</td>\n",
       "      <td>NaN</td>\n",
       "    </tr>\n",
       "    <tr>\n",
       "      <th>Xenovader</th>\n",
       "      <td>#125</td>\n",
       "      <td>Rare</td>\n",
       "      <td>False</td>\n",
       "      <td>False</td>\n",
       "      <td>False</td>\n",
       "      <td>True</td>\n",
       "      <td>False</td>\n",
       "      <td>False</td>\n",
       "      <td>False</td>\n",
       "      <td>False</td>\n",
       "      <td>...</td>\n",
       "      <td>2.0</td>\n",
       "      <td>2</td>\n",
       "      <td>NaN</td>\n",
       "      <td>NaN</td>\n",
       "      <td>NaN</td>\n",
       "      <td>NaN</td>\n",
       "      <td>NaN</td>\n",
       "      <td>NaN</td>\n",
       "      <td>NaN</td>\n",
       "      <td>NaN</td>\n",
       "    </tr>\n",
       "    <tr>\n",
       "      <th>Yakumo</th>\n",
       "      <td>#121</td>\n",
       "      <td>Common</td>\n",
       "      <td>False</td>\n",
       "      <td>False</td>\n",
       "      <td>False</td>\n",
       "      <td>False</td>\n",
       "      <td>False</td>\n",
       "      <td>False</td>\n",
       "      <td>False</td>\n",
       "      <td>False</td>\n",
       "      <td>...</td>\n",
       "      <td>1.0</td>\n",
       "      <td>NaN</td>\n",
       "      <td>NaN</td>\n",
       "      <td>2</td>\n",
       "      <td>NaN</td>\n",
       "      <td>NaN</td>\n",
       "      <td>NaN</td>\n",
       "      <td>NaN</td>\n",
       "      <td>NaN</td>\n",
       "      <td>NaN</td>\n",
       "    </tr>\n",
       "  </tbody>\n",
       "</table>\n",
       "<p>225 rows × 25 columns</p>\n",
       "</div>"
      ],
      "text/plain": [
       "               ID  Rarity  Earth   Fire Dragon   Dark Electricity  Water  \\\n",
       "Anubis       #100    Epic   True  False  False  False       False  False   \n",
       "Arsox         #42  Common  False   True  False  False       False  False   \n",
       "Astegon       #98    Epic  False  False   True   True       False  False   \n",
       "Azurmane     #136    Rare  False  False  False  False        True  False   \n",
       "Azurobe       #82    Rare  False  False   True  False       False   True   \n",
       "...           ...     ...    ...    ...    ...    ...         ...    ...   \n",
       "Wumpo Botan   #91    Epic  False  False  False  False       False  False   \n",
       "Xenogard     #126    Epic  False  False   True  False       False  False   \n",
       "Xenolord     #127    Epic  False  False   True   True       False  False   \n",
       "Xenovader    #125    Rare  False  False  False   True       False  False   \n",
       "Yakumo       #121  Common  False  False  False  False       False  False   \n",
       "\n",
       "               Ice   Leaf  ... Number of work suitabilities Deforesting  \\\n",
       "Anubis       False  False  ...                          3.0         NaN   \n",
       "Arsox        False  False  ...                          2.0           1   \n",
       "Astegon      False  False  ...                          2.0         NaN   \n",
       "Azurmane     False  False  ...                          2.0         NaN   \n",
       "Azurobe      False  False  ...                          1.0         NaN   \n",
       "...            ...    ...  ...                          ...         ...   \n",
       "Wumpo Botan  False   True  ...                          4.0           3   \n",
       "Xenogard     False  False  ...                          1.0         NaN   \n",
       "Xenolord     False  False  ...                          1.0         NaN   \n",
       "Xenovader    False  False  ...                          2.0           2   \n",
       "Yakumo       False  False  ...                          1.0         NaN   \n",
       "\n",
       "            Kindling Gathering Generating Electricity  Watering Cooling  \\\n",
       "Anubis           NaN       NaN                    NaN       NaN     NaN   \n",
       "Arsox              2       NaN                    NaN       NaN     NaN   \n",
       "Astegon          NaN       NaN                    NaN       NaN     NaN   \n",
       "Azurmane         NaN         1                      4       NaN     NaN   \n",
       "Azurobe          NaN       NaN                    NaN         3     NaN   \n",
       "...              ...       ...                    ...       ...     ...   \n",
       "Wumpo Botan      NaN       NaN                    NaN       NaN     NaN   \n",
       "Xenogard         NaN       NaN                    NaN       NaN     NaN   \n",
       "Xenolord         NaN         1                    NaN       NaN     NaN   \n",
       "Xenovader        NaN       NaN                    NaN       NaN     NaN   \n",
       "Yakumo           NaN         2                    NaN       NaN     NaN   \n",
       "\n",
       "            Farming Medicine Production Planting  \n",
       "Anubis          NaN                 NaN      NaN  \n",
       "Arsox           NaN                 NaN      NaN  \n",
       "Astegon         NaN                 NaN      NaN  \n",
       "Azurmane        NaN                 NaN      NaN  \n",
       "Azurobe         NaN                 NaN      NaN  \n",
       "...             ...                 ...      ...  \n",
       "Wumpo Botan     NaN                 NaN        1  \n",
       "Xenogard        NaN                 NaN      NaN  \n",
       "Xenolord        NaN                 NaN      NaN  \n",
       "Xenovader       NaN                 NaN      NaN  \n",
       "Yakumo          NaN                 NaN      NaN  \n",
       "\n",
       "[225 rows x 25 columns]"
      ]
     },
     "execution_count": 15,
     "metadata": {},
     "output_type": "execute_result"
    }
   ],
   "source": [
    "# Scrape the work suitability of the Pals\n",
    "def scrape_pal_work(pal_df, url = \"https://palworld.gg/pals\"):\n",
    "    \"\"\"\n",
    "    Scrape the work suitabilities of each Pal listed in the database, including the level of each work type.\n",
    "\n",
    "    Args:\n",
    "        url (str): The URL of the database page, assumed to be the current link unless otherwise specified.\n",
    "        pal_df (DataFrame): The DataFrame of Pal data to update.\n",
    "\n",
    "    Returns:\n",
    "        pal_df (DataFrame): The DataFrame given, with 13 new columns added: 12 representing the work suitabilities\n",
    "        of Pals, each filled with NaN or the Pal's skill level for that task, and one column counting the number of suitabilities\n",
    "        the Pal has in total.\n",
    "    \"\"\"\n",
    "    soup = BeautifulSoup(requests.get(url).text)\n",
    "\n",
    "    # Find each Pal entry.\n",
    "    pal_tag = soup.find_all(\"div\", class_ = \"pal\")\n",
    "    for pal in pal_tag:\n",
    "        # Remove empty Pal entries.\n",
    "        if pal.attrs[\"style\"] == \"display:none;\":\n",
    "            continue\n",
    "\n",
    "        # Load the individual entry page for the Pal.\n",
    "        pal_page = requests.get(\"https://palworld.gg\" + pal.a.attrs[\"href\"]).text\n",
    "        pal_soup = BeautifulSoup(pal_page)\n",
    "\n",
    "        # Scrape the name of the Pal.\n",
    "        pal_name = pal_soup.find(\"h1\", class_ = \"name\").text.strip()\n",
    "\n",
    "        # Scrape the suitabilities of the Pal, and for each one that is found add its level to the column with the suitability's name.\n",
    "        pal_work_tags = pal_soup.find(\"div\", class_ = \"works\").find_all(\"div\", class_ = \"active item\")\n",
    "        for tag in pal_work_tags:\n",
    "            pal_df.loc[pal_name, tag.find(\"div\", class_ = \"name\").text] = tag.find(\"span\", class_ = \"value\").text\n",
    "        # Add the pal's total number of suitabilities as a new column.\n",
    "        pal_df.loc[pal_name, \"Number of work suitabilities\"] = len(pal_work_tags)\n",
    "        \n",
    "    return pal_df\n",
    "\n",
    "pal_frame = scrape_pal_work(pal_frame)\n",
    "pal_frame"
   ]
  },
  {
   "cell_type": "code",
   "execution_count": 16,
   "metadata": {},
   "outputs": [
    {
     "data": {
      "text/html": [
       "<div>\n",
       "<style scoped>\n",
       "    .dataframe tbody tr th:only-of-type {\n",
       "        vertical-align: middle;\n",
       "    }\n",
       "\n",
       "    .dataframe tbody tr th {\n",
       "        vertical-align: top;\n",
       "    }\n",
       "\n",
       "    .dataframe thead th {\n",
       "        text-align: right;\n",
       "    }\n",
       "</style>\n",
       "<table border=\"1\" class=\"dataframe\">\n",
       "  <thead>\n",
       "    <tr style=\"text-align: right;\">\n",
       "      <th></th>\n",
       "      <th>ID</th>\n",
       "      <th>Rarity</th>\n",
       "      <th>Earth</th>\n",
       "      <th>Fire</th>\n",
       "      <th>Dragon</th>\n",
       "      <th>Dark</th>\n",
       "      <th>Electricity</th>\n",
       "      <th>Water</th>\n",
       "      <th>Ice</th>\n",
       "      <th>Leaf</th>\n",
       "      <th>...</th>\n",
       "      <th>Deforesting</th>\n",
       "      <th>Kindling</th>\n",
       "      <th>Gathering</th>\n",
       "      <th>Generating Electricity</th>\n",
       "      <th>Watering</th>\n",
       "      <th>Cooling</th>\n",
       "      <th>Farming</th>\n",
       "      <th>Medicine Production</th>\n",
       "      <th>Planting</th>\n",
       "      <th>HP</th>\n",
       "    </tr>\n",
       "  </thead>\n",
       "  <tbody>\n",
       "    <tr>\n",
       "      <th>Anubis</th>\n",
       "      <td>#100</td>\n",
       "      <td>Epic</td>\n",
       "      <td>True</td>\n",
       "      <td>False</td>\n",
       "      <td>False</td>\n",
       "      <td>False</td>\n",
       "      <td>False</td>\n",
       "      <td>False</td>\n",
       "      <td>False</td>\n",
       "      <td>False</td>\n",
       "      <td>...</td>\n",
       "      <td>NaN</td>\n",
       "      <td>NaN</td>\n",
       "      <td>NaN</td>\n",
       "      <td>NaN</td>\n",
       "      <td>NaN</td>\n",
       "      <td>NaN</td>\n",
       "      <td>NaN</td>\n",
       "      <td>NaN</td>\n",
       "      <td>NaN</td>\n",
       "      <td>120.0</td>\n",
       "    </tr>\n",
       "    <tr>\n",
       "      <th>Arsox</th>\n",
       "      <td>#42</td>\n",
       "      <td>Common</td>\n",
       "      <td>False</td>\n",
       "      <td>True</td>\n",
       "      <td>False</td>\n",
       "      <td>False</td>\n",
       "      <td>False</td>\n",
       "      <td>False</td>\n",
       "      <td>False</td>\n",
       "      <td>False</td>\n",
       "      <td>...</td>\n",
       "      <td>1</td>\n",
       "      <td>2</td>\n",
       "      <td>NaN</td>\n",
       "      <td>NaN</td>\n",
       "      <td>NaN</td>\n",
       "      <td>NaN</td>\n",
       "      <td>NaN</td>\n",
       "      <td>NaN</td>\n",
       "      <td>NaN</td>\n",
       "      <td>85.0</td>\n",
       "    </tr>\n",
       "    <tr>\n",
       "      <th>Astegon</th>\n",
       "      <td>#98</td>\n",
       "      <td>Epic</td>\n",
       "      <td>False</td>\n",
       "      <td>False</td>\n",
       "      <td>True</td>\n",
       "      <td>True</td>\n",
       "      <td>False</td>\n",
       "      <td>False</td>\n",
       "      <td>False</td>\n",
       "      <td>False</td>\n",
       "      <td>...</td>\n",
       "      <td>NaN</td>\n",
       "      <td>NaN</td>\n",
       "      <td>NaN</td>\n",
       "      <td>NaN</td>\n",
       "      <td>NaN</td>\n",
       "      <td>NaN</td>\n",
       "      <td>NaN</td>\n",
       "      <td>NaN</td>\n",
       "      <td>NaN</td>\n",
       "      <td>100.0</td>\n",
       "    </tr>\n",
       "    <tr>\n",
       "      <th>Azurmane</th>\n",
       "      <td>#136</td>\n",
       "      <td>Rare</td>\n",
       "      <td>False</td>\n",
       "      <td>False</td>\n",
       "      <td>False</td>\n",
       "      <td>False</td>\n",
       "      <td>True</td>\n",
       "      <td>False</td>\n",
       "      <td>False</td>\n",
       "      <td>False</td>\n",
       "      <td>...</td>\n",
       "      <td>NaN</td>\n",
       "      <td>NaN</td>\n",
       "      <td>1</td>\n",
       "      <td>4</td>\n",
       "      <td>NaN</td>\n",
       "      <td>NaN</td>\n",
       "      <td>NaN</td>\n",
       "      <td>NaN</td>\n",
       "      <td>NaN</td>\n",
       "      <td>130.0</td>\n",
       "    </tr>\n",
       "    <tr>\n",
       "      <th>Azurobe</th>\n",
       "      <td>#82</td>\n",
       "      <td>Rare</td>\n",
       "      <td>False</td>\n",
       "      <td>False</td>\n",
       "      <td>True</td>\n",
       "      <td>False</td>\n",
       "      <td>False</td>\n",
       "      <td>True</td>\n",
       "      <td>False</td>\n",
       "      <td>False</td>\n",
       "      <td>...</td>\n",
       "      <td>NaN</td>\n",
       "      <td>NaN</td>\n",
       "      <td>NaN</td>\n",
       "      <td>NaN</td>\n",
       "      <td>3</td>\n",
       "      <td>NaN</td>\n",
       "      <td>NaN</td>\n",
       "      <td>NaN</td>\n",
       "      <td>NaN</td>\n",
       "      <td>110.0</td>\n",
       "    </tr>\n",
       "    <tr>\n",
       "      <th>...</th>\n",
       "      <td>...</td>\n",
       "      <td>...</td>\n",
       "      <td>...</td>\n",
       "      <td>...</td>\n",
       "      <td>...</td>\n",
       "      <td>...</td>\n",
       "      <td>...</td>\n",
       "      <td>...</td>\n",
       "      <td>...</td>\n",
       "      <td>...</td>\n",
       "      <td>...</td>\n",
       "      <td>...</td>\n",
       "      <td>...</td>\n",
       "      <td>...</td>\n",
       "      <td>...</td>\n",
       "      <td>...</td>\n",
       "      <td>...</td>\n",
       "      <td>...</td>\n",
       "      <td>...</td>\n",
       "      <td>...</td>\n",
       "      <td>...</td>\n",
       "    </tr>\n",
       "    <tr>\n",
       "      <th>Wumpo Botan</th>\n",
       "      <td>#91</td>\n",
       "      <td>Epic</td>\n",
       "      <td>False</td>\n",
       "      <td>False</td>\n",
       "      <td>False</td>\n",
       "      <td>False</td>\n",
       "      <td>False</td>\n",
       "      <td>False</td>\n",
       "      <td>False</td>\n",
       "      <td>True</td>\n",
       "      <td>...</td>\n",
       "      <td>3</td>\n",
       "      <td>NaN</td>\n",
       "      <td>NaN</td>\n",
       "      <td>NaN</td>\n",
       "      <td>NaN</td>\n",
       "      <td>NaN</td>\n",
       "      <td>NaN</td>\n",
       "      <td>NaN</td>\n",
       "      <td>1</td>\n",
       "      <td>140.0</td>\n",
       "    </tr>\n",
       "    <tr>\n",
       "      <th>Xenogard</th>\n",
       "      <td>#126</td>\n",
       "      <td>Epic</td>\n",
       "      <td>False</td>\n",
       "      <td>False</td>\n",
       "      <td>True</td>\n",
       "      <td>False</td>\n",
       "      <td>False</td>\n",
       "      <td>False</td>\n",
       "      <td>False</td>\n",
       "      <td>False</td>\n",
       "      <td>...</td>\n",
       "      <td>NaN</td>\n",
       "      <td>NaN</td>\n",
       "      <td>NaN</td>\n",
       "      <td>NaN</td>\n",
       "      <td>NaN</td>\n",
       "      <td>NaN</td>\n",
       "      <td>NaN</td>\n",
       "      <td>NaN</td>\n",
       "      <td>NaN</td>\n",
       "      <td>110.0</td>\n",
       "    </tr>\n",
       "    <tr>\n",
       "      <th>Xenolord</th>\n",
       "      <td>#127</td>\n",
       "      <td>Epic</td>\n",
       "      <td>False</td>\n",
       "      <td>False</td>\n",
       "      <td>True</td>\n",
       "      <td>True</td>\n",
       "      <td>False</td>\n",
       "      <td>False</td>\n",
       "      <td>False</td>\n",
       "      <td>False</td>\n",
       "      <td>...</td>\n",
       "      <td>NaN</td>\n",
       "      <td>NaN</td>\n",
       "      <td>1</td>\n",
       "      <td>NaN</td>\n",
       "      <td>NaN</td>\n",
       "      <td>NaN</td>\n",
       "      <td>NaN</td>\n",
       "      <td>NaN</td>\n",
       "      <td>NaN</td>\n",
       "      <td>130.0</td>\n",
       "    </tr>\n",
       "    <tr>\n",
       "      <th>Xenovader</th>\n",
       "      <td>#125</td>\n",
       "      <td>Rare</td>\n",
       "      <td>False</td>\n",
       "      <td>False</td>\n",
       "      <td>False</td>\n",
       "      <td>True</td>\n",
       "      <td>False</td>\n",
       "      <td>False</td>\n",
       "      <td>False</td>\n",
       "      <td>False</td>\n",
       "      <td>...</td>\n",
       "      <td>2</td>\n",
       "      <td>NaN</td>\n",
       "      <td>NaN</td>\n",
       "      <td>NaN</td>\n",
       "      <td>NaN</td>\n",
       "      <td>NaN</td>\n",
       "      <td>NaN</td>\n",
       "      <td>NaN</td>\n",
       "      <td>NaN</td>\n",
       "      <td>90.0</td>\n",
       "    </tr>\n",
       "    <tr>\n",
       "      <th>Yakumo</th>\n",
       "      <td>#121</td>\n",
       "      <td>Common</td>\n",
       "      <td>False</td>\n",
       "      <td>False</td>\n",
       "      <td>False</td>\n",
       "      <td>False</td>\n",
       "      <td>False</td>\n",
       "      <td>False</td>\n",
       "      <td>False</td>\n",
       "      <td>False</td>\n",
       "      <td>...</td>\n",
       "      <td>NaN</td>\n",
       "      <td>NaN</td>\n",
       "      <td>2</td>\n",
       "      <td>NaN</td>\n",
       "      <td>NaN</td>\n",
       "      <td>NaN</td>\n",
       "      <td>NaN</td>\n",
       "      <td>NaN</td>\n",
       "      <td>NaN</td>\n",
       "      <td>85.0</td>\n",
       "    </tr>\n",
       "  </tbody>\n",
       "</table>\n",
       "<p>225 rows × 26 columns</p>\n",
       "</div>"
      ],
      "text/plain": [
       "               ID  Rarity  Earth   Fire Dragon   Dark Electricity  Water  \\\n",
       "Anubis       #100    Epic   True  False  False  False       False  False   \n",
       "Arsox         #42  Common  False   True  False  False       False  False   \n",
       "Astegon       #98    Epic  False  False   True   True       False  False   \n",
       "Azurmane     #136    Rare  False  False  False  False        True  False   \n",
       "Azurobe       #82    Rare  False  False   True  False       False   True   \n",
       "...           ...     ...    ...    ...    ...    ...         ...    ...   \n",
       "Wumpo Botan   #91    Epic  False  False  False  False       False  False   \n",
       "Xenogard     #126    Epic  False  False   True  False       False  False   \n",
       "Xenolord     #127    Epic  False  False   True   True       False  False   \n",
       "Xenovader    #125    Rare  False  False  False   True       False  False   \n",
       "Yakumo       #121  Common  False  False  False  False       False  False   \n",
       "\n",
       "               Ice   Leaf  ... Deforesting Kindling Gathering  \\\n",
       "Anubis       False  False  ...         NaN      NaN       NaN   \n",
       "Arsox        False  False  ...           1        2       NaN   \n",
       "Astegon      False  False  ...         NaN      NaN       NaN   \n",
       "Azurmane     False  False  ...         NaN      NaN         1   \n",
       "Azurobe      False  False  ...         NaN      NaN       NaN   \n",
       "...            ...    ...  ...         ...      ...       ...   \n",
       "Wumpo Botan  False   True  ...           3      NaN       NaN   \n",
       "Xenogard     False  False  ...         NaN      NaN       NaN   \n",
       "Xenolord     False  False  ...         NaN      NaN         1   \n",
       "Xenovader    False  False  ...           2      NaN       NaN   \n",
       "Yakumo       False  False  ...         NaN      NaN         2   \n",
       "\n",
       "            Generating Electricity Watering  Cooling Farming  \\\n",
       "Anubis                         NaN      NaN      NaN     NaN   \n",
       "Arsox                          NaN      NaN      NaN     NaN   \n",
       "Astegon                        NaN      NaN      NaN     NaN   \n",
       "Azurmane                         4      NaN      NaN     NaN   \n",
       "Azurobe                        NaN        3      NaN     NaN   \n",
       "...                            ...      ...      ...     ...   \n",
       "Wumpo Botan                    NaN      NaN      NaN     NaN   \n",
       "Xenogard                       NaN      NaN      NaN     NaN   \n",
       "Xenolord                       NaN      NaN      NaN     NaN   \n",
       "Xenovader                      NaN      NaN      NaN     NaN   \n",
       "Yakumo                         NaN      NaN      NaN     NaN   \n",
       "\n",
       "            Medicine Production Planting     HP  \n",
       "Anubis                      NaN      NaN  120.0  \n",
       "Arsox                       NaN      NaN   85.0  \n",
       "Astegon                     NaN      NaN  100.0  \n",
       "Azurmane                    NaN      NaN  130.0  \n",
       "Azurobe                     NaN      NaN  110.0  \n",
       "...                         ...      ...    ...  \n",
       "Wumpo Botan                 NaN        1  140.0  \n",
       "Xenogard                    NaN      NaN  110.0  \n",
       "Xenolord                    NaN      NaN  130.0  \n",
       "Xenovader                   NaN      NaN   90.0  \n",
       "Yakumo                      NaN      NaN   85.0  \n",
       "\n",
       "[225 rows x 26 columns]"
      ]
     },
     "execution_count": 16,
     "metadata": {},
     "output_type": "execute_result"
    }
   ],
   "source": [
    "# Scrape the HP of the Pals\n",
    "def scrape_pal_hp(pal_df, url = \"https://palworld.gg/pals\"):\n",
    "    \"\"\"\n",
    "    Scrape the HP of each Pal listed in the database.\n",
    "\n",
    "    Args:\n",
    "        url (str): The URL of the database page, assumed to be the current link unless otherwise specified.\n",
    "        pal_df (DataFrame): The DataFrame of Pal data to update.\n",
    "\n",
    "    Returns:\n",
    "        pal_df (DataFrame): The DataFrame given, with a new column representing the Pals' HPs.\n",
    "    \"\"\"\n",
    "    soup = BeautifulSoup(requests.get(url).text)\n",
    "\n",
    "    # Find each Pal entry.\n",
    "    pal_tag = soup.find_all(\"div\", class_ = \"pal\")\n",
    "    for pal in pal_tag:\n",
    "        # Remove empty Pal entries.\n",
    "        if pal.attrs[\"style\"] == \"display:none;\":\n",
    "            continue\n",
    "\n",
    "        # Load the individual entry page for the Pal.\n",
    "        pal_page = requests.get(\"https://palworld.gg\" + pal.a.attrs[\"href\"]).text\n",
    "        pal_soup = BeautifulSoup(pal_page)\n",
    "\n",
    "        # Scrape the name of the Pal.\n",
    "        pal_name = pal_soup.find(\"h1\", class_ = \"name\").text.strip()\n",
    "\n",
    "        # Scrape the HP of the pal (the first entry in the stats section) and add it to the HP column.\n",
    "        pal_hp = int(pal_soup.find(\"div\", class_ = \"stats\").find_all(\"div\", class_ = \"value\")[0].text)\n",
    "        pal_df.loc[pal_name, \"HP\"] = pal_hp\n",
    "        \n",
    "    return pal_df\n",
    "\n",
    "pal_frame = scrape_pal_hp(pal_frame)\n",
    "pal_frame"
   ]
  },
  {
   "cell_type": "code",
   "execution_count": 17,
   "metadata": {},
   "outputs": [
    {
     "data": {
      "text/html": [
       "<div>\n",
       "<style scoped>\n",
       "    .dataframe tbody tr th:only-of-type {\n",
       "        vertical-align: middle;\n",
       "    }\n",
       "\n",
       "    .dataframe tbody tr th {\n",
       "        vertical-align: top;\n",
       "    }\n",
       "\n",
       "    .dataframe thead th {\n",
       "        text-align: right;\n",
       "    }\n",
       "</style>\n",
       "<table border=\"1\" class=\"dataframe\">\n",
       "  <thead>\n",
       "    <tr style=\"text-align: right;\">\n",
       "      <th></th>\n",
       "      <th>ID</th>\n",
       "      <th>Rarity</th>\n",
       "      <th>Earth</th>\n",
       "      <th>Fire</th>\n",
       "      <th>Dragon</th>\n",
       "      <th>Dark</th>\n",
       "      <th>Electricity</th>\n",
       "      <th>Water</th>\n",
       "      <th>Ice</th>\n",
       "      <th>Leaf</th>\n",
       "      <th>...</th>\n",
       "      <th>Kindling</th>\n",
       "      <th>Gathering</th>\n",
       "      <th>Generating Electricity</th>\n",
       "      <th>Watering</th>\n",
       "      <th>Cooling</th>\n",
       "      <th>Farming</th>\n",
       "      <th>Medicine Production</th>\n",
       "      <th>Planting</th>\n",
       "      <th>HP</th>\n",
       "      <th>Defense</th>\n",
       "    </tr>\n",
       "  </thead>\n",
       "  <tbody>\n",
       "    <tr>\n",
       "      <th>Anubis</th>\n",
       "      <td>#100</td>\n",
       "      <td>Epic</td>\n",
       "      <td>True</td>\n",
       "      <td>False</td>\n",
       "      <td>False</td>\n",
       "      <td>False</td>\n",
       "      <td>False</td>\n",
       "      <td>False</td>\n",
       "      <td>False</td>\n",
       "      <td>False</td>\n",
       "      <td>...</td>\n",
       "      <td>NaN</td>\n",
       "      <td>NaN</td>\n",
       "      <td>NaN</td>\n",
       "      <td>NaN</td>\n",
       "      <td>NaN</td>\n",
       "      <td>NaN</td>\n",
       "      <td>NaN</td>\n",
       "      <td>NaN</td>\n",
       "      <td>120.0</td>\n",
       "      <td>100.0</td>\n",
       "    </tr>\n",
       "    <tr>\n",
       "      <th>Arsox</th>\n",
       "      <td>#42</td>\n",
       "      <td>Common</td>\n",
       "      <td>False</td>\n",
       "      <td>True</td>\n",
       "      <td>False</td>\n",
       "      <td>False</td>\n",
       "      <td>False</td>\n",
       "      <td>False</td>\n",
       "      <td>False</td>\n",
       "      <td>False</td>\n",
       "      <td>...</td>\n",
       "      <td>2</td>\n",
       "      <td>NaN</td>\n",
       "      <td>NaN</td>\n",
       "      <td>NaN</td>\n",
       "      <td>NaN</td>\n",
       "      <td>NaN</td>\n",
       "      <td>NaN</td>\n",
       "      <td>NaN</td>\n",
       "      <td>85.0</td>\n",
       "      <td>95.0</td>\n",
       "    </tr>\n",
       "    <tr>\n",
       "      <th>Astegon</th>\n",
       "      <td>#98</td>\n",
       "      <td>Epic</td>\n",
       "      <td>False</td>\n",
       "      <td>False</td>\n",
       "      <td>True</td>\n",
       "      <td>True</td>\n",
       "      <td>False</td>\n",
       "      <td>False</td>\n",
       "      <td>False</td>\n",
       "      <td>False</td>\n",
       "      <td>...</td>\n",
       "      <td>NaN</td>\n",
       "      <td>NaN</td>\n",
       "      <td>NaN</td>\n",
       "      <td>NaN</td>\n",
       "      <td>NaN</td>\n",
       "      <td>NaN</td>\n",
       "      <td>NaN</td>\n",
       "      <td>NaN</td>\n",
       "      <td>100.0</td>\n",
       "      <td>125.0</td>\n",
       "    </tr>\n",
       "    <tr>\n",
       "      <th>Azurmane</th>\n",
       "      <td>#136</td>\n",
       "      <td>Rare</td>\n",
       "      <td>False</td>\n",
       "      <td>False</td>\n",
       "      <td>False</td>\n",
       "      <td>False</td>\n",
       "      <td>True</td>\n",
       "      <td>False</td>\n",
       "      <td>False</td>\n",
       "      <td>False</td>\n",
       "      <td>...</td>\n",
       "      <td>NaN</td>\n",
       "      <td>1</td>\n",
       "      <td>4</td>\n",
       "      <td>NaN</td>\n",
       "      <td>NaN</td>\n",
       "      <td>NaN</td>\n",
       "      <td>NaN</td>\n",
       "      <td>NaN</td>\n",
       "      <td>130.0</td>\n",
       "      <td>110.0</td>\n",
       "    </tr>\n",
       "    <tr>\n",
       "      <th>Azurobe</th>\n",
       "      <td>#82</td>\n",
       "      <td>Rare</td>\n",
       "      <td>False</td>\n",
       "      <td>False</td>\n",
       "      <td>True</td>\n",
       "      <td>False</td>\n",
       "      <td>False</td>\n",
       "      <td>True</td>\n",
       "      <td>False</td>\n",
       "      <td>False</td>\n",
       "      <td>...</td>\n",
       "      <td>NaN</td>\n",
       "      <td>NaN</td>\n",
       "      <td>NaN</td>\n",
       "      <td>3</td>\n",
       "      <td>NaN</td>\n",
       "      <td>NaN</td>\n",
       "      <td>NaN</td>\n",
       "      <td>NaN</td>\n",
       "      <td>110.0</td>\n",
       "      <td>100.0</td>\n",
       "    </tr>\n",
       "    <tr>\n",
       "      <th>...</th>\n",
       "      <td>...</td>\n",
       "      <td>...</td>\n",
       "      <td>...</td>\n",
       "      <td>...</td>\n",
       "      <td>...</td>\n",
       "      <td>...</td>\n",
       "      <td>...</td>\n",
       "      <td>...</td>\n",
       "      <td>...</td>\n",
       "      <td>...</td>\n",
       "      <td>...</td>\n",
       "      <td>...</td>\n",
       "      <td>...</td>\n",
       "      <td>...</td>\n",
       "      <td>...</td>\n",
       "      <td>...</td>\n",
       "      <td>...</td>\n",
       "      <td>...</td>\n",
       "      <td>...</td>\n",
       "      <td>...</td>\n",
       "      <td>...</td>\n",
       "    </tr>\n",
       "    <tr>\n",
       "      <th>Wumpo Botan</th>\n",
       "      <td>#91</td>\n",
       "      <td>Epic</td>\n",
       "      <td>False</td>\n",
       "      <td>False</td>\n",
       "      <td>False</td>\n",
       "      <td>False</td>\n",
       "      <td>False</td>\n",
       "      <td>False</td>\n",
       "      <td>False</td>\n",
       "      <td>True</td>\n",
       "      <td>...</td>\n",
       "      <td>NaN</td>\n",
       "      <td>NaN</td>\n",
       "      <td>NaN</td>\n",
       "      <td>NaN</td>\n",
       "      <td>NaN</td>\n",
       "      <td>NaN</td>\n",
       "      <td>NaN</td>\n",
       "      <td>1</td>\n",
       "      <td>140.0</td>\n",
       "      <td>110.0</td>\n",
       "    </tr>\n",
       "    <tr>\n",
       "      <th>Xenogard</th>\n",
       "      <td>#126</td>\n",
       "      <td>Epic</td>\n",
       "      <td>False</td>\n",
       "      <td>False</td>\n",
       "      <td>True</td>\n",
       "      <td>False</td>\n",
       "      <td>False</td>\n",
       "      <td>False</td>\n",
       "      <td>False</td>\n",
       "      <td>False</td>\n",
       "      <td>...</td>\n",
       "      <td>NaN</td>\n",
       "      <td>NaN</td>\n",
       "      <td>NaN</td>\n",
       "      <td>NaN</td>\n",
       "      <td>NaN</td>\n",
       "      <td>NaN</td>\n",
       "      <td>NaN</td>\n",
       "      <td>NaN</td>\n",
       "      <td>110.0</td>\n",
       "      <td>130.0</td>\n",
       "    </tr>\n",
       "    <tr>\n",
       "      <th>Xenolord</th>\n",
       "      <td>#127</td>\n",
       "      <td>Epic</td>\n",
       "      <td>False</td>\n",
       "      <td>False</td>\n",
       "      <td>True</td>\n",
       "      <td>True</td>\n",
       "      <td>False</td>\n",
       "      <td>False</td>\n",
       "      <td>False</td>\n",
       "      <td>False</td>\n",
       "      <td>...</td>\n",
       "      <td>NaN</td>\n",
       "      <td>1</td>\n",
       "      <td>NaN</td>\n",
       "      <td>NaN</td>\n",
       "      <td>NaN</td>\n",
       "      <td>NaN</td>\n",
       "      <td>NaN</td>\n",
       "      <td>NaN</td>\n",
       "      <td>130.0</td>\n",
       "      <td>120.0</td>\n",
       "    </tr>\n",
       "    <tr>\n",
       "      <th>Xenovader</th>\n",
       "      <td>#125</td>\n",
       "      <td>Rare</td>\n",
       "      <td>False</td>\n",
       "      <td>False</td>\n",
       "      <td>False</td>\n",
       "      <td>True</td>\n",
       "      <td>False</td>\n",
       "      <td>False</td>\n",
       "      <td>False</td>\n",
       "      <td>False</td>\n",
       "      <td>...</td>\n",
       "      <td>NaN</td>\n",
       "      <td>NaN</td>\n",
       "      <td>NaN</td>\n",
       "      <td>NaN</td>\n",
       "      <td>NaN</td>\n",
       "      <td>NaN</td>\n",
       "      <td>NaN</td>\n",
       "      <td>NaN</td>\n",
       "      <td>90.0</td>\n",
       "      <td>85.0</td>\n",
       "    </tr>\n",
       "    <tr>\n",
       "      <th>Yakumo</th>\n",
       "      <td>#121</td>\n",
       "      <td>Common</td>\n",
       "      <td>False</td>\n",
       "      <td>False</td>\n",
       "      <td>False</td>\n",
       "      <td>False</td>\n",
       "      <td>False</td>\n",
       "      <td>False</td>\n",
       "      <td>False</td>\n",
       "      <td>False</td>\n",
       "      <td>...</td>\n",
       "      <td>NaN</td>\n",
       "      <td>2</td>\n",
       "      <td>NaN</td>\n",
       "      <td>NaN</td>\n",
       "      <td>NaN</td>\n",
       "      <td>NaN</td>\n",
       "      <td>NaN</td>\n",
       "      <td>NaN</td>\n",
       "      <td>85.0</td>\n",
       "      <td>85.0</td>\n",
       "    </tr>\n",
       "  </tbody>\n",
       "</table>\n",
       "<p>225 rows × 27 columns</p>\n",
       "</div>"
      ],
      "text/plain": [
       "               ID  Rarity  Earth   Fire Dragon   Dark Electricity  Water  \\\n",
       "Anubis       #100    Epic   True  False  False  False       False  False   \n",
       "Arsox         #42  Common  False   True  False  False       False  False   \n",
       "Astegon       #98    Epic  False  False   True   True       False  False   \n",
       "Azurmane     #136    Rare  False  False  False  False        True  False   \n",
       "Azurobe       #82    Rare  False  False   True  False       False   True   \n",
       "...           ...     ...    ...    ...    ...    ...         ...    ...   \n",
       "Wumpo Botan   #91    Epic  False  False  False  False       False  False   \n",
       "Xenogard     #126    Epic  False  False   True  False       False  False   \n",
       "Xenolord     #127    Epic  False  False   True   True       False  False   \n",
       "Xenovader    #125    Rare  False  False  False   True       False  False   \n",
       "Yakumo       #121  Common  False  False  False  False       False  False   \n",
       "\n",
       "               Ice   Leaf  ... Kindling Gathering Generating Electricity  \\\n",
       "Anubis       False  False  ...      NaN       NaN                    NaN   \n",
       "Arsox        False  False  ...        2       NaN                    NaN   \n",
       "Astegon      False  False  ...      NaN       NaN                    NaN   \n",
       "Azurmane     False  False  ...      NaN         1                      4   \n",
       "Azurobe      False  False  ...      NaN       NaN                    NaN   \n",
       "...            ...    ...  ...      ...       ...                    ...   \n",
       "Wumpo Botan  False   True  ...      NaN       NaN                    NaN   \n",
       "Xenogard     False  False  ...      NaN       NaN                    NaN   \n",
       "Xenolord     False  False  ...      NaN         1                    NaN   \n",
       "Xenovader    False  False  ...      NaN       NaN                    NaN   \n",
       "Yakumo       False  False  ...      NaN         2                    NaN   \n",
       "\n",
       "            Watering Cooling  Farming Medicine Production Planting     HP  \\\n",
       "Anubis           NaN     NaN      NaN                 NaN      NaN  120.0   \n",
       "Arsox            NaN     NaN      NaN                 NaN      NaN   85.0   \n",
       "Astegon          NaN     NaN      NaN                 NaN      NaN  100.0   \n",
       "Azurmane         NaN     NaN      NaN                 NaN      NaN  130.0   \n",
       "Azurobe            3     NaN      NaN                 NaN      NaN  110.0   \n",
       "...              ...     ...      ...                 ...      ...    ...   \n",
       "Wumpo Botan      NaN     NaN      NaN                 NaN        1  140.0   \n",
       "Xenogard         NaN     NaN      NaN                 NaN      NaN  110.0   \n",
       "Xenolord         NaN     NaN      NaN                 NaN      NaN  130.0   \n",
       "Xenovader        NaN     NaN      NaN                 NaN      NaN   90.0   \n",
       "Yakumo           NaN     NaN      NaN                 NaN      NaN   85.0   \n",
       "\n",
       "            Defense  \n",
       "Anubis        100.0  \n",
       "Arsox          95.0  \n",
       "Astegon       125.0  \n",
       "Azurmane      110.0  \n",
       "Azurobe       100.0  \n",
       "...             ...  \n",
       "Wumpo Botan   110.0  \n",
       "Xenogard      130.0  \n",
       "Xenolord      120.0  \n",
       "Xenovader      85.0  \n",
       "Yakumo         85.0  \n",
       "\n",
       "[225 rows x 27 columns]"
      ]
     },
     "execution_count": 17,
     "metadata": {},
     "output_type": "execute_result"
    }
   ],
   "source": [
    "# Scrape the defense statistics of the Pals\n",
    "def scrape_pal_defense(pal_df, url = \"https://palworld.gg/pals\"):\n",
    "    \"\"\"\n",
    "    Scrape the defense score of each Pal listed in the database.\n",
    "\n",
    "    Args:\n",
    "        url (str): The URL of the database page, assumed to be the current link unless otherwise specified.\n",
    "        pal_df (DataFrame): The DataFrame of Pal data to update.\n",
    "\n",
    "    Returns:\n",
    "        pal_df (DataFrame): The DataFrame given, with a new column representing the Pals' defense scores.\n",
    "    \"\"\"\n",
    "    soup = BeautifulSoup(requests.get(url).text)\n",
    "\n",
    "    # Find each Pal entry.\n",
    "    pal_tag = soup.find_all(\"div\", class_ = \"pal\")\n",
    "    for pal in pal_tag:\n",
    "        # Remove empty Pal entries.\n",
    "        if pal.attrs[\"style\"] == \"display:none;\":\n",
    "            continue\n",
    "\n",
    "        # Load the individual entry page for the Pal.\n",
    "        pal_page = requests.get(\"https://palworld.gg\" + pal.a.attrs[\"href\"]).text\n",
    "        pal_soup = BeautifulSoup(pal_page)\n",
    "\n",
    "        # Scrape the name of the Pal.\n",
    "        pal_name = pal_soup.find(\"h1\", class_ = \"name\").text.strip()\n",
    "\n",
    "        # Scrape the defense of the pal (the second entry in the stats section) and add it to the defense column.\n",
    "        pal_hp = int(pal_soup.find(\"div\", class_ = \"stats\").find_all(\"div\", class_ = \"value\")[1].text)\n",
    "        pal_df.loc[pal_name, \"Defense\"] = pal_hp\n",
    "        \n",
    "    return pal_df\n",
    "\n",
    "pal_frame = scrape_pal_defense(pal_frame)\n",
    "pal_frame"
   ]
  },
  {
   "cell_type": "code",
   "execution_count": 18,
   "metadata": {},
   "outputs": [
    {
     "data": {
      "text/plain": [
       "<matplotlib.collections.PathCollection at 0x1e24bc57680>"
      ]
     },
     "execution_count": 18,
     "metadata": {},
     "output_type": "execute_result"
    },
    {
     "data": {
      "image/png": "[encoded data removed]",
      "text/plain": [
       "<Figure size 640x480 with 1 Axes>"
      ]
     },
     "metadata": {},
     "output_type": "display_data"
    }
   ],
   "source": [
    "# todo: start visualizing the data in graphs and plotting fits for relationships\n",
    "import matplotlib.pyplot as plt\n",
    "\n",
    "# just a little graph for fun\n",
    "plt.scatter(x = pal_frame[\"HP\"], y = pal_frame[\"Defense\"])"
   ]
  },
  {
   "cell_type": "code",
   "execution_count": 20,
   "metadata": {},
   "outputs": [
    {
     "data": {
      "application/vnd.plotly.v1+json": {
       "config": {
        "plotlyServerURL": "https://plot.ly"
       },
       "data": [
        {
         "customdata": [
          [
           "#100",
           "Epic",
           "Handiwork 4, Mining 3, Transport 2"
          ],
          [
           "#145",
           "Rare",
           "Mining 2, Gathering 4, Planting 4"
          ],
          [
           "#83",
           "Rare",
           "Handiwork 1, Mining 3, Transport 3"
          ],
          [
           "#123",
           "Rare",
           "Gathering 2"
          ],
          [
           "#67",
           "Rare",
           "Mining 3"
          ],
          [
           "#43",
           "Common",
           "Mining 2, Transport 1, Watering 1"
          ],
          [
           "#43",
           "Rare",
           "Mining 2, Transport 1, Watering 1"
          ],
          [
           "#37",
           "Rare",
           "None"
          ],
          [
           "#22",
           "Common",
           "Handiwork 1, Mining 1, Transport 1"
          ],
          [
           "#140",
           "Epic",
           "Gathering 2"
          ],
          [
           "#49",
           "Rare",
           "Handiwork 1, Mining 2, Transport 3"
          ],
          [
           "#13",
           "Common",
           "Planting 1"
          ],
          [
           "#32",
           "Common",
           "Handiwork 1, Transport 2, Gathering 1"
          ],
          [
           "#117",
           "Common",
           "Mining 1"
          ],
          [
           "#120",
           "Epic",
           "Mining 4, Transport 4, Gathering 3"
          ],
          [
           "#90",
           "Epic",
           "Mining 2, Planting 2"
          ],
          [
           "#90",
           "Epic",
           "Mining 2, Cooling 2"
          ],
          [
           "#99",
           "Epic",
           "Mining 3"
          ],
          [
           "#99",
           "Epic",
           "Mining 3"
          ],
          [
           "#119",
           "Rare",
           "Gathering 1, Medicine 1"
          ],
          [
           "#88",
           "Rare",
           "Mining 3, Kindling 3"
          ],
          [
           "#88",
           "Rare",
           "Mining 3, Cooling 3"
          ],
          [
           "#48",
           "Rare",
           "Handiwork 2, Transport 2, Gathering 2, Medicine 1"
          ],
          [
           "#20",
           "Common",
           "Mining 1"
          ],
          [
           "#65",
           "Rare",
           "Gathering 1"
          ],
          [
           "#148",
           "Common",
           "Mining 1, Transport 1, Watering 2"
          ],
          [
           "#92",
           "Epic",
           "Handiwork 1, Transport 3, Planting 1"
          ],
          [
           "#92",
           "Epic",
           "Handiwork 1, Mining 3, Transport 3"
          ]
         ],
         "hovertemplate": "Element Type=Earth<br>Highest Work Suitability Level=%{x}<br>HP=%{y}<br>ID=%{customdata[0]}<br>Rarity=%{customdata[1]}<br>Work Types=%{customdata[2]}<extra></extra>",
         "legendgroup": "Earth",
         "marker": {
          "color": "#636efa",
          "symbol": "circle"
         },
         "mode": "markers",
         "name": "Earth",
         "orientation": "v",
         "showlegend": true,
         "type": "scatter",
         "x": [
          4,
          4,
          3,
          2,
          3,
          2,
          2,
          0,
          1,
          2,
          3,
          1,
          2,
          1,
          4,
          2,
          2,
          3,
          3,
          1,
          3,
          3,
          2,
          1,
          1,
          2,
          3,
          3
         ],
         "xaxis": "x",
         "y": [
          120,
          130,
          100,
          95,
          80,
          100,
          105,
          95,
          65,
          120,
          90,
          70,
          80,
          75,
          105,
          150,
          150,
          100,
          100,
          90,
          110,
          110,
          90,
          80,
          90,
          85,
          120,
          120
         ],
         "yaxis": "y"
        },
        {
         "customdata": [
          [
           "#42",
           "Common",
           "Kindling 2"
          ],
          [
           "#96",
           "Epic",
           "Mining 4, Kindling 3"
          ],
          [
           "#96",
           "Epic",
           "Mining 4, Kindling 4"
          ],
          [
           "#84",
           "Rare",
           "Kindling 3"
          ],
          [
           "#84",
           "Epic",
           "Kindling 3"
          ],
          [
           "#72",
           "Rare",
           "Handiwork 1, Transport 2, Kindling 2, Gathering 1"
          ],
          [
           "#72",
           "Rare",
           "Handiwork 1, Transport 2, Kindling 2, Gathering 1"
          ],
          [
           "#55",
           "Rare",
           "Kindling 2, Gathering 1"
          ],
          [
           "#105",
           "Epic",
           "Transport 3, Kindling 3"
          ],
          [
           "#152",
           "Common",
           "Transport 1, Kindling 2, Watering 2"
          ],
          [
           "#70",
           "Common",
           "Handiwork 1, Transport 1, Kindling 1"
          ],
          [
           "#5",
           "Common",
           "Kindling 1"
          ],
          [
           "#6",
           "Common",
           "Handiwork 1, Transport 1, Kindling 1, Watering 1"
          ],
          [
           "#153",
           "Rare",
           "Transport 2, Kindling 3, Watering 4"
          ],
          [
           "#31",
           "Common",
           "Handiwork 1, Transport 1, Kindling 2"
          ],
          [
           "#40",
           "Common",
           "Handiwork 2, Mining 1, Transport 2, Kindling 1"
          ],
          [
           "#101",
           "Epic",
           "Kindling 4"
          ],
          [
           "#75",
           "Rare",
           "Handiwork 2, Transport 2, Kindling 2, Medicine 2"
          ],
          [
           "#81",
           "Common",
           "Kindling 1"
          ],
          [
           "#61",
           "Rare",
           "Kindling 2"
          ],
          [
           "#45",
           "Common",
           "Handiwork 1, Transport 1, Kindling 1, Gathering 1"
          ],
          [
           "#58",
           "Rare",
           "Kindling 2"
          ],
          [
           "#58",
           "Rare",
           "Kindling 2"
          ],
          [
           "#74",
           "Rare",
           "Transport 3, Kindling 3"
          ],
          [
           "#-1",
           "Common",
           "Transport 1"
          ],
          [
           "#9",
           "Common",
           "Kindling 1"
          ],
          [
           "#118",
           "Rare",
           "Handiwork 2, Mining 2, Kindling 3, Gathering 1"
          ],
          [
           "#102",
           "Epic",
           "Kindling 3"
          ],
          [
           "#71",
           "Common",
           "Transport 3, Kindling 1"
          ],
          [
           "#154",
           "Epic",
           "Kindling 3, Cooling 4"
          ],
          [
           "#76",
           "Rare",
           "Handiwork 3, Transport 2, Kindling 2"
          ],
          [
           "#76",
           "Rare",
           "Handiwork 3, Transport 2, Kindling 2"
          ]
         ],
         "hovertemplate": "Element Type=Fire<br>Highest Work Suitability Level=%{x}<br>HP=%{y}<br>ID=%{customdata[0]}<br>Rarity=%{customdata[1]}<br>Work Types=%{customdata[2]}<extra></extra>",
         "legendgroup": "Fire",
         "marker": {
          "color": "#EF553B",
          "symbol": "circle"
         },
         "mode": "markers",
         "name": "Fire",
         "orientation": "v",
         "showlegend": true,
         "type": "scatter",
         "x": [
          2,
          4,
          4,
          3,
          3,
          2,
          2,
          2,
          3,
          2,
          1,
          1,
          1,
          4,
          2,
          2,
          4,
          2,
          1,
          2,
          1,
          2,
          2,
          3,
          1,
          1,
          3,
          3,
          3,
          4,
          3,
          3
         ],
         "xaxis": "x",
         "y": [
          85,
          100,
          105,
          105,
          105,
          80,
          80,
          90,
          100,
          75,
          60,
          65,
          60,
          90,
          90,
          95,
          130,
          95,
          70,
          100,
          80,
          100,
          100,
          95,
          70,
          75,
          105,
          120,
          90,
          105,
          90,
          90
         ],
         "yaxis": "y"
        },
        {
         "customdata": [
          [
           "#98",
           "Epic",
           "Handiwork 1, Mining 4"
          ],
          [
           "#82",
           "Rare",
           "Watering 3"
          ],
          [
           "#82",
           "Epic",
           "Cooling 3"
          ],
          [
           "#55",
           "Common",
           "Gathering 1, Cooling 1"
          ],
          [
           "#64",
           "Rare",
           "Planting 2"
          ],
          [
           "#64",
           "Rare",
           "None"
          ],
          [
           "#80",
           "Rare",
           "None"
          ],
          [
           "#80",
           "Epic",
           "Watering 3"
          ],
          [
           "#111",
           "Legendary",
           "Gathering 3"
          ],
          [
           "#101",
           "Epic",
           "Watering 4"
          ],
          [
           "#106",
           "Epic",
           "Handiwork 2, Transport 3"
          ],
          [
           "#95",
           "Rare",
           "Handiwork 1, Mining 2, Transport 3, Gathering 2"
          ],
          [
           "#95",
           "Epic",
           "Handiwork 1, Mining 2, Transport 3, Gathering 2, Planting 2"
          ],
          [
           "#85",
           "Epic",
           "Transport 1, Watering 2"
          ],
          [
           "#85",
           "Epic",
           "Transport 1"
          ],
          [
           "#130",
           "Epic",
           "None"
          ],
          [
           "#126",
           "Epic",
           "Mining 3"
          ],
          [
           "#127",
           "Epic",
           "Gathering 1"
          ]
         ],
         "hovertemplate": "Element Type=Dragon<br>Highest Work Suitability Level=%{x}<br>HP=%{y}<br>ID=%{customdata[0]}<br>Rarity=%{customdata[1]}<br>Work Types=%{customdata[2]}<extra></extra>",
         "legendgroup": "Dragon",
         "marker": {
          "color": "#00cc96",
          "symbol": "circle"
         },
         "mode": "markers",
         "name": "Dragon",
         "orientation": "v",
         "showlegend": true,
         "type": "scatter",
         "x": [
          4,
          3,
          3,
          1,
          2,
          0,
          0,
          3,
          3,
          4,
          3,
          3,
          3,
          2,
          1,
          0,
          3,
          1
         ],
         "xaxis": "x",
         "y": [
          100,
          110,
          115,
          90,
          110,
          110,
          110,
          115,
          110,
          130,
          100,
          105,
          105,
          110,
          110,
          120,
          110,
          130
         ],
         "yaxis": "y"
        },
        {
         "customdata": [
          [
           "#136",
           "Rare",
           "Gathering 1"
          ],
          [
           "#73",
           "Rare",
           "Transport 3, Gathering 1"
          ],
          [
           "#25",
           "Common",
           "Transport 1, Watering 1"
          ],
          [
           "#62",
           "Common",
           "Handiwork 1, Transport 1"
          ],
          [
           "#93",
           "Common",
           "None"
          ],
          [
           "#103",
           "Epic",
           "Handiwork 2, Transport 3"
          ],
          [
           "#12",
           "Common",
           "None"
          ],
          [
           "#33",
           "Rare",
           "Handiwork 2, Transport 3"
          ],
          [
           "#10",
           "Common",
           "Handiwork 1, Transport 1, Watering 1"
          ],
          [
           "#11",
           "Rare",
           "Handiwork 2, Mining 2, Transport 2, Watering 2"
          ],
          [
           "#60",
           "Rare",
           "None"
          ],
          [
           "#7",
           "Common",
           "Handiwork 1, Transport 1"
          ],
          [
           "#56",
           "Rare",
           "None"
          ]
         ],
         "hovertemplate": "Element Type=Electricity<br>Highest Work Suitability Level=%{x}<br>HP=%{y}<br>ID=%{customdata[0]}<br>Rarity=%{customdata[1]}<br>Work Types=%{customdata[2]}<extra></extra>",
         "legendgroup": "Electricity",
         "marker": {
          "color": "#ab63fa",
          "symbol": "circle"
         },
         "mode": "markers",
         "name": "Electricity",
         "orientation": "v",
         "showlegend": true,
         "type": "scatter",
         "x": [
          1,
          3,
          1,
          1,
          0,
          3,
          0,
          3,
          1,
          2,
          0,
          1,
          0
         ],
         "xaxis": "x",
         "y": [
          130,
          105,
          80,
          70,
          110,
          105,
          70,
          100,
          70,
          100,
          90,
          60,
          80
         ],
         "yaxis": "y"
        },
        {
         "customdata": [
          [
           "#137",
           "Epic",
           "Mining 3, Cooling 4"
          ],
          [
           "#83",
           "Rare",
           "Handiwork 1, Transport 3, Cooling 3"
          ],
          [
           "#57",
           "Rare",
           "Cooling 2"
          ],
          [
           "#5",
           "Common",
           "Cooling 1"
          ],
          [
           "#110",
           "Legendary",
           "Cooling 4"
          ],
          [
           "#143",
           "Common",
           "Gathering 1, Cooling 2"
          ],
          [
           "#32",
           "Common",
           "Handiwork 1, Transport 2, Gathering 1, Cooling 1"
          ],
          [
           "#142",
           "Common",
           "Handiwork 2, Transport 1, Cooling 3, Medicine 2"
          ],
          [
           "#12",
           "Common",
           "Cooling 1"
          ],
          [
           "#89",
           "Epic",
           "Gathering 1, Cooling 3"
          ],
          [
           "#46",
           "Common",
           "Handiwork 2, Cooling 3"
          ],
          [
           "#24",
           "Common",
           "Cooling 1"
          ],
          [
           "#59",
           "Common",
           "Cooling 2"
          ],
          [
           "#79",
           "Rare",
           "Cooling 2, Medicine 2"
          ],
          [
           "#53",
           "Common",
           "Gathering 1, Cooling 1"
          ],
          [
           "#54",
           "Rare",
           "Gathering 2, Cooling 2"
          ],
          [
           "#91",
           "Rare",
           "Handiwork 2, Transport 4, Cooling 2"
          ]
         ],
         "hovertemplate": "Element Type=Ice<br>Highest Work Suitability Level=%{x}<br>HP=%{y}<br>ID=%{customdata[0]}<br>Rarity=%{customdata[1]}<br>Work Types=%{customdata[2]}<extra></extra>",
         "legendgroup": "Ice",
         "marker": {
          "color": "#FFA15A",
          "symbol": "circle"
         },
         "mode": "markers",
         "name": "Ice",
         "orientation": "v",
         "showlegend": true,
         "type": "scatter",
         "x": [
          4,
          3,
          2,
          1,
          4,
          2,
          2,
          3,
          1,
          3,
          3,
          1,
          2,
          2,
          1,
          2,
          4
         ],
         "xaxis": "x",
         "y": [
          140,
          100,
          90,
          65,
          140,
          110,
          80,
          95,
          70,
          120,
          80,
          70,
          100,
          110,
          60,
          100,
          140
         ],
         "yaxis": "y"
        },
        {
         "customdata": [
          [
           "#50",
           "Common",
           "Handiwork 1, Transport 2, Gathering 1, Medicine 1, Planting 1"
          ],
          [
           "#30",
           "Common",
           "Handiwork 1, Transport 1, Gathering 1, Medicine 2, Planting 1"
          ],
          [
           "#86",
           "Rare",
           "Planting 3"
          ],
          [
           "#35",
           "Common",
           "Planting 2"
          ],
          [
           "#41",
           "Common",
           "Medicine 1, Planting 2"
          ],
          [
           "#51",
           "Epic",
           "Handiwork 2, Gathering 2, Medicine 2, Planting 2"
          ],
          [
           "#28",
           "Common",
           "Handiwork 1, Transport 1, Gathering 1, Medicine 1, Planting 1"
          ],
          [
           "#-1",
           "Common",
           "Transport 1"
          ],
          [
           "#141",
           "Common",
           "Transport 1, Gathering 1, Planting 2"
          ],
          [
           "#4",
           "Common",
           "Handiwork 1, Gathering 1, Medicine 1, Planting 1"
          ],
          [
           "#115",
           "Common",
           "Handiwork 2, Gathering 1, Medicine 2, Planting 2"
          ],
          [
           "#104",
           "Epic",
           "Handiwork 3, Gathering 2, Medicine 3, Planting 4"
          ],
          [
           "#33",
           "Rare",
           "Handiwork 2, Transport 3, Planting 2"
          ],
          [
           "#144",
           "Common",
           "Mining 3, Gathering 2, Planting 2"
          ],
          [
           "#87",
           "Epic",
           "Handiwork 2, Transport 1, Gathering 2, Medicine 2, Planting 3"
          ],
          [
           "#39",
           "Common",
           "Handiwork 1, Transport 1, Gathering 1, Planting 1"
          ],
          [
           "#48",
           "Rare",
           "Handiwork 2, Transport 2, Gathering 2, Medicine 1, Planting 1"
          ],
          [
           "#116",
           "Common",
           "Handiwork 1, Gathering 2, Planting 2"
          ],
          [
           "#8",
           "Common",
           "Handiwork 1, Transport 1, Gathering 1, Planting 1"
          ],
          [
           "#78",
           "Epic",
           "Handiwork 2, Transport 1, Gathering 2, Medicine 3, Planting 2"
          ],
          [
           "#77",
           "Epic",
           "Handiwork 3, Transport 2, Gathering 3, Planting 2"
          ],
          [
           "#91",
           "Epic",
           "Handiwork 2, Transport 4, Planting 1"
          ]
         ],
         "hovertemplate": "Element Type=Leaf<br>Highest Work Suitability Level=%{x}<br>HP=%{y}<br>ID=%{customdata[0]}<br>Rarity=%{customdata[1]}<br>Work Types=%{customdata[2]}<extra></extra>",
         "legendgroup": "Leaf",
         "marker": {
          "color": "#19d3f3",
          "symbol": "circle"
         },
         "mode": "markers",
         "name": "Leaf",
         "orientation": "v",
         "showlegend": true,
         "type": "scatter",
         "x": [
          2,
          2,
          3,
          2,
          2,
          2,
          1,
          1,
          2,
          1,
          2,
          4,
          3,
          3,
          3,
          1,
          2,
          2,
          1,
          3,
          3,
          4
         ],
         "xaxis": "x",
         "y": [
          80,
          80,
          120,
          100,
          70,
          90,
          75,
          65,
          80,
          75,
          90,
          110,
          100,
          105,
          100,
          80,
          90,
          110,
          80,
          100,
          90,
          140
         ],
         "yaxis": "y"
        },
        {
         "customdata": [
          [
           "#112",
           "Legendary",
           "Handiwork 2, Transport 2, Medicine 4"
          ],
          [
           "#112",
           "Legendary",
           "Handiwork 2, Transport 2, Medicine 4"
          ],
          [
           "#35",
           "Common",
           "Planting 2"
          ],
          [
           "#44",
           "Common",
           "None"
          ],
          [
           "#114",
           "Rare",
           "Handiwork 1, Transport 1, Gathering 1, Watering 1"
          ],
          [
           "#19",
           "Common",
           "Handiwork 1, Transport 1, Gathering 1"
          ],
          [
           "#62",
           "Common",
           "Handiwork 1, Transport 1, Medicine 1"
          ],
          [
           "#-1",
           "Common",
           "Transport 1"
          ],
          [
           "#17",
           "Common",
           "Handiwork 1, Mining 1, Transport 1"
          ],
          [
           "#-1",
           "Rare",
           "Transport 4"
          ],
          [
           "#94",
           "Rare",
           "Medicine 3"
          ],
          [
           "#110",
           "Legendary",
           "Gathering 4"
          ],
          [
           "#153",
           "Rare",
           "Transport 2, Watering 4"
          ],
          [
           "#151",
           "Rare",
           "Handiwork 2, Transport 2, Watering 2"
          ],
          [
           "#97",
           "Rare",
           "Transport 3"
          ],
          [
           "#97",
           "Epic",
           "Transport 3"
          ],
          [
           "#15",
           "Common",
           "Gathering 1"
          ],
          [
           "#40",
           "Rare",
           "Handiwork 2, Mining 1, Transport 2"
          ],
          [
           "#149",
           "Common",
           "Handiwork 1, Transport 1, Watering 2, Medicine 1"
          ],
          [
           "#75",
           "Rare",
           "Handiwork 2, Transport 2, Medicine 2"
          ],
          [
           "#23",
           "Common",
           "Transport 2, Gathering 1, Watering 1"
          ],
          [
           "#61",
           "Rare",
           "Kindling 2"
          ],
          [
           "#45",
           "Common",
           "Handiwork 1, Transport 1, Gathering 1"
          ],
          [
           "#46",
           "Common",
           "Handiwork 2"
          ],
          [
           "#104",
           "Epic",
           "Handiwork 3, Gathering 2, Medicine 3"
          ],
          [
           "#66",
           "Rare",
           "Mining 1, Gathering 2"
          ],
          [
           "#24",
           "Common",
           "None"
          ],
          [
           "#109",
           "Legendary",
           "Mining 2"
          ],
          [
           "#128",
           "Rare",
           "Handiwork 3, Transport 2"
          ],
          [
           "#21",
           "Rare",
           "Gathering 1"
          ],
          [
           "#139",
           "Common",
           "Handiwork 3, Transport 2, Gathering 2"
          ],
          [
           "#133",
           "Common",
           "Gathering 1"
          ],
          [
           "#138",
           "Rare",
           "Handiwork 1, Transport 1, Gathering 2, Medicine 3, Planting 3"
          ],
          [
           "#-1",
           "Common",
           "Transport 1"
          ],
          [
           "#113",
           "Epic",
           "Handiwork 4, Transport 3, Medicine 3"
          ],
          [
           "#107",
           "Epic",
           "Gathering 1"
          ],
          [
           "#116",
           "Rare",
           "Handiwork 1, Gathering 2, Planting 2"
          ],
          [
           "#131",
           "Common",
           "Gathering 2"
          ],
          [
           "#134",
           "Common",
           "Handiwork 4, Transport 2, Medicine 3"
          ],
          [
           "#129",
           "Rare",
           "Gathering 2"
          ],
          [
           "#135",
           "Common",
           "Handiwork 2, Transport 2, Gathering 2, Medicine 2"
          ],
          [
           "#68",
           "Rare",
           "Mining 2, Transport 2, Gathering 2"
          ],
          [
           "#71",
           "Rare",
           "Transport 3, Cooling 2"
          ],
          [
           "#125",
           "Rare",
           "Transport 2"
          ]
         ],
         "hovertemplate": "Element Type=Dark<br>Highest Work Suitability Level=%{x}<br>HP=%{y}<br>ID=%{customdata[0]}<br>Rarity=%{customdata[1]}<br>Work Types=%{customdata[2]}<extra></extra>",
         "legendgroup": "Dark",
         "marker": {
          "color": "#FF6692",
          "symbol": "circle"
         },
         "mode": "markers",
         "name": "Dark",
         "orientation": "v",
         "showlegend": true,
         "type": "scatter",
         "x": [
          4,
          4,
          2,
          0,
          1,
          1,
          1,
          1,
          1,
          4,
          3,
          4,
          4,
          2,
          3,
          3,
          1,
          2,
          2,
          2,
          2,
          2,
          1,
          2,
          3,
          2,
          0,
          2,
          3,
          1,
          3,
          1,
          3,
          1,
          4,
          1,
          2,
          2,
          4,
          2,
          2,
          2,
          3,
          2
         ],
         "xaxis": "x",
         "y": [
          120,
          120,
          100,
          75,
          85,
          70,
          70,
          105,
          70,
          110,
          100,
          140,
          90,
          70,
          100,
          105,
          70,
          95,
          90,
          90,
          60,
          100,
          80,
          80,
          110,
          75,
          70,
          130,
          105,
          75,
          110,
          95,
          105,
          75,
          130,
          120,
          110,
          85,
          95,
          110,
          110,
          95,
          90,
          90
         ],
         "yaxis": "y"
        },
        {
         "customdata": [
          [
           "#-1",
           "Common",
           "Transport 1"
          ],
          [
           "#86",
           "Epic",
           "Watering 3"
          ],
          [
           "#25",
           "Common",
           "Transport 1, Watering 1"
          ],
          [
           "#114",
           "Common",
           "Handiwork 1, Transport 1, Gathering 1, Watering 1"
          ],
          [
           "#105",
           "Epic",
           "Transport 3, Watering 4"
          ],
          [
           "#152",
           "Common",
           "Transport 1, Watering 2"
          ],
          [
           "#6",
           "Common",
           "Handiwork 1, Transport 1, Watering 1"
          ],
          [
           "#31",
           "Common",
           "Handiwork 1, Transport 1, Watering 2"
          ],
          [
           "#150",
           "Common",
           "Handiwork 1, Transport 1, Watering 2"
          ],
          [
           "#81",
           "Common",
           "Watering 1"
          ],
          [
           "#23",
           "Common",
           "Transport 2, Gathering 1, Watering 1"
          ],
          [
           "#146",
           "Common",
           "Transport 1, Watering 1, Cooling 2"
          ],
          [
           "#155",
           "Legendary",
           "Watering 4"
          ],
          [
           "#10",
           "Common",
           "Handiwork 1, Transport 1, Watering 1, Cooling 1"
          ],
          [
           "#11",
           "Rare",
           "Handiwork 2, Mining 2, Transport 2, Watering 2, Cooling 2"
          ],
          [
           "#147",
           "Rare",
           "Watering 2, Cooling 3"
          ],
          [
           "#65",
           "Common",
           "Watering 2"
          ],
          [
           "#102",
           "Epic",
           "Watering 3"
          ],
          [
           "#16",
           "Common",
           "Watering 1"
          ],
          [
           "#148",
           "Common",
           "Mining 1, Transport 1, Watering 2"
          ],
          [
           "#154",
           "Rare",
           "Watering 3, Cooling 4"
          ]
         ],
         "hovertemplate": "Element Type=Water<br>Highest Work Suitability Level=%{x}<br>HP=%{y}<br>ID=%{customdata[0]}<br>Rarity=%{customdata[1]}<br>Work Types=%{customdata[2]}<extra></extra>",
         "legendgroup": "Water",
         "marker": {
          "color": "#B6E880",
          "symbol": "circle"
         },
         "mode": "markers",
         "name": "Water",
         "orientation": "v",
         "showlegend": true,
         "type": "scatter",
         "x": [
          1,
          3,
          1,
          1,
          4,
          2,
          1,
          2,
          2,
          1,
          2,
          2,
          4,
          1,
          2,
          3,
          2,
          3,
          1,
          2,
          4
         ],
         "xaxis": "x",
         "y": [
          70,
          120,
          80,
          80,
          100,
          75,
          60,
          90,
          75,
          70,
          70,
          75,
          105,
          70,
          95,
          95,
          90,
          125,
          70,
          75,
          105
         ],
         "yaxis": "y"
        },
        {
         "customdata": [
          [
           "#2",
           "Common",
           "Handiwork 1, Mining 1, Transport 1, Gathering 1"
          ],
          [
           "#-1",
           "Common",
           "Gathering 1"
          ],
          [
           "#132",
           "Rare",
           "Gathering 1"
          ],
          [
           "#3",
           "Common",
           "Gathering 1"
          ],
          [
           "#18",
           "Common",
           "Gathering 1"
          ],
          [
           "#26",
           "Common",
           "Gathering 1"
          ],
          [
           "#122",
           "Rare",
           "Handiwork 3, Transport 2, Gathering 2, Medicine 1"
          ],
          [
           "#37",
           "Common",
           "None"
          ],
          [
           "#-1",
           "Common",
           "None"
          ],
          [
           "#93",
           "Common",
           "None"
          ],
          [
           "#47",
           "Common",
           "Gathering 2"
          ],
          [
           "#49",
           "Rare",
           "Handiwork 1, Transport 3"
          ],
          [
           "#52",
           "Rare",
           "Gathering 2"
          ],
          [
           "#-1",
           "Common",
           "Gathering 1"
          ],
          [
           "#-1",
           "Common",
           "Transport 1"
          ],
          [
           "#89",
           "Epic",
           "Gathering 1"
          ],
          [
           "#1",
           "Common",
           "Handiwork 1, Transport 1"
          ],
          [
           "#69",
           "Rare",
           "Handiwork 2, Mining 1, Transport 2, Medicine 2"
          ],
          [
           "#63",
           "Rare",
           "Handiwork 3, Transport 1, Gathering 1"
          ],
          [
           "#36",
           "Common",
           "None"
          ],
          [
           "#124",
           "Rare",
           "Transport 1, Gathering 1"
          ],
          [
           "#29",
           "Common",
           "None"
          ],
          [
           "#38",
           "Common",
           "Gathering 2"
          ],
          [
           "#108",
           "Legendary",
           "Mining 2"
          ],
          [
           "#-1",
           "Common",
           "Transport 1"
          ],
          [
           "#39",
           "Common",
           "Handiwork 1, Transport 1, Gathering 1"
          ],
          [
           "#27",
           "Common",
           "Gathering 1"
          ],
          [
           "#14",
           "Common",
           "Gathering 1"
          ],
          [
           "#34",
           "Common",
           "None"
          ],
          [
           "#121",
           "Common",
           "Gathering 2"
          ]
         ],
         "hovertemplate": "Element Type=Normal<br>Highest Work Suitability Level=%{x}<br>HP=%{y}<br>ID=%{customdata[0]}<br>Rarity=%{customdata[1]}<br>Work Types=%{customdata[2]}<extra></extra>",
         "legendgroup": "Normal",
         "marker": {
          "color": "#FF97FF",
          "symbol": "circle"
         },
         "mode": "markers",
         "name": "Normal",
         "orientation": "v",
         "showlegend": true,
         "type": "scatter",
         "x": [
          1,
          1,
          1,
          1,
          1,
          1,
          3,
          0,
          0,
          0,
          2,
          3,
          2,
          1,
          1,
          1,
          1,
          2,
          3,
          0,
          1,
          0,
          2,
          2,
          1,
          1,
          1,
          1,
          0,
          2
         ],
         "xaxis": "x",
         "y": [
          70,
          65,
          120,
          60,
          70,
          80,
          90,
          95,
          95,
          110,
          75,
          90,
          110,
          80,
          80,
          120,
          70,
          120,
          90,
          90,
          60,
          90,
          100,
          130,
          105,
          75,
          60,
          70,
          70,
          85
         ],
         "yaxis": "y"
        }
       ],
       "layout": {
        "autosize": true,
        "legend": {
         "title": {
          "text": "Element Type"
         },
         "tracegroupgap": 0
        },
        "template": {
         "data": {
          "bar": [
           {
            "error_x": {
             "color": "#2a3f5f"
            },
            "error_y": {
             "color": "#2a3f5f"
            },
            "marker": {
             "line": {
              "color": "#E5ECF6",
              "width": 0.5
             },
             "pattern": {
              "fillmode": "overlay",
              "size": 10,
              "solidity": 0.2
             }
            },
            "type": "bar"
           }
          ],
          "barpolar": [
           {
            "marker": {
             "line": {
              "color": "#E5ECF6",
              "width": 0.5
             },
             "pattern": {
              "fillmode": "overlay",
              "size": 10,
              "solidity": 0.2
             }
            },
            "type": "barpolar"
           }
          ],
          "carpet": [
           {
            "aaxis": {
             "endlinecolor": "#2a3f5f",
             "gridcolor": "white",
             "linecolor": "white",
             "minorgridcolor": "white",
             "startlinecolor": "#2a3f5f"
            },
            "baxis": {
             "endlinecolor": "#2a3f5f",
             "gridcolor": "white",
             "linecolor": "white",
             "minorgridcolor": "white",
             "startlinecolor": "#2a3f5f"
            },
            "type": "carpet"
           }
          ],
          "choropleth": [
           {
            "colorbar": {
             "outlinewidth": 0,
             "ticks": ""
            },
            "type": "choropleth"
           }
          ],
          "contour": [
           {
            "colorbar": {
             "outlinewidth": 0,
             "ticks": ""
            },
            "colorscale": [
             [
              0,
              "#0d0887"
             ],
             [
              0.1111111111111111,
              "#46039f"
             ],
             [
              0.2222222222222222,
              "#7201a8"
             ],
             [
              0.3333333333333333,
              "#9c179e"
             ],
             [
              0.4444444444444444,
              "#bd3786"
             ],
             [
              0.5555555555555556,
              "#d8576b"
             ],
             [
              0.6666666666666666,
              "#ed7953"
             ],
             [
              0.7777777777777778,
              "#fb9f3a"
             ],
             [
              0.8888888888888888,
              "#fdca26"
             ],
             [
              1,
              "#f0f921"
             ]
            ],
            "type": "contour"
           }
          ],
          "contourcarpet": [
           {
            "colorbar": {
             "outlinewidth": 0,
             "ticks": ""
            },
            "type": "contourcarpet"
           }
          ],
          "heatmap": [
           {
            "colorbar": {
             "outlinewidth": 0,
             "ticks": ""
            },
            "colorscale": [
             [
              0,
              "#0d0887"
             ],
             [
              0.1111111111111111,
              "#46039f"
             ],
             [
              0.2222222222222222,
              "#7201a8"
             ],
             [
              0.3333333333333333,
              "#9c179e"
             ],
             [
              0.4444444444444444,
              "#bd3786"
             ],
             [
              0.5555555555555556,
              "#d8576b"
             ],
             [
              0.6666666666666666,
              "#ed7953"
             ],
             [
              0.7777777777777778,
              "#fb9f3a"
             ],
             [
              0.8888888888888888,
              "#fdca26"
             ],
             [
              1,
              "#f0f921"
             ]
            ],
            "type": "heatmap"
           }
          ],
          "heatmapgl": [
           {
            "colorbar": {
             "outlinewidth": 0,
             "ticks": ""
            },
            "colorscale": [
             [
              0,
              "#0d0887"
             ],
             [
              0.1111111111111111,
              "#46039f"
             ],
             [
              0.2222222222222222,
              "#7201a8"
             ],
             [
              0.3333333333333333,
              "#9c179e"
             ],
             [
              0.4444444444444444,
              "#bd3786"
             ],
             [
              0.5555555555555556,
              "#d8576b"
             ],
             [
              0.6666666666666666,
              "#ed7953"
             ],
             [
              0.7777777777777778,
              "#fb9f3a"
             ],
             [
              0.8888888888888888,
              "#fdca26"
             ],
             [
              1,
              "#f0f921"
             ]
            ],
            "type": "heatmapgl"
           }
          ],
          "histogram": [
           {
            "marker": {
             "pattern": {
              "fillmode": "overlay",
              "size": 10,
              "solidity": 0.2
             }
            },
            "type": "histogram"
           }
          ],
          "histogram2d": [
           {
            "colorbar": {
             "outlinewidth": 0,
             "ticks": ""
            },
            "colorscale": [
             [
              0,
              "#0d0887"
             ],
             [
              0.1111111111111111,
              "#46039f"
             ],
             [
              0.2222222222222222,
              "#7201a8"
             ],
             [
              0.3333333333333333,
              "#9c179e"
             ],
             [
              0.4444444444444444,
              "#bd3786"
             ],
             [
              0.5555555555555556,
              "#d8576b"
             ],
             [
              0.6666666666666666,
              "#ed7953"
             ],
             [
              0.7777777777777778,
              "#fb9f3a"
             ],
             [
              0.8888888888888888,
              "#fdca26"
             ],
             [
              1,
              "#f0f921"
             ]
            ],
            "type": "histogram2d"
           }
          ],
          "histogram2dcontour": [
           {
            "colorbar": {
             "outlinewidth": 0,
             "ticks": ""
            },
            "colorscale": [
             [
              0,
              "#0d0887"
             ],
             [
              0.1111111111111111,
              "#46039f"
             ],
             [
              0.2222222222222222,
              "#7201a8"
             ],
             [
              0.3333333333333333,
              "#9c179e"
             ],
             [
              0.4444444444444444,
              "#bd3786"
             ],
             [
              0.5555555555555556,
              "#d8576b"
             ],
             [
              0.6666666666666666,
              "#ed7953"
             ],
             [
              0.7777777777777778,
              "#fb9f3a"
             ],
             [
              0.8888888888888888,
              "#fdca26"
             ],
             [
              1,
              "#f0f921"
             ]
            ],
            "type": "histogram2dcontour"
           }
          ],
          "mesh3d": [
           {
            "colorbar": {
             "outlinewidth": 0,
             "ticks": ""
            },
            "type": "mesh3d"
           }
          ],
          "parcoords": [
           {
            "line": {
             "colorbar": {
              "outlinewidth": 0,
              "ticks": ""
             }
            },
            "type": "parcoords"
           }
          ],
          "pie": [
           {
            "automargin": true,
            "type": "pie"
           }
          ],
          "scatter": [
           {
            "fillpattern": {
             "fillmode": "overlay",
             "size": 10,
             "solidity": 0.2
            },
            "type": "scatter"
           }
          ],
          "scatter3d": [
           {
            "line": {
             "colorbar": {
              "outlinewidth": 0,
              "ticks": ""
             }
            },
            "marker": {
             "colorbar": {
              "outlinewidth": 0,
              "ticks": ""
             }
            },
            "type": "scatter3d"
           }
          ],
          "scattercarpet": [
           {
            "marker": {
             "colorbar": {
              "outlinewidth": 0,
              "ticks": ""
             }
            },
            "type": "scattercarpet"
           }
          ],
          "scattergeo": [
           {
            "marker": {
             "colorbar": {
              "outlinewidth": 0,
              "ticks": ""
             }
            },
            "type": "scattergeo"
           }
          ],
          "scattergl": [
           {
            "marker": {
             "colorbar": {
              "outlinewidth": 0,
              "ticks": ""
             }
            },
            "type": "scattergl"
           }
          ],
          "scattermapbox": [
           {
            "marker": {
             "colorbar": {
              "outlinewidth": 0,
              "ticks": ""
             }
            },
            "type": "scattermapbox"
           }
          ],
          "scatterpolar": [
           {
            "marker": {
             "colorbar": {
              "outlinewidth": 0,
              "ticks": ""
             }
            },
            "type": "scatterpolar"
           }
          ],
          "scatterpolargl": [
           {
            "marker": {
             "colorbar": {
              "outlinewidth": 0,
              "ticks": ""
             }
            },
            "type": "scatterpolargl"
           }
          ],
          "scatterternary": [
           {
            "marker": {
             "colorbar": {
              "outlinewidth": 0,
              "ticks": ""
             }
            },
            "type": "scatterternary"
           }
          ],
          "surface": [
           {
            "colorbar": {
             "outlinewidth": 0,
             "ticks": ""
            },
            "colorscale": [
             [
              0,
              "#0d0887"
             ],
             [
              0.1111111111111111,
              "#46039f"
             ],
             [
              0.2222222222222222,
              "#7201a8"
             ],
             [
              0.3333333333333333,
              "#9c179e"
             ],
             [
              0.4444444444444444,
              "#bd3786"
             ],
             [
              0.5555555555555556,
              "#d8576b"
             ],
             [
              0.6666666666666666,
              "#ed7953"
             ],
             [
              0.7777777777777778,
              "#fb9f3a"
             ],
             [
              0.8888888888888888,
              "#fdca26"
             ],
             [
              1,
              "#f0f921"
             ]
            ],
            "type": "surface"
           }
          ],
          "table": [
           {
            "cells": {
             "fill": {
              "color": "#EBF0F8"
             },
             "line": {
              "color": "white"
             }
            },
            "header": {
             "fill": {
              "color": "#C8D4E3"
             },
             "line": {
              "color": "white"
             }
            },
            "type": "table"
           }
          ]
         },
         "layout": {
          "annotationdefaults": {
           "arrowcolor": "#2a3f5f",
           "arrowhead": 0,
           "arrowwidth": 1
          },
          "autotypenumbers": "strict",
          "coloraxis": {
           "colorbar": {
            "outlinewidth": 0,
            "ticks": ""
           }
          },
          "colorscale": {
           "diverging": [
            [
             0,
             "#8e0152"
            ],
            [
             0.1,
             "#c51b7d"
            ],
            [
             0.2,
             "#de77ae"
            ],
            [
             0.3,
             "#f1b6da"
            ],
            [
             0.4,
             "#fde0ef"
            ],
            [
             0.5,
             "#f7f7f7"
            ],
            [
             0.6,
             "#e6f5d0"
            ],
            [
             0.7,
             "#b8e186"
            ],
            [
             0.8,
             "#7fbc41"
            ],
            [
             0.9,
             "#4d9221"
            ],
            [
             1,
             "#276419"
            ]
           ],
           "sequential": [
            [
             0,
             "#0d0887"
            ],
            [
             0.1111111111111111,
             "#46039f"
            ],
            [
             0.2222222222222222,
             "#7201a8"
            ],
            [
             0.3333333333333333,
             "#9c179e"
            ],
            [
             0.4444444444444444,
             "#bd3786"
            ],
            [
             0.5555555555555556,
             "#d8576b"
            ],
            [
             0.6666666666666666,
             "#ed7953"
            ],
            [
             0.7777777777777778,
             "#fb9f3a"
            ],
            [
             0.8888888888888888,
             "#fdca26"
            ],
            [
             1,
             "#f0f921"
            ]
           ],
           "sequentialminus": [
            [
             0,
             "#0d0887"
            ],
            [
             0.1111111111111111,
             "#46039f"
            ],
            [
             0.2222222222222222,
             "#7201a8"
            ],
            [
             0.3333333333333333,
             "#9c179e"
            ],
            [
             0.4444444444444444,
             "#bd3786"
            ],
            [
             0.5555555555555556,
             "#d8576b"
            ],
            [
             0.6666666666666666,
             "#ed7953"
            ],
            [
             0.7777777777777778,
             "#fb9f3a"
            ],
            [
             0.8888888888888888,
             "#fdca26"
            ],
            [
             1,
             "#f0f921"
            ]
           ]
          },
          "colorway": [
           "#636efa",
           "#EF553B",
           "#00cc96",
           "#ab63fa",
           "#FFA15A",
           "#19d3f3",
           "#FF6692",
           "#B6E880",
           "#FF97FF",
           "#FECB52"
          ],
          "font": {
           "color": "#2a3f5f"
          },
          "geo": {
           "bgcolor": "white",
           "lakecolor": "white",
           "landcolor": "#E5ECF6",
           "showlakes": true,
           "showland": true,
           "subunitcolor": "white"
          },
          "hoverlabel": {
           "align": "left"
          },
          "hovermode": "closest",
          "mapbox": {
           "style": "light"
          },
          "paper_bgcolor": "white",
          "plot_bgcolor": "#E5ECF6",
          "polar": {
           "angularaxis": {
            "gridcolor": "white",
            "linecolor": "white",
            "ticks": ""
           },
           "bgcolor": "#E5ECF6",
           "radialaxis": {
            "gridcolor": "white",
            "linecolor": "white",
            "ticks": ""
           }
          },
          "scene": {
           "xaxis": {
            "backgroundcolor": "#E5ECF6",
            "gridcolor": "white",
            "gridwidth": 2,
            "linecolor": "white",
            "showbackground": true,
            "ticks": "",
            "zerolinecolor": "white"
           },
           "yaxis": {
            "backgroundcolor": "#E5ECF6",
            "gridcolor": "white",
            "gridwidth": 2,
            "linecolor": "white",
            "showbackground": true,
            "ticks": "",
            "zerolinecolor": "white"
           },
           "zaxis": {
            "backgroundcolor": "#E5ECF6",
            "gridcolor": "white",
            "gridwidth": 2,
            "linecolor": "white",
            "showbackground": true,
            "ticks": "",
            "zerolinecolor": "white"
           }
          },
          "shapedefaults": {
           "line": {
            "color": "#2a3f5f"
           }
          },
          "ternary": {
           "aaxis": {
            "gridcolor": "white",
            "linecolor": "white",
            "ticks": ""
           },
           "baxis": {
            "gridcolor": "white",
            "linecolor": "white",
            "ticks": ""
           },
           "bgcolor": "#E5ECF6",
           "caxis": {
            "gridcolor": "white",
            "linecolor": "white",
            "ticks": ""
           }
          },
          "title": {
           "x": 0.05
          },
          "xaxis": {
           "automargin": true,
           "gridcolor": "white",
           "linecolor": "white",
           "ticks": "",
           "title": {
            "standoff": 15
           },
           "zerolinecolor": "white",
           "zerolinewidth": 2
          },
          "yaxis": {
           "automargin": true,
           "gridcolor": "white",
           "linecolor": "white",
           "ticks": "",
           "title": {
            "standoff": 15
           },
           "zerolinecolor": "white",
           "zerolinewidth": 2
          }
         }
        },
        "title": {
         "text": "Work Suitability vs HP by Element Type"
        },
        "xaxis": {
         "anchor": "y",
         "autorange": true,
         "domain": [
          0,
          1
         ],
         "range": [
          -0.24325006308352265,
          4.243250063083523
         ],
         "title": {
          "text": "Highest Work Suitability Level"
         },
         "type": "linear"
        },
        "yaxis": {
         "anchor": "x",
         "autorange": true,
         "domain": [
          0,
          1
         ],
         "range": [
          52.57281553398058,
          157.4271844660194
         ],
         "title": {
          "text": "HP"
         },
         "type": "linear"
        }
       }
      },
      "image/png": "[encoded data removed]",
      "text/html": [
       "<div>                            <div id=\"7e5bf380-320e-4a22-88d0-92485857c3e7\" class=\"plotly-graph-div\" style=\"height:525px; width:100%;\"></div>            <script type=\"text/javascript\">                require([\"plotly\"], function(Plotly) {                    window.PLOTLYENV=window.PLOTLYENV || {};                                    if (document.getElementById(\"7e5bf380-320e-4a22-88d0-92485857c3e7\")) {                    Plotly.newPlot(                        \"7e5bf380-320e-4a22-88d0-92485857c3e7\",                        [{\"customdata\":[[\"#100\",\"Epic\",\"Handiwork 4, Mining 3, Transport 2\"],[\"#145\",\"Rare\",\"Mining 2, Gathering 4, Planting 4\"],[\"#83\",\"Rare\",\"Handiwork 1, Mining 3, Transport 3\"],[\"#123\",\"Rare\",\"Gathering 2\"],[\"#67\",\"Rare\",\"Mining 3\"],[\"#43\",\"Common\",\"Mining 2, Transport 1, Watering 1\"],[\"#43\",\"Rare\",\"Mining 2, Transport 1, Watering 1\"],[\"#37\",\"Rare\",\"None\"],[\"#22\",\"Common\",\"Handiwork 1, Mining 1, Transport 1\"],[\"#140\",\"Epic\",\"Gathering 2\"],[\"#49\",\"Rare\",\"Handiwork 1, Mining 2, Transport 3\"],[\"#13\",\"Common\",\"Planting 1\"],[\"#32\",\"Common\",\"Handiwork 1, Transport 2, Gathering 1\"],[\"#117\",\"Common\",\"Mining 1\"],[\"#120\",\"Epic\",\"Mining 4, Transport 4, Gathering 3\"],[\"#90\",\"Epic\",\"Mining 2, Planting 2\"],[\"#90\",\"Epic\",\"Mining 2, Cooling 2\"],[\"#99\",\"Epic\",\"Mining 3\"],[\"#99\",\"Epic\",\"Mining 3\"],[\"#119\",\"Rare\",\"Gathering 1, Medicine 1\"],[\"#88\",\"Rare\",\"Mining 3, Kindling 3\"],[\"#88\",\"Rare\",\"Mining 3, Cooling 3\"],[\"#48\",\"Rare\",\"Handiwork 2, Transport 2, Gathering 2, Medicine 1\"],[\"#20\",\"Common\",\"Mining 1\"],[\"#65\",\"Rare\",\"Gathering 1\"],[\"#148\",\"Common\",\"Mining 1, Transport 1, Watering 2\"],[\"#92\",\"Epic\",\"Handiwork 1, Transport 3, Planting 1\"],[\"#92\",\"Epic\",\"Handiwork 1, Mining 3, Transport 3\"]],\"hovertemplate\":\"Element Type=Earth\\u003cbr\\u003eHighest Work Suitability Level=%{x}\\u003cbr\\u003eHP=%{y}\\u003cbr\\u003eID=%{customdata[0]}\\u003cbr\\u003eRarity=%{customdata[1]}\\u003cbr\\u003eWork Types=%{customdata[2]}\\u003cextra\\u003e\\u003c\\u002fextra\\u003e\",\"legendgroup\":\"Earth\",\"marker\":{\"color\":\"#636efa\",\"symbol\":\"circle\"},\"mode\":\"markers\",\"name\":\"Earth\",\"orientation\":\"v\",\"showlegend\":true,\"x\":[4.0,4.0,3.0,2.0,3.0,2.0,2.0,0.0,1.0,2.0,3.0,1.0,2.0,1.0,4.0,2.0,2.0,3.0,3.0,1.0,3.0,3.0,2.0,1.0,1.0,2.0,3.0,3.0],\"xaxis\":\"x\",\"y\":[120.0,130.0,100.0,95.0,80.0,100.0,105.0,95.0,65.0,120.0,90.0,70.0,80.0,75.0,105.0,150.0,150.0,100.0,100.0,90.0,110.0,110.0,90.0,80.0,90.0,85.0,120.0,120.0],\"yaxis\":\"y\",\"type\":\"scatter\"},{\"customdata\":[[\"#42\",\"Common\",\"Kindling 2\"],[\"#96\",\"Epic\",\"Mining 4, Kindling 3\"],[\"#96\",\"Epic\",\"Mining 4, Kindling 4\"],[\"#84\",\"Rare\",\"Kindling 3\"],[\"#84\",\"Epic\",\"Kindling 3\"],[\"#72\",\"Rare\",\"Handiwork 1, Transport 2, Kindling 2, Gathering 1\"],[\"#72\",\"Rare\",\"Handiwork 1, Transport 2, Kindling 2, Gathering 1\"],[\"#55\",\"Rare\",\"Kindling 2, Gathering 1\"],[\"#105\",\"Epic\",\"Transport 3, Kindling 3\"],[\"#152\",\"Common\",\"Transport 1, Kindling 2, Watering 2\"],[\"#70\",\"Common\",\"Handiwork 1, Transport 1, Kindling 1\"],[\"#5\",\"Common\",\"Kindling 1\"],[\"#6\",\"Common\",\"Handiwork 1, Transport 1, Kindling 1, Watering 1\"],[\"#153\",\"Rare\",\"Transport 2, Kindling 3, Watering 4\"],[\"#31\",\"Common\",\"Handiwork 1, Transport 1, Kindling 2\"],[\"#40\",\"Common\",\"Handiwork 2, Mining 1, Transport 2, Kindling 1\"],[\"#101\",\"Epic\",\"Kindling 4\"],[\"#75\",\"Rare\",\"Handiwork 2, Transport 2, Kindling 2, Medicine 2\"],[\"#81\",\"Common\",\"Kindling 1\"],[\"#61\",\"Rare\",\"Kindling 2\"],[\"#45\",\"Common\",\"Handiwork 1, Transport 1, Kindling 1, Gathering 1\"],[\"#58\",\"Rare\",\"Kindling 2\"],[\"#58\",\"Rare\",\"Kindling 2\"],[\"#74\",\"Rare\",\"Transport 3, Kindling 3\"],[\"#-1\",\"Common\",\"Transport 1\"],[\"#9\",\"Common\",\"Kindling 1\"],[\"#118\",\"Rare\",\"Handiwork 2, Mining 2, Kindling 3, Gathering 1\"],[\"#102\",\"Epic\",\"Kindling 3\"],[\"#71\",\"Common\",\"Transport 3, Kindling 1\"],[\"#154\",\"Epic\",\"Kindling 3, Cooling 4\"],[\"#76\",\"Rare\",\"Handiwork 3, Transport 2, Kindling 2\"],[\"#76\",\"Rare\",\"Handiwork 3, Transport 2, Kindling 2\"]],\"hovertemplate\":\"Element Type=Fire\\u003cbr\\u003eHighest Work Suitability Level=%{x}\\u003cbr\\u003eHP=%{y}\\u003cbr\\u003eID=%{customdata[0]}\\u003cbr\\u003eRarity=%{customdata[1]}\\u003cbr\\u003eWork Types=%{customdata[2]}\\u003cextra\\u003e\\u003c\\u002fextra\\u003e\",\"legendgroup\":\"Fire\",\"marker\":{\"color\":\"#EF553B\",\"symbol\":\"circle\"},\"mode\":\"markers\",\"name\":\"Fire\",\"orientation\":\"v\",\"showlegend\":true,\"x\":[2.0,4.0,4.0,3.0,3.0,2.0,2.0,2.0,3.0,2.0,1.0,1.0,1.0,4.0,2.0,2.0,4.0,2.0,1.0,2.0,1.0,2.0,2.0,3.0,1.0,1.0,3.0,3.0,3.0,4.0,3.0,3.0],\"xaxis\":\"x\",\"y\":[85.0,100.0,105.0,105.0,105.0,80.0,80.0,90.0,100.0,75.0,60.0,65.0,60.0,90.0,90.0,95.0,130.0,95.0,70.0,100.0,80.0,100.0,100.0,95.0,70.0,75.0,105.0,120.0,90.0,105.0,90.0,90.0],\"yaxis\":\"y\",\"type\":\"scatter\"},{\"customdata\":[[\"#98\",\"Epic\",\"Handiwork 1, Mining 4\"],[\"#82\",\"Rare\",\"Watering 3\"],[\"#82\",\"Epic\",\"Cooling 3\"],[\"#55\",\"Common\",\"Gathering 1, Cooling 1\"],[\"#64\",\"Rare\",\"Planting 2\"],[\"#64\",\"Rare\",\"None\"],[\"#80\",\"Rare\",\"None\"],[\"#80\",\"Epic\",\"Watering 3\"],[\"#111\",\"Legendary\",\"Gathering 3\"],[\"#101\",\"Epic\",\"Watering 4\"],[\"#106\",\"Epic\",\"Handiwork 2, Transport 3\"],[\"#95\",\"Rare\",\"Handiwork 1, Mining 2, Transport 3, Gathering 2\"],[\"#95\",\"Epic\",\"Handiwork 1, Mining 2, Transport 3, Gathering 2, Planting 2\"],[\"#85\",\"Epic\",\"Transport 1, Watering 2\"],[\"#85\",\"Epic\",\"Transport 1\"],[\"#130\",\"Epic\",\"None\"],[\"#126\",\"Epic\",\"Mining 3\"],[\"#127\",\"Epic\",\"Gathering 1\"]],\"hovertemplate\":\"Element Type=Dragon\\u003cbr\\u003eHighest Work Suitability Level=%{x}\\u003cbr\\u003eHP=%{y}\\u003cbr\\u003eID=%{customdata[0]}\\u003cbr\\u003eRarity=%{customdata[1]}\\u003cbr\\u003eWork Types=%{customdata[2]}\\u003cextra\\u003e\\u003c\\u002fextra\\u003e\",\"legendgroup\":\"Dragon\",\"marker\":{\"color\":\"#00cc96\",\"symbol\":\"circle\"},\"mode\":\"markers\",\"name\":\"Dragon\",\"orientation\":\"v\",\"showlegend\":true,\"x\":[4.0,3.0,3.0,1.0,2.0,0.0,0.0,3.0,3.0,4.0,3.0,3.0,3.0,2.0,1.0,0.0,3.0,1.0],\"xaxis\":\"x\",\"y\":[100.0,110.0,115.0,90.0,110.0,110.0,110.0,115.0,110.0,130.0,100.0,105.0,105.0,110.0,110.0,120.0,110.0,130.0],\"yaxis\":\"y\",\"type\":\"scatter\"},{\"customdata\":[[\"#136\",\"Rare\",\"Gathering 1\"],[\"#73\",\"Rare\",\"Transport 3, Gathering 1\"],[\"#25\",\"Common\",\"Transport 1, Watering 1\"],[\"#62\",\"Common\",\"Handiwork 1, Transport 1\"],[\"#93\",\"Common\",\"None\"],[\"#103\",\"Epic\",\"Handiwork 2, Transport 3\"],[\"#12\",\"Common\",\"None\"],[\"#33\",\"Rare\",\"Handiwork 2, Transport 3\"],[\"#10\",\"Common\",\"Handiwork 1, Transport 1, Watering 1\"],[\"#11\",\"Rare\",\"Handiwork 2, Mining 2, Transport 2, Watering 2\"],[\"#60\",\"Rare\",\"None\"],[\"#7\",\"Common\",\"Handiwork 1, Transport 1\"],[\"#56\",\"Rare\",\"None\"]],\"hovertemplate\":\"Element Type=Electricity\\u003cbr\\u003eHighest Work Suitability Level=%{x}\\u003cbr\\u003eHP=%{y}\\u003cbr\\u003eID=%{customdata[0]}\\u003cbr\\u003eRarity=%{customdata[1]}\\u003cbr\\u003eWork Types=%{customdata[2]}\\u003cextra\\u003e\\u003c\\u002fextra\\u003e\",\"legendgroup\":\"Electricity\",\"marker\":{\"color\":\"#ab63fa\",\"symbol\":\"circle\"},\"mode\":\"markers\",\"name\":\"Electricity\",\"orientation\":\"v\",\"showlegend\":true,\"x\":[1.0,3.0,1.0,1.0,0.0,3.0,0.0,3.0,1.0,2.0,0.0,1.0,0.0],\"xaxis\":\"x\",\"y\":[130.0,105.0,80.0,70.0,110.0,105.0,70.0,100.0,70.0,100.0,90.0,60.0,80.0],\"yaxis\":\"y\",\"type\":\"scatter\"},{\"customdata\":[[\"#137\",\"Epic\",\"Mining 3, Cooling 4\"],[\"#83\",\"Rare\",\"Handiwork 1, Transport 3, Cooling 3\"],[\"#57\",\"Rare\",\"Cooling 2\"],[\"#5\",\"Common\",\"Cooling 1\"],[\"#110\",\"Legendary\",\"Cooling 4\"],[\"#143\",\"Common\",\"Gathering 1, Cooling 2\"],[\"#32\",\"Common\",\"Handiwork 1, Transport 2, Gathering 1, Cooling 1\"],[\"#142\",\"Common\",\"Handiwork 2, Transport 1, Cooling 3, Medicine 2\"],[\"#12\",\"Common\",\"Cooling 1\"],[\"#89\",\"Epic\",\"Gathering 1, Cooling 3\"],[\"#46\",\"Common\",\"Handiwork 2, Cooling 3\"],[\"#24\",\"Common\",\"Cooling 1\"],[\"#59\",\"Common\",\"Cooling 2\"],[\"#79\",\"Rare\",\"Cooling 2, Medicine 2\"],[\"#53\",\"Common\",\"Gathering 1, Cooling 1\"],[\"#54\",\"Rare\",\"Gathering 2, Cooling 2\"],[\"#91\",\"Rare\",\"Handiwork 2, Transport 4, Cooling 2\"]],\"hovertemplate\":\"Element Type=Ice\\u003cbr\\u003eHighest Work Suitability Level=%{x}\\u003cbr\\u003eHP=%{y}\\u003cbr\\u003eID=%{customdata[0]}\\u003cbr\\u003eRarity=%{customdata[1]}\\u003cbr\\u003eWork Types=%{customdata[2]}\\u003cextra\\u003e\\u003c\\u002fextra\\u003e\",\"legendgroup\":\"Ice\",\"marker\":{\"color\":\"#FFA15A\",\"symbol\":\"circle\"},\"mode\":\"markers\",\"name\":\"Ice\",\"orientation\":\"v\",\"showlegend\":true,\"x\":[4.0,3.0,2.0,1.0,4.0,2.0,2.0,3.0,1.0,3.0,3.0,1.0,2.0,2.0,1.0,2.0,4.0],\"xaxis\":\"x\",\"y\":[140.0,100.0,90.0,65.0,140.0,110.0,80.0,95.0,70.0,120.0,80.0,70.0,100.0,110.0,60.0,100.0,140.0],\"yaxis\":\"y\",\"type\":\"scatter\"},{\"customdata\":[[\"#50\",\"Common\",\"Handiwork 1, Transport 2, Gathering 1, Medicine 1, Planting 1\"],[\"#30\",\"Common\",\"Handiwork 1, Transport 1, Gathering 1, Medicine 2, Planting 1\"],[\"#86\",\"Rare\",\"Planting 3\"],[\"#35\",\"Common\",\"Planting 2\"],[\"#41\",\"Common\",\"Medicine 1, Planting 2\"],[\"#51\",\"Epic\",\"Handiwork 2, Gathering 2, Medicine 2, Planting 2\"],[\"#28\",\"Common\",\"Handiwork 1, Transport 1, Gathering 1, Medicine 1, Planting 1\"],[\"#-1\",\"Common\",\"Transport 1\"],[\"#141\",\"Common\",\"Transport 1, Gathering 1, Planting 2\"],[\"#4\",\"Common\",\"Handiwork 1, Gathering 1, Medicine 1, Planting 1\"],[\"#115\",\"Common\",\"Handiwork 2, Gathering 1, Medicine 2, Planting 2\"],[\"#104\",\"Epic\",\"Handiwork 3, Gathering 2, Medicine 3, Planting 4\"],[\"#33\",\"Rare\",\"Handiwork 2, Transport 3, Planting 2\"],[\"#144\",\"Common\",\"Mining 3, Gathering 2, Planting 2\"],[\"#87\",\"Epic\",\"Handiwork 2, Transport 1, Gathering 2, Medicine 2, Planting 3\"],[\"#39\",\"Common\",\"Handiwork 1, Transport 1, Gathering 1, Planting 1\"],[\"#48\",\"Rare\",\"Handiwork 2, Transport 2, Gathering 2, Medicine 1, Planting 1\"],[\"#116\",\"Common\",\"Handiwork 1, Gathering 2, Planting 2\"],[\"#8\",\"Common\",\"Handiwork 1, Transport 1, Gathering 1, Planting 1\"],[\"#78\",\"Epic\",\"Handiwork 2, Transport 1, Gathering 2, Medicine 3, Planting 2\"],[\"#77\",\"Epic\",\"Handiwork 3, Transport 2, Gathering 3, Planting 2\"],[\"#91\",\"Epic\",\"Handiwork 2, Transport 4, Planting 1\"]],\"hovertemplate\":\"Element Type=Leaf\\u003cbr\\u003eHighest Work Suitability Level=%{x}\\u003cbr\\u003eHP=%{y}\\u003cbr\\u003eID=%{customdata[0]}\\u003cbr\\u003eRarity=%{customdata[1]}\\u003cbr\\u003eWork Types=%{customdata[2]}\\u003cextra\\u003e\\u003c\\u002fextra\\u003e\",\"legendgroup\":\"Leaf\",\"marker\":{\"color\":\"#19d3f3\",\"symbol\":\"circle\"},\"mode\":\"markers\",\"name\":\"Leaf\",\"orientation\":\"v\",\"showlegend\":true,\"x\":[2.0,2.0,3.0,2.0,2.0,2.0,1.0,1.0,2.0,1.0,2.0,4.0,3.0,3.0,3.0,1.0,2.0,2.0,1.0,3.0,3.0,4.0],\"xaxis\":\"x\",\"y\":[80.0,80.0,120.0,100.0,70.0,90.0,75.0,65.0,80.0,75.0,90.0,110.0,100.0,105.0,100.0,80.0,90.0,110.0,80.0,100.0,90.0,140.0],\"yaxis\":\"y\",\"type\":\"scatter\"},{\"customdata\":[[\"#112\",\"Legendary\",\"Handiwork 2, Transport 2, Medicine 4\"],[\"#112\",\"Legendary\",\"Handiwork 2, Transport 2, Medicine 4\"],[\"#35\",\"Common\",\"Planting 2\"],[\"#44\",\"Common\",\"None\"],[\"#114\",\"Rare\",\"Handiwork 1, Transport 1, Gathering 1, Watering 1\"],[\"#19\",\"Common\",\"Handiwork 1, Transport 1, Gathering 1\"],[\"#62\",\"Common\",\"Handiwork 1, Transport 1, Medicine 1\"],[\"#-1\",\"Common\",\"Transport 1\"],[\"#17\",\"Common\",\"Handiwork 1, Mining 1, Transport 1\"],[\"#-1\",\"Rare\",\"Transport 4\"],[\"#94\",\"Rare\",\"Medicine 3\"],[\"#110\",\"Legendary\",\"Gathering 4\"],[\"#153\",\"Rare\",\"Transport 2, Watering 4\"],[\"#151\",\"Rare\",\"Handiwork 2, Transport 2, Watering 2\"],[\"#97\",\"Rare\",\"Transport 3\"],[\"#97\",\"Epic\",\"Transport 3\"],[\"#15\",\"Common\",\"Gathering 1\"],[\"#40\",\"Rare\",\"Handiwork 2, Mining 1, Transport 2\"],[\"#149\",\"Common\",\"Handiwork 1, Transport 1, Watering 2, Medicine 1\"],[\"#75\",\"Rare\",\"Handiwork 2, Transport 2, Medicine 2\"],[\"#23\",\"Common\",\"Transport 2, Gathering 1, Watering 1\"],[\"#61\",\"Rare\",\"Kindling 2\"],[\"#45\",\"Common\",\"Handiwork 1, Transport 1, Gathering 1\"],[\"#46\",\"Common\",\"Handiwork 2\"],[\"#104\",\"Epic\",\"Handiwork 3, Gathering 2, Medicine 3\"],[\"#66\",\"Rare\",\"Mining 1, Gathering 2\"],[\"#24\",\"Common\",\"None\"],[\"#109\",\"Legendary\",\"Mining 2\"],[\"#128\",\"Rare\",\"Handiwork 3, Transport 2\"],[\"#21\",\"Rare\",\"Gathering 1\"],[\"#139\",\"Common\",\"Handiwork 3, Transport 2, Gathering 2\"],[\"#133\",\"Common\",\"Gathering 1\"],[\"#138\",\"Rare\",\"Handiwork 1, Transport 1, Gathering 2, Medicine 3, Planting 3\"],[\"#-1\",\"Common\",\"Transport 1\"],[\"#113\",\"Epic\",\"Handiwork 4, Transport 3, Medicine 3\"],[\"#107\",\"Epic\",\"Gathering 1\"],[\"#116\",\"Rare\",\"Handiwork 1, Gathering 2, Planting 2\"],[\"#131\",\"Common\",\"Gathering 2\"],[\"#134\",\"Common\",\"Handiwork 4, Transport 2, Medicine 3\"],[\"#129\",\"Rare\",\"Gathering 2\"],[\"#135\",\"Common\",\"Handiwork 2, Transport 2, Gathering 2, Medicine 2\"],[\"#68\",\"Rare\",\"Mining 2, Transport 2, Gathering 2\"],[\"#71\",\"Rare\",\"Transport 3, Cooling 2\"],[\"#125\",\"Rare\",\"Transport 2\"]],\"hovertemplate\":\"Element Type=Dark\\u003cbr\\u003eHighest Work Suitability Level=%{x}\\u003cbr\\u003eHP=%{y}\\u003cbr\\u003eID=%{customdata[0]}\\u003cbr\\u003eRarity=%{customdata[1]}\\u003cbr\\u003eWork Types=%{customdata[2]}\\u003cextra\\u003e\\u003c\\u002fextra\\u003e\",\"legendgroup\":\"Dark\",\"marker\":{\"color\":\"#FF6692\",\"symbol\":\"circle\"},\"mode\":\"markers\",\"name\":\"Dark\",\"orientation\":\"v\",\"showlegend\":true,\"x\":[4.0,4.0,2.0,0.0,1.0,1.0,1.0,1.0,1.0,4.0,3.0,4.0,4.0,2.0,3.0,3.0,1.0,2.0,2.0,2.0,2.0,2.0,1.0,2.0,3.0,2.0,0.0,2.0,3.0,1.0,3.0,1.0,3.0,1.0,4.0,1.0,2.0,2.0,4.0,2.0,2.0,2.0,3.0,2.0],\"xaxis\":\"x\",\"y\":[120.0,120.0,100.0,75.0,85.0,70.0,70.0,105.0,70.0,110.0,100.0,140.0,90.0,70.0,100.0,105.0,70.0,95.0,90.0,90.0,60.0,100.0,80.0,80.0,110.0,75.0,70.0,130.0,105.0,75.0,110.0,95.0,105.0,75.0,130.0,120.0,110.0,85.0,95.0,110.0,110.0,95.0,90.0,90.0],\"yaxis\":\"y\",\"type\":\"scatter\"},{\"customdata\":[[\"#-1\",\"Common\",\"Transport 1\"],[\"#86\",\"Epic\",\"Watering 3\"],[\"#25\",\"Common\",\"Transport 1, Watering 1\"],[\"#114\",\"Common\",\"Handiwork 1, Transport 1, Gathering 1, Watering 1\"],[\"#105\",\"Epic\",\"Transport 3, Watering 4\"],[\"#152\",\"Common\",\"Transport 1, Watering 2\"],[\"#6\",\"Common\",\"Handiwork 1, Transport 1, Watering 1\"],[\"#31\",\"Common\",\"Handiwork 1, Transport 1, Watering 2\"],[\"#150\",\"Common\",\"Handiwork 1, Transport 1, Watering 2\"],[\"#81\",\"Common\",\"Watering 1\"],[\"#23\",\"Common\",\"Transport 2, Gathering 1, Watering 1\"],[\"#146\",\"Common\",\"Transport 1, Watering 1, Cooling 2\"],[\"#155\",\"Legendary\",\"Watering 4\"],[\"#10\",\"Common\",\"Handiwork 1, Transport 1, Watering 1, Cooling 1\"],[\"#11\",\"Rare\",\"Handiwork 2, Mining 2, Transport 2, Watering 2, Cooling 2\"],[\"#147\",\"Rare\",\"Watering 2, Cooling 3\"],[\"#65\",\"Common\",\"Watering 2\"],[\"#102\",\"Epic\",\"Watering 3\"],[\"#16\",\"Common\",\"Watering 1\"],[\"#148\",\"Common\",\"Mining 1, Transport 1, Watering 2\"],[\"#154\",\"Rare\",\"Watering 3, Cooling 4\"]],\"hovertemplate\":\"Element Type=Water\\u003cbr\\u003eHighest Work Suitability Level=%{x}\\u003cbr\\u003eHP=%{y}\\u003cbr\\u003eID=%{customdata[0]}\\u003cbr\\u003eRarity=%{customdata[1]}\\u003cbr\\u003eWork Types=%{customdata[2]}\\u003cextra\\u003e\\u003c\\u002fextra\\u003e\",\"legendgroup\":\"Water\",\"marker\":{\"color\":\"#B6E880\",\"symbol\":\"circle\"},\"mode\":\"markers\",\"name\":\"Water\",\"orientation\":\"v\",\"showlegend\":true,\"x\":[1.0,3.0,1.0,1.0,4.0,2.0,1.0,2.0,2.0,1.0,2.0,2.0,4.0,1.0,2.0,3.0,2.0,3.0,1.0,2.0,4.0],\"xaxis\":\"x\",\"y\":[70.0,120.0,80.0,80.0,100.0,75.0,60.0,90.0,75.0,70.0,70.0,75.0,105.0,70.0,95.0,95.0,90.0,125.0,70.0,75.0,105.0],\"yaxis\":\"y\",\"type\":\"scatter\"},{\"customdata\":[[\"#2\",\"Common\",\"Handiwork 1, Mining 1, Transport 1, Gathering 1\"],[\"#-1\",\"Common\",\"Gathering 1\"],[\"#132\",\"Rare\",\"Gathering 1\"],[\"#3\",\"Common\",\"Gathering 1\"],[\"#18\",\"Common\",\"Gathering 1\"],[\"#26\",\"Common\",\"Gathering 1\"],[\"#122\",\"Rare\",\"Handiwork 3, Transport 2, Gathering 2, Medicine 1\"],[\"#37\",\"Common\",\"None\"],[\"#-1\",\"Common\",\"None\"],[\"#93\",\"Common\",\"None\"],[\"#47\",\"Common\",\"Gathering 2\"],[\"#49\",\"Rare\",\"Handiwork 1, Transport 3\"],[\"#52\",\"Rare\",\"Gathering 2\"],[\"#-1\",\"Common\",\"Gathering 1\"],[\"#-1\",\"Common\",\"Transport 1\"],[\"#89\",\"Epic\",\"Gathering 1\"],[\"#1\",\"Common\",\"Handiwork 1, Transport 1\"],[\"#69\",\"Rare\",\"Handiwork 2, Mining 1, Transport 2, Medicine 2\"],[\"#63\",\"Rare\",\"Handiwork 3, Transport 1, Gathering 1\"],[\"#36\",\"Common\",\"None\"],[\"#124\",\"Rare\",\"Transport 1, Gathering 1\"],[\"#29\",\"Common\",\"None\"],[\"#38\",\"Common\",\"Gathering 2\"],[\"#108\",\"Legendary\",\"Mining 2\"],[\"#-1\",\"Common\",\"Transport 1\"],[\"#39\",\"Common\",\"Handiwork 1, Transport 1, Gathering 1\"],[\"#27\",\"Common\",\"Gathering 1\"],[\"#14\",\"Common\",\"Gathering 1\"],[\"#34\",\"Common\",\"None\"],[\"#121\",\"Common\",\"Gathering 2\"]],\"hovertemplate\":\"Element Type=Normal\\u003cbr\\u003eHighest Work Suitability Level=%{x}\\u003cbr\\u003eHP=%{y}\\u003cbr\\u003eID=%{customdata[0]}\\u003cbr\\u003eRarity=%{customdata[1]}\\u003cbr\\u003eWork Types=%{customdata[2]}\\u003cextra\\u003e\\u003c\\u002fextra\\u003e\",\"legendgroup\":\"Normal\",\"marker\":{\"color\":\"#FF97FF\",\"symbol\":\"circle\"},\"mode\":\"markers\",\"name\":\"Normal\",\"orientation\":\"v\",\"showlegend\":true,\"x\":[1.0,1.0,1.0,1.0,1.0,1.0,3.0,0.0,0.0,0.0,2.0,3.0,2.0,1.0,1.0,1.0,1.0,2.0,3.0,0.0,1.0,0.0,2.0,2.0,1.0,1.0,1.0,1.0,0.0,2.0],\"xaxis\":\"x\",\"y\":[70.0,65.0,120.0,60.0,70.0,80.0,90.0,95.0,95.0,110.0,75.0,90.0,110.0,80.0,80.0,120.0,70.0,120.0,90.0,90.0,60.0,90.0,100.0,130.0,105.0,75.0,60.0,70.0,70.0,85.0],\"yaxis\":\"y\",\"type\":\"scatter\"}],                        {\"template\":{\"data\":{\"histogram2dcontour\":[{\"type\":\"histogram2dcontour\",\"colorbar\":{\"outlinewidth\":0,\"ticks\":\"\"},\"colorscale\":[[0.0,\"#0d0887\"],[0.1111111111111111,\"#46039f\"],[0.2222222222222222,\"#7201a8\"],[0.3333333333333333,\"#9c179e\"],[0.4444444444444444,\"#bd3786\"],[0.5555555555555556,\"#d8576b\"],[0.6666666666666666,\"#ed7953\"],[0.7777777777777778,\"#fb9f3a\"],[0.8888888888888888,\"#fdca26\"],[1.0,\"#f0f921\"]]}],\"choropleth\":[{\"type\":\"choropleth\",\"colorbar\":{\"outlinewidth\":0,\"ticks\":\"\"}}],\"histogram2d\":[{\"type\":\"histogram2d\",\"colorbar\":{\"outlinewidth\":0,\"ticks\":\"\"},\"colorscale\":[[0.0,\"#0d0887\"],[0.1111111111111111,\"#46039f\"],[0.2222222222222222,\"#7201a8\"],[0.3333333333333333,\"#9c179e\"],[0.4444444444444444,\"#bd3786\"],[0.5555555555555556,\"#d8576b\"],[0.6666666666666666,\"#ed7953\"],[0.7777777777777778,\"#fb9f3a\"],[0.8888888888888888,\"#fdca26\"],[1.0,\"#f0f921\"]]}],\"heatmap\":[{\"type\":\"heatmap\",\"colorbar\":{\"outlinewidth\":0,\"ticks\":\"\"},\"colorscale\":[[0.0,\"#0d0887\"],[0.1111111111111111,\"#46039f\"],[0.2222222222222222,\"#7201a8\"],[0.3333333333333333,\"#9c179e\"],[0.4444444444444444,\"#bd3786\"],[0.5555555555555556,\"#d8576b\"],[0.6666666666666666,\"#ed7953\"],[0.7777777777777778,\"#fb9f3a\"],[0.8888888888888888,\"#fdca26\"],[1.0,\"#f0f921\"]]}],\"heatmapgl\":[{\"type\":\"heatmapgl\",\"colorbar\":{\"outlinewidth\":0,\"ticks\":\"\"},\"colorscale\":[[0.0,\"#0d0887\"],[0.1111111111111111,\"#46039f\"],[0.2222222222222222,\"#7201a8\"],[0.3333333333333333,\"#9c179e\"],[0.4444444444444444,\"#bd3786\"],[0.5555555555555556,\"#d8576b\"],[0.6666666666666666,\"#ed7953\"],[0.7777777777777778,\"#fb9f3a\"],[0.8888888888888888,\"#fdca26\"],[1.0,\"#f0f921\"]]}],\"contourcarpet\":[{\"type\":\"contourcarpet\",\"colorbar\":{\"outlinewidth\":0,\"ticks\":\"\"}}],\"contour\":[{\"type\":\"contour\",\"colorbar\":{\"outlinewidth\":0,\"ticks\":\"\"},\"colorscale\":[[0.0,\"#0d0887\"],[0.1111111111111111,\"#46039f\"],[0.2222222222222222,\"#7201a8\"],[0.3333333333333333,\"#9c179e\"],[0.4444444444444444,\"#bd3786\"],[0.5555555555555556,\"#d8576b\"],[0.6666666666666666,\"#ed7953\"],[0.7777777777777778,\"#fb9f3a\"],[0.8888888888888888,\"#fdca26\"],[1.0,\"#f0f921\"]]}],\"surface\":[{\"type\":\"surface\",\"colorbar\":{\"outlinewidth\":0,\"ticks\":\"\"},\"colorscale\":[[0.0,\"#0d0887\"],[0.1111111111111111,\"#46039f\"],[0.2222222222222222,\"#7201a8\"],[0.3333333333333333,\"#9c179e\"],[0.4444444444444444,\"#bd3786\"],[0.5555555555555556,\"#d8576b\"],[0.6666666666666666,\"#ed7953\"],[0.7777777777777778,\"#fb9f3a\"],[0.8888888888888888,\"#fdca26\"],[1.0,\"#f0f921\"]]}],\"mesh3d\":[{\"type\":\"mesh3d\",\"colorbar\":{\"outlinewidth\":0,\"ticks\":\"\"}}],\"scatter\":[{\"fillpattern\":{\"fillmode\":\"overlay\",\"size\":10,\"solidity\":0.2},\"type\":\"scatter\"}],\"parcoords\":[{\"type\":\"parcoords\",\"line\":{\"colorbar\":{\"outlinewidth\":0,\"ticks\":\"\"}}}],\"scatterpolargl\":[{\"type\":\"scatterpolargl\",\"marker\":{\"colorbar\":{\"outlinewidth\":0,\"ticks\":\"\"}}}],\"bar\":[{\"error_x\":{\"color\":\"#2a3f5f\"},\"error_y\":{\"color\":\"#2a3f5f\"},\"marker\":{\"line\":{\"color\":\"#E5ECF6\",\"width\":0.5},\"pattern\":{\"fillmode\":\"overlay\",\"size\":10,\"solidity\":0.2}},\"type\":\"bar\"}],\"scattergeo\":[{\"type\":\"scattergeo\",\"marker\":{\"colorbar\":{\"outlinewidth\":0,\"ticks\":\"\"}}}],\"scatterpolar\":[{\"type\":\"scatterpolar\",\"marker\":{\"colorbar\":{\"outlinewidth\":0,\"ticks\":\"\"}}}],\"histogram\":[{\"marker\":{\"pattern\":{\"fillmode\":\"overlay\",\"size\":10,\"solidity\":0.2}},\"type\":\"histogram\"}],\"scattergl\":[{\"type\":\"scattergl\",\"marker\":{\"colorbar\":{\"outlinewidth\":0,\"ticks\":\"\"}}}],\"scatter3d\":[{\"type\":\"scatter3d\",\"line\":{\"colorbar\":{\"outlinewidth\":0,\"ticks\":\"\"}},\"marker\":{\"colorbar\":{\"outlinewidth\":0,\"ticks\":\"\"}}}],\"scattermapbox\":[{\"type\":\"scattermapbox\",\"marker\":{\"colorbar\":{\"outlinewidth\":0,\"ticks\":\"\"}}}],\"scatterternary\":[{\"type\":\"scatterternary\",\"marker\":{\"colorbar\":{\"outlinewidth\":0,\"ticks\":\"\"}}}],\"scattercarpet\":[{\"type\":\"scattercarpet\",\"marker\":{\"colorbar\":{\"outlinewidth\":0,\"ticks\":\"\"}}}],\"carpet\":[{\"aaxis\":{\"endlinecolor\":\"#2a3f5f\",\"gridcolor\":\"white\",\"linecolor\":\"white\",\"minorgridcolor\":\"white\",\"startlinecolor\":\"#2a3f5f\"},\"baxis\":{\"endlinecolor\":\"#2a3f5f\",\"gridcolor\":\"white\",\"linecolor\":\"white\",\"minorgridcolor\":\"white\",\"startlinecolor\":\"#2a3f5f\"},\"type\":\"carpet\"}],\"table\":[{\"cells\":{\"fill\":{\"color\":\"#EBF0F8\"},\"line\":{\"color\":\"white\"}},\"header\":{\"fill\":{\"color\":\"#C8D4E3\"},\"line\":{\"color\":\"white\"}},\"type\":\"table\"}],\"barpolar\":[{\"marker\":{\"line\":{\"color\":\"#E5ECF6\",\"width\":0.5},\"pattern\":{\"fillmode\":\"overlay\",\"size\":10,\"solidity\":0.2}},\"type\":\"barpolar\"}],\"pie\":[{\"automargin\":true,\"type\":\"pie\"}]},\"layout\":{\"autotypenumbers\":\"strict\",\"colorway\":[\"#636efa\",\"#EF553B\",\"#00cc96\",\"#ab63fa\",\"#FFA15A\",\"#19d3f3\",\"#FF6692\",\"#B6E880\",\"#FF97FF\",\"#FECB52\"],\"font\":{\"color\":\"#2a3f5f\"},\"hovermode\":\"closest\",\"hoverlabel\":{\"align\":\"left\"},\"paper_bgcolor\":\"white\",\"plot_bgcolor\":\"#E5ECF6\",\"polar\":{\"bgcolor\":\"#E5ECF6\",\"angularaxis\":{\"gridcolor\":\"white\",\"linecolor\":\"white\",\"ticks\":\"\"},\"radialaxis\":{\"gridcolor\":\"white\",\"linecolor\":\"white\",\"ticks\":\"\"}},\"ternary\":{\"bgcolor\":\"#E5ECF6\",\"aaxis\":{\"gridcolor\":\"white\",\"linecolor\":\"white\",\"ticks\":\"\"},\"baxis\":{\"gridcolor\":\"white\",\"linecolor\":\"white\",\"ticks\":\"\"},\"caxis\":{\"gridcolor\":\"white\",\"linecolor\":\"white\",\"ticks\":\"\"}},\"coloraxis\":{\"colorbar\":{\"outlinewidth\":0,\"ticks\":\"\"}},\"colorscale\":{\"sequential\":[[0.0,\"#0d0887\"],[0.1111111111111111,\"#46039f\"],[0.2222222222222222,\"#7201a8\"],[0.3333333333333333,\"#9c179e\"],[0.4444444444444444,\"#bd3786\"],[0.5555555555555556,\"#d8576b\"],[0.6666666666666666,\"#ed7953\"],[0.7777777777777778,\"#fb9f3a\"],[0.8888888888888888,\"#fdca26\"],[1.0,\"#f0f921\"]],\"sequentialminus\":[[0.0,\"#0d0887\"],[0.1111111111111111,\"#46039f\"],[0.2222222222222222,\"#7201a8\"],[0.3333333333333333,\"#9c179e\"],[0.4444444444444444,\"#bd3786\"],[0.5555555555555556,\"#d8576b\"],[0.6666666666666666,\"#ed7953\"],[0.7777777777777778,\"#fb9f3a\"],[0.8888888888888888,\"#fdca26\"],[1.0,\"#f0f921\"]],\"diverging\":[[0,\"#8e0152\"],[0.1,\"#c51b7d\"],[0.2,\"#de77ae\"],[0.3,\"#f1b6da\"],[0.4,\"#fde0ef\"],[0.5,\"#f7f7f7\"],[0.6,\"#e6f5d0\"],[0.7,\"#b8e186\"],[0.8,\"#7fbc41\"],[0.9,\"#4d9221\"],[1,\"#276419\"]]},\"xaxis\":{\"gridcolor\":\"white\",\"linecolor\":\"white\",\"ticks\":\"\",\"title\":{\"standoff\":15},\"zerolinecolor\":\"white\",\"automargin\":true,\"zerolinewidth\":2},\"yaxis\":{\"gridcolor\":\"white\",\"linecolor\":\"white\",\"ticks\":\"\",\"title\":{\"standoff\":15},\"zerolinecolor\":\"white\",\"automargin\":true,\"zerolinewidth\":2},\"scene\":{\"xaxis\":{\"backgroundcolor\":\"#E5ECF6\",\"gridcolor\":\"white\",\"linecolor\":\"white\",\"showbackground\":true,\"ticks\":\"\",\"zerolinecolor\":\"white\",\"gridwidth\":2},\"yaxis\":{\"backgroundcolor\":\"#E5ECF6\",\"gridcolor\":\"white\",\"linecolor\":\"white\",\"showbackground\":true,\"ticks\":\"\",\"zerolinecolor\":\"white\",\"gridwidth\":2},\"zaxis\":{\"backgroundcolor\":\"#E5ECF6\",\"gridcolor\":\"white\",\"linecolor\":\"white\",\"showbackground\":true,\"ticks\":\"\",\"zerolinecolor\":\"white\",\"gridwidth\":2}},\"shapedefaults\":{\"line\":{\"color\":\"#2a3f5f\"}},\"annotationdefaults\":{\"arrowcolor\":\"#2a3f5f\",\"arrowhead\":0,\"arrowwidth\":1},\"geo\":{\"bgcolor\":\"white\",\"landcolor\":\"#E5ECF6\",\"subunitcolor\":\"white\",\"showland\":true,\"showlakes\":true,\"lakecolor\":\"white\"},\"title\":{\"x\":0.05},\"mapbox\":{\"style\":\"light\"}}},\"xaxis\":{\"anchor\":\"y\",\"domain\":[0.0,1.0],\"title\":{\"text\":\"Highest Work Suitability Level\"}},\"yaxis\":{\"anchor\":\"x\",\"domain\":[0.0,1.0],\"title\":{\"text\":\"HP\"}},\"legend\":{\"title\":{\"text\":\"Element Type\"},\"tracegroupgap\":0},\"title\":{\"text\":\"Work Suitability vs HP by Element Type\"}},                        {\"responsive\": true}                    ).then(function(){\n",
       "                            \n",
       "var gd = document.getElementById('7e5bf380-320e-4a22-88d0-92485857c3e7');\n",
       "var x = new MutationObserver(function (mutations, observer) {{\n",
       "        var display = window.getComputedStyle(gd).display;\n",
       "        if (!display || display === 'none') {{\n",
       "            console.log([gd, 'removed!']);\n",
       "            Plotly.purge(gd);\n",
       "            observer.disconnect();\n",
       "        }}\n",
       "}});\n",
       "\n",
       "// Listen for the removal of the full notebook cells\n",
       "var notebookContainer = gd.closest('#notebook-container');\n",
       "if (notebookContainer) {{\n",
       "    x.observe(notebookContainer, {childList: true});\n",
       "}}\n",
       "\n",
       "// Listen for the clearing of the current output cell\n",
       "var outputEl = gd.closest('.output');\n",
       "if (outputEl) {{\n",
       "    x.observe(outputEl, {childList: true});\n",
       "}}\n",
       "\n",
       "                        })                };                });            </script>        </div>"
      ]
     },
     "metadata": {},
     "output_type": "display_data"
    },
    {
     "data": {
      "application/vnd.plotly.v1+json": {
       "config": {
        "plotlyServerURL": "https://plot.ly"
       },
       "data": [
        {
         "alignmentgroup": "True",
         "hovertemplate": "Work Type=Cooling<br>Element Type=%{x}<br>Level=%{y}<extra></extra>",
         "legendgroup": "Cooling",
         "marker": {
          "color": "#636efa",
          "pattern": {
           "shape": ""
          }
         },
         "name": "Cooling",
         "offsetgroup": "Cooling",
         "orientation": "v",
         "showlegend": true,
         "textposition": "auto",
         "type": "bar",
         "x": [
          "Dark",
          "Dragon",
          "Earth",
          "Fire",
          "Ice",
          "Water"
         ],
         "xaxis": "x",
         "y": [
          2,
          2,
          2.5,
          4,
          2.176470588235294,
          2.4
         ],
         "yaxis": "y"
        },
        {
         "alignmentgroup": "True",
         "hovertemplate": "Work Type=Gathering<br>Element Type=%{x}<br>Level=%{y}<extra></extra>",
         "legendgroup": "Gathering",
         "marker": {
          "color": "#EF553B",
          "pattern": {
           "shape": ""
          }
         },
         "name": "Gathering",
         "offsetgroup": "Gathering",
         "orientation": "v",
         "showlegend": true,
         "textposition": "auto",
         "type": "bar",
         "x": [
          "Dark",
          "Dragon",
          "Earth",
          "Electricity",
          "Fire",
          "Ice",
          "Leaf",
          "Normal",
          "Water"
         ],
         "xaxis": "x",
         "y": [
          1.6666666666666667,
          1.8,
          2,
          1,
          1,
          1.2,
          1.5625,
          1.2777777777777777,
          1
         ],
         "yaxis": "y"
        },
        {
         "alignmentgroup": "True",
         "hovertemplate": "Work Type=Handiwork<br>Element Type=%{x}<br>Level=%{y}<extra></extra>",
         "legendgroup": "Handiwork",
         "marker": {
          "color": "#00cc96",
          "pattern": {
           "shape": ""
          }
         },
         "name": "Handiwork",
         "offsetgroup": "Handiwork",
         "orientation": "v",
         "showlegend": true,
         "textposition": "auto",
         "type": "bar",
         "x": [
          "Dark",
          "Dragon",
          "Earth",
          "Electricity",
          "Fire",
          "Ice",
          "Leaf",
          "Normal",
          "Water"
         ],
         "xaxis": "x",
         "y": [
          1.95,
          1.25,
          1.5,
          1.5,
          1.6363636363636365,
          1.6,
          1.6875,
          1.7142857142857142,
          1.1666666666666667
         ],
         "yaxis": "y"
        },
        {
         "alignmentgroup": "True",
         "hovertemplate": "Work Type=Kindling<br>Element Type=%{x}<br>Level=%{y}<extra></extra>",
         "legendgroup": "Kindling",
         "marker": {
          "color": "#ab63fa",
          "pattern": {
           "shape": ""
          }
         },
         "name": "Kindling",
         "offsetgroup": "Kindling",
         "orientation": "v",
         "showlegend": true,
         "textposition": "auto",
         "type": "bar",
         "x": [
          "Dark",
          "Earth",
          "Fire"
         ],
         "xaxis": "x",
         "y": [
          2,
          3,
          2.161290322580645
         ],
         "yaxis": "y"
        },
        {
         "alignmentgroup": "True",
         "hovertemplate": "Work Type=Medicine<br>Element Type=%{x}<br>Level=%{y}<extra></extra>",
         "legendgroup": "Medicine",
         "marker": {
          "color": "#FFA15A",
          "pattern": {
           "shape": ""
          }
         },
         "name": "Medicine",
         "offsetgroup": "Medicine",
         "orientation": "v",
         "showlegend": true,
         "textposition": "auto",
         "type": "bar",
         "x": [
          "Dark",
          "Earth",
          "Fire",
          "Ice",
          "Leaf",
          "Normal"
         ],
         "xaxis": "x",
         "y": [
          2.6363636363636362,
          1,
          2,
          2,
          1.7272727272727273,
          1.5
         ],
         "yaxis": "y"
        },
        {
         "alignmentgroup": "True",
         "hovertemplate": "Work Type=Mining<br>Element Type=%{x}<br>Level=%{y}<extra></extra>",
         "legendgroup": "Mining",
         "marker": {
          "color": "#19d3f3",
          "pattern": {
           "shape": ""
          }
         },
         "name": "Mining",
         "offsetgroup": "Mining",
         "orientation": "v",
         "showlegend": true,
         "textposition": "auto",
         "type": "bar",
         "x": [
          "Dark",
          "Dragon",
          "Earth",
          "Electricity",
          "Fire",
          "Ice",
          "Leaf",
          "Normal",
          "Water"
         ],
         "xaxis": "x",
         "y": [
          1.4,
          2.75,
          2.3157894736842106,
          2,
          2.75,
          3,
          3,
          1.3333333333333333,
          1.5
         ],
         "yaxis": "y"
        },
        {
         "alignmentgroup": "True",
         "hovertemplate": "Work Type=Planting<br>Element Type=%{x}<br>Level=%{y}<extra></extra>",
         "legendgroup": "Planting",
         "marker": {
          "color": "#FF6692",
          "pattern": {
           "shape": ""
          }
         },
         "name": "Planting",
         "offsetgroup": "Planting",
         "orientation": "v",
         "showlegend": true,
         "textposition": "auto",
         "type": "bar",
         "x": [
          "Dark",
          "Dragon",
          "Earth",
          "Leaf"
         ],
         "xaxis": "x",
         "y": [
          2.3333333333333335,
          2,
          2,
          1.8095238095238095
         ],
         "yaxis": "y"
        },
        {
         "alignmentgroup": "True",
         "hovertemplate": "Work Type=Transport<br>Element Type=%{x}<br>Level=%{y}<extra></extra>",
         "legendgroup": "Transport",
         "marker": {
          "color": "#B6E880",
          "pattern": {
           "shape": ""
          }
         },
         "name": "Transport",
         "offsetgroup": "Transport",
         "orientation": "v",
         "showlegend": true,
         "textposition": "auto",
         "type": "bar",
         "x": [
          "Dark",
          "Dragon",
          "Earth",
          "Electricity",
          "Fire",
          "Ice",
          "Leaf",
          "Normal",
          "Water"
         ],
         "xaxis": "x",
         "y": [
          1.8888888888888888,
          2.2,
          2.1666666666666665,
          1.875,
          1.8125,
          2.5,
          1.6153846153846154,
          1.4,
          1.3076923076923077
         ],
         "yaxis": "y"
        },
        {
         "alignmentgroup": "True",
         "hovertemplate": "Work Type=Watering<br>Element Type=%{x}<br>Level=%{y}<extra></extra>",
         "legendgroup": "Watering",
         "marker": {
          "color": "#FF97FF",
          "pattern": {
           "shape": ""
          }
         },
         "name": "Watering",
         "offsetgroup": "Watering",
         "orientation": "v",
         "showlegend": true,
         "textposition": "auto",
         "type": "bar",
         "x": [
          "Dark",
          "Dragon",
          "Earth",
          "Electricity",
          "Fire",
          "Water"
         ],
         "xaxis": "x",
         "y": [
          2,
          3,
          1.3333333333333333,
          1.3333333333333333,
          2.3333333333333335,
          1.95
         ],
         "yaxis": "y"
        }
       ],
       "layout": {
        "autosize": true,
        "barmode": "group",
        "legend": {
         "title": {
          "text": "Work Type"
         },
         "tracegroupgap": 0
        },
        "template": {
         "data": {
          "bar": [
           {
            "error_x": {
             "color": "#2a3f5f"
            },
            "error_y": {
             "color": "#2a3f5f"
            },
            "marker": {
             "line": {
              "color": "#E5ECF6",
              "width": 0.5
             },
             "pattern": {
              "fillmode": "overlay",
              "size": 10,
              "solidity": 0.2
             }
            },
            "type": "bar"
           }
          ],
          "barpolar": [
           {
            "marker": {
             "line": {
              "color": "#E5ECF6",
              "width": 0.5
             },
             "pattern": {
              "fillmode": "overlay",
              "size": 10,
              "solidity": 0.2
             }
            },
            "type": "barpolar"
           }
          ],
          "carpet": [
           {
            "aaxis": {
             "endlinecolor": "#2a3f5f",
             "gridcolor": "white",
             "linecolor": "white",
             "minorgridcolor": "white",
             "startlinecolor": "#2a3f5f"
            },
            "baxis": {
             "endlinecolor": "#2a3f5f",
             "gridcolor": "white",
             "linecolor": "white",
             "minorgridcolor": "white",
             "startlinecolor": "#2a3f5f"
            },
            "type": "carpet"
           }
          ],
          "choropleth": [
           {
            "colorbar": {
             "outlinewidth": 0,
             "ticks": ""
            },
            "type": "choropleth"
           }
          ],
          "contour": [
           {
            "colorbar": {
             "outlinewidth": 0,
             "ticks": ""
            },
            "colorscale": [
             [
              0,
              "#0d0887"
             ],
             [
              0.1111111111111111,
              "#46039f"
             ],
             [
              0.2222222222222222,
              "#7201a8"
             ],
             [
              0.3333333333333333,
              "#9c179e"
             ],
             [
              0.4444444444444444,
              "#bd3786"
             ],
             [
              0.5555555555555556,
              "#d8576b"
             ],
             [
              0.6666666666666666,
              "#ed7953"
             ],
             [
              0.7777777777777778,
              "#fb9f3a"
             ],
             [
              0.8888888888888888,
              "#fdca26"
             ],
             [
              1,
              "#f0f921"
             ]
            ],
            "type": "contour"
           }
          ],
          "contourcarpet": [
           {
            "colorbar": {
             "outlinewidth": 0,
             "ticks": ""
            },
            "type": "contourcarpet"
           }
          ],
          "heatmap": [
           {
            "colorbar": {
             "outlinewidth": 0,
             "ticks": ""
            },
            "colorscale": [
             [
              0,
              "#0d0887"
             ],
             [
              0.1111111111111111,
              "#46039f"
             ],
             [
              0.2222222222222222,
              "#7201a8"
             ],
             [
              0.3333333333333333,
              "#9c179e"
             ],
             [
              0.4444444444444444,
              "#bd3786"
             ],
             [
              0.5555555555555556,
              "#d8576b"
             ],
             [
              0.6666666666666666,
              "#ed7953"
             ],
             [
              0.7777777777777778,
              "#fb9f3a"
             ],
             [
              0.8888888888888888,
              "#fdca26"
             ],
             [
              1,
              "#f0f921"
             ]
            ],
            "type": "heatmap"
           }
          ],
          "heatmapgl": [
           {
            "colorbar": {
             "outlinewidth": 0,
             "ticks": ""
            },
            "colorscale": [
             [
              0,
              "#0d0887"
             ],
             [
              0.1111111111111111,
              "#46039f"
             ],
             [
              0.2222222222222222,
              "#7201a8"
             ],
             [
              0.3333333333333333,
              "#9c179e"
             ],
             [
              0.4444444444444444,
              "#bd3786"
             ],
             [
              0.5555555555555556,
              "#d8576b"
             ],
             [
              0.6666666666666666,
              "#ed7953"
             ],
             [
              0.7777777777777778,
              "#fb9f3a"
             ],
             [
              0.8888888888888888,
              "#fdca26"
             ],
             [
              1,
              "#f0f921"
             ]
            ],
            "type": "heatmapgl"
           }
          ],
          "histogram": [
           {
            "marker": {
             "pattern": {
              "fillmode": "overlay",
              "size": 10,
              "solidity": 0.2
             }
            },
            "type": "histogram"
           }
          ],
          "histogram2d": [
           {
            "colorbar": {
             "outlinewidth": 0,
             "ticks": ""
            },
            "colorscale": [
             [
              0,
              "#0d0887"
             ],
             [
              0.1111111111111111,
              "#46039f"
             ],
             [
              0.2222222222222222,
              "#7201a8"
             ],
             [
              0.3333333333333333,
              "#9c179e"
             ],
             [
              0.4444444444444444,
              "#bd3786"
             ],
             [
              0.5555555555555556,
              "#d8576b"
             ],
             [
              0.6666666666666666,
              "#ed7953"
             ],
             [
              0.7777777777777778,
              "#fb9f3a"
             ],
             [
              0.8888888888888888,
              "#fdca26"
             ],
             [
              1,
              "#f0f921"
             ]
            ],
            "type": "histogram2d"
           }
          ],
          "histogram2dcontour": [
           {
            "colorbar": {
             "outlinewidth": 0,
             "ticks": ""
            },
            "colorscale": [
             [
              0,
              "#0d0887"
             ],
             [
              0.1111111111111111,
              "#46039f"
             ],
             [
              0.2222222222222222,
              "#7201a8"
             ],
             [
              0.3333333333333333,
              "#9c179e"
             ],
             [
              0.4444444444444444,
              "#bd3786"
             ],
             [
              0.5555555555555556,
              "#d8576b"
             ],
             [
              0.6666666666666666,
              "#ed7953"
             ],
             [
              0.7777777777777778,
              "#fb9f3a"
             ],
             [
              0.8888888888888888,
              "#fdca26"
             ],
             [
              1,
              "#f0f921"
             ]
            ],
            "type": "histogram2dcontour"
           }
          ],
          "mesh3d": [
           {
            "colorbar": {
             "outlinewidth": 0,
             "ticks": ""
            },
            "type": "mesh3d"
           }
          ],
          "parcoords": [
           {
            "line": {
             "colorbar": {
              "outlinewidth": 0,
              "ticks": ""
             }
            },
            "type": "parcoords"
           }
          ],
          "pie": [
           {
            "automargin": true,
            "type": "pie"
           }
          ],
          "scatter": [
           {
            "fillpattern": {
             "fillmode": "overlay",
             "size": 10,
             "solidity": 0.2
            },
            "type": "scatter"
           }
          ],
          "scatter3d": [
           {
            "line": {
             "colorbar": {
              "outlinewidth": 0,
              "ticks": ""
             }
            },
            "marker": {
             "colorbar": {
              "outlinewidth": 0,
              "ticks": ""
             }
            },
            "type": "scatter3d"
           }
          ],
          "scattercarpet": [
           {
            "marker": {
             "colorbar": {
              "outlinewidth": 0,
              "ticks": ""
             }
            },
            "type": "scattercarpet"
           }
          ],
          "scattergeo": [
           {
            "marker": {
             "colorbar": {
              "outlinewidth": 0,
              "ticks": ""
             }
            },
            "type": "scattergeo"
           }
          ],
          "scattergl": [
           {
            "marker": {
             "colorbar": {
              "outlinewidth": 0,
              "ticks": ""
             }
            },
            "type": "scattergl"
           }
          ],
          "scattermapbox": [
           {
            "marker": {
             "colorbar": {
              "outlinewidth": 0,
              "ticks": ""
             }
            },
            "type": "scattermapbox"
           }
          ],
          "scatterpolar": [
           {
            "marker": {
             "colorbar": {
              "outlinewidth": 0,
              "ticks": ""
             }
            },
            "type": "scatterpolar"
           }
          ],
          "scatterpolargl": [
           {
            "marker": {
             "colorbar": {
              "outlinewidth": 0,
              "ticks": ""
             }
            },
            "type": "scatterpolargl"
           }
          ],
          "scatterternary": [
           {
            "marker": {
             "colorbar": {
              "outlinewidth": 0,
              "ticks": ""
             }
            },
            "type": "scatterternary"
           }
          ],
          "surface": [
           {
            "colorbar": {
             "outlinewidth": 0,
             "ticks": ""
            },
            "colorscale": [
             [
              0,
              "#0d0887"
             ],
             [
              0.1111111111111111,
              "#46039f"
             ],
             [
              0.2222222222222222,
              "#7201a8"
             ],
             [
              0.3333333333333333,
              "#9c179e"
             ],
             [
              0.4444444444444444,
              "#bd3786"
             ],
             [
              0.5555555555555556,
              "#d8576b"
             ],
             [
              0.6666666666666666,
              "#ed7953"
             ],
             [
              0.7777777777777778,
              "#fb9f3a"
             ],
             [
              0.8888888888888888,
              "#fdca26"
             ],
             [
              1,
              "#f0f921"
             ]
            ],
            "type": "surface"
           }
          ],
          "table": [
           {
            "cells": {
             "fill": {
              "color": "#EBF0F8"
             },
             "line": {
              "color": "white"
             }
            },
            "header": {
             "fill": {
              "color": "#C8D4E3"
             },
             "line": {
              "color": "white"
             }
            },
            "type": "table"
           }
          ]
         },
         "layout": {
          "annotationdefaults": {
           "arrowcolor": "#2a3f5f",
           "arrowhead": 0,
           "arrowwidth": 1
          },
          "autotypenumbers": "strict",
          "coloraxis": {
           "colorbar": {
            "outlinewidth": 0,
            "ticks": ""
           }
          },
          "colorscale": {
           "diverging": [
            [
             0,
             "#8e0152"
            ],
            [
             0.1,
             "#c51b7d"
            ],
            [
             0.2,
             "#de77ae"
            ],
            [
             0.3,
             "#f1b6da"
            ],
            [
             0.4,
             "#fde0ef"
            ],
            [
             0.5,
             "#f7f7f7"
            ],
            [
             0.6,
             "#e6f5d0"
            ],
            [
             0.7,
             "#b8e186"
            ],
            [
             0.8,
             "#7fbc41"
            ],
            [
             0.9,
             "#4d9221"
            ],
            [
             1,
             "#276419"
            ]
           ],
           "sequential": [
            [
             0,
             "#0d0887"
            ],
            [
             0.1111111111111111,
             "#46039f"
            ],
            [
             0.2222222222222222,
             "#7201a8"
            ],
            [
             0.3333333333333333,
             "#9c179e"
            ],
            [
             0.4444444444444444,
             "#bd3786"
            ],
            [
             0.5555555555555556,
             "#d8576b"
            ],
            [
             0.6666666666666666,
             "#ed7953"
            ],
            [
             0.7777777777777778,
             "#fb9f3a"
            ],
            [
             0.8888888888888888,
             "#fdca26"
            ],
            [
             1,
             "#f0f921"
            ]
           ],
           "sequentialminus": [
            [
             0,
             "#0d0887"
            ],
            [
             0.1111111111111111,
             "#46039f"
            ],
            [
             0.2222222222222222,
             "#7201a8"
            ],
            [
             0.3333333333333333,
             "#9c179e"
            ],
            [
             0.4444444444444444,
             "#bd3786"
            ],
            [
             0.5555555555555556,
             "#d8576b"
            ],
            [
             0.6666666666666666,
             "#ed7953"
            ],
            [
             0.7777777777777778,
             "#fb9f3a"
            ],
            [
             0.8888888888888888,
             "#fdca26"
            ],
            [
             1,
             "#f0f921"
            ]
           ]
          },
          "colorway": [
           "#636efa",
           "#EF553B",
           "#00cc96",
           "#ab63fa",
           "#FFA15A",
           "#19d3f3",
           "#FF6692",
           "#B6E880",
           "#FF97FF",
           "#FECB52"
          ],
          "font": {
           "color": "#2a3f5f"
          },
          "geo": {
           "bgcolor": "white",
           "lakecolor": "white",
           "landcolor": "#E5ECF6",
           "showlakes": true,
           "showland": true,
           "subunitcolor": "white"
          },
          "hoverlabel": {
           "align": "left"
          },
          "hovermode": "closest",
          "mapbox": {
           "style": "light"
          },
          "paper_bgcolor": "white",
          "plot_bgcolor": "#E5ECF6",
          "polar": {
           "angularaxis": {
            "gridcolor": "white",
            "linecolor": "white",
            "ticks": ""
           },
           "bgcolor": "#E5ECF6",
           "radialaxis": {
            "gridcolor": "white",
            "linecolor": "white",
            "ticks": ""
           }
          },
          "scene": {
           "xaxis": {
            "backgroundcolor": "#E5ECF6",
            "gridcolor": "white",
            "gridwidth": 2,
            "linecolor": "white",
            "showbackground": true,
            "ticks": "",
            "zerolinecolor": "white"
           },
           "yaxis": {
            "backgroundcolor": "#E5ECF6",
            "gridcolor": "white",
            "gridwidth": 2,
            "linecolor": "white",
            "showbackground": true,
            "ticks": "",
            "zerolinecolor": "white"
           },
           "zaxis": {
            "backgroundcolor": "#E5ECF6",
            "gridcolor": "white",
            "gridwidth": 2,
            "linecolor": "white",
            "showbackground": true,
            "ticks": "",
            "zerolinecolor": "white"
           }
          },
          "shapedefaults": {
           "line": {
            "color": "#2a3f5f"
           }
          },
          "ternary": {
           "aaxis": {
            "gridcolor": "white",
            "linecolor": "white",
            "ticks": ""
           },
           "baxis": {
            "gridcolor": "white",
            "linecolor": "white",
            "ticks": ""
           },
           "bgcolor": "#E5ECF6",
           "caxis": {
            "gridcolor": "white",
            "linecolor": "white",
            "ticks": ""
           }
          },
          "title": {
           "x": 0.05
          },
          "xaxis": {
           "automargin": true,
           "gridcolor": "white",
           "linecolor": "white",
           "ticks": "",
           "title": {
            "standoff": 15
           },
           "zerolinecolor": "white",
           "zerolinewidth": 2
          },
          "yaxis": {
           "automargin": true,
           "gridcolor": "white",
           "linecolor": "white",
           "ticks": "",
           "title": {
            "standoff": 15
           },
           "zerolinecolor": "white",
           "zerolinewidth": 2
          }
         }
        },
        "title": {
         "text": "Average Work Suitability Level by Element Type & Work Type"
        },
        "xaxis": {
         "anchor": "y",
         "autorange": true,
         "domain": [
          0,
          1
         ],
         "range": [
          -0.5,
          8.5
         ],
         "title": {
          "text": "Element Type"
         },
         "type": "category"
        },
        "yaxis": {
         "anchor": "x",
         "autorange": true,
         "domain": [
          0,
          1
         ],
         "range": [
          0,
          4.2105263157894735
         ],
         "title": {
          "text": "Level"
         },
         "type": "linear"
        }
       }
      },
      "image/png": "[encoded data removed]",
      "text/html": [
       "<div>                            <div id=\"ef4c93d3-5181-4c15-bfe9-8ce51c4e0616\" class=\"plotly-graph-div\" style=\"height:525px; width:100%;\"></div>            <script type=\"text/javascript\">                require([\"plotly\"], function(Plotly) {                    window.PLOTLYENV=window.PLOTLYENV || {};                                    if (document.getElementById(\"ef4c93d3-5181-4c15-bfe9-8ce51c4e0616\")) {                    Plotly.newPlot(                        \"ef4c93d3-5181-4c15-bfe9-8ce51c4e0616\",                        [{\"alignmentgroup\":\"True\",\"hovertemplate\":\"Work Type=Cooling\\u003cbr\\u003eElement Type=%{x}\\u003cbr\\u003eLevel=%{y}\\u003cextra\\u003e\\u003c\\u002fextra\\u003e\",\"legendgroup\":\"Cooling\",\"marker\":{\"color\":\"#636efa\",\"pattern\":{\"shape\":\"\"}},\"name\":\"Cooling\",\"offsetgroup\":\"Cooling\",\"orientation\":\"v\",\"showlegend\":true,\"textposition\":\"auto\",\"x\":[\"Dark\",\"Dragon\",\"Earth\",\"Fire\",\"Ice\",\"Water\"],\"xaxis\":\"x\",\"y\":[2.0,2.0,2.5,4.0,2.176470588235294,2.4],\"yaxis\":\"y\",\"type\":\"bar\"},{\"alignmentgroup\":\"True\",\"hovertemplate\":\"Work Type=Gathering\\u003cbr\\u003eElement Type=%{x}\\u003cbr\\u003eLevel=%{y}\\u003cextra\\u003e\\u003c\\u002fextra\\u003e\",\"legendgroup\":\"Gathering\",\"marker\":{\"color\":\"#EF553B\",\"pattern\":{\"shape\":\"\"}},\"name\":\"Gathering\",\"offsetgroup\":\"Gathering\",\"orientation\":\"v\",\"showlegend\":true,\"textposition\":\"auto\",\"x\":[\"Dark\",\"Dragon\",\"Earth\",\"Electricity\",\"Fire\",\"Ice\",\"Leaf\",\"Normal\",\"Water\"],\"xaxis\":\"x\",\"y\":[1.6666666666666667,1.8,2.0,1.0,1.0,1.2,1.5625,1.2777777777777777,1.0],\"yaxis\":\"y\",\"type\":\"bar\"},{\"alignmentgroup\":\"True\",\"hovertemplate\":\"Work Type=Handiwork\\u003cbr\\u003eElement Type=%{x}\\u003cbr\\u003eLevel=%{y}\\u003cextra\\u003e\\u003c\\u002fextra\\u003e\",\"legendgroup\":\"Handiwork\",\"marker\":{\"color\":\"#00cc96\",\"pattern\":{\"shape\":\"\"}},\"name\":\"Handiwork\",\"offsetgroup\":\"Handiwork\",\"orientation\":\"v\",\"showlegend\":true,\"textposition\":\"auto\",\"x\":[\"Dark\",\"Dragon\",\"Earth\",\"Electricity\",\"Fire\",\"Ice\",\"Leaf\",\"Normal\",\"Water\"],\"xaxis\":\"x\",\"y\":[1.95,1.25,1.5,1.5,1.6363636363636365,1.6,1.6875,1.7142857142857142,1.1666666666666667],\"yaxis\":\"y\",\"type\":\"bar\"},{\"alignmentgroup\":\"True\",\"hovertemplate\":\"Work Type=Kindling\\u003cbr\\u003eElement Type=%{x}\\u003cbr\\u003eLevel=%{y}\\u003cextra\\u003e\\u003c\\u002fextra\\u003e\",\"legendgroup\":\"Kindling\",\"marker\":{\"color\":\"#ab63fa\",\"pattern\":{\"shape\":\"\"}},\"name\":\"Kindling\",\"offsetgroup\":\"Kindling\",\"orientation\":\"v\",\"showlegend\":true,\"textposition\":\"auto\",\"x\":[\"Dark\",\"Earth\",\"Fire\"],\"xaxis\":\"x\",\"y\":[2.0,3.0,2.161290322580645],\"yaxis\":\"y\",\"type\":\"bar\"},{\"alignmentgroup\":\"True\",\"hovertemplate\":\"Work Type=Medicine\\u003cbr\\u003eElement Type=%{x}\\u003cbr\\u003eLevel=%{y}\\u003cextra\\u003e\\u003c\\u002fextra\\u003e\",\"legendgroup\":\"Medicine\",\"marker\":{\"color\":\"#FFA15A\",\"pattern\":{\"shape\":\"\"}},\"name\":\"Medicine\",\"offsetgroup\":\"Medicine\",\"orientation\":\"v\",\"showlegend\":true,\"textposition\":\"auto\",\"x\":[\"Dark\",\"Earth\",\"Fire\",\"Ice\",\"Leaf\",\"Normal\"],\"xaxis\":\"x\",\"y\":[2.6363636363636362,1.0,2.0,2.0,1.7272727272727273,1.5],\"yaxis\":\"y\",\"type\":\"bar\"},{\"alignmentgroup\":\"True\",\"hovertemplate\":\"Work Type=Mining\\u003cbr\\u003eElement Type=%{x}\\u003cbr\\u003eLevel=%{y}\\u003cextra\\u003e\\u003c\\u002fextra\\u003e\",\"legendgroup\":\"Mining\",\"marker\":{\"color\":\"#19d3f3\",\"pattern\":{\"shape\":\"\"}},\"name\":\"Mining\",\"offsetgroup\":\"Mining\",\"orientation\":\"v\",\"showlegend\":true,\"textposition\":\"auto\",\"x\":[\"Dark\",\"Dragon\",\"Earth\",\"Electricity\",\"Fire\",\"Ice\",\"Leaf\",\"Normal\",\"Water\"],\"xaxis\":\"x\",\"y\":[1.4,2.75,2.3157894736842106,2.0,2.75,3.0,3.0,1.3333333333333333,1.5],\"yaxis\":\"y\",\"type\":\"bar\"},{\"alignmentgroup\":\"True\",\"hovertemplate\":\"Work Type=Planting\\u003cbr\\u003eElement Type=%{x}\\u003cbr\\u003eLevel=%{y}\\u003cextra\\u003e\\u003c\\u002fextra\\u003e\",\"legendgroup\":\"Planting\",\"marker\":{\"color\":\"#FF6692\",\"pattern\":{\"shape\":\"\"}},\"name\":\"Planting\",\"offsetgroup\":\"Planting\",\"orientation\":\"v\",\"showlegend\":true,\"textposition\":\"auto\",\"x\":[\"Dark\",\"Dragon\",\"Earth\",\"Leaf\"],\"xaxis\":\"x\",\"y\":[2.3333333333333335,2.0,2.0,1.8095238095238095],\"yaxis\":\"y\",\"type\":\"bar\"},{\"alignmentgroup\":\"True\",\"hovertemplate\":\"Work Type=Transport\\u003cbr\\u003eElement Type=%{x}\\u003cbr\\u003eLevel=%{y}\\u003cextra\\u003e\\u003c\\u002fextra\\u003e\",\"legendgroup\":\"Transport\",\"marker\":{\"color\":\"#B6E880\",\"pattern\":{\"shape\":\"\"}},\"name\":\"Transport\",\"offsetgroup\":\"Transport\",\"orientation\":\"v\",\"showlegend\":true,\"textposition\":\"auto\",\"x\":[\"Dark\",\"Dragon\",\"Earth\",\"Electricity\",\"Fire\",\"Ice\",\"Leaf\",\"Normal\",\"Water\"],\"xaxis\":\"x\",\"y\":[1.8888888888888888,2.2,2.1666666666666665,1.875,1.8125,2.5,1.6153846153846154,1.4,1.3076923076923077],\"yaxis\":\"y\",\"type\":\"bar\"},{\"alignmentgroup\":\"True\",\"hovertemplate\":\"Work Type=Watering\\u003cbr\\u003eElement Type=%{x}\\u003cbr\\u003eLevel=%{y}\\u003cextra\\u003e\\u003c\\u002fextra\\u003e\",\"legendgroup\":\"Watering\",\"marker\":{\"color\":\"#FF97FF\",\"pattern\":{\"shape\":\"\"}},\"name\":\"Watering\",\"offsetgroup\":\"Watering\",\"orientation\":\"v\",\"showlegend\":true,\"textposition\":\"auto\",\"x\":[\"Dark\",\"Dragon\",\"Earth\",\"Electricity\",\"Fire\",\"Water\"],\"xaxis\":\"x\",\"y\":[2.0,3.0,1.3333333333333333,1.3333333333333333,2.3333333333333335,1.95],\"yaxis\":\"y\",\"type\":\"bar\"}],                        {\"template\":{\"data\":{\"histogram2dcontour\":[{\"type\":\"histogram2dcontour\",\"colorbar\":{\"outlinewidth\":0,\"ticks\":\"\"},\"colorscale\":[[0.0,\"#0d0887\"],[0.1111111111111111,\"#46039f\"],[0.2222222222222222,\"#7201a8\"],[0.3333333333333333,\"#9c179e\"],[0.4444444444444444,\"#bd3786\"],[0.5555555555555556,\"#d8576b\"],[0.6666666666666666,\"#ed7953\"],[0.7777777777777778,\"#fb9f3a\"],[0.8888888888888888,\"#fdca26\"],[1.0,\"#f0f921\"]]}],\"choropleth\":[{\"type\":\"choropleth\",\"colorbar\":{\"outlinewidth\":0,\"ticks\":\"\"}}],\"histogram2d\":[{\"type\":\"histogram2d\",\"colorbar\":{\"outlinewidth\":0,\"ticks\":\"\"},\"colorscale\":[[0.0,\"#0d0887\"],[0.1111111111111111,\"#46039f\"],[0.2222222222222222,\"#7201a8\"],[0.3333333333333333,\"#9c179e\"],[0.4444444444444444,\"#bd3786\"],[0.5555555555555556,\"#d8576b\"],[0.6666666666666666,\"#ed7953\"],[0.7777777777777778,\"#fb9f3a\"],[0.8888888888888888,\"#fdca26\"],[1.0,\"#f0f921\"]]}],\"heatmap\":[{\"type\":\"heatmap\",\"colorbar\":{\"outlinewidth\":0,\"ticks\":\"\"},\"colorscale\":[[0.0,\"#0d0887\"],[0.1111111111111111,\"#46039f\"],[0.2222222222222222,\"#7201a8\"],[0.3333333333333333,\"#9c179e\"],[0.4444444444444444,\"#bd3786\"],[0.5555555555555556,\"#d8576b\"],[0.6666666666666666,\"#ed7953\"],[0.7777777777777778,\"#fb9f3a\"],[0.8888888888888888,\"#fdca26\"],[1.0,\"#f0f921\"]]}],\"heatmapgl\":[{\"type\":\"heatmapgl\",\"colorbar\":{\"outlinewidth\":0,\"ticks\":\"\"},\"colorscale\":[[0.0,\"#0d0887\"],[0.1111111111111111,\"#46039f\"],[0.2222222222222222,\"#7201a8\"],[0.3333333333333333,\"#9c179e\"],[0.4444444444444444,\"#bd3786\"],[0.5555555555555556,\"#d8576b\"],[0.6666666666666666,\"#ed7953\"],[0.7777777777777778,\"#fb9f3a\"],[0.8888888888888888,\"#fdca26\"],[1.0,\"#f0f921\"]]}],\"contourcarpet\":[{\"type\":\"contourcarpet\",\"colorbar\":{\"outlinewidth\":0,\"ticks\":\"\"}}],\"contour\":[{\"type\":\"contour\",\"colorbar\":{\"outlinewidth\":0,\"ticks\":\"\"},\"colorscale\":[[0.0,\"#0d0887\"],[0.1111111111111111,\"#46039f\"],[0.2222222222222222,\"#7201a8\"],[0.3333333333333333,\"#9c179e\"],[0.4444444444444444,\"#bd3786\"],[0.5555555555555556,\"#d8576b\"],[0.6666666666666666,\"#ed7953\"],[0.7777777777777778,\"#fb9f3a\"],[0.8888888888888888,\"#fdca26\"],[1.0,\"#f0f921\"]]}],\"surface\":[{\"type\":\"surface\",\"colorbar\":{\"outlinewidth\":0,\"ticks\":\"\"},\"colorscale\":[[0.0,\"#0d0887\"],[0.1111111111111111,\"#46039f\"],[0.2222222222222222,\"#7201a8\"],[0.3333333333333333,\"#9c179e\"],[0.4444444444444444,\"#bd3786\"],[0.5555555555555556,\"#d8576b\"],[0.6666666666666666,\"#ed7953\"],[0.7777777777777778,\"#fb9f3a\"],[0.8888888888888888,\"#fdca26\"],[1.0,\"#f0f921\"]]}],\"mesh3d\":[{\"type\":\"mesh3d\",\"colorbar\":{\"outlinewidth\":0,\"ticks\":\"\"}}],\"scatter\":[{\"fillpattern\":{\"fillmode\":\"overlay\",\"size\":10,\"solidity\":0.2},\"type\":\"scatter\"}],\"parcoords\":[{\"type\":\"parcoords\",\"line\":{\"colorbar\":{\"outlinewidth\":0,\"ticks\":\"\"}}}],\"scatterpolargl\":[{\"type\":\"scatterpolargl\",\"marker\":{\"colorbar\":{\"outlinewidth\":0,\"ticks\":\"\"}}}],\"bar\":[{\"error_x\":{\"color\":\"#2a3f5f\"},\"error_y\":{\"color\":\"#2a3f5f\"},\"marker\":{\"line\":{\"color\":\"#E5ECF6\",\"width\":0.5},\"pattern\":{\"fillmode\":\"overlay\",\"size\":10,\"solidity\":0.2}},\"type\":\"bar\"}],\"scattergeo\":[{\"type\":\"scattergeo\",\"marker\":{\"colorbar\":{\"outlinewidth\":0,\"ticks\":\"\"}}}],\"scatterpolar\":[{\"type\":\"scatterpolar\",\"marker\":{\"colorbar\":{\"outlinewidth\":0,\"ticks\":\"\"}}}],\"histogram\":[{\"marker\":{\"pattern\":{\"fillmode\":\"overlay\",\"size\":10,\"solidity\":0.2}},\"type\":\"histogram\"}],\"scattergl\":[{\"type\":\"scattergl\",\"marker\":{\"colorbar\":{\"outlinewidth\":0,\"ticks\":\"\"}}}],\"scatter3d\":[{\"type\":\"scatter3d\",\"line\":{\"colorbar\":{\"outlinewidth\":0,\"ticks\":\"\"}},\"marker\":{\"colorbar\":{\"outlinewidth\":0,\"ticks\":\"\"}}}],\"scattermapbox\":[{\"type\":\"scattermapbox\",\"marker\":{\"colorbar\":{\"outlinewidth\":0,\"ticks\":\"\"}}}],\"scatterternary\":[{\"type\":\"scatterternary\",\"marker\":{\"colorbar\":{\"outlinewidth\":0,\"ticks\":\"\"}}}],\"scattercarpet\":[{\"type\":\"scattercarpet\",\"marker\":{\"colorbar\":{\"outlinewidth\":0,\"ticks\":\"\"}}}],\"carpet\":[{\"aaxis\":{\"endlinecolor\":\"#2a3f5f\",\"gridcolor\":\"white\",\"linecolor\":\"white\",\"minorgridcolor\":\"white\",\"startlinecolor\":\"#2a3f5f\"},\"baxis\":{\"endlinecolor\":\"#2a3f5f\",\"gridcolor\":\"white\",\"linecolor\":\"white\",\"minorgridcolor\":\"white\",\"startlinecolor\":\"#2a3f5f\"},\"type\":\"carpet\"}],\"table\":[{\"cells\":{\"fill\":{\"color\":\"#EBF0F8\"},\"line\":{\"color\":\"white\"}},\"header\":{\"fill\":{\"color\":\"#C8D4E3\"},\"line\":{\"color\":\"white\"}},\"type\":\"table\"}],\"barpolar\":[{\"marker\":{\"line\":{\"color\":\"#E5ECF6\",\"width\":0.5},\"pattern\":{\"fillmode\":\"overlay\",\"size\":10,\"solidity\":0.2}},\"type\":\"barpolar\"}],\"pie\":[{\"automargin\":true,\"type\":\"pie\"}]},\"layout\":{\"autotypenumbers\":\"strict\",\"colorway\":[\"#636efa\",\"#EF553B\",\"#00cc96\",\"#ab63fa\",\"#FFA15A\",\"#19d3f3\",\"#FF6692\",\"#B6E880\",\"#FF97FF\",\"#FECB52\"],\"font\":{\"color\":\"#2a3f5f\"},\"hovermode\":\"closest\",\"hoverlabel\":{\"align\":\"left\"},\"paper_bgcolor\":\"white\",\"plot_bgcolor\":\"#E5ECF6\",\"polar\":{\"bgcolor\":\"#E5ECF6\",\"angularaxis\":{\"gridcolor\":\"white\",\"linecolor\":\"white\",\"ticks\":\"\"},\"radialaxis\":{\"gridcolor\":\"white\",\"linecolor\":\"white\",\"ticks\":\"\"}},\"ternary\":{\"bgcolor\":\"#E5ECF6\",\"aaxis\":{\"gridcolor\":\"white\",\"linecolor\":\"white\",\"ticks\":\"\"},\"baxis\":{\"gridcolor\":\"white\",\"linecolor\":\"white\",\"ticks\":\"\"},\"caxis\":{\"gridcolor\":\"white\",\"linecolor\":\"white\",\"ticks\":\"\"}},\"coloraxis\":{\"colorbar\":{\"outlinewidth\":0,\"ticks\":\"\"}},\"colorscale\":{\"sequential\":[[0.0,\"#0d0887\"],[0.1111111111111111,\"#46039f\"],[0.2222222222222222,\"#7201a8\"],[0.3333333333333333,\"#9c179e\"],[0.4444444444444444,\"#bd3786\"],[0.5555555555555556,\"#d8576b\"],[0.6666666666666666,\"#ed7953\"],[0.7777777777777778,\"#fb9f3a\"],[0.8888888888888888,\"#fdca26\"],[1.0,\"#f0f921\"]],\"sequentialminus\":[[0.0,\"#0d0887\"],[0.1111111111111111,\"#46039f\"],[0.2222222222222222,\"#7201a8\"],[0.3333333333333333,\"#9c179e\"],[0.4444444444444444,\"#bd3786\"],[0.5555555555555556,\"#d8576b\"],[0.6666666666666666,\"#ed7953\"],[0.7777777777777778,\"#fb9f3a\"],[0.8888888888888888,\"#fdca26\"],[1.0,\"#f0f921\"]],\"diverging\":[[0,\"#8e0152\"],[0.1,\"#c51b7d\"],[0.2,\"#de77ae\"],[0.3,\"#f1b6da\"],[0.4,\"#fde0ef\"],[0.5,\"#f7f7f7\"],[0.6,\"#e6f5d0\"],[0.7,\"#b8e186\"],[0.8,\"#7fbc41\"],[0.9,\"#4d9221\"],[1,\"#276419\"]]},\"xaxis\":{\"gridcolor\":\"white\",\"linecolor\":\"white\",\"ticks\":\"\",\"title\":{\"standoff\":15},\"zerolinecolor\":\"white\",\"automargin\":true,\"zerolinewidth\":2},\"yaxis\":{\"gridcolor\":\"white\",\"linecolor\":\"white\",\"ticks\":\"\",\"title\":{\"standoff\":15},\"zerolinecolor\":\"white\",\"automargin\":true,\"zerolinewidth\":2},\"scene\":{\"xaxis\":{\"backgroundcolor\":\"#E5ECF6\",\"gridcolor\":\"white\",\"linecolor\":\"white\",\"showbackground\":true,\"ticks\":\"\",\"zerolinecolor\":\"white\",\"gridwidth\":2},\"yaxis\":{\"backgroundcolor\":\"#E5ECF6\",\"gridcolor\":\"white\",\"linecolor\":\"white\",\"showbackground\":true,\"ticks\":\"\",\"zerolinecolor\":\"white\",\"gridwidth\":2},\"zaxis\":{\"backgroundcolor\":\"#E5ECF6\",\"gridcolor\":\"white\",\"linecolor\":\"white\",\"showbackground\":true,\"ticks\":\"\",\"zerolinecolor\":\"white\",\"gridwidth\":2}},\"shapedefaults\":{\"line\":{\"color\":\"#2a3f5f\"}},\"annotationdefaults\":{\"arrowcolor\":\"#2a3f5f\",\"arrowhead\":0,\"arrowwidth\":1},\"geo\":{\"bgcolor\":\"white\",\"landcolor\":\"#E5ECF6\",\"subunitcolor\":\"white\",\"showland\":true,\"showlakes\":true,\"lakecolor\":\"white\"},\"title\":{\"x\":0.05},\"mapbox\":{\"style\":\"light\"}}},\"xaxis\":{\"anchor\":\"y\",\"domain\":[0.0,1.0],\"title\":{\"text\":\"Element Type\"}},\"yaxis\":{\"anchor\":\"x\",\"domain\":[0.0,1.0],\"title\":{\"text\":\"Level\"}},\"legend\":{\"title\":{\"text\":\"Work Type\"},\"tracegroupgap\":0},\"title\":{\"text\":\"Average Work Suitability Level by Element Type & Work Type\"},\"barmode\":\"group\"},                        {\"responsive\": true}                    ).then(function(){\n",
       "                            \n",
       "var gd = document.getElementById('ef4c93d3-5181-4c15-bfe9-8ce51c4e0616');\n",
       "var x = new MutationObserver(function (mutations, observer) {{\n",
       "        var display = window.getComputedStyle(gd).display;\n",
       "        if (!display || display === 'none') {{\n",
       "            console.log([gd, 'removed!']);\n",
       "            Plotly.purge(gd);\n",
       "            observer.disconnect();\n",
       "        }}\n",
       "}});\n",
       "\n",
       "// Listen for the removal of the full notebook cells\n",
       "var notebookContainer = gd.closest('#notebook-container');\n",
       "if (notebookContainer) {{\n",
       "    x.observe(notebookContainer, {childList: true});\n",
       "}}\n",
       "\n",
       "// Listen for the clearing of the current output cell\n",
       "var outputEl = gd.closest('.output');\n",
       "if (outputEl) {{\n",
       "    x.observe(outputEl, {childList: true});\n",
       "}}\n",
       "\n",
       "                        })                };                });            </script>        </div>"
      ]
     },
     "metadata": {},
     "output_type": "display_data"
    },
    {
     "data": {
      "application/vnd.plotly.v1+json": {
       "config": {
        "plotlyServerURL": "https://plot.ly"
       },
       "data": [
        {
         "coloraxis": "coloraxis",
         "histfunc": "sum",
         "hovertemplate": "_Work Skill Count=%{x}<br>Rarity=%{y}<br>sum of Count=%{z}<extra></extra>",
         "name": "",
         "type": "histogram2d",
         "x": [
          0,
          1,
          2,
          3,
          4,
          5,
          0,
          1,
          2,
          3,
          4,
          5,
          1,
          3,
          0,
          1,
          2,
          3,
          4,
          5
         ],
         "xaxis": "x",
         "xbingroup": "x",
         "y": [
          "Common",
          "Common",
          "Common",
          "Common",
          "Common",
          "Common",
          "Epic",
          "Epic",
          "Epic",
          "Epic",
          "Epic",
          "Epic",
          "Legendary",
          "Legendary",
          "Rare",
          "Rare",
          "Rare",
          "Rare",
          "Rare",
          "Rare"
         ],
         "yaxis": "y",
         "ybingroup": "y",
         "z": [
          10,
          37,
          12,
          25,
          14,
          3,
          1,
          17,
          13,
          7,
          3,
          3,
          6,
          2,
          5,
          21,
          17,
          16,
          10,
          3
         ]
        }
       ],
       "layout": {
        "autosize": true,
        "coloraxis": {
         "colorbar": {
          "title": {
           "text": "sum of Count"
          }
         },
         "colorscale": [
          [
           0,
           "#440154"
          ],
          [
           0.1111111111111111,
           "#482878"
          ],
          [
           0.2222222222222222,
           "#3e4989"
          ],
          [
           0.3333333333333333,
           "#31688e"
          ],
          [
           0.4444444444444444,
           "#26828e"
          ],
          [
           0.5555555555555556,
           "#1f9e89"
          ],
          [
           0.6666666666666666,
           "#35b779"
          ],
          [
           0.7777777777777778,
           "#6ece58"
          ],
          [
           0.8888888888888888,
           "#b5de2b"
          ],
          [
           1,
           "#fde725"
          ]
         ]
        },
        "legend": {
         "tracegroupgap": 0
        },
        "template": {
         "data": {
          "bar": [
           {
            "error_x": {
             "color": "#2a3f5f"
            },
            "error_y": {
             "color": "#2a3f5f"
            },
            "marker": {
             "line": {
              "color": "#E5ECF6",
              "width": 0.5
             },
             "pattern": {
              "fillmode": "overlay",
              "size": 10,
              "solidity": 0.2
             }
            },
            "type": "bar"
           }
          ],
          "barpolar": [
           {
            "marker": {
             "line": {
              "color": "#E5ECF6",
              "width": 0.5
             },
             "pattern": {
              "fillmode": "overlay",
              "size": 10,
              "solidity": 0.2
             }
            },
            "type": "barpolar"
           }
          ],
          "carpet": [
           {
            "aaxis": {
             "endlinecolor": "#2a3f5f",
             "gridcolor": "white",
             "linecolor": "white",
             "minorgridcolor": "white",
             "startlinecolor": "#2a3f5f"
            },
            "baxis": {
             "endlinecolor": "#2a3f5f",
             "gridcolor": "white",
             "linecolor": "white",
             "minorgridcolor": "white",
             "startlinecolor": "#2a3f5f"
            },
            "type": "carpet"
           }
          ],
          "choropleth": [
           {
            "colorbar": {
             "outlinewidth": 0,
             "ticks": ""
            },
            "type": "choropleth"
           }
          ],
          "contour": [
           {
            "colorbar": {
             "outlinewidth": 0,
             "ticks": ""
            },
            "colorscale": [
             [
              0,
              "#0d0887"
             ],
             [
              0.1111111111111111,
              "#46039f"
             ],
             [
              0.2222222222222222,
              "#7201a8"
             ],
             [
              0.3333333333333333,
              "#9c179e"
             ],
             [
              0.4444444444444444,
              "#bd3786"
             ],
             [
              0.5555555555555556,
              "#d8576b"
             ],
             [
              0.6666666666666666,
              "#ed7953"
             ],
             [
              0.7777777777777778,
              "#fb9f3a"
             ],
             [
              0.8888888888888888,
              "#fdca26"
             ],
             [
              1,
              "#f0f921"
             ]
            ],
            "type": "contour"
           }
          ],
          "contourcarpet": [
           {
            "colorbar": {
             "outlinewidth": 0,
             "ticks": ""
            },
            "type": "contourcarpet"
           }
          ],
          "heatmap": [
           {
            "colorbar": {
             "outlinewidth": 0,
             "ticks": ""
            },
            "colorscale": [
             [
              0,
              "#0d0887"
             ],
             [
              0.1111111111111111,
              "#46039f"
             ],
             [
              0.2222222222222222,
              "#7201a8"
             ],
             [
              0.3333333333333333,
              "#9c179e"
             ],
             [
              0.4444444444444444,
              "#bd3786"
             ],
             [
              0.5555555555555556,
              "#d8576b"
             ],
             [
              0.6666666666666666,
              "#ed7953"
             ],
             [
              0.7777777777777778,
              "#fb9f3a"
             ],
             [
              0.8888888888888888,
              "#fdca26"
             ],
             [
              1,
              "#f0f921"
             ]
            ],
            "type": "heatmap"
           }
          ],
          "heatmapgl": [
           {
            "colorbar": {
             "outlinewidth": 0,
             "ticks": ""
            },
            "colorscale": [
             [
              0,
              "#0d0887"
             ],
             [
              0.1111111111111111,
              "#46039f"
             ],
             [
              0.2222222222222222,
              "#7201a8"
             ],
             [
              0.3333333333333333,
              "#9c179e"
             ],
             [
              0.4444444444444444,
              "#bd3786"
             ],
             [
              0.5555555555555556,
              "#d8576b"
             ],
             [
              0.6666666666666666,
              "#ed7953"
             ],
             [
              0.7777777777777778,
              "#fb9f3a"
             ],
             [
              0.8888888888888888,
              "#fdca26"
             ],
             [
              1,
              "#f0f921"
             ]
            ],
            "type": "heatmapgl"
           }
          ],
          "histogram": [
           {
            "marker": {
             "pattern": {
              "fillmode": "overlay",
              "size": 10,
              "solidity": 0.2
             }
            },
            "type": "histogram"
           }
          ],
          "histogram2d": [
           {
            "colorbar": {
             "outlinewidth": 0,
             "ticks": ""
            },
            "colorscale": [
             [
              0,
              "#0d0887"
             ],
             [
              0.1111111111111111,
              "#46039f"
             ],
             [
              0.2222222222222222,
              "#7201a8"
             ],
             [
              0.3333333333333333,
              "#9c179e"
             ],
             [
              0.4444444444444444,
              "#bd3786"
             ],
             [
              0.5555555555555556,
              "#d8576b"
             ],
             [
              0.6666666666666666,
              "#ed7953"
             ],
             [
              0.7777777777777778,
              "#fb9f3a"
             ],
             [
              0.8888888888888888,
              "#fdca26"
             ],
             [
              1,
              "#f0f921"
             ]
            ],
            "type": "histogram2d"
           }
          ],
          "histogram2dcontour": [
           {
            "colorbar": {
             "outlinewidth": 0,
             "ticks": ""
            },
            "colorscale": [
             [
              0,
              "#0d0887"
             ],
             [
              0.1111111111111111,
              "#46039f"
             ],
             [
              0.2222222222222222,
              "#7201a8"
             ],
             [
              0.3333333333333333,
              "#9c179e"
             ],
             [
              0.4444444444444444,
              "#bd3786"
             ],
             [
              0.5555555555555556,
              "#d8576b"
             ],
             [
              0.6666666666666666,
              "#ed7953"
             ],
             [
              0.7777777777777778,
              "#fb9f3a"
             ],
             [
              0.8888888888888888,
              "#fdca26"
             ],
             [
              1,
              "#f0f921"
             ]
            ],
            "type": "histogram2dcontour"
           }
          ],
          "mesh3d": [
           {
            "colorbar": {
             "outlinewidth": 0,
             "ticks": ""
            },
            "type": "mesh3d"
           }
          ],
          "parcoords": [
           {
            "line": {
             "colorbar": {
              "outlinewidth": 0,
              "ticks": ""
             }
            },
            "type": "parcoords"
           }
          ],
          "pie": [
           {
            "automargin": true,
            "type": "pie"
           }
          ],
          "scatter": [
           {
            "fillpattern": {
             "fillmode": "overlay",
             "size": 10,
             "solidity": 0.2
            },
            "type": "scatter"
           }
          ],
          "scatter3d": [
           {
            "line": {
             "colorbar": {
              "outlinewidth": 0,
              "ticks": ""
             }
            },
            "marker": {
             "colorbar": {
              "outlinewidth": 0,
              "ticks": ""
             }
            },
            "type": "scatter3d"
           }
          ],
          "scattercarpet": [
           {
            "marker": {
             "colorbar": {
              "outlinewidth": 0,
              "ticks": ""
             }
            },
            "type": "scattercarpet"
           }
          ],
          "scattergeo": [
           {
            "marker": {
             "colorbar": {
              "outlinewidth": 0,
              "ticks": ""
             }
            },
            "type": "scattergeo"
           }
          ],
          "scattergl": [
           {
            "marker": {
             "colorbar": {
              "outlinewidth": 0,
              "ticks": ""
             }
            },
            "type": "scattergl"
           }
          ],
          "scattermapbox": [
           {
            "marker": {
             "colorbar": {
              "outlinewidth": 0,
              "ticks": ""
             }
            },
            "type": "scattermapbox"
           }
          ],
          "scatterpolar": [
           {
            "marker": {
             "colorbar": {
              "outlinewidth": 0,
              "ticks": ""
             }
            },
            "type": "scatterpolar"
           }
          ],
          "scatterpolargl": [
           {
            "marker": {
             "colorbar": {
              "outlinewidth": 0,
              "ticks": ""
             }
            },
            "type": "scatterpolargl"
           }
          ],
          "scatterternary": [
           {
            "marker": {
             "colorbar": {
              "outlinewidth": 0,
              "ticks": ""
             }
            },
            "type": "scatterternary"
           }
          ],
          "surface": [
           {
            "colorbar": {
             "outlinewidth": 0,
             "ticks": ""
            },
            "colorscale": [
             [
              0,
              "#0d0887"
             ],
             [
              0.1111111111111111,
              "#46039f"
             ],
             [
              0.2222222222222222,
              "#7201a8"
             ],
             [
              0.3333333333333333,
              "#9c179e"
             ],
             [
              0.4444444444444444,
              "#bd3786"
             ],
             [
              0.5555555555555556,
              "#d8576b"
             ],
             [
              0.6666666666666666,
              "#ed7953"
             ],
             [
              0.7777777777777778,
              "#fb9f3a"
             ],
             [
              0.8888888888888888,
              "#fdca26"
             ],
             [
              1,
              "#f0f921"
             ]
            ],
            "type": "surface"
           }
          ],
          "table": [
           {
            "cells": {
             "fill": {
              "color": "#EBF0F8"
             },
             "line": {
              "color": "white"
             }
            },
            "header": {
             "fill": {
              "color": "#C8D4E3"
             },
             "line": {
              "color": "white"
             }
            },
            "type": "table"
           }
          ]
         },
         "layout": {
          "annotationdefaults": {
           "arrowcolor": "#2a3f5f",
           "arrowhead": 0,
           "arrowwidth": 1
          },
          "autotypenumbers": "strict",
          "coloraxis": {
           "colorbar": {
            "outlinewidth": 0,
            "ticks": ""
           }
          },
          "colorscale": {
           "diverging": [
            [
             0,
             "#8e0152"
            ],
            [
             0.1,
             "#c51b7d"
            ],
            [
             0.2,
             "#de77ae"
            ],
            [
             0.3,
             "#f1b6da"
            ],
            [
             0.4,
             "#fde0ef"
            ],
            [
             0.5,
             "#f7f7f7"
            ],
            [
             0.6,
             "#e6f5d0"
            ],
            [
             0.7,
             "#b8e186"
            ],
            [
             0.8,
             "#7fbc41"
            ],
            [
             0.9,
             "#4d9221"
            ],
            [
             1,
             "#276419"
            ]
           ],
           "sequential": [
            [
             0,
             "#0d0887"
            ],
            [
             0.1111111111111111,
             "#46039f"
            ],
            [
             0.2222222222222222,
             "#7201a8"
            ],
            [
             0.3333333333333333,
             "#9c179e"
            ],
            [
             0.4444444444444444,
             "#bd3786"
            ],
            [
             0.5555555555555556,
             "#d8576b"
            ],
            [
             0.6666666666666666,
             "#ed7953"
            ],
            [
             0.7777777777777778,
             "#fb9f3a"
            ],
            [
             0.8888888888888888,
             "#fdca26"
            ],
            [
             1,
             "#f0f921"
            ]
           ],
           "sequentialminus": [
            [
             0,
             "#0d0887"
            ],
            [
             0.1111111111111111,
             "#46039f"
            ],
            [
             0.2222222222222222,
             "#7201a8"
            ],
            [
             0.3333333333333333,
             "#9c179e"
            ],
            [
             0.4444444444444444,
             "#bd3786"
            ],
            [
             0.5555555555555556,
             "#d8576b"
            ],
            [
             0.6666666666666666,
             "#ed7953"
            ],
            [
             0.7777777777777778,
             "#fb9f3a"
            ],
            [
             0.8888888888888888,
             "#fdca26"
            ],
            [
             1,
             "#f0f921"
            ]
           ]
          },
          "colorway": [
           "#636efa",
           "#EF553B",
           "#00cc96",
           "#ab63fa",
           "#FFA15A",
           "#19d3f3",
           "#FF6692",
           "#B6E880",
           "#FF97FF",
           "#FECB52"
          ],
          "font": {
           "color": "#2a3f5f"
          },
          "geo": {
           "bgcolor": "white",
           "lakecolor": "white",
           "landcolor": "#E5ECF6",
           "showlakes": true,
           "showland": true,
           "subunitcolor": "white"
          },
          "hoverlabel": {
           "align": "left"
          },
          "hovermode": "closest",
          "mapbox": {
           "style": "light"
          },
          "paper_bgcolor": "white",
          "plot_bgcolor": "#E5ECF6",
          "polar": {
           "angularaxis": {
            "gridcolor": "white",
            "linecolor": "white",
            "ticks": ""
           },
           "bgcolor": "#E5ECF6",
           "radialaxis": {
            "gridcolor": "white",
            "linecolor": "white",
            "ticks": ""
           }
          },
          "scene": {
           "xaxis": {
            "backgroundcolor": "#E5ECF6",
            "gridcolor": "white",
            "gridwidth": 2,
            "linecolor": "white",
            "showbackground": true,
            "ticks": "",
            "zerolinecolor": "white"
           },
           "yaxis": {
            "backgroundcolor": "#E5ECF6",
            "gridcolor": "white",
            "gridwidth": 2,
            "linecolor": "white",
            "showbackground": true,
            "ticks": "",
            "zerolinecolor": "white"
           },
           "zaxis": {
            "backgroundcolor": "#E5ECF6",
            "gridcolor": "white",
            "gridwidth": 2,
            "linecolor": "white",
            "showbackground": true,
            "ticks": "",
            "zerolinecolor": "white"
           }
          },
          "shapedefaults": {
           "line": {
            "color": "#2a3f5f"
           }
          },
          "ternary": {
           "aaxis": {
            "gridcolor": "white",
            "linecolor": "white",
            "ticks": ""
           },
           "baxis": {
            "gridcolor": "white",
            "linecolor": "white",
            "ticks": ""
           },
           "bgcolor": "#E5ECF6",
           "caxis": {
            "gridcolor": "white",
            "linecolor": "white",
            "ticks": ""
           }
          },
          "title": {
           "x": 0.05
          },
          "xaxis": {
           "automargin": true,
           "gridcolor": "white",
           "linecolor": "white",
           "ticks": "",
           "title": {
            "standoff": 15
           },
           "zerolinecolor": "white",
           "zerolinewidth": 2
          },
          "yaxis": {
           "automargin": true,
           "gridcolor": "white",
           "linecolor": "white",
           "ticks": "",
           "title": {
            "standoff": 15
           },
           "zerolinecolor": "white",
           "zerolinewidth": 2
          }
         }
        },
        "title": {
         "text": "Rarity vs. Number of Work Suitabilities (Frequency)"
        },
        "xaxis": {
         "anchor": "y",
         "autorange": true,
         "domain": [
          0,
          1
         ],
         "range": [
          -0.5,
          5.5
         ],
         "title": {
          "text": "_Work Skill Count"
         },
         "type": "linear"
        },
        "yaxis": {
         "anchor": "x",
         "autorange": true,
         "domain": [
          0,
          1
         ],
         "range": [
          -0.5,
          3.5
         ],
         "title": {
          "text": "Rarity"
         },
         "type": "category"
        }
       }
      },
      "image/png": "[encoded data removed]",
      "text/html": [
       "<div>                            <div id=\"a2be91a2-8024-4212-b95a-e01f129988df\" class=\"plotly-graph-div\" style=\"height:525px; width:100%;\"></div>            <script type=\"text/javascript\">                require([\"plotly\"], function(Plotly) {                    window.PLOTLYENV=window.PLOTLYENV || {};                                    if (document.getElementById(\"a2be91a2-8024-4212-b95a-e01f129988df\")) {                    Plotly.newPlot(                        \"a2be91a2-8024-4212-b95a-e01f129988df\",                        [{\"coloraxis\":\"coloraxis\",\"histfunc\":\"sum\",\"hovertemplate\":\"_Work Skill Count=%{x}\\u003cbr\\u003eRarity=%{y}\\u003cbr\\u003esum of Count=%{z}\\u003cextra\\u003e\\u003c\\u002fextra\\u003e\",\"name\":\"\",\"x\":[0,1,2,3,4,5,0,1,2,3,4,5,1,3,0,1,2,3,4,5],\"xaxis\":\"x\",\"xbingroup\":\"x\",\"y\":[\"Common\",\"Common\",\"Common\",\"Common\",\"Common\",\"Common\",\"Epic\",\"Epic\",\"Epic\",\"Epic\",\"Epic\",\"Epic\",\"Legendary\",\"Legendary\",\"Rare\",\"Rare\",\"Rare\",\"Rare\",\"Rare\",\"Rare\"],\"yaxis\":\"y\",\"ybingroup\":\"y\",\"z\":[10,37,12,25,14,3,1,17,13,7,3,3,6,2,5,21,17,16,10,3],\"type\":\"histogram2d\"}],                        {\"template\":{\"data\":{\"histogram2dcontour\":[{\"type\":\"histogram2dcontour\",\"colorbar\":{\"outlinewidth\":0,\"ticks\":\"\"},\"colorscale\":[[0.0,\"#0d0887\"],[0.1111111111111111,\"#46039f\"],[0.2222222222222222,\"#7201a8\"],[0.3333333333333333,\"#9c179e\"],[0.4444444444444444,\"#bd3786\"],[0.5555555555555556,\"#d8576b\"],[0.6666666666666666,\"#ed7953\"],[0.7777777777777778,\"#fb9f3a\"],[0.8888888888888888,\"#fdca26\"],[1.0,\"#f0f921\"]]}],\"choropleth\":[{\"type\":\"choropleth\",\"colorbar\":{\"outlinewidth\":0,\"ticks\":\"\"}}],\"histogram2d\":[{\"type\":\"histogram2d\",\"colorbar\":{\"outlinewidth\":0,\"ticks\":\"\"},\"colorscale\":[[0.0,\"#0d0887\"],[0.1111111111111111,\"#46039f\"],[0.2222222222222222,\"#7201a8\"],[0.3333333333333333,\"#9c179e\"],[0.4444444444444444,\"#bd3786\"],[0.5555555555555556,\"#d8576b\"],[0.6666666666666666,\"#ed7953\"],[0.7777777777777778,\"#fb9f3a\"],[0.8888888888888888,\"#fdca26\"],[1.0,\"#f0f921\"]]}],\"heatmap\":[{\"type\":\"heatmap\",\"colorbar\":{\"outlinewidth\":0,\"ticks\":\"\"},\"colorscale\":[[0.0,\"#0d0887\"],[0.1111111111111111,\"#46039f\"],[0.2222222222222222,\"#7201a8\"],[0.3333333333333333,\"#9c179e\"],[0.4444444444444444,\"#bd3786\"],[0.5555555555555556,\"#d8576b\"],[0.6666666666666666,\"#ed7953\"],[0.7777777777777778,\"#fb9f3a\"],[0.8888888888888888,\"#fdca26\"],[1.0,\"#f0f921\"]]}],\"heatmapgl\":[{\"type\":\"heatmapgl\",\"colorbar\":{\"outlinewidth\":0,\"ticks\":\"\"},\"colorscale\":[[0.0,\"#0d0887\"],[0.1111111111111111,\"#46039f\"],[0.2222222222222222,\"#7201a8\"],[0.3333333333333333,\"#9c179e\"],[0.4444444444444444,\"#bd3786\"],[0.5555555555555556,\"#d8576b\"],[0.6666666666666666,\"#ed7953\"],[0.7777777777777778,\"#fb9f3a\"],[0.8888888888888888,\"#fdca26\"],[1.0,\"#f0f921\"]]}],\"contourcarpet\":[{\"type\":\"contourcarpet\",\"colorbar\":{\"outlinewidth\":0,\"ticks\":\"\"}}],\"contour\":[{\"type\":\"contour\",\"colorbar\":{\"outlinewidth\":0,\"ticks\":\"\"},\"colorscale\":[[0.0,\"#0d0887\"],[0.1111111111111111,\"#46039f\"],[0.2222222222222222,\"#7201a8\"],[0.3333333333333333,\"#9c179e\"],[0.4444444444444444,\"#bd3786\"],[0.5555555555555556,\"#d8576b\"],[0.6666666666666666,\"#ed7953\"],[0.7777777777777778,\"#fb9f3a\"],[0.8888888888888888,\"#fdca26\"],[1.0,\"#f0f921\"]]}],\"surface\":[{\"type\":\"surface\",\"colorbar\":{\"outlinewidth\":0,\"ticks\":\"\"},\"colorscale\":[[0.0,\"#0d0887\"],[0.1111111111111111,\"#46039f\"],[0.2222222222222222,\"#7201a8\"],[0.3333333333333333,\"#9c179e\"],[0.4444444444444444,\"#bd3786\"],[0.5555555555555556,\"#d8576b\"],[0.6666666666666666,\"#ed7953\"],[0.7777777777777778,\"#fb9f3a\"],[0.8888888888888888,\"#fdca26\"],[1.0,\"#f0f921\"]]}],\"mesh3d\":[{\"type\":\"mesh3d\",\"colorbar\":{\"outlinewidth\":0,\"ticks\":\"\"}}],\"scatter\":[{\"fillpattern\":{\"fillmode\":\"overlay\",\"size\":10,\"solidity\":0.2},\"type\":\"scatter\"}],\"parcoords\":[{\"type\":\"parcoords\",\"line\":{\"colorbar\":{\"outlinewidth\":0,\"ticks\":\"\"}}}],\"scatterpolargl\":[{\"type\":\"scatterpolargl\",\"marker\":{\"colorbar\":{\"outlinewidth\":0,\"ticks\":\"\"}}}],\"bar\":[{\"error_x\":{\"color\":\"#2a3f5f\"},\"error_y\":{\"color\":\"#2a3f5f\"},\"marker\":{\"line\":{\"color\":\"#E5ECF6\",\"width\":0.5},\"pattern\":{\"fillmode\":\"overlay\",\"size\":10,\"solidity\":0.2}},\"type\":\"bar\"}],\"scattergeo\":[{\"type\":\"scattergeo\",\"marker\":{\"colorbar\":{\"outlinewidth\":0,\"ticks\":\"\"}}}],\"scatterpolar\":[{\"type\":\"scatterpolar\",\"marker\":{\"colorbar\":{\"outlinewidth\":0,\"ticks\":\"\"}}}],\"histogram\":[{\"marker\":{\"pattern\":{\"fillmode\":\"overlay\",\"size\":10,\"solidity\":0.2}},\"type\":\"histogram\"}],\"scattergl\":[{\"type\":\"scattergl\",\"marker\":{\"colorbar\":{\"outlinewidth\":0,\"ticks\":\"\"}}}],\"scatter3d\":[{\"type\":\"scatter3d\",\"line\":{\"colorbar\":{\"outlinewidth\":0,\"ticks\":\"\"}},\"marker\":{\"colorbar\":{\"outlinewidth\":0,\"ticks\":\"\"}}}],\"scattermapbox\":[{\"type\":\"scattermapbox\",\"marker\":{\"colorbar\":{\"outlinewidth\":0,\"ticks\":\"\"}}}],\"scatterternary\":[{\"type\":\"scatterternary\",\"marker\":{\"colorbar\":{\"outlinewidth\":0,\"ticks\":\"\"}}}],\"scattercarpet\":[{\"type\":\"scattercarpet\",\"marker\":{\"colorbar\":{\"outlinewidth\":0,\"ticks\":\"\"}}}],\"carpet\":[{\"aaxis\":{\"endlinecolor\":\"#2a3f5f\",\"gridcolor\":\"white\",\"linecolor\":\"white\",\"minorgridcolor\":\"white\",\"startlinecolor\":\"#2a3f5f\"},\"baxis\":{\"endlinecolor\":\"#2a3f5f\",\"gridcolor\":\"white\",\"linecolor\":\"white\",\"minorgridcolor\":\"white\",\"startlinecolor\":\"#2a3f5f\"},\"type\":\"carpet\"}],\"table\":[{\"cells\":{\"fill\":{\"color\":\"#EBF0F8\"},\"line\":{\"color\":\"white\"}},\"header\":{\"fill\":{\"color\":\"#C8D4E3\"},\"line\":{\"color\":\"white\"}},\"type\":\"table\"}],\"barpolar\":[{\"marker\":{\"line\":{\"color\":\"#E5ECF6\",\"width\":0.5},\"pattern\":{\"fillmode\":\"overlay\",\"size\":10,\"solidity\":0.2}},\"type\":\"barpolar\"}],\"pie\":[{\"automargin\":true,\"type\":\"pie\"}]},\"layout\":{\"autotypenumbers\":\"strict\",\"colorway\":[\"#636efa\",\"#EF553B\",\"#00cc96\",\"#ab63fa\",\"#FFA15A\",\"#19d3f3\",\"#FF6692\",\"#B6E880\",\"#FF97FF\",\"#FECB52\"],\"font\":{\"color\":\"#2a3f5f\"},\"hovermode\":\"closest\",\"hoverlabel\":{\"align\":\"left\"},\"paper_bgcolor\":\"white\",\"plot_bgcolor\":\"#E5ECF6\",\"polar\":{\"bgcolor\":\"#E5ECF6\",\"angularaxis\":{\"gridcolor\":\"white\",\"linecolor\":\"white\",\"ticks\":\"\"},\"radialaxis\":{\"gridcolor\":\"white\",\"linecolor\":\"white\",\"ticks\":\"\"}},\"ternary\":{\"bgcolor\":\"#E5ECF6\",\"aaxis\":{\"gridcolor\":\"white\",\"linecolor\":\"white\",\"ticks\":\"\"},\"baxis\":{\"gridcolor\":\"white\",\"linecolor\":\"white\",\"ticks\":\"\"},\"caxis\":{\"gridcolor\":\"white\",\"linecolor\":\"white\",\"ticks\":\"\"}},\"coloraxis\":{\"colorbar\":{\"outlinewidth\":0,\"ticks\":\"\"}},\"colorscale\":{\"sequential\":[[0.0,\"#0d0887\"],[0.1111111111111111,\"#46039f\"],[0.2222222222222222,\"#7201a8\"],[0.3333333333333333,\"#9c179e\"],[0.4444444444444444,\"#bd3786\"],[0.5555555555555556,\"#d8576b\"],[0.6666666666666666,\"#ed7953\"],[0.7777777777777778,\"#fb9f3a\"],[0.8888888888888888,\"#fdca26\"],[1.0,\"#f0f921\"]],\"sequentialminus\":[[0.0,\"#0d0887\"],[0.1111111111111111,\"#46039f\"],[0.2222222222222222,\"#7201a8\"],[0.3333333333333333,\"#9c179e\"],[0.4444444444444444,\"#bd3786\"],[0.5555555555555556,\"#d8576b\"],[0.6666666666666666,\"#ed7953\"],[0.7777777777777778,\"#fb9f3a\"],[0.8888888888888888,\"#fdca26\"],[1.0,\"#f0f921\"]],\"diverging\":[[0,\"#8e0152\"],[0.1,\"#c51b7d\"],[0.2,\"#de77ae\"],[0.3,\"#f1b6da\"],[0.4,\"#fde0ef\"],[0.5,\"#f7f7f7\"],[0.6,\"#e6f5d0\"],[0.7,\"#b8e186\"],[0.8,\"#7fbc41\"],[0.9,\"#4d9221\"],[1,\"#276419\"]]},\"xaxis\":{\"gridcolor\":\"white\",\"linecolor\":\"white\",\"ticks\":\"\",\"title\":{\"standoff\":15},\"zerolinecolor\":\"white\",\"automargin\":true,\"zerolinewidth\":2},\"yaxis\":{\"gridcolor\":\"white\",\"linecolor\":\"white\",\"ticks\":\"\",\"title\":{\"standoff\":15},\"zerolinecolor\":\"white\",\"automargin\":true,\"zerolinewidth\":2},\"scene\":{\"xaxis\":{\"backgroundcolor\":\"#E5ECF6\",\"gridcolor\":\"white\",\"linecolor\":\"white\",\"showbackground\":true,\"ticks\":\"\",\"zerolinecolor\":\"white\",\"gridwidth\":2},\"yaxis\":{\"backgroundcolor\":\"#E5ECF6\",\"gridcolor\":\"white\",\"linecolor\":\"white\",\"showbackground\":true,\"ticks\":\"\",\"zerolinecolor\":\"white\",\"gridwidth\":2},\"zaxis\":{\"backgroundcolor\":\"#E5ECF6\",\"gridcolor\":\"white\",\"linecolor\":\"white\",\"showbackground\":true,\"ticks\":\"\",\"zerolinecolor\":\"white\",\"gridwidth\":2}},\"shapedefaults\":{\"line\":{\"color\":\"#2a3f5f\"}},\"annotationdefaults\":{\"arrowcolor\":\"#2a3f5f\",\"arrowhead\":0,\"arrowwidth\":1},\"geo\":{\"bgcolor\":\"white\",\"landcolor\":\"#E5ECF6\",\"subunitcolor\":\"white\",\"showland\":true,\"showlakes\":true,\"lakecolor\":\"white\"},\"title\":{\"x\":0.05},\"mapbox\":{\"style\":\"light\"}}},\"xaxis\":{\"anchor\":\"y\",\"domain\":[0.0,1.0],\"title\":{\"text\":\"_Work Skill Count\"}},\"yaxis\":{\"anchor\":\"x\",\"domain\":[0.0,1.0],\"title\":{\"text\":\"Rarity\"}},\"coloraxis\":{\"colorbar\":{\"title\":{\"text\":\"sum of Count\"}},\"colorscale\":[[0.0,\"#440154\"],[0.1111111111111111,\"#482878\"],[0.2222222222222222,\"#3e4989\"],[0.3333333333333333,\"#31688e\"],[0.4444444444444444,\"#26828e\"],[0.5555555555555556,\"#1f9e89\"],[0.6666666666666666,\"#35b779\"],[0.7777777777777778,\"#6ece58\"],[0.8888888888888888,\"#b5de2b\"],[1.0,\"#fde725\"]]},\"legend\":{\"tracegroupgap\":0},\"title\":{\"text\":\"Rarity vs. Number of Work Suitabilities (Frequency)\"}},                        {\"responsive\": true}                    ).then(function(){\n",
       "                            \n",
       "var gd = document.getElementById('a2be91a2-8024-4212-b95a-e01f129988df');\n",
       "var x = new MutationObserver(function (mutations, observer) {{\n",
       "        var display = window.getComputedStyle(gd).display;\n",
       "        if (!display || display === 'none') {{\n",
       "            console.log([gd, 'removed!']);\n",
       "            Plotly.purge(gd);\n",
       "            observer.disconnect();\n",
       "        }}\n",
       "}});\n",
       "\n",
       "// Listen for the removal of the full notebook cells\n",
       "var notebookContainer = gd.closest('#notebook-container');\n",
       "if (notebookContainer) {{\n",
       "    x.observe(notebookContainer, {childList: true});\n",
       "}}\n",
       "\n",
       "// Listen for the clearing of the current output cell\n",
       "var outputEl = gd.closest('.output');\n",
       "if (outputEl) {{\n",
       "    x.observe(outputEl, {childList: true});\n",
       "}}\n",
       "\n",
       "                        })                };                });            </script>        </div>"
      ]
     },
     "metadata": {},
     "output_type": "display_data"
    },
    {
     "data": {
      "application/vnd.plotly.v1+json": {
       "config": {
        "plotlyServerURL": "https://plot.ly"
       },
       "data": [
        {
         "alignmentgroup": "True",
         "hovertemplate": "Element Type=Earth<br>Rarity=%{x}<br>HP=%{y}<extra></extra>",
         "legendgroup": "Earth",
         "marker": {
          "color": "#636efa"
         },
         "name": "Earth",
         "notched": false,
         "offsetgroup": "Earth",
         "orientation": "v",
         "showlegend": true,
         "type": "box",
         "x": [
          "Epic",
          "Rare",
          "Rare",
          "Rare",
          "Rare",
          "Common",
          "Rare",
          "Rare",
          "Common",
          "Epic",
          "Rare",
          "Common",
          "Common",
          "Common",
          "Epic",
          "Epic",
          "Epic",
          "Epic",
          "Epic",
          "Rare",
          "Rare",
          "Rare",
          "Rare",
          "Common",
          "Rare",
          "Common",
          "Epic",
          "Epic"
         ],
         "x0": " ",
         "xaxis": "x",
         "y": [
          120,
          130,
          100,
          95,
          80,
          100,
          105,
          95,
          65,
          120,
          90,
          70,
          80,
          75,
          105,
          150,
          150,
          100,
          100,
          90,
          110,
          110,
          90,
          80,
          90,
          85,
          120,
          120
         ],
         "y0": " ",
         "yaxis": "y"
        },
        {
         "alignmentgroup": "True",
         "hovertemplate": "Element Type=Fire<br>Rarity=%{x}<br>HP=%{y}<extra></extra>",
         "legendgroup": "Fire",
         "marker": {
          "color": "#EF553B"
         },
         "name": "Fire",
         "notched": false,
         "offsetgroup": "Fire",
         "orientation": "v",
         "showlegend": true,
         "type": "box",
         "x": [
          "Common",
          "Epic",
          "Epic",
          "Rare",
          "Epic",
          "Rare",
          "Rare",
          "Rare",
          "Epic",
          "Common",
          "Common",
          "Common",
          "Common",
          "Rare",
          "Common",
          "Common",
          "Epic",
          "Rare",
          "Common",
          "Rare",
          "Common",
          "Rare",
          "Rare",
          "Rare",
          "Common",
          "Common",
          "Rare",
          "Epic",
          "Common",
          "Epic",
          "Rare",
          "Rare"
         ],
         "x0": " ",
         "xaxis": "x",
         "y": [
          85,
          100,
          105,
          105,
          105,
          80,
          80,
          90,
          100,
          75,
          60,
          65,
          60,
          90,
          90,
          95,
          130,
          95,
          70,
          100,
          80,
          100,
          100,
          95,
          70,
          75,
          105,
          120,
          90,
          105,
          90,
          90
         ],
         "y0": " ",
         "yaxis": "y"
        },
        {
         "alignmentgroup": "True",
         "hovertemplate": "Element Type=Dragon<br>Rarity=%{x}<br>HP=%{y}<extra></extra>",
         "legendgroup": "Dragon",
         "marker": {
          "color": "#00cc96"
         },
         "name": "Dragon",
         "notched": false,
         "offsetgroup": "Dragon",
         "orientation": "v",
         "showlegend": true,
         "type": "box",
         "x": [
          "Epic",
          "Rare",
          "Epic",
          "Common",
          "Rare",
          "Rare",
          "Rare",
          "Epic",
          "Legendary",
          "Epic",
          "Epic",
          "Rare",
          "Epic",
          "Epic",
          "Epic",
          "Epic",
          "Epic",
          "Epic"
         ],
         "x0": " ",
         "xaxis": "x",
         "y": [
          100,
          110,
          115,
          90,
          110,
          110,
          110,
          115,
          110,
          130,
          100,
          105,
          105,
          110,
          110,
          120,
          110,
          130
         ],
         "y0": " ",
         "yaxis": "y"
        },
        {
         "alignmentgroup": "True",
         "hovertemplate": "Element Type=Electricity<br>Rarity=%{x}<br>HP=%{y}<extra></extra>",
         "legendgroup": "Electricity",
         "marker": {
          "color": "#ab63fa"
         },
         "name": "Electricity",
         "notched": false,
         "offsetgroup": "Electricity",
         "orientation": "v",
         "showlegend": true,
         "type": "box",
         "x": [
          "Rare",
          "Rare",
          "Common",
          "Common",
          "Common",
          "Epic",
          "Common",
          "Rare",
          "Common",
          "Rare",
          "Rare",
          "Common",
          "Rare"
         ],
         "x0": " ",
         "xaxis": "x",
         "y": [
          130,
          105,
          80,
          70,
          110,
          105,
          70,
          100,
          70,
          100,
          90,
          60,
          80
         ],
         "y0": " ",
         "yaxis": "y"
        },
        {
         "alignmentgroup": "True",
         "hovertemplate": "Element Type=Ice<br>Rarity=%{x}<br>HP=%{y}<extra></extra>",
         "legendgroup": "Ice",
         "marker": {
          "color": "#FFA15A"
         },
         "name": "Ice",
         "notched": false,
         "offsetgroup": "Ice",
         "orientation": "v",
         "showlegend": true,
         "type": "box",
         "x": [
          "Epic",
          "Rare",
          "Rare",
          "Common",
          "Legendary",
          "Common",
          "Common",
          "Common",
          "Common",
          "Epic",
          "Common",
          "Common",
          "Common",
          "Rare",
          "Common",
          "Rare",
          "Rare"
         ],
         "x0": " ",
         "xaxis": "x",
         "y": [
          140,
          100,
          90,
          65,
          140,
          110,
          80,
          95,
          70,
          120,
          80,
          70,
          100,
          110,
          60,
          100,
          140
         ],
         "y0": " ",
         "yaxis": "y"
        },
        {
         "alignmentgroup": "True",
         "hovertemplate": "Element Type=Leaf<br>Rarity=%{x}<br>HP=%{y}<extra></extra>",
         "legendgroup": "Leaf",
         "marker": {
          "color": "#19d3f3"
         },
         "name": "Leaf",
         "notched": false,
         "offsetgroup": "Leaf",
         "orientation": "v",
         "showlegend": true,
         "type": "box",
         "x": [
          "Common",
          "Common",
          "Rare",
          "Common",
          "Common",
          "Epic",
          "Common",
          "Common",
          "Common",
          "Common",
          "Common",
          "Epic",
          "Rare",
          "Common",
          "Epic",
          "Common",
          "Rare",
          "Common",
          "Common",
          "Epic",
          "Epic",
          "Epic"
         ],
         "x0": " ",
         "xaxis": "x",
         "y": [
          80,
          80,
          120,
          100,
          70,
          90,
          75,
          65,
          80,
          75,
          90,
          110,
          100,
          105,
          100,
          80,
          90,
          110,
          80,
          100,
          90,
          140
         ],
         "y0": " ",
         "yaxis": "y"
        },
        {
         "alignmentgroup": "True",
         "hovertemplate": "Element Type=Dark<br>Rarity=%{x}<br>HP=%{y}<extra></extra>",
         "legendgroup": "Dark",
         "marker": {
          "color": "#FF6692"
         },
         "name": "Dark",
         "notched": false,
         "offsetgroup": "Dark",
         "orientation": "v",
         "showlegend": true,
         "type": "box",
         "x": [
          "Legendary",
          "Legendary",
          "Common",
          "Common",
          "Rare",
          "Common",
          "Common",
          "Common",
          "Common",
          "Rare",
          "Rare",
          "Legendary",
          "Rare",
          "Rare",
          "Rare",
          "Epic",
          "Common",
          "Rare",
          "Common",
          "Rare",
          "Common",
          "Rare",
          "Common",
          "Common",
          "Epic",
          "Rare",
          "Common",
          "Legendary",
          "Rare",
          "Rare",
          "Common",
          "Common",
          "Rare",
          "Common",
          "Epic",
          "Epic",
          "Rare",
          "Common",
          "Common",
          "Rare",
          "Common",
          "Rare",
          "Rare",
          "Rare"
         ],
         "x0": " ",
         "xaxis": "x",
         "y": [
          120,
          120,
          100,
          75,
          85,
          70,
          70,
          105,
          70,
          110,
          100,
          140,
          90,
          70,
          100,
          105,
          70,
          95,
          90,
          90,
          60,
          100,
          80,
          80,
          110,
          75,
          70,
          130,
          105,
          75,
          110,
          95,
          105,
          75,
          130,
          120,
          110,
          85,
          95,
          110,
          110,
          95,
          90,
          90
         ],
         "y0": " ",
         "yaxis": "y"
        },
        {
         "alignmentgroup": "True",
         "hovertemplate": "Element Type=Water<br>Rarity=%{x}<br>HP=%{y}<extra></extra>",
         "legendgroup": "Water",
         "marker": {
          "color": "#B6E880"
         },
         "name": "Water",
         "notched": false,
         "offsetgroup": "Water",
         "orientation": "v",
         "showlegend": true,
         "type": "box",
         "x": [
          "Common",
          "Epic",
          "Common",
          "Common",
          "Epic",
          "Common",
          "Common",
          "Common",
          "Common",
          "Common",
          "Common",
          "Common",
          "Legendary",
          "Common",
          "Rare",
          "Rare",
          "Common",
          "Epic",
          "Common",
          "Common",
          "Rare"
         ],
         "x0": " ",
         "xaxis": "x",
         "y": [
          70,
          120,
          80,
          80,
          100,
          75,
          60,
          90,
          75,
          70,
          70,
          75,
          105,
          70,
          95,
          95,
          90,
          125,
          70,
          75,
          105
         ],
         "y0": " ",
         "yaxis": "y"
        },
        {
         "alignmentgroup": "True",
         "hovertemplate": "Element Type=Normal<br>Rarity=%{x}<br>HP=%{y}<extra></extra>",
         "legendgroup": "Normal",
         "marker": {
          "color": "#FF97FF"
         },
         "name": "Normal",
         "notched": false,
         "offsetgroup": "Normal",
         "orientation": "v",
         "showlegend": true,
         "type": "box",
         "x": [
          "Common",
          "Common",
          "Rare",
          "Common",
          "Common",
          "Common",
          "Rare",
          "Common",
          "Common",
          "Common",
          "Common",
          "Rare",
          "Rare",
          "Common",
          "Common",
          "Epic",
          "Common",
          "Rare",
          "Rare",
          "Common",
          "Rare",
          "Common",
          "Common",
          "Legendary",
          "Common",
          "Common",
          "Common",
          "Common",
          "Common",
          "Common"
         ],
         "x0": " ",
         "xaxis": "x",
         "y": [
          70,
          65,
          120,
          60,
          70,
          80,
          90,
          95,
          95,
          110,
          75,
          90,
          110,
          80,
          80,
          120,
          70,
          120,
          90,
          90,
          60,
          90,
          100,
          130,
          105,
          75,
          60,
          70,
          70,
          85
         ],
         "y0": " ",
         "yaxis": "y"
        }
       ],
       "layout": {
        "autosize": true,
        "boxmode": "group",
        "legend": {
         "title": {
          "text": "Element Type"
         },
         "tracegroupgap": 0
        },
        "template": {
         "data": {
          "bar": [
           {
            "error_x": {
             "color": "#2a3f5f"
            },
            "error_y": {
             "color": "#2a3f5f"
            },
            "marker": {
             "line": {
              "color": "#E5ECF6",
              "width": 0.5
             },
             "pattern": {
              "fillmode": "overlay",
              "size": 10,
              "solidity": 0.2
             }
            },
            "type": "bar"
           }
          ],
          "barpolar": [
           {
            "marker": {
             "line": {
              "color": "#E5ECF6",
              "width": 0.5
             },
             "pattern": {
              "fillmode": "overlay",
              "size": 10,
              "solidity": 0.2
             }
            },
            "type": "barpolar"
           }
          ],
          "carpet": [
           {
            "aaxis": {
             "endlinecolor": "#2a3f5f",
             "gridcolor": "white",
             "linecolor": "white",
             "minorgridcolor": "white",
             "startlinecolor": "#2a3f5f"
            },
            "baxis": {
             "endlinecolor": "#2a3f5f",
             "gridcolor": "white",
             "linecolor": "white",
             "minorgridcolor": "white",
             "startlinecolor": "#2a3f5f"
            },
            "type": "carpet"
           }
          ],
          "choropleth": [
           {
            "colorbar": {
             "outlinewidth": 0,
             "ticks": ""
            },
            "type": "choropleth"
           }
          ],
          "contour": [
           {
            "colorbar": {
             "outlinewidth": 0,
             "ticks": ""
            },
            "colorscale": [
             [
              0,
              "#0d0887"
             ],
             [
              0.1111111111111111,
              "#46039f"
             ],
             [
              0.2222222222222222,
              "#7201a8"
             ],
             [
              0.3333333333333333,
              "#9c179e"
             ],
             [
              0.4444444444444444,
              "#bd3786"
             ],
             [
              0.5555555555555556,
              "#d8576b"
             ],
             [
              0.6666666666666666,
              "#ed7953"
             ],
             [
              0.7777777777777778,
              "#fb9f3a"
             ],
             [
              0.8888888888888888,
              "#fdca26"
             ],
             [
              1,
              "#f0f921"
             ]
            ],
            "type": "contour"
           }
          ],
          "contourcarpet": [
           {
            "colorbar": {
             "outlinewidth": 0,
             "ticks": ""
            },
            "type": "contourcarpet"
           }
          ],
          "heatmap": [
           {
            "colorbar": {
             "outlinewidth": 0,
             "ticks": ""
            },
            "colorscale": [
             [
              0,
              "#0d0887"
             ],
             [
              0.1111111111111111,
              "#46039f"
             ],
             [
              0.2222222222222222,
              "#7201a8"
             ],
             [
              0.3333333333333333,
              "#9c179e"
             ],
             [
              0.4444444444444444,
              "#bd3786"
             ],
             [
              0.5555555555555556,
              "#d8576b"
             ],
             [
              0.6666666666666666,
              "#ed7953"
             ],
             [
              0.7777777777777778,
              "#fb9f3a"
             ],
             [
              0.8888888888888888,
              "#fdca26"
             ],
             [
              1,
              "#f0f921"
             ]
            ],
            "type": "heatmap"
           }
          ],
          "heatmapgl": [
           {
            "colorbar": {
             "outlinewidth": 0,
             "ticks": ""
            },
            "colorscale": [
             [
              0,
              "#0d0887"
             ],
             [
              0.1111111111111111,
              "#46039f"
             ],
             [
              0.2222222222222222,
              "#7201a8"
             ],
             [
              0.3333333333333333,
              "#9c179e"
             ],
             [
              0.4444444444444444,
              "#bd3786"
             ],
             [
              0.5555555555555556,
              "#d8576b"
             ],
             [
              0.6666666666666666,
              "#ed7953"
             ],
             [
              0.7777777777777778,
              "#fb9f3a"
             ],
             [
              0.8888888888888888,
              "#fdca26"
             ],
             [
              1,
              "#f0f921"
             ]
            ],
            "type": "heatmapgl"
           }
          ],
          "histogram": [
           {
            "marker": {
             "pattern": {
              "fillmode": "overlay",
              "size": 10,
              "solidity": 0.2
             }
            },
            "type": "histogram"
           }
          ],
          "histogram2d": [
           {
            "colorbar": {
             "outlinewidth": 0,
             "ticks": ""
            },
            "colorscale": [
             [
              0,
              "#0d0887"
             ],
             [
              0.1111111111111111,
              "#46039f"
             ],
             [
              0.2222222222222222,
              "#7201a8"
             ],
             [
              0.3333333333333333,
              "#9c179e"
             ],
             [
              0.4444444444444444,
              "#bd3786"
             ],
             [
              0.5555555555555556,
              "#d8576b"
             ],
             [
              0.6666666666666666,
              "#ed7953"
             ],
             [
              0.7777777777777778,
              "#fb9f3a"
             ],
             [
              0.8888888888888888,
              "#fdca26"
             ],
             [
              1,
              "#f0f921"
             ]
            ],
            "type": "histogram2d"
           }
          ],
          "histogram2dcontour": [
           {
            "colorbar": {
             "outlinewidth": 0,
             "ticks": ""
            },
            "colorscale": [
             [
              0,
              "#0d0887"
             ],
             [
              0.1111111111111111,
              "#46039f"
             ],
             [
              0.2222222222222222,
              "#7201a8"
             ],
             [
              0.3333333333333333,
              "#9c179e"
             ],
             [
              0.4444444444444444,
              "#bd3786"
             ],
             [
              0.5555555555555556,
              "#d8576b"
             ],
             [
              0.6666666666666666,
              "#ed7953"
             ],
             [
              0.7777777777777778,
              "#fb9f3a"
             ],
             [
              0.8888888888888888,
              "#fdca26"
             ],
             [
              1,
              "#f0f921"
             ]
            ],
            "type": "histogram2dcontour"
           }
          ],
          "mesh3d": [
           {
            "colorbar": {
             "outlinewidth": 0,
             "ticks": ""
            },
            "type": "mesh3d"
           }
          ],
          "parcoords": [
           {
            "line": {
             "colorbar": {
              "outlinewidth": 0,
              "ticks": ""
             }
            },
            "type": "parcoords"
           }
          ],
          "pie": [
           {
            "automargin": true,
            "type": "pie"
           }
          ],
          "scatter": [
           {
            "fillpattern": {
             "fillmode": "overlay",
             "size": 10,
             "solidity": 0.2
            },
            "type": "scatter"
           }
          ],
          "scatter3d": [
           {
            "line": {
             "colorbar": {
              "outlinewidth": 0,
              "ticks": ""
             }
            },
            "marker": {
             "colorbar": {
              "outlinewidth": 0,
              "ticks": ""
             }
            },
            "type": "scatter3d"
           }
          ],
          "scattercarpet": [
           {
            "marker": {
             "colorbar": {
              "outlinewidth": 0,
              "ticks": ""
             }
            },
            "type": "scattercarpet"
           }
          ],
          "scattergeo": [
           {
            "marker": {
             "colorbar": {
              "outlinewidth": 0,
              "ticks": ""
             }
            },
            "type": "scattergeo"
           }
          ],
          "scattergl": [
           {
            "marker": {
             "colorbar": {
              "outlinewidth": 0,
              "ticks": ""
             }
            },
            "type": "scattergl"
           }
          ],
          "scattermapbox": [
           {
            "marker": {
             "colorbar": {
              "outlinewidth": 0,
              "ticks": ""
             }
            },
            "type": "scattermapbox"
           }
          ],
          "scatterpolar": [
           {
            "marker": {
             "colorbar": {
              "outlinewidth": 0,
              "ticks": ""
             }
            },
            "type": "scatterpolar"
           }
          ],
          "scatterpolargl": [
           {
            "marker": {
             "colorbar": {
              "outlinewidth": 0,
              "ticks": ""
             }
            },
            "type": "scatterpolargl"
           }
          ],
          "scatterternary": [
           {
            "marker": {
             "colorbar": {
              "outlinewidth": 0,
              "ticks": ""
             }
            },
            "type": "scatterternary"
           }
          ],
          "surface": [
           {
            "colorbar": {
             "outlinewidth": 0,
             "ticks": ""
            },
            "colorscale": [
             [
              0,
              "#0d0887"
             ],
             [
              0.1111111111111111,
              "#46039f"
             ],
             [
              0.2222222222222222,
              "#7201a8"
             ],
             [
              0.3333333333333333,
              "#9c179e"
             ],
             [
              0.4444444444444444,
              "#bd3786"
             ],
             [
              0.5555555555555556,
              "#d8576b"
             ],
             [
              0.6666666666666666,
              "#ed7953"
             ],
             [
              0.7777777777777778,
              "#fb9f3a"
             ],
             [
              0.8888888888888888,
              "#fdca26"
             ],
             [
              1,
              "#f0f921"
             ]
            ],
            "type": "surface"
           }
          ],
          "table": [
           {
            "cells": {
             "fill": {
              "color": "#EBF0F8"
             },
             "line": {
              "color": "white"
             }
            },
            "header": {
             "fill": {
              "color": "#C8D4E3"
             },
             "line": {
              "color": "white"
             }
            },
            "type": "table"
           }
          ]
         },
         "layout": {
          "annotationdefaults": {
           "arrowcolor": "#2a3f5f",
           "arrowhead": 0,
           "arrowwidth": 1
          },
          "autotypenumbers": "strict",
          "coloraxis": {
           "colorbar": {
            "outlinewidth": 0,
            "ticks": ""
           }
          },
          "colorscale": {
           "diverging": [
            [
             0,
             "#8e0152"
            ],
            [
             0.1,
             "#c51b7d"
            ],
            [
             0.2,
             "#de77ae"
            ],
            [
             0.3,
             "#f1b6da"
            ],
            [
             0.4,
             "#fde0ef"
            ],
            [
             0.5,
             "#f7f7f7"
            ],
            [
             0.6,
             "#e6f5d0"
            ],
            [
             0.7,
             "#b8e186"
            ],
            [
             0.8,
             "#7fbc41"
            ],
            [
             0.9,
             "#4d9221"
            ],
            [
             1,
             "#276419"
            ]
           ],
           "sequential": [
            [
             0,
             "#0d0887"
            ],
            [
             0.1111111111111111,
             "#46039f"
            ],
            [
             0.2222222222222222,
             "#7201a8"
            ],
            [
             0.3333333333333333,
             "#9c179e"
            ],
            [
             0.4444444444444444,
             "#bd3786"
            ],
            [
             0.5555555555555556,
             "#d8576b"
            ],
            [
             0.6666666666666666,
             "#ed7953"
            ],
            [
             0.7777777777777778,
             "#fb9f3a"
            ],
            [
             0.8888888888888888,
             "#fdca26"
            ],
            [
             1,
             "#f0f921"
            ]
           ],
           "sequentialminus": [
            [
             0,
             "#0d0887"
            ],
            [
             0.1111111111111111,
             "#46039f"
            ],
            [
             0.2222222222222222,
             "#7201a8"
            ],
            [
             0.3333333333333333,
             "#9c179e"
            ],
            [
             0.4444444444444444,
             "#bd3786"
            ],
            [
             0.5555555555555556,
             "#d8576b"
            ],
            [
             0.6666666666666666,
             "#ed7953"
            ],
            [
             0.7777777777777778,
             "#fb9f3a"
            ],
            [
             0.8888888888888888,
             "#fdca26"
            ],
            [
             1,
             "#f0f921"
            ]
           ]
          },
          "colorway": [
           "#636efa",
           "#EF553B",
           "#00cc96",
           "#ab63fa",
           "#FFA15A",
           "#19d3f3",
           "#FF6692",
           "#B6E880",
           "#FF97FF",
           "#FECB52"
          ],
          "font": {
           "color": "#2a3f5f"
          },
          "geo": {
           "bgcolor": "white",
           "lakecolor": "white",
           "landcolor": "#E5ECF6",
           "showlakes": true,
           "showland": true,
           "subunitcolor": "white"
          },
          "hoverlabel": {
           "align": "left"
          },
          "hovermode": "closest",
          "mapbox": {
           "style": "light"
          },
          "paper_bgcolor": "white",
          "plot_bgcolor": "#E5ECF6",
          "polar": {
           "angularaxis": {
            "gridcolor": "white",
            "linecolor": "white",
            "ticks": ""
           },
           "bgcolor": "#E5ECF6",
           "radialaxis": {
            "gridcolor": "white",
            "linecolor": "white",
            "ticks": ""
           }
          },
          "scene": {
           "xaxis": {
            "backgroundcolor": "#E5ECF6",
            "gridcolor": "white",
            "gridwidth": 2,
            "linecolor": "white",
            "showbackground": true,
            "ticks": "",
            "zerolinecolor": "white"
           },
           "yaxis": {
            "backgroundcolor": "#E5ECF6",
            "gridcolor": "white",
            "gridwidth": 2,
            "linecolor": "white",
            "showbackground": true,
            "ticks": "",
            "zerolinecolor": "white"
           },
           "zaxis": {
            "backgroundcolor": "#E5ECF6",
            "gridcolor": "white",
            "gridwidth": 2,
            "linecolor": "white",
            "showbackground": true,
            "ticks": "",
            "zerolinecolor": "white"
           }
          },
          "shapedefaults": {
           "line": {
            "color": "#2a3f5f"
           }
          },
          "ternary": {
           "aaxis": {
            "gridcolor": "white",
            "linecolor": "white",
            "ticks": ""
           },
           "baxis": {
            "gridcolor": "white",
            "linecolor": "white",
            "ticks": ""
           },
           "bgcolor": "#E5ECF6",
           "caxis": {
            "gridcolor": "white",
            "linecolor": "white",
            "ticks": ""
           }
          },
          "title": {
           "x": 0.05
          },
          "xaxis": {
           "automargin": true,
           "gridcolor": "white",
           "linecolor": "white",
           "ticks": "",
           "title": {
            "standoff": 15
           },
           "zerolinecolor": "white",
           "zerolinewidth": 2
          },
          "yaxis": {
           "automargin": true,
           "gridcolor": "white",
           "linecolor": "white",
           "ticks": "",
           "title": {
            "standoff": 15
           },
           "zerolinecolor": "white",
           "zerolinewidth": 2
          }
         }
        },
        "title": {
         "text": "HP Distribution by Rarity"
        },
        "xaxis": {
         "anchor": "y",
         "autorange": true,
         "domain": [
          0,
          1
         ],
         "range": [
          -0.513590033975085,
          3.5135900339750847
         ],
         "title": {
          "text": "Rarity"
         },
         "type": "category"
        },
        "yaxis": {
         "anchor": "x",
         "autorange": true,
         "domain": [
          0,
          1
         ],
         "range": [
          55,
          155
         ],
         "title": {
          "text": "HP"
         },
         "type": "linear"
        }
       }
      },
      "image/png": "[encoded data removed]",
      "text/html": [
       "<div>                            <div id=\"f37361f8-69be-4e14-af63-123c6b52f001\" class=\"plotly-graph-div\" style=\"height:525px; width:100%;\"></div>            <script type=\"text/javascript\">                require([\"plotly\"], function(Plotly) {                    window.PLOTLYENV=window.PLOTLYENV || {};                                    if (document.getElementById(\"f37361f8-69be-4e14-af63-123c6b52f001\")) {                    Plotly.newPlot(                        \"f37361f8-69be-4e14-af63-123c6b52f001\",                        [{\"alignmentgroup\":\"True\",\"hovertemplate\":\"Element Type=Earth\\u003cbr\\u003eRarity=%{x}\\u003cbr\\u003eHP=%{y}\\u003cextra\\u003e\\u003c\\u002fextra\\u003e\",\"legendgroup\":\"Earth\",\"marker\":{\"color\":\"#636efa\"},\"name\":\"Earth\",\"notched\":false,\"offsetgroup\":\"Earth\",\"orientation\":\"v\",\"showlegend\":true,\"x\":[\"Epic\",\"Rare\",\"Rare\",\"Rare\",\"Rare\",\"Common\",\"Rare\",\"Rare\",\"Common\",\"Epic\",\"Rare\",\"Common\",\"Common\",\"Common\",\"Epic\",\"Epic\",\"Epic\",\"Epic\",\"Epic\",\"Rare\",\"Rare\",\"Rare\",\"Rare\",\"Common\",\"Rare\",\"Common\",\"Epic\",\"Epic\"],\"x0\":\" \",\"xaxis\":\"x\",\"y\":[120.0,130.0,100.0,95.0,80.0,100.0,105.0,95.0,65.0,120.0,90.0,70.0,80.0,75.0,105.0,150.0,150.0,100.0,100.0,90.0,110.0,110.0,90.0,80.0,90.0,85.0,120.0,120.0],\"y0\":\" \",\"yaxis\":\"y\",\"type\":\"box\"},{\"alignmentgroup\":\"True\",\"hovertemplate\":\"Element Type=Fire\\u003cbr\\u003eRarity=%{x}\\u003cbr\\u003eHP=%{y}\\u003cextra\\u003e\\u003c\\u002fextra\\u003e\",\"legendgroup\":\"Fire\",\"marker\":{\"color\":\"#EF553B\"},\"name\":\"Fire\",\"notched\":false,\"offsetgroup\":\"Fire\",\"orientation\":\"v\",\"showlegend\":true,\"x\":[\"Common\",\"Epic\",\"Epic\",\"Rare\",\"Epic\",\"Rare\",\"Rare\",\"Rare\",\"Epic\",\"Common\",\"Common\",\"Common\",\"Common\",\"Rare\",\"Common\",\"Common\",\"Epic\",\"Rare\",\"Common\",\"Rare\",\"Common\",\"Rare\",\"Rare\",\"Rare\",\"Common\",\"Common\",\"Rare\",\"Epic\",\"Common\",\"Epic\",\"Rare\",\"Rare\"],\"x0\":\" \",\"xaxis\":\"x\",\"y\":[85.0,100.0,105.0,105.0,105.0,80.0,80.0,90.0,100.0,75.0,60.0,65.0,60.0,90.0,90.0,95.0,130.0,95.0,70.0,100.0,80.0,100.0,100.0,95.0,70.0,75.0,105.0,120.0,90.0,105.0,90.0,90.0],\"y0\":\" \",\"yaxis\":\"y\",\"type\":\"box\"},{\"alignmentgroup\":\"True\",\"hovertemplate\":\"Element Type=Dragon\\u003cbr\\u003eRarity=%{x}\\u003cbr\\u003eHP=%{y}\\u003cextra\\u003e\\u003c\\u002fextra\\u003e\",\"legendgroup\":\"Dragon\",\"marker\":{\"color\":\"#00cc96\"},\"name\":\"Dragon\",\"notched\":false,\"offsetgroup\":\"Dragon\",\"orientation\":\"v\",\"showlegend\":true,\"x\":[\"Epic\",\"Rare\",\"Epic\",\"Common\",\"Rare\",\"Rare\",\"Rare\",\"Epic\",\"Legendary\",\"Epic\",\"Epic\",\"Rare\",\"Epic\",\"Epic\",\"Epic\",\"Epic\",\"Epic\",\"Epic\"],\"x0\":\" \",\"xaxis\":\"x\",\"y\":[100.0,110.0,115.0,90.0,110.0,110.0,110.0,115.0,110.0,130.0,100.0,105.0,105.0,110.0,110.0,120.0,110.0,130.0],\"y0\":\" \",\"yaxis\":\"y\",\"type\":\"box\"},{\"alignmentgroup\":\"True\",\"hovertemplate\":\"Element Type=Electricity\\u003cbr\\u003eRarity=%{x}\\u003cbr\\u003eHP=%{y}\\u003cextra\\u003e\\u003c\\u002fextra\\u003e\",\"legendgroup\":\"Electricity\",\"marker\":{\"color\":\"#ab63fa\"},\"name\":\"Electricity\",\"notched\":false,\"offsetgroup\":\"Electricity\",\"orientation\":\"v\",\"showlegend\":true,\"x\":[\"Rare\",\"Rare\",\"Common\",\"Common\",\"Common\",\"Epic\",\"Common\",\"Rare\",\"Common\",\"Rare\",\"Rare\",\"Common\",\"Rare\"],\"x0\":\" \",\"xaxis\":\"x\",\"y\":[130.0,105.0,80.0,70.0,110.0,105.0,70.0,100.0,70.0,100.0,90.0,60.0,80.0],\"y0\":\" \",\"yaxis\":\"y\",\"type\":\"box\"},{\"alignmentgroup\":\"True\",\"hovertemplate\":\"Element Type=Ice\\u003cbr\\u003eRarity=%{x}\\u003cbr\\u003eHP=%{y}\\u003cextra\\u003e\\u003c\\u002fextra\\u003e\",\"legendgroup\":\"Ice\",\"marker\":{\"color\":\"#FFA15A\"},\"name\":\"Ice\",\"notched\":false,\"offsetgroup\":\"Ice\",\"orientation\":\"v\",\"showlegend\":true,\"x\":[\"Epic\",\"Rare\",\"Rare\",\"Common\",\"Legendary\",\"Common\",\"Common\",\"Common\",\"Common\",\"Epic\",\"Common\",\"Common\",\"Common\",\"Rare\",\"Common\",\"Rare\",\"Rare\"],\"x0\":\" \",\"xaxis\":\"x\",\"y\":[140.0,100.0,90.0,65.0,140.0,110.0,80.0,95.0,70.0,120.0,80.0,70.0,100.0,110.0,60.0,100.0,140.0],\"y0\":\" \",\"yaxis\":\"y\",\"type\":\"box\"},{\"alignmentgroup\":\"True\",\"hovertemplate\":\"Element Type=Leaf\\u003cbr\\u003eRarity=%{x}\\u003cbr\\u003eHP=%{y}\\u003cextra\\u003e\\u003c\\u002fextra\\u003e\",\"legendgroup\":\"Leaf\",\"marker\":{\"color\":\"#19d3f3\"},\"name\":\"Leaf\",\"notched\":false,\"offsetgroup\":\"Leaf\",\"orientation\":\"v\",\"showlegend\":true,\"x\":[\"Common\",\"Common\",\"Rare\",\"Common\",\"Common\",\"Epic\",\"Common\",\"Common\",\"Common\",\"Common\",\"Common\",\"Epic\",\"Rare\",\"Common\",\"Epic\",\"Common\",\"Rare\",\"Common\",\"Common\",\"Epic\",\"Epic\",\"Epic\"],\"x0\":\" \",\"xaxis\":\"x\",\"y\":[80.0,80.0,120.0,100.0,70.0,90.0,75.0,65.0,80.0,75.0,90.0,110.0,100.0,105.0,100.0,80.0,90.0,110.0,80.0,100.0,90.0,140.0],\"y0\":\" \",\"yaxis\":\"y\",\"type\":\"box\"},{\"alignmentgroup\":\"True\",\"hovertemplate\":\"Element Type=Dark\\u003cbr\\u003eRarity=%{x}\\u003cbr\\u003eHP=%{y}\\u003cextra\\u003e\\u003c\\u002fextra\\u003e\",\"legendgroup\":\"Dark\",\"marker\":{\"color\":\"#FF6692\"},\"name\":\"Dark\",\"notched\":false,\"offsetgroup\":\"Dark\",\"orientation\":\"v\",\"showlegend\":true,\"x\":[\"Legendary\",\"Legendary\",\"Common\",\"Common\",\"Rare\",\"Common\",\"Common\",\"Common\",\"Common\",\"Rare\",\"Rare\",\"Legendary\",\"Rare\",\"Rare\",\"Rare\",\"Epic\",\"Common\",\"Rare\",\"Common\",\"Rare\",\"Common\",\"Rare\",\"Common\",\"Common\",\"Epic\",\"Rare\",\"Common\",\"Legendary\",\"Rare\",\"Rare\",\"Common\",\"Common\",\"Rare\",\"Common\",\"Epic\",\"Epic\",\"Rare\",\"Common\",\"Common\",\"Rare\",\"Common\",\"Rare\",\"Rare\",\"Rare\"],\"x0\":\" \",\"xaxis\":\"x\",\"y\":[120.0,120.0,100.0,75.0,85.0,70.0,70.0,105.0,70.0,110.0,100.0,140.0,90.0,70.0,100.0,105.0,70.0,95.0,90.0,90.0,60.0,100.0,80.0,80.0,110.0,75.0,70.0,130.0,105.0,75.0,110.0,95.0,105.0,75.0,130.0,120.0,110.0,85.0,95.0,110.0,110.0,95.0,90.0,90.0],\"y0\":\" \",\"yaxis\":\"y\",\"type\":\"box\"},{\"alignmentgroup\":\"True\",\"hovertemplate\":\"Element Type=Water\\u003cbr\\u003eRarity=%{x}\\u003cbr\\u003eHP=%{y}\\u003cextra\\u003e\\u003c\\u002fextra\\u003e\",\"legendgroup\":\"Water\",\"marker\":{\"color\":\"#B6E880\"},\"name\":\"Water\",\"notched\":false,\"offsetgroup\":\"Water\",\"orientation\":\"v\",\"showlegend\":true,\"x\":[\"Common\",\"Epic\",\"Common\",\"Common\",\"Epic\",\"Common\",\"Common\",\"Common\",\"Common\",\"Common\",\"Common\",\"Common\",\"Legendary\",\"Common\",\"Rare\",\"Rare\",\"Common\",\"Epic\",\"Common\",\"Common\",\"Rare\"],\"x0\":\" \",\"xaxis\":\"x\",\"y\":[70.0,120.0,80.0,80.0,100.0,75.0,60.0,90.0,75.0,70.0,70.0,75.0,105.0,70.0,95.0,95.0,90.0,125.0,70.0,75.0,105.0],\"y0\":\" \",\"yaxis\":\"y\",\"type\":\"box\"},{\"alignmentgroup\":\"True\",\"hovertemplate\":\"Element Type=Normal\\u003cbr\\u003eRarity=%{x}\\u003cbr\\u003eHP=%{y}\\u003cextra\\u003e\\u003c\\u002fextra\\u003e\",\"legendgroup\":\"Normal\",\"marker\":{\"color\":\"#FF97FF\"},\"name\":\"Normal\",\"notched\":false,\"offsetgroup\":\"Normal\",\"orientation\":\"v\",\"showlegend\":true,\"x\":[\"Common\",\"Common\",\"Rare\",\"Common\",\"Common\",\"Common\",\"Rare\",\"Common\",\"Common\",\"Common\",\"Common\",\"Rare\",\"Rare\",\"Common\",\"Common\",\"Epic\",\"Common\",\"Rare\",\"Rare\",\"Common\",\"Rare\",\"Common\",\"Common\",\"Legendary\",\"Common\",\"Common\",\"Common\",\"Common\",\"Common\",\"Common\"],\"x0\":\" \",\"xaxis\":\"x\",\"y\":[70.0,65.0,120.0,60.0,70.0,80.0,90.0,95.0,95.0,110.0,75.0,90.0,110.0,80.0,80.0,120.0,70.0,120.0,90.0,90.0,60.0,90.0,100.0,130.0,105.0,75.0,60.0,70.0,70.0,85.0],\"y0\":\" \",\"yaxis\":\"y\",\"type\":\"box\"}],                        {\"template\":{\"data\":{\"histogram2dcontour\":[{\"type\":\"histogram2dcontour\",\"colorbar\":{\"outlinewidth\":0,\"ticks\":\"\"},\"colorscale\":[[0.0,\"#0d0887\"],[0.1111111111111111,\"#46039f\"],[0.2222222222222222,\"#7201a8\"],[0.3333333333333333,\"#9c179e\"],[0.4444444444444444,\"#bd3786\"],[0.5555555555555556,\"#d8576b\"],[0.6666666666666666,\"#ed7953\"],[0.7777777777777778,\"#fb9f3a\"],[0.8888888888888888,\"#fdca26\"],[1.0,\"#f0f921\"]]}],\"choropleth\":[{\"type\":\"choropleth\",\"colorbar\":{\"outlinewidth\":0,\"ticks\":\"\"}}],\"histogram2d\":[{\"type\":\"histogram2d\",\"colorbar\":{\"outlinewidth\":0,\"ticks\":\"\"},\"colorscale\":[[0.0,\"#0d0887\"],[0.1111111111111111,\"#46039f\"],[0.2222222222222222,\"#7201a8\"],[0.3333333333333333,\"#9c179e\"],[0.4444444444444444,\"#bd3786\"],[0.5555555555555556,\"#d8576b\"],[0.6666666666666666,\"#ed7953\"],[0.7777777777777778,\"#fb9f3a\"],[0.8888888888888888,\"#fdca26\"],[1.0,\"#f0f921\"]]}],\"heatmap\":[{\"type\":\"heatmap\",\"colorbar\":{\"outlinewidth\":0,\"ticks\":\"\"},\"colorscale\":[[0.0,\"#0d0887\"],[0.1111111111111111,\"#46039f\"],[0.2222222222222222,\"#7201a8\"],[0.3333333333333333,\"#9c179e\"],[0.4444444444444444,\"#bd3786\"],[0.5555555555555556,\"#d8576b\"],[0.6666666666666666,\"#ed7953\"],[0.7777777777777778,\"#fb9f3a\"],[0.8888888888888888,\"#fdca26\"],[1.0,\"#f0f921\"]]}],\"heatmapgl\":[{\"type\":\"heatmapgl\",\"colorbar\":{\"outlinewidth\":0,\"ticks\":\"\"},\"colorscale\":[[0.0,\"#0d0887\"],[0.1111111111111111,\"#46039f\"],[0.2222222222222222,\"#7201a8\"],[0.3333333333333333,\"#9c179e\"],[0.4444444444444444,\"#bd3786\"],[0.5555555555555556,\"#d8576b\"],[0.6666666666666666,\"#ed7953\"],[0.7777777777777778,\"#fb9f3a\"],[0.8888888888888888,\"#fdca26\"],[1.0,\"#f0f921\"]]}],\"contourcarpet\":[{\"type\":\"contourcarpet\",\"colorbar\":{\"outlinewidth\":0,\"ticks\":\"\"}}],\"contour\":[{\"type\":\"contour\",\"colorbar\":{\"outlinewidth\":0,\"ticks\":\"\"},\"colorscale\":[[0.0,\"#0d0887\"],[0.1111111111111111,\"#46039f\"],[0.2222222222222222,\"#7201a8\"],[0.3333333333333333,\"#9c179e\"],[0.4444444444444444,\"#bd3786\"],[0.5555555555555556,\"#d8576b\"],[0.6666666666666666,\"#ed7953\"],[0.7777777777777778,\"#fb9f3a\"],[0.8888888888888888,\"#fdca26\"],[1.0,\"#f0f921\"]]}],\"surface\":[{\"type\":\"surface\",\"colorbar\":{\"outlinewidth\":0,\"ticks\":\"\"},\"colorscale\":[[0.0,\"#0d0887\"],[0.1111111111111111,\"#46039f\"],[0.2222222222222222,\"#7201a8\"],[0.3333333333333333,\"#9c179e\"],[0.4444444444444444,\"#bd3786\"],[0.5555555555555556,\"#d8576b\"],[0.6666666666666666,\"#ed7953\"],[0.7777777777777778,\"#fb9f3a\"],[0.8888888888888888,\"#fdca26\"],[1.0,\"#f0f921\"]]}],\"mesh3d\":[{\"type\":\"mesh3d\",\"colorbar\":{\"outlinewidth\":0,\"ticks\":\"\"}}],\"scatter\":[{\"fillpattern\":{\"fillmode\":\"overlay\",\"size\":10,\"solidity\":0.2},\"type\":\"scatter\"}],\"parcoords\":[{\"type\":\"parcoords\",\"line\":{\"colorbar\":{\"outlinewidth\":0,\"ticks\":\"\"}}}],\"scatterpolargl\":[{\"type\":\"scatterpolargl\",\"marker\":{\"colorbar\":{\"outlinewidth\":0,\"ticks\":\"\"}}}],\"bar\":[{\"error_x\":{\"color\":\"#2a3f5f\"},\"error_y\":{\"color\":\"#2a3f5f\"},\"marker\":{\"line\":{\"color\":\"#E5ECF6\",\"width\":0.5},\"pattern\":{\"fillmode\":\"overlay\",\"size\":10,\"solidity\":0.2}},\"type\":\"bar\"}],\"scattergeo\":[{\"type\":\"scattergeo\",\"marker\":{\"colorbar\":{\"outlinewidth\":0,\"ticks\":\"\"}}}],\"scatterpolar\":[{\"type\":\"scatterpolar\",\"marker\":{\"colorbar\":{\"outlinewidth\":0,\"ticks\":\"\"}}}],\"histogram\":[{\"marker\":{\"pattern\":{\"fillmode\":\"overlay\",\"size\":10,\"solidity\":0.2}},\"type\":\"histogram\"}],\"scattergl\":[{\"type\":\"scattergl\",\"marker\":{\"colorbar\":{\"outlinewidth\":0,\"ticks\":\"\"}}}],\"scatter3d\":[{\"type\":\"scatter3d\",\"line\":{\"colorbar\":{\"outlinewidth\":0,\"ticks\":\"\"}},\"marker\":{\"colorbar\":{\"outlinewidth\":0,\"ticks\":\"\"}}}],\"scattermapbox\":[{\"type\":\"scattermapbox\",\"marker\":{\"colorbar\":{\"outlinewidth\":0,\"ticks\":\"\"}}}],\"scatterternary\":[{\"type\":\"scatterternary\",\"marker\":{\"colorbar\":{\"outlinewidth\":0,\"ticks\":\"\"}}}],\"scattercarpet\":[{\"type\":\"scattercarpet\",\"marker\":{\"colorbar\":{\"outlinewidth\":0,\"ticks\":\"\"}}}],\"carpet\":[{\"aaxis\":{\"endlinecolor\":\"#2a3f5f\",\"gridcolor\":\"white\",\"linecolor\":\"white\",\"minorgridcolor\":\"white\",\"startlinecolor\":\"#2a3f5f\"},\"baxis\":{\"endlinecolor\":\"#2a3f5f\",\"gridcolor\":\"white\",\"linecolor\":\"white\",\"minorgridcolor\":\"white\",\"startlinecolor\":\"#2a3f5f\"},\"type\":\"carpet\"}],\"table\":[{\"cells\":{\"fill\":{\"color\":\"#EBF0F8\"},\"line\":{\"color\":\"white\"}},\"header\":{\"fill\":{\"color\":\"#C8D4E3\"},\"line\":{\"color\":\"white\"}},\"type\":\"table\"}],\"barpolar\":[{\"marker\":{\"line\":{\"color\":\"#E5ECF6\",\"width\":0.5},\"pattern\":{\"fillmode\":\"overlay\",\"size\":10,\"solidity\":0.2}},\"type\":\"barpolar\"}],\"pie\":[{\"automargin\":true,\"type\":\"pie\"}]},\"layout\":{\"autotypenumbers\":\"strict\",\"colorway\":[\"#636efa\",\"#EF553B\",\"#00cc96\",\"#ab63fa\",\"#FFA15A\",\"#19d3f3\",\"#FF6692\",\"#B6E880\",\"#FF97FF\",\"#FECB52\"],\"font\":{\"color\":\"#2a3f5f\"},\"hovermode\":\"closest\",\"hoverlabel\":{\"align\":\"left\"},\"paper_bgcolor\":\"white\",\"plot_bgcolor\":\"#E5ECF6\",\"polar\":{\"bgcolor\":\"#E5ECF6\",\"angularaxis\":{\"gridcolor\":\"white\",\"linecolor\":\"white\",\"ticks\":\"\"},\"radialaxis\":{\"gridcolor\":\"white\",\"linecolor\":\"white\",\"ticks\":\"\"}},\"ternary\":{\"bgcolor\":\"#E5ECF6\",\"aaxis\":{\"gridcolor\":\"white\",\"linecolor\":\"white\",\"ticks\":\"\"},\"baxis\":{\"gridcolor\":\"white\",\"linecolor\":\"white\",\"ticks\":\"\"},\"caxis\":{\"gridcolor\":\"white\",\"linecolor\":\"white\",\"ticks\":\"\"}},\"coloraxis\":{\"colorbar\":{\"outlinewidth\":0,\"ticks\":\"\"}},\"colorscale\":{\"sequential\":[[0.0,\"#0d0887\"],[0.1111111111111111,\"#46039f\"],[0.2222222222222222,\"#7201a8\"],[0.3333333333333333,\"#9c179e\"],[0.4444444444444444,\"#bd3786\"],[0.5555555555555556,\"#d8576b\"],[0.6666666666666666,\"#ed7953\"],[0.7777777777777778,\"#fb9f3a\"],[0.8888888888888888,\"#fdca26\"],[1.0,\"#f0f921\"]],\"sequentialminus\":[[0.0,\"#0d0887\"],[0.1111111111111111,\"#46039f\"],[0.2222222222222222,\"#7201a8\"],[0.3333333333333333,\"#9c179e\"],[0.4444444444444444,\"#bd3786\"],[0.5555555555555556,\"#d8576b\"],[0.6666666666666666,\"#ed7953\"],[0.7777777777777778,\"#fb9f3a\"],[0.8888888888888888,\"#fdca26\"],[1.0,\"#f0f921\"]],\"diverging\":[[0,\"#8e0152\"],[0.1,\"#c51b7d\"],[0.2,\"#de77ae\"],[0.3,\"#f1b6da\"],[0.4,\"#fde0ef\"],[0.5,\"#f7f7f7\"],[0.6,\"#e6f5d0\"],[0.7,\"#b8e186\"],[0.8,\"#7fbc41\"],[0.9,\"#4d9221\"],[1,\"#276419\"]]},\"xaxis\":{\"gridcolor\":\"white\",\"linecolor\":\"white\",\"ticks\":\"\",\"title\":{\"standoff\":15},\"zerolinecolor\":\"white\",\"automargin\":true,\"zerolinewidth\":2},\"yaxis\":{\"gridcolor\":\"white\",\"linecolor\":\"white\",\"ticks\":\"\",\"title\":{\"standoff\":15},\"zerolinecolor\":\"white\",\"automargin\":true,\"zerolinewidth\":2},\"scene\":{\"xaxis\":{\"backgroundcolor\":\"#E5ECF6\",\"gridcolor\":\"white\",\"linecolor\":\"white\",\"showbackground\":true,\"ticks\":\"\",\"zerolinecolor\":\"white\",\"gridwidth\":2},\"yaxis\":{\"backgroundcolor\":\"#E5ECF6\",\"gridcolor\":\"white\",\"linecolor\":\"white\",\"showbackground\":true,\"ticks\":\"\",\"zerolinecolor\":\"white\",\"gridwidth\":2},\"zaxis\":{\"backgroundcolor\":\"#E5ECF6\",\"gridcolor\":\"white\",\"linecolor\":\"white\",\"showbackground\":true,\"ticks\":\"\",\"zerolinecolor\":\"white\",\"gridwidth\":2}},\"shapedefaults\":{\"line\":{\"color\":\"#2a3f5f\"}},\"annotationdefaults\":{\"arrowcolor\":\"#2a3f5f\",\"arrowhead\":0,\"arrowwidth\":1},\"geo\":{\"bgcolor\":\"white\",\"landcolor\":\"#E5ECF6\",\"subunitcolor\":\"white\",\"showland\":true,\"showlakes\":true,\"lakecolor\":\"white\"},\"title\":{\"x\":0.05},\"mapbox\":{\"style\":\"light\"}}},\"xaxis\":{\"anchor\":\"y\",\"domain\":[0.0,1.0],\"title\":{\"text\":\"Rarity\"}},\"yaxis\":{\"anchor\":\"x\",\"domain\":[0.0,1.0],\"title\":{\"text\":\"HP\"}},\"legend\":{\"title\":{\"text\":\"Element Type\"},\"tracegroupgap\":0},\"title\":{\"text\":\"HP Distribution by Rarity\"},\"boxmode\":\"group\"},                        {\"responsive\": true}                    ).then(function(){\n",
       "                            \n",
       "var gd = document.getElementById('f37361f8-69be-4e14-af63-123c6b52f001');\n",
       "var x = new MutationObserver(function (mutations, observer) {{\n",
       "        var display = window.getComputedStyle(gd).display;\n",
       "        if (!display || display === 'none') {{\n",
       "            console.log([gd, 'removed!']);\n",
       "            Plotly.purge(gd);\n",
       "            observer.disconnect();\n",
       "        }}\n",
       "}});\n",
       "\n",
       "// Listen for the removal of the full notebook cells\n",
       "var notebookContainer = gd.closest('#notebook-container');\n",
       "if (notebookContainer) {{\n",
       "    x.observe(notebookContainer, {childList: true});\n",
       "}}\n",
       "\n",
       "// Listen for the clearing of the current output cell\n",
       "var outputEl = gd.closest('.output');\n",
       "if (outputEl) {{\n",
       "    x.observe(outputEl, {childList: true});\n",
       "}}\n",
       "\n",
       "                        })                };                });            </script>        </div>"
      ]
     },
     "metadata": {},
     "output_type": "display_data"
    },
    {
     "data": {
      "application/vnd.plotly.v1+json": {
       "config": {
        "plotlyServerURL": "https://plot.ly"
       },
       "data": [
        {
         "alignmentgroup": "True",
         "hovertemplate": "Element Type=Earth<br>Rarity=%{x}<br>Defense=%{y}<extra></extra>",
         "legendgroup": "Earth",
         "marker": {
          "color": "#636efa"
         },
         "name": "Earth",
         "notched": false,
         "offsetgroup": "Earth",
         "orientation": "v",
         "showlegend": true,
         "type": "box",
         "x": [
          "Epic",
          "Rare",
          "Rare",
          "Rare",
          "Rare",
          "Common",
          "Rare",
          "Rare",
          "Common",
          "Epic",
          "Rare",
          "Common",
          "Common",
          "Common",
          "Epic",
          "Epic",
          "Epic",
          "Epic",
          "Epic",
          "Rare",
          "Rare",
          "Rare",
          "Rare",
          "Common",
          "Rare",
          "Common",
          "Epic",
          "Epic"
         ],
         "x0": " ",
         "xaxis": "x",
         "y": [
          100,
          120,
          110,
          80,
          120,
          95,
          100,
          80,
          50,
          110,
          90,
          70,
          70,
          90,
          135,
          90,
          90,
          130,
          130,
          90,
          120,
          130,
          80,
          70,
          100,
          125,
          120,
          120
         ],
         "y0": " ",
         "yaxis": "y"
        },
        {
         "alignmentgroup": "True",
         "hovertemplate": "Element Type=Fire<br>Rarity=%{x}<br>Defense=%{y}<extra></extra>",
         "legendgroup": "Fire",
         "marker": {
          "color": "#EF553B"
         },
         "name": "Fire",
         "notched": false,
         "offsetgroup": "Fire",
         "orientation": "v",
         "showlegend": true,
         "type": "box",
         "x": [
          "Common",
          "Epic",
          "Epic",
          "Rare",
          "Epic",
          "Rare",
          "Rare",
          "Rare",
          "Epic",
          "Common",
          "Common",
          "Common",
          "Common",
          "Rare",
          "Common",
          "Common",
          "Epic",
          "Rare",
          "Common",
          "Rare",
          "Common",
          "Rare",
          "Rare",
          "Rare",
          "Common",
          "Common",
          "Rare",
          "Epic",
          "Common",
          "Epic",
          "Rare",
          "Rare"
         ],
         "x0": " ",
         "xaxis": "x",
         "y": [
          95,
          120,
          125,
          80,
          80,
          80,
          80,
          80,
          110,
          80,
          80,
          70,
          60,
          105,
          75,
          85,
          100,
          90,
          70,
          100,
          50,
          90,
          90,
          120,
          85,
          75,
          90,
          105,
          90,
          110,
          80,
          85
         ],
         "y0": " ",
         "yaxis": "y"
        },
        {
         "alignmentgroup": "True",
         "hovertemplate": "Element Type=Dragon<br>Rarity=%{x}<br>Defense=%{y}<extra></extra>",
         "legendgroup": "Dragon",
         "marker": {
          "color": "#00cc96"
         },
         "name": "Dragon",
         "notched": false,
         "offsetgroup": "Dragon",
         "orientation": "v",
         "showlegend": true,
         "type": "box",
         "x": [
          "Epic",
          "Rare",
          "Epic",
          "Common",
          "Rare",
          "Rare",
          "Rare",
          "Epic",
          "Legendary",
          "Epic",
          "Epic",
          "Rare",
          "Epic",
          "Epic",
          "Epic",
          "Epic",
          "Epic",
          "Epic"
         ],
         "x0": " ",
         "xaxis": "x",
         "y": [
          125,
          100,
          105,
          80,
          90,
          90,
          90,
          95,
          110,
          100,
          100,
          100,
          100,
          70,
          75,
          115,
          130,
          120
         ],
         "y0": " ",
         "yaxis": "y"
        },
        {
         "alignmentgroup": "True",
         "hovertemplate": "Element Type=Electricity<br>Rarity=%{x}<br>Defense=%{y}<extra></extra>",
         "legendgroup": "Electricity",
         "marker": {
          "color": "#ab63fa"
         },
         "name": "Electricity",
         "notched": false,
         "offsetgroup": "Electricity",
         "orientation": "v",
         "showlegend": true,
         "type": "box",
         "x": [
          "Rare",
          "Rare",
          "Common",
          "Common",
          "Common",
          "Epic",
          "Common",
          "Rare",
          "Common",
          "Rare",
          "Rare",
          "Common",
          "Rare"
         ],
         "x0": " ",
         "xaxis": "x",
         "y": [
          110,
          80,
          80,
          70,
          90,
          100,
          70,
          100,
          70,
          100,
          80,
          70,
          105
         ],
         "y0": " ",
         "yaxis": "y"
        },
        {
         "alignmentgroup": "True",
         "hovertemplate": "Element Type=Ice<br>Rarity=%{x}<br>Defense=%{y}<extra></extra>",
         "legendgroup": "Ice",
         "marker": {
          "color": "#FFA15A"
         },
         "name": "Ice",
         "notched": false,
         "offsetgroup": "Ice",
         "orientation": "v",
         "showlegend": true,
         "type": "box",
         "x": [
          "Epic",
          "Rare",
          "Rare",
          "Common",
          "Legendary",
          "Common",
          "Common",
          "Common",
          "Common",
          "Epic",
          "Common",
          "Common",
          "Common",
          "Rare",
          "Common",
          "Rare",
          "Rare"
         ],
         "x0": " ",
         "xaxis": "x",
         "y": [
          120,
          110,
          105,
          70,
          120,
          100,
          70,
          105,
          80,
          90,
          80,
          70,
          110,
          100,
          60,
          90,
          100
         ],
         "y0": " ",
         "yaxis": "y"
        },
        {
         "alignmentgroup": "True",
         "hovertemplate": "Element Type=Leaf<br>Rarity=%{x}<br>Defense=%{y}<extra></extra>",
         "legendgroup": "Leaf",
         "marker": {
          "color": "#19d3f3"
         },
         "name": "Leaf",
         "notched": false,
         "offsetgroup": "Leaf",
         "orientation": "v",
         "showlegend": true,
         "type": "box",
         "x": [
          "Common",
          "Common",
          "Rare",
          "Common",
          "Common",
          "Epic",
          "Common",
          "Common",
          "Common",
          "Common",
          "Common",
          "Epic",
          "Rare",
          "Common",
          "Epic",
          "Common",
          "Rare",
          "Common",
          "Common",
          "Epic",
          "Epic",
          "Epic"
         ],
         "x0": " ",
         "xaxis": "x",
         "y": [
          90,
          80,
          100,
          90,
          80,
          100,
          70,
          80,
          75,
          70,
          80,
          105,
          90,
          115,
          100,
          70,
          80,
          90,
          70,
          120,
          90,
          110
         ],
         "y0": " ",
         "yaxis": "y"
        },
        {
         "alignmentgroup": "True",
         "hovertemplate": "Element Type=Dark<br>Rarity=%{x}<br>Defense=%{y}<extra></extra>",
         "legendgroup": "Dark",
         "marker": {
          "color": "#FF6692"
         },
         "name": "Dark",
         "notched": false,
         "offsetgroup": "Dark",
         "orientation": "v",
         "showlegend": true,
         "type": "box",
         "x": [
          "Legendary",
          "Legendary",
          "Common",
          "Common",
          "Rare",
          "Common",
          "Common",
          "Common",
          "Common",
          "Rare",
          "Rare",
          "Legendary",
          "Rare",
          "Rare",
          "Rare",
          "Epic",
          "Common",
          "Rare",
          "Common",
          "Rare",
          "Common",
          "Rare",
          "Common",
          "Common",
          "Epic",
          "Rare",
          "Common",
          "Legendary",
          "Rare",
          "Rare",
          "Common",
          "Common",
          "Rare",
          "Common",
          "Epic",
          "Epic",
          "Rare",
          "Common",
          "Common",
          "Rare",
          "Common",
          "Rare",
          "Rare",
          "Rare"
         ],
         "x0": " ",
         "xaxis": "x",
         "y": [
          100,
          100,
          90,
          80,
          90,
          60,
          75,
          95,
          70,
          95,
          110,
          135,
          105,
          70,
          100,
          100,
          80,
          85,
          75,
          90,
          70,
          105,
          50,
          80,
          115,
          80,
          70,
          120,
          105,
          70,
          100,
          100,
          100,
          80,
          110,
          140,
          90,
          85,
          105,
          100,
          100,
          80,
          95,
          85
         ],
         "y0": " ",
         "yaxis": "y"
        },
        {
         "alignmentgroup": "True",
         "hovertemplate": "Element Type=Water<br>Rarity=%{x}<br>Defense=%{y}<extra></extra>",
         "legendgroup": "Water",
         "marker": {
          "color": "#B6E880"
         },
         "name": "Water",
         "notched": false,
         "offsetgroup": "Water",
         "orientation": "v",
         "showlegend": true,
         "type": "box",
         "x": [
          "Common",
          "Epic",
          "Common",
          "Common",
          "Epic",
          "Common",
          "Common",
          "Common",
          "Common",
          "Common",
          "Common",
          "Common",
          "Legendary",
          "Common",
          "Rare",
          "Rare",
          "Common",
          "Epic",
          "Common",
          "Common",
          "Rare"
         ],
         "x0": " ",
         "xaxis": "x",
         "y": [
          80,
          100,
          80,
          85,
          110,
          80,
          60,
          75,
          70,
          70,
          70,
          85,
          125,
          70,
          95,
          105,
          80,
          105,
          70,
          115,
          110
         ],
         "y0": " ",
         "yaxis": "y"
        },
        {
         "alignmentgroup": "True",
         "hovertemplate": "Element Type=Normal<br>Rarity=%{x}<br>Defense=%{y}<extra></extra>",
         "legendgroup": "Normal",
         "marker": {
          "color": "#FF97FF"
         },
         "name": "Normal",
         "notched": false,
         "offsetgroup": "Normal",
         "orientation": "v",
         "showlegend": true,
         "type": "box",
         "x": [
          "Common",
          "Common",
          "Rare",
          "Common",
          "Common",
          "Common",
          "Rare",
          "Common",
          "Common",
          "Common",
          "Common",
          "Rare",
          "Rare",
          "Common",
          "Common",
          "Epic",
          "Common",
          "Rare",
          "Rare",
          "Common",
          "Rare",
          "Common",
          "Common",
          "Legendary",
          "Common",
          "Common",
          "Common",
          "Common",
          "Common",
          "Common"
         ],
         "x0": " ",
         "xaxis": "x",
         "y": [
          70,
          80,
          100,
          60,
          75,
          75,
          100,
          80,
          90,
          90,
          60,
          90,
          80,
          95,
          85,
          90,
          70,
          70,
          90,
          90,
          130,
          80,
          80,
          145,
          105,
          70,
          70,
          70,
          90,
          85
         ],
         "y0": " ",
         "yaxis": "y"
        }
       ],
       "layout": {
        "autosize": true,
        "boxmode": "group",
        "legend": {
         "title": {
          "text": "Element Type"
         },
         "tracegroupgap": 0
        },
        "template": {
         "data": {
          "bar": [
           {
            "error_x": {
             "color": "#2a3f5f"
            },
            "error_y": {
             "color": "#2a3f5f"
            },
            "marker": {
             "line": {
              "color": "#E5ECF6",
              "width": 0.5
             },
             "pattern": {
              "fillmode": "overlay",
              "size": 10,
              "solidity": 0.2
             }
            },
            "type": "bar"
           }
          ],
          "barpolar": [
           {
            "marker": {
             "line": {
              "color": "#E5ECF6",
              "width": 0.5
             },
             "pattern": {
              "fillmode": "overlay",
              "size": 10,
              "solidity": 0.2
             }
            },
            "type": "barpolar"
           }
          ],
          "carpet": [
           {
            "aaxis": {
             "endlinecolor": "#2a3f5f",
             "gridcolor": "white",
             "linecolor": "white",
             "minorgridcolor": "white",
             "startlinecolor": "#2a3f5f"
            },
            "baxis": {
             "endlinecolor": "#2a3f5f",
             "gridcolor": "white",
             "linecolor": "white",
             "minorgridcolor": "white",
             "startlinecolor": "#2a3f5f"
            },
            "type": "carpet"
           }
          ],
          "choropleth": [
           {
            "colorbar": {
             "outlinewidth": 0,
             "ticks": ""
            },
            "type": "choropleth"
           }
          ],
          "contour": [
           {
            "colorbar": {
             "outlinewidth": 0,
             "ticks": ""
            },
            "colorscale": [
             [
              0,
              "#0d0887"
             ],
             [
              0.1111111111111111,
              "#46039f"
             ],
             [
              0.2222222222222222,
              "#7201a8"
             ],
             [
              0.3333333333333333,
              "#9c179e"
             ],
             [
              0.4444444444444444,
              "#bd3786"
             ],
             [
              0.5555555555555556,
              "#d8576b"
             ],
             [
              0.6666666666666666,
              "#ed7953"
             ],
             [
              0.7777777777777778,
              "#fb9f3a"
             ],
             [
              0.8888888888888888,
              "#fdca26"
             ],
             [
              1,
              "#f0f921"
             ]
            ],
            "type": "contour"
           }
          ],
          "contourcarpet": [
           {
            "colorbar": {
             "outlinewidth": 0,
             "ticks": ""
            },
            "type": "contourcarpet"
           }
          ],
          "heatmap": [
           {
            "colorbar": {
             "outlinewidth": 0,
             "ticks": ""
            },
            "colorscale": [
             [
              0,
              "#0d0887"
             ],
             [
              0.1111111111111111,
              "#46039f"
             ],
             [
              0.2222222222222222,
              "#7201a8"
             ],
             [
              0.3333333333333333,
              "#9c179e"
             ],
             [
              0.4444444444444444,
              "#bd3786"
             ],
             [
              0.5555555555555556,
              "#d8576b"
             ],
             [
              0.6666666666666666,
              "#ed7953"
             ],
             [
              0.7777777777777778,
              "#fb9f3a"
             ],
             [
              0.8888888888888888,
              "#fdca26"
             ],
             [
              1,
              "#f0f921"
             ]
            ],
            "type": "heatmap"
           }
          ],
          "heatmapgl": [
           {
            "colorbar": {
             "outlinewidth": 0,
             "ticks": ""
            },
            "colorscale": [
             [
              0,
              "#0d0887"
             ],
             [
              0.1111111111111111,
              "#46039f"
             ],
             [
              0.2222222222222222,
              "#7201a8"
             ],
             [
              0.3333333333333333,
              "#9c179e"
             ],
             [
              0.4444444444444444,
              "#bd3786"
             ],
             [
              0.5555555555555556,
              "#d8576b"
             ],
             [
              0.6666666666666666,
              "#ed7953"
             ],
             [
              0.7777777777777778,
              "#fb9f3a"
             ],
             [
              0.8888888888888888,
              "#fdca26"
             ],
             [
              1,
              "#f0f921"
             ]
            ],
            "type": "heatmapgl"
           }
          ],
          "histogram": [
           {
            "marker": {
             "pattern": {
              "fillmode": "overlay",
              "size": 10,
              "solidity": 0.2
             }
            },
            "type": "histogram"
           }
          ],
          "histogram2d": [
           {
            "colorbar": {
             "outlinewidth": 0,
             "ticks": ""
            },
            "colorscale": [
             [
              0,
              "#0d0887"
             ],
             [
              0.1111111111111111,
              "#46039f"
             ],
             [
              0.2222222222222222,
              "#7201a8"
             ],
             [
              0.3333333333333333,
              "#9c179e"
             ],
             [
              0.4444444444444444,
              "#bd3786"
             ],
             [
              0.5555555555555556,
              "#d8576b"
             ],
             [
              0.6666666666666666,
              "#ed7953"
             ],
             [
              0.7777777777777778,
              "#fb9f3a"
             ],
             [
              0.8888888888888888,
              "#fdca26"
             ],
             [
              1,
              "#f0f921"
             ]
            ],
            "type": "histogram2d"
           }
          ],
          "histogram2dcontour": [
           {
            "colorbar": {
             "outlinewidth": 0,
             "ticks": ""
            },
            "colorscale": [
             [
              0,
              "#0d0887"
             ],
             [
              0.1111111111111111,
              "#46039f"
             ],
             [
              0.2222222222222222,
              "#7201a8"
             ],
             [
              0.3333333333333333,
              "#9c179e"
             ],
             [
              0.4444444444444444,
              "#bd3786"
             ],
             [
              0.5555555555555556,
              "#d8576b"
             ],
             [
              0.6666666666666666,
              "#ed7953"
             ],
             [
              0.7777777777777778,
              "#fb9f3a"
             ],
             [
              0.8888888888888888,
              "#fdca26"
             ],
             [
              1,
              "#f0f921"
             ]
            ],
            "type": "histogram2dcontour"
           }
          ],
          "mesh3d": [
           {
            "colorbar": {
             "outlinewidth": 0,
             "ticks": ""
            },
            "type": "mesh3d"
           }
          ],
          "parcoords": [
           {
            "line": {
             "colorbar": {
              "outlinewidth": 0,
              "ticks": ""
             }
            },
            "type": "parcoords"
           }
          ],
          "pie": [
           {
            "automargin": true,
            "type": "pie"
           }
          ],
          "scatter": [
           {
            "fillpattern": {
             "fillmode": "overlay",
             "size": 10,
             "solidity": 0.2
            },
            "type": "scatter"
           }
          ],
          "scatter3d": [
           {
            "line": {
             "colorbar": {
              "outlinewidth": 0,
              "ticks": ""
             }
            },
            "marker": {
             "colorbar": {
              "outlinewidth": 0,
              "ticks": ""
             }
            },
            "type": "scatter3d"
           }
          ],
          "scattercarpet": [
           {
            "marker": {
             "colorbar": {
              "outlinewidth": 0,
              "ticks": ""
             }
            },
            "type": "scattercarpet"
           }
          ],
          "scattergeo": [
           {
            "marker": {
             "colorbar": {
              "outlinewidth": 0,
              "ticks": ""
             }
            },
            "type": "scattergeo"
           }
          ],
          "scattergl": [
           {
            "marker": {
             "colorbar": {
              "outlinewidth": 0,
              "ticks": ""
             }
            },
            "type": "scattergl"
           }
          ],
          "scattermapbox": [
           {
            "marker": {
             "colorbar": {
              "outlinewidth": 0,
              "ticks": ""
             }
            },
            "type": "scattermapbox"
           }
          ],
          "scatterpolar": [
           {
            "marker": {
             "colorbar": {
              "outlinewidth": 0,
              "ticks": ""
             }
            },
            "type": "scatterpolar"
           }
          ],
          "scatterpolargl": [
           {
            "marker": {
             "colorbar": {
              "outlinewidth": 0,
              "ticks": ""
             }
            },
            "type": "scatterpolargl"
           }
          ],
          "scatterternary": [
           {
            "marker": {
             "colorbar": {
              "outlinewidth": 0,
              "ticks": ""
             }
            },
            "type": "scatterternary"
           }
          ],
          "surface": [
           {
            "colorbar": {
             "outlinewidth": 0,
             "ticks": ""
            },
            "colorscale": [
             [
              0,
              "#0d0887"
             ],
             [
              0.1111111111111111,
              "#46039f"
             ],
             [
              0.2222222222222222,
              "#7201a8"
             ],
             [
              0.3333333333333333,
              "#9c179e"
             ],
             [
              0.4444444444444444,
              "#bd3786"
             ],
             [
              0.5555555555555556,
              "#d8576b"
             ],
             [
              0.6666666666666666,
              "#ed7953"
             ],
             [
              0.7777777777777778,
              "#fb9f3a"
             ],
             [
              0.8888888888888888,
              "#fdca26"
             ],
             [
              1,
              "#f0f921"
             ]
            ],
            "type": "surface"
           }
          ],
          "table": [
           {
            "cells": {
             "fill": {
              "color": "#EBF0F8"
             },
             "line": {
              "color": "white"
             }
            },
            "header": {
             "fill": {
              "color": "#C8D4E3"
             },
             "line": {
              "color": "white"
             }
            },
            "type": "table"
           }
          ]
         },
         "layout": {
          "annotationdefaults": {
           "arrowcolor": "#2a3f5f",
           "arrowhead": 0,
           "arrowwidth": 1
          },
          "autotypenumbers": "strict",
          "coloraxis": {
           "colorbar": {
            "outlinewidth": 0,
            "ticks": ""
           }
          },
          "colorscale": {
           "diverging": [
            [
             0,
             "#8e0152"
            ],
            [
             0.1,
             "#c51b7d"
            ],
            [
             0.2,
             "#de77ae"
            ],
            [
             0.3,
             "#f1b6da"
            ],
            [
             0.4,
             "#fde0ef"
            ],
            [
             0.5,
             "#f7f7f7"
            ],
            [
             0.6,
             "#e6f5d0"
            ],
            [
             0.7,
             "#b8e186"
            ],
            [
             0.8,
             "#7fbc41"
            ],
            [
             0.9,
             "#4d9221"
            ],
            [
             1,
             "#276419"
            ]
           ],
           "sequential": [
            [
             0,
             "#0d0887"
            ],
            [
             0.1111111111111111,
             "#46039f"
            ],
            [
             0.2222222222222222,
             "#7201a8"
            ],
            [
             0.3333333333333333,
             "#9c179e"
            ],
            [
             0.4444444444444444,
             "#bd3786"
            ],
            [
             0.5555555555555556,
             "#d8576b"
            ],
            [
             0.6666666666666666,
             "#ed7953"
            ],
            [
             0.7777777777777778,
             "#fb9f3a"
            ],
            [
             0.8888888888888888,
             "#fdca26"
            ],
            [
             1,
             "#f0f921"
            ]
           ],
           "sequentialminus": [
            [
             0,
             "#0d0887"
            ],
            [
             0.1111111111111111,
             "#46039f"
            ],
            [
             0.2222222222222222,
             "#7201a8"
            ],
            [
             0.3333333333333333,
             "#9c179e"
            ],
            [
             0.4444444444444444,
             "#bd3786"
            ],
            [
             0.5555555555555556,
             "#d8576b"
            ],
            [
             0.6666666666666666,
             "#ed7953"
            ],
            [
             0.7777777777777778,
             "#fb9f3a"
            ],
            [
             0.8888888888888888,
             "#fdca26"
            ],
            [
             1,
             "#f0f921"
            ]
           ]
          },
          "colorway": [
           "#636efa",
           "#EF553B",
           "#00cc96",
           "#ab63fa",
           "#FFA15A",
           "#19d3f3",
           "#FF6692",
           "#B6E880",
           "#FF97FF",
           "#FECB52"
          ],
          "font": {
           "color": "#2a3f5f"
          },
          "geo": {
           "bgcolor": "white",
           "lakecolor": "white",
           "landcolor": "#E5ECF6",
           "showlakes": true,
           "showland": true,
           "subunitcolor": "white"
          },
          "hoverlabel": {
           "align": "left"
          },
          "hovermode": "closest",
          "mapbox": {
           "style": "light"
          },
          "paper_bgcolor": "white",
          "plot_bgcolor": "#E5ECF6",
          "polar": {
           "angularaxis": {
            "gridcolor": "white",
            "linecolor": "white",
            "ticks": ""
           },
           "bgcolor": "#E5ECF6",
           "radialaxis": {
            "gridcolor": "white",
            "linecolor": "white",
            "ticks": ""
           }
          },
          "scene": {
           "xaxis": {
            "backgroundcolor": "#E5ECF6",
            "gridcolor": "white",
            "gridwidth": 2,
            "linecolor": "white",
            "showbackground": true,
            "ticks": "",
            "zerolinecolor": "white"
           },
           "yaxis": {
            "backgroundcolor": "#E5ECF6",
            "gridcolor": "white",
            "gridwidth": 2,
            "linecolor": "white",
            "showbackground": true,
            "ticks": "",
            "zerolinecolor": "white"
           },
           "zaxis": {
            "backgroundcolor": "#E5ECF6",
            "gridcolor": "white",
            "gridwidth": 2,
            "linecolor": "white",
            "showbackground": true,
            "ticks": "",
            "zerolinecolor": "white"
           }
          },
          "shapedefaults": {
           "line": {
            "color": "#2a3f5f"
           }
          },
          "ternary": {
           "aaxis": {
            "gridcolor": "white",
            "linecolor": "white",
            "ticks": ""
           },
           "baxis": {
            "gridcolor": "white",
            "linecolor": "white",
            "ticks": ""
           },
           "bgcolor": "#E5ECF6",
           "caxis": {
            "gridcolor": "white",
            "linecolor": "white",
            "ticks": ""
           }
          },
          "title": {
           "x": 0.05
          },
          "xaxis": {
           "automargin": true,
           "gridcolor": "white",
           "linecolor": "white",
           "ticks": "",
           "title": {
            "standoff": 15
           },
           "zerolinecolor": "white",
           "zerolinewidth": 2
          },
          "yaxis": {
           "automargin": true,
           "gridcolor": "white",
           "linecolor": "white",
           "ticks": "",
           "title": {
            "standoff": 15
           },
           "zerolinecolor": "white",
           "zerolinewidth": 2
          }
         }
        },
        "title": {
         "text": "Defense Distribution by Rarity"
        },
        "xaxis": {
         "anchor": "y",
         "autorange": true,
         "domain": [
          0,
          1
         ],
         "range": [
          -0.513590033975085,
          3.5135900339750847
         ],
         "title": {
          "text": "Rarity"
         },
         "type": "category"
        },
        "yaxis": {
         "anchor": "x",
         "autorange": true,
         "domain": [
          0,
          1
         ],
         "range": [
          44.72222222222222,
          150.27777777777777
         ],
         "title": {
          "text": "Defense"
         },
         "type": "linear"
        }
       }
      },
      "image/png": "[encoded data removed]",
      "text/html": [
       "<div>                            <div id=\"2b39a603-386d-402c-bbdd-18064bb2d830\" class=\"plotly-graph-div\" style=\"height:525px; width:100%;\"></div>            <script type=\"text/javascript\">                require([\"plotly\"], function(Plotly) {                    window.PLOTLYENV=window.PLOTLYENV || {};                                    if (document.getElementById(\"2b39a603-386d-402c-bbdd-18064bb2d830\")) {                    Plotly.newPlot(                        \"2b39a603-386d-402c-bbdd-18064bb2d830\",                        [{\"alignmentgroup\":\"True\",\"hovertemplate\":\"Element Type=Earth\\u003cbr\\u003eRarity=%{x}\\u003cbr\\u003eDefense=%{y}\\u003cextra\\u003e\\u003c\\u002fextra\\u003e\",\"legendgroup\":\"Earth\",\"marker\":{\"color\":\"#636efa\"},\"name\":\"Earth\",\"notched\":false,\"offsetgroup\":\"Earth\",\"orientation\":\"v\",\"showlegend\":true,\"x\":[\"Epic\",\"Rare\",\"Rare\",\"Rare\",\"Rare\",\"Common\",\"Rare\",\"Rare\",\"Common\",\"Epic\",\"Rare\",\"Common\",\"Common\",\"Common\",\"Epic\",\"Epic\",\"Epic\",\"Epic\",\"Epic\",\"Rare\",\"Rare\",\"Rare\",\"Rare\",\"Common\",\"Rare\",\"Common\",\"Epic\",\"Epic\"],\"x0\":\" \",\"xaxis\":\"x\",\"y\":[100.0,120.0,110.0,80.0,120.0,95.0,100.0,80.0,50.0,110.0,90.0,70.0,70.0,90.0,135.0,90.0,90.0,130.0,130.0,90.0,120.0,130.0,80.0,70.0,100.0,125.0,120.0,120.0],\"y0\":\" \",\"yaxis\":\"y\",\"type\":\"box\"},{\"alignmentgroup\":\"True\",\"hovertemplate\":\"Element Type=Fire\\u003cbr\\u003eRarity=%{x}\\u003cbr\\u003eDefense=%{y}\\u003cextra\\u003e\\u003c\\u002fextra\\u003e\",\"legendgroup\":\"Fire\",\"marker\":{\"color\":\"#EF553B\"},\"name\":\"Fire\",\"notched\":false,\"offsetgroup\":\"Fire\",\"orientation\":\"v\",\"showlegend\":true,\"x\":[\"Common\",\"Epic\",\"Epic\",\"Rare\",\"Epic\",\"Rare\",\"Rare\",\"Rare\",\"Epic\",\"Common\",\"Common\",\"Common\",\"Common\",\"Rare\",\"Common\",\"Common\",\"Epic\",\"Rare\",\"Common\",\"Rare\",\"Common\",\"Rare\",\"Rare\",\"Rare\",\"Common\",\"Common\",\"Rare\",\"Epic\",\"Common\",\"Epic\",\"Rare\",\"Rare\"],\"x0\":\" \",\"xaxis\":\"x\",\"y\":[95.0,120.0,125.0,80.0,80.0,80.0,80.0,80.0,110.0,80.0,80.0,70.0,60.0,105.0,75.0,85.0,100.0,90.0,70.0,100.0,50.0,90.0,90.0,120.0,85.0,75.0,90.0,105.0,90.0,110.0,80.0,85.0],\"y0\":\" \",\"yaxis\":\"y\",\"type\":\"box\"},{\"alignmentgroup\":\"True\",\"hovertemplate\":\"Element Type=Dragon\\u003cbr\\u003eRarity=%{x}\\u003cbr\\u003eDefense=%{y}\\u003cextra\\u003e\\u003c\\u002fextra\\u003e\",\"legendgroup\":\"Dragon\",\"marker\":{\"color\":\"#00cc96\"},\"name\":\"Dragon\",\"notched\":false,\"offsetgroup\":\"Dragon\",\"orientation\":\"v\",\"showlegend\":true,\"x\":[\"Epic\",\"Rare\",\"Epic\",\"Common\",\"Rare\",\"Rare\",\"Rare\",\"Epic\",\"Legendary\",\"Epic\",\"Epic\",\"Rare\",\"Epic\",\"Epic\",\"Epic\",\"Epic\",\"Epic\",\"Epic\"],\"x0\":\" \",\"xaxis\":\"x\",\"y\":[125.0,100.0,105.0,80.0,90.0,90.0,90.0,95.0,110.0,100.0,100.0,100.0,100.0,70.0,75.0,115.0,130.0,120.0],\"y0\":\" \",\"yaxis\":\"y\",\"type\":\"box\"},{\"alignmentgroup\":\"True\",\"hovertemplate\":\"Element Type=Electricity\\u003cbr\\u003eRarity=%{x}\\u003cbr\\u003eDefense=%{y}\\u003cextra\\u003e\\u003c\\u002fextra\\u003e\",\"legendgroup\":\"Electricity\",\"marker\":{\"color\":\"#ab63fa\"},\"name\":\"Electricity\",\"notched\":false,\"offsetgroup\":\"Electricity\",\"orientation\":\"v\",\"showlegend\":true,\"x\":[\"Rare\",\"Rare\",\"Common\",\"Common\",\"Common\",\"Epic\",\"Common\",\"Rare\",\"Common\",\"Rare\",\"Rare\",\"Common\",\"Rare\"],\"x0\":\" \",\"xaxis\":\"x\",\"y\":[110.0,80.0,80.0,70.0,90.0,100.0,70.0,100.0,70.0,100.0,80.0,70.0,105.0],\"y0\":\" \",\"yaxis\":\"y\",\"type\":\"box\"},{\"alignmentgroup\":\"True\",\"hovertemplate\":\"Element Type=Ice\\u003cbr\\u003eRarity=%{x}\\u003cbr\\u003eDefense=%{y}\\u003cextra\\u003e\\u003c\\u002fextra\\u003e\",\"legendgroup\":\"Ice\",\"marker\":{\"color\":\"#FFA15A\"},\"name\":\"Ice\",\"notched\":false,\"offsetgroup\":\"Ice\",\"orientation\":\"v\",\"showlegend\":true,\"x\":[\"Epic\",\"Rare\",\"Rare\",\"Common\",\"Legendary\",\"Common\",\"Common\",\"Common\",\"Common\",\"Epic\",\"Common\",\"Common\",\"Common\",\"Rare\",\"Common\",\"Rare\",\"Rare\"],\"x0\":\" \",\"xaxis\":\"x\",\"y\":[120.0,110.0,105.0,70.0,120.0,100.0,70.0,105.0,80.0,90.0,80.0,70.0,110.0,100.0,60.0,90.0,100.0],\"y0\":\" \",\"yaxis\":\"y\",\"type\":\"box\"},{\"alignmentgroup\":\"True\",\"hovertemplate\":\"Element Type=Leaf\\u003cbr\\u003eRarity=%{x}\\u003cbr\\u003eDefense=%{y}\\u003cextra\\u003e\\u003c\\u002fextra\\u003e\",\"legendgroup\":\"Leaf\",\"marker\":{\"color\":\"#19d3f3\"},\"name\":\"Leaf\",\"notched\":false,\"offsetgroup\":\"Leaf\",\"orientation\":\"v\",\"showlegend\":true,\"x\":[\"Common\",\"Common\",\"Rare\",\"Common\",\"Common\",\"Epic\",\"Common\",\"Common\",\"Common\",\"Common\",\"Common\",\"Epic\",\"Rare\",\"Common\",\"Epic\",\"Common\",\"Rare\",\"Common\",\"Common\",\"Epic\",\"Epic\",\"Epic\"],\"x0\":\" \",\"xaxis\":\"x\",\"y\":[90.0,80.0,100.0,90.0,80.0,100.0,70.0,80.0,75.0,70.0,80.0,105.0,90.0,115.0,100.0,70.0,80.0,90.0,70.0,120.0,90.0,110.0],\"y0\":\" \",\"yaxis\":\"y\",\"type\":\"box\"},{\"alignmentgroup\":\"True\",\"hovertemplate\":\"Element Type=Dark\\u003cbr\\u003eRarity=%{x}\\u003cbr\\u003eDefense=%{y}\\u003cextra\\u003e\\u003c\\u002fextra\\u003e\",\"legendgroup\":\"Dark\",\"marker\":{\"color\":\"#FF6692\"},\"name\":\"Dark\",\"notched\":false,\"offsetgroup\":\"Dark\",\"orientation\":\"v\",\"showlegend\":true,\"x\":[\"Legendary\",\"Legendary\",\"Common\",\"Common\",\"Rare\",\"Common\",\"Common\",\"Common\",\"Common\",\"Rare\",\"Rare\",\"Legendary\",\"Rare\",\"Rare\",\"Rare\",\"Epic\",\"Common\",\"Rare\",\"Common\",\"Rare\",\"Common\",\"Rare\",\"Common\",\"Common\",\"Epic\",\"Rare\",\"Common\",\"Legendary\",\"Rare\",\"Rare\",\"Common\",\"Common\",\"Rare\",\"Common\",\"Epic\",\"Epic\",\"Rare\",\"Common\",\"Common\",\"Rare\",\"Common\",\"Rare\",\"Rare\",\"Rare\"],\"x0\":\" \",\"xaxis\":\"x\",\"y\":[100.0,100.0,90.0,80.0,90.0,60.0,75.0,95.0,70.0,95.0,110.0,135.0,105.0,70.0,100.0,100.0,80.0,85.0,75.0,90.0,70.0,105.0,50.0,80.0,115.0,80.0,70.0,120.0,105.0,70.0,100.0,100.0,100.0,80.0,110.0,140.0,90.0,85.0,105.0,100.0,100.0,80.0,95.0,85.0],\"y0\":\" \",\"yaxis\":\"y\",\"type\":\"box\"},{\"alignmentgroup\":\"True\",\"hovertemplate\":\"Element Type=Water\\u003cbr\\u003eRarity=%{x}\\u003cbr\\u003eDefense=%{y}\\u003cextra\\u003e\\u003c\\u002fextra\\u003e\",\"legendgroup\":\"Water\",\"marker\":{\"color\":\"#B6E880\"},\"name\":\"Water\",\"notched\":false,\"offsetgroup\":\"Water\",\"orientation\":\"v\",\"showlegend\":true,\"x\":[\"Common\",\"Epic\",\"Common\",\"Common\",\"Epic\",\"Common\",\"Common\",\"Common\",\"Common\",\"Common\",\"Common\",\"Common\",\"Legendary\",\"Common\",\"Rare\",\"Rare\",\"Common\",\"Epic\",\"Common\",\"Common\",\"Rare\"],\"x0\":\" \",\"xaxis\":\"x\",\"y\":[80.0,100.0,80.0,85.0,110.0,80.0,60.0,75.0,70.0,70.0,70.0,85.0,125.0,70.0,95.0,105.0,80.0,105.0,70.0,115.0,110.0],\"y0\":\" \",\"yaxis\":\"y\",\"type\":\"box\"},{\"alignmentgroup\":\"True\",\"hovertemplate\":\"Element Type=Normal\\u003cbr\\u003eRarity=%{x}\\u003cbr\\u003eDefense=%{y}\\u003cextra\\u003e\\u003c\\u002fextra\\u003e\",\"legendgroup\":\"Normal\",\"marker\":{\"color\":\"#FF97FF\"},\"name\":\"Normal\",\"notched\":false,\"offsetgroup\":\"Normal\",\"orientation\":\"v\",\"showlegend\":true,\"x\":[\"Common\",\"Common\",\"Rare\",\"Common\",\"Common\",\"Common\",\"Rare\",\"Common\",\"Common\",\"Common\",\"Common\",\"Rare\",\"Rare\",\"Common\",\"Common\",\"Epic\",\"Common\",\"Rare\",\"Rare\",\"Common\",\"Rare\",\"Common\",\"Common\",\"Legendary\",\"Common\",\"Common\",\"Common\",\"Common\",\"Common\",\"Common\"],\"x0\":\" \",\"xaxis\":\"x\",\"y\":[70.0,80.0,100.0,60.0,75.0,75.0,100.0,80.0,90.0,90.0,60.0,90.0,80.0,95.0,85.0,90.0,70.0,70.0,90.0,90.0,130.0,80.0,80.0,145.0,105.0,70.0,70.0,70.0,90.0,85.0],\"y0\":\" \",\"yaxis\":\"y\",\"type\":\"box\"}],                        {\"template\":{\"data\":{\"histogram2dcontour\":[{\"type\":\"histogram2dcontour\",\"colorbar\":{\"outlinewidth\":0,\"ticks\":\"\"},\"colorscale\":[[0.0,\"#0d0887\"],[0.1111111111111111,\"#46039f\"],[0.2222222222222222,\"#7201a8\"],[0.3333333333333333,\"#9c179e\"],[0.4444444444444444,\"#bd3786\"],[0.5555555555555556,\"#d8576b\"],[0.6666666666666666,\"#ed7953\"],[0.7777777777777778,\"#fb9f3a\"],[0.8888888888888888,\"#fdca26\"],[1.0,\"#f0f921\"]]}],\"choropleth\":[{\"type\":\"choropleth\",\"colorbar\":{\"outlinewidth\":0,\"ticks\":\"\"}}],\"histogram2d\":[{\"type\":\"histogram2d\",\"colorbar\":{\"outlinewidth\":0,\"ticks\":\"\"},\"colorscale\":[[0.0,\"#0d0887\"],[0.1111111111111111,\"#46039f\"],[0.2222222222222222,\"#7201a8\"],[0.3333333333333333,\"#9c179e\"],[0.4444444444444444,\"#bd3786\"],[0.5555555555555556,\"#d8576b\"],[0.6666666666666666,\"#ed7953\"],[0.7777777777777778,\"#fb9f3a\"],[0.8888888888888888,\"#fdca26\"],[1.0,\"#f0f921\"]]}],\"heatmap\":[{\"type\":\"heatmap\",\"colorbar\":{\"outlinewidth\":0,\"ticks\":\"\"},\"colorscale\":[[0.0,\"#0d0887\"],[0.1111111111111111,\"#46039f\"],[0.2222222222222222,\"#7201a8\"],[0.3333333333333333,\"#9c179e\"],[0.4444444444444444,\"#bd3786\"],[0.5555555555555556,\"#d8576b\"],[0.6666666666666666,\"#ed7953\"],[0.7777777777777778,\"#fb9f3a\"],[0.8888888888888888,\"#fdca26\"],[1.0,\"#f0f921\"]]}],\"heatmapgl\":[{\"type\":\"heatmapgl\",\"colorbar\":{\"outlinewidth\":0,\"ticks\":\"\"},\"colorscale\":[[0.0,\"#0d0887\"],[0.1111111111111111,\"#46039f\"],[0.2222222222222222,\"#7201a8\"],[0.3333333333333333,\"#9c179e\"],[0.4444444444444444,\"#bd3786\"],[0.5555555555555556,\"#d8576b\"],[0.6666666666666666,\"#ed7953\"],[0.7777777777777778,\"#fb9f3a\"],[0.8888888888888888,\"#fdca26\"],[1.0,\"#f0f921\"]]}],\"contourcarpet\":[{\"type\":\"contourcarpet\",\"colorbar\":{\"outlinewidth\":0,\"ticks\":\"\"}}],\"contour\":[{\"type\":\"contour\",\"colorbar\":{\"outlinewidth\":0,\"ticks\":\"\"},\"colorscale\":[[0.0,\"#0d0887\"],[0.1111111111111111,\"#46039f\"],[0.2222222222222222,\"#7201a8\"],[0.3333333333333333,\"#9c179e\"],[0.4444444444444444,\"#bd3786\"],[0.5555555555555556,\"#d8576b\"],[0.6666666666666666,\"#ed7953\"],[0.7777777777777778,\"#fb9f3a\"],[0.8888888888888888,\"#fdca26\"],[1.0,\"#f0f921\"]]}],\"surface\":[{\"type\":\"surface\",\"colorbar\":{\"outlinewidth\":0,\"ticks\":\"\"},\"colorscale\":[[0.0,\"#0d0887\"],[0.1111111111111111,\"#46039f\"],[0.2222222222222222,\"#7201a8\"],[0.3333333333333333,\"#9c179e\"],[0.4444444444444444,\"#bd3786\"],[0.5555555555555556,\"#d8576b\"],[0.6666666666666666,\"#ed7953\"],[0.7777777777777778,\"#fb9f3a\"],[0.8888888888888888,\"#fdca26\"],[1.0,\"#f0f921\"]]}],\"mesh3d\":[{\"type\":\"mesh3d\",\"colorbar\":{\"outlinewidth\":0,\"ticks\":\"\"}}],\"scatter\":[{\"fillpattern\":{\"fillmode\":\"overlay\",\"size\":10,\"solidity\":0.2},\"type\":\"scatter\"}],\"parcoords\":[{\"type\":\"parcoords\",\"line\":{\"colorbar\":{\"outlinewidth\":0,\"ticks\":\"\"}}}],\"scatterpolargl\":[{\"type\":\"scatterpolargl\",\"marker\":{\"colorbar\":{\"outlinewidth\":0,\"ticks\":\"\"}}}],\"bar\":[{\"error_x\":{\"color\":\"#2a3f5f\"},\"error_y\":{\"color\":\"#2a3f5f\"},\"marker\":{\"line\":{\"color\":\"#E5ECF6\",\"width\":0.5},\"pattern\":{\"fillmode\":\"overlay\",\"size\":10,\"solidity\":0.2}},\"type\":\"bar\"}],\"scattergeo\":[{\"type\":\"scattergeo\",\"marker\":{\"colorbar\":{\"outlinewidth\":0,\"ticks\":\"\"}}}],\"scatterpolar\":[{\"type\":\"scatterpolar\",\"marker\":{\"colorbar\":{\"outlinewidth\":0,\"ticks\":\"\"}}}],\"histogram\":[{\"marker\":{\"pattern\":{\"fillmode\":\"overlay\",\"size\":10,\"solidity\":0.2}},\"type\":\"histogram\"}],\"scattergl\":[{\"type\":\"scattergl\",\"marker\":{\"colorbar\":{\"outlinewidth\":0,\"ticks\":\"\"}}}],\"scatter3d\":[{\"type\":\"scatter3d\",\"line\":{\"colorbar\":{\"outlinewidth\":0,\"ticks\":\"\"}},\"marker\":{\"colorbar\":{\"outlinewidth\":0,\"ticks\":\"\"}}}],\"scattermapbox\":[{\"type\":\"scattermapbox\",\"marker\":{\"colorbar\":{\"outlinewidth\":0,\"ticks\":\"\"}}}],\"scatterternary\":[{\"type\":\"scatterternary\",\"marker\":{\"colorbar\":{\"outlinewidth\":0,\"ticks\":\"\"}}}],\"scattercarpet\":[{\"type\":\"scattercarpet\",\"marker\":{\"colorbar\":{\"outlinewidth\":0,\"ticks\":\"\"}}}],\"carpet\":[{\"aaxis\":{\"endlinecolor\":\"#2a3f5f\",\"gridcolor\":\"white\",\"linecolor\":\"white\",\"minorgridcolor\":\"white\",\"startlinecolor\":\"#2a3f5f\"},\"baxis\":{\"endlinecolor\":\"#2a3f5f\",\"gridcolor\":\"white\",\"linecolor\":\"white\",\"minorgridcolor\":\"white\",\"startlinecolor\":\"#2a3f5f\"},\"type\":\"carpet\"}],\"table\":[{\"cells\":{\"fill\":{\"color\":\"#EBF0F8\"},\"line\":{\"color\":\"white\"}},\"header\":{\"fill\":{\"color\":\"#C8D4E3\"},\"line\":{\"color\":\"white\"}},\"type\":\"table\"}],\"barpolar\":[{\"marker\":{\"line\":{\"color\":\"#E5ECF6\",\"width\":0.5},\"pattern\":{\"fillmode\":\"overlay\",\"size\":10,\"solidity\":0.2}},\"type\":\"barpolar\"}],\"pie\":[{\"automargin\":true,\"type\":\"pie\"}]},\"layout\":{\"autotypenumbers\":\"strict\",\"colorway\":[\"#636efa\",\"#EF553B\",\"#00cc96\",\"#ab63fa\",\"#FFA15A\",\"#19d3f3\",\"#FF6692\",\"#B6E880\",\"#FF97FF\",\"#FECB52\"],\"font\":{\"color\":\"#2a3f5f\"},\"hovermode\":\"closest\",\"hoverlabel\":{\"align\":\"left\"},\"paper_bgcolor\":\"white\",\"plot_bgcolor\":\"#E5ECF6\",\"polar\":{\"bgcolor\":\"#E5ECF6\",\"angularaxis\":{\"gridcolor\":\"white\",\"linecolor\":\"white\",\"ticks\":\"\"},\"radialaxis\":{\"gridcolor\":\"white\",\"linecolor\":\"white\",\"ticks\":\"\"}},\"ternary\":{\"bgcolor\":\"#E5ECF6\",\"aaxis\":{\"gridcolor\":\"white\",\"linecolor\":\"white\",\"ticks\":\"\"},\"baxis\":{\"gridcolor\":\"white\",\"linecolor\":\"white\",\"ticks\":\"\"},\"caxis\":{\"gridcolor\":\"white\",\"linecolor\":\"white\",\"ticks\":\"\"}},\"coloraxis\":{\"colorbar\":{\"outlinewidth\":0,\"ticks\":\"\"}},\"colorscale\":{\"sequential\":[[0.0,\"#0d0887\"],[0.1111111111111111,\"#46039f\"],[0.2222222222222222,\"#7201a8\"],[0.3333333333333333,\"#9c179e\"],[0.4444444444444444,\"#bd3786\"],[0.5555555555555556,\"#d8576b\"],[0.6666666666666666,\"#ed7953\"],[0.7777777777777778,\"#fb9f3a\"],[0.8888888888888888,\"#fdca26\"],[1.0,\"#f0f921\"]],\"sequentialminus\":[[0.0,\"#0d0887\"],[0.1111111111111111,\"#46039f\"],[0.2222222222222222,\"#7201a8\"],[0.3333333333333333,\"#9c179e\"],[0.4444444444444444,\"#bd3786\"],[0.5555555555555556,\"#d8576b\"],[0.6666666666666666,\"#ed7953\"],[0.7777777777777778,\"#fb9f3a\"],[0.8888888888888888,\"#fdca26\"],[1.0,\"#f0f921\"]],\"diverging\":[[0,\"#8e0152\"],[0.1,\"#c51b7d\"],[0.2,\"#de77ae\"],[0.3,\"#f1b6da\"],[0.4,\"#fde0ef\"],[0.5,\"#f7f7f7\"],[0.6,\"#e6f5d0\"],[0.7,\"#b8e186\"],[0.8,\"#7fbc41\"],[0.9,\"#4d9221\"],[1,\"#276419\"]]},\"xaxis\":{\"gridcolor\":\"white\",\"linecolor\":\"white\",\"ticks\":\"\",\"title\":{\"standoff\":15},\"zerolinecolor\":\"white\",\"automargin\":true,\"zerolinewidth\":2},\"yaxis\":{\"gridcolor\":\"white\",\"linecolor\":\"white\",\"ticks\":\"\",\"title\":{\"standoff\":15},\"zerolinecolor\":\"white\",\"automargin\":true,\"zerolinewidth\":2},\"scene\":{\"xaxis\":{\"backgroundcolor\":\"#E5ECF6\",\"gridcolor\":\"white\",\"linecolor\":\"white\",\"showbackground\":true,\"ticks\":\"\",\"zerolinecolor\":\"white\",\"gridwidth\":2},\"yaxis\":{\"backgroundcolor\":\"#E5ECF6\",\"gridcolor\":\"white\",\"linecolor\":\"white\",\"showbackground\":true,\"ticks\":\"\",\"zerolinecolor\":\"white\",\"gridwidth\":2},\"zaxis\":{\"backgroundcolor\":\"#E5ECF6\",\"gridcolor\":\"white\",\"linecolor\":\"white\",\"showbackground\":true,\"ticks\":\"\",\"zerolinecolor\":\"white\",\"gridwidth\":2}},\"shapedefaults\":{\"line\":{\"color\":\"#2a3f5f\"}},\"annotationdefaults\":{\"arrowcolor\":\"#2a3f5f\",\"arrowhead\":0,\"arrowwidth\":1},\"geo\":{\"bgcolor\":\"white\",\"landcolor\":\"#E5ECF6\",\"subunitcolor\":\"white\",\"showland\":true,\"showlakes\":true,\"lakecolor\":\"white\"},\"title\":{\"x\":0.05},\"mapbox\":{\"style\":\"light\"}}},\"xaxis\":{\"anchor\":\"y\",\"domain\":[0.0,1.0],\"title\":{\"text\":\"Rarity\"}},\"yaxis\":{\"anchor\":\"x\",\"domain\":[0.0,1.0],\"title\":{\"text\":\"Defense\"}},\"legend\":{\"title\":{\"text\":\"Element Type\"},\"tracegroupgap\":0},\"title\":{\"text\":\"Defense Distribution by Rarity\"},\"boxmode\":\"group\"},                        {\"responsive\": true}                    ).then(function(){\n",
       "                            \n",
       "var gd = document.getElementById('2b39a603-386d-402c-bbdd-18064bb2d830');\n",
       "var x = new MutationObserver(function (mutations, observer) {{\n",
       "        var display = window.getComputedStyle(gd).display;\n",
       "        if (!display || display === 'none') {{\n",
       "            console.log([gd, 'removed!']);\n",
       "            Plotly.purge(gd);\n",
       "            observer.disconnect();\n",
       "        }}\n",
       "}});\n",
       "\n",
       "// Listen for the removal of the full notebook cells\n",
       "var notebookContainer = gd.closest('#notebook-container');\n",
       "if (notebookContainer) {{\n",
       "    x.observe(notebookContainer, {childList: true});\n",
       "}}\n",
       "\n",
       "// Listen for the clearing of the current output cell\n",
       "var outputEl = gd.closest('.output');\n",
       "if (outputEl) {{\n",
       "    x.observe(outputEl, {childList: true});\n",
       "}}\n",
       "\n",
       "                        })                };                });            </script>        </div>"
      ]
     },
     "metadata": {},
     "output_type": "display_data"
    }
   ],
   "source": [
    "import re\n",
    "import pandas as pd\n",
    "import numpy as np\n",
    "import plotly.express as px\n",
    "\n",
    "# --- Config ---\n",
    "KNOWN_WORK_ALIASES = {\n",
    "    \"medicine\":\"Medicine\",\"medicineproduction\":\"Medicine\",\n",
    "    \"transport\":\"Transport\",\"transporting\":\"Transport\",\n",
    "    \"cooling\":\"Cooling\",\"watering\":\"Watering\",\n",
    "    \"kindling\":\"Kindling\",\"lumbering\":\"Lumbering\",\n",
    "    \"planting\":\"Planting\",\"gathering\":\"Gathering\",\n",
    "    \"mining\":\"Mining\",\"handiwork\":\"Handiwork\"\n",
    "}\n",
    "\n",
    "# --- Detect work-type columns ---\n",
    "def detect_work_cols(df):\n",
    "    work_cols = []\n",
    "    for c in df.columns:\n",
    "        key = re.sub(r\"[^a-z]\",\"\", c.lower())\n",
    "        if key in KNOWN_WORK_ALIASES:\n",
    "            work_cols.append(c)\n",
    "    return work_cols\n",
    "\n",
    "def unify_work_names(cols):\n",
    "    out = {}\n",
    "    for c in cols:\n",
    "        key = re.sub(r\"[^a-z]\",\"\", c.lower())\n",
    "        out[c] = KNOWN_WORK_ALIASES.get(key, c)\n",
    "    return out\n",
    "\n",
    "def build_features(df, work_cols):\n",
    "    out = df.copy()\n",
    "    if work_cols:\n",
    "        levels = out[work_cols].apply(pd.to_numeric, errors=\"coerce\").fillna(0)\n",
    "        out[\"Highest Work Suitability Level\"] = levels.max(axis=1)\n",
    "        aliases = unify_work_names(work_cols)\n",
    "        def summarize(row):\n",
    "            items = []\n",
    "            for c in work_cols:\n",
    "                v = pd.to_numeric(row[c], errors=\"coerce\")\n",
    "                if pd.notna(v) and v > 0:\n",
    "                    items.append(f\"{aliases[c]} {int(v)}\")\n",
    "            return \", \".join(items) if items else \"None\"\n",
    "        out[\"Work Types\"] = out.apply(summarize, axis=1)\n",
    "        out[\"_Work Skill Count\"] = (levels > 0).sum(axis=1)\n",
    "    else:\n",
    "        out[\"Highest Work Suitability Level\"] = 0\n",
    "        out[\"Work Types\"] = \"None\"\n",
    "        out[\"_Work Skill Count\"] = 0\n",
    "    return out\n",
    "\n",
    "# --- Prepare data ---\n",
    "work_cols = detect_work_cols(pal_frame)\n",
    "pal_frame = build_features(pal_frame, work_cols)\n",
    "\n",
    "# --- 1. Scatter Plot ---\n",
    "fig1 = px.scatter(\n",
    "    pal_frame,\n",
    "    x=\"Highest Work Suitability Level\",\n",
    "    y=\"HP\",\n",
    "    color=\"Element Type\",\n",
    "    hover_data={\"ID\":True, \"Rarity\":True, \"Work Types\":True},\n",
    "    title=\"Work Suitability vs HP by Element Type\"\n",
    ")\n",
    "fig1.show()\n",
    "\n",
    "# --- 2. Grouped Bar Chart ---\n",
    "if work_cols:\n",
    "    # ensure numeric work columns\n",
    "    pal_frame[work_cols] = pal_frame[work_cols].apply(pd.to_numeric, errors=\"coerce\")\n",
    "    \n",
    "    aliases = unify_work_names(work_cols)\n",
    "    \n",
    "    melted = pal_frame.melt(\n",
    "        id_vars=[\"Element Type\"],\n",
    "        value_vars=work_cols,\n",
    "        var_name=\"Work Type\",\n",
    "        value_name=\"Level\"\n",
    "    )\n",
    "    melted[\"Work Type\"] = melted[\"Work Type\"].map(aliases)\n",
    "    melted[\"Level\"] = pd.to_numeric(melted[\"Level\"], errors=\"coerce\")\n",
    "    melted = melted.dropna(subset=[\"Level\"])  # or .fillna(0)\n",
    "    \n",
    "    agg_df = (\n",
    "        melted\n",
    "        .groupby([\"Element Type\", \"Work Type\"], as_index=False, observed=True)\n",
    "        .agg(Level=(\"Level\", \"mean\"))\n",
    "    )\n",
    "    \n",
    "    fig2 = px.bar(\n",
    "        agg_df,\n",
    "        x=\"Element Type\", y=\"Level\", color=\"Work Type\",\n",
    "        barmode=\"group\",\n",
    "        title=\"Average Work Suitability Level by Element Type & Work Type\"\n",
    "    )\n",
    "    fig2.show()\n",
    "\n",
    "\n",
    "# --- 3. Heatmap ---\n",
    "if work_cols and \"Rarity\" in pal_frame:\n",
    "    heat_df = pal_frame.groupby([\"Rarity\",\"_Work Skill Count\"]).size().reset_index(name=\"Count\")\n",
    "    fig3 = px.density_heatmap(\n",
    "        heat_df,\n",
    "        x=\"_Work Skill Count\", y=\"Rarity\", z=\"Count\", color_continuous_scale=\"Viridis\",\n",
    "        title=\"Rarity vs. Number of Work Suitabilities (Frequency)\"\n",
    "    )\n",
    "    fig3.show()\n",
    "\n",
    "# --- 4. Boxplots ---\n",
    "if \"Rarity\" in pal_frame:\n",
    "    fig4 = px.box(pal_frame, x=\"Rarity\", y=\"HP\", color=\"Element Type\",\n",
    "                  title=\"HP Distribution by Rarity\")\n",
    "    fig4.show()\n",
    "    fig5 = px.box(pal_frame, x=\"Rarity\", y=\"Defense\", color=\"Element Type\",\n",
    "                  title=\"Defense Distribution by Rarity\")\n",
    "    fig5.show()\n"
   ]
  },
  {
   "cell_type": "code",
   "execution_count": null,
   "metadata": {},
   "outputs": [],
   "source": []
  }
 ],
 "metadata": {
  "kernelspec": {
   "display_name": "Python 3 (ipykernel)",
   "language": "python",
   "name": "python3"
  },
  "language_info": {
   "codemirror_mode": {
    "name": "ipython",
    "version": 3
   },
   "file_extension": ".py",
   "mimetype": "text/x-python",
   "name": "python",
   "nbconvert_exporter": "python",
   "pygments_lexer": "ipython3",
   "version": "3.12.4"
  }
 },
 "nbformat": 4,
 "nbformat_minor": 4
}
