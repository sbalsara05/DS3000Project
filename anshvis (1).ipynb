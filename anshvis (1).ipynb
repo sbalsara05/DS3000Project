{
 "cells": [
  {
   "cell_type": "markdown",
   "metadata": {},
   "source": [
    "# DS 3000 HW 5 \n",
    "\n",
    "Due: Sunday July 20th @ 11:59 PM EST\n",
    "\n",
    "### Submission Instructions\n",
    "Submit this `ipynb` file and the a `PDF` file included with the coding results to Gradescope (this can also be done via the assignment on Canvas).  To ensure that your submitted files represent your latest code, make sure to give a fresh `Kernel > Restart & Run All` just before uploading the files to gradescope. \n",
    "\n",
    "**Notice that this is a group assignment. Each group only need to submit one copy and when you submit the work, please include everyone in your group.**\n",
    "\n",
    "### Tips for success\n",
    "- Start early\n",
    "- Make use of Piazza\n",
    "- Make use of Office hour\n",
    "- Remember to use cells and headings to make the notebook easy to read (if a grader cannot find the answer to a problem, you will receive no points for it)\n",
    "- Under no circumstances may one student view or share their ungraded homework or quiz with another student [(see also)](http://www.northeastern.edu/osccr/academic-integrity), though you are welcome to **talk about** (not show each other) the problems."
   ]
  },
  {
   "cell_type": "markdown",
   "metadata": {},
   "source": [
    "## Project proposal\n",
    "\n",
    "For this course, we aim to complete a data analysis project about the the game [Palworld](https://en.wikipedia.org/wiki/Palworld). To help you start with the project, here are a couple of things you need to consider and work on to get a clean data for later analysis. \n",
    "\n",
    "To start with the project, please take some time to get familiar with the game. You don't need to play it but please at least know the basic terminologies, like what is a Pal. (And also, if you do play it, please do not spend too much time on it.)\n",
    "\n",
    "The two recommended database is [https://palworld.gg/](https://palworld.gg/) and [https://paldb.cc/en/](https://paldb.cc/en/). You can use either, or both, or some other database about the Palworld. "
   ]
  },
  {
   "cell_type": "markdown",
   "metadata": {},
   "source": [
    "### Part 1.1 (10 points)\n",
    "\n",
    "1. Are a Pal's work suitability scores (like Kindling, Planting, etc.) related to their elemental type? For example, do Fire-type Pals tend to have higher Kindling scores?\n",
    "\n",
    "2. Which features (like element type, size, rarity) may affect a Pal's base power level and stats (HP, Attack, etc.)?\n",
    "\n",
    "3. Based on work suitability scores and element types, which Pals are most similar in terms of their utility for base building and resource gathering?\n"
   ]
  },
  {
   "cell_type": "markdown",
   "metadata": {},
   "source": []
  },
  {
   "cell_type": "markdown",
   "metadata": {},
   "source": [
    "### Part 1.2 (20 points)\n",
    "\n",
    "Based on the questions we proposed in the part 1.1, what features we may need to include in the analysis? Check the websites, which website has those information? **You need to pick at least 8 features for analysis.** We recommend a mix of numerical (numbers etc.) and categorical (level etc.) features. Is there any other features that you think it may be important but hard to extract or find on the website (can be something in or not in the game)?"
   ]
  },
  {
   "cell_type": "markdown",
   "metadata": {},
   "source": [
    "1. Number of Work Suitabilities: The number of different work types a Pal can perform (e.g., 1, 2, 3). This measures versatility and can be correlated with rarity or element type to determine if more versatile Pals are also rarer or stronger.\n",
    "2. Pal ID Number: A numerical identifier for each Pal (e.g., #100). Useful for indexing and dataset integrity, though not for direct analysis.\n",
    "3. Element Type: The elemental type(s) of the Pal (e.g., Fire, Earth, Dark, etc.). This is crucial for understanding how elemental types relate to work suitability and combat stats.\n",
    "4. Rarity: The rarity tier of the Pal (e.g., Common, Rare, Epic, Legendary). Can be used to analyze trends in strength, utility, or drop rates.\n",
    "5. Work Suitability Types: The kinds of work the Pal is suitable for (e.g., Handiwork, Mining, Transporting). These can help us study which work categories are most associated with certain elements or rarities.\n",
    "6. Work Suitability Levels: Numerical levels indicating how effective a Pal is at a certain task (e.g., Lv 4 Handiwork). Useful for quantitative comparisons.\n",
    "7. HP: The base health points of the Pal. Important for combat-related analysis and can be compared against element types and rarity.\n",
    "8. Defense: The Pal’s defensive stat. Like HP, this can be used to explore if stronger defensive Pals trend toward certain types or rarities."
   ]
  },
  {
   "cell_type": "markdown",
   "metadata": {},
   "source": [
    "### Part 1.3 (20 points)\n",
    "\n",
    "Suppose you do have all the features you mentioned in part 1.2. List 3-4 data visulizations you can make with those features. You do not need to make those visulizations here. Just describe the type of the visualizations (histogram, scatter plot etc. ), which features are involved, will there any hover data or color being added, and **discuss how these data visualizations may be related (or even answer) to your questions in part 1.1**. "
   ]
  },
  {
   "cell_type": "markdown",
   "metadata": {},
   "source": [
    "1. Scatter Plot – Work Suitability Level vs. HP\n",
    "- X-axis: Highest Work Suitability Level\n",
    "- Y-axis: HP\n",
    "- Color: Element Type\n",
    "- Hover Info: Pal ID, Rarity, Work Types\n",
    "- Why: To see if there’s a tradeoff between combat readiness (HP) and labor value (work level). Helps address question 1: Do elemental types affect work suitability scores?\n",
    "2. Grouped Bar Chart – Average Work Suitability Level by Element Type\n",
    "- X-axis: Element Types\n",
    "- Y-axis: Avg Work Level (split by work type: Mining, Transport, etc.)\n",
    "- Color: Work Type\n",
    "- Why: This directly addresses question 1 and 3 — seeing if, say, Fire-types are better at Kindling or if Water-types are better at Cooling.\n",
    "3. Heatmap – Rarity vs. Number of Work Suitabilities\n",
    "- Axes: Rarity (Y) × Number of Work Suitabilities (X)\n",
    "- Color: Frequency (how many Pals fall into each combination)\n",
    "- Why: Helps answer: Are rarer Pals more versatile? This addresses the updated feature 1 and part of question 2.\n",
    "4. Boxplot – HP and Defense Distribution by Rarity\n",
    "- X-axis: Rarity\n",
    "- Y-axis: HP or Defense\n",
    "- Color: Element Type (optional)\n",
    "- Why: To examine the relationship between rarity and battle strength. This supports question 2 — How do different features (like rarity or element) affect base stats?"
   ]
  },
  {
   "cell_type": "markdown",
   "metadata": {},
   "source": [
    "### Part 1.4  (50 points)\n",
    "\n",
    "Now, go ahead and try to scrape the features you need. \n",
    "\n",
    "Please show all the codes you have for web scrapping. Your current output data frame should include at least 4 features. (You do not need to scrape all features at this moment, although it is recommend to start earlier. Also, you can choose to not to use the ones you have scraped in the later analysis. No need to worry if you need to change anything later). **Please design your code in pipeline and clearly document each function.** See the Python Style Guide in Week 1 for proper documentation. It is also recommended to save the data you have scrapped."
   ]
  },
  {
   "cell_type": "code",
   "execution_count": null,
   "metadata": {},
   "outputs": [],
   "source": []
  },
  {
   "cell_type": "markdown",
   "metadata": {},
   "source": [
    "Note: The above code is a template and you'll need to adjust the class names and HTML structure according to the actual website you're scraping (palworld.gg or paldb.cc). The key is to get data for all Pals at once to enable meaningful analysis later.\n"
   ]
  },
  {
   "cell_type": "code",
   "execution_count": 97,
   "metadata": {
    "ExecuteTime": {
     "end_time": "2025-07-17T17:25:48.117012Z",
     "start_time": "2025-07-17T17:25:47.603263Z"
    }
   },
   "outputs": [
    {
     "ename": "KeyboardInterrupt",
     "evalue": "",
     "output_type": "error",
     "traceback": [
      "\u001b[31m---------------------------------------------------------------------------\u001b[39m",
      "\u001b[31mKeyboardInterrupt\u001b[39m                         Traceback (most recent call last)",
      "\u001b[36mCell\u001b[39m\u001b[36m \u001b[39m\u001b[32mIn[97]\u001b[39m\u001b[32m, line 36\u001b[39m\n\u001b[32m     33\u001b[39m     \u001b[38;5;66;03m# Convert the dictionary to a DataFrame before returning it.\u001b[39;00m\n\u001b[32m     34\u001b[39m     \u001b[38;5;28;01mreturn\u001b[39;00m pd.DataFrame().from_dict(pal_dict, orient = \u001b[33m\"\u001b[39m\u001b[33mindex\u001b[39m\u001b[33m\"\u001b[39m, columns = [\u001b[33m\"\u001b[39m\u001b[33mID\u001b[39m\u001b[33m\"\u001b[39m])\n\u001b[32m---> \u001b[39m\u001b[32m36\u001b[39m pal_frame = \u001b[43mscrape_pal_ids\u001b[49m\u001b[43m(\u001b[49m\u001b[43m)\u001b[49m\n\u001b[32m     37\u001b[39m pal_frame\n",
      "\u001b[36mCell\u001b[39m\u001b[36m \u001b[39m\u001b[32mIn[97]\u001b[39m\u001b[32m, line 19\u001b[39m, in \u001b[36mscrape_pal_ids\u001b[39m\u001b[34m(url)\u001b[39m\n\u001b[32m      9\u001b[39m \u001b[38;5;250m\u001b[39m\u001b[33;03m\"\"\"\u001b[39;00m\n\u001b[32m     10\u001b[39m \u001b[33;03mScrape Pal IDs from the given URL.\u001b[39;00m\n\u001b[32m     11\u001b[39m \n\u001b[32m   (...)\u001b[39m\u001b[32m     16\u001b[39m \u001b[33;03m    DataFrame: A dataFrame of Pal names and IDs.\u001b[39;00m\n\u001b[32m     17\u001b[39m \u001b[33;03m\"\"\"\u001b[39;00m\n\u001b[32m     18\u001b[39m response = requests.get(url).text\n\u001b[32m---> \u001b[39m\u001b[32m19\u001b[39m soup = \u001b[43mBeautifulSoup\u001b[49m\u001b[43m(\u001b[49m\u001b[43mresponse\u001b[49m\u001b[43m)\u001b[49m\n\u001b[32m     21\u001b[39m \u001b[38;5;66;03m# Find all Pal ID elements\u001b[39;00m\n\u001b[32m     22\u001b[39m pal_dict = {}\n",
      "\u001b[36mFile \u001b[39m\u001b[32mc:\\Users\\Wanda\\anaconda3\\Lib\\site-packages\\bs4\\__init__.py:335\u001b[39m, in \u001b[36mBeautifulSoup.__init__\u001b[39m\u001b[34m(self, markup, features, builder, parse_only, from_encoding, exclude_encodings, element_classes, **kwargs)\u001b[39m\n\u001b[32m    333\u001b[39m \u001b[38;5;28mself\u001b[39m.builder.initialize_soup(\u001b[38;5;28mself\u001b[39m)\n\u001b[32m    334\u001b[39m \u001b[38;5;28;01mtry\u001b[39;00m:\n\u001b[32m--> \u001b[39m\u001b[32m335\u001b[39m     \u001b[38;5;28;43mself\u001b[39;49m\u001b[43m.\u001b[49m\u001b[43m_feed\u001b[49m\u001b[43m(\u001b[49m\u001b[43m)\u001b[49m\n\u001b[32m    336\u001b[39m     success = \u001b[38;5;28;01mTrue\u001b[39;00m\n\u001b[32m    337\u001b[39m     \u001b[38;5;28;01mbreak\u001b[39;00m\n",
      "\u001b[36mFile \u001b[39m\u001b[32mc:\\Users\\Wanda\\anaconda3\\Lib\\site-packages\\bs4\\__init__.py:478\u001b[39m, in \u001b[36mBeautifulSoup._feed\u001b[39m\u001b[34m(self)\u001b[39m\n\u001b[32m    475\u001b[39m \u001b[38;5;66;03m# Convert the document to Unicode.\u001b[39;00m\n\u001b[32m    476\u001b[39m \u001b[38;5;28mself\u001b[39m.builder.reset()\n\u001b[32m--> \u001b[39m\u001b[32m478\u001b[39m \u001b[38;5;28;43mself\u001b[39;49m\u001b[43m.\u001b[49m\u001b[43mbuilder\u001b[49m\u001b[43m.\u001b[49m\u001b[43mfeed\u001b[49m\u001b[43m(\u001b[49m\u001b[38;5;28;43mself\u001b[39;49m\u001b[43m.\u001b[49m\u001b[43mmarkup\u001b[49m\u001b[43m)\u001b[49m\n\u001b[32m    479\u001b[39m \u001b[38;5;66;03m# Close out any unfinished strings and close all the open tags.\u001b[39;00m\n\u001b[32m    480\u001b[39m \u001b[38;5;28mself\u001b[39m.endData()\n",
      "\u001b[36mFile \u001b[39m\u001b[32mc:\\Users\\Wanda\\anaconda3\\Lib\\site-packages\\bs4\\builder\\_lxml.py:380\u001b[39m, in \u001b[36mLXMLTreeBuilder.feed\u001b[39m\u001b[34m(self, markup)\u001b[39m\n\u001b[32m    378\u001b[39m \u001b[38;5;28;01mtry\u001b[39;00m:\n\u001b[32m    379\u001b[39m     \u001b[38;5;28mself\u001b[39m.parser = \u001b[38;5;28mself\u001b[39m.parser_for(encoding)\n\u001b[32m--> \u001b[39m\u001b[32m380\u001b[39m     \u001b[38;5;28;43mself\u001b[39;49m\u001b[43m.\u001b[49m\u001b[43mparser\u001b[49m\u001b[43m.\u001b[49m\u001b[43mfeed\u001b[49m\u001b[43m(\u001b[49m\u001b[43mmarkup\u001b[49m\u001b[43m)\u001b[49m\n\u001b[32m    381\u001b[39m     \u001b[38;5;28mself\u001b[39m.parser.close()\n\u001b[32m    382\u001b[39m \u001b[38;5;28;01mexcept\u001b[39;00m (\u001b[38;5;167;01mUnicodeDecodeError\u001b[39;00m, \u001b[38;5;167;01mLookupError\u001b[39;00m, etree.ParserError) \u001b[38;5;28;01mas\u001b[39;00m e:\n",
      "\u001b[36mFile \u001b[39m\u001b[32msrc\\\\lxml\\\\parser.pxi:1331\u001b[39m, in \u001b[36mlxml.etree._FeedParser.feed\u001b[39m\u001b[34m()\u001b[39m\n",
      "\u001b[36mFile \u001b[39m\u001b[32msrc\\\\lxml\\\\parser.pxi:1451\u001b[39m, in \u001b[36mlxml.etree._FeedParser.feed\u001b[39m\u001b[34m()\u001b[39m\n",
      "\u001b[36mFile \u001b[39m\u001b[32msrc\\\\lxml\\\\parsertarget.pxi:161\u001b[39m, in \u001b[36mlxml.etree._TargetParserContext._handleParseResult\u001b[39m\u001b[34m()\u001b[39m\n",
      "\u001b[36mFile \u001b[39m\u001b[32msrc\\\\lxml\\\\parsertarget.pxi:156\u001b[39m, in \u001b[36mlxml.etree._TargetParserContext._handleParseResult\u001b[39m\u001b[34m()\u001b[39m\n",
      "\u001b[36mFile \u001b[39m\u001b[32msrc\\\\lxml\\\\etree.pyx:351\u001b[39m, in \u001b[36mlxml.etree._ExceptionContext._raise_if_stored\u001b[39m\u001b[34m()\u001b[39m\n",
      "\u001b[36mFile \u001b[39m\u001b[32msrc\\\\lxml\\\\saxparser.pxi:524\u001b[39m, in \u001b[36mlxml.etree._handleSaxEndNoNs\u001b[39m\u001b[34m()\u001b[39m\n",
      "\u001b[36mFile \u001b[39m\u001b[32msrc\\\\lxml\\\\parsertarget.pxi:99\u001b[39m, in \u001b[36mlxml.etree._PythonSaxParserTarget._handleSaxEnd\u001b[39m\u001b[34m()\u001b[39m\n",
      "\u001b[36mFile \u001b[39m\u001b[32mc:\\Users\\Wanda\\anaconda3\\Lib\\site-packages\\bs4\\builder\\_lxml.py:317\u001b[39m, in \u001b[36mLXMLTreeBuilderForXML.end\u001b[39m\u001b[34m(self, name)\u001b[39m\n\u001b[32m    314\u001b[39m             \u001b[38;5;28;01mreturn\u001b[39;00m inverted_nsmap[namespace]\n\u001b[32m    315\u001b[39m     \u001b[38;5;28;01mreturn\u001b[39;00m \u001b[38;5;28;01mNone\u001b[39;00m\n\u001b[32m--> \u001b[39m\u001b[32m317\u001b[39m \u001b[38;5;28;01mdef\u001b[39;00m\u001b[38;5;250m \u001b[39m\u001b[34mend\u001b[39m(\u001b[38;5;28mself\u001b[39m, name):\n\u001b[32m    318\u001b[39m     \u001b[38;5;28mself\u001b[39m.soup.endData()\n\u001b[32m    319\u001b[39m     completed_tag = \u001b[38;5;28mself\u001b[39m.soup.tagStack[-\u001b[32m1\u001b[39m]\n",
      "\u001b[31mKeyboardInterrupt\u001b[39m: "
     ]
    }
   ],
   "source": [
    "# scrape palID\n",
    "import requests\n",
    "from bs4 import BeautifulSoup\n",
    "import pandas as pd\n",
    "import seaborn as sns\n",
    "import plotly.express as px\n",
    "\n",
    "def scrape_pal_ids(url = \"https://palworld.gg/pals\"):\n",
    "    \"\"\"\n",
    "    Scrape Pal IDs from the given URL.\n",
    "\n",
    "    Args:\n",
    "        url (str): The URL of the Palworld database page, assumed to be the current link unless otherwise specified.\n",
    "\n",
    "    Returns:\n",
    "        DataFrame: A dataFrame of Pal names and IDs.\n",
    "    \"\"\"\n",
    "    response = requests.get(url).text\n",
    "    soup = BeautifulSoup(response)\n",
    "\n",
    "    # Find all Pal ID elements\n",
    "    pal_dict = {}\n",
    "    for pal in soup.find_all(\"div\", class_ = \"pal\"):\n",
    "\n",
    "        # Remove empty Pal entries.\n",
    "        if pal.attrs[\"style\"] == \"display:none;\":\n",
    "            continue\n",
    "\n",
    "        # Get the ID and name of the Pal and add them to the dictionary.\n",
    "        pal_id_element = pal.find('span', class_='index').text.strip()\n",
    "        pal_dict[pal.find(\"div\", class_ = \"name\").next_element.strip()] = pal_id_element\n",
    "\n",
    "    # Convert the dictionary to a DataFrame before returning it.\n",
    "    return pd.DataFrame().from_dict(pal_dict, orient = \"index\", columns = [\"ID\"])\n",
    "\n",
    "pal_frame = scrape_pal_ids()\n",
    "pal_frame"
   ]
  },
  {
   "cell_type": "code",
   "execution_count": null,
   "metadata": {},
   "outputs": [
    {
     "data": {
      "text/html": [
       "<div>\n",
       "<style scoped>\n",
       "    .dataframe tbody tr th:only-of-type {\n",
       "        vertical-align: middle;\n",
       "    }\n",
       "\n",
       "    .dataframe tbody tr th {\n",
       "        vertical-align: top;\n",
       "    }\n",
       "\n",
       "    .dataframe thead th {\n",
       "        text-align: right;\n",
       "    }\n",
       "</style>\n",
       "<table border=\"1\" class=\"dataframe\">\n",
       "  <thead>\n",
       "    <tr style=\"text-align: right;\">\n",
       "      <th></th>\n",
       "      <th>ID</th>\n",
       "      <th>Rarity</th>\n",
       "    </tr>\n",
       "  </thead>\n",
       "  <tbody>\n",
       "    <tr>\n",
       "      <th>Anubis</th>\n",
       "      <td>#100</td>\n",
       "      <td>Epic</td>\n",
       "    </tr>\n",
       "    <tr>\n",
       "      <th>Arsox</th>\n",
       "      <td>#42</td>\n",
       "      <td>Common</td>\n",
       "    </tr>\n",
       "    <tr>\n",
       "      <th>Astegon</th>\n",
       "      <td>#98</td>\n",
       "      <td>Epic</td>\n",
       "    </tr>\n",
       "    <tr>\n",
       "      <th>Azurmane</th>\n",
       "      <td>#136</td>\n",
       "      <td>Rare</td>\n",
       "    </tr>\n",
       "    <tr>\n",
       "      <th>Azurobe</th>\n",
       "      <td>#82</td>\n",
       "      <td>Rare</td>\n",
       "    </tr>\n",
       "    <tr>\n",
       "      <th>...</th>\n",
       "      <td>...</td>\n",
       "      <td>...</td>\n",
       "    </tr>\n",
       "    <tr>\n",
       "      <th>Wumpo Botan</th>\n",
       "      <td>#91</td>\n",
       "      <td>Epic</td>\n",
       "    </tr>\n",
       "    <tr>\n",
       "      <th>Xenogard</th>\n",
       "      <td>#126</td>\n",
       "      <td>Epic</td>\n",
       "    </tr>\n",
       "    <tr>\n",
       "      <th>Xenolord</th>\n",
       "      <td>#127</td>\n",
       "      <td>Epic</td>\n",
       "    </tr>\n",
       "    <tr>\n",
       "      <th>Xenovader</th>\n",
       "      <td>#125</td>\n",
       "      <td>Rare</td>\n",
       "    </tr>\n",
       "    <tr>\n",
       "      <th>Yakumo</th>\n",
       "      <td>#121</td>\n",
       "      <td>Common</td>\n",
       "    </tr>\n",
       "  </tbody>\n",
       "</table>\n",
       "<p>225 rows × 2 columns</p>\n",
       "</div>"
      ],
      "text/plain": [
       "               ID  Rarity\n",
       "Anubis       #100    Epic\n",
       "Arsox         #42  Common\n",
       "Astegon       #98    Epic\n",
       "Azurmane     #136    Rare\n",
       "Azurobe       #82    Rare\n",
       "...           ...     ...\n",
       "Wumpo Botan   #91    Epic\n",
       "Xenogard     #126    Epic\n",
       "Xenolord     #127    Epic\n",
       "Xenovader    #125    Rare\n",
       "Yakumo       #121  Common\n",
       "\n",
       "[225 rows x 2 columns]"
      ]
     },
     "execution_count": 75,
     "metadata": {},
     "output_type": "execute_result"
    }
   ],
   "source": [
    "# Scrape the rarity of all the Pals\n",
    "def scrape_pal_rarity(pal_df, url = \"https://palworld.gg/pals\"):\n",
    "    \"\"\"\n",
    "    Scrape the rarity of each Pal listed in the database.\n",
    "\n",
    "    Args:\n",
    "        url (str): The URL of the database page, assumed to be the current link unless otherwise specified.\n",
    "        pal_df (DataFrame): The DataFrame of Pal data to update.\n",
    "\n",
    "    Returns:\n",
    "        pal_df (DataFrame): The DataFrame given, with the rarity of each Pal added under a new column.\n",
    "    \"\"\"\n",
    "    soup = BeautifulSoup(requests.get(url).text)\n",
    "\n",
    "    # Find all Pals, then find each of their rarities.\n",
    "    pal_tag = soup.find_all(\"div\", class_ = \"pal\")\n",
    "    for pal in pal_tag:\n",
    "\n",
    "        # Remove empty Pal entries.\n",
    "        if pal.attrs[\"style\"] == \"display:none;\":\n",
    "            continue\n",
    "\n",
    "        # The \"name\" class is used twice in each Pal entry, first for their name, then for their rarity.\n",
    "        name_class = pal.find_all(\"div\", class_ = \"name\")\n",
    "        # (Using next_element here rather than .text to avoid also getting the text from the nested children.)\n",
    "        # Add the rarity of the Pal to the DataFrame under its name.\n",
    "        pal_df.loc[name_class[0].next_element.strip(), \"Rarity\"] = name_class[1].next_element\n",
    "\n",
    "    return pal_df\n",
    "\n",
    "\n",
    "pal_frame = scrape_pal_rarity(pal_frame)\n",
    "pal_frame"
   ]
  },
  {
   "cell_type": "code",
   "execution_count": null,
   "metadata": {},
   "outputs": [
    {
     "data": {
      "text/html": [
       "<div>\n",
       "<style scoped>\n",
       "    .dataframe tbody tr th:only-of-type {\n",
       "        vertical-align: middle;\n",
       "    }\n",
       "\n",
       "    .dataframe tbody tr th {\n",
       "        vertical-align: top;\n",
       "    }\n",
       "\n",
       "    .dataframe thead th {\n",
       "        text-align: right;\n",
       "    }\n",
       "</style>\n",
       "<table border=\"1\" class=\"dataframe\">\n",
       "  <thead>\n",
       "    <tr style=\"text-align: right;\">\n",
       "      <th></th>\n",
       "      <th>ID</th>\n",
       "      <th>Rarity</th>\n",
       "      <th>Earth</th>\n",
       "      <th>Fire</th>\n",
       "      <th>Dragon</th>\n",
       "      <th>Dark</th>\n",
       "      <th>Electricity</th>\n",
       "      <th>Water</th>\n",
       "      <th>Ice</th>\n",
       "      <th>Leaf</th>\n",
       "      <th>Normal</th>\n",
       "    </tr>\n",
       "  </thead>\n",
       "  <tbody>\n",
       "    <tr>\n",
       "      <th>Anubis</th>\n",
       "      <td>#100</td>\n",
       "      <td>Epic</td>\n",
       "      <td>True</td>\n",
       "      <td>False</td>\n",
       "      <td>False</td>\n",
       "      <td>False</td>\n",
       "      <td>False</td>\n",
       "      <td>False</td>\n",
       "      <td>False</td>\n",
       "      <td>False</td>\n",
       "      <td>False</td>\n",
       "    </tr>\n",
       "    <tr>\n",
       "      <th>Arsox</th>\n",
       "      <td>#42</td>\n",
       "      <td>Common</td>\n",
       "      <td>False</td>\n",
       "      <td>True</td>\n",
       "      <td>False</td>\n",
       "      <td>False</td>\n",
       "      <td>False</td>\n",
       "      <td>False</td>\n",
       "      <td>False</td>\n",
       "      <td>False</td>\n",
       "      <td>False</td>\n",
       "    </tr>\n",
       "    <tr>\n",
       "      <th>Astegon</th>\n",
       "      <td>#98</td>\n",
       "      <td>Epic</td>\n",
       "      <td>False</td>\n",
       "      <td>False</td>\n",
       "      <td>True</td>\n",
       "      <td>True</td>\n",
       "      <td>False</td>\n",
       "      <td>False</td>\n",
       "      <td>False</td>\n",
       "      <td>False</td>\n",
       "      <td>False</td>\n",
       "    </tr>\n",
       "    <tr>\n",
       "      <th>Azurmane</th>\n",
       "      <td>#136</td>\n",
       "      <td>Rare</td>\n",
       "      <td>False</td>\n",
       "      <td>False</td>\n",
       "      <td>False</td>\n",
       "      <td>False</td>\n",
       "      <td>True</td>\n",
       "      <td>False</td>\n",
       "      <td>False</td>\n",
       "      <td>False</td>\n",
       "      <td>False</td>\n",
       "    </tr>\n",
       "    <tr>\n",
       "      <th>Azurobe</th>\n",
       "      <td>#82</td>\n",
       "      <td>Rare</td>\n",
       "      <td>False</td>\n",
       "      <td>False</td>\n",
       "      <td>True</td>\n",
       "      <td>False</td>\n",
       "      <td>False</td>\n",
       "      <td>True</td>\n",
       "      <td>False</td>\n",
       "      <td>False</td>\n",
       "      <td>False</td>\n",
       "    </tr>\n",
       "    <tr>\n",
       "      <th>...</th>\n",
       "      <td>...</td>\n",
       "      <td>...</td>\n",
       "      <td>...</td>\n",
       "      <td>...</td>\n",
       "      <td>...</td>\n",
       "      <td>...</td>\n",
       "      <td>...</td>\n",
       "      <td>...</td>\n",
       "      <td>...</td>\n",
       "      <td>...</td>\n",
       "      <td>...</td>\n",
       "    </tr>\n",
       "    <tr>\n",
       "      <th>Wumpo Botan</th>\n",
       "      <td>#91</td>\n",
       "      <td>Epic</td>\n",
       "      <td>False</td>\n",
       "      <td>False</td>\n",
       "      <td>False</td>\n",
       "      <td>False</td>\n",
       "      <td>False</td>\n",
       "      <td>False</td>\n",
       "      <td>False</td>\n",
       "      <td>True</td>\n",
       "      <td>False</td>\n",
       "    </tr>\n",
       "    <tr>\n",
       "      <th>Xenogard</th>\n",
       "      <td>#126</td>\n",
       "      <td>Epic</td>\n",
       "      <td>False</td>\n",
       "      <td>False</td>\n",
       "      <td>True</td>\n",
       "      <td>False</td>\n",
       "      <td>False</td>\n",
       "      <td>False</td>\n",
       "      <td>False</td>\n",
       "      <td>False</td>\n",
       "      <td>False</td>\n",
       "    </tr>\n",
       "    <tr>\n",
       "      <th>Xenolord</th>\n",
       "      <td>#127</td>\n",
       "      <td>Epic</td>\n",
       "      <td>False</td>\n",
       "      <td>False</td>\n",
       "      <td>True</td>\n",
       "      <td>True</td>\n",
       "      <td>False</td>\n",
       "      <td>False</td>\n",
       "      <td>False</td>\n",
       "      <td>False</td>\n",
       "      <td>False</td>\n",
       "    </tr>\n",
       "    <tr>\n",
       "      <th>Xenovader</th>\n",
       "      <td>#125</td>\n",
       "      <td>Rare</td>\n",
       "      <td>False</td>\n",
       "      <td>False</td>\n",
       "      <td>False</td>\n",
       "      <td>True</td>\n",
       "      <td>False</td>\n",
       "      <td>False</td>\n",
       "      <td>False</td>\n",
       "      <td>False</td>\n",
       "      <td>False</td>\n",
       "    </tr>\n",
       "    <tr>\n",
       "      <th>Yakumo</th>\n",
       "      <td>#121</td>\n",
       "      <td>Common</td>\n",
       "      <td>False</td>\n",
       "      <td>False</td>\n",
       "      <td>False</td>\n",
       "      <td>False</td>\n",
       "      <td>False</td>\n",
       "      <td>False</td>\n",
       "      <td>False</td>\n",
       "      <td>False</td>\n",
       "      <td>True</td>\n",
       "    </tr>\n",
       "  </tbody>\n",
       "</table>\n",
       "<p>225 rows × 11 columns</p>\n",
       "</div>"
      ],
      "text/plain": [
       "               ID  Rarity  Earth   Fire Dragon   Dark Electricity  Water  \\\n",
       "Anubis       #100    Epic   True  False  False  False       False  False   \n",
       "Arsox         #42  Common  False   True  False  False       False  False   \n",
       "Astegon       #98    Epic  False  False   True   True       False  False   \n",
       "Azurmane     #136    Rare  False  False  False  False        True  False   \n",
       "Azurobe       #82    Rare  False  False   True  False       False   True   \n",
       "...           ...     ...    ...    ...    ...    ...         ...    ...   \n",
       "Wumpo Botan   #91    Epic  False  False  False  False       False  False   \n",
       "Xenogard     #126    Epic  False  False   True  False       False  False   \n",
       "Xenolord     #127    Epic  False  False   True   True       False  False   \n",
       "Xenovader    #125    Rare  False  False  False   True       False  False   \n",
       "Yakumo       #121  Common  False  False  False  False       False  False   \n",
       "\n",
       "               Ice   Leaf Normal  \n",
       "Anubis       False  False  False  \n",
       "Arsox        False  False  False  \n",
       "Astegon      False  False  False  \n",
       "Azurmane     False  False  False  \n",
       "Azurobe      False  False  False  \n",
       "...            ...    ...    ...  \n",
       "Wumpo Botan  False   True  False  \n",
       "Xenogard     False  False  False  \n",
       "Xenolord     False  False  False  \n",
       "Xenovader    False  False  False  \n",
       "Yakumo       False  False   True  \n",
       "\n",
       "[225 rows x 11 columns]"
      ]
     },
     "execution_count": 76,
     "metadata": {},
     "output_type": "execute_result"
    }
   ],
   "source": [
    "# Scrape the elements of the Pals\n",
    "def scrape_pal_elements(pal_df, url = \"https://palworld.gg/pals\"):\n",
    "    \"\"\"\n",
    "    Scrape the element or elements of each Pal listed in the database.\n",
    "\n",
    "    Args:\n",
    "        url (str): The URL of the database page, assumed to be the current link unless otherwise specified.\n",
    "        pal_df (DataFrame): The DataFrame of Pal data to update.\n",
    "\n",
    "    Returns:\n",
    "        pal_df (DataFrame): The DataFrame given, with a dummy variable added for each element,\n",
    "        True meaning that a Pal does belong to them and False for not.\n",
    "    \"\"\"\n",
    "    soup = BeautifulSoup(requests.get(url).text)\n",
    "\n",
    "    # Find each Pal entry.\n",
    "    pal_tag = soup.find_all(\"div\", class_ = \"pal\")\n",
    "    for pal in pal_tag:\n",
    "        # Remove empty Pal entries.\n",
    "        if pal.attrs[\"style\"] == \"display:none;\":\n",
    "            continue\n",
    "\n",
    "        # Load the individual entry page for the Pal.\n",
    "        pal_page = requests.get(\"https://palworld.gg\" + pal.a.attrs[\"href\"]).text\n",
    "        pal_soup = BeautifulSoup(pal_page)\n",
    "\n",
    "        # Scrape the Pal's name.\n",
    "        pal_name = pal_soup.find(\"h1\", class_ = \"name\").text.strip()\n",
    "\n",
    "        # Initialize all the element column values for this Pal to False, as none have been found yet.\n",
    "        pal_df.loc[pal_name, [\"Earth\", \"Fire\", \"Dragon\", \"Dark\", \"Electricity\", \"Water\", \"Ice\", \"Leaf\", \"Normal\"]] = False\n",
    "\n",
    "        # Scrape the elements of the Pal.\n",
    "        pal_elems_tags = pal_soup.find(\"div\", class_ = \"elements\").find_all(\"div\", class_ = \"name\")\n",
    "        for tag in pal_elems_tags:\n",
    "            # For each found element, change the Pal's value in the corresponding column to True.\n",
    "            pal_df.loc[pal_name, tag.text] = True\n",
    "        \n",
    "    return pal_df\n",
    "\n",
    "pal_frame = scrape_pal_elements(pal_frame)\n",
    "pal_frame"
   ]
  },
  {
   "cell_type": "code",
   "execution_count": null,
   "metadata": {},
   "outputs": [],
   "source": [
    "# Create Element Type column from one-hot element columns\n",
    "element_cols = [\"Earth\", \"Fire\", \"Dragon\", \"Dark\", \"Electricity\", \"Water\", \"Ice\", \"Leaf\", \"Normal\"]\n",
    "\n",
    "def get_element_type(row):\n",
    "    for col in element_cols:\n",
    "        if col in row.index and row[col] > 0:\n",
    "            return col\n",
    "    return \"Unknown\"\n",
    "\n",
    "pal_frame[\"Element Type\"] = pal_frame.apply(get_element_type, axis=1)\n",
    "\n",
    "# Define fixed colors for each element\n",
    "element_colors = {\n",
    "    \"Earth\": \"#8B4513\",        # SaddleBrown\n",
    "    \"Fire\": \"#FF4500\",         # OrangeRed\n",
    "    \"Dragon\": \"#800080\",       # Purple\n",
    "    \"Dark\": \"#2F4F4F\",         # DarkSlateGray\n",
    "    \"Electricity\": \"#FFD700\",  # Gold\n",
    "    \"Water\": \"#1E90FF\",        # DodgerBlue\n",
    "    \"Ice\": \"#00CED1\",          # DarkTurquoise\n",
    "    \"Leaf\": \"#228B22\",         # ForestGreen\n",
    "    \"Normal\": \"#A9A9A9\",       # DarkGray\n",
    "    \"Unknown\": \"#808080\"       # Gray\n",
    "}"
   ]
  },
  {
   "cell_type": "code",
   "execution_count": null,
   "metadata": {},
   "outputs": [
    {
     "data": {
      "text/html": [
       "<div>\n",
       "<style scoped>\n",
       "    .dataframe tbody tr th:only-of-type {\n",
       "        vertical-align: middle;\n",
       "    }\n",
       "\n",
       "    .dataframe tbody tr th {\n",
       "        vertical-align: top;\n",
       "    }\n",
       "\n",
       "    .dataframe thead th {\n",
       "        text-align: right;\n",
       "    }\n",
       "</style>\n",
       "<table border=\"1\" class=\"dataframe\">\n",
       "  <thead>\n",
       "    <tr style=\"text-align: right;\">\n",
       "      <th></th>\n",
       "      <th>ID</th>\n",
       "      <th>Rarity</th>\n",
       "      <th>Earth</th>\n",
       "      <th>Fire</th>\n",
       "      <th>Dragon</th>\n",
       "      <th>Dark</th>\n",
       "      <th>Electricity</th>\n",
       "      <th>Water</th>\n",
       "      <th>Ice</th>\n",
       "      <th>Leaf</th>\n",
       "      <th>...</th>\n",
       "      <th>Number of work suitabilities</th>\n",
       "      <th>Deforesting</th>\n",
       "      <th>Kindling</th>\n",
       "      <th>Gathering</th>\n",
       "      <th>Generating Electricity</th>\n",
       "      <th>Watering</th>\n",
       "      <th>Cooling</th>\n",
       "      <th>Farming</th>\n",
       "      <th>Medicine Production</th>\n",
       "      <th>Planting</th>\n",
       "    </tr>\n",
       "  </thead>\n",
       "  <tbody>\n",
       "    <tr>\n",
       "      <th>Anubis</th>\n",
       "      <td>#100</td>\n",
       "      <td>Epic</td>\n",
       "      <td>True</td>\n",
       "      <td>False</td>\n",
       "      <td>False</td>\n",
       "      <td>False</td>\n",
       "      <td>False</td>\n",
       "      <td>False</td>\n",
       "      <td>False</td>\n",
       "      <td>False</td>\n",
       "      <td>...</td>\n",
       "      <td>3.0</td>\n",
       "      <td>NaN</td>\n",
       "      <td>NaN</td>\n",
       "      <td>NaN</td>\n",
       "      <td>NaN</td>\n",
       "      <td>NaN</td>\n",
       "      <td>NaN</td>\n",
       "      <td>NaN</td>\n",
       "      <td>NaN</td>\n",
       "      <td>NaN</td>\n",
       "    </tr>\n",
       "    <tr>\n",
       "      <th>Arsox</th>\n",
       "      <td>#42</td>\n",
       "      <td>Common</td>\n",
       "      <td>False</td>\n",
       "      <td>True</td>\n",
       "      <td>False</td>\n",
       "      <td>False</td>\n",
       "      <td>False</td>\n",
       "      <td>False</td>\n",
       "      <td>False</td>\n",
       "      <td>False</td>\n",
       "      <td>...</td>\n",
       "      <td>2.0</td>\n",
       "      <td>1</td>\n",
       "      <td>2</td>\n",
       "      <td>NaN</td>\n",
       "      <td>NaN</td>\n",
       "      <td>NaN</td>\n",
       "      <td>NaN</td>\n",
       "      <td>NaN</td>\n",
       "      <td>NaN</td>\n",
       "      <td>NaN</td>\n",
       "    </tr>\n",
       "    <tr>\n",
       "      <th>Astegon</th>\n",
       "      <td>#98</td>\n",
       "      <td>Epic</td>\n",
       "      <td>False</td>\n",
       "      <td>False</td>\n",
       "      <td>True</td>\n",
       "      <td>True</td>\n",
       "      <td>False</td>\n",
       "      <td>False</td>\n",
       "      <td>False</td>\n",
       "      <td>False</td>\n",
       "      <td>...</td>\n",
       "      <td>2.0</td>\n",
       "      <td>NaN</td>\n",
       "      <td>NaN</td>\n",
       "      <td>NaN</td>\n",
       "      <td>NaN</td>\n",
       "      <td>NaN</td>\n",
       "      <td>NaN</td>\n",
       "      <td>NaN</td>\n",
       "      <td>NaN</td>\n",
       "      <td>NaN</td>\n",
       "    </tr>\n",
       "    <tr>\n",
       "      <th>Azurmane</th>\n",
       "      <td>#136</td>\n",
       "      <td>Rare</td>\n",
       "      <td>False</td>\n",
       "      <td>False</td>\n",
       "      <td>False</td>\n",
       "      <td>False</td>\n",
       "      <td>True</td>\n",
       "      <td>False</td>\n",
       "      <td>False</td>\n",
       "      <td>False</td>\n",
       "      <td>...</td>\n",
       "      <td>2.0</td>\n",
       "      <td>NaN</td>\n",
       "      <td>NaN</td>\n",
       "      <td>1</td>\n",
       "      <td>4</td>\n",
       "      <td>NaN</td>\n",
       "      <td>NaN</td>\n",
       "      <td>NaN</td>\n",
       "      <td>NaN</td>\n",
       "      <td>NaN</td>\n",
       "    </tr>\n",
       "    <tr>\n",
       "      <th>Azurobe</th>\n",
       "      <td>#82</td>\n",
       "      <td>Rare</td>\n",
       "      <td>False</td>\n",
       "      <td>False</td>\n",
       "      <td>True</td>\n",
       "      <td>False</td>\n",
       "      <td>False</td>\n",
       "      <td>True</td>\n",
       "      <td>False</td>\n",
       "      <td>False</td>\n",
       "      <td>...</td>\n",
       "      <td>1.0</td>\n",
       "      <td>NaN</td>\n",
       "      <td>NaN</td>\n",
       "      <td>NaN</td>\n",
       "      <td>NaN</td>\n",
       "      <td>3</td>\n",
       "      <td>NaN</td>\n",
       "      <td>NaN</td>\n",
       "      <td>NaN</td>\n",
       "      <td>NaN</td>\n",
       "    </tr>\n",
       "    <tr>\n",
       "      <th>...</th>\n",
       "      <td>...</td>\n",
       "      <td>...</td>\n",
       "      <td>...</td>\n",
       "      <td>...</td>\n",
       "      <td>...</td>\n",
       "      <td>...</td>\n",
       "      <td>...</td>\n",
       "      <td>...</td>\n",
       "      <td>...</td>\n",
       "      <td>...</td>\n",
       "      <td>...</td>\n",
       "      <td>...</td>\n",
       "      <td>...</td>\n",
       "      <td>...</td>\n",
       "      <td>...</td>\n",
       "      <td>...</td>\n",
       "      <td>...</td>\n",
       "      <td>...</td>\n",
       "      <td>...</td>\n",
       "      <td>...</td>\n",
       "      <td>...</td>\n",
       "    </tr>\n",
       "    <tr>\n",
       "      <th>Wumpo Botan</th>\n",
       "      <td>#91</td>\n",
       "      <td>Epic</td>\n",
       "      <td>False</td>\n",
       "      <td>False</td>\n",
       "      <td>False</td>\n",
       "      <td>False</td>\n",
       "      <td>False</td>\n",
       "      <td>False</td>\n",
       "      <td>False</td>\n",
       "      <td>True</td>\n",
       "      <td>...</td>\n",
       "      <td>4.0</td>\n",
       "      <td>3</td>\n",
       "      <td>NaN</td>\n",
       "      <td>NaN</td>\n",
       "      <td>NaN</td>\n",
       "      <td>NaN</td>\n",
       "      <td>NaN</td>\n",
       "      <td>NaN</td>\n",
       "      <td>NaN</td>\n",
       "      <td>1</td>\n",
       "    </tr>\n",
       "    <tr>\n",
       "      <th>Xenogard</th>\n",
       "      <td>#126</td>\n",
       "      <td>Epic</td>\n",
       "      <td>False</td>\n",
       "      <td>False</td>\n",
       "      <td>True</td>\n",
       "      <td>False</td>\n",
       "      <td>False</td>\n",
       "      <td>False</td>\n",
       "      <td>False</td>\n",
       "      <td>False</td>\n",
       "      <td>...</td>\n",
       "      <td>1.0</td>\n",
       "      <td>NaN</td>\n",
       "      <td>NaN</td>\n",
       "      <td>NaN</td>\n",
       "      <td>NaN</td>\n",
       "      <td>NaN</td>\n",
       "      <td>NaN</td>\n",
       "      <td>NaN</td>\n",
       "      <td>NaN</td>\n",
       "      <td>NaN</td>\n",
       "    </tr>\n",
       "    <tr>\n",
       "      <th>Xenolord</th>\n",
       "      <td>#127</td>\n",
       "      <td>Epic</td>\n",
       "      <td>False</td>\n",
       "      <td>False</td>\n",
       "      <td>True</td>\n",
       "      <td>True</td>\n",
       "      <td>False</td>\n",
       "      <td>False</td>\n",
       "      <td>False</td>\n",
       "      <td>False</td>\n",
       "      <td>...</td>\n",
       "      <td>1.0</td>\n",
       "      <td>NaN</td>\n",
       "      <td>NaN</td>\n",
       "      <td>1</td>\n",
       "      <td>NaN</td>\n",
       "      <td>NaN</td>\n",
       "      <td>NaN</td>\n",
       "      <td>NaN</td>\n",
       "      <td>NaN</td>\n",
       "      <td>NaN</td>\n",
       "    </tr>\n",
       "    <tr>\n",
       "      <th>Xenovader</th>\n",
       "      <td>#125</td>\n",
       "      <td>Rare</td>\n",
       "      <td>False</td>\n",
       "      <td>False</td>\n",
       "      <td>False</td>\n",
       "      <td>True</td>\n",
       "      <td>False</td>\n",
       "      <td>False</td>\n",
       "      <td>False</td>\n",
       "      <td>False</td>\n",
       "      <td>...</td>\n",
       "      <td>2.0</td>\n",
       "      <td>2</td>\n",
       "      <td>NaN</td>\n",
       "      <td>NaN</td>\n",
       "      <td>NaN</td>\n",
       "      <td>NaN</td>\n",
       "      <td>NaN</td>\n",
       "      <td>NaN</td>\n",
       "      <td>NaN</td>\n",
       "      <td>NaN</td>\n",
       "    </tr>\n",
       "    <tr>\n",
       "      <th>Yakumo</th>\n",
       "      <td>#121</td>\n",
       "      <td>Common</td>\n",
       "      <td>False</td>\n",
       "      <td>False</td>\n",
       "      <td>False</td>\n",
       "      <td>False</td>\n",
       "      <td>False</td>\n",
       "      <td>False</td>\n",
       "      <td>False</td>\n",
       "      <td>False</td>\n",
       "      <td>...</td>\n",
       "      <td>1.0</td>\n",
       "      <td>NaN</td>\n",
       "      <td>NaN</td>\n",
       "      <td>2</td>\n",
       "      <td>NaN</td>\n",
       "      <td>NaN</td>\n",
       "      <td>NaN</td>\n",
       "      <td>NaN</td>\n",
       "      <td>NaN</td>\n",
       "      <td>NaN</td>\n",
       "    </tr>\n",
       "  </tbody>\n",
       "</table>\n",
       "<p>225 rows × 25 columns</p>\n",
       "</div>"
      ],
      "text/plain": [
       "               ID  Rarity  Earth   Fire Dragon   Dark Electricity  Water  \\\n",
       "Anubis       #100    Epic   True  False  False  False       False  False   \n",
       "Arsox         #42  Common  False   True  False  False       False  False   \n",
       "Astegon       #98    Epic  False  False   True   True       False  False   \n",
       "Azurmane     #136    Rare  False  False  False  False        True  False   \n",
       "Azurobe       #82    Rare  False  False   True  False       False   True   \n",
       "...           ...     ...    ...    ...    ...    ...         ...    ...   \n",
       "Wumpo Botan   #91    Epic  False  False  False  False       False  False   \n",
       "Xenogard     #126    Epic  False  False   True  False       False  False   \n",
       "Xenolord     #127    Epic  False  False   True   True       False  False   \n",
       "Xenovader    #125    Rare  False  False  False   True       False  False   \n",
       "Yakumo       #121  Common  False  False  False  False       False  False   \n",
       "\n",
       "               Ice   Leaf  ... Number of work suitabilities Deforesting  \\\n",
       "Anubis       False  False  ...                          3.0         NaN   \n",
       "Arsox        False  False  ...                          2.0           1   \n",
       "Astegon      False  False  ...                          2.0         NaN   \n",
       "Azurmane     False  False  ...                          2.0         NaN   \n",
       "Azurobe      False  False  ...                          1.0         NaN   \n",
       "...            ...    ...  ...                          ...         ...   \n",
       "Wumpo Botan  False   True  ...                          4.0           3   \n",
       "Xenogard     False  False  ...                          1.0         NaN   \n",
       "Xenolord     False  False  ...                          1.0         NaN   \n",
       "Xenovader    False  False  ...                          2.0           2   \n",
       "Yakumo       False  False  ...                          1.0         NaN   \n",
       "\n",
       "            Kindling Gathering Generating Electricity  Watering Cooling  \\\n",
       "Anubis           NaN       NaN                    NaN       NaN     NaN   \n",
       "Arsox              2       NaN                    NaN       NaN     NaN   \n",
       "Astegon          NaN       NaN                    NaN       NaN     NaN   \n",
       "Azurmane         NaN         1                      4       NaN     NaN   \n",
       "Azurobe          NaN       NaN                    NaN         3     NaN   \n",
       "...              ...       ...                    ...       ...     ...   \n",
       "Wumpo Botan      NaN       NaN                    NaN       NaN     NaN   \n",
       "Xenogard         NaN       NaN                    NaN       NaN     NaN   \n",
       "Xenolord         NaN         1                    NaN       NaN     NaN   \n",
       "Xenovader        NaN       NaN                    NaN       NaN     NaN   \n",
       "Yakumo           NaN         2                    NaN       NaN     NaN   \n",
       "\n",
       "            Farming Medicine Production Planting  \n",
       "Anubis          NaN                 NaN      NaN  \n",
       "Arsox           NaN                 NaN      NaN  \n",
       "Astegon         NaN                 NaN      NaN  \n",
       "Azurmane        NaN                 NaN      NaN  \n",
       "Azurobe         NaN                 NaN      NaN  \n",
       "...             ...                 ...      ...  \n",
       "Wumpo Botan     NaN                 NaN        1  \n",
       "Xenogard        NaN                 NaN      NaN  \n",
       "Xenolord        NaN                 NaN      NaN  \n",
       "Xenovader       NaN                 NaN      NaN  \n",
       "Yakumo          NaN                 NaN      NaN  \n",
       "\n",
       "[225 rows x 25 columns]"
      ]
     },
     "execution_count": 78,
     "metadata": {},
     "output_type": "execute_result"
    }
   ],
   "source": [
    "# Scrape the work suitability of the Pals\n",
    "def scrape_pal_work(pal_df, url = \"https://palworld.gg/pals\"):\n",
    "    \"\"\"\n",
    "    Scrape the work suitabilities of each Pal listed in the database, including the level of each work type.\n",
    "\n",
    "    Args:\n",
    "        url (str): The URL of the database page, assumed to be the current link unless otherwise specified.\n",
    "        pal_df (DataFrame): The DataFrame of Pal data to update.\n",
    "\n",
    "    Returns:\n",
    "        pal_df (DataFrame): The DataFrame given, with 13 new columns added: 12 representing the work suitabilities\n",
    "        of Pals, each filled with NaN or the Pal's skill level for that task, and one column counting the number of suitabilities\n",
    "        the Pal has in total.\n",
    "    \"\"\"\n",
    "    soup = BeautifulSoup(requests.get(url).text)\n",
    "\n",
    "    # Find each Pal entry.\n",
    "    pal_tag = soup.find_all(\"div\", class_ = \"pal\")\n",
    "    for pal in pal_tag:\n",
    "        # Remove empty Pal entries.\n",
    "        if pal.attrs[\"style\"] == \"display:none;\":\n",
    "            continue\n",
    "\n",
    "        # Load the individual entry page for the Pal.\n",
    "        pal_page = requests.get(\"https://palworld.gg\" + pal.a.attrs[\"href\"]).text\n",
    "        pal_soup = BeautifulSoup(pal_page)\n",
    "\n",
    "        # Scrape the name of the Pal.\n",
    "        pal_name = pal_soup.find(\"h1\", class_ = \"name\").text.strip()\n",
    "\n",
    "        # Scrape the suitabilities of the Pal, and for each one that is found add its level to the column with the suitability's name.\n",
    "        pal_work_tags = pal_soup.find(\"div\", class_ = \"works\").find_all(\"div\", class_ = \"active item\")\n",
    "        for tag in pal_work_tags:\n",
    "            pal_df.loc[pal_name, tag.find(\"div\", class_ = \"name\").text] = tag.find(\"span\", class_ = \"value\").text\n",
    "        # Add the pal's total number of suitabilities as a new column.\n",
    "        pal_df.loc[pal_name, \"Number of work suitabilities\"] = len(pal_work_tags)\n",
    "        \n",
    "    return pal_df\n",
    "\n",
    "pal_frame = scrape_pal_work(pal_frame)\n",
    "pal_frame"
   ]
  },
  {
   "cell_type": "code",
   "execution_count": null,
   "metadata": {},
   "outputs": [
    {
     "data": {
      "text/html": [
       "<div>\n",
       "<style scoped>\n",
       "    .dataframe tbody tr th:only-of-type {\n",
       "        vertical-align: middle;\n",
       "    }\n",
       "\n",
       "    .dataframe tbody tr th {\n",
       "        vertical-align: top;\n",
       "    }\n",
       "\n",
       "    .dataframe thead th {\n",
       "        text-align: right;\n",
       "    }\n",
       "</style>\n",
       "<table border=\"1\" class=\"dataframe\">\n",
       "  <thead>\n",
       "    <tr style=\"text-align: right;\">\n",
       "      <th></th>\n",
       "      <th>ID</th>\n",
       "      <th>Rarity</th>\n",
       "      <th>Earth</th>\n",
       "      <th>Fire</th>\n",
       "      <th>Dragon</th>\n",
       "      <th>Dark</th>\n",
       "      <th>Electricity</th>\n",
       "      <th>Water</th>\n",
       "      <th>Ice</th>\n",
       "      <th>Leaf</th>\n",
       "      <th>...</th>\n",
       "      <th>Deforesting</th>\n",
       "      <th>Kindling</th>\n",
       "      <th>Gathering</th>\n",
       "      <th>Generating Electricity</th>\n",
       "      <th>Watering</th>\n",
       "      <th>Cooling</th>\n",
       "      <th>Farming</th>\n",
       "      <th>Medicine Production</th>\n",
       "      <th>Planting</th>\n",
       "      <th>HP</th>\n",
       "    </tr>\n",
       "  </thead>\n",
       "  <tbody>\n",
       "    <tr>\n",
       "      <th>Anubis</th>\n",
       "      <td>#100</td>\n",
       "      <td>Epic</td>\n",
       "      <td>True</td>\n",
       "      <td>False</td>\n",
       "      <td>False</td>\n",
       "      <td>False</td>\n",
       "      <td>False</td>\n",
       "      <td>False</td>\n",
       "      <td>False</td>\n",
       "      <td>False</td>\n",
       "      <td>...</td>\n",
       "      <td>NaN</td>\n",
       "      <td>NaN</td>\n",
       "      <td>NaN</td>\n",
       "      <td>NaN</td>\n",
       "      <td>NaN</td>\n",
       "      <td>NaN</td>\n",
       "      <td>NaN</td>\n",
       "      <td>NaN</td>\n",
       "      <td>NaN</td>\n",
       "      <td>120.0</td>\n",
       "    </tr>\n",
       "    <tr>\n",
       "      <th>Arsox</th>\n",
       "      <td>#42</td>\n",
       "      <td>Common</td>\n",
       "      <td>False</td>\n",
       "      <td>True</td>\n",
       "      <td>False</td>\n",
       "      <td>False</td>\n",
       "      <td>False</td>\n",
       "      <td>False</td>\n",
       "      <td>False</td>\n",
       "      <td>False</td>\n",
       "      <td>...</td>\n",
       "      <td>1</td>\n",
       "      <td>2</td>\n",
       "      <td>NaN</td>\n",
       "      <td>NaN</td>\n",
       "      <td>NaN</td>\n",
       "      <td>NaN</td>\n",
       "      <td>NaN</td>\n",
       "      <td>NaN</td>\n",
       "      <td>NaN</td>\n",
       "      <td>85.0</td>\n",
       "    </tr>\n",
       "    <tr>\n",
       "      <th>Astegon</th>\n",
       "      <td>#98</td>\n",
       "      <td>Epic</td>\n",
       "      <td>False</td>\n",
       "      <td>False</td>\n",
       "      <td>True</td>\n",
       "      <td>True</td>\n",
       "      <td>False</td>\n",
       "      <td>False</td>\n",
       "      <td>False</td>\n",
       "      <td>False</td>\n",
       "      <td>...</td>\n",
       "      <td>NaN</td>\n",
       "      <td>NaN</td>\n",
       "      <td>NaN</td>\n",
       "      <td>NaN</td>\n",
       "      <td>NaN</td>\n",
       "      <td>NaN</td>\n",
       "      <td>NaN</td>\n",
       "      <td>NaN</td>\n",
       "      <td>NaN</td>\n",
       "      <td>100.0</td>\n",
       "    </tr>\n",
       "    <tr>\n",
       "      <th>Azurmane</th>\n",
       "      <td>#136</td>\n",
       "      <td>Rare</td>\n",
       "      <td>False</td>\n",
       "      <td>False</td>\n",
       "      <td>False</td>\n",
       "      <td>False</td>\n",
       "      <td>True</td>\n",
       "      <td>False</td>\n",
       "      <td>False</td>\n",
       "      <td>False</td>\n",
       "      <td>...</td>\n",
       "      <td>NaN</td>\n",
       "      <td>NaN</td>\n",
       "      <td>1</td>\n",
       "      <td>4</td>\n",
       "      <td>NaN</td>\n",
       "      <td>NaN</td>\n",
       "      <td>NaN</td>\n",
       "      <td>NaN</td>\n",
       "      <td>NaN</td>\n",
       "      <td>130.0</td>\n",
       "    </tr>\n",
       "    <tr>\n",
       "      <th>Azurobe</th>\n",
       "      <td>#82</td>\n",
       "      <td>Rare</td>\n",
       "      <td>False</td>\n",
       "      <td>False</td>\n",
       "      <td>True</td>\n",
       "      <td>False</td>\n",
       "      <td>False</td>\n",
       "      <td>True</td>\n",
       "      <td>False</td>\n",
       "      <td>False</td>\n",
       "      <td>...</td>\n",
       "      <td>NaN</td>\n",
       "      <td>NaN</td>\n",
       "      <td>NaN</td>\n",
       "      <td>NaN</td>\n",
       "      <td>3</td>\n",
       "      <td>NaN</td>\n",
       "      <td>NaN</td>\n",
       "      <td>NaN</td>\n",
       "      <td>NaN</td>\n",
       "      <td>110.0</td>\n",
       "    </tr>\n",
       "    <tr>\n",
       "      <th>...</th>\n",
       "      <td>...</td>\n",
       "      <td>...</td>\n",
       "      <td>...</td>\n",
       "      <td>...</td>\n",
       "      <td>...</td>\n",
       "      <td>...</td>\n",
       "      <td>...</td>\n",
       "      <td>...</td>\n",
       "      <td>...</td>\n",
       "      <td>...</td>\n",
       "      <td>...</td>\n",
       "      <td>...</td>\n",
       "      <td>...</td>\n",
       "      <td>...</td>\n",
       "      <td>...</td>\n",
       "      <td>...</td>\n",
       "      <td>...</td>\n",
       "      <td>...</td>\n",
       "      <td>...</td>\n",
       "      <td>...</td>\n",
       "      <td>...</td>\n",
       "    </tr>\n",
       "    <tr>\n",
       "      <th>Wumpo Botan</th>\n",
       "      <td>#91</td>\n",
       "      <td>Epic</td>\n",
       "      <td>False</td>\n",
       "      <td>False</td>\n",
       "      <td>False</td>\n",
       "      <td>False</td>\n",
       "      <td>False</td>\n",
       "      <td>False</td>\n",
       "      <td>False</td>\n",
       "      <td>True</td>\n",
       "      <td>...</td>\n",
       "      <td>3</td>\n",
       "      <td>NaN</td>\n",
       "      <td>NaN</td>\n",
       "      <td>NaN</td>\n",
       "      <td>NaN</td>\n",
       "      <td>NaN</td>\n",
       "      <td>NaN</td>\n",
       "      <td>NaN</td>\n",
       "      <td>1</td>\n",
       "      <td>140.0</td>\n",
       "    </tr>\n",
       "    <tr>\n",
       "      <th>Xenogard</th>\n",
       "      <td>#126</td>\n",
       "      <td>Epic</td>\n",
       "      <td>False</td>\n",
       "      <td>False</td>\n",
       "      <td>True</td>\n",
       "      <td>False</td>\n",
       "      <td>False</td>\n",
       "      <td>False</td>\n",
       "      <td>False</td>\n",
       "      <td>False</td>\n",
       "      <td>...</td>\n",
       "      <td>NaN</td>\n",
       "      <td>NaN</td>\n",
       "      <td>NaN</td>\n",
       "      <td>NaN</td>\n",
       "      <td>NaN</td>\n",
       "      <td>NaN</td>\n",
       "      <td>NaN</td>\n",
       "      <td>NaN</td>\n",
       "      <td>NaN</td>\n",
       "      <td>110.0</td>\n",
       "    </tr>\n",
       "    <tr>\n",
       "      <th>Xenolord</th>\n",
       "      <td>#127</td>\n",
       "      <td>Epic</td>\n",
       "      <td>False</td>\n",
       "      <td>False</td>\n",
       "      <td>True</td>\n",
       "      <td>True</td>\n",
       "      <td>False</td>\n",
       "      <td>False</td>\n",
       "      <td>False</td>\n",
       "      <td>False</td>\n",
       "      <td>...</td>\n",
       "      <td>NaN</td>\n",
       "      <td>NaN</td>\n",
       "      <td>1</td>\n",
       "      <td>NaN</td>\n",
       "      <td>NaN</td>\n",
       "      <td>NaN</td>\n",
       "      <td>NaN</td>\n",
       "      <td>NaN</td>\n",
       "      <td>NaN</td>\n",
       "      <td>130.0</td>\n",
       "    </tr>\n",
       "    <tr>\n",
       "      <th>Xenovader</th>\n",
       "      <td>#125</td>\n",
       "      <td>Rare</td>\n",
       "      <td>False</td>\n",
       "      <td>False</td>\n",
       "      <td>False</td>\n",
       "      <td>True</td>\n",
       "      <td>False</td>\n",
       "      <td>False</td>\n",
       "      <td>False</td>\n",
       "      <td>False</td>\n",
       "      <td>...</td>\n",
       "      <td>2</td>\n",
       "      <td>NaN</td>\n",
       "      <td>NaN</td>\n",
       "      <td>NaN</td>\n",
       "      <td>NaN</td>\n",
       "      <td>NaN</td>\n",
       "      <td>NaN</td>\n",
       "      <td>NaN</td>\n",
       "      <td>NaN</td>\n",
       "      <td>90.0</td>\n",
       "    </tr>\n",
       "    <tr>\n",
       "      <th>Yakumo</th>\n",
       "      <td>#121</td>\n",
       "      <td>Common</td>\n",
       "      <td>False</td>\n",
       "      <td>False</td>\n",
       "      <td>False</td>\n",
       "      <td>False</td>\n",
       "      <td>False</td>\n",
       "      <td>False</td>\n",
       "      <td>False</td>\n",
       "      <td>False</td>\n",
       "      <td>...</td>\n",
       "      <td>NaN</td>\n",
       "      <td>NaN</td>\n",
       "      <td>2</td>\n",
       "      <td>NaN</td>\n",
       "      <td>NaN</td>\n",
       "      <td>NaN</td>\n",
       "      <td>NaN</td>\n",
       "      <td>NaN</td>\n",
       "      <td>NaN</td>\n",
       "      <td>85.0</td>\n",
       "    </tr>\n",
       "  </tbody>\n",
       "</table>\n",
       "<p>225 rows × 26 columns</p>\n",
       "</div>"
      ],
      "text/plain": [
       "               ID  Rarity  Earth   Fire Dragon   Dark Electricity  Water  \\\n",
       "Anubis       #100    Epic   True  False  False  False       False  False   \n",
       "Arsox         #42  Common  False   True  False  False       False  False   \n",
       "Astegon       #98    Epic  False  False   True   True       False  False   \n",
       "Azurmane     #136    Rare  False  False  False  False        True  False   \n",
       "Azurobe       #82    Rare  False  False   True  False       False   True   \n",
       "...           ...     ...    ...    ...    ...    ...         ...    ...   \n",
       "Wumpo Botan   #91    Epic  False  False  False  False       False  False   \n",
       "Xenogard     #126    Epic  False  False   True  False       False  False   \n",
       "Xenolord     #127    Epic  False  False   True   True       False  False   \n",
       "Xenovader    #125    Rare  False  False  False   True       False  False   \n",
       "Yakumo       #121  Common  False  False  False  False       False  False   \n",
       "\n",
       "               Ice   Leaf  ... Deforesting Kindling Gathering  \\\n",
       "Anubis       False  False  ...         NaN      NaN       NaN   \n",
       "Arsox        False  False  ...           1        2       NaN   \n",
       "Astegon      False  False  ...         NaN      NaN       NaN   \n",
       "Azurmane     False  False  ...         NaN      NaN         1   \n",
       "Azurobe      False  False  ...         NaN      NaN       NaN   \n",
       "...            ...    ...  ...         ...      ...       ...   \n",
       "Wumpo Botan  False   True  ...           3      NaN       NaN   \n",
       "Xenogard     False  False  ...         NaN      NaN       NaN   \n",
       "Xenolord     False  False  ...         NaN      NaN         1   \n",
       "Xenovader    False  False  ...           2      NaN       NaN   \n",
       "Yakumo       False  False  ...         NaN      NaN         2   \n",
       "\n",
       "            Generating Electricity Watering  Cooling Farming  \\\n",
       "Anubis                         NaN      NaN      NaN     NaN   \n",
       "Arsox                          NaN      NaN      NaN     NaN   \n",
       "Astegon                        NaN      NaN      NaN     NaN   \n",
       "Azurmane                         4      NaN      NaN     NaN   \n",
       "Azurobe                        NaN        3      NaN     NaN   \n",
       "...                            ...      ...      ...     ...   \n",
       "Wumpo Botan                    NaN      NaN      NaN     NaN   \n",
       "Xenogard                       NaN      NaN      NaN     NaN   \n",
       "Xenolord                       NaN      NaN      NaN     NaN   \n",
       "Xenovader                      NaN      NaN      NaN     NaN   \n",
       "Yakumo                         NaN      NaN      NaN     NaN   \n",
       "\n",
       "            Medicine Production Planting     HP  \n",
       "Anubis                      NaN      NaN  120.0  \n",
       "Arsox                       NaN      NaN   85.0  \n",
       "Astegon                     NaN      NaN  100.0  \n",
       "Azurmane                    NaN      NaN  130.0  \n",
       "Azurobe                     NaN      NaN  110.0  \n",
       "...                         ...      ...    ...  \n",
       "Wumpo Botan                 NaN        1  140.0  \n",
       "Xenogard                    NaN      NaN  110.0  \n",
       "Xenolord                    NaN      NaN  130.0  \n",
       "Xenovader                   NaN      NaN   90.0  \n",
       "Yakumo                      NaN      NaN   85.0  \n",
       "\n",
       "[225 rows x 26 columns]"
      ]
     },
     "execution_count": 79,
     "metadata": {},
     "output_type": "execute_result"
    }
   ],
   "source": [
    "# Scrape the HP of the Pals\n",
    "def scrape_pal_hp(pal_df, url = \"https://palworld.gg/pals\"):\n",
    "    \"\"\"\n",
    "    Scrape the HP of each Pal listed in the database.\n",
    "\n",
    "    Args:\n",
    "        url (str): The URL of the database page, assumed to be the current link unless otherwise specified.\n",
    "        pal_df (DataFrame): The DataFrame of Pal data to update.\n",
    "\n",
    "    Returns:\n",
    "        pal_df (DataFrame): The DataFrame given, with a new column representing the Pals' HPs.\n",
    "    \"\"\"\n",
    "    soup = BeautifulSoup(requests.get(url).text)\n",
    "\n",
    "    # Find each Pal entry.\n",
    "    pal_tag = soup.find_all(\"div\", class_ = \"pal\")\n",
    "    for pal in pal_tag:\n",
    "        # Remove empty Pal entries.\n",
    "        if pal.attrs[\"style\"] == \"display:none;\":\n",
    "            continue\n",
    "\n",
    "        # Load the individual entry page for the Pal.\n",
    "        pal_page = requests.get(\"https://palworld.gg\" + pal.a.attrs[\"href\"]).text\n",
    "        pal_soup = BeautifulSoup(pal_page)\n",
    "\n",
    "        # Scrape the name of the Pal.\n",
    "        pal_name = pal_soup.find(\"h1\", class_ = \"name\").text.strip()\n",
    "\n",
    "        # Scrape the HP of the pal (the first entry in the stats section) and add it to the HP column.\n",
    "        pal_hp = int(pal_soup.find(\"div\", class_ = \"stats\").find_all(\"div\", class_ = \"value\")[0].text)\n",
    "        pal_df.loc[pal_name, \"HP\"] = pal_hp\n",
    "        \n",
    "    return pal_df\n",
    "\n",
    "pal_frame = scrape_pal_hp(pal_frame)\n",
    "pal_frame"
   ]
  },
  {
   "cell_type": "code",
   "execution_count": null,
   "metadata": {},
   "outputs": [
    {
     "data": {
      "text/html": [
       "<div>\n",
       "<style scoped>\n",
       "    .dataframe tbody tr th:only-of-type {\n",
       "        vertical-align: middle;\n",
       "    }\n",
       "\n",
       "    .dataframe tbody tr th {\n",
       "        vertical-align: top;\n",
       "    }\n",
       "\n",
       "    .dataframe thead th {\n",
       "        text-align: right;\n",
       "    }\n",
       "</style>\n",
       "<table border=\"1\" class=\"dataframe\">\n",
       "  <thead>\n",
       "    <tr style=\"text-align: right;\">\n",
       "      <th></th>\n",
       "      <th>ID</th>\n",
       "      <th>Rarity</th>\n",
       "      <th>Earth</th>\n",
       "      <th>Fire</th>\n",
       "      <th>Dragon</th>\n",
       "      <th>Dark</th>\n",
       "      <th>Electricity</th>\n",
       "      <th>Water</th>\n",
       "      <th>Ice</th>\n",
       "      <th>Leaf</th>\n",
       "      <th>...</th>\n",
       "      <th>Kindling</th>\n",
       "      <th>Gathering</th>\n",
       "      <th>Generating Electricity</th>\n",
       "      <th>Watering</th>\n",
       "      <th>Cooling</th>\n",
       "      <th>Farming</th>\n",
       "      <th>Medicine Production</th>\n",
       "      <th>Planting</th>\n",
       "      <th>HP</th>\n",
       "      <th>Defense</th>\n",
       "    </tr>\n",
       "  </thead>\n",
       "  <tbody>\n",
       "    <tr>\n",
       "      <th>Anubis</th>\n",
       "      <td>#100</td>\n",
       "      <td>Epic</td>\n",
       "      <td>True</td>\n",
       "      <td>False</td>\n",
       "      <td>False</td>\n",
       "      <td>False</td>\n",
       "      <td>False</td>\n",
       "      <td>False</td>\n",
       "      <td>False</td>\n",
       "      <td>False</td>\n",
       "      <td>...</td>\n",
       "      <td>NaN</td>\n",
       "      <td>NaN</td>\n",
       "      <td>NaN</td>\n",
       "      <td>NaN</td>\n",
       "      <td>NaN</td>\n",
       "      <td>NaN</td>\n",
       "      <td>NaN</td>\n",
       "      <td>NaN</td>\n",
       "      <td>120.0</td>\n",
       "      <td>100.0</td>\n",
       "    </tr>\n",
       "    <tr>\n",
       "      <th>Arsox</th>\n",
       "      <td>#42</td>\n",
       "      <td>Common</td>\n",
       "      <td>False</td>\n",
       "      <td>True</td>\n",
       "      <td>False</td>\n",
       "      <td>False</td>\n",
       "      <td>False</td>\n",
       "      <td>False</td>\n",
       "      <td>False</td>\n",
       "      <td>False</td>\n",
       "      <td>...</td>\n",
       "      <td>2</td>\n",
       "      <td>NaN</td>\n",
       "      <td>NaN</td>\n",
       "      <td>NaN</td>\n",
       "      <td>NaN</td>\n",
       "      <td>NaN</td>\n",
       "      <td>NaN</td>\n",
       "      <td>NaN</td>\n",
       "      <td>85.0</td>\n",
       "      <td>95.0</td>\n",
       "    </tr>\n",
       "    <tr>\n",
       "      <th>Astegon</th>\n",
       "      <td>#98</td>\n",
       "      <td>Epic</td>\n",
       "      <td>False</td>\n",
       "      <td>False</td>\n",
       "      <td>True</td>\n",
       "      <td>True</td>\n",
       "      <td>False</td>\n",
       "      <td>False</td>\n",
       "      <td>False</td>\n",
       "      <td>False</td>\n",
       "      <td>...</td>\n",
       "      <td>NaN</td>\n",
       "      <td>NaN</td>\n",
       "      <td>NaN</td>\n",
       "      <td>NaN</td>\n",
       "      <td>NaN</td>\n",
       "      <td>NaN</td>\n",
       "      <td>NaN</td>\n",
       "      <td>NaN</td>\n",
       "      <td>100.0</td>\n",
       "      <td>125.0</td>\n",
       "    </tr>\n",
       "    <tr>\n",
       "      <th>Azurmane</th>\n",
       "      <td>#136</td>\n",
       "      <td>Rare</td>\n",
       "      <td>False</td>\n",
       "      <td>False</td>\n",
       "      <td>False</td>\n",
       "      <td>False</td>\n",
       "      <td>True</td>\n",
       "      <td>False</td>\n",
       "      <td>False</td>\n",
       "      <td>False</td>\n",
       "      <td>...</td>\n",
       "      <td>NaN</td>\n",
       "      <td>1</td>\n",
       "      <td>4</td>\n",
       "      <td>NaN</td>\n",
       "      <td>NaN</td>\n",
       "      <td>NaN</td>\n",
       "      <td>NaN</td>\n",
       "      <td>NaN</td>\n",
       "      <td>130.0</td>\n",
       "      <td>110.0</td>\n",
       "    </tr>\n",
       "    <tr>\n",
       "      <th>Azurobe</th>\n",
       "      <td>#82</td>\n",
       "      <td>Rare</td>\n",
       "      <td>False</td>\n",
       "      <td>False</td>\n",
       "      <td>True</td>\n",
       "      <td>False</td>\n",
       "      <td>False</td>\n",
       "      <td>True</td>\n",
       "      <td>False</td>\n",
       "      <td>False</td>\n",
       "      <td>...</td>\n",
       "      <td>NaN</td>\n",
       "      <td>NaN</td>\n",
       "      <td>NaN</td>\n",
       "      <td>3</td>\n",
       "      <td>NaN</td>\n",
       "      <td>NaN</td>\n",
       "      <td>NaN</td>\n",
       "      <td>NaN</td>\n",
       "      <td>110.0</td>\n",
       "      <td>100.0</td>\n",
       "    </tr>\n",
       "    <tr>\n",
       "      <th>...</th>\n",
       "      <td>...</td>\n",
       "      <td>...</td>\n",
       "      <td>...</td>\n",
       "      <td>...</td>\n",
       "      <td>...</td>\n",
       "      <td>...</td>\n",
       "      <td>...</td>\n",
       "      <td>...</td>\n",
       "      <td>...</td>\n",
       "      <td>...</td>\n",
       "      <td>...</td>\n",
       "      <td>...</td>\n",
       "      <td>...</td>\n",
       "      <td>...</td>\n",
       "      <td>...</td>\n",
       "      <td>...</td>\n",
       "      <td>...</td>\n",
       "      <td>...</td>\n",
       "      <td>...</td>\n",
       "      <td>...</td>\n",
       "      <td>...</td>\n",
       "    </tr>\n",
       "    <tr>\n",
       "      <th>Wumpo Botan</th>\n",
       "      <td>#91</td>\n",
       "      <td>Epic</td>\n",
       "      <td>False</td>\n",
       "      <td>False</td>\n",
       "      <td>False</td>\n",
       "      <td>False</td>\n",
       "      <td>False</td>\n",
       "      <td>False</td>\n",
       "      <td>False</td>\n",
       "      <td>True</td>\n",
       "      <td>...</td>\n",
       "      <td>NaN</td>\n",
       "      <td>NaN</td>\n",
       "      <td>NaN</td>\n",
       "      <td>NaN</td>\n",
       "      <td>NaN</td>\n",
       "      <td>NaN</td>\n",
       "      <td>NaN</td>\n",
       "      <td>1</td>\n",
       "      <td>140.0</td>\n",
       "      <td>110.0</td>\n",
       "    </tr>\n",
       "    <tr>\n",
       "      <th>Xenogard</th>\n",
       "      <td>#126</td>\n",
       "      <td>Epic</td>\n",
       "      <td>False</td>\n",
       "      <td>False</td>\n",
       "      <td>True</td>\n",
       "      <td>False</td>\n",
       "      <td>False</td>\n",
       "      <td>False</td>\n",
       "      <td>False</td>\n",
       "      <td>False</td>\n",
       "      <td>...</td>\n",
       "      <td>NaN</td>\n",
       "      <td>NaN</td>\n",
       "      <td>NaN</td>\n",
       "      <td>NaN</td>\n",
       "      <td>NaN</td>\n",
       "      <td>NaN</td>\n",
       "      <td>NaN</td>\n",
       "      <td>NaN</td>\n",
       "      <td>110.0</td>\n",
       "      <td>130.0</td>\n",
       "    </tr>\n",
       "    <tr>\n",
       "      <th>Xenolord</th>\n",
       "      <td>#127</td>\n",
       "      <td>Epic</td>\n",
       "      <td>False</td>\n",
       "      <td>False</td>\n",
       "      <td>True</td>\n",
       "      <td>True</td>\n",
       "      <td>False</td>\n",
       "      <td>False</td>\n",
       "      <td>False</td>\n",
       "      <td>False</td>\n",
       "      <td>...</td>\n",
       "      <td>NaN</td>\n",
       "      <td>1</td>\n",
       "      <td>NaN</td>\n",
       "      <td>NaN</td>\n",
       "      <td>NaN</td>\n",
       "      <td>NaN</td>\n",
       "      <td>NaN</td>\n",
       "      <td>NaN</td>\n",
       "      <td>130.0</td>\n",
       "      <td>120.0</td>\n",
       "    </tr>\n",
       "    <tr>\n",
       "      <th>Xenovader</th>\n",
       "      <td>#125</td>\n",
       "      <td>Rare</td>\n",
       "      <td>False</td>\n",
       "      <td>False</td>\n",
       "      <td>False</td>\n",
       "      <td>True</td>\n",
       "      <td>False</td>\n",
       "      <td>False</td>\n",
       "      <td>False</td>\n",
       "      <td>False</td>\n",
       "      <td>...</td>\n",
       "      <td>NaN</td>\n",
       "      <td>NaN</td>\n",
       "      <td>NaN</td>\n",
       "      <td>NaN</td>\n",
       "      <td>NaN</td>\n",
       "      <td>NaN</td>\n",
       "      <td>NaN</td>\n",
       "      <td>NaN</td>\n",
       "      <td>90.0</td>\n",
       "      <td>85.0</td>\n",
       "    </tr>\n",
       "    <tr>\n",
       "      <th>Yakumo</th>\n",
       "      <td>#121</td>\n",
       "      <td>Common</td>\n",
       "      <td>False</td>\n",
       "      <td>False</td>\n",
       "      <td>False</td>\n",
       "      <td>False</td>\n",
       "      <td>False</td>\n",
       "      <td>False</td>\n",
       "      <td>False</td>\n",
       "      <td>False</td>\n",
       "      <td>...</td>\n",
       "      <td>NaN</td>\n",
       "      <td>2</td>\n",
       "      <td>NaN</td>\n",
       "      <td>NaN</td>\n",
       "      <td>NaN</td>\n",
       "      <td>NaN</td>\n",
       "      <td>NaN</td>\n",
       "      <td>NaN</td>\n",
       "      <td>85.0</td>\n",
       "      <td>85.0</td>\n",
       "    </tr>\n",
       "  </tbody>\n",
       "</table>\n",
       "<p>225 rows × 27 columns</p>\n",
       "</div>"
      ],
      "text/plain": [
       "               ID  Rarity  Earth   Fire Dragon   Dark Electricity  Water  \\\n",
       "Anubis       #100    Epic   True  False  False  False       False  False   \n",
       "Arsox         #42  Common  False   True  False  False       False  False   \n",
       "Astegon       #98    Epic  False  False   True   True       False  False   \n",
       "Azurmane     #136    Rare  False  False  False  False        True  False   \n",
       "Azurobe       #82    Rare  False  False   True  False       False   True   \n",
       "...           ...     ...    ...    ...    ...    ...         ...    ...   \n",
       "Wumpo Botan   #91    Epic  False  False  False  False       False  False   \n",
       "Xenogard     #126    Epic  False  False   True  False       False  False   \n",
       "Xenolord     #127    Epic  False  False   True   True       False  False   \n",
       "Xenovader    #125    Rare  False  False  False   True       False  False   \n",
       "Yakumo       #121  Common  False  False  False  False       False  False   \n",
       "\n",
       "               Ice   Leaf  ... Kindling Gathering Generating Electricity  \\\n",
       "Anubis       False  False  ...      NaN       NaN                    NaN   \n",
       "Arsox        False  False  ...        2       NaN                    NaN   \n",
       "Astegon      False  False  ...      NaN       NaN                    NaN   \n",
       "Azurmane     False  False  ...      NaN         1                      4   \n",
       "Azurobe      False  False  ...      NaN       NaN                    NaN   \n",
       "...            ...    ...  ...      ...       ...                    ...   \n",
       "Wumpo Botan  False   True  ...      NaN       NaN                    NaN   \n",
       "Xenogard     False  False  ...      NaN       NaN                    NaN   \n",
       "Xenolord     False  False  ...      NaN         1                    NaN   \n",
       "Xenovader    False  False  ...      NaN       NaN                    NaN   \n",
       "Yakumo       False  False  ...      NaN         2                    NaN   \n",
       "\n",
       "            Watering Cooling  Farming Medicine Production Planting     HP  \\\n",
       "Anubis           NaN     NaN      NaN                 NaN      NaN  120.0   \n",
       "Arsox            NaN     NaN      NaN                 NaN      NaN   85.0   \n",
       "Astegon          NaN     NaN      NaN                 NaN      NaN  100.0   \n",
       "Azurmane         NaN     NaN      NaN                 NaN      NaN  130.0   \n",
       "Azurobe            3     NaN      NaN                 NaN      NaN  110.0   \n",
       "...              ...     ...      ...                 ...      ...    ...   \n",
       "Wumpo Botan      NaN     NaN      NaN                 NaN        1  140.0   \n",
       "Xenogard         NaN     NaN      NaN                 NaN      NaN  110.0   \n",
       "Xenolord         NaN     NaN      NaN                 NaN      NaN  130.0   \n",
       "Xenovader        NaN     NaN      NaN                 NaN      NaN   90.0   \n",
       "Yakumo           NaN     NaN      NaN                 NaN      NaN   85.0   \n",
       "\n",
       "            Defense  \n",
       "Anubis        100.0  \n",
       "Arsox          95.0  \n",
       "Astegon       125.0  \n",
       "Azurmane      110.0  \n",
       "Azurobe       100.0  \n",
       "...             ...  \n",
       "Wumpo Botan   110.0  \n",
       "Xenogard      130.0  \n",
       "Xenolord      120.0  \n",
       "Xenovader      85.0  \n",
       "Yakumo         85.0  \n",
       "\n",
       "[225 rows x 27 columns]"
      ]
     },
     "execution_count": 80,
     "metadata": {},
     "output_type": "execute_result"
    }
   ],
   "source": [
    "# Scrape the defense statistics of the Pals\n",
    "def scrape_pal_defense(pal_df, url = \"https://palworld.gg/pals\"):\n",
    "    \"\"\"\n",
    "    Scrape the defense score of each Pal listed in the database.\n",
    "\n",
    "    Args:\n",
    "        url (str): The URL of the database page, assumed to be the current link unless otherwise specified.\n",
    "        pal_df (DataFrame): The DataFrame of Pal data to update.\n",
    "\n",
    "    Returns:\n",
    "        pal_df (DataFrame): The DataFrame given, with a new column representing the Pals' defense scores.\n",
    "    \"\"\"\n",
    "    soup = BeautifulSoup(requests.get(url).text)\n",
    "\n",
    "    # Find each Pal entry.\n",
    "    pal_tag = soup.find_all(\"div\", class_ = \"pal\")\n",
    "    for pal in pal_tag:\n",
    "        # Remove empty Pal entries.\n",
    "        if pal.attrs[\"style\"] == \"display:none;\":\n",
    "            continue\n",
    "\n",
    "        # Load the individual entry page for the Pal.\n",
    "        pal_page = requests.get(\"https://palworld.gg\" + pal.a.attrs[\"href\"]).text\n",
    "        pal_soup = BeautifulSoup(pal_page)\n",
    "\n",
    "        # Scrape the name of the Pal.\n",
    "        pal_name = pal_soup.find(\"h1\", class_ = \"name\").text.strip()\n",
    "\n",
    "        # Scrape the defense of the pal (the second entry in the stats section) and add it to the defense column.\n",
    "        pal_hp = int(pal_soup.find(\"div\", class_ = \"stats\").find_all(\"div\", class_ = \"value\")[1].text)\n",
    "        pal_df.loc[pal_name, \"Defense\"] = pal_hp\n",
    "        \n",
    "    return pal_df\n",
    "\n",
    "pal_frame = scrape_pal_defense(pal_frame)\n",
    "pal_frame"
   ]
  },
  {
   "cell_type": "code",
   "execution_count": null,
   "metadata": {},
   "outputs": [
    {
     "data": {
      "text/plain": [
       "<matplotlib.collections.PathCollection at 0x130d3cdca50>"
      ]
     },
     "execution_count": 81,
     "metadata": {},
     "output_type": "execute_result"
    },
    {
     "data": {
      "image/png": "[encoded data removed]",
      "text/plain": [
       "<Figure size 640x480 with 1 Axes>"
      ]
     },
     "metadata": {},
     "output_type": "display_data"
    }
   ],
   "source": [
    "# todo: start visualizing the data in graphs and plotting fits for relationships\n",
    "import matplotlib.pyplot as plt\n",
    "\n",
    "# just a little graph for fun\n",
    "plt.scatter(x = pal_frame[\"HP\"], y = pal_frame[\"Defense\"])"
   ]
  },
  {
   "cell_type": "code",
   "execution_count": null,
   "metadata": {},
   "outputs": [
    {
     "data": {
      "application/vnd.plotly.v1+json": {
       "config": {
        "plotlyServerURL": "https://plot.ly"
       },
       "data": [
        {
         "customdata": [
          [
           "#117",
           "Common",
           "Mining"
          ],
          [
           "#13",
           "Common",
           "Planting"
          ],
          [
           "#22",
           "Common",
           "Handiwork, Mining, Transporting"
          ],
          [
           "#65",
           "Rare",
           "Gathering"
          ],
          [
           "#20",
           "Common",
           "Mining"
          ],
          [
           "#148",
           "Common",
           "Mining, Transporting, Watering"
          ],
          [
           "#48",
           "Rare",
           "Handiwork, Transporting, Deforesting, Gathering, Medicine Production"
          ],
          [
           "#90",
           "Epic",
           "Mining, Deforesting, Cooling"
          ],
          [
           "#90",
           "Epic",
           "Mining, Deforesting, Planting"
          ],
          [
           "#37",
           "Rare",
           "Deforesting"
          ],
          [
           "#43",
           "Common",
           "Mining, Transporting, Watering, Farming"
          ],
          [
           "#123",
           "Rare",
           "Gathering"
          ],
          [
           "#43",
           "Rare",
           "Mining, Transporting, Watering, Farming"
          ],
          [
           "#32",
           "Common",
           "Handiwork, Transporting, Gathering"
          ],
          [
           "#140",
           "Epic",
           "Gathering"
          ],
          [
           "#92",
           "Epic",
           "Handiwork, Transporting, Deforesting, Planting"
          ],
          [
           "#92",
           "Epic",
           "Handiwork, Mining, Transporting"
          ],
          [
           "#88",
           "Rare",
           "Mining, Cooling"
          ],
          [
           "#88",
           "Rare",
           "Mining, Kindling"
          ],
          [
           "#67",
           "Rare",
           "Mining"
          ],
          [
           "#83",
           "Rare",
           "Handiwork, Mining, Transporting, Deforesting"
          ],
          [
           "#99",
           "Epic",
           "Mining, Deforesting"
          ],
          [
           "#99",
           "Epic",
           "Mining, Deforesting"
          ],
          [
           "#49",
           "Rare",
           "Handiwork, Mining, Transporting"
          ],
          [
           "#119",
           "Rare",
           "Deforesting, Gathering, Medicine Production"
          ],
          [
           "#120",
           "Epic",
           "Mining, Transporting, Gathering"
          ],
          [
           "#145",
           "Rare",
           "Mining, Gathering, Planting"
          ],
          [
           "#100",
           "Epic",
           "Handiwork, Mining, Transporting"
          ]
         ],
         "hovertemplate": "Element Type=Earth<br>Highest Work Suitability Level=%{x}<br>HP=%{y}<br>ID=%{customdata[0]}<br>Rarity=%{customdata[1]}<br>Work Types=%{customdata[2]}<extra></extra>",
         "legendgroup": "Earth",
         "marker": {
          "color": "#636efa",
          "symbol": "circle"
         },
         "mode": "markers",
         "name": "Earth",
         "orientation": "v",
         "showlegend": true,
         "type": "scatter",
         "x": [
          "1",
          "1",
          "1",
          "1",
          "1",
          "2",
          "2",
          "2",
          "2",
          "2",
          "2",
          "2",
          "2",
          "2",
          "2",
          "3",
          "3",
          "3",
          "3",
          "3",
          "3",
          "3",
          "3",
          "3",
          "3",
          "4",
          "4",
          "4"
         ],
         "xaxis": "x",
         "y": {
          "bdata": "AAAAAADAUkAAAAAAAIBRQAAAAAAAQFBAAAAAAACAVkAAAAAAAABUQAAAAAAAQFVAAAAAAACAVkAAAAAAAMBiQAAAAAAAwGJAAAAAAADAV0AAAAAAAABZQAAAAAAAwFdAAAAAAABAWkAAAAAAAABUQAAAAAAAAF5AAAAAAAAAXkAAAAAAAABeQAAAAAAAgFtAAAAAAACAW0AAAAAAAABUQAAAAAAAAFlAAAAAAAAAWUAAAAAAAABZQAAAAAAAgFZAAAAAAACAVkAAAAAAAEBaQAAAAAAAQGBAAAAAAAAAXkA=",
          "dtype": "f8"
         },
         "yaxis": "y"
        },
        {
         "customdata": [
          [
           "#124",
           "Rare",
           "Transporting, Gathering"
          ],
          [
           "#29",
           "Common",
           "Farming"
          ],
          [
           "#-1",
           "Common",
           "Deforesting"
          ],
          [
           "#-1",
           "Common",
           "Transporting"
          ],
          [
           "#26",
           "Common",
           "Gathering"
          ],
          [
           "#-1",
           "Common",
           "Transporting"
          ],
          [
           "#-1",
           "Common",
           "Gathering"
          ],
          [
           "#89",
           "Epic",
           "Gathering"
          ],
          [
           "#36",
           "Common",
           "Farming"
          ],
          [
           "#1",
           "Common",
           "Handiwork, Transporting, Farming"
          ],
          [
           "#39",
           "Common",
           "Handiwork, Transporting, Gathering"
          ],
          [
           "#-1",
           "Common",
           "Gathering"
          ],
          [
           "#2",
           "Common",
           "Handiwork, Mining, Transporting, Gathering"
          ],
          [
           "#27",
           "Common",
           "Gathering"
          ],
          [
           "#14",
           "Common",
           "Gathering, Farming"
          ],
          [
           "#34",
           "Common",
           "Farming"
          ],
          [
           "#18",
           "Common",
           "Gathering, Farming"
          ],
          [
           "#3",
           "Common",
           "Gathering, Farming"
          ],
          [
           "#69",
           "Rare",
           "Handiwork, Mining, Transporting, Medicine Production"
          ],
          [
           "#108",
           "Legendary",
           "Mining, Deforesting"
          ],
          [
           "#38",
           "Common",
           "Gathering"
          ],
          [
           "#121",
           "Common",
           "Gathering"
          ],
          [
           "#93",
           "Common",
           "Deforesting"
          ],
          [
           "#37",
           "Common",
           "Deforesting"
          ],
          [
           "#47",
           "Common",
           "Gathering"
          ],
          [
           "#52",
           "Rare",
           "Gathering"
          ],
          [
           "#63",
           "Rare",
           "Handiwork, Transporting, Gathering"
          ],
          [
           "#122",
           "Rare",
           "Handiwork, Transporting, Deforesting, Gathering, Medicine Production"
          ],
          [
           "#49",
           "Rare",
           "Handiwork, Transporting, Deforesting"
          ],
          [
           "#132",
           "Rare",
           "Deforesting, Gathering"
          ]
         ],
         "hovertemplate": "Element Type=Normal<br>Highest Work Suitability Level=%{x}<br>HP=%{y}<br>ID=%{customdata[0]}<br>Rarity=%{customdata[1]}<br>Work Types=%{customdata[2]}<extra></extra>",
         "legendgroup": "Normal",
         "marker": {
          "color": "#EF553B",
          "symbol": "circle"
         },
         "mode": "markers",
         "name": "Normal",
         "orientation": "v",
         "showlegend": true,
         "type": "scatter",
         "x": [
          "1",
          "1",
          "1",
          "1",
          "1",
          "1",
          "1",
          "1",
          "1",
          "1",
          "1",
          "1",
          "1",
          "1",
          "1",
          "1",
          "1",
          "1",
          "2",
          "2",
          "2",
          "2",
          "2",
          "2",
          "2",
          "2",
          "3",
          "3",
          "3",
          "4"
         ],
         "xaxis": "x",
         "y": {
          "bdata": "AAAAAAAATkAAAAAAAIBWQAAAAAAAwFdAAAAAAABAWkAAAAAAAABUQAAAAAAAAFRAAAAAAAAAVEAAAAAAAABeQAAAAAAAgFZAAAAAAACAUUAAAAAAAMBSQAAAAAAAQFBAAAAAAACAUUAAAAAAAABOQAAAAAAAgFFAAAAAAACAUUAAAAAAAIBRQAAAAAAAAE5AAAAAAAAAXkAAAAAAAEBgQAAAAAAAAFlAAAAAAABAVUAAAAAAAIBbQAAAAAAAwFdAAAAAAADAUkAAAAAAAIBbQAAAAAAAgFZAAAAAAACAVkAAAAAAAIBWQAAAAAAAAF5A",
          "dtype": "f8"
         },
         "yaxis": "y"
        },
        {
         "customdata": [
          [
           "#28",
           "Common",
           "Handiwork, Transporting, Gathering, Medicine Production, Planting"
          ],
          [
           "#4",
           "Common",
           "Handiwork, Deforesting, Gathering, Medicine Production, Planting"
          ],
          [
           "#-1",
           "Common",
           "Transporting"
          ],
          [
           "#39",
           "Common",
           "Handiwork, Transporting, Gathering, Planting"
          ],
          [
           "#8",
           "Common",
           "Handiwork, Transporting, Deforesting, Gathering, Planting"
          ],
          [
           "#48",
           "Rare",
           "Handiwork, Transporting, Deforesting, Gathering, Medicine Production, Planting"
          ],
          [
           "#115",
           "Common",
           "Handiwork, Gathering, Medicine Production, Planting"
          ],
          [
           "#116",
           "Common",
           "Handiwork, Deforesting, Gathering, Planting"
          ],
          [
           "#51",
           "Epic",
           "Handiwork, Deforesting, Gathering, Medicine Production, Planting"
          ],
          [
           "#41",
           "Common",
           "Medicine Production, Planting"
          ],
          [
           "#35",
           "Common",
           "Farming, Planting"
          ],
          [
           "#30",
           "Common",
           "Handiwork, Transporting, Gathering, Medicine Production, Planting"
          ],
          [
           "#50",
           "Common",
           "Handiwork, Transporting, Deforesting, Gathering, Farming, Medicine Production, Planting"
          ],
          [
           "#141",
           "Common",
           "Transporting, Gathering, Planting"
          ],
          [
           "#86",
           "Rare",
           "Planting"
          ],
          [
           "#77",
           "Epic",
           "Handiwork, Transporting, Deforesting, Gathering, Planting"
          ],
          [
           "#78",
           "Epic",
           "Handiwork, Transporting, Gathering, Medicine Production, Planting"
          ],
          [
           "#33",
           "Rare",
           "Handiwork, Transporting, Deforesting, Planting"
          ],
          [
           "#87",
           "Epic",
           "Handiwork, Transporting, Gathering, Medicine Production, Planting"
          ],
          [
           "#144",
           "Common",
           "Mining, Gathering, Planting"
          ],
          [
           "#91",
           "Epic",
           "Handiwork, Transporting, Deforesting, Planting"
          ],
          [
           "#104",
           "Epic",
           "Handiwork, Gathering, Medicine Production, Planting"
          ]
         ],
         "hovertemplate": "Element Type=Leaf<br>Highest Work Suitability Level=%{x}<br>HP=%{y}<br>ID=%{customdata[0]}<br>Rarity=%{customdata[1]}<br>Work Types=%{customdata[2]}<extra></extra>",
         "legendgroup": "Leaf",
         "marker": {
          "color": "#00cc96",
          "symbol": "circle"
         },
         "mode": "markers",
         "name": "Leaf",
         "orientation": "v",
         "showlegend": true,
         "type": "scatter",
         "x": [
          "1",
          "1",
          "1",
          "1",
          "1",
          "2",
          "2",
          "2",
          "2",
          "2",
          "2",
          "2",
          "2",
          "2",
          "3",
          "3",
          "3",
          "3",
          "3",
          "3",
          "4",
          "4"
         ],
         "xaxis": "x",
         "y": {
          "bdata": "AAAAAADAUkAAAAAAAMBSQAAAAAAAQFBAAAAAAAAAVEAAAAAAAABUQAAAAAAAgFZAAAAAAACAVkAAAAAAAIBbQAAAAAAAgFZAAAAAAACAUUAAAAAAAABZQAAAAAAAAFRAAAAAAAAAVEAAAAAAAABUQAAAAAAAAF5AAAAAAACAVkAAAAAAAABZQAAAAAAAAFlAAAAAAAAAWUAAAAAAAEBaQAAAAAAAgGFAAAAAAACAW0A=",
          "dtype": "f8"
         },
         "yaxis": "y"
        },
        {
         "customdata": [
          [
           "#70",
           "Common",
           "Handiwork, Transporting, Kindling, Farming"
          ],
          [
           "#5",
           "Common",
           "Kindling"
          ],
          [
           "#-1",
           "Common",
           "Transporting"
          ],
          [
           "#81",
           "Common",
           "Kindling, Farming"
          ],
          [
           "#45",
           "Common",
           "Handiwork, Transporting, Kindling, Gathering"
          ],
          [
           "#6",
           "Common",
           "Handiwork, Transporting, Kindling, Watering"
          ],
          [
           "#9",
           "Common",
           "Kindling"
          ],
          [
           "#61",
           "Rare",
           "Kindling"
          ],
          [
           "#75",
           "Rare",
           "Handiwork, Transporting, Kindling, Medicine Production"
          ],
          [
           "#58",
           "Rare",
           "Deforesting, Kindling"
          ],
          [
           "#58",
           "Rare",
           "Deforesting, Kindling"
          ],
          [
           "#152",
           "Common",
           "Transporting, Kindling, Watering"
          ],
          [
           "#55",
           "Rare",
           "Kindling, Gathering"
          ],
          [
           "#42",
           "Common",
           "Deforesting, Kindling"
          ],
          [
           "#40",
           "Common",
           "Handiwork, Mining, Transporting, Kindling"
          ],
          [
           "#31",
           "Common",
           "Handiwork, Transporting, Kindling"
          ],
          [
           "#72",
           "Rare",
           "Handiwork, Transporting, Deforesting, Kindling, Gathering"
          ],
          [
           "#118",
           "Rare",
           "Handiwork, Mining, Kindling, Gathering, Farming"
          ],
          [
           "#84",
           "Epic",
           "Deforesting, Kindling"
          ],
          [
           "#102",
           "Epic",
           "Kindling"
          ],
          [
           "#84",
           "Rare",
           "Deforesting, Kindling"
          ],
          [
           "#71",
           "Common",
           "Transporting, Kindling"
          ],
          [
           "#72",
           "Rare",
           "Handiwork, Transporting, Deforesting, Kindling, Gathering"
          ],
          [
           "#74",
           "Rare",
           "Transporting, Kindling"
          ],
          [
           "#76",
           "Rare",
           "Handiwork, Transporting, Kindling"
          ],
          [
           "#105",
           "Epic",
           "Transporting, Kindling"
          ],
          [
           "#76",
           "Rare",
           "Handiwork, Transporting, Kindling"
          ],
          [
           "#154",
           "Epic",
           "Kindling, Cooling"
          ],
          [
           "#101",
           "Epic",
           "Kindling"
          ],
          [
           "#153",
           "Rare",
           "Transporting, Kindling, Watering"
          ],
          [
           "#96",
           "Epic",
           "Mining, Kindling"
          ],
          [
           "#96",
           "Epic",
           "Mining, Kindling"
          ]
         ],
         "hovertemplate": "Element Type=Fire<br>Highest Work Suitability Level=%{x}<br>HP=%{y}<br>ID=%{customdata[0]}<br>Rarity=%{customdata[1]}<br>Work Types=%{customdata[2]}<extra></extra>",
         "legendgroup": "Fire",
         "marker": {
          "color": "#ab63fa",
          "symbol": "circle"
         },
         "mode": "markers",
         "name": "Fire",
         "orientation": "v",
         "showlegend": true,
         "type": "scatter",
         "x": [
          "1",
          "1",
          "1",
          "1",
          "1",
          "1",
          "1",
          "2",
          "2",
          "2",
          "2",
          "2",
          "2",
          "2",
          "2",
          "2",
          "3",
          "3",
          "3",
          "3",
          "3",
          "3",
          "3",
          "3",
          "3",
          "3",
          "3",
          "4",
          "4",
          "4",
          "4",
          "4"
         ],
         "xaxis": "x",
         "y": {
          "bdata": "AAAAAAAATkAAAAAAAEBQQAAAAAAAgFFAAAAAAACAUUAAAAAAAABUQAAAAAAAAE5AAAAAAADAUkAAAAAAAABZQAAAAAAAwFdAAAAAAAAAWUAAAAAAAABZQAAAAAAAwFJAAAAAAACAVkAAAAAAAEBVQAAAAAAAwFdAAAAAAACAVkAAAAAAAABUQAAAAAAAQFpAAAAAAABAWkAAAAAAAABeQAAAAAAAQFpAAAAAAACAVkAAAAAAAABUQAAAAAAAwFdAAAAAAACAVkAAAAAAAABZQAAAAAAAgFZAAAAAAABAWkAAAAAAAEBgQAAAAAAAgFZAAAAAAABAWkAAAAAAAABZQA==",
          "dtype": "f8"
         },
         "yaxis": "y"
        },
        {
         "customdata": [
          [
           "#21",
           "Rare",
           "Gathering"
          ],
          [
           "#133",
           "Common",
           "Gathering"
          ],
          [
           "#17",
           "Common",
           "Handiwork, Mining, Transporting"
          ],
          [
           "#-1",
           "Common",
           "Transporting"
          ],
          [
           "#62",
           "Common",
           "Handiwork, Transporting, Generating Electricity, Medicine Production"
          ],
          [
           "#-1",
           "Common",
           "Transporting"
          ],
          [
           "#15",
           "Common",
           "Gathering"
          ],
          [
           "#45",
           "Common",
           "Handiwork, Transporting, Gathering"
          ],
          [
           "#24",
           "Common",
           "Farming"
          ],
          [
           "#44",
           "Common",
           "Deforesting"
          ],
          [
           "#107",
           "Epic",
           "Gathering"
          ],
          [
           "#19",
           "Common",
           "Handiwork, Transporting, Gathering"
          ],
          [
           "#114",
           "Rare",
           "Handiwork, Transporting, Gathering, Watering"
          ],
          [
           "#135",
           "Common",
           "Handiwork, Transporting, Gathering, Medicine Production"
          ],
          [
           "#61",
           "Rare",
           "Kindling"
          ],
          [
           "#68",
           "Rare",
           "Mining, Transporting, Gathering"
          ],
          [
           "#23",
           "Common",
           "Transporting, Gathering, Watering"
          ],
          [
           "#125",
           "Rare",
           "Transporting, Deforesting"
          ],
          [
           "#75",
           "Rare",
           "Handiwork, Transporting, Medicine Production"
          ],
          [
           "#109",
           "Legendary",
           "Mining, Deforesting"
          ],
          [
           "#116",
           "Rare",
           "Handiwork, Deforesting, Gathering, Planting"
          ],
          [
           "#46",
           "Common",
           "Handiwork"
          ],
          [
           "#129",
           "Rare",
           "Gathering"
          ],
          [
           "#66",
           "Rare",
           "Mining, Gathering"
          ],
          [
           "#131",
           "Common",
           "Gathering"
          ],
          [
           "#149",
           "Common",
           "Handiwork, Transporting, Watering, Medicine Production"
          ],
          [
           "#35",
           "Common",
           "Farming, Planting"
          ],
          [
           "#151",
           "Rare",
           "Handiwork, Transporting, Watering"
          ],
          [
           "#40",
           "Rare",
           "Handiwork, Mining, Transporting"
          ],
          [
           "#97",
           "Epic",
           "Transporting, Generating Electricity"
          ],
          [
           "#97",
           "Rare",
           "Transporting"
          ],
          [
           "#71",
           "Rare",
           "Transporting, Cooling"
          ],
          [
           "#104",
           "Epic",
           "Handiwork, Gathering, Medicine Production"
          ],
          [
           "#128",
           "Rare",
           "Handiwork, Transporting"
          ],
          [
           "#139",
           "Common",
           "Handiwork, Transporting, Deforesting, Gathering"
          ],
          [
           "#94",
           "Rare",
           "Medicine Production"
          ],
          [
           "#138",
           "Rare",
           "Handiwork, Transporting, Gathering, Medicine Production, Planting"
          ],
          [
           "#153",
           "Rare",
           "Transporting, Watering"
          ],
          [
           "#110",
           "Legendary",
           "Gathering"
          ],
          [
           "#-1",
           "Rare",
           "Transporting"
          ],
          [
           "#113",
           "Epic",
           "Handiwork, Transporting, Medicine Production"
          ],
          [
           "#134",
           "Common",
           "Handiwork, Transporting, Deforesting, Medicine Production"
          ],
          [
           "#112",
           "Legendary",
           "Handiwork, Transporting, Medicine Production"
          ],
          [
           "#112",
           "Legendary",
           "Handiwork, Transporting, Medicine Production"
          ]
         ],
         "hovertemplate": "Element Type=Dark<br>Highest Work Suitability Level=%{x}<br>HP=%{y}<br>ID=%{customdata[0]}<br>Rarity=%{customdata[1]}<br>Work Types=%{customdata[2]}<extra></extra>",
         "legendgroup": "Dark",
         "marker": {
          "color": "#FFA15A",
          "symbol": "circle"
         },
         "mode": "markers",
         "name": "Dark",
         "orientation": "v",
         "showlegend": true,
         "type": "scatter",
         "x": [
          "1",
          "1",
          "1",
          "1",
          "1",
          "1",
          "1",
          "1",
          "1",
          "1",
          "1",
          "1",
          "1",
          "2",
          "2",
          "2",
          "2",
          "2",
          "2",
          "2",
          "2",
          "2",
          "2",
          "2",
          "2",
          "2",
          "2",
          "2",
          "2",
          "3",
          "3",
          "3",
          "3",
          "3",
          "3",
          "3",
          "3",
          "4",
          "4",
          "4",
          "4",
          "4",
          "4",
          "4"
         ],
         "xaxis": "x",
         "y": {
          "bdata": "AAAAAADAUkAAAAAAAMBXQAAAAAAAgFFAAAAAAABAWkAAAAAAAIBRQAAAAAAAwFJAAAAAAACAUUAAAAAAAABUQAAAAAAAgFFAAAAAAADAUkAAAAAAAABeQAAAAAAAgFFAAAAAAABAVUAAAAAAAIBbQAAAAAAAAFlAAAAAAADAV0AAAAAAAABOQAAAAAAAgFZAAAAAAACAVkAAAAAAAEBgQAAAAAAAgFtAAAAAAAAAVEAAAAAAAIBbQAAAAAAAwFJAAAAAAABAVUAAAAAAAIBWQAAAAAAAAFlAAAAAAACAUUAAAAAAAMBXQAAAAAAAQFpAAAAAAAAAWUAAAAAAAIBWQAAAAAAAgFtAAAAAAABAWkAAAAAAAIBbQAAAAAAAAFlAAAAAAABAWkAAAAAAAIBWQAAAAAAAgGFAAAAAAACAW0AAAAAAAEBgQAAAAAAAwFdAAAAAAAAAXkAAAAAAAABeQA==",
          "dtype": "f8"
         },
         "yaxis": "y"
        },
        {
         "customdata": [
          [
           "#10",
           "Common",
           "Handiwork, Transporting, Watering, Cooling"
          ],
          [
           "#81",
           "Common",
           "Watering, Farming"
          ],
          [
           "#6",
           "Common",
           "Handiwork, Transporting, Watering"
          ],
          [
           "#-1",
           "Common",
           "Transporting"
          ],
          [
           "#25",
           "Common",
           "Transporting, Watering"
          ],
          [
           "#16",
           "Common",
           "Watering"
          ],
          [
           "#114",
           "Common",
           "Handiwork, Transporting, Gathering, Watering"
          ],
          [
           "#11",
           "Rare",
           "Handiwork, Mining, Transporting, Watering, Cooling"
          ],
          [
           "#148",
           "Common",
           "Mining, Transporting, Watering"
          ],
          [
           "#23",
           "Common",
           "Transporting, Gathering, Watering"
          ],
          [
           "#146",
           "Common",
           "Transporting, Watering, Cooling"
          ],
          [
           "#65",
           "Common",
           "Watering"
          ],
          [
           "#152",
           "Common",
           "Transporting, Watering"
          ],
          [
           "#150",
           "Common",
           "Handiwork, Transporting, Watering"
          ],
          [
           "#31",
           "Common",
           "Handiwork, Transporting, Watering"
          ],
          [
           "#86",
           "Epic",
           "Watering"
          ],
          [
           "#102",
           "Epic",
           "Watering"
          ],
          [
           "#147",
           "Rare",
           "Watering, Cooling"
          ],
          [
           "#154",
           "Rare",
           "Watering, Cooling"
          ],
          [
           "#155",
           "Legendary",
           "Watering"
          ],
          [
           "#105",
           "Epic",
           "Transporting, Watering"
          ]
         ],
         "hovertemplate": "Element Type=Water<br>Highest Work Suitability Level=%{x}<br>HP=%{y}<br>ID=%{customdata[0]}<br>Rarity=%{customdata[1]}<br>Work Types=%{customdata[2]}<extra></extra>",
         "legendgroup": "Water",
         "marker": {
          "color": "#19d3f3",
          "symbol": "circle"
         },
         "mode": "markers",
         "name": "Water",
         "orientation": "v",
         "showlegend": true,
         "type": "scatter",
         "x": [
          "1",
          "1",
          "1",
          "1",
          "1",
          "1",
          "1",
          "2",
          "2",
          "2",
          "2",
          "2",
          "2",
          "2",
          "2",
          "3",
          "3",
          "3",
          "4",
          "4",
          "4"
         ],
         "xaxis": "x",
         "y": {
          "bdata": "AAAAAACAUUAAAAAAAIBRQAAAAAAAAE5AAAAAAACAUUAAAAAAAABUQAAAAAAAgFFAAAAAAAAAVEAAAAAAAMBXQAAAAAAAwFJAAAAAAACAUUAAAAAAAMBSQAAAAAAAgFZAAAAAAADAUkAAAAAAAMBSQAAAAAAAgFZAAAAAAAAAXkAAAAAAAEBfQAAAAAAAwFdAAAAAAABAWkAAAAAAAEBaQAAAAAAAAFlA",
          "dtype": "f8"
         },
         "yaxis": "y"
        },
        {
         "customdata": [
          [
           "#12",
           "Common",
           "Cooling"
          ],
          [
           "#5",
           "Common",
           "Cooling"
          ],
          [
           "#24",
           "Common",
           "Cooling, Farming"
          ],
          [
           "#53",
           "Common",
           "Gathering, Cooling"
          ],
          [
           "#59",
           "Common",
           "Deforesting, Cooling"
          ],
          [
           "#54",
           "Rare",
           "Gathering, Cooling"
          ],
          [
           "#79",
           "Rare",
           "Cooling, Farming, Medicine Production"
          ],
          [
           "#57",
           "Rare",
           "Cooling"
          ],
          [
           "#143",
           "Common",
           "Gathering, Cooling"
          ],
          [
           "#32",
           "Common",
           "Handiwork, Transporting, Gathering, Cooling"
          ],
          [
           "#142",
           "Common",
           "Handiwork, Transporting, Cooling, Medicine Production"
          ],
          [
           "#83",
           "Rare",
           "Handiwork, Transporting, Deforesting, Cooling"
          ],
          [
           "#46",
           "Common",
           "Handiwork, Cooling"
          ],
          [
           "#89",
           "Epic",
           "Gathering, Cooling"
          ],
          [
           "#91",
           "Rare",
           "Handiwork, Transporting, Deforesting, Cooling"
          ],
          [
           "#110",
           "Legendary",
           "Cooling"
          ],
          [
           "#137",
           "Epic",
           "Mining, Deforesting, Cooling"
          ]
         ],
         "hovertemplate": "Element Type=Ice<br>Highest Work Suitability Level=%{x}<br>HP=%{y}<br>ID=%{customdata[0]}<br>Rarity=%{customdata[1]}<br>Work Types=%{customdata[2]}<extra></extra>",
         "legendgroup": "Ice",
         "marker": {
          "color": "#FF6692",
          "symbol": "circle"
         },
         "mode": "markers",
         "name": "Ice",
         "orientation": "v",
         "showlegend": true,
         "type": "scatter",
         "x": [
          "1",
          "1",
          "1",
          "1",
          "2",
          "2",
          "2",
          "2",
          "2",
          "2",
          "3",
          "3",
          "3",
          "3",
          "4",
          "4",
          "4"
         ],
         "xaxis": "x",
         "y": {
          "bdata": "AAAAAACAUUAAAAAAAEBQQAAAAAAAgFFAAAAAAAAATkAAAAAAAABZQAAAAAAAAFlAAAAAAACAW0AAAAAAAIBWQAAAAAAAgFtAAAAAAAAAVEAAAAAAAMBXQAAAAAAAAFlAAAAAAAAAVEAAAAAAAABeQAAAAAAAgGFAAAAAAACAYUAAAAAAAIBhQA==",
          "dtype": "f8"
         },
         "yaxis": "y"
        },
        {
         "customdata": [
          [
           "#62",
           "Common",
           "Handiwork, Transporting, Generating Electricity"
          ],
          [
           "#12",
           "Common",
           "Generating Electricity"
          ],
          [
           "#25",
           "Common",
           "Transporting, Generating Electricity, Watering"
          ],
          [
           "#7",
           "Common",
           "Handiwork, Transporting, Generating Electricity"
          ],
          [
           "#56",
           "Rare",
           "Deforesting, Generating Electricity"
          ],
          [
           "#11",
           "Rare",
           "Handiwork, Mining, Transporting, Generating Electricity, Watering"
          ],
          [
           "#60",
           "Rare",
           "Generating Electricity"
          ],
          [
           "#10",
           "Common",
           "Handiwork, Transporting, Generating Electricity, Watering"
          ],
          [
           "#93",
           "Common",
           "Deforesting, Generating Electricity"
          ],
          [
           "#33",
           "Rare",
           "Handiwork, Transporting, Deforesting, Generating Electricity"
          ],
          [
           "#103",
           "Epic",
           "Handiwork, Transporting, Deforesting, Generating Electricity"
          ],
          [
           "#73",
           "Rare",
           "Transporting, Gathering, Generating Electricity"
          ],
          [
           "#136",
           "Rare",
           "Gathering, Generating Electricity"
          ]
         ],
         "hovertemplate": "Element Type=Electricity<br>Highest Work Suitability Level=%{x}<br>HP=%{y}<br>ID=%{customdata[0]}<br>Rarity=%{customdata[1]}<br>Work Types=%{customdata[2]}<extra></extra>",
         "legendgroup": "Electricity",
         "marker": {
          "color": "#B6E880",
          "symbol": "circle"
         },
         "mode": "markers",
         "name": "Electricity",
         "orientation": "v",
         "showlegend": true,
         "type": "scatter",
         "x": [
          "1",
          "1",
          "1",
          "1",
          "2",
          "2",
          "2",
          "2",
          "2",
          "3",
          "3",
          "3",
          "4"
         ],
         "xaxis": "x",
         "y": {
          "bdata": "AAAAAACAUUAAAAAAAIBRQAAAAAAAAFRAAAAAAAAATkAAAAAAAABUQAAAAAAAAFlAAAAAAACAVkAAAAAAAIBRQAAAAAAAgFtAAAAAAAAAWUAAAAAAAEBaQAAAAAAAQFpAAAAAAABAYEA=",
          "dtype": "f8"
         },
         "yaxis": "y"
        },
        {
         "customdata": [
          [
           "#127",
           "Epic",
           "Gathering"
          ],
          [
           "#55",
           "Common",
           "Gathering, Cooling"
          ],
          [
           "#85",
           "Epic",
           "Transporting, Watering"
          ],
          [
           "#80",
           "Rare",
           "Deforesting"
          ],
          [
           "#64",
           "Rare",
           "Deforesting, Planting"
          ],
          [
           "#64",
           "Rare",
           "Deforesting, Generating Electricity"
          ],
          [
           "#85",
           "Epic",
           "Transporting, Generating Electricity"
          ],
          [
           "#130",
           "Epic",
           "Deforesting"
          ],
          [
           "#82",
           "Rare",
           "Watering"
          ],
          [
           "#95",
           "Epic",
           "Handiwork, Mining, Transporting, Gathering, Planting"
          ],
          [
           "#126",
           "Epic",
           "Mining"
          ],
          [
           "#82",
           "Epic",
           "Cooling"
          ],
          [
           "#95",
           "Rare",
           "Handiwork, Mining, Transporting, Gathering"
          ],
          [
           "#111",
           "Legendary",
           "Gathering"
          ],
          [
           "#80",
           "Epic",
           "Deforesting, Watering"
          ],
          [
           "#98",
           "Epic",
           "Handiwork, Mining"
          ],
          [
           "#101",
           "Epic",
           "Watering"
          ],
          [
           "#106",
           "Epic",
           "Handiwork, Transporting, Generating Electricity"
          ]
         ],
         "hovertemplate": "Element Type=Dragon<br>Highest Work Suitability Level=%{x}<br>HP=%{y}<br>ID=%{customdata[0]}<br>Rarity=%{customdata[1]}<br>Work Types=%{customdata[2]}<extra></extra>",
         "legendgroup": "Dragon",
         "marker": {
          "color": "#FF97FF",
          "symbol": "circle"
         },
         "mode": "markers",
         "name": "Dragon",
         "orientation": "v",
         "showlegend": true,
         "type": "scatter",
         "x": [
          "1",
          "1",
          "2",
          "2",
          "2",
          "2",
          "3",
          "3",
          "3",
          "3",
          "3",
          "3",
          "3",
          "3",
          "3",
          "4",
          "4",
          "4"
         ],
         "xaxis": "x",
         "y": {
          "bdata": "AAAAAABAYEAAAAAAAIBWQAAAAAAAgFtAAAAAAACAW0AAAAAAAIBbQAAAAAAAgFtAAAAAAACAW0AAAAAAAABeQAAAAAAAgFtAAAAAAABAWkAAAAAAAIBbQAAAAAAAwFxAAAAAAABAWkAAAAAAAIBbQAAAAAAAwFxAAAAAAAAAWUAAAAAAAEBgQAAAAAAAAFlA",
          "dtype": "f8"
         },
         "yaxis": "y"
        }
       ],
       "layout": {
        "legend": {
         "title": {
          "text": "Element Type"
         },
         "tracegroupgap": 0
        },
        "template": {
         "data": {
          "bar": [
           {
            "error_x": {
             "color": "#2a3f5f"
            },
            "error_y": {
             "color": "#2a3f5f"
            },
            "marker": {
             "line": {
              "color": "#E5ECF6",
              "width": 0.5
             },
             "pattern": {
              "fillmode": "overlay",
              "size": 10,
              "solidity": 0.2
             }
            },
            "type": "bar"
           }
          ],
          "barpolar": [
           {
            "marker": {
             "line": {
              "color": "#E5ECF6",
              "width": 0.5
             },
             "pattern": {
              "fillmode": "overlay",
              "size": 10,
              "solidity": 0.2
             }
            },
            "type": "barpolar"
           }
          ],
          "carpet": [
           {
            "aaxis": {
             "endlinecolor": "#2a3f5f",
             "gridcolor": "white",
             "linecolor": "white",
             "minorgridcolor": "white",
             "startlinecolor": "#2a3f5f"
            },
            "baxis": {
             "endlinecolor": "#2a3f5f",
             "gridcolor": "white",
             "linecolor": "white",
             "minorgridcolor": "white",
             "startlinecolor": "#2a3f5f"
            },
            "type": "carpet"
           }
          ],
          "choropleth": [
           {
            "colorbar": {
             "outlinewidth": 0,
             "ticks": ""
            },
            "type": "choropleth"
           }
          ],
          "contour": [
           {
            "colorbar": {
             "outlinewidth": 0,
             "ticks": ""
            },
            "colorscale": [
             [
              0,
              "#0d0887"
             ],
             [
              0.1111111111111111,
              "#46039f"
             ],
             [
              0.2222222222222222,
              "#7201a8"
             ],
             [
              0.3333333333333333,
              "#9c179e"
             ],
             [
              0.4444444444444444,
              "#bd3786"
             ],
             [
              0.5555555555555556,
              "#d8576b"
             ],
             [
              0.6666666666666666,
              "#ed7953"
             ],
             [
              0.7777777777777778,
              "#fb9f3a"
             ],
             [
              0.8888888888888888,
              "#fdca26"
             ],
             [
              1,
              "#f0f921"
             ]
            ],
            "type": "contour"
           }
          ],
          "contourcarpet": [
           {
            "colorbar": {
             "outlinewidth": 0,
             "ticks": ""
            },
            "type": "contourcarpet"
           }
          ],
          "heatmap": [
           {
            "colorbar": {
             "outlinewidth": 0,
             "ticks": ""
            },
            "colorscale": [
             [
              0,
              "#0d0887"
             ],
             [
              0.1111111111111111,
              "#46039f"
             ],
             [
              0.2222222222222222,
              "#7201a8"
             ],
             [
              0.3333333333333333,
              "#9c179e"
             ],
             [
              0.4444444444444444,
              "#bd3786"
             ],
             [
              0.5555555555555556,
              "#d8576b"
             ],
             [
              0.6666666666666666,
              "#ed7953"
             ],
             [
              0.7777777777777778,
              "#fb9f3a"
             ],
             [
              0.8888888888888888,
              "#fdca26"
             ],
             [
              1,
              "#f0f921"
             ]
            ],
            "type": "heatmap"
           }
          ],
          "histogram": [
           {
            "marker": {
             "pattern": {
              "fillmode": "overlay",
              "size": 10,
              "solidity": 0.2
             }
            },
            "type": "histogram"
           }
          ],
          "histogram2d": [
           {
            "colorbar": {
             "outlinewidth": 0,
             "ticks": ""
            },
            "colorscale": [
             [
              0,
              "#0d0887"
             ],
             [
              0.1111111111111111,
              "#46039f"
             ],
             [
              0.2222222222222222,
              "#7201a8"
             ],
             [
              0.3333333333333333,
              "#9c179e"
             ],
             [
              0.4444444444444444,
              "#bd3786"
             ],
             [
              0.5555555555555556,
              "#d8576b"
             ],
             [
              0.6666666666666666,
              "#ed7953"
             ],
             [
              0.7777777777777778,
              "#fb9f3a"
             ],
             [
              0.8888888888888888,
              "#fdca26"
             ],
             [
              1,
              "#f0f921"
             ]
            ],
            "type": "histogram2d"
           }
          ],
          "histogram2dcontour": [
           {
            "colorbar": {
             "outlinewidth": 0,
             "ticks": ""
            },
            "colorscale": [
             [
              0,
              "#0d0887"
             ],
             [
              0.1111111111111111,
              "#46039f"
             ],
             [
              0.2222222222222222,
              "#7201a8"
             ],
             [
              0.3333333333333333,
              "#9c179e"
             ],
             [
              0.4444444444444444,
              "#bd3786"
             ],
             [
              0.5555555555555556,
              "#d8576b"
             ],
             [
              0.6666666666666666,
              "#ed7953"
             ],
             [
              0.7777777777777778,
              "#fb9f3a"
             ],
             [
              0.8888888888888888,
              "#fdca26"
             ],
             [
              1,
              "#f0f921"
             ]
            ],
            "type": "histogram2dcontour"
           }
          ],
          "mesh3d": [
           {
            "colorbar": {
             "outlinewidth": 0,
             "ticks": ""
            },
            "type": "mesh3d"
           }
          ],
          "parcoords": [
           {
            "line": {
             "colorbar": {
              "outlinewidth": 0,
              "ticks": ""
             }
            },
            "type": "parcoords"
           }
          ],
          "pie": [
           {
            "automargin": true,
            "type": "pie"
           }
          ],
          "scatter": [
           {
            "fillpattern": {
             "fillmode": "overlay",
             "size": 10,
             "solidity": 0.2
            },
            "type": "scatter"
           }
          ],
          "scatter3d": [
           {
            "line": {
             "colorbar": {
              "outlinewidth": 0,
              "ticks": ""
             }
            },
            "marker": {
             "colorbar": {
              "outlinewidth": 0,
              "ticks": ""
             }
            },
            "type": "scatter3d"
           }
          ],
          "scattercarpet": [
           {
            "marker": {
             "colorbar": {
              "outlinewidth": 0,
              "ticks": ""
             }
            },
            "type": "scattercarpet"
           }
          ],
          "scattergeo": [
           {
            "marker": {
             "colorbar": {
              "outlinewidth": 0,
              "ticks": ""
             }
            },
            "type": "scattergeo"
           }
          ],
          "scattergl": [
           {
            "marker": {
             "colorbar": {
              "outlinewidth": 0,
              "ticks": ""
             }
            },
            "type": "scattergl"
           }
          ],
          "scattermap": [
           {
            "marker": {
             "colorbar": {
              "outlinewidth": 0,
              "ticks": ""
             }
            },
            "type": "scattermap"
           }
          ],
          "scattermapbox": [
           {
            "marker": {
             "colorbar": {
              "outlinewidth": 0,
              "ticks": ""
             }
            },
            "type": "scattermapbox"
           }
          ],
          "scatterpolar": [
           {
            "marker": {
             "colorbar": {
              "outlinewidth": 0,
              "ticks": ""
             }
            },
            "type": "scatterpolar"
           }
          ],
          "scatterpolargl": [
           {
            "marker": {
             "colorbar": {
              "outlinewidth": 0,
              "ticks": ""
             }
            },
            "type": "scatterpolargl"
           }
          ],
          "scatterternary": [
           {
            "marker": {
             "colorbar": {
              "outlinewidth": 0,
              "ticks": ""
             }
            },
            "type": "scatterternary"
           }
          ],
          "surface": [
           {
            "colorbar": {
             "outlinewidth": 0,
             "ticks": ""
            },
            "colorscale": [
             [
              0,
              "#0d0887"
             ],
             [
              0.1111111111111111,
              "#46039f"
             ],
             [
              0.2222222222222222,
              "#7201a8"
             ],
             [
              0.3333333333333333,
              "#9c179e"
             ],
             [
              0.4444444444444444,
              "#bd3786"
             ],
             [
              0.5555555555555556,
              "#d8576b"
             ],
             [
              0.6666666666666666,
              "#ed7953"
             ],
             [
              0.7777777777777778,
              "#fb9f3a"
             ],
             [
              0.8888888888888888,
              "#fdca26"
             ],
             [
              1,
              "#f0f921"
             ]
            ],
            "type": "surface"
           }
          ],
          "table": [
           {
            "cells": {
             "fill": {
              "color": "#EBF0F8"
             },
             "line": {
              "color": "white"
             }
            },
            "header": {
             "fill": {
              "color": "#C8D4E3"
             },
             "line": {
              "color": "white"
             }
            },
            "type": "table"
           }
          ]
         },
         "layout": {
          "annotationdefaults": {
           "arrowcolor": "#2a3f5f",
           "arrowhead": 0,
           "arrowwidth": 1
          },
          "autotypenumbers": "strict",
          "coloraxis": {
           "colorbar": {
            "outlinewidth": 0,
            "ticks": ""
           }
          },
          "colorscale": {
           "diverging": [
            [
             0,
             "#8e0152"
            ],
            [
             0.1,
             "#c51b7d"
            ],
            [
             0.2,
             "#de77ae"
            ],
            [
             0.3,
             "#f1b6da"
            ],
            [
             0.4,
             "#fde0ef"
            ],
            [
             0.5,
             "#f7f7f7"
            ],
            [
             0.6,
             "#e6f5d0"
            ],
            [
             0.7,
             "#b8e186"
            ],
            [
             0.8,
             "#7fbc41"
            ],
            [
             0.9,
             "#4d9221"
            ],
            [
             1,
             "#276419"
            ]
           ],
           "sequential": [
            [
             0,
             "#0d0887"
            ],
            [
             0.1111111111111111,
             "#46039f"
            ],
            [
             0.2222222222222222,
             "#7201a8"
            ],
            [
             0.3333333333333333,
             "#9c179e"
            ],
            [
             0.4444444444444444,
             "#bd3786"
            ],
            [
             0.5555555555555556,
             "#d8576b"
            ],
            [
             0.6666666666666666,
             "#ed7953"
            ],
            [
             0.7777777777777778,
             "#fb9f3a"
            ],
            [
             0.8888888888888888,
             "#fdca26"
            ],
            [
             1,
             "#f0f921"
            ]
           ],
           "sequentialminus": [
            [
             0,
             "#0d0887"
            ],
            [
             0.1111111111111111,
             "#46039f"
            ],
            [
             0.2222222222222222,
             "#7201a8"
            ],
            [
             0.3333333333333333,
             "#9c179e"
            ],
            [
             0.4444444444444444,
             "#bd3786"
            ],
            [
             0.5555555555555556,
             "#d8576b"
            ],
            [
             0.6666666666666666,
             "#ed7953"
            ],
            [
             0.7777777777777778,
             "#fb9f3a"
            ],
            [
             0.8888888888888888,
             "#fdca26"
            ],
            [
             1,
             "#f0f921"
            ]
           ]
          },
          "colorway": [
           "#636efa",
           "#EF553B",
           "#00cc96",
           "#ab63fa",
           "#FFA15A",
           "#19d3f3",
           "#FF6692",
           "#B6E880",
           "#FF97FF",
           "#FECB52"
          ],
          "font": {
           "color": "#2a3f5f"
          },
          "geo": {
           "bgcolor": "white",
           "lakecolor": "white",
           "landcolor": "#E5ECF6",
           "showlakes": true,
           "showland": true,
           "subunitcolor": "white"
          },
          "hoverlabel": {
           "align": "left"
          },
          "hovermode": "closest",
          "mapbox": {
           "style": "light"
          },
          "paper_bgcolor": "white",
          "plot_bgcolor": "#E5ECF6",
          "polar": {
           "angularaxis": {
            "gridcolor": "white",
            "linecolor": "white",
            "ticks": ""
           },
           "bgcolor": "#E5ECF6",
           "radialaxis": {
            "gridcolor": "white",
            "linecolor": "white",
            "ticks": ""
           }
          },
          "scene": {
           "xaxis": {
            "backgroundcolor": "#E5ECF6",
            "gridcolor": "white",
            "gridwidth": 2,
            "linecolor": "white",
            "showbackground": true,
            "ticks": "",
            "zerolinecolor": "white"
           },
           "yaxis": {
            "backgroundcolor": "#E5ECF6",
            "gridcolor": "white",
            "gridwidth": 2,
            "linecolor": "white",
            "showbackground": true,
            "ticks": "",
            "zerolinecolor": "white"
           },
           "zaxis": {
            "backgroundcolor": "#E5ECF6",
            "gridcolor": "white",
            "gridwidth": 2,
            "linecolor": "white",
            "showbackground": true,
            "ticks": "",
            "zerolinecolor": "white"
           }
          },
          "shapedefaults": {
           "line": {
            "color": "#2a3f5f"
           }
          },
          "ternary": {
           "aaxis": {
            "gridcolor": "white",
            "linecolor": "white",
            "ticks": ""
           },
           "baxis": {
            "gridcolor": "white",
            "linecolor": "white",
            "ticks": ""
           },
           "bgcolor": "#E5ECF6",
           "caxis": {
            "gridcolor": "white",
            "linecolor": "white",
            "ticks": ""
           }
          },
          "title": {
           "x": 0.05
          },
          "xaxis": {
           "automargin": true,
           "gridcolor": "white",
           "linecolor": "white",
           "ticks": "",
           "title": {
            "standoff": 15
           },
           "zerolinecolor": "white",
           "zerolinewidth": 2
          },
          "yaxis": {
           "automargin": true,
           "gridcolor": "white",
           "linecolor": "white",
           "ticks": "",
           "title": {
            "standoff": 15
           },
           "zerolinecolor": "white",
           "zerolinewidth": 2
          }
         }
        },
        "title": {
         "text": "Work Suitability vs HP by Element Type"
        },
        "xaxis": {
         "anchor": "y",
         "domain": [
          0,
          1
         ],
         "title": {
          "text": "Highest Work Suitability Level"
         }
        },
        "yaxis": {
         "anchor": "x",
         "domain": [
          0,
          1
         ],
         "title": {
          "text": "HP"
         }
        }
       }
      }
     },
     "metadata": {},
     "output_type": "display_data"
    },
    {
     "data": {
      "application/vnd.plotly.v1+json": {
       "config": {
        "plotlyServerURL": "https://plot.ly"
       },
       "data": [
        {
         "alignmentgroup": "True",
         "hovertemplate": "Work Type=Cooling<br>Element Type=%{x}<br>Level=%{y}<extra></extra>",
         "legendgroup": "Cooling",
         "marker": {
          "color": "#636efa",
          "pattern": {
           "shape": ""
          }
         },
         "name": "Cooling",
         "offsetgroup": "Cooling",
         "orientation": "v",
         "showlegend": true,
         "textposition": "auto",
         "type": "bar",
         "x": [
          "Dark",
          "Dragon",
          "Earth",
          "Fire",
          "Ice",
          "Water"
         ],
         "xaxis": "x",
         "y": {
          "bdata": "AAAAAAAAAEAAAAAAAAAAQAAAAAAAAARAAAAAAAAAEEBpaWlpaWkBQDMzMzMzMwNA",
          "dtype": "f8"
         },
         "yaxis": "y"
        },
        {
         "alignmentgroup": "True",
         "hovertemplate": "Work Type=Deforesting<br>Element Type=%{x}<br>Level=%{y}<extra></extra>",
         "legendgroup": "Deforesting",
         "marker": {
          "color": "#EF553B",
          "pattern": {
           "shape": ""
          }
         },
         "name": "Deforesting",
         "offsetgroup": "Deforesting",
         "orientation": "v",
         "showlegend": true,
         "textposition": "auto",
         "type": "bar",
         "x": [
          "Dark",
          "Dragon",
          "Earth",
          "Electricity",
          "Fire",
          "Ice",
          "Leaf",
          "Normal"
         ],
         "xaxis": "x",
         "y": {
          "bdata": "q6qqqqqq+j+amZmZmZkBQDmO4ziO4wBAAAAAAAAA/D9u27Zt27b9PwAAAAAAAARAOY7jOI7j+D9JkiRJkiQBQA==",
          "dtype": "f8"
         },
         "yaxis": "y"
        },
        {
         "alignmentgroup": "True",
         "hovertemplate": "Work Type=Farming<br>Element Type=%{x}<br>Level=%{y}<extra></extra>",
         "legendgroup": "Farming",
         "marker": {
          "color": "#00cc96",
          "pattern": {
           "shape": ""
          }
         },
         "name": "Farming",
         "offsetgroup": "Farming",
         "orientation": "v",
         "showlegend": true,
         "textposition": "auto",
         "type": "bar",
         "x": [
          "Dark",
          "Earth",
          "Fire",
          "Ice",
          "Leaf",
          "Normal",
          "Water"
         ],
         "xaxis": "x",
         "y": {
          "bdata": "AAAAAAAA8D8AAAAAAADwPwAAAAAAAPA/AAAAAAAA8D8AAAAAAADwPwAAAAAAAPA/AAAAAAAA8D8=",
          "dtype": "f8"
         },
         "yaxis": "y"
        },
        {
         "alignmentgroup": "True",
         "hovertemplate": "Work Type=Gathering<br>Element Type=%{x}<br>Level=%{y}<extra></extra>",
         "legendgroup": "Gathering",
         "marker": {
          "color": "#ab63fa",
          "pattern": {
           "shape": ""
          }
         },
         "name": "Gathering",
         "offsetgroup": "Gathering",
         "orientation": "v",
         "showlegend": true,
         "textposition": "auto",
         "type": "bar",
         "x": [
          "Dark",
          "Dragon",
          "Earth",
          "Electricity",
          "Fire",
          "Ice",
          "Leaf",
          "Normal",
          "Water"
         ],
         "xaxis": "x",
         "y": {
          "bdata": "q6qqqqqq+j/NzMzMzMz8PwAAAAAAAABAAAAAAAAA8D8AAAAAAADwPzMzMzMzM/M/AAAAAAAA+T8cx3Ecx3H0PwAAAAAAAPA/",
          "dtype": "f8"
         },
         "yaxis": "y"
        },
        {
         "alignmentgroup": "True",
         "hovertemplate": "Work Type=Generating Electricity<br>Element Type=%{x}<br>Level=%{y}<extra></extra>",
         "legendgroup": "Generating Electricity",
         "marker": {
          "color": "#FFA15A",
          "pattern": {
           "shape": ""
          }
         },
         "name": "Generating Electricity",
         "offsetgroup": "Generating Electricity",
         "orientation": "v",
         "showlegend": true,
         "textposition": "auto",
         "type": "bar",
         "x": [
          "Dark",
          "Dragon",
          "Electricity"
         ],
         "xaxis": "x",
         "y": {
          "bdata": "AAAAAAAAAEAAAAAAAAAIQE/sxE7sxP4/",
          "dtype": "f8"
         },
         "yaxis": "y"
        },
        {
         "alignmentgroup": "True",
         "hovertemplate": "Work Type=Handiwork<br>Element Type=%{x}<br>Level=%{y}<extra></extra>",
         "legendgroup": "Handiwork",
         "marker": {
          "color": "#19d3f3",
          "pattern": {
           "shape": ""
          }
         },
         "name": "Handiwork",
         "offsetgroup": "Handiwork",
         "orientation": "v",
         "showlegend": true,
         "textposition": "auto",
         "type": "bar",
         "x": [
          "Dark",
          "Dragon",
          "Earth",
          "Electricity",
          "Fire",
          "Ice",
          "Leaf",
          "Normal",
          "Water"
         ],
         "xaxis": "x",
         "y": {
          "bdata": "MzMzMzMz/z8AAAAAAAD0PwAAAAAAAPg/AAAAAAAA+D8vuuiiiy76P5qZmZmZmfk/AAAAAAAA+z/btm3btm37P6uqqqqqqvI/",
          "dtype": "f8"
         },
         "yaxis": "y"
        },
        {
         "alignmentgroup": "True",
         "hovertemplate": "Work Type=Kindling<br>Element Type=%{x}<br>Level=%{y}<extra></extra>",
         "legendgroup": "Kindling",
         "marker": {
          "color": "#FF6692",
          "pattern": {
           "shape": ""
          }
         },
         "name": "Kindling",
         "offsetgroup": "Kindling",
         "orientation": "v",
         "showlegend": true,
         "textposition": "auto",
         "type": "bar",
         "x": [
          "Dark",
          "Earth",
          "Fire"
         ],
         "xaxis": "x",
         "y": {
          "bdata": "AAAAAAAAAEAAAAAAAAAIQEoppZRSSgFA",
          "dtype": "f8"
         },
         "yaxis": "y"
        },
        {
         "alignmentgroup": "True",
         "hovertemplate": "Work Type=Medicine Production<br>Element Type=%{x}<br>Level=%{y}<extra></extra>",
         "legendgroup": "Medicine Production",
         "marker": {
          "color": "#B6E880",
          "pattern": {
           "shape": ""
          }
         },
         "name": "Medicine Production",
         "offsetgroup": "Medicine Production",
         "orientation": "v",
         "showlegend": true,
         "textposition": "auto",
         "type": "bar",
         "x": [
          "Dark",
          "Earth",
          "Fire",
          "Ice",
          "Leaf",
          "Normal"
         ],
         "xaxis": "x",
         "y": {
          "bdata": "F1100UUXBUAAAAAAAADwPwAAAAAAAABAAAAAAAAAAECjiy666KL7PwAAAAAAAPg/",
          "dtype": "f8"
         },
         "yaxis": "y"
        },
        {
         "alignmentgroup": "True",
         "hovertemplate": "Work Type=Mining<br>Element Type=%{x}<br>Level=%{y}<extra></extra>",
         "legendgroup": "Mining",
         "marker": {
          "color": "#FF97FF",
          "pattern": {
           "shape": ""
          }
         },
         "name": "Mining",
         "offsetgroup": "Mining",
         "orientation": "v",
         "showlegend": true,
         "textposition": "auto",
         "type": "bar",
         "x": [
          "Dark",
          "Dragon",
          "Earth",
          "Electricity",
          "Fire",
          "Ice",
          "Leaf",
          "Normal",
          "Water"
         ],
         "xaxis": "x",
         "y": {
          "bdata": "ZmZmZmZm9j8AAAAAAAAGQGwor6G8hgJAAAAAAAAAAEAAAAAAAAAGQAAAAAAAAAhAAAAAAAAACEBVVVVVVVX1PwAAAAAAAPg/",
          "dtype": "f8"
         },
         "yaxis": "y"
        },
        {
         "alignmentgroup": "True",
         "hovertemplate": "Work Type=Planting<br>Element Type=%{x}<br>Level=%{y}<extra></extra>",
         "legendgroup": "Planting",
         "marker": {
          "color": "#FECB52",
          "pattern": {
           "shape": ""
          }
         },
         "name": "Planting",
         "offsetgroup": "Planting",
         "orientation": "v",
         "showlegend": true,
         "textposition": "auto",
         "type": "bar",
         "x": [
          "Dark",
          "Dragon",
          "Earth",
          "Leaf"
         ],
         "xaxis": "x",
         "y": {
          "bdata": "q6qqqqqqAkAAAAAAAAAAQAAAAAAAAABAPc/zPM/z/D8=",
          "dtype": "f8"
         },
         "yaxis": "y"
        },
        {
         "alignmentgroup": "True",
         "hovertemplate": "Work Type=Transporting<br>Element Type=%{x}<br>Level=%{y}<extra></extra>",
         "legendgroup": "Transporting",
         "marker": {
          "color": "#636efa",
          "pattern": {
           "shape": ""
          }
         },
         "name": "Transporting",
         "offsetgroup": "Transporting",
         "orientation": "v",
         "showlegend": true,
         "textposition": "auto",
         "type": "bar",
         "x": [
          "Dark",
          "Dragon",
          "Earth",
          "Electricity",
          "Fire",
          "Ice",
          "Leaf",
          "Normal",
          "Water"
         ],
         "xaxis": "x",
         "y": {
          "bdata": "juM4juM4/j+amZmZmZkBQFVVVVVVVQFAAAAAAAAA/j8AAAAAAAD9PwAAAAAAAARAip3YiZ3Y+T9mZmZmZmb2P8VO7MRO7PQ/",
          "dtype": "f8"
         },
         "yaxis": "y"
        },
        {
         "alignmentgroup": "True",
         "hovertemplate": "Work Type=Watering<br>Element Type=%{x}<br>Level=%{y}<extra></extra>",
         "legendgroup": "Watering",
         "marker": {
          "color": "#EF553B",
          "pattern": {
           "shape": ""
          }
         },
         "name": "Watering",
         "offsetgroup": "Watering",
         "orientation": "v",
         "showlegend": true,
         "textposition": "auto",
         "type": "bar",
         "x": [
          "Dark",
          "Dragon",
          "Earth",
          "Electricity",
          "Fire",
          "Water"
         ],
         "xaxis": "x",
         "y": {
          "bdata": "AAAAAAAAAEAAAAAAAAAIQFVVVVVVVfU/VVVVVVVV9T+rqqqqqqoCQDMzMzMzM/8/",
          "dtype": "f8"
         },
         "yaxis": "y"
        }
       ],
       "layout": {
        "barmode": "group",
        "legend": {
         "title": {
          "text": "Work Type"
         },
         "tracegroupgap": 0
        },
        "template": {
         "data": {
          "bar": [
           {
            "error_x": {
             "color": "#2a3f5f"
            },
            "error_y": {
             "color": "#2a3f5f"
            },
            "marker": {
             "line": {
              "color": "#E5ECF6",
              "width": 0.5
             },
             "pattern": {
              "fillmode": "overlay",
              "size": 10,
              "solidity": 0.2
             }
            },
            "type": "bar"
           }
          ],
          "barpolar": [
           {
            "marker": {
             "line": {
              "color": "#E5ECF6",
              "width": 0.5
             },
             "pattern": {
              "fillmode": "overlay",
              "size": 10,
              "solidity": 0.2
             }
            },
            "type": "barpolar"
           }
          ],
          "carpet": [
           {
            "aaxis": {
             "endlinecolor": "#2a3f5f",
             "gridcolor": "white",
             "linecolor": "white",
             "minorgridcolor": "white",
             "startlinecolor": "#2a3f5f"
            },
            "baxis": {
             "endlinecolor": "#2a3f5f",
             "gridcolor": "white",
             "linecolor": "white",
             "minorgridcolor": "white",
             "startlinecolor": "#2a3f5f"
            },
            "type": "carpet"
           }
          ],
          "choropleth": [
           {
            "colorbar": {
             "outlinewidth": 0,
             "ticks": ""
            },
            "type": "choropleth"
           }
          ],
          "contour": [
           {
            "colorbar": {
             "outlinewidth": 0,
             "ticks": ""
            },
            "colorscale": [
             [
              0,
              "#0d0887"
             ],
             [
              0.1111111111111111,
              "#46039f"
             ],
             [
              0.2222222222222222,
              "#7201a8"
             ],
             [
              0.3333333333333333,
              "#9c179e"
             ],
             [
              0.4444444444444444,
              "#bd3786"
             ],
             [
              0.5555555555555556,
              "#d8576b"
             ],
             [
              0.6666666666666666,
              "#ed7953"
             ],
             [
              0.7777777777777778,
              "#fb9f3a"
             ],
             [
              0.8888888888888888,
              "#fdca26"
             ],
             [
              1,
              "#f0f921"
             ]
            ],
            "type": "contour"
           }
          ],
          "contourcarpet": [
           {
            "colorbar": {
             "outlinewidth": 0,
             "ticks": ""
            },
            "type": "contourcarpet"
           }
          ],
          "heatmap": [
           {
            "colorbar": {
             "outlinewidth": 0,
             "ticks": ""
            },
            "colorscale": [
             [
              0,
              "#0d0887"
             ],
             [
              0.1111111111111111,
              "#46039f"
             ],
             [
              0.2222222222222222,
              "#7201a8"
             ],
             [
              0.3333333333333333,
              "#9c179e"
             ],
             [
              0.4444444444444444,
              "#bd3786"
             ],
             [
              0.5555555555555556,
              "#d8576b"
             ],
             [
              0.6666666666666666,
              "#ed7953"
             ],
             [
              0.7777777777777778,
              "#fb9f3a"
             ],
             [
              0.8888888888888888,
              "#fdca26"
             ],
             [
              1,
              "#f0f921"
             ]
            ],
            "type": "heatmap"
           }
          ],
          "histogram": [
           {
            "marker": {
             "pattern": {
              "fillmode": "overlay",
              "size": 10,
              "solidity": 0.2
             }
            },
            "type": "histogram"
           }
          ],
          "histogram2d": [
           {
            "colorbar": {
             "outlinewidth": 0,
             "ticks": ""
            },
            "colorscale": [
             [
              0,
              "#0d0887"
             ],
             [
              0.1111111111111111,
              "#46039f"
             ],
             [
              0.2222222222222222,
              "#7201a8"
             ],
             [
              0.3333333333333333,
              "#9c179e"
             ],
             [
              0.4444444444444444,
              "#bd3786"
             ],
             [
              0.5555555555555556,
              "#d8576b"
             ],
             [
              0.6666666666666666,
              "#ed7953"
             ],
             [
              0.7777777777777778,
              "#fb9f3a"
             ],
             [
              0.8888888888888888,
              "#fdca26"
             ],
             [
              1,
              "#f0f921"
             ]
            ],
            "type": "histogram2d"
           }
          ],
          "histogram2dcontour": [
           {
            "colorbar": {
             "outlinewidth": 0,
             "ticks": ""
            },
            "colorscale": [
             [
              0,
              "#0d0887"
             ],
             [
              0.1111111111111111,
              "#46039f"
             ],
             [
              0.2222222222222222,
              "#7201a8"
             ],
             [
              0.3333333333333333,
              "#9c179e"
             ],
             [
              0.4444444444444444,
              "#bd3786"
             ],
             [
              0.5555555555555556,
              "#d8576b"
             ],
             [
              0.6666666666666666,
              "#ed7953"
             ],
             [
              0.7777777777777778,
              "#fb9f3a"
             ],
             [
              0.8888888888888888,
              "#fdca26"
             ],
             [
              1,
              "#f0f921"
             ]
            ],
            "type": "histogram2dcontour"
           }
          ],
          "mesh3d": [
           {
            "colorbar": {
             "outlinewidth": 0,
             "ticks": ""
            },
            "type": "mesh3d"
           }
          ],
          "parcoords": [
           {
            "line": {
             "colorbar": {
              "outlinewidth": 0,
              "ticks": ""
             }
            },
            "type": "parcoords"
           }
          ],
          "pie": [
           {
            "automargin": true,
            "type": "pie"
           }
          ],
          "scatter": [
           {
            "fillpattern": {
             "fillmode": "overlay",
             "size": 10,
             "solidity": 0.2
            },
            "type": "scatter"
           }
          ],
          "scatter3d": [
           {
            "line": {
             "colorbar": {
              "outlinewidth": 0,
              "ticks": ""
             }
            },
            "marker": {
             "colorbar": {
              "outlinewidth": 0,
              "ticks": ""
             }
            },
            "type": "scatter3d"
           }
          ],
          "scattercarpet": [
           {
            "marker": {
             "colorbar": {
              "outlinewidth": 0,
              "ticks": ""
             }
            },
            "type": "scattercarpet"
           }
          ],
          "scattergeo": [
           {
            "marker": {
             "colorbar": {
              "outlinewidth": 0,
              "ticks": ""
             }
            },
            "type": "scattergeo"
           }
          ],
          "scattergl": [
           {
            "marker": {
             "colorbar": {
              "outlinewidth": 0,
              "ticks": ""
             }
            },
            "type": "scattergl"
           }
          ],
          "scattermap": [
           {
            "marker": {
             "colorbar": {
              "outlinewidth": 0,
              "ticks": ""
             }
            },
            "type": "scattermap"
           }
          ],
          "scattermapbox": [
           {
            "marker": {
             "colorbar": {
              "outlinewidth": 0,
              "ticks": ""
             }
            },
            "type": "scattermapbox"
           }
          ],
          "scatterpolar": [
           {
            "marker": {
             "colorbar": {
              "outlinewidth": 0,
              "ticks": ""
             }
            },
            "type": "scatterpolar"
           }
          ],
          "scatterpolargl": [
           {
            "marker": {
             "colorbar": {
              "outlinewidth": 0,
              "ticks": ""
             }
            },
            "type": "scatterpolargl"
           }
          ],
          "scatterternary": [
           {
            "marker": {
             "colorbar": {
              "outlinewidth": 0,
              "ticks": ""
             }
            },
            "type": "scatterternary"
           }
          ],
          "surface": [
           {
            "colorbar": {
             "outlinewidth": 0,
             "ticks": ""
            },
            "colorscale": [
             [
              0,
              "#0d0887"
             ],
             [
              0.1111111111111111,
              "#46039f"
             ],
             [
              0.2222222222222222,
              "#7201a8"
             ],
             [
              0.3333333333333333,
              "#9c179e"
             ],
             [
              0.4444444444444444,
              "#bd3786"
             ],
             [
              0.5555555555555556,
              "#d8576b"
             ],
             [
              0.6666666666666666,
              "#ed7953"
             ],
             [
              0.7777777777777778,
              "#fb9f3a"
             ],
             [
              0.8888888888888888,
              "#fdca26"
             ],
             [
              1,
              "#f0f921"
             ]
            ],
            "type": "surface"
           }
          ],
          "table": [
           {
            "cells": {
             "fill": {
              "color": "#EBF0F8"
             },
             "line": {
              "color": "white"
             }
            },
            "header": {
             "fill": {
              "color": "#C8D4E3"
             },
             "line": {
              "color": "white"
             }
            },
            "type": "table"
           }
          ]
         },
         "layout": {
          "annotationdefaults": {
           "arrowcolor": "#2a3f5f",
           "arrowhead": 0,
           "arrowwidth": 1
          },
          "autotypenumbers": "strict",
          "coloraxis": {
           "colorbar": {
            "outlinewidth": 0,
            "ticks": ""
           }
          },
          "colorscale": {
           "diverging": [
            [
             0,
             "#8e0152"
            ],
            [
             0.1,
             "#c51b7d"
            ],
            [
             0.2,
             "#de77ae"
            ],
            [
             0.3,
             "#f1b6da"
            ],
            [
             0.4,
             "#fde0ef"
            ],
            [
             0.5,
             "#f7f7f7"
            ],
            [
             0.6,
             "#e6f5d0"
            ],
            [
             0.7,
             "#b8e186"
            ],
            [
             0.8,
             "#7fbc41"
            ],
            [
             0.9,
             "#4d9221"
            ],
            [
             1,
             "#276419"
            ]
           ],
           "sequential": [
            [
             0,
             "#0d0887"
            ],
            [
             0.1111111111111111,
             "#46039f"
            ],
            [
             0.2222222222222222,
             "#7201a8"
            ],
            [
             0.3333333333333333,
             "#9c179e"
            ],
            [
             0.4444444444444444,
             "#bd3786"
            ],
            [
             0.5555555555555556,
             "#d8576b"
            ],
            [
             0.6666666666666666,
             "#ed7953"
            ],
            [
             0.7777777777777778,
             "#fb9f3a"
            ],
            [
             0.8888888888888888,
             "#fdca26"
            ],
            [
             1,
             "#f0f921"
            ]
           ],
           "sequentialminus": [
            [
             0,
             "#0d0887"
            ],
            [
             0.1111111111111111,
             "#46039f"
            ],
            [
             0.2222222222222222,
             "#7201a8"
            ],
            [
             0.3333333333333333,
             "#9c179e"
            ],
            [
             0.4444444444444444,
             "#bd3786"
            ],
            [
             0.5555555555555556,
             "#d8576b"
            ],
            [
             0.6666666666666666,
             "#ed7953"
            ],
            [
             0.7777777777777778,
             "#fb9f3a"
            ],
            [
             0.8888888888888888,
             "#fdca26"
            ],
            [
             1,
             "#f0f921"
            ]
           ]
          },
          "colorway": [
           "#636efa",
           "#EF553B",
           "#00cc96",
           "#ab63fa",
           "#FFA15A",
           "#19d3f3",
           "#FF6692",
           "#B6E880",
           "#FF97FF",
           "#FECB52"
          ],
          "font": {
           "color": "#2a3f5f"
          },
          "geo": {
           "bgcolor": "white",
           "lakecolor": "white",
           "landcolor": "#E5ECF6",
           "showlakes": true,
           "showland": true,
           "subunitcolor": "white"
          },
          "hoverlabel": {
           "align": "left"
          },
          "hovermode": "closest",
          "mapbox": {
           "style": "light"
          },
          "paper_bgcolor": "white",
          "plot_bgcolor": "#E5ECF6",
          "polar": {
           "angularaxis": {
            "gridcolor": "white",
            "linecolor": "white",
            "ticks": ""
           },
           "bgcolor": "#E5ECF6",
           "radialaxis": {
            "gridcolor": "white",
            "linecolor": "white",
            "ticks": ""
           }
          },
          "scene": {
           "xaxis": {
            "backgroundcolor": "#E5ECF6",
            "gridcolor": "white",
            "gridwidth": 2,
            "linecolor": "white",
            "showbackground": true,
            "ticks": "",
            "zerolinecolor": "white"
           },
           "yaxis": {
            "backgroundcolor": "#E5ECF6",
            "gridcolor": "white",
            "gridwidth": 2,
            "linecolor": "white",
            "showbackground": true,
            "ticks": "",
            "zerolinecolor": "white"
           },
           "zaxis": {
            "backgroundcolor": "#E5ECF6",
            "gridcolor": "white",
            "gridwidth": 2,
            "linecolor": "white",
            "showbackground": true,
            "ticks": "",
            "zerolinecolor": "white"
           }
          },
          "shapedefaults": {
           "line": {
            "color": "#2a3f5f"
           }
          },
          "ternary": {
           "aaxis": {
            "gridcolor": "white",
            "linecolor": "white",
            "ticks": ""
           },
           "baxis": {
            "gridcolor": "white",
            "linecolor": "white",
            "ticks": ""
           },
           "bgcolor": "#E5ECF6",
           "caxis": {
            "gridcolor": "white",
            "linecolor": "white",
            "ticks": ""
           }
          },
          "title": {
           "x": 0.05
          },
          "xaxis": {
           "automargin": true,
           "gridcolor": "white",
           "linecolor": "white",
           "ticks": "",
           "title": {
            "standoff": 15
           },
           "zerolinecolor": "white",
           "zerolinewidth": 2
          },
          "yaxis": {
           "automargin": true,
           "gridcolor": "white",
           "linecolor": "white",
           "ticks": "",
           "title": {
            "standoff": 15
           },
           "zerolinecolor": "white",
           "zerolinewidth": 2
          }
         }
        },
        "title": {
         "text": "Average Work Suitability Level by Element Type & Work Type"
        },
        "xaxis": {
         "anchor": "y",
         "domain": [
          0,
          1
         ],
         "title": {
          "text": "Element Type"
         }
        },
        "yaxis": {
         "anchor": "x",
         "domain": [
          0,
          1
         ],
         "title": {
          "text": "Level"
         }
        }
       }
      }
     },
     "metadata": {},
     "output_type": "display_data"
    },
    {
     "data": {
      "application/vnd.plotly.v1+json": {
       "config": {
        "plotlyServerURL": "https://plot.ly"
       },
       "data": [
        {
         "coloraxis": "coloraxis",
         "histfunc": "sum",
         "hovertemplate": "Work Skill Count=%{x}<br>Rarity=%{y}<br>sum of Count=%{z}<extra></extra>",
         "name": "",
         "type": "histogram2d",
         "x": {
          "bdata": "AAAAAAAA8D8AAAAAAAAAQAAAAAAAAAhAAAAAAAAAEEAAAAAAAAAUQAAAAAAAABxAAAAAAAAA8D8AAAAAAAAAQAAAAAAAAAhAAAAAAAAAEEAAAAAAAAAUQAAAAAAAAPA/AAAAAAAAAEAAAAAAAAAIQAAAAAAAAPA/AAAAAAAAAEAAAAAAAAAIQAAAAAAAABBAAAAAAAAAFEAAAAAAAAAYQA==",
          "dtype": "f8"
         },
         "xaxis": "x",
         "xbingroup": "x",
         "y": [
          "Common",
          "Common",
          "Common",
          "Common",
          "Common",
          "Common",
          "Epic",
          "Epic",
          "Epic",
          "Epic",
          "Epic",
          "Legendary",
          "Legendary",
          "Legendary",
          "Rare",
          "Rare",
          "Rare",
          "Rare",
          "Rare",
          "Rare"
         ],
         "yaxis": "y",
         "ybingroup": "y",
         "z": {
          "bdata": "JBMWEwQBDA4JBAUEAgIRFQ4LCAE=",
          "dtype": "i1"
         }
        }
       ],
       "layout": {
        "coloraxis": {
         "colorbar": {
          "title": {
           "text": "sum of Count"
          }
         },
         "colorscale": [
          [
           0,
           "#440154"
          ],
          [
           0.1111111111111111,
           "#482878"
          ],
          [
           0.2222222222222222,
           "#3e4989"
          ],
          [
           0.3333333333333333,
           "#31688e"
          ],
          [
           0.4444444444444444,
           "#26828e"
          ],
          [
           0.5555555555555556,
           "#1f9e89"
          ],
          [
           0.6666666666666666,
           "#35b779"
          ],
          [
           0.7777777777777778,
           "#6ece58"
          ],
          [
           0.8888888888888888,
           "#b5de2b"
          ],
          [
           1,
           "#fde725"
          ]
         ]
        },
        "legend": {
         "tracegroupgap": 0
        },
        "template": {
         "data": {
          "bar": [
           {
            "error_x": {
             "color": "#2a3f5f"
            },
            "error_y": {
             "color": "#2a3f5f"
            },
            "marker": {
             "line": {
              "color": "#E5ECF6",
              "width": 0.5
             },
             "pattern": {
              "fillmode": "overlay",
              "size": 10,
              "solidity": 0.2
             }
            },
            "type": "bar"
           }
          ],
          "barpolar": [
           {
            "marker": {
             "line": {
              "color": "#E5ECF6",
              "width": 0.5
             },
             "pattern": {
              "fillmode": "overlay",
              "size": 10,
              "solidity": 0.2
             }
            },
            "type": "barpolar"
           }
          ],
          "carpet": [
           {
            "aaxis": {
             "endlinecolor": "#2a3f5f",
             "gridcolor": "white",
             "linecolor": "white",
             "minorgridcolor": "white",
             "startlinecolor": "#2a3f5f"
            },
            "baxis": {
             "endlinecolor": "#2a3f5f",
             "gridcolor": "white",
             "linecolor": "white",
             "minorgridcolor": "white",
             "startlinecolor": "#2a3f5f"
            },
            "type": "carpet"
           }
          ],
          "choropleth": [
           {
            "colorbar": {
             "outlinewidth": 0,
             "ticks": ""
            },
            "type": "choropleth"
           }
          ],
          "contour": [
           {
            "colorbar": {
             "outlinewidth": 0,
             "ticks": ""
            },
            "colorscale": [
             [
              0,
              "#0d0887"
             ],
             [
              0.1111111111111111,
              "#46039f"
             ],
             [
              0.2222222222222222,
              "#7201a8"
             ],
             [
              0.3333333333333333,
              "#9c179e"
             ],
             [
              0.4444444444444444,
              "#bd3786"
             ],
             [
              0.5555555555555556,
              "#d8576b"
             ],
             [
              0.6666666666666666,
              "#ed7953"
             ],
             [
              0.7777777777777778,
              "#fb9f3a"
             ],
             [
              0.8888888888888888,
              "#fdca26"
             ],
             [
              1,
              "#f0f921"
             ]
            ],
            "type": "contour"
           }
          ],
          "contourcarpet": [
           {
            "colorbar": {
             "outlinewidth": 0,
             "ticks": ""
            },
            "type": "contourcarpet"
           }
          ],
          "heatmap": [
           {
            "colorbar": {
             "outlinewidth": 0,
             "ticks": ""
            },
            "colorscale": [
             [
              0,
              "#0d0887"
             ],
             [
              0.1111111111111111,
              "#46039f"
             ],
             [
              0.2222222222222222,
              "#7201a8"
             ],
             [
              0.3333333333333333,
              "#9c179e"
             ],
             [
              0.4444444444444444,
              "#bd3786"
             ],
             [
              0.5555555555555556,
              "#d8576b"
             ],
             [
              0.6666666666666666,
              "#ed7953"
             ],
             [
              0.7777777777777778,
              "#fb9f3a"
             ],
             [
              0.8888888888888888,
              "#fdca26"
             ],
             [
              1,
              "#f0f921"
             ]
            ],
            "type": "heatmap"
           }
          ],
          "histogram": [
           {
            "marker": {
             "pattern": {
              "fillmode": "overlay",
              "size": 10,
              "solidity": 0.2
             }
            },
            "type": "histogram"
           }
          ],
          "histogram2d": [
           {
            "colorbar": {
             "outlinewidth": 0,
             "ticks": ""
            },
            "colorscale": [
             [
              0,
              "#0d0887"
             ],
             [
              0.1111111111111111,
              "#46039f"
             ],
             [
              0.2222222222222222,
              "#7201a8"
             ],
             [
              0.3333333333333333,
              "#9c179e"
             ],
             [
              0.4444444444444444,
              "#bd3786"
             ],
             [
              0.5555555555555556,
              "#d8576b"
             ],
             [
              0.6666666666666666,
              "#ed7953"
             ],
             [
              0.7777777777777778,
              "#fb9f3a"
             ],
             [
              0.8888888888888888,
              "#fdca26"
             ],
             [
              1,
              "#f0f921"
             ]
            ],
            "type": "histogram2d"
           }
          ],
          "histogram2dcontour": [
           {
            "colorbar": {
             "outlinewidth": 0,
             "ticks": ""
            },
            "colorscale": [
             [
              0,
              "#0d0887"
             ],
             [
              0.1111111111111111,
              "#46039f"
             ],
             [
              0.2222222222222222,
              "#7201a8"
             ],
             [
              0.3333333333333333,
              "#9c179e"
             ],
             [
              0.4444444444444444,
              "#bd3786"
             ],
             [
              0.5555555555555556,
              "#d8576b"
             ],
             [
              0.6666666666666666,
              "#ed7953"
             ],
             [
              0.7777777777777778,
              "#fb9f3a"
             ],
             [
              0.8888888888888888,
              "#fdca26"
             ],
             [
              1,
              "#f0f921"
             ]
            ],
            "type": "histogram2dcontour"
           }
          ],
          "mesh3d": [
           {
            "colorbar": {
             "outlinewidth": 0,
             "ticks": ""
            },
            "type": "mesh3d"
           }
          ],
          "parcoords": [
           {
            "line": {
             "colorbar": {
              "outlinewidth": 0,
              "ticks": ""
             }
            },
            "type": "parcoords"
           }
          ],
          "pie": [
           {
            "automargin": true,
            "type": "pie"
           }
          ],
          "scatter": [
           {
            "fillpattern": {
             "fillmode": "overlay",
             "size": 10,
             "solidity": 0.2
            },
            "type": "scatter"
           }
          ],
          "scatter3d": [
           {
            "line": {
             "colorbar": {
              "outlinewidth": 0,
              "ticks": ""
             }
            },
            "marker": {
             "colorbar": {
              "outlinewidth": 0,
              "ticks": ""
             }
            },
            "type": "scatter3d"
           }
          ],
          "scattercarpet": [
           {
            "marker": {
             "colorbar": {
              "outlinewidth": 0,
              "ticks": ""
             }
            },
            "type": "scattercarpet"
           }
          ],
          "scattergeo": [
           {
            "marker": {
             "colorbar": {
              "outlinewidth": 0,
              "ticks": ""
             }
            },
            "type": "scattergeo"
           }
          ],
          "scattergl": [
           {
            "marker": {
             "colorbar": {
              "outlinewidth": 0,
              "ticks": ""
             }
            },
            "type": "scattergl"
           }
          ],
          "scattermap": [
           {
            "marker": {
             "colorbar": {
              "outlinewidth": 0,
              "ticks": ""
             }
            },
            "type": "scattermap"
           }
          ],
          "scattermapbox": [
           {
            "marker": {
             "colorbar": {
              "outlinewidth": 0,
              "ticks": ""
             }
            },
            "type": "scattermapbox"
           }
          ],
          "scatterpolar": [
           {
            "marker": {
             "colorbar": {
              "outlinewidth": 0,
              "ticks": ""
             }
            },
            "type": "scatterpolar"
           }
          ],
          "scatterpolargl": [
           {
            "marker": {
             "colorbar": {
              "outlinewidth": 0,
              "ticks": ""
             }
            },
            "type": "scatterpolargl"
           }
          ],
          "scatterternary": [
           {
            "marker": {
             "colorbar": {
              "outlinewidth": 0,
              "ticks": ""
             }
            },
            "type": "scatterternary"
           }
          ],
          "surface": [
           {
            "colorbar": {
             "outlinewidth": 0,
             "ticks": ""
            },
            "colorscale": [
             [
              0,
              "#0d0887"
             ],
             [
              0.1111111111111111,
              "#46039f"
             ],
             [
              0.2222222222222222,
              "#7201a8"
             ],
             [
              0.3333333333333333,
              "#9c179e"
             ],
             [
              0.4444444444444444,
              "#bd3786"
             ],
             [
              0.5555555555555556,
              "#d8576b"
             ],
             [
              0.6666666666666666,
              "#ed7953"
             ],
             [
              0.7777777777777778,
              "#fb9f3a"
             ],
             [
              0.8888888888888888,
              "#fdca26"
             ],
             [
              1,
              "#f0f921"
             ]
            ],
            "type": "surface"
           }
          ],
          "table": [
           {
            "cells": {
             "fill": {
              "color": "#EBF0F8"
             },
             "line": {
              "color": "white"
             }
            },
            "header": {
             "fill": {
              "color": "#C8D4E3"
             },
             "line": {
              "color": "white"
             }
            },
            "type": "table"
           }
          ]
         },
         "layout": {
          "annotationdefaults": {
           "arrowcolor": "#2a3f5f",
           "arrowhead": 0,
           "arrowwidth": 1
          },
          "autotypenumbers": "strict",
          "coloraxis": {
           "colorbar": {
            "outlinewidth": 0,
            "ticks": ""
           }
          },
          "colorscale": {
           "diverging": [
            [
             0,
             "#8e0152"
            ],
            [
             0.1,
             "#c51b7d"
            ],
            [
             0.2,
             "#de77ae"
            ],
            [
             0.3,
             "#f1b6da"
            ],
            [
             0.4,
             "#fde0ef"
            ],
            [
             0.5,
             "#f7f7f7"
            ],
            [
             0.6,
             "#e6f5d0"
            ],
            [
             0.7,
             "#b8e186"
            ],
            [
             0.8,
             "#7fbc41"
            ],
            [
             0.9,
             "#4d9221"
            ],
            [
             1,
             "#276419"
            ]
           ],
           "sequential": [
            [
             0,
             "#0d0887"
            ],
            [
             0.1111111111111111,
             "#46039f"
            ],
            [
             0.2222222222222222,
             "#7201a8"
            ],
            [
             0.3333333333333333,
             "#9c179e"
            ],
            [
             0.4444444444444444,
             "#bd3786"
            ],
            [
             0.5555555555555556,
             "#d8576b"
            ],
            [
             0.6666666666666666,
             "#ed7953"
            ],
            [
             0.7777777777777778,
             "#fb9f3a"
            ],
            [
             0.8888888888888888,
             "#fdca26"
            ],
            [
             1,
             "#f0f921"
            ]
           ],
           "sequentialminus": [
            [
             0,
             "#0d0887"
            ],
            [
             0.1111111111111111,
             "#46039f"
            ],
            [
             0.2222222222222222,
             "#7201a8"
            ],
            [
             0.3333333333333333,
             "#9c179e"
            ],
            [
             0.4444444444444444,
             "#bd3786"
            ],
            [
             0.5555555555555556,
             "#d8576b"
            ],
            [
             0.6666666666666666,
             "#ed7953"
            ],
            [
             0.7777777777777778,
             "#fb9f3a"
            ],
            [
             0.8888888888888888,
             "#fdca26"
            ],
            [
             1,
             "#f0f921"
            ]
           ]
          },
          "colorway": [
           "#636efa",
           "#EF553B",
           "#00cc96",
           "#ab63fa",
           "#FFA15A",
           "#19d3f3",
           "#FF6692",
           "#B6E880",
           "#FF97FF",
           "#FECB52"
          ],
          "font": {
           "color": "#2a3f5f"
          },
          "geo": {
           "bgcolor": "white",
           "lakecolor": "white",
           "landcolor": "#E5ECF6",
           "showlakes": true,
           "showland": true,
           "subunitcolor": "white"
          },
          "hoverlabel": {
           "align": "left"
          },
          "hovermode": "closest",
          "mapbox": {
           "style": "light"
          },
          "paper_bgcolor": "white",
          "plot_bgcolor": "#E5ECF6",
          "polar": {
           "angularaxis": {
            "gridcolor": "white",
            "linecolor": "white",
            "ticks": ""
           },
           "bgcolor": "#E5ECF6",
           "radialaxis": {
            "gridcolor": "white",
            "linecolor": "white",
            "ticks": ""
           }
          },
          "scene": {
           "xaxis": {
            "backgroundcolor": "#E5ECF6",
            "gridcolor": "white",
            "gridwidth": 2,
            "linecolor": "white",
            "showbackground": true,
            "ticks": "",
            "zerolinecolor": "white"
           },
           "yaxis": {
            "backgroundcolor": "#E5ECF6",
            "gridcolor": "white",
            "gridwidth": 2,
            "linecolor": "white",
            "showbackground": true,
            "ticks": "",
            "zerolinecolor": "white"
           },
           "zaxis": {
            "backgroundcolor": "#E5ECF6",
            "gridcolor": "white",
            "gridwidth": 2,
            "linecolor": "white",
            "showbackground": true,
            "ticks": "",
            "zerolinecolor": "white"
           }
          },
          "shapedefaults": {
           "line": {
            "color": "#2a3f5f"
           }
          },
          "ternary": {
           "aaxis": {
            "gridcolor": "white",
            "linecolor": "white",
            "ticks": ""
           },
           "baxis": {
            "gridcolor": "white",
            "linecolor": "white",
            "ticks": ""
           },
           "bgcolor": "#E5ECF6",
           "caxis": {
            "gridcolor": "white",
            "linecolor": "white",
            "ticks": ""
           }
          },
          "title": {
           "x": 0.05
          },
          "xaxis": {
           "automargin": true,
           "gridcolor": "white",
           "linecolor": "white",
           "ticks": "",
           "title": {
            "standoff": 15
           },
           "zerolinecolor": "white",
           "zerolinewidth": 2
          },
          "yaxis": {
           "automargin": true,
           "gridcolor": "white",
           "linecolor": "white",
           "ticks": "",
           "title": {
            "standoff": 15
           },
           "zerolinecolor": "white",
           "zerolinewidth": 2
          }
         }
        },
        "title": {
         "text": "Rarity vs. Number of Work Suitabilities (Frequency)"
        },
        "xaxis": {
         "anchor": "y",
         "domain": [
          0,
          1
         ],
         "title": {
          "text": "Work Skill Count"
         }
        },
        "yaxis": {
         "anchor": "x",
         "domain": [
          0,
          1
         ],
         "title": {
          "text": "Rarity"
         }
        }
       }
      }
     },
     "metadata": {},
     "output_type": "display_data"
    },
    {
     "data": {
      "application/vnd.plotly.v1+json": {
       "config": {
        "plotlyServerURL": "https://plot.ly"
       },
       "data": [
        {
         "alignmentgroup": "True",
         "hovertemplate": "Element Type=Earth<br>Rarity=%{x}<br>HP=%{y}<extra></extra>",
         "legendgroup": "Earth",
         "marker": {
          "color": "#636efa"
         },
         "name": "Earth",
         "notched": false,
         "offsetgroup": "Earth",
         "orientation": "v",
         "showlegend": true,
         "type": "box",
         "x": [
          "Epic",
          "Rare",
          "Rare",
          "Rare",
          "Rare",
          "Common",
          "Rare",
          "Rare",
          "Common",
          "Epic",
          "Rare",
          "Common",
          "Common",
          "Common",
          "Epic",
          "Epic",
          "Epic",
          "Epic",
          "Epic",
          "Rare",
          "Rare",
          "Rare",
          "Rare",
          "Common",
          "Rare",
          "Common",
          "Epic",
          "Epic"
         ],
         "x0": " ",
         "xaxis": "x",
         "y": {
          "bdata": "AAAAAAAAXkAAAAAAAEBgQAAAAAAAAFlAAAAAAADAV0AAAAAAAABUQAAAAAAAAFlAAAAAAABAWkAAAAAAAMBXQAAAAAAAQFBAAAAAAAAAXkAAAAAAAIBWQAAAAAAAgFFAAAAAAAAAVEAAAAAAAMBSQAAAAAAAQFpAAAAAAADAYkAAAAAAAMBiQAAAAAAAAFlAAAAAAAAAWUAAAAAAAIBWQAAAAAAAgFtAAAAAAACAW0AAAAAAAIBWQAAAAAAAAFRAAAAAAACAVkAAAAAAAEBVQAAAAAAAAF5AAAAAAAAAXkA=",
          "dtype": "f8"
         },
         "y0": " ",
         "yaxis": "y"
        },
        {
         "alignmentgroup": "True",
         "hovertemplate": "Element Type=Fire<br>Rarity=%{x}<br>HP=%{y}<extra></extra>",
         "legendgroup": "Fire",
         "marker": {
          "color": "#EF553B"
         },
         "name": "Fire",
         "notched": false,
         "offsetgroup": "Fire",
         "orientation": "v",
         "showlegend": true,
         "type": "box",
         "x": [
          "Common",
          "Epic",
          "Epic",
          "Rare",
          "Epic",
          "Rare",
          "Rare",
          "Rare",
          "Epic",
          "Common",
          "Common",
          "Common",
          "Common",
          "Rare",
          "Common",
          "Common",
          "Epic",
          "Rare",
          "Common",
          "Rare",
          "Common",
          "Rare",
          "Rare",
          "Rare",
          "Common",
          "Common",
          "Rare",
          "Epic",
          "Common",
          "Epic",
          "Rare",
          "Rare"
         ],
         "x0": " ",
         "xaxis": "x",
         "y": {
          "bdata": "AAAAAABAVUAAAAAAAABZQAAAAAAAQFpAAAAAAABAWkAAAAAAAEBaQAAAAAAAAFRAAAAAAAAAVEAAAAAAAIBWQAAAAAAAAFlAAAAAAADAUkAAAAAAAABOQAAAAAAAQFBAAAAAAAAATkAAAAAAAIBWQAAAAAAAgFZAAAAAAADAV0AAAAAAAEBgQAAAAAAAwFdAAAAAAACAUUAAAAAAAABZQAAAAAAAAFRAAAAAAAAAWUAAAAAAAABZQAAAAAAAwFdAAAAAAACAUUAAAAAAAMBSQAAAAAAAQFpAAAAAAAAAXkAAAAAAAIBWQAAAAAAAQFpAAAAAAACAVkAAAAAAAIBWQA==",
          "dtype": "f8"
         },
         "y0": " ",
         "yaxis": "y"
        },
        {
         "alignmentgroup": "True",
         "hovertemplate": "Element Type=Dragon<br>Rarity=%{x}<br>HP=%{y}<extra></extra>",
         "legendgroup": "Dragon",
         "marker": {
          "color": "#00cc96"
         },
         "name": "Dragon",
         "notched": false,
         "offsetgroup": "Dragon",
         "orientation": "v",
         "showlegend": true,
         "type": "box",
         "x": [
          "Epic",
          "Rare",
          "Epic",
          "Common",
          "Rare",
          "Rare",
          "Rare",
          "Epic",
          "Legendary",
          "Epic",
          "Epic",
          "Rare",
          "Epic",
          "Epic",
          "Epic",
          "Epic",
          "Epic",
          "Epic"
         ],
         "x0": " ",
         "xaxis": "x",
         "y": {
          "bdata": "AAAAAAAAWUAAAAAAAIBbQAAAAAAAwFxAAAAAAACAVkAAAAAAAIBbQAAAAAAAgFtAAAAAAACAW0AAAAAAAMBcQAAAAAAAgFtAAAAAAABAYEAAAAAAAABZQAAAAAAAQFpAAAAAAABAWkAAAAAAAIBbQAAAAAAAgFtAAAAAAAAAXkAAAAAAAIBbQAAAAAAAQGBA",
          "dtype": "f8"
         },
         "y0": " ",
         "yaxis": "y"
        },
        {
         "alignmentgroup": "True",
         "hovertemplate": "Element Type=Electricity<br>Rarity=%{x}<br>HP=%{y}<extra></extra>",
         "legendgroup": "Electricity",
         "marker": {
          "color": "#ab63fa"
         },
         "name": "Electricity",
         "notched": false,
         "offsetgroup": "Electricity",
         "orientation": "v",
         "showlegend": true,
         "type": "box",
         "x": [
          "Rare",
          "Rare",
          "Common",
          "Common",
          "Common",
          "Epic",
          "Common",
          "Rare",
          "Common",
          "Rare",
          "Rare",
          "Common",
          "Rare"
         ],
         "x0": " ",
         "xaxis": "x",
         "y": {
          "bdata": "AAAAAABAYEAAAAAAAEBaQAAAAAAAAFRAAAAAAACAUUAAAAAAAIBbQAAAAAAAQFpAAAAAAACAUUAAAAAAAABZQAAAAAAAgFFAAAAAAAAAWUAAAAAAAIBWQAAAAAAAAE5AAAAAAAAAVEA=",
          "dtype": "f8"
         },
         "y0": " ",
         "yaxis": "y"
        },
        {
         "alignmentgroup": "True",
         "hovertemplate": "Element Type=Ice<br>Rarity=%{x}<br>HP=%{y}<extra></extra>",
         "legendgroup": "Ice",
         "marker": {
          "color": "#FFA15A"
         },
         "name": "Ice",
         "notched": false,
         "offsetgroup": "Ice",
         "orientation": "v",
         "showlegend": true,
         "type": "box",
         "x": [
          "Epic",
          "Rare",
          "Rare",
          "Common",
          "Legendary",
          "Common",
          "Common",
          "Common",
          "Common",
          "Epic",
          "Common",
          "Common",
          "Common",
          "Rare",
          "Common",
          "Rare",
          "Rare"
         ],
         "x0": " ",
         "xaxis": "x",
         "y": {
          "bdata": "AAAAAACAYUAAAAAAAABZQAAAAAAAgFZAAAAAAABAUEAAAAAAAIBhQAAAAAAAgFtAAAAAAAAAVEAAAAAAAMBXQAAAAAAAgFFAAAAAAAAAXkAAAAAAAABUQAAAAAAAgFFAAAAAAAAAWUAAAAAAAIBbQAAAAAAAAE5AAAAAAAAAWUAAAAAAAIBhQA==",
          "dtype": "f8"
         },
         "y0": " ",
         "yaxis": "y"
        },
        {
         "alignmentgroup": "True",
         "hovertemplate": "Element Type=Leaf<br>Rarity=%{x}<br>HP=%{y}<extra></extra>",
         "legendgroup": "Leaf",
         "marker": {
          "color": "#19d3f3"
         },
         "name": "Leaf",
         "notched": false,
         "offsetgroup": "Leaf",
         "orientation": "v",
         "showlegend": true,
         "type": "box",
         "x": [
          "Common",
          "Common",
          "Rare",
          "Common",
          "Common",
          "Epic",
          "Common",
          "Common",
          "Common",
          "Common",
          "Common",
          "Epic",
          "Rare",
          "Common",
          "Epic",
          "Common",
          "Rare",
          "Common",
          "Common",
          "Epic",
          "Epic",
          "Epic"
         ],
         "x0": " ",
         "xaxis": "x",
         "y": {
          "bdata": "AAAAAAAAVEAAAAAAAABUQAAAAAAAAF5AAAAAAAAAWUAAAAAAAIBRQAAAAAAAgFZAAAAAAADAUkAAAAAAAEBQQAAAAAAAAFRAAAAAAADAUkAAAAAAAIBWQAAAAAAAgFtAAAAAAAAAWUAAAAAAAEBaQAAAAAAAAFlAAAAAAAAAVEAAAAAAAIBWQAAAAAAAgFtAAAAAAAAAVEAAAAAAAABZQAAAAAAAgFZAAAAAAACAYUA=",
          "dtype": "f8"
         },
         "y0": " ",
         "yaxis": "y"
        },
        {
         "alignmentgroup": "True",
         "hovertemplate": "Element Type=Dark<br>Rarity=%{x}<br>HP=%{y}<extra></extra>",
         "legendgroup": "Dark",
         "marker": {
          "color": "#FF6692"
         },
         "name": "Dark",
         "notched": false,
         "offsetgroup": "Dark",
         "orientation": "v",
         "showlegend": true,
         "type": "box",
         "x": [
          "Legendary",
          "Legendary",
          "Common",
          "Common",
          "Rare",
          "Common",
          "Common",
          "Common",
          "Common",
          "Rare",
          "Rare",
          "Legendary",
          "Rare",
          "Rare",
          "Rare",
          "Epic",
          "Common",
          "Rare",
          "Common",
          "Rare",
          "Common",
          "Rare",
          "Common",
          "Common",
          "Epic",
          "Rare",
          "Common",
          "Legendary",
          "Rare",
          "Rare",
          "Common",
          "Common",
          "Rare",
          "Common",
          "Epic",
          "Epic",
          "Rare",
          "Common",
          "Common",
          "Rare",
          "Common",
          "Rare",
          "Rare",
          "Rare"
         ],
         "x0": " ",
         "xaxis": "x",
         "y": {
          "bdata": "AAAAAAAAXkAAAAAAAABeQAAAAAAAAFlAAAAAAADAUkAAAAAAAEBVQAAAAAAAgFFAAAAAAACAUUAAAAAAAEBaQAAAAAAAgFFAAAAAAACAW0AAAAAAAABZQAAAAAAAgGFAAAAAAACAVkAAAAAAAIBRQAAAAAAAAFlAAAAAAABAWkAAAAAAAIBRQAAAAAAAwFdAAAAAAACAVkAAAAAAAIBWQAAAAAAAAE5AAAAAAAAAWUAAAAAAAABUQAAAAAAAAFRAAAAAAACAW0AAAAAAAMBSQAAAAAAAgFFAAAAAAABAYEAAAAAAAEBaQAAAAAAAwFJAAAAAAACAW0AAAAAAAMBXQAAAAAAAQFpAAAAAAADAUkAAAAAAAEBgQAAAAAAAAF5AAAAAAACAW0AAAAAAAEBVQAAAAAAAwFdAAAAAAACAW0AAAAAAAIBbQAAAAAAAwFdAAAAAAACAVkAAAAAAAIBWQA==",
          "dtype": "f8"
         },
         "y0": " ",
         "yaxis": "y"
        },
        {
         "alignmentgroup": "True",
         "hovertemplate": "Element Type=Water<br>Rarity=%{x}<br>HP=%{y}<extra></extra>",
         "legendgroup": "Water",
         "marker": {
          "color": "#B6E880"
         },
         "name": "Water",
         "notched": false,
         "offsetgroup": "Water",
         "orientation": "v",
         "showlegend": true,
         "type": "box",
         "x": [
          "Common",
          "Epic",
          "Common",
          "Common",
          "Epic",
          "Common",
          "Common",
          "Common",
          "Common",
          "Common",
          "Common",
          "Common",
          "Legendary",
          "Common",
          "Rare",
          "Rare",
          "Common",
          "Epic",
          "Common",
          "Common",
          "Rare"
         ],
         "x0": " ",
         "xaxis": "x",
         "y": {
          "bdata": "AAAAAACAUUAAAAAAAABeQAAAAAAAAFRAAAAAAAAAVEAAAAAAAABZQAAAAAAAwFJAAAAAAAAATkAAAAAAAIBWQAAAAAAAwFJAAAAAAACAUUAAAAAAAIBRQAAAAAAAwFJAAAAAAABAWkAAAAAAAIBRQAAAAAAAwFdAAAAAAADAV0AAAAAAAIBWQAAAAAAAQF9AAAAAAACAUUAAAAAAAMBSQAAAAAAAQFpA",
          "dtype": "f8"
         },
         "y0": " ",
         "yaxis": "y"
        },
        {
         "alignmentgroup": "True",
         "hovertemplate": "Element Type=Normal<br>Rarity=%{x}<br>HP=%{y}<extra></extra>",
         "legendgroup": "Normal",
         "marker": {
          "color": "#FF97FF"
         },
         "name": "Normal",
         "notched": false,
         "offsetgroup": "Normal",
         "orientation": "v",
         "showlegend": true,
         "type": "box",
         "x": [
          "Common",
          "Common",
          "Rare",
          "Common",
          "Common",
          "Common",
          "Rare",
          "Common",
          "Common",
          "Common",
          "Common",
          "Rare",
          "Rare",
          "Common",
          "Common",
          "Epic",
          "Common",
          "Rare",
          "Rare",
          "Common",
          "Rare",
          "Common",
          "Common",
          "Legendary",
          "Common",
          "Common",
          "Common",
          "Common",
          "Common",
          "Common"
         ],
         "x0": " ",
         "xaxis": "x",
         "y": {
          "bdata": "AAAAAACAUUAAAAAAAEBQQAAAAAAAAF5AAAAAAAAATkAAAAAAAIBRQAAAAAAAAFRAAAAAAACAVkAAAAAAAMBXQAAAAAAAwFdAAAAAAACAW0AAAAAAAMBSQAAAAAAAgFZAAAAAAACAW0AAAAAAAABUQAAAAAAAAFRAAAAAAAAAXkAAAAAAAIBRQAAAAAAAAF5AAAAAAACAVkAAAAAAAIBWQAAAAAAAAE5AAAAAAACAVkAAAAAAAABZQAAAAAAAQGBAAAAAAABAWkAAAAAAAMBSQAAAAAAAAE5AAAAAAACAUUAAAAAAAIBRQAAAAAAAQFVA",
          "dtype": "f8"
         },
         "y0": " ",
         "yaxis": "y"
        }
       ],
       "layout": {
        "boxmode": "group",
        "legend": {
         "title": {
          "text": "Element Type"
         },
         "tracegroupgap": 0
        },
        "template": {
         "data": {
          "bar": [
           {
            "error_x": {
             "color": "#2a3f5f"
            },
            "error_y": {
             "color": "#2a3f5f"
            },
            "marker": {
             "line": {
              "color": "#E5ECF6",
              "width": 0.5
             },
             "pattern": {
              "fillmode": "overlay",
              "size": 10,
              "solidity": 0.2
             }
            },
            "type": "bar"
           }
          ],
          "barpolar": [
           {
            "marker": {
             "line": {
              "color": "#E5ECF6",
              "width": 0.5
             },
             "pattern": {
              "fillmode": "overlay",
              "size": 10,
              "solidity": 0.2
             }
            },
            "type": "barpolar"
           }
          ],
          "carpet": [
           {
            "aaxis": {
             "endlinecolor": "#2a3f5f",
             "gridcolor": "white",
             "linecolor": "white",
             "minorgridcolor": "white",
             "startlinecolor": "#2a3f5f"
            },
            "baxis": {
             "endlinecolor": "#2a3f5f",
             "gridcolor": "white",
             "linecolor": "white",
             "minorgridcolor": "white",
             "startlinecolor": "#2a3f5f"
            },
            "type": "carpet"
           }
          ],
          "choropleth": [
           {
            "colorbar": {
             "outlinewidth": 0,
             "ticks": ""
            },
            "type": "choropleth"
           }
          ],
          "contour": [
           {
            "colorbar": {
             "outlinewidth": 0,
             "ticks": ""
            },
            "colorscale": [
             [
              0,
              "#0d0887"
             ],
             [
              0.1111111111111111,
              "#46039f"
             ],
             [
              0.2222222222222222,
              "#7201a8"
             ],
             [
              0.3333333333333333,
              "#9c179e"
             ],
             [
              0.4444444444444444,
              "#bd3786"
             ],
             [
              0.5555555555555556,
              "#d8576b"
             ],
             [
              0.6666666666666666,
              "#ed7953"
             ],
             [
              0.7777777777777778,
              "#fb9f3a"
             ],
             [
              0.8888888888888888,
              "#fdca26"
             ],
             [
              1,
              "#f0f921"
             ]
            ],
            "type": "contour"
           }
          ],
          "contourcarpet": [
           {
            "colorbar": {
             "outlinewidth": 0,
             "ticks": ""
            },
            "type": "contourcarpet"
           }
          ],
          "heatmap": [
           {
            "colorbar": {
             "outlinewidth": 0,
             "ticks": ""
            },
            "colorscale": [
             [
              0,
              "#0d0887"
             ],
             [
              0.1111111111111111,
              "#46039f"
             ],
             [
              0.2222222222222222,
              "#7201a8"
             ],
             [
              0.3333333333333333,
              "#9c179e"
             ],
             [
              0.4444444444444444,
              "#bd3786"
             ],
             [
              0.5555555555555556,
              "#d8576b"
             ],
             [
              0.6666666666666666,
              "#ed7953"
             ],
             [
              0.7777777777777778,
              "#fb9f3a"
             ],
             [
              0.8888888888888888,
              "#fdca26"
             ],
             [
              1,
              "#f0f921"
             ]
            ],
            "type": "heatmap"
           }
          ],
          "histogram": [
           {
            "marker": {
             "pattern": {
              "fillmode": "overlay",
              "size": 10,
              "solidity": 0.2
             }
            },
            "type": "histogram"
           }
          ],
          "histogram2d": [
           {
            "colorbar": {
             "outlinewidth": 0,
             "ticks": ""
            },
            "colorscale": [
             [
              0,
              "#0d0887"
             ],
             [
              0.1111111111111111,
              "#46039f"
             ],
             [
              0.2222222222222222,
              "#7201a8"
             ],
             [
              0.3333333333333333,
              "#9c179e"
             ],
             [
              0.4444444444444444,
              "#bd3786"
             ],
             [
              0.5555555555555556,
              "#d8576b"
             ],
             [
              0.6666666666666666,
              "#ed7953"
             ],
             [
              0.7777777777777778,
              "#fb9f3a"
             ],
             [
              0.8888888888888888,
              "#fdca26"
             ],
             [
              1,
              "#f0f921"
             ]
            ],
            "type": "histogram2d"
           }
          ],
          "histogram2dcontour": [
           {
            "colorbar": {
             "outlinewidth": 0,
             "ticks": ""
            },
            "colorscale": [
             [
              0,
              "#0d0887"
             ],
             [
              0.1111111111111111,
              "#46039f"
             ],
             [
              0.2222222222222222,
              "#7201a8"
             ],
             [
              0.3333333333333333,
              "#9c179e"
             ],
             [
              0.4444444444444444,
              "#bd3786"
             ],
             [
              0.5555555555555556,
              "#d8576b"
             ],
             [
              0.6666666666666666,
              "#ed7953"
             ],
             [
              0.7777777777777778,
              "#fb9f3a"
             ],
             [
              0.8888888888888888,
              "#fdca26"
             ],
             [
              1,
              "#f0f921"
             ]
            ],
            "type": "histogram2dcontour"
           }
          ],
          "mesh3d": [
           {
            "colorbar": {
             "outlinewidth": 0,
             "ticks": ""
            },
            "type": "mesh3d"
           }
          ],
          "parcoords": [
           {
            "line": {
             "colorbar": {
              "outlinewidth": 0,
              "ticks": ""
             }
            },
            "type": "parcoords"
           }
          ],
          "pie": [
           {
            "automargin": true,
            "type": "pie"
           }
          ],
          "scatter": [
           {
            "fillpattern": {
             "fillmode": "overlay",
             "size": 10,
             "solidity": 0.2
            },
            "type": "scatter"
           }
          ],
          "scatter3d": [
           {
            "line": {
             "colorbar": {
              "outlinewidth": 0,
              "ticks": ""
             }
            },
            "marker": {
             "colorbar": {
              "outlinewidth": 0,
              "ticks": ""
             }
            },
            "type": "scatter3d"
           }
          ],
          "scattercarpet": [
           {
            "marker": {
             "colorbar": {
              "outlinewidth": 0,
              "ticks": ""
             }
            },
            "type": "scattercarpet"
           }
          ],
          "scattergeo": [
           {
            "marker": {
             "colorbar": {
              "outlinewidth": 0,
              "ticks": ""
             }
            },
            "type": "scattergeo"
           }
          ],
          "scattergl": [
           {
            "marker": {
             "colorbar": {
              "outlinewidth": 0,
              "ticks": ""
             }
            },
            "type": "scattergl"
           }
          ],
          "scattermap": [
           {
            "marker": {
             "colorbar": {
              "outlinewidth": 0,
              "ticks": ""
             }
            },
            "type": "scattermap"
           }
          ],
          "scattermapbox": [
           {
            "marker": {
             "colorbar": {
              "outlinewidth": 0,
              "ticks": ""
             }
            },
            "type": "scattermapbox"
           }
          ],
          "scatterpolar": [
           {
            "marker": {
             "colorbar": {
              "outlinewidth": 0,
              "ticks": ""
             }
            },
            "type": "scatterpolar"
           }
          ],
          "scatterpolargl": [
           {
            "marker": {
             "colorbar": {
              "outlinewidth": 0,
              "ticks": ""
             }
            },
            "type": "scatterpolargl"
           }
          ],
          "scatterternary": [
           {
            "marker": {
             "colorbar": {
              "outlinewidth": 0,
              "ticks": ""
             }
            },
            "type": "scatterternary"
           }
          ],
          "surface": [
           {
            "colorbar": {
             "outlinewidth": 0,
             "ticks": ""
            },
            "colorscale": [
             [
              0,
              "#0d0887"
             ],
             [
              0.1111111111111111,
              "#46039f"
             ],
             [
              0.2222222222222222,
              "#7201a8"
             ],
             [
              0.3333333333333333,
              "#9c179e"
             ],
             [
              0.4444444444444444,
              "#bd3786"
             ],
             [
              0.5555555555555556,
              "#d8576b"
             ],
             [
              0.6666666666666666,
              "#ed7953"
             ],
             [
              0.7777777777777778,
              "#fb9f3a"
             ],
             [
              0.8888888888888888,
              "#fdca26"
             ],
             [
              1,
              "#f0f921"
             ]
            ],
            "type": "surface"
           }
          ],
          "table": [
           {
            "cells": {
             "fill": {
              "color": "#EBF0F8"
             },
             "line": {
              "color": "white"
             }
            },
            "header": {
             "fill": {
              "color": "#C8D4E3"
             },
             "line": {
              "color": "white"
             }
            },
            "type": "table"
           }
          ]
         },
         "layout": {
          "annotationdefaults": {
           "arrowcolor": "#2a3f5f",
           "arrowhead": 0,
           "arrowwidth": 1
          },
          "autotypenumbers": "strict",
          "coloraxis": {
           "colorbar": {
            "outlinewidth": 0,
            "ticks": ""
           }
          },
          "colorscale": {
           "diverging": [
            [
             0,
             "#8e0152"
            ],
            [
             0.1,
             "#c51b7d"
            ],
            [
             0.2,
             "#de77ae"
            ],
            [
             0.3,
             "#f1b6da"
            ],
            [
             0.4,
             "#fde0ef"
            ],
            [
             0.5,
             "#f7f7f7"
            ],
            [
             0.6,
             "#e6f5d0"
            ],
            [
             0.7,
             "#b8e186"
            ],
            [
             0.8,
             "#7fbc41"
            ],
            [
             0.9,
             "#4d9221"
            ],
            [
             1,
             "#276419"
            ]
           ],
           "sequential": [
            [
             0,
             "#0d0887"
            ],
            [
             0.1111111111111111,
             "#46039f"
            ],
            [
             0.2222222222222222,
             "#7201a8"
            ],
            [
             0.3333333333333333,
             "#9c179e"
            ],
            [
             0.4444444444444444,
             "#bd3786"
            ],
            [
             0.5555555555555556,
             "#d8576b"
            ],
            [
             0.6666666666666666,
             "#ed7953"
            ],
            [
             0.7777777777777778,
             "#fb9f3a"
            ],
            [
             0.8888888888888888,
             "#fdca26"
            ],
            [
             1,
             "#f0f921"
            ]
           ],
           "sequentialminus": [
            [
             0,
             "#0d0887"
            ],
            [
             0.1111111111111111,
             "#46039f"
            ],
            [
             0.2222222222222222,
             "#7201a8"
            ],
            [
             0.3333333333333333,
             "#9c179e"
            ],
            [
             0.4444444444444444,
             "#bd3786"
            ],
            [
             0.5555555555555556,
             "#d8576b"
            ],
            [
             0.6666666666666666,
             "#ed7953"
            ],
            [
             0.7777777777777778,
             "#fb9f3a"
            ],
            [
             0.8888888888888888,
             "#fdca26"
            ],
            [
             1,
             "#f0f921"
            ]
           ]
          },
          "colorway": [
           "#636efa",
           "#EF553B",
           "#00cc96",
           "#ab63fa",
           "#FFA15A",
           "#19d3f3",
           "#FF6692",
           "#B6E880",
           "#FF97FF",
           "#FECB52"
          ],
          "font": {
           "color": "#2a3f5f"
          },
          "geo": {
           "bgcolor": "white",
           "lakecolor": "white",
           "landcolor": "#E5ECF6",
           "showlakes": true,
           "showland": true,
           "subunitcolor": "white"
          },
          "hoverlabel": {
           "align": "left"
          },
          "hovermode": "closest",
          "mapbox": {
           "style": "light"
          },
          "paper_bgcolor": "white",
          "plot_bgcolor": "#E5ECF6",
          "polar": {
           "angularaxis": {
            "gridcolor": "white",
            "linecolor": "white",
            "ticks": ""
           },
           "bgcolor": "#E5ECF6",
           "radialaxis": {
            "gridcolor": "white",
            "linecolor": "white",
            "ticks": ""
           }
          },
          "scene": {
           "xaxis": {
            "backgroundcolor": "#E5ECF6",
            "gridcolor": "white",
            "gridwidth": 2,
            "linecolor": "white",
            "showbackground": true,
            "ticks": "",
            "zerolinecolor": "white"
           },
           "yaxis": {
            "backgroundcolor": "#E5ECF6",
            "gridcolor": "white",
            "gridwidth": 2,
            "linecolor": "white",
            "showbackground": true,
            "ticks": "",
            "zerolinecolor": "white"
           },
           "zaxis": {
            "backgroundcolor": "#E5ECF6",
            "gridcolor": "white",
            "gridwidth": 2,
            "linecolor": "white",
            "showbackground": true,
            "ticks": "",
            "zerolinecolor": "white"
           }
          },
          "shapedefaults": {
           "line": {
            "color": "#2a3f5f"
           }
          },
          "ternary": {
           "aaxis": {
            "gridcolor": "white",
            "linecolor": "white",
            "ticks": ""
           },
           "baxis": {
            "gridcolor": "white",
            "linecolor": "white",
            "ticks": ""
           },
           "bgcolor": "#E5ECF6",
           "caxis": {
            "gridcolor": "white",
            "linecolor": "white",
            "ticks": ""
           }
          },
          "title": {
           "x": 0.05
          },
          "xaxis": {
           "automargin": true,
           "gridcolor": "white",
           "linecolor": "white",
           "ticks": "",
           "title": {
            "standoff": 15
           },
           "zerolinecolor": "white",
           "zerolinewidth": 2
          },
          "yaxis": {
           "automargin": true,
           "gridcolor": "white",
           "linecolor": "white",
           "ticks": "",
           "title": {
            "standoff": 15
           },
           "zerolinecolor": "white",
           "zerolinewidth": 2
          }
         }
        },
        "title": {
         "text": "HP Distribution by Rarity"
        },
        "xaxis": {
         "anchor": "y",
         "domain": [
          0,
          1
         ],
         "title": {
          "text": "Rarity"
         }
        },
        "yaxis": {
         "anchor": "x",
         "domain": [
          0,
          1
         ],
         "title": {
          "text": "HP"
         }
        }
       }
      }
     },
     "metadata": {},
     "output_type": "display_data"
    },
    {
     "data": {
      "application/vnd.plotly.v1+json": {
       "config": {
        "plotlyServerURL": "https://plot.ly"
       },
       "data": [
        {
         "alignmentgroup": "True",
         "hovertemplate": "Element Type=Earth<br>Rarity=%{x}<br>Defense=%{y}<extra></extra>",
         "legendgroup": "Earth",
         "marker": {
          "color": "#636efa"
         },
         "name": "Earth",
         "notched": false,
         "offsetgroup": "Earth",
         "orientation": "v",
         "showlegend": true,
         "type": "box",
         "x": [
          "Epic",
          "Rare",
          "Rare",
          "Rare",
          "Rare",
          "Common",
          "Rare",
          "Rare",
          "Common",
          "Epic",
          "Rare",
          "Common",
          "Common",
          "Common",
          "Epic",
          "Epic",
          "Epic",
          "Epic",
          "Epic",
          "Rare",
          "Rare",
          "Rare",
          "Rare",
          "Common",
          "Rare",
          "Common",
          "Epic",
          "Epic"
         ],
         "x0": " ",
         "xaxis": "x",
         "y": {
          "bdata": "AAAAAAAAWUAAAAAAAABeQAAAAAAAgFtAAAAAAAAAVEAAAAAAAABeQAAAAAAAwFdAAAAAAAAAWUAAAAAAAABUQAAAAAAAAElAAAAAAACAW0AAAAAAAIBWQAAAAAAAgFFAAAAAAACAUUAAAAAAAIBWQAAAAAAA4GBAAAAAAACAVkAAAAAAAIBWQAAAAAAAQGBAAAAAAABAYEAAAAAAAIBWQAAAAAAAAF5AAAAAAABAYEAAAAAAAABUQAAAAAAAgFFAAAAAAAAAWUAAAAAAAEBfQAAAAAAAAF5AAAAAAAAAXkA=",
          "dtype": "f8"
         },
         "y0": " ",
         "yaxis": "y"
        },
        {
         "alignmentgroup": "True",
         "hovertemplate": "Element Type=Fire<br>Rarity=%{x}<br>Defense=%{y}<extra></extra>",
         "legendgroup": "Fire",
         "marker": {
          "color": "#EF553B"
         },
         "name": "Fire",
         "notched": false,
         "offsetgroup": "Fire",
         "orientation": "v",
         "showlegend": true,
         "type": "box",
         "x": [
          "Common",
          "Epic",
          "Epic",
          "Rare",
          "Epic",
          "Rare",
          "Rare",
          "Rare",
          "Epic",
          "Common",
          "Common",
          "Common",
          "Common",
          "Rare",
          "Common",
          "Common",
          "Epic",
          "Rare",
          "Common",
          "Rare",
          "Common",
          "Rare",
          "Rare",
          "Rare",
          "Common",
          "Common",
          "Rare",
          "Epic",
          "Common",
          "Epic",
          "Rare",
          "Rare"
         ],
         "x0": " ",
         "xaxis": "x",
         "y": {
          "bdata": "AAAAAADAV0AAAAAAAABeQAAAAAAAQF9AAAAAAAAAVEAAAAAAAABUQAAAAAAAAFRAAAAAAAAAVEAAAAAAAABUQAAAAAAAgFtAAAAAAAAAVEAAAAAAAABUQAAAAAAAgFFAAAAAAAAATkAAAAAAAEBaQAAAAAAAwFJAAAAAAABAVUAAAAAAAABZQAAAAAAAgFZAAAAAAACAUUAAAAAAAABZQAAAAAAAAElAAAAAAACAVkAAAAAAAIBWQAAAAAAAAF5AAAAAAABAVUAAAAAAAMBSQAAAAAAAgFZAAAAAAABAWkAAAAAAAIBWQAAAAAAAgFtAAAAAAAAAVEAAAAAAAEBVQA==",
          "dtype": "f8"
         },
         "y0": " ",
         "yaxis": "y"
        },
        {
         "alignmentgroup": "True",
         "hovertemplate": "Element Type=Dragon<br>Rarity=%{x}<br>Defense=%{y}<extra></extra>",
         "legendgroup": "Dragon",
         "marker": {
          "color": "#00cc96"
         },
         "name": "Dragon",
         "notched": false,
         "offsetgroup": "Dragon",
         "orientation": "v",
         "showlegend": true,
         "type": "box",
         "x": [
          "Epic",
          "Rare",
          "Epic",
          "Common",
          "Rare",
          "Rare",
          "Rare",
          "Epic",
          "Legendary",
          "Epic",
          "Epic",
          "Rare",
          "Epic",
          "Epic",
          "Epic",
          "Epic",
          "Epic",
          "Epic"
         ],
         "x0": " ",
         "xaxis": "x",
         "y": {
          "bdata": "AAAAAABAX0AAAAAAAABZQAAAAAAAQFpAAAAAAAAAVEAAAAAAAIBWQAAAAAAAgFZAAAAAAACAVkAAAAAAAMBXQAAAAAAAgFtAAAAAAAAAWUAAAAAAAABZQAAAAAAAAFlAAAAAAAAAWUAAAAAAAIBRQAAAAAAAwFJAAAAAAADAXEAAAAAAAEBgQAAAAAAAAF5A",
          "dtype": "f8"
         },
         "y0": " ",
         "yaxis": "y"
        },
        {
         "alignmentgroup": "True",
         "hovertemplate": "Element Type=Electricity<br>Rarity=%{x}<br>Defense=%{y}<extra></extra>",
         "legendgroup": "Electricity",
         "marker": {
          "color": "#ab63fa"
         },
         "name": "Electricity",
         "notched": false,
         "offsetgroup": "Electricity",
         "orientation": "v",
         "showlegend": true,
         "type": "box",
         "x": [
          "Rare",
          "Rare",
          "Common",
          "Common",
          "Common",
          "Epic",
          "Common",
          "Rare",
          "Common",
          "Rare",
          "Rare",
          "Common",
          "Rare"
         ],
         "x0": " ",
         "xaxis": "x",
         "y": {
          "bdata": "AAAAAACAW0AAAAAAAABUQAAAAAAAAFRAAAAAAACAUUAAAAAAAIBWQAAAAAAAAFlAAAAAAACAUUAAAAAAAABZQAAAAAAAgFFAAAAAAAAAWUAAAAAAAABUQAAAAAAAgFFAAAAAAABAWkA=",
          "dtype": "f8"
         },
         "y0": " ",
         "yaxis": "y"
        },
        {
         "alignmentgroup": "True",
         "hovertemplate": "Element Type=Ice<br>Rarity=%{x}<br>Defense=%{y}<extra></extra>",
         "legendgroup": "Ice",
         "marker": {
          "color": "#FFA15A"
         },
         "name": "Ice",
         "notched": false,
         "offsetgroup": "Ice",
         "orientation": "v",
         "showlegend": true,
         "type": "box",
         "x": [
          "Epic",
          "Rare",
          "Rare",
          "Common",
          "Legendary",
          "Common",
          "Common",
          "Common",
          "Common",
          "Epic",
          "Common",
          "Common",
          "Common",
          "Rare",
          "Common",
          "Rare",
          "Rare"
         ],
         "x0": " ",
         "xaxis": "x",
         "y": {
          "bdata": "AAAAAAAAXkAAAAAAAIBbQAAAAAAAQFpAAAAAAACAUUAAAAAAAABeQAAAAAAAAFlAAAAAAACAUUAAAAAAAEBaQAAAAAAAAFRAAAAAAACAVkAAAAAAAABUQAAAAAAAgFFAAAAAAACAW0AAAAAAAABZQAAAAAAAAE5AAAAAAACAVkAAAAAAAABZQA==",
          "dtype": "f8"
         },
         "y0": " ",
         "yaxis": "y"
        },
        {
         "alignmentgroup": "True",
         "hovertemplate": "Element Type=Leaf<br>Rarity=%{x}<br>Defense=%{y}<extra></extra>",
         "legendgroup": "Leaf",
         "marker": {
          "color": "#19d3f3"
         },
         "name": "Leaf",
         "notched": false,
         "offsetgroup": "Leaf",
         "orientation": "v",
         "showlegend": true,
         "type": "box",
         "x": [
          "Common",
          "Common",
          "Rare",
          "Common",
          "Common",
          "Epic",
          "Common",
          "Common",
          "Common",
          "Common",
          "Common",
          "Epic",
          "Rare",
          "Common",
          "Epic",
          "Common",
          "Rare",
          "Common",
          "Common",
          "Epic",
          "Epic",
          "Epic"
         ],
         "x0": " ",
         "xaxis": "x",
         "y": {
          "bdata": "AAAAAACAVkAAAAAAAABUQAAAAAAAAFlAAAAAAACAVkAAAAAAAABUQAAAAAAAAFlAAAAAAACAUUAAAAAAAABUQAAAAAAAwFJAAAAAAACAUUAAAAAAAABUQAAAAAAAQFpAAAAAAACAVkAAAAAAAMBcQAAAAAAAAFlAAAAAAACAUUAAAAAAAABUQAAAAAAAgFZAAAAAAACAUUAAAAAAAABeQAAAAAAAgFZAAAAAAACAW0A=",
          "dtype": "f8"
         },
         "y0": " ",
         "yaxis": "y"
        },
        {
         "alignmentgroup": "True",
         "hovertemplate": "Element Type=Dark<br>Rarity=%{x}<br>Defense=%{y}<extra></extra>",
         "legendgroup": "Dark",
         "marker": {
          "color": "#FF6692"
         },
         "name": "Dark",
         "notched": false,
         "offsetgroup": "Dark",
         "orientation": "v",
         "showlegend": true,
         "type": "box",
         "x": [
          "Legendary",
          "Legendary",
          "Common",
          "Common",
          "Rare",
          "Common",
          "Common",
          "Common",
          "Common",
          "Rare",
          "Rare",
          "Legendary",
          "Rare",
          "Rare",
          "Rare",
          "Epic",
          "Common",
          "Rare",
          "Common",
          "Rare",
          "Common",
          "Rare",
          "Common",
          "Common",
          "Epic",
          "Rare",
          "Common",
          "Legendary",
          "Rare",
          "Rare",
          "Common",
          "Common",
          "Rare",
          "Common",
          "Epic",
          "Epic",
          "Rare",
          "Common",
          "Common",
          "Rare",
          "Common",
          "Rare",
          "Rare",
          "Rare"
         ],
         "x0": " ",
         "xaxis": "x",
         "y": {
          "bdata": "AAAAAAAAWUAAAAAAAABZQAAAAAAAgFZAAAAAAAAAVEAAAAAAAIBWQAAAAAAAAE5AAAAAAADAUkAAAAAAAMBXQAAAAAAAgFFAAAAAAADAV0AAAAAAAIBbQAAAAAAA4GBAAAAAAABAWkAAAAAAAIBRQAAAAAAAAFlAAAAAAAAAWUAAAAAAAABUQAAAAAAAQFVAAAAAAADAUkAAAAAAAIBWQAAAAAAAgFFAAAAAAABAWkAAAAAAAABJQAAAAAAAAFRAAAAAAADAXEAAAAAAAABUQAAAAAAAgFFAAAAAAAAAXkAAAAAAAEBaQAAAAAAAgFFAAAAAAAAAWUAAAAAAAABZQAAAAAAAAFlAAAAAAAAAVEAAAAAAAIBbQAAAAAAAgGFAAAAAAACAVkAAAAAAAEBVQAAAAAAAQFpAAAAAAAAAWUAAAAAAAABZQAAAAAAAAFRAAAAAAADAV0AAAAAAAEBVQA==",
          "dtype": "f8"
         },
         "y0": " ",
         "yaxis": "y"
        },
        {
         "alignmentgroup": "True",
         "hovertemplate": "Element Type=Water<br>Rarity=%{x}<br>Defense=%{y}<extra></extra>",
         "legendgroup": "Water",
         "marker": {
          "color": "#B6E880"
         },
         "name": "Water",
         "notched": false,
         "offsetgroup": "Water",
         "orientation": "v",
         "showlegend": true,
         "type": "box",
         "x": [
          "Common",
          "Epic",
          "Common",
          "Common",
          "Epic",
          "Common",
          "Common",
          "Common",
          "Common",
          "Common",
          "Common",
          "Common",
          "Legendary",
          "Common",
          "Rare",
          "Rare",
          "Common",
          "Epic",
          "Common",
          "Common",
          "Rare"
         ],
         "x0": " ",
         "xaxis": "x",
         "y": {
          "bdata": "AAAAAAAAVEAAAAAAAABZQAAAAAAAAFRAAAAAAABAVUAAAAAAAIBbQAAAAAAAAFRAAAAAAAAATkAAAAAAAMBSQAAAAAAAgFFAAAAAAACAUUAAAAAAAIBRQAAAAAAAQFVAAAAAAABAX0AAAAAAAIBRQAAAAAAAwFdAAAAAAABAWkAAAAAAAABUQAAAAAAAQFpAAAAAAACAUUAAAAAAAMBcQAAAAAAAgFtA",
          "dtype": "f8"
         },
         "y0": " ",
         "yaxis": "y"
        },
        {
         "alignmentgroup": "True",
         "hovertemplate": "Element Type=Normal<br>Rarity=%{x}<br>Defense=%{y}<extra></extra>",
         "legendgroup": "Normal",
         "marker": {
          "color": "#FF97FF"
         },
         "name": "Normal",
         "notched": false,
         "offsetgroup": "Normal",
         "orientation": "v",
         "showlegend": true,
         "type": "box",
         "x": [
          "Common",
          "Common",
          "Rare",
          "Common",
          "Common",
          "Common",
          "Rare",
          "Common",
          "Common",
          "Common",
          "Common",
          "Rare",
          "Rare",
          "Common",
          "Common",
          "Epic",
          "Common",
          "Rare",
          "Rare",
          "Common",
          "Rare",
          "Common",
          "Common",
          "Legendary",
          "Common",
          "Common",
          "Common",
          "Common",
          "Common",
          "Common"
         ],
         "x0": " ",
         "xaxis": "x",
         "y": {
          "bdata": "AAAAAACAUUAAAAAAAABUQAAAAAAAAFlAAAAAAAAATkAAAAAAAMBSQAAAAAAAwFJAAAAAAAAAWUAAAAAAAABUQAAAAAAAgFZAAAAAAACAVkAAAAAAAABOQAAAAAAAgFZAAAAAAAAAVEAAAAAAAMBXQAAAAAAAQFVAAAAAAACAVkAAAAAAAIBRQAAAAAAAgFFAAAAAAACAVkAAAAAAAIBWQAAAAAAAQGBAAAAAAAAAVEAAAAAAAABUQAAAAAAAIGJAAAAAAABAWkAAAAAAAIBRQAAAAAAAgFFAAAAAAACAUUAAAAAAAIBWQAAAAAAAQFVA",
          "dtype": "f8"
         },
         "y0": " ",
         "yaxis": "y"
        }
       ],
       "layout": {
        "boxmode": "group",
        "legend": {
         "title": {
          "text": "Element Type"
         },
         "tracegroupgap": 0
        },
        "template": {
         "data": {
          "bar": [
           {
            "error_x": {
             "color": "#2a3f5f"
            },
            "error_y": {
             "color": "#2a3f5f"
            },
            "marker": {
             "line": {
              "color": "#E5ECF6",
              "width": 0.5
             },
             "pattern": {
              "fillmode": "overlay",
              "size": 10,
              "solidity": 0.2
             }
            },
            "type": "bar"
           }
          ],
          "barpolar": [
           {
            "marker": {
             "line": {
              "color": "#E5ECF6",
              "width": 0.5
             },
             "pattern": {
              "fillmode": "overlay",
              "size": 10,
              "solidity": 0.2
             }
            },
            "type": "barpolar"
           }
          ],
          "carpet": [
           {
            "aaxis": {
             "endlinecolor": "#2a3f5f",
             "gridcolor": "white",
             "linecolor": "white",
             "minorgridcolor": "white",
             "startlinecolor": "#2a3f5f"
            },
            "baxis": {
             "endlinecolor": "#2a3f5f",
             "gridcolor": "white",
             "linecolor": "white",
             "minorgridcolor": "white",
             "startlinecolor": "#2a3f5f"
            },
            "type": "carpet"
           }
          ],
          "choropleth": [
           {
            "colorbar": {
             "outlinewidth": 0,
             "ticks": ""
            },
            "type": "choropleth"
           }
          ],
          "contour": [
           {
            "colorbar": {
             "outlinewidth": 0,
             "ticks": ""
            },
            "colorscale": [
             [
              0,
              "#0d0887"
             ],
             [
              0.1111111111111111,
              "#46039f"
             ],
             [
              0.2222222222222222,
              "#7201a8"
             ],
             [
              0.3333333333333333,
              "#9c179e"
             ],
             [
              0.4444444444444444,
              "#bd3786"
             ],
             [
              0.5555555555555556,
              "#d8576b"
             ],
             [
              0.6666666666666666,
              "#ed7953"
             ],
             [
              0.7777777777777778,
              "#fb9f3a"
             ],
             [
              0.8888888888888888,
              "#fdca26"
             ],
             [
              1,
              "#f0f921"
             ]
            ],
            "type": "contour"
           }
          ],
          "contourcarpet": [
           {
            "colorbar": {
             "outlinewidth": 0,
             "ticks": ""
            },
            "type": "contourcarpet"
           }
          ],
          "heatmap": [
           {
            "colorbar": {
             "outlinewidth": 0,
             "ticks": ""
            },
            "colorscale": [
             [
              0,
              "#0d0887"
             ],
             [
              0.1111111111111111,
              "#46039f"
             ],
             [
              0.2222222222222222,
              "#7201a8"
             ],
             [
              0.3333333333333333,
              "#9c179e"
             ],
             [
              0.4444444444444444,
              "#bd3786"
             ],
             [
              0.5555555555555556,
              "#d8576b"
             ],
             [
              0.6666666666666666,
              "#ed7953"
             ],
             [
              0.7777777777777778,
              "#fb9f3a"
             ],
             [
              0.8888888888888888,
              "#fdca26"
             ],
             [
              1,
              "#f0f921"
             ]
            ],
            "type": "heatmap"
           }
          ],
          "histogram": [
           {
            "marker": {
             "pattern": {
              "fillmode": "overlay",
              "size": 10,
              "solidity": 0.2
             }
            },
            "type": "histogram"
           }
          ],
          "histogram2d": [
           {
            "colorbar": {
             "outlinewidth": 0,
             "ticks": ""
            },
            "colorscale": [
             [
              0,
              "#0d0887"
             ],
             [
              0.1111111111111111,
              "#46039f"
             ],
             [
              0.2222222222222222,
              "#7201a8"
             ],
             [
              0.3333333333333333,
              "#9c179e"
             ],
             [
              0.4444444444444444,
              "#bd3786"
             ],
             [
              0.5555555555555556,
              "#d8576b"
             ],
             [
              0.6666666666666666,
              "#ed7953"
             ],
             [
              0.7777777777777778,
              "#fb9f3a"
             ],
             [
              0.8888888888888888,
              "#fdca26"
             ],
             [
              1,
              "#f0f921"
             ]
            ],
            "type": "histogram2d"
           }
          ],
          "histogram2dcontour": [
           {
            "colorbar": {
             "outlinewidth": 0,
             "ticks": ""
            },
            "colorscale": [
             [
              0,
              "#0d0887"
             ],
             [
              0.1111111111111111,
              "#46039f"
             ],
             [
              0.2222222222222222,
              "#7201a8"
             ],
             [
              0.3333333333333333,
              "#9c179e"
             ],
             [
              0.4444444444444444,
              "#bd3786"
             ],
             [
              0.5555555555555556,
              "#d8576b"
             ],
             [
              0.6666666666666666,
              "#ed7953"
             ],
             [
              0.7777777777777778,
              "#fb9f3a"
             ],
             [
              0.8888888888888888,
              "#fdca26"
             ],
             [
              1,
              "#f0f921"
             ]
            ],
            "type": "histogram2dcontour"
           }
          ],
          "mesh3d": [
           {
            "colorbar": {
             "outlinewidth": 0,
             "ticks": ""
            },
            "type": "mesh3d"
           }
          ],
          "parcoords": [
           {
            "line": {
             "colorbar": {
              "outlinewidth": 0,
              "ticks": ""
             }
            },
            "type": "parcoords"
           }
          ],
          "pie": [
           {
            "automargin": true,
            "type": "pie"
           }
          ],
          "scatter": [
           {
            "fillpattern": {
             "fillmode": "overlay",
             "size": 10,
             "solidity": 0.2
            },
            "type": "scatter"
           }
          ],
          "scatter3d": [
           {
            "line": {
             "colorbar": {
              "outlinewidth": 0,
              "ticks": ""
             }
            },
            "marker": {
             "colorbar": {
              "outlinewidth": 0,
              "ticks": ""
             }
            },
            "type": "scatter3d"
           }
          ],
          "scattercarpet": [
           {
            "marker": {
             "colorbar": {
              "outlinewidth": 0,
              "ticks": ""
             }
            },
            "type": "scattercarpet"
           }
          ],
          "scattergeo": [
           {
            "marker": {
             "colorbar": {
              "outlinewidth": 0,
              "ticks": ""
             }
            },
            "type": "scattergeo"
           }
          ],
          "scattergl": [
           {
            "marker": {
             "colorbar": {
              "outlinewidth": 0,
              "ticks": ""
             }
            },
            "type": "scattergl"
           }
          ],
          "scattermap": [
           {
            "marker": {
             "colorbar": {
              "outlinewidth": 0,
              "ticks": ""
             }
            },
            "type": "scattermap"
           }
          ],
          "scattermapbox": [
           {
            "marker": {
             "colorbar": {
              "outlinewidth": 0,
              "ticks": ""
             }
            },
            "type": "scattermapbox"
           }
          ],
          "scatterpolar": [
           {
            "marker": {
             "colorbar": {
              "outlinewidth": 0,
              "ticks": ""
             }
            },
            "type": "scatterpolar"
           }
          ],
          "scatterpolargl": [
           {
            "marker": {
             "colorbar": {
              "outlinewidth": 0,
              "ticks": ""
             }
            },
            "type": "scatterpolargl"
           }
          ],
          "scatterternary": [
           {
            "marker": {
             "colorbar": {
              "outlinewidth": 0,
              "ticks": ""
             }
            },
            "type": "scatterternary"
           }
          ],
          "surface": [
           {
            "colorbar": {
             "outlinewidth": 0,
             "ticks": ""
            },
            "colorscale": [
             [
              0,
              "#0d0887"
             ],
             [
              0.1111111111111111,
              "#46039f"
             ],
             [
              0.2222222222222222,
              "#7201a8"
             ],
             [
              0.3333333333333333,
              "#9c179e"
             ],
             [
              0.4444444444444444,
              "#bd3786"
             ],
             [
              0.5555555555555556,
              "#d8576b"
             ],
             [
              0.6666666666666666,
              "#ed7953"
             ],
             [
              0.7777777777777778,
              "#fb9f3a"
             ],
             [
              0.8888888888888888,
              "#fdca26"
             ],
             [
              1,
              "#f0f921"
             ]
            ],
            "type": "surface"
           }
          ],
          "table": [
           {
            "cells": {
             "fill": {
              "color": "#EBF0F8"
             },
             "line": {
              "color": "white"
             }
            },
            "header": {
             "fill": {
              "color": "#C8D4E3"
             },
             "line": {
              "color": "white"
             }
            },
            "type": "table"
           }
          ]
         },
         "layout": {
          "annotationdefaults": {
           "arrowcolor": "#2a3f5f",
           "arrowhead": 0,
           "arrowwidth": 1
          },
          "autotypenumbers": "strict",
          "coloraxis": {
           "colorbar": {
            "outlinewidth": 0,
            "ticks": ""
           }
          },
          "colorscale": {
           "diverging": [
            [
             0,
             "#8e0152"
            ],
            [
             0.1,
             "#c51b7d"
            ],
            [
             0.2,
             "#de77ae"
            ],
            [
             0.3,
             "#f1b6da"
            ],
            [
             0.4,
             "#fde0ef"
            ],
            [
             0.5,
             "#f7f7f7"
            ],
            [
             0.6,
             "#e6f5d0"
            ],
            [
             0.7,
             "#b8e186"
            ],
            [
             0.8,
             "#7fbc41"
            ],
            [
             0.9,
             "#4d9221"
            ],
            [
             1,
             "#276419"
            ]
           ],
           "sequential": [
            [
             0,
             "#0d0887"
            ],
            [
             0.1111111111111111,
             "#46039f"
            ],
            [
             0.2222222222222222,
             "#7201a8"
            ],
            [
             0.3333333333333333,
             "#9c179e"
            ],
            [
             0.4444444444444444,
             "#bd3786"
            ],
            [
             0.5555555555555556,
             "#d8576b"
            ],
            [
             0.6666666666666666,
             "#ed7953"
            ],
            [
             0.7777777777777778,
             "#fb9f3a"
            ],
            [
             0.8888888888888888,
             "#fdca26"
            ],
            [
             1,
             "#f0f921"
            ]
           ],
           "sequentialminus": [
            [
             0,
             "#0d0887"
            ],
            [
             0.1111111111111111,
             "#46039f"
            ],
            [
             0.2222222222222222,
             "#7201a8"
            ],
            [
             0.3333333333333333,
             "#9c179e"
            ],
            [
             0.4444444444444444,
             "#bd3786"
            ],
            [
             0.5555555555555556,
             "#d8576b"
            ],
            [
             0.6666666666666666,
             "#ed7953"
            ],
            [
             0.7777777777777778,
             "#fb9f3a"
            ],
            [
             0.8888888888888888,
             "#fdca26"
            ],
            [
             1,
             "#f0f921"
            ]
           ]
          },
          "colorway": [
           "#636efa",
           "#EF553B",
           "#00cc96",
           "#ab63fa",
           "#FFA15A",
           "#19d3f3",
           "#FF6692",
           "#B6E880",
           "#FF97FF",
           "#FECB52"
          ],
          "font": {
           "color": "#2a3f5f"
          },
          "geo": {
           "bgcolor": "white",
           "lakecolor": "white",
           "landcolor": "#E5ECF6",
           "showlakes": true,
           "showland": true,
           "subunitcolor": "white"
          },
          "hoverlabel": {
           "align": "left"
          },
          "hovermode": "closest",
          "mapbox": {
           "style": "light"
          },
          "paper_bgcolor": "white",
          "plot_bgcolor": "#E5ECF6",
          "polar": {
           "angularaxis": {
            "gridcolor": "white",
            "linecolor": "white",
            "ticks": ""
           },
           "bgcolor": "#E5ECF6",
           "radialaxis": {
            "gridcolor": "white",
            "linecolor": "white",
            "ticks": ""
           }
          },
          "scene": {
           "xaxis": {
            "backgroundcolor": "#E5ECF6",
            "gridcolor": "white",
            "gridwidth": 2,
            "linecolor": "white",
            "showbackground": true,
            "ticks": "",
            "zerolinecolor": "white"
           },
           "yaxis": {
            "backgroundcolor": "#E5ECF6",
            "gridcolor": "white",
            "gridwidth": 2,
            "linecolor": "white",
            "showbackground": true,
            "ticks": "",
            "zerolinecolor": "white"
           },
           "zaxis": {
            "backgroundcolor": "#E5ECF6",
            "gridcolor": "white",
            "gridwidth": 2,
            "linecolor": "white",
            "showbackground": true,
            "ticks": "",
            "zerolinecolor": "white"
           }
          },
          "shapedefaults": {
           "line": {
            "color": "#2a3f5f"
           }
          },
          "ternary": {
           "aaxis": {
            "gridcolor": "white",
            "linecolor": "white",
            "ticks": ""
           },
           "baxis": {
            "gridcolor": "white",
            "linecolor": "white",
            "ticks": ""
           },
           "bgcolor": "#E5ECF6",
           "caxis": {
            "gridcolor": "white",
            "linecolor": "white",
            "ticks": ""
           }
          },
          "title": {
           "x": 0.05
          },
          "xaxis": {
           "automargin": true,
           "gridcolor": "white",
           "linecolor": "white",
           "ticks": "",
           "title": {
            "standoff": 15
           },
           "zerolinecolor": "white",
           "zerolinewidth": 2
          },
          "yaxis": {
           "automargin": true,
           "gridcolor": "white",
           "linecolor": "white",
           "ticks": "",
           "title": {
            "standoff": 15
           },
           "zerolinecolor": "white",
           "zerolinewidth": 2
          }
         }
        },
        "title": {
         "text": "Defense Distribution by Rarity"
        },
        "xaxis": {
         "anchor": "y",
         "domain": [
          0,
          1
         ],
         "title": {
          "text": "Rarity"
         }
        },
        "yaxis": {
         "anchor": "x",
         "domain": [
          0,
          1
         ],
         "title": {
          "text": "Defense"
         }
        }
       }
      }
     },
     "metadata": {},
     "output_type": "display_data"
    }
   ],
   "source": [
    "import pandas as pd\n",
    "import plotly.express as px\n",
    "\n",
    "\n",
    "# --- Detect work-type columns ---\n",
    "work_list = ['Handiwork', 'Mining',\n",
    "       'Transporting', 'Deforesting',\n",
    "       'Kindling', 'Gathering', 'Generating Electricity', 'Watering',\n",
    "       'Cooling', 'Farming', 'Medicine Production', 'Planting']\n",
    "work_columns = pal_frame[work_list]\n",
    "\n",
    "\n",
    "def build_features(df, work_cols):\n",
    "    out = df.copy()\n",
    "    for idx in range(len(work_cols)):\n",
    "        pal = work_cols.iloc[idx, :]\n",
    "        pal = pal.dropna()\n",
    "        out.loc[pal.name, \"Highest Work Suitability Level\"] = pal.sort_values(ascending = False).iloc[0]\n",
    "        out.loc[pal.name, \"Work Types\"] = \", \".join(pal.index)\n",
    "        out.loc[pal.name, \"Work Skill Count\"] = len(pal.index)\n",
    "\n",
    "    return out\n",
    "\n",
    "# --- Prepare data ---\n",
    "pal_frame_vis = build_features(pal_frame, work_columns)\n",
    "\n",
    "# --- 1. Scatter Plot ---\n",
    "fig1 = px.scatter(\n",
    "    pal_frame_vis.sort_values(by = \"Highest Work Suitability Level\", ascending = True),\n",
    "    x=\"Highest Work Suitability Level\",\n",
    "    y=\"HP\",\n",
    "    color=\"Element Type\",\n",
    "    hover_data={\"ID\":True, \"Rarity\":True, \"Work Types\":True},\n",
    "    title=\"Work Suitability vs HP by Element Type\"\n",
    ")\n",
    "fig1.show()\n",
    "\n",
    "# --- 2. Grouped Bar Chart ---\n",
    "melted = pal_frame_vis.melt(\n",
    "    id_vars=[\"Element Type\"],\n",
    "    value_vars=work_columns,\n",
    "    var_name=\"Work Type\",\n",
    "    value_name=\"Level\"\n",
    ")\n",
    "melted[\"Level\"] = pd.to_numeric(melted[\"Level\"], errors=\"coerce\")\n",
    "melted = melted.dropna(subset=[\"Level\"])\n",
    "    \n",
    "agg_df = (melted.groupby([\"Element Type\", \"Work Type\"], as_index=False, observed=True)\n",
    "          .agg(Level=(\"Level\", \"mean\")))\n",
    "    \n",
    "fig2 = px.bar(\n",
    "    agg_df,\n",
    "    x=\"Element Type\", y=\"Level\", color=\"Work Type\",\n",
    "    barmode=\"group\",\n",
    "    title=\"Average Work Suitability Level by Element Type & Work Type\"\n",
    ")\n",
    "fig2.show()\n",
    "\n",
    "\n",
    "# --- 3. Heatmap ---\n",
    "heat_df = pal_frame_vis.groupby([\"Rarity\",\"Work Skill Count\"]).size().reset_index(name=\"Count\")\n",
    "fig3 = px.density_heatmap(\n",
    "    heat_df,\n",
    "    x=\"Work Skill Count\", y=\"Rarity\", z=\"Count\", color_continuous_scale=\"Viridis\",\n",
    "    title=\"Rarity vs. Number of Work Suitabilities (Frequency)\"\n",
    ")\n",
    "fig3.show()\n",
    "\n",
    "# --- 4. Boxplots ---\n",
    "fig4 = px.box(pal_frame_vis, x=\"Rarity\", y=\"HP\", color=\"Element Type\",\n",
    "              title=\"HP Distribution by Rarity\")\n",
    "fig4.show()\n",
    "fig5 = px.box(pal_frame_vis, x=\"Rarity\", y=\"Defense\", color=\"Element Type\",\n",
    "              title=\"Defense Distribution by Rarity\")\n",
    "fig5.show()\n"
   ]
  }
 ],
 "metadata": {
  "kernelspec": {
   "display_name": "base",
   "language": "python",
   "name": "python3"
  },
  "language_info": {
   "codemirror_mode": {
    "name": "ipython",
    "version": 3
   },
   "file_extension": ".py",
   "mimetype": "text/x-python",
   "name": "python",
   "nbconvert_exporter": "python",
   "pygments_lexer": "ipython3",
   "version": "3.13.5"
  }
 },
 "nbformat": 4,
 "nbformat_minor": 4
}
